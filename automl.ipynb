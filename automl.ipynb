{
 "cells": [
  {
   "cell_type": "markdown",
   "metadata": {},
   "source": [
    "# Automated ML\n",
    "\n",
    "TODO: Import Dependencies. In the cell below, import all the dependencies that you will need to complete the project."
   ]
  },
  {
   "cell_type": "code",
   "execution_count": 1,
   "metadata": {
    "collapsed": false,
    "gather": {
     "logged": 1598423888013
    },
    "jupyter": {
     "outputs_hidden": false,
     "source_hidden": false
    },
    "nteract": {
     "transient": {
      "deleting": false
     }
    }
   },
   "outputs": [
    {
     "name": "stdout",
     "output_type": "stream",
     "text": [
      "SDK version: 1.32.0\n"
     ]
    }
   ],
   "source": [
    "import logging\n",
    "import os\n",
    "import csv\n",
    "import joblib, pickle\n",
    "\n",
    "from matplotlib import pyplot as plt\n",
    "import numpy as np\n",
    "import pandas as pd\n",
    "\n",
    "import azureml.core\n",
    "from azureml.core.experiment import Experiment\n",
    "from azureml.core.workspace import Workspace\n",
    "from azureml.train.automl import AutoMLConfig\n",
    "from azureml.core.dataset import Dataset\n",
    "from azureml.data.dataset_factory import TabularDatasetFactory\n",
    "\n",
    "#from azureml.pipeline.steps import AutoMLStep\n",
    "\n",
    "# Check core SDK version number\n",
    "print(\"SDK version:\", azureml.core.VERSION)"
   ]
  },
  {
   "cell_type": "markdown",
   "metadata": {},
   "source": [
    "## Dataset\n",
    "\n",
    "### Overview\n",
    "TODO: In this markdown cell, give an overview of the dataset you are using. Also mention the task you will be performing.\n",
    "\n",
    "\n",
    "TODO: Get data. In the cell below, write code to access the data you will be using in this project. Remember that the dataset needs to be external."
   ]
  },
  {
   "cell_type": "code",
   "execution_count": 2,
   "metadata": {
    "collapsed": false,
    "gather": {
     "logged": 1598423890461
    },
    "jupyter": {
     "outputs_hidden": false,
     "source_hidden": false
    },
    "nteract": {
     "transient": {
      "deleting": false
     }
    }
   },
   "outputs": [],
   "source": [
    "ws = Workspace.from_config()\n",
    "\n",
    "# choose a name for experiment\n",
    "experiment_name = 'capstone-project'\n",
    "\n",
    "experiment=Experiment(ws, experiment_name)"
   ]
  },
  {
   "cell_type": "code",
   "execution_count": 3,
   "metadata": {},
   "outputs": [],
   "source": [
    "from azureml.core.compute import ComputeTarget, AmlCompute\n",
    "from azureml.core.compute_target import ComputeTargetException\n",
    "\n",
    "compute_cluster = 'automl-cluster'\n",
    "\n",
    "try:\n",
    "    comp_trget = ComputeTarget(workspace=ws, name=compute_cluster)\n",
    "    print('Cluster already exists')\n",
    "except ComputeTargetException:\n",
    "    compute_confg = AmlCompute.provisioning_configuration(vm_size=\"STANDARD_D2_V2\",max_nodes=4) ## VER\n",
    "    comp_trget = ComputeTarget.create(ws,compute_cluster,compute_confg)"
   ]
  },
  {
   "cell_type": "code",
   "execution_count": 5,
   "metadata": {},
   "outputs": [],
   "source": [
    "data_link = 'https://raw.githubusercontent.com/fcgomezr/Udacity-Project-3/main/data%20sets/bank-full.csv'\n",
    "input_data = TabularDatasetFactory.from_delimited_files(path=data_link, separator = \";\")"
   ]
  },
  {
   "cell_type": "code",
   "execution_count": 6,
   "metadata": {},
   "outputs": [
    {
     "data": {
      "text/html": [
       "<div>\n",
       "<style scoped>\n",
       "    .dataframe tbody tr th:only-of-type {\n",
       "        vertical-align: middle;\n",
       "    }\n",
       "\n",
       "    .dataframe tbody tr th {\n",
       "        vertical-align: top;\n",
       "    }\n",
       "\n",
       "    .dataframe thead th {\n",
       "        text-align: right;\n",
       "    }\n",
       "</style>\n",
       "<table border=\"1\" class=\"dataframe\">\n",
       "  <thead>\n",
       "    <tr style=\"text-align: right;\">\n",
       "      <th></th>\n",
       "      <th>age</th>\n",
       "      <th>job</th>\n",
       "      <th>marital</th>\n",
       "      <th>education</th>\n",
       "      <th>default</th>\n",
       "      <th>balance</th>\n",
       "      <th>housing</th>\n",
       "      <th>loan</th>\n",
       "      <th>contact</th>\n",
       "      <th>day</th>\n",
       "      <th>month</th>\n",
       "      <th>duration</th>\n",
       "      <th>campaign</th>\n",
       "      <th>pdays</th>\n",
       "      <th>previous</th>\n",
       "      <th>poutcome</th>\n",
       "      <th>y</th>\n",
       "    </tr>\n",
       "  </thead>\n",
       "  <tbody>\n",
       "    <tr>\n",
       "      <th>0</th>\n",
       "      <td>58</td>\n",
       "      <td>management</td>\n",
       "      <td>married</td>\n",
       "      <td>tertiary</td>\n",
       "      <td>no</td>\n",
       "      <td>2143</td>\n",
       "      <td>yes</td>\n",
       "      <td>no</td>\n",
       "      <td>unknown</td>\n",
       "      <td>5</td>\n",
       "      <td>may</td>\n",
       "      <td>261</td>\n",
       "      <td>1</td>\n",
       "      <td>-1</td>\n",
       "      <td>0</td>\n",
       "      <td>unknown</td>\n",
       "      <td>no</td>\n",
       "    </tr>\n",
       "    <tr>\n",
       "      <th>1</th>\n",
       "      <td>44</td>\n",
       "      <td>technician</td>\n",
       "      <td>single</td>\n",
       "      <td>secondary</td>\n",
       "      <td>no</td>\n",
       "      <td>29</td>\n",
       "      <td>yes</td>\n",
       "      <td>no</td>\n",
       "      <td>unknown</td>\n",
       "      <td>5</td>\n",
       "      <td>may</td>\n",
       "      <td>151</td>\n",
       "      <td>1</td>\n",
       "      <td>-1</td>\n",
       "      <td>0</td>\n",
       "      <td>unknown</td>\n",
       "      <td>no</td>\n",
       "    </tr>\n",
       "    <tr>\n",
       "      <th>2</th>\n",
       "      <td>33</td>\n",
       "      <td>entrepreneur</td>\n",
       "      <td>married</td>\n",
       "      <td>secondary</td>\n",
       "      <td>no</td>\n",
       "      <td>2</td>\n",
       "      <td>yes</td>\n",
       "      <td>yes</td>\n",
       "      <td>unknown</td>\n",
       "      <td>5</td>\n",
       "      <td>may</td>\n",
       "      <td>76</td>\n",
       "      <td>1</td>\n",
       "      <td>-1</td>\n",
       "      <td>0</td>\n",
       "      <td>unknown</td>\n",
       "      <td>no</td>\n",
       "    </tr>\n",
       "    <tr>\n",
       "      <th>3</th>\n",
       "      <td>47</td>\n",
       "      <td>blue-collar</td>\n",
       "      <td>married</td>\n",
       "      <td>unknown</td>\n",
       "      <td>no</td>\n",
       "      <td>1506</td>\n",
       "      <td>yes</td>\n",
       "      <td>no</td>\n",
       "      <td>unknown</td>\n",
       "      <td>5</td>\n",
       "      <td>may</td>\n",
       "      <td>92</td>\n",
       "      <td>1</td>\n",
       "      <td>-1</td>\n",
       "      <td>0</td>\n",
       "      <td>unknown</td>\n",
       "      <td>no</td>\n",
       "    </tr>\n",
       "    <tr>\n",
       "      <th>4</th>\n",
       "      <td>33</td>\n",
       "      <td>unknown</td>\n",
       "      <td>single</td>\n",
       "      <td>unknown</td>\n",
       "      <td>no</td>\n",
       "      <td>1</td>\n",
       "      <td>no</td>\n",
       "      <td>no</td>\n",
       "      <td>unknown</td>\n",
       "      <td>5</td>\n",
       "      <td>may</td>\n",
       "      <td>198</td>\n",
       "      <td>1</td>\n",
       "      <td>-1</td>\n",
       "      <td>0</td>\n",
       "      <td>unknown</td>\n",
       "      <td>no</td>\n",
       "    </tr>\n",
       "    <tr>\n",
       "      <th>...</th>\n",
       "      <td>...</td>\n",
       "      <td>...</td>\n",
       "      <td>...</td>\n",
       "      <td>...</td>\n",
       "      <td>...</td>\n",
       "      <td>...</td>\n",
       "      <td>...</td>\n",
       "      <td>...</td>\n",
       "      <td>...</td>\n",
       "      <td>...</td>\n",
       "      <td>...</td>\n",
       "      <td>...</td>\n",
       "      <td>...</td>\n",
       "      <td>...</td>\n",
       "      <td>...</td>\n",
       "      <td>...</td>\n",
       "      <td>...</td>\n",
       "    </tr>\n",
       "    <tr>\n",
       "      <th>45206</th>\n",
       "      <td>51</td>\n",
       "      <td>technician</td>\n",
       "      <td>married</td>\n",
       "      <td>tertiary</td>\n",
       "      <td>no</td>\n",
       "      <td>825</td>\n",
       "      <td>no</td>\n",
       "      <td>no</td>\n",
       "      <td>cellular</td>\n",
       "      <td>17</td>\n",
       "      <td>nov</td>\n",
       "      <td>977</td>\n",
       "      <td>3</td>\n",
       "      <td>-1</td>\n",
       "      <td>0</td>\n",
       "      <td>unknown</td>\n",
       "      <td>yes</td>\n",
       "    </tr>\n",
       "    <tr>\n",
       "      <th>45207</th>\n",
       "      <td>71</td>\n",
       "      <td>retired</td>\n",
       "      <td>divorced</td>\n",
       "      <td>primary</td>\n",
       "      <td>no</td>\n",
       "      <td>1729</td>\n",
       "      <td>no</td>\n",
       "      <td>no</td>\n",
       "      <td>cellular</td>\n",
       "      <td>17</td>\n",
       "      <td>nov</td>\n",
       "      <td>456</td>\n",
       "      <td>2</td>\n",
       "      <td>-1</td>\n",
       "      <td>0</td>\n",
       "      <td>unknown</td>\n",
       "      <td>yes</td>\n",
       "    </tr>\n",
       "    <tr>\n",
       "      <th>45208</th>\n",
       "      <td>72</td>\n",
       "      <td>retired</td>\n",
       "      <td>married</td>\n",
       "      <td>secondary</td>\n",
       "      <td>no</td>\n",
       "      <td>5715</td>\n",
       "      <td>no</td>\n",
       "      <td>no</td>\n",
       "      <td>cellular</td>\n",
       "      <td>17</td>\n",
       "      <td>nov</td>\n",
       "      <td>1127</td>\n",
       "      <td>5</td>\n",
       "      <td>184</td>\n",
       "      <td>3</td>\n",
       "      <td>success</td>\n",
       "      <td>yes</td>\n",
       "    </tr>\n",
       "    <tr>\n",
       "      <th>45209</th>\n",
       "      <td>57</td>\n",
       "      <td>blue-collar</td>\n",
       "      <td>married</td>\n",
       "      <td>secondary</td>\n",
       "      <td>no</td>\n",
       "      <td>668</td>\n",
       "      <td>no</td>\n",
       "      <td>no</td>\n",
       "      <td>telephone</td>\n",
       "      <td>17</td>\n",
       "      <td>nov</td>\n",
       "      <td>508</td>\n",
       "      <td>4</td>\n",
       "      <td>-1</td>\n",
       "      <td>0</td>\n",
       "      <td>unknown</td>\n",
       "      <td>no</td>\n",
       "    </tr>\n",
       "    <tr>\n",
       "      <th>45210</th>\n",
       "      <td>37</td>\n",
       "      <td>entrepreneur</td>\n",
       "      <td>married</td>\n",
       "      <td>secondary</td>\n",
       "      <td>no</td>\n",
       "      <td>2971</td>\n",
       "      <td>no</td>\n",
       "      <td>no</td>\n",
       "      <td>cellular</td>\n",
       "      <td>17</td>\n",
       "      <td>nov</td>\n",
       "      <td>361</td>\n",
       "      <td>2</td>\n",
       "      <td>188</td>\n",
       "      <td>11</td>\n",
       "      <td>other</td>\n",
       "      <td>no</td>\n",
       "    </tr>\n",
       "  </tbody>\n",
       "</table>\n",
       "<p>45211 rows × 17 columns</p>\n",
       "</div>"
      ],
      "text/plain": [
       "       age           job   marital  education default  balance housing loan  \\\n",
       "0       58    management   married   tertiary      no     2143     yes   no   \n",
       "1       44    technician    single  secondary      no       29     yes   no   \n",
       "2       33  entrepreneur   married  secondary      no        2     yes  yes   \n",
       "3       47   blue-collar   married    unknown      no     1506     yes   no   \n",
       "4       33       unknown    single    unknown      no        1      no   no   \n",
       "...    ...           ...       ...        ...     ...      ...     ...  ...   \n",
       "45206   51    technician   married   tertiary      no      825      no   no   \n",
       "45207   71       retired  divorced    primary      no     1729      no   no   \n",
       "45208   72       retired   married  secondary      no     5715      no   no   \n",
       "45209   57   blue-collar   married  secondary      no      668      no   no   \n",
       "45210   37  entrepreneur   married  secondary      no     2971      no   no   \n",
       "\n",
       "         contact  day month  duration  campaign  pdays  previous poutcome    y  \n",
       "0        unknown    5   may       261         1     -1         0  unknown   no  \n",
       "1        unknown    5   may       151         1     -1         0  unknown   no  \n",
       "2        unknown    5   may        76         1     -1         0  unknown   no  \n",
       "3        unknown    5   may        92         1     -1         0  unknown   no  \n",
       "4        unknown    5   may       198         1     -1         0  unknown   no  \n",
       "...          ...  ...   ...       ...       ...    ...       ...      ...  ...  \n",
       "45206   cellular   17   nov       977         3     -1         0  unknown  yes  \n",
       "45207   cellular   17   nov       456         2     -1         0  unknown  yes  \n",
       "45208   cellular   17   nov      1127         5    184         3  success  yes  \n",
       "45209  telephone   17   nov       508         4     -1         0  unknown   no  \n",
       "45210   cellular   17   nov       361         2    188        11    other   no  \n",
       "\n",
       "[45211 rows x 17 columns]"
      ]
     },
     "execution_count": 6,
     "metadata": {},
     "output_type": "execute_result"
    }
   ],
   "source": [
    "complete_data = input_data.to_pandas_dataframe()\n",
    "complete_data "
   ]
  },
  {
   "cell_type": "code",
   "execution_count": 7,
   "metadata": {},
   "outputs": [
    {
     "data": {
      "text/html": [
       "<div>\n",
       "<style scoped>\n",
       "    .dataframe tbody tr th:only-of-type {\n",
       "        vertical-align: middle;\n",
       "    }\n",
       "\n",
       "    .dataframe tbody tr th {\n",
       "        vertical-align: top;\n",
       "    }\n",
       "\n",
       "    .dataframe thead th {\n",
       "        text-align: right;\n",
       "    }\n",
       "</style>\n",
       "<table border=\"1\" class=\"dataframe\">\n",
       "  <thead>\n",
       "    <tr style=\"text-align: right;\">\n",
       "      <th></th>\n",
       "      <th>age</th>\n",
       "      <th>job</th>\n",
       "      <th>marital</th>\n",
       "      <th>education</th>\n",
       "      <th>default</th>\n",
       "      <th>balance</th>\n",
       "      <th>housing</th>\n",
       "      <th>loan</th>\n",
       "      <th>contact</th>\n",
       "      <th>day</th>\n",
       "      <th>month</th>\n",
       "      <th>duration</th>\n",
       "      <th>campaign</th>\n",
       "      <th>pdays</th>\n",
       "      <th>previous</th>\n",
       "      <th>poutcome</th>\n",
       "      <th>y</th>\n",
       "    </tr>\n",
       "  </thead>\n",
       "  <tbody>\n",
       "    <tr>\n",
       "      <th>15350</th>\n",
       "      <td>34</td>\n",
       "      <td>technician</td>\n",
       "      <td>married</td>\n",
       "      <td>secondary</td>\n",
       "      <td>no</td>\n",
       "      <td>351</td>\n",
       "      <td>yes</td>\n",
       "      <td>no</td>\n",
       "      <td>cellular</td>\n",
       "      <td>18</td>\n",
       "      <td>jul</td>\n",
       "      <td>467</td>\n",
       "      <td>1</td>\n",
       "      <td>-1</td>\n",
       "      <td>0</td>\n",
       "      <td>unknown</td>\n",
       "      <td>no</td>\n",
       "    </tr>\n",
       "    <tr>\n",
       "      <th>12001</th>\n",
       "      <td>55</td>\n",
       "      <td>retired</td>\n",
       "      <td>married</td>\n",
       "      <td>secondary</td>\n",
       "      <td>no</td>\n",
       "      <td>241</td>\n",
       "      <td>yes</td>\n",
       "      <td>no</td>\n",
       "      <td>unknown</td>\n",
       "      <td>20</td>\n",
       "      <td>jun</td>\n",
       "      <td>14</td>\n",
       "      <td>6</td>\n",
       "      <td>-1</td>\n",
       "      <td>0</td>\n",
       "      <td>unknown</td>\n",
       "      <td>no</td>\n",
       "    </tr>\n",
       "    <tr>\n",
       "      <th>10099</th>\n",
       "      <td>41</td>\n",
       "      <td>management</td>\n",
       "      <td>single</td>\n",
       "      <td>tertiary</td>\n",
       "      <td>no</td>\n",
       "      <td>8368</td>\n",
       "      <td>no</td>\n",
       "      <td>no</td>\n",
       "      <td>unknown</td>\n",
       "      <td>11</td>\n",
       "      <td>jun</td>\n",
       "      <td>179</td>\n",
       "      <td>1</td>\n",
       "      <td>-1</td>\n",
       "      <td>0</td>\n",
       "      <td>unknown</td>\n",
       "      <td>no</td>\n",
       "    </tr>\n",
       "    <tr>\n",
       "      <th>29232</th>\n",
       "      <td>58</td>\n",
       "      <td>retired</td>\n",
       "      <td>married</td>\n",
       "      <td>secondary</td>\n",
       "      <td>no</td>\n",
       "      <td>1227</td>\n",
       "      <td>no</td>\n",
       "      <td>no</td>\n",
       "      <td>cellular</td>\n",
       "      <td>2</td>\n",
       "      <td>feb</td>\n",
       "      <td>277</td>\n",
       "      <td>1</td>\n",
       "      <td>-1</td>\n",
       "      <td>0</td>\n",
       "      <td>unknown</td>\n",
       "      <td>no</td>\n",
       "    </tr>\n",
       "    <tr>\n",
       "      <th>18596</th>\n",
       "      <td>42</td>\n",
       "      <td>blue-collar</td>\n",
       "      <td>married</td>\n",
       "      <td>primary</td>\n",
       "      <td>no</td>\n",
       "      <td>0</td>\n",
       "      <td>yes</td>\n",
       "      <td>no</td>\n",
       "      <td>telephone</td>\n",
       "      <td>31</td>\n",
       "      <td>jul</td>\n",
       "      <td>190</td>\n",
       "      <td>4</td>\n",
       "      <td>-1</td>\n",
       "      <td>0</td>\n",
       "      <td>unknown</td>\n",
       "      <td>no</td>\n",
       "    </tr>\n",
       "  </tbody>\n",
       "</table>\n",
       "</div>"
      ],
      "text/plain": [
       "       age          job  marital  education default  balance housing loan  \\\n",
       "15350   34   technician  married  secondary      no      351     yes   no   \n",
       "12001   55      retired  married  secondary      no      241     yes   no   \n",
       "10099   41   management   single   tertiary      no     8368      no   no   \n",
       "29232   58      retired  married  secondary      no     1227      no   no   \n",
       "18596   42  blue-collar  married    primary      no        0     yes   no   \n",
       "\n",
       "         contact  day month  duration  campaign  pdays  previous poutcome   y  \n",
       "15350   cellular   18   jul       467         1     -1         0  unknown  no  \n",
       "12001    unknown   20   jun        14         6     -1         0  unknown  no  \n",
       "10099    unknown   11   jun       179         1     -1         0  unknown  no  \n",
       "29232   cellular    2   feb       277         1     -1         0  unknown  no  \n",
       "18596  telephone   31   jul       190         4     -1         0  unknown  no  "
      ]
     },
     "execution_count": 7,
     "metadata": {},
     "output_type": "execute_result"
    }
   ],
   "source": [
    "# split data into training and test data\n",
    "from sklearn.model_selection import train_test_split\n",
    "train_data, test_data = train_test_split(complete_data,test_size=0.25)\n",
    "train_data.head()"
   ]
  },
  {
   "cell_type": "code",
   "execution_count": 8,
   "metadata": {},
   "outputs": [],
   "source": [
    "train_data.to_csv(\"traindata.csv\")"
   ]
  },
  {
   "cell_type": "code",
   "execution_count": 9,
   "metadata": {},
   "outputs": [
    {
     "name": "stdout",
     "output_type": "stream",
     "text": [
      "Uploading an estimated of 9 files\n",
      "Uploading ./.amlignore\n",
      "Uploaded ./.amlignore, 1 files out of an estimated total of 9\n",
      "Uploading ./.amlignore.amltmp\n",
      "Uploaded ./.amlignore.amltmp, 2 files out of an estimated total of 9\n",
      "Uploading ./automl.ipynb\n",
      "Uploaded ./automl.ipynb, 3 files out of an estimated total of 9\n",
      "Uploading ./hyperparameter_tuning.ipynb\n",
      "Uploaded ./hyperparameter_tuning.ipynb, 4 files out of an estimated total of 9\n",
      "Uploading ./model_training.py\n",
      "Uploaded ./model_training.py, 5 files out of an estimated total of 9\n",
      "Uploading ./README.md\n",
      "Uploaded ./README.md, 6 files out of an estimated total of 9\n",
      "Uploading ./score.py\n",
      "Uploaded ./score.py, 7 files out of an estimated total of 9\n",
      "Uploading ./traindata.csv\n",
      "Uploaded ./traindata.csv, 8 files out of an estimated total of 9\n",
      "Uploading ./.ipynb_checkpoints/automl-checkpoint.ipynb\n",
      "Uploaded ./.ipynb_checkpoints/automl-checkpoint.ipynb, 9 files out of an estimated total of 9\n",
      "Uploaded 9 files\n"
     ]
    }
   ],
   "source": [
    "data_store = ws.get_default_datastore()\n",
    "data_store.upload(src_dir='./',target_path='./')\n",
    "ftrain_data = Dataset.Tabular.from_delimited_files(path = [(data_store, './traindata.csv')])"
   ]
  },
  {
   "cell_type": "code",
   "execution_count": 10,
   "metadata": {},
   "outputs": [],
   "source": [
    "temp = ftrain_data.drop_columns('Columns1')"
   ]
  },
  {
   "cell_type": "markdown",
   "metadata": {},
   "source": [
    "## AutoML Configuration\n",
    "\n",
    "TODO: Explain why you chose the automl settings and cofiguration you used below."
   ]
  },
  {
   "cell_type": "code",
   "execution_count": 11,
   "metadata": {
    "collapsed": false,
    "gather": {
     "logged": 1598429217746
    },
    "jupyter": {
     "outputs_hidden": false,
     "source_hidden": false
    },
    "nteract": {
     "transient": {
      "deleting": false
     }
    }
   },
   "outputs": [],
   "source": [
    "# TODO: Put your automl settings here\n",
    "automl_settings = {    \n",
    "    \"experiment_timeout_minutes\": 25,\n",
    "    \"max_concurrent_iterations\": 5,\n",
    "    \"primary_metric\" : 'AUC_weighted'}\n",
    "\n",
    "# TODO: Put your automl config here\n",
    "automl_config = AutoMLConfig(\n",
    "                             compute_target=comp_trget,\n",
    "                             task = \"classification\",\n",
    "                             training_data=temp,\n",
    "                             label_column_name=\"y\",   \n",
    "                             enable_early_stopping= True,\n",
    "                             featurization= 'auto',\n",
    "                             n_cross_validations=7,\n",
    "                             debug_log = \"automl_errors.log\",\n",
    "                             **automl_settings\n",
    ")"
   ]
  },
  {
   "cell_type": "code",
   "execution_count": 12,
   "metadata": {
    "collapsed": false,
    "gather": {
     "logged": 1598431107951
    },
    "jupyter": {
     "outputs_hidden": false,
     "source_hidden": false
    },
    "nteract": {
     "transient": {
      "deleting": false
     }
    }
   },
   "outputs": [
    {
     "name": "stdout",
     "output_type": "stream",
     "text": [
      "Submitting remote run.\n",
      "No run_configuration provided, running on automl-cluster with default configuration\n",
      "Running on remote compute: automl-cluster\n"
     ]
    },
    {
     "data": {
      "text/html": [
       "<table style=\"width:100%\"><tr><th>Experiment</th><th>Id</th><th>Type</th><th>Status</th><th>Details Page</th><th>Docs Page</th></tr><tr><td>capstone-project</td><td>AutoML_27c618ae-14b9-4be3-a4e3-24d7fa1e905f</td><td>automl</td><td>NotStarted</td><td><a href=\"https://ml.azure.com/runs/AutoML_27c618ae-14b9-4be3-a4e3-24d7fa1e905f?wsid=/subscriptions/f5091c60-1c3c-430f-8d81-d802f6bf2414/resourcegroups/aml-quickstarts-154705/workspaces/quick-starts-ws-154705&amp;tid=660b3398-b80e-49d2-bc5b-ac1dc93b5254\" target=\"_blank\" rel=\"noopener\">Link to Azure Machine Learning studio</a></td><td><a href=\"https://docs.microsoft.com/en-us/python/api/overview/azure/ml/intro?view=azure-ml-py\" target=\"_blank\" rel=\"noopener\">Link to Documentation</a></td></tr></table>"
      ],
      "text/plain": [
       "<IPython.core.display.HTML object>"
      ]
     },
     "metadata": {},
     "output_type": "display_data"
    },
    {
     "name": "stdout",
     "output_type": "stream",
     "text": [
      "\n",
      "Current status: FeaturesGeneration. Generating features for the dataset.\n",
      "Current status: DatasetFeaturization. Beginning to fit featurizers and featurize the dataset.\n",
      "Current status: DatasetCrossValidationSplit. Generating individually featurized CV splits.\n",
      "Current status: ModelSelection. Beginning model selection.\n",
      "\n",
      "****************************************************************************************************\n",
      "DATA GUARDRAILS: \n",
      "\n",
      "TYPE:         Class balancing detection\n",
      "STATUS:       ALERTED\n",
      "DESCRIPTION:  To decrease model bias, please cancel the current run and fix balancing problem.\n",
      "              Learn more about imbalanced data: https://aka.ms/AutomatedMLImbalancedData\n",
      "DETAILS:      Imbalanced data can lead to a falsely perceived positive effect of a model's accuracy because the input data has bias towards one class.\n",
      "+---------------------------------+---------------------------------+--------------------------------------+\n",
      "|Size of the smallest class       |Name/Label of the smallest class |Number of samples in the training data|\n",
      "+=================================+=================================+======================================+\n",
      "|3965                             |yes                              |33908                                 |\n",
      "+---------------------------------+---------------------------------+--------------------------------------+\n",
      "\n",
      "****************************************************************************************************\n",
      "\n",
      "TYPE:         Missing feature values imputation\n",
      "STATUS:       PASSED\n",
      "DESCRIPTION:  No feature missing values were detected in the training data.\n",
      "              Learn more about missing value imputation: https://aka.ms/AutomatedMLFeaturization\n",
      "\n",
      "****************************************************************************************************\n",
      "\n",
      "TYPE:         High cardinality feature detection\n",
      "STATUS:       PASSED\n",
      "DESCRIPTION:  Your inputs were analyzed, and no high cardinality features were detected.\n",
      "              Learn more about high cardinality feature handling: https://aka.ms/AutomatedMLFeaturization\n",
      "\n",
      "****************************************************************************************************\n",
      "\n",
      "****************************************************************************************************\n",
      "ITERATION: The iteration being evaluated.\n",
      "PIPELINE: A summary description of the pipeline being evaluated.\n",
      "DURATION: Time taken for the current iteration.\n",
      "METRIC: The result of computing score on the fitted pipeline.\n",
      "BEST: The best observed score thus far.\n",
      "****************************************************************************************************\n",
      "\n",
      " ITERATION   PIPELINE                                       DURATION      METRIC      BEST\n",
      "         1   MaxAbsScaler XGBoostClassifier                 0:00:59       0.9445    0.9445\n",
      "         2   MaxAbsScaler ExtremeRandomTrees                0:00:46       0.8814    0.9445\n",
      "         4   StandardScalerWrapper LightGBM                 0:00:51       0.9217    0.9445\n",
      "         0   MaxAbsScaler LightGBM                          0:01:47       0.9471    0.9471\n",
      "         5   SparseNormalizer XGBoostClassifier             0:01:50       0.9353    0.9471\n",
      "         6   SparseNormalizer RandomForest                  0:01:07       0.8737    0.9471\n",
      "         3   MaxAbsScaler RandomForest                      0:02:05       0.8649    0.9471\n",
      "         7   StandardScalerWrapper XGBoostClassifier        0:00:46       0.9252    0.9471\n",
      "        10   SparseNormalizer LightGBM                      0:00:42       0.9146    0.9471\n",
      "         8   SparseNormalizer XGBoostClassifier             0:00:54       0.9400    0.9471\n",
      "         9   MaxAbsScaler RandomForest                      0:00:43       0.8215    0.9471\n",
      "        12   StandardScalerWrapper XGBoostClassifier        0:00:50       0.9458    0.9471\n",
      "        13   StandardScalerWrapper ExtremeRandomTrees       0:00:43       0.8138    0.9471\n",
      "        15   MaxAbsScaler LightGBM                          0:00:41       0.9445    0.9471\n",
      "        11   MaxAbsScaler ExtremeRandomTrees                0:01:10       0.8003    0.9471\n",
      "        16   MaxAbsScaler LogisticRegression                0:00:48       0.9287    0.9471\n",
      "        18   StandardScalerWrapper XGBoostClassifier        0:00:45       0.9412    0.9471\n",
      "        19   MaxAbsScaler ExtremeRandomTrees                0:00:54       0.8155    0.9471\n",
      "        20   MaxAbsScaler LogisticRegression                0:00:44       0.9241    0.9471\n",
      "        21   StandardScalerWrapper XGBoostClassifier        0:00:48       0.9420    0.9471\n",
      "        14   StandardScalerWrapper RandomForest             0:03:11       0.9381    0.9471\n",
      "        22   StandardScalerWrapper XGBoostClassifier        0:01:08       0.9481    0.9481\n",
      "        17   StandardScalerWrapper ExtremeRandomTrees       0:03:19       0.9239    0.9481\n",
      "        23   MaxAbsScaler RandomForest                      0:00:50       0.9078    0.9481\n",
      "        24   SparseNormalizer XGBoostClassifier             0:00:54       0.9318    0.9481\n",
      "        25   MaxAbsScaler LightGBM                          0:00:53       0.9451    0.9481\n",
      "        26   StandardScalerWrapper LightGBM                 0:00:43       0.9355    0.9481\n",
      "        27   StandardScalerWrapper LightGBM                 0:00:42       0.9374    0.9481\n",
      "        29   StandardScalerWrapper LightGBM                 0:00:42       0.9422    0.9481\n",
      "        28   StandardScalerWrapper LightGBM                 0:00:55       0.9429    0.9481\n",
      "        31   StandardScalerWrapper XGBoostClassifier        0:01:13       0.9476    0.9481\n",
      "        33   StandardScalerWrapper LogisticRegression       0:00:39       0.9224    0.9481\n",
      "        34   StandardScalerWrapper XGBoostClassifier        0:00:48       0.9375    0.9481\n",
      "        32   StandardScalerWrapper XGBoostClassifier        0:02:03       0.9468    0.9481\n",
      "        30   StandardScalerWrapper XGBoostClassifier        0:03:11       0.9428    0.9481\n",
      "        35   StandardScalerWrapper XGBoostClassifier        0:02:02          nan    0.9481\n",
      "        36   StandardScalerWrapper XGBoostClassifier        0:01:02       0.9453    0.9481\n",
      "        37   StandardScalerWrapper LightGBM                 0:00:40       0.9403    0.9481\n",
      "        38   StandardScalerWrapper XGBoostClassifier        0:00:26          nan    0.9481\n",
      "        39                                                  0:00:35          nan    0.9481\n",
      "        40    VotingEnsemble                                0:01:46       0.9491    0.9491\n",
      "        41    StackEnsemble                                 0:01:55       0.9489    0.9491\n"
     ]
    }
   ],
   "source": [
    "# TODO: Submit your experiment\n",
    "remote_run = experiment.submit(automl_config, show_output = True)\n"
   ]
  },
  {
   "cell_type": "markdown",
   "metadata": {},
   "source": [
    "## Run Details\n",
    "\n",
    "OPTIONAL: Write about the different models trained and their performance. Why do you think some models did better than others?\n",
    "\n",
    "TODO: In the cell below, use the `RunDetails` widget to show the different experiments."
   ]
  },
  {
   "cell_type": "code",
   "execution_count": 13,
   "metadata": {
    "collapsed": false,
    "gather": {
     "logged": 1598431121770
    },
    "jupyter": {
     "outputs_hidden": false,
     "source_hidden": false
    },
    "nteract": {
     "transient": {
      "deleting": false
     }
    }
   },
   "outputs": [
    {
     "data": {
      "application/vnd.jupyter.widget-view+json": {
       "model_id": "ec33549542224670904963b617039e16",
       "version_major": 2,
       "version_minor": 0
      },
      "text/plain": [
       "_AutoMLWidget(widget_settings={'childWidgetDisplay': 'popup', 'send_telemetry': False, 'log_level': 'INFO', 's…"
      ]
     },
     "metadata": {},
     "output_type": "display_data"
    },
    {
     "data": {
      "application/aml.mini.widget.v1": "{\"status\": \"Completed\", \"workbench_run_details_uri\": \"https://ml.azure.com/runs/AutoML_27c618ae-14b9-4be3-a4e3-24d7fa1e905f?wsid=/subscriptions/f5091c60-1c3c-430f-8d81-d802f6bf2414/resourcegroups/aml-quickstarts-154705/workspaces/quick-starts-ws-154705&tid=660b3398-b80e-49d2-bc5b-ac1dc93b5254\", \"run_id\": \"AutoML_27c618ae-14b9-4be3-a4e3-24d7fa1e905f\", \"run_properties\": {\"run_id\": \"AutoML_27c618ae-14b9-4be3-a4e3-24d7fa1e905f\", \"created_utc\": \"2021-08-16T22:41:33.701741Z\", \"properties\": {\"num_iterations\": \"1000\", \"training_type\": \"TrainFull\", \"acquisition_function\": \"EI\", \"primary_metric\": \"AUC_weighted\", \"train_split\": \"0\", \"acquisition_parameter\": \"0\", \"num_cross_validation\": \"7\", \"target\": \"automl-cluster\", \"AMLSettingsJsonString\": \"{\\\"path\\\":null,\\\"name\\\":\\\"capstone-project\\\",\\\"subscription_id\\\":\\\"f5091c60-1c3c-430f-8d81-d802f6bf2414\\\",\\\"resource_group\\\":\\\"aml-quickstarts-154705\\\",\\\"workspace_name\\\":\\\"quick-starts-ws-154705\\\",\\\"region\\\":\\\"southcentralus\\\",\\\"compute_target\\\":\\\"automl-cluster\\\",\\\"spark_service\\\":null,\\\"azure_service\\\":\\\"remote\\\",\\\"many_models\\\":false,\\\"pipeline_fetch_max_batch_size\\\":1,\\\"enable_batch_run\\\":false,\\\"enable_run_restructure\\\":false,\\\"start_auxiliary_runs_before_parent_complete\\\":false,\\\"enable_code_generation\\\":false,\\\"iterations\\\":1000,\\\"primary_metric\\\":\\\"AUC_weighted\\\",\\\"task_type\\\":\\\"classification\\\",\\\"data_script\\\":null,\\\"test_size\\\":0.0,\\\"validation_size\\\":0.0,\\\"n_cross_validations\\\":7,\\\"y_min\\\":null,\\\"y_max\\\":null,\\\"num_classes\\\":null,\\\"featurization\\\":\\\"auto\\\",\\\"_ignore_package_version_incompatibilities\\\":false,\\\"is_timeseries\\\":false,\\\"max_cores_per_iteration\\\":1,\\\"max_concurrent_iterations\\\":5,\\\"iteration_timeout_minutes\\\":null,\\\"mem_in_mb\\\":null,\\\"enforce_time_on_windows\\\":false,\\\"experiment_timeout_minutes\\\":25,\\\"experiment_exit_score\\\":null,\\\"whitelist_models\\\":null,\\\"blacklist_algos\\\":[\\\"TensorFlowLinearClassifier\\\",\\\"TensorFlowDNN\\\"],\\\"supported_models\\\":[\\\"LightGBM\\\",\\\"RandomForest\\\",\\\"SVM\\\",\\\"ExtremeRandomTrees\\\",\\\"MultinomialNaiveBayes\\\",\\\"TensorFlowDNN\\\",\\\"KNN\\\",\\\"XGBoostClassifier\\\",\\\"DecisionTree\\\",\\\"AveragedPerceptronClassifier\\\",\\\"TensorFlowLinearClassifier\\\",\\\"LogisticRegression\\\",\\\"GradientBoosting\\\",\\\"SGD\\\",\\\"LinearSVM\\\",\\\"BernoulliNaiveBayes\\\"],\\\"private_models\\\":[],\\\"auto_blacklist\\\":true,\\\"blacklist_samples_reached\\\":false,\\\"exclude_nan_labels\\\":true,\\\"verbosity\\\":20,\\\"_debug_log\\\":\\\"azureml_automl.log\\\",\\\"show_warnings\\\":false,\\\"model_explainability\\\":true,\\\"service_url\\\":null,\\\"sdk_url\\\":null,\\\"sdk_packages\\\":null,\\\"enable_onnx_compatible_models\\\":false,\\\"enable_split_onnx_featurizer_estimator_models\\\":false,\\\"vm_type\\\":\\\"STANDARD_D2_V2\\\",\\\"telemetry_verbosity\\\":20,\\\"send_telemetry\\\":true,\\\"enable_dnn\\\":false,\\\"scenario\\\":\\\"SDK-1.13.0\\\",\\\"environment_label\\\":null,\\\"save_mlflow\\\":false,\\\"force_text_dnn\\\":false,\\\"enable_feature_sweeping\\\":true,\\\"enable_early_stopping\\\":true,\\\"early_stopping_n_iters\\\":10,\\\"metrics\\\":null,\\\"enable_metric_confidence\\\":false,\\\"enable_ensembling\\\":true,\\\"enable_stack_ensembling\\\":true,\\\"ensemble_iterations\\\":15,\\\"enable_tf\\\":false,\\\"enable_subsampling\\\":null,\\\"subsample_seed\\\":null,\\\"enable_nimbusml\\\":false,\\\"enable_streaming\\\":false,\\\"force_streaming\\\":false,\\\"track_child_runs\\\":true,\\\"allowed_private_models\\\":[],\\\"label_column_name\\\":\\\"y\\\",\\\"weight_column_name\\\":null,\\\"cv_split_column_names\\\":null,\\\"enable_local_managed\\\":false,\\\"_local_managed_run_id\\\":null,\\\"cost_mode\\\":1,\\\"lag_length\\\":0,\\\"metric_operation\\\":\\\"maximize\\\",\\\"preprocess\\\":true}\", \"DataPrepJsonString\": \"{\\\\\\\"training_data\\\\\\\": {\\\\\\\"datasetId\\\\\\\": \\\\\\\"e32d223c-0680-4fc1-954e-ec5732f93b06\\\\\\\"}, \\\\\\\"datasets\\\\\\\": 0}\", \"EnableSubsampling\": null, \"runTemplate\": \"AutoML\", \"azureml.runsource\": \"automl\", \"display_task_type\": \"classification\", \"dependencies_versions\": \"{\\\"azureml-widgets\\\": \\\"1.32.0\\\", \\\"azureml-train\\\": \\\"1.32.0\\\", \\\"azureml-train-restclients-hyperdrive\\\": \\\"1.32.0\\\", \\\"azureml-train-core\\\": \\\"1.32.0\\\", \\\"azureml-train-automl\\\": \\\"1.32.0\\\", \\\"azureml-train-automl-runtime\\\": \\\"1.32.0\\\", \\\"azureml-train-automl-client\\\": \\\"1.32.0\\\", \\\"azureml-tensorboard\\\": \\\"1.32.0\\\", \\\"azureml-telemetry\\\": \\\"1.32.0\\\", \\\"azureml-sdk\\\": \\\"1.32.0\\\", \\\"azureml-samples\\\": \\\"0+unknown\\\", \\\"azureml-responsibleai\\\": \\\"1.32.0\\\", \\\"azureml-pipeline\\\": \\\"1.32.0\\\", \\\"azureml-pipeline-steps\\\": \\\"1.32.0\\\", \\\"azureml-pipeline-core\\\": \\\"1.32.0\\\", \\\"azureml-opendatasets\\\": \\\"1.32.0\\\", \\\"azureml-model-management-sdk\\\": \\\"1.0.1b6.post1\\\", \\\"azureml-mlflow\\\": \\\"1.32.0\\\", \\\"azureml-interpret\\\": \\\"1.32.0\\\", \\\"azureml-explain-model\\\": \\\"1.32.0\\\", \\\"azureml-defaults\\\": \\\"1.32.0\\\", \\\"azureml-dataset-runtime\\\": \\\"1.32.0\\\", \\\"azureml-dataprep\\\": \\\"2.18.0\\\", \\\"azureml-dataprep-rslex\\\": \\\"1.16.1\\\", \\\"azureml-dataprep-native\\\": \\\"36.0.0\\\", \\\"azureml-datadrift\\\": \\\"1.32.0\\\", \\\"azureml-core\\\": \\\"1.32.0\\\", \\\"azureml-contrib-services\\\": \\\"1.32.0\\\", \\\"azureml-contrib-server\\\": \\\"1.32.0\\\", \\\"azureml-contrib-reinforcementlearning\\\": \\\"1.32.0\\\", \\\"azureml-contrib-pipeline-steps\\\": \\\"1.32.0\\\", \\\"azureml-contrib-notebook\\\": \\\"1.32.0\\\", \\\"azureml-contrib-fairness\\\": \\\"1.32.0\\\", \\\"azureml-contrib-dataset\\\": \\\"1.32.0\\\", \\\"azureml-cli-common\\\": \\\"1.32.0\\\", \\\"azureml-automl-runtime\\\": \\\"1.32.0\\\", \\\"azureml-automl-dnn-nlp\\\": \\\"1.32.0\\\", \\\"azureml-automl-core\\\": \\\"1.32.0\\\", \\\"azureml-accel-models\\\": \\\"1.32.0\\\"}\", \"_aml_system_scenario_identification\": \"Remote.Parent\", \"ClientType\": \"SDK\", \"environment_cpu_name\": \"AzureML-AutoML\", \"environment_cpu_label\": \"prod\", \"environment_gpu_name\": \"AzureML-AutoML-GPU\", \"environment_gpu_label\": \"prod\", \"root_attribution\": \"automl\", \"attribution\": \"AutoML\", \"Orchestrator\": \"AutoML\", \"CancelUri\": \"https://southcentralus.api.azureml.ms/jasmine/v1.0/subscriptions/f5091c60-1c3c-430f-8d81-d802f6bf2414/resourceGroups/aml-quickstarts-154705/providers/Microsoft.MachineLearningServices/workspaces/quick-starts-ws-154705/experimentids/058163be-b77e-4f04-b045-5c80822fe20c/cancel/AutoML_27c618ae-14b9-4be3-a4e3-24d7fa1e905f\", \"ClientSdkVersion\": \"1.33.0\", \"snapshotId\": \"00000000-0000-0000-0000-000000000000\", \"SetupRunId\": \"AutoML_27c618ae-14b9-4be3-a4e3-24d7fa1e905f_setup\", \"SetupRunContainerId\": \"dcid.AutoML_27c618ae-14b9-4be3-a4e3-24d7fa1e905f_setup\", \"FeaturizationRunJsonPath\": \"featurizer_container.json\", \"FeaturizationRunId\": \"AutoML_27c618ae-14b9-4be3-a4e3-24d7fa1e905f_featurize\", \"ProblemInfoJsonString\": \"{\\\"dataset_num_categorical\\\": 0, \\\"is_sparse\\\": true, \\\"subsampling\\\": false, \\\"has_extra_col\\\": true, \\\"dataset_classes\\\": 2, \\\"dataset_features\\\": 163, \\\"dataset_samples\\\": 33908, \\\"single_frequency_class_detected\\\": false}\", \"ModelExplainRunId\": \"AutoML_27c618ae-14b9-4be3-a4e3-24d7fa1e905f_ModelExplain\"}, \"tags\": {\"model_explain_run\": \"best_run\", \"_aml_system_azureml.automlComponent\": \"AutoML\", \"pipeline_id\": \"\", \"score\": \"\", \"predicted_cost\": \"\", \"fit_time\": \"\", \"training_percent\": \"\", \"iteration\": \"\", \"run_preprocessor\": \"\", \"run_algorithm\": \"\", \"dynamic_whitelisting_iterations\": \"<25>;<30>;<35>;\", \"automl_best_child_run_id\": \"AutoML_27c618ae-14b9-4be3-a4e3-24d7fa1e905f_40\", \"model_explain_best_run_child_id\": \"AutoML_27c618ae-14b9-4be3-a4e3-24d7fa1e905f_40\"}, \"end_time_utc\": \"2021-08-16T23:12:59.809628Z\", \"status\": \"Completed\", \"log_files\": {}, \"log_groups\": [], \"run_duration\": \"0:31:26\", \"run_number\": \"1\", \"run_queued_details\": {\"status\": \"Completed\", \"details\": null}}, \"child_runs\": [{\"run_id\": \"AutoML_27c618ae-14b9-4be3-a4e3-24d7fa1e905f_2\", \"run_number\": 5, \"metric\": null, \"status\": \"Completed\", \"run_type\": \"azureml.scriptrun\", \"training_percent\": \"100\", \"start_time\": \"2021-08-16T22:56:42.165428Z\", \"end_time\": \"2021-08-16T22:57:28.198473Z\", \"created_time\": \"2021-08-16T22:55:24.842683Z\", \"created_time_dt\": \"2021-08-16T22:55:24.842683Z\", \"duration\": \"0:02:03\", \"iteration\": \"2\", \"goal\": \"AUC_weighted_max\", \"run_name\": \"MaxAbsScaler, ExtremeRandomTrees\", \"run_properties\": \"copy=True\", \"primary_metric\": 0.88138318, \"best_metric\": 0.94714732}, {\"run_id\": \"AutoML_27c618ae-14b9-4be3-a4e3-24d7fa1e905f_4\", \"run_number\": 6, \"metric\": null, \"status\": \"Completed\", \"run_type\": \"azureml.scriptrun\", \"training_percent\": \"100\", \"start_time\": \"2021-08-16T22:57:43.411132Z\", \"end_time\": \"2021-08-16T22:58:34.70522Z\", \"created_time\": \"2021-08-16T22:55:24.848756Z\", \"created_time_dt\": \"2021-08-16T22:55:24.848756Z\", \"duration\": \"0:03:09\", \"iteration\": \"4\", \"goal\": \"AUC_weighted_max\", \"run_name\": \"StandardScalerWrapper, LightGBM\", \"run_properties\": \"\\n    copy=True,\\n    with_mean=False,\\n    with_std=True\\n\", \"primary_metric\": 0.92174333, \"best_metric\": 0.94714732}, {\"run_id\": \"AutoML_27c618ae-14b9-4be3-a4e3-24d7fa1e905f_1\", \"run_number\": 7, \"metric\": null, \"status\": \"Completed\", \"run_type\": \"azureml.scriptrun\", \"training_percent\": \"100\", \"start_time\": \"2021-08-16T22:55:29.60267Z\", \"end_time\": \"2021-08-16T22:56:28.22408Z\", \"created_time\": \"2021-08-16T22:55:24.87746Z\", \"created_time_dt\": \"2021-08-16T22:55:24.87746Z\", \"duration\": \"0:01:03\", \"iteration\": \"1\", \"goal\": \"AUC_weighted_max\", \"run_name\": \"MaxAbsScaler, XGBoostClassifier\", \"run_properties\": \"copy=True\", \"primary_metric\": 0.94445389, \"best_metric\": 0.94714732}, {\"run_id\": \"AutoML_27c618ae-14b9-4be3-a4e3-24d7fa1e905f_3\", \"run_number\": 8, \"metric\": null, \"status\": \"Completed\", \"run_type\": \"azureml.scriptrun\", \"training_percent\": \"100\", \"start_time\": \"2021-08-16T22:58:01.379835Z\", \"end_time\": \"2021-08-16T23:00:06.760832Z\", \"created_time\": \"2021-08-16T22:55:24.885468Z\", \"created_time_dt\": \"2021-08-16T22:55:24.885468Z\", \"duration\": \"0:04:41\", \"iteration\": \"3\", \"goal\": \"AUC_weighted_max\", \"run_name\": \"MaxAbsScaler, RandomForest\", \"run_properties\": \"copy=True\", \"primary_metric\": 0.86487597, \"best_metric\": 0.94714732}, {\"run_id\": \"AutoML_27c618ae-14b9-4be3-a4e3-24d7fa1e905f_0\", \"run_number\": 9, \"metric\": null, \"status\": \"Completed\", \"run_type\": \"azureml.scriptrun\", \"training_percent\": \"100\", \"start_time\": \"2021-08-16T22:57:58.557001Z\", \"end_time\": \"2021-08-16T22:59:45.59361Z\", \"created_time\": \"2021-08-16T22:55:24.843404Z\", \"created_time_dt\": \"2021-08-16T22:55:24.843404Z\", \"duration\": \"0:04:20\", \"iteration\": \"0\", \"goal\": \"AUC_weighted_max\", \"run_name\": \"MaxAbsScaler, LightGBM\", \"run_properties\": \"copy=True\", \"primary_metric\": 0.94714732, \"best_metric\": 0.94714732}, {\"run_id\": \"AutoML_27c618ae-14b9-4be3-a4e3-24d7fa1e905f_5\", \"run_number\": 10, \"metric\": null, \"status\": \"Completed\", \"run_type\": \"azureml.scriptrun\", \"training_percent\": \"100\", \"start_time\": \"2021-08-16T22:58:03.045135Z\", \"end_time\": \"2021-08-16T22:59:53.107245Z\", \"created_time\": \"2021-08-16T22:56:30.06973Z\", \"created_time_dt\": \"2021-08-16T22:56:30.06973Z\", \"duration\": \"0:03:23\", \"iteration\": \"5\", \"goal\": \"AUC_weighted_max\", \"run_name\": \"SparseNormalizer, XGBoostClassifier\", \"run_properties\": \"copy=True, norm='max'\", \"primary_metric\": 0.93528045, \"best_metric\": 0.94714732}, {\"run_id\": \"AutoML_27c618ae-14b9-4be3-a4e3-24d7fa1e905f_6\", \"run_number\": 11, \"metric\": null, \"status\": \"Completed\", \"run_type\": \"azureml.scriptrun\", \"training_percent\": \"100\", \"start_time\": \"2021-08-16T22:58:52.132698Z\", \"end_time\": \"2021-08-16T22:59:59.273988Z\", \"created_time\": \"2021-08-16T22:57:31.200129Z\", \"created_time_dt\": \"2021-08-16T22:57:31.200129Z\", \"duration\": \"0:02:28\", \"iteration\": \"6\", \"goal\": \"AUC_weighted_max\", \"run_name\": \"SparseNormalizer, RandomForest\", \"run_properties\": \"copy=True, norm='l2'\", \"primary_metric\": 0.87372007, \"best_metric\": 0.94714732}, {\"run_id\": \"AutoML_27c618ae-14b9-4be3-a4e3-24d7fa1e905f_7\", \"run_number\": 12, \"metric\": null, \"status\": \"Completed\", \"run_type\": \"azureml.scriptrun\", \"training_percent\": \"100\", \"start_time\": \"2021-08-16T23:00:01.809913Z\", \"end_time\": \"2021-08-16T23:00:47.93138Z\", \"created_time\": \"2021-08-16T22:58:37.660244Z\", \"created_time_dt\": \"2021-08-16T22:58:37.660244Z\", \"duration\": \"0:02:10\", \"iteration\": \"7\", \"goal\": \"AUC_weighted_max\", \"run_name\": \"StandardScalerWrapper, XGBoostClassifier\", \"run_properties\": \"\\n    copy=True,\\n    with_mean=False,\\n    with_std=False\\n\", \"primary_metric\": 0.92516535, \"best_metric\": 0.94714732}, {\"run_id\": \"AutoML_27c618ae-14b9-4be3-a4e3-24d7fa1e905f_8\", \"run_number\": 13, \"metric\": null, \"status\": \"Completed\", \"run_type\": \"azureml.scriptrun\", \"training_percent\": \"100\", \"start_time\": \"2021-08-16T23:00:07.954564Z\", \"end_time\": \"2021-08-16T23:01:01.783783Z\", \"created_time\": \"2021-08-16T22:59:48.606495Z\", \"created_time_dt\": \"2021-08-16T22:59:48.606495Z\", \"duration\": \"0:01:13\", \"iteration\": \"8\", \"goal\": \"AUC_weighted_max\", \"run_name\": \"SparseNormalizer, XGBoostClassifier\", \"run_properties\": \"copy=True, norm='max'\", \"primary_metric\": 0.93998647, \"best_metric\": 0.94714732}, {\"run_id\": \"AutoML_27c618ae-14b9-4be3-a4e3-24d7fa1e905f_9\", \"run_number\": 14, \"metric\": null, \"status\": \"Completed\", \"run_type\": \"azureml.scriptrun\", \"training_percent\": \"100\", \"start_time\": \"2021-08-16T23:00:15.914256Z\", \"end_time\": \"2021-08-16T23:00:58.420709Z\", \"created_time\": \"2021-08-16T22:59:55.926314Z\", \"created_time_dt\": \"2021-08-16T22:59:55.926314Z\", \"duration\": \"0:01:02\", \"iteration\": \"9\", \"goal\": \"AUC_weighted_max\", \"run_name\": \"MaxAbsScaler, RandomForest\", \"run_properties\": \"copy=True\", \"primary_metric\": 0.82149902, \"best_metric\": 0.94714732}, {\"run_id\": \"AutoML_27c618ae-14b9-4be3-a4e3-24d7fa1e905f_10\", \"run_number\": 15, \"metric\": null, \"status\": \"Completed\", \"run_type\": \"azureml.scriptrun\", \"training_percent\": \"100\", \"start_time\": \"2021-08-16T23:00:22.048722Z\", \"end_time\": \"2021-08-16T23:01:03.64814Z\", \"created_time\": \"2021-08-16T23:00:02.049525Z\", \"created_time_dt\": \"2021-08-16T23:00:02.049525Z\", \"duration\": \"0:01:01\", \"iteration\": \"10\", \"goal\": \"AUC_weighted_max\", \"run_name\": \"SparseNormalizer, LightGBM\", \"run_properties\": \"copy=True, norm='l1'\", \"primary_metric\": 0.91464983, \"best_metric\": 0.94714732}, {\"run_id\": \"AutoML_27c618ae-14b9-4be3-a4e3-24d7fa1e905f_11\", \"run_number\": 16, \"metric\": null, \"status\": \"Completed\", \"run_type\": \"azureml.scriptrun\", \"training_percent\": \"100\", \"start_time\": \"2021-08-16T23:01:04.476062Z\", \"end_time\": \"2021-08-16T23:02:14.394487Z\", \"created_time\": \"2021-08-16T23:00:09.615207Z\", \"created_time_dt\": \"2021-08-16T23:00:09.615207Z\", \"duration\": \"0:02:04\", \"iteration\": \"11\", \"goal\": \"AUC_weighted_max\", \"run_name\": \"MaxAbsScaler, ExtremeRandomTrees\", \"run_properties\": \"copy=True\", \"primary_metric\": 0.80031908, \"best_metric\": 0.94714732}, {\"run_id\": \"AutoML_27c618ae-14b9-4be3-a4e3-24d7fa1e905f_12\", \"run_number\": 17, \"metric\": null, \"status\": \"Completed\", \"run_type\": \"azureml.scriptrun\", \"training_percent\": \"100\", \"start_time\": \"2021-08-16T23:01:13.613224Z\", \"end_time\": \"2021-08-16T23:02:03.538043Z\", \"created_time\": \"2021-08-16T23:00:50.628333Z\", \"created_time_dt\": \"2021-08-16T23:00:50.628333Z\", \"duration\": \"0:01:12\", \"iteration\": \"12\", \"goal\": \"AUC_weighted_max\", \"run_name\": \"StandardScalerWrapper, XGBoostClassifier\", \"run_properties\": \"\\n    copy=True,\\n    with_mean=False,\\n    with_std=False\\n\", \"primary_metric\": 0.94583102, \"best_metric\": 0.94714732}, {\"run_id\": \"AutoML_27c618ae-14b9-4be3-a4e3-24d7fa1e905f_13\", \"run_number\": 18, \"metric\": null, \"status\": \"Completed\", \"run_type\": \"azureml.scriptrun\", \"training_percent\": \"100\", \"start_time\": \"2021-08-16T23:01:17.62168Z\", \"end_time\": \"2021-08-16T23:02:00.310621Z\", \"created_time\": \"2021-08-16T23:01:01.29019Z\", \"created_time_dt\": \"2021-08-16T23:01:01.29019Z\", \"duration\": \"0:00:59\", \"iteration\": \"13\", \"goal\": \"AUC_weighted_max\", \"run_name\": \"StandardScalerWrapper, ExtremeRandomTrees\", \"run_properties\": \"\\n    copy=True,\\n    with_mean=False,\\n    with_std=False\\n\", \"primary_metric\": 0.81378738, \"best_metric\": 0.94714732}, {\"run_id\": \"AutoML_27c618ae-14b9-4be3-a4e3-24d7fa1e905f_14\", \"run_number\": 19, \"metric\": null, \"status\": \"Completed\", \"run_type\": \"azureml.scriptrun\", \"training_percent\": \"100\", \"start_time\": \"2021-08-16T23:02:14.072688Z\", \"end_time\": \"2021-08-16T23:05:24.596779Z\", \"created_time\": \"2021-08-16T23:01:06.714886Z\", \"created_time_dt\": \"2021-08-16T23:01:06.714886Z\", \"duration\": \"0:04:17\", \"iteration\": \"14\", \"goal\": \"AUC_weighted_max\", \"run_name\": \"StandardScalerWrapper, RandomForest\", \"run_properties\": \"\\n    copy=True,\\n    with_mean=False,\\n    with_std=False\\n\", \"primary_metric\": 0.93813572, \"best_metric\": 0.94714732}, {\"run_id\": \"AutoML_27c618ae-14b9-4be3-a4e3-24d7fa1e905f_15\", \"run_number\": 20, \"metric\": null, \"status\": \"Completed\", \"run_type\": \"azureml.scriptrun\", \"training_percent\": \"100\", \"start_time\": \"2021-08-16T23:01:22.630182Z\", \"end_time\": \"2021-08-16T23:02:04.097533Z\", \"created_time\": \"2021-08-16T23:01:06.97661Z\", \"created_time_dt\": \"2021-08-16T23:01:06.97661Z\", \"duration\": \"0:00:57\", \"iteration\": \"15\", \"goal\": \"AUC_weighted_max\", \"run_name\": \"MaxAbsScaler, LightGBM\", \"run_properties\": \"copy=True\", \"primary_metric\": 0.94447802, \"best_metric\": 0.94714732}, {\"run_id\": \"AutoML_27c618ae-14b9-4be3-a4e3-24d7fa1e905f_16\", \"run_number\": 21, \"metric\": null, \"status\": \"Completed\", \"run_type\": \"azureml.scriptrun\", \"training_percent\": \"100\", \"start_time\": \"2021-08-16T23:02:20.198015Z\", \"end_time\": \"2021-08-16T23:03:07.923889Z\", \"created_time\": \"2021-08-16T23:02:03.090584Z\", \"created_time_dt\": \"2021-08-16T23:02:03.090584Z\", \"duration\": \"0:01:04\", \"iteration\": \"16\", \"goal\": \"AUC_weighted_max\", \"run_name\": \"MaxAbsScaler, LogisticRegression\", \"run_properties\": \"copy=True\", \"primary_metric\": 0.92869213, \"best_metric\": 0.94714732}, {\"run_id\": \"AutoML_27c618ae-14b9-4be3-a4e3-24d7fa1e905f_17\", \"run_number\": 22, \"metric\": null, \"status\": \"Completed\", \"run_type\": \"azureml.scriptrun\", \"training_percent\": \"100\", \"start_time\": \"2021-08-16T23:02:29.676536Z\", \"end_time\": \"2021-08-16T23:05:48.728691Z\", \"created_time\": \"2021-08-16T23:02:07.072972Z\", \"created_time_dt\": \"2021-08-16T23:02:07.072972Z\", \"duration\": \"0:03:41\", \"iteration\": \"17\", \"goal\": \"AUC_weighted_max\", \"run_name\": \"StandardScalerWrapper, ExtremeRandomTrees\", \"run_properties\": \"\\n    copy=True,\\n    with_mean=False,\\n    with_std=True\\n\", \"primary_metric\": 0.92386065, \"best_metric\": 0.94714732}, {\"run_id\": \"AutoML_27c618ae-14b9-4be3-a4e3-24d7fa1e905f_18\", \"run_number\": 23, \"metric\": null, \"status\": \"Completed\", \"run_type\": \"azureml.scriptrun\", \"training_percent\": \"100\", \"start_time\": \"2021-08-16T23:02:20.325527Z\", \"end_time\": \"2021-08-16T23:03:05.289723Z\", \"created_time\": \"2021-08-16T23:02:07.089174Z\", \"created_time_dt\": \"2021-08-16T23:02:07.089174Z\", \"duration\": \"0:00:58\", \"iteration\": \"18\", \"goal\": \"AUC_weighted_max\", \"run_name\": \"StandardScalerWrapper, XGBoostClassifier\", \"run_properties\": \"\\n    copy=True,\\n    with_mean=False,\\n    with_std=False\\n\", \"primary_metric\": 0.94122647, \"best_metric\": 0.94714732}, {\"run_id\": \"AutoML_27c618ae-14b9-4be3-a4e3-24d7fa1e905f_19\", \"run_number\": 24, \"metric\": null, \"status\": \"Completed\", \"run_type\": \"azureml.scriptrun\", \"training_percent\": \"100\", \"start_time\": \"2021-08-16T23:03:20.64173Z\", \"end_time\": \"2021-08-16T23:04:14.378458Z\", \"created_time\": \"2021-08-16T23:02:17.561869Z\", \"created_time_dt\": \"2021-08-16T23:02:17.561869Z\", \"duration\": \"0:01:56\", \"iteration\": \"19\", \"goal\": \"AUC_weighted_max\", \"run_name\": \"MaxAbsScaler, ExtremeRandomTrees\", \"run_properties\": \"copy=True\", \"primary_metric\": 0.81551719, \"best_metric\": 0.94714732}, {\"run_id\": \"AutoML_27c618ae-14b9-4be3-a4e3-24d7fa1e905f_20\", \"run_number\": 25, \"metric\": null, \"status\": \"Completed\", \"run_type\": \"azureml.scriptrun\", \"training_percent\": \"100\", \"start_time\": \"2021-08-16T23:03:23.646872Z\", \"end_time\": \"2021-08-16T23:04:07.210844Z\", \"created_time\": \"2021-08-16T23:03:07.981408Z\", \"created_time_dt\": \"2021-08-16T23:03:07.981408Z\", \"duration\": \"0:00:59\", \"iteration\": \"20\", \"goal\": \"AUC_weighted_max\", \"run_name\": \"MaxAbsScaler, LogisticRegression\", \"run_properties\": \"copy=True\", \"primary_metric\": 0.92408251, \"best_metric\": 0.94714732}, {\"run_id\": \"AutoML_27c618ae-14b9-4be3-a4e3-24d7fa1e905f_21\", \"run_number\": 26, \"metric\": null, \"status\": \"Completed\", \"run_type\": \"azureml.scriptrun\", \"training_percent\": \"100\", \"start_time\": \"2021-08-16T23:04:21.060274Z\", \"end_time\": \"2021-08-16T23:05:08.941233Z\", \"created_time\": \"2021-08-16T23:03:13.429295Z\", \"created_time_dt\": \"2021-08-16T23:03:13.429295Z\", \"duration\": \"0:01:55\", \"iteration\": \"21\", \"goal\": \"AUC_weighted_max\", \"run_name\": \"StandardScalerWrapper, XGBoostClassifier\", \"run_properties\": \"\\n    copy=True,\\n    with_mean=False,\\n    with_std=False\\n\", \"primary_metric\": 0.9419655, \"best_metric\": 0.94714732}, {\"run_id\": \"AutoML_27c618ae-14b9-4be3-a4e3-24d7fa1e905f_22\", \"run_number\": 27, \"metric\": null, \"status\": \"Completed\", \"run_type\": \"azureml.scriptrun\", \"training_percent\": \"100\", \"start_time\": \"2021-08-16T23:04:28.212031Z\", \"end_time\": \"2021-08-16T23:05:36.674452Z\", \"created_time\": \"2021-08-16T23:04:10.414673Z\", \"created_time_dt\": \"2021-08-16T23:04:10.414673Z\", \"duration\": \"0:01:26\", \"iteration\": \"22\", \"goal\": \"AUC_weighted_max\", \"run_name\": \"StandardScalerWrapper, XGBoostClassifier\", \"run_properties\": \"\\n    copy=True,\\n    with_mean=False,\\n    with_std=False\\n\", \"primary_metric\": 0.94810862, \"best_metric\": 0.94810862}, {\"run_id\": \"AutoML_27c618ae-14b9-4be3-a4e3-24d7fa1e905f_23\", \"run_number\": 28, \"metric\": null, \"status\": \"Completed\", \"run_type\": \"azureml.scriptrun\", \"training_percent\": \"100\", \"start_time\": \"2021-08-16T23:05:22.852403Z\", \"end_time\": \"2021-08-16T23:06:12.798222Z\", \"created_time\": \"2021-08-16T23:04:17.307145Z\", \"created_time_dt\": \"2021-08-16T23:04:17.307145Z\", \"duration\": \"0:01:55\", \"iteration\": \"23\", \"goal\": \"AUC_weighted_max\", \"run_name\": \"MaxAbsScaler, RandomForest\", \"run_properties\": \"copy=True\", \"primary_metric\": 0.90776201, \"best_metric\": 0.94810862}, {\"run_id\": \"AutoML_27c618ae-14b9-4be3-a4e3-24d7fa1e905f_24\", \"run_number\": 29, \"metric\": null, \"status\": \"Completed\", \"run_type\": \"azureml.scriptrun\", \"training_percent\": \"100\", \"start_time\": \"2021-08-16T23:05:40.028445Z\", \"end_time\": \"2021-08-16T23:06:33.836992Z\", \"created_time\": \"2021-08-16T23:05:11.589785Z\", \"created_time_dt\": \"2021-08-16T23:05:11.589785Z\", \"duration\": \"0:01:22\", \"iteration\": \"24\", \"goal\": \"AUC_weighted_max\", \"run_name\": \"SparseNormalizer, XGBoostClassifier\", \"run_properties\": \"copy=True, norm='max'\", \"primary_metric\": 0.93178745, \"best_metric\": 0.94810862}, {\"run_id\": \"AutoML_27c618ae-14b9-4be3-a4e3-24d7fa1e905f_25\", \"run_number\": 30, \"metric\": null, \"status\": \"Completed\", \"run_type\": \"azureml.scriptrun\", \"training_percent\": \"100\", \"start_time\": \"2021-08-16T23:05:50.046075Z\", \"end_time\": \"2021-08-16T23:06:43.345871Z\", \"created_time\": \"2021-08-16T23:05:30.367919Z\", \"created_time_dt\": \"2021-08-16T23:05:30.367919Z\", \"duration\": \"0:01:12\", \"iteration\": \"25\", \"goal\": \"AUC_weighted_max\", \"run_name\": \"MaxAbsScaler, LightGBM\", \"run_properties\": \"copy=True\", \"primary_metric\": 0.94509727, \"best_metric\": 0.94810862}, {\"run_id\": \"AutoML_27c618ae-14b9-4be3-a4e3-24d7fa1e905f_26\", \"run_number\": 31, \"metric\": null, \"status\": \"Completed\", \"run_type\": \"azureml.scriptrun\", \"training_percent\": \"100\", \"start_time\": \"2021-08-16T23:06:05.613861Z\", \"end_time\": \"2021-08-16T23:06:49.0889Z\", \"created_time\": \"2021-08-16T23:05:39.835587Z\", \"created_time_dt\": \"2021-08-16T23:05:39.835587Z\", \"duration\": \"0:01:09\", \"iteration\": \"26\", \"goal\": \"AUC_weighted_max\", \"run_name\": \"StandardScalerWrapper, LightGBM\", \"run_properties\": \"\\n    copy=True,\\n    with_mean=False,\\n    with_std=True\\n\", \"primary_metric\": 0.93545638, \"best_metric\": 0.94810862}, {\"run_id\": \"AutoML_27c618ae-14b9-4be3-a4e3-24d7fa1e905f_27\", \"run_number\": 32, \"metric\": null, \"status\": \"Completed\", \"run_type\": \"azureml.scriptrun\", \"training_percent\": \"100\", \"start_time\": \"2021-08-16T23:06:28.312633Z\", \"end_time\": \"2021-08-16T23:07:10.666002Z\", \"created_time\": \"2021-08-16T23:05:50.522675Z\", \"created_time_dt\": \"2021-08-16T23:05:50.522675Z\", \"duration\": \"0:01:20\", \"iteration\": \"27\", \"goal\": \"AUC_weighted_max\", \"run_name\": \"StandardScalerWrapper, LightGBM\", \"run_properties\": \"\\n    copy=True,\\n    with_mean=False,\\n    with_std=True\\n\", \"primary_metric\": 0.93742858, \"best_metric\": 0.94810862}, {\"run_id\": \"AutoML_27c618ae-14b9-4be3-a4e3-24d7fa1e905f_28\", \"run_number\": 33, \"metric\": null, \"status\": \"Completed\", \"run_type\": \"azureml.scriptrun\", \"training_percent\": \"100\", \"start_time\": \"2021-08-16T23:06:48.604362Z\", \"end_time\": \"2021-08-16T23:07:43.271156Z\", \"created_time\": \"2021-08-16T23:06:15.517875Z\", \"created_time_dt\": \"2021-08-16T23:06:15.517875Z\", \"duration\": \"0:01:27\", \"iteration\": \"28\", \"goal\": \"AUC_weighted_max\", \"run_name\": \"StandardScalerWrapper, LightGBM\", \"run_properties\": \"\\n    copy=True,\\n    with_mean=False,\\n    with_std=True\\n\", \"primary_metric\": 0.942925, \"best_metric\": 0.94810862}, {\"run_id\": \"AutoML_27c618ae-14b9-4be3-a4e3-24d7fa1e905f_29\", \"run_number\": 34, \"metric\": null, \"status\": \"Completed\", \"run_type\": \"azureml.scriptrun\", \"training_percent\": \"100\", \"start_time\": \"2021-08-16T23:06:59.689916Z\", \"end_time\": \"2021-08-16T23:07:41.546809Z\", \"created_time\": \"2021-08-16T23:06:35.673899Z\", \"created_time_dt\": \"2021-08-16T23:06:35.673899Z\", \"duration\": \"0:01:05\", \"iteration\": \"29\", \"goal\": \"AUC_weighted_max\", \"run_name\": \"StandardScalerWrapper, LightGBM\", \"run_properties\": \"\\n    copy=True,\\n    with_mean=False,\\n    with_std=True\\n\", \"primary_metric\": 0.94217417, \"best_metric\": 0.94810862}, {\"run_id\": \"AutoML_27c618ae-14b9-4be3-a4e3-24d7fa1e905f_30\", \"run_number\": 35, \"metric\": null, \"status\": \"Completed\", \"run_type\": \"azureml.scriptrun\", \"training_percent\": \"100\", \"start_time\": \"2021-08-16T23:07:05.807351Z\", \"end_time\": \"2021-08-16T23:10:16.997512Z\", \"created_time\": \"2021-08-16T23:06:46.405098Z\", \"created_time_dt\": \"2021-08-16T23:06:46.405098Z\", \"duration\": \"0:03:30\", \"iteration\": \"30\", \"goal\": \"AUC_weighted_max\", \"run_name\": \"StandardScalerWrapper, XGBoostClassifier\", \"run_properties\": \"\\n    copy=True,\\n    with_mean=False,\\n    with_std=False\\n\", \"primary_metric\": 0.94281722, \"best_metric\": 0.94810862}, {\"run_id\": \"AutoML_27c618ae-14b9-4be3-a4e3-24d7fa1e905f_31\", \"run_number\": 36, \"metric\": null, \"status\": \"Completed\", \"run_type\": \"azureml.scriptrun\", \"training_percent\": \"100\", \"start_time\": \"2021-08-16T23:07:27.338475Z\", \"end_time\": \"2021-08-16T23:08:40.524492Z\", \"created_time\": \"2021-08-16T23:06:50.933414Z\", \"created_time_dt\": \"2021-08-16T23:06:50.933414Z\", \"duration\": \"0:01:49\", \"iteration\": \"31\", \"goal\": \"AUC_weighted_max\", \"run_name\": \"StandardScalerWrapper, XGBoostClassifier\", \"run_properties\": \"\\n    copy=True,\\n    with_mean=False,\\n    with_std=False\\n\", \"primary_metric\": 0.9475947, \"best_metric\": 0.94810862}, {\"run_id\": \"AutoML_27c618ae-14b9-4be3-a4e3-24d7fa1e905f_32\", \"run_number\": 37, \"metric\": null, \"status\": \"Completed\", \"run_type\": \"azureml.scriptrun\", \"training_percent\": \"100\", \"start_time\": \"2021-08-16T23:07:56.479091Z\", \"end_time\": \"2021-08-16T23:09:59.639224Z\", \"created_time\": \"2021-08-16T23:07:12.614255Z\", \"created_time_dt\": \"2021-08-16T23:07:12.614255Z\", \"duration\": \"0:02:47\", \"iteration\": \"32\", \"goal\": \"AUC_weighted_max\", \"run_name\": \"StandardScalerWrapper, XGBoostClassifier\", \"run_properties\": \"\\n    copy=True,\\n    with_mean=False,\\n    with_std=False\\n\", \"primary_metric\": 0.94684339, \"best_metric\": 0.94810862}, {\"run_id\": \"AutoML_27c618ae-14b9-4be3-a4e3-24d7fa1e905f_33\", \"run_number\": 38, \"metric\": null, \"status\": \"Completed\", \"run_type\": \"azureml.scriptrun\", \"training_percent\": \"100\", \"start_time\": \"2021-08-16T23:07:57.487425Z\", \"end_time\": \"2021-08-16T23:08:36.453429Z\", \"created_time\": \"2021-08-16T23:07:43.592626Z\", \"created_time_dt\": \"2021-08-16T23:07:43.592626Z\", \"duration\": \"0:00:52\", \"iteration\": \"33\", \"goal\": \"AUC_weighted_max\", \"run_name\": \"StandardScalerWrapper, LogisticRegression\", \"run_properties\": \"\\n    copy=True,\\n    with_mean=False,\\n    with_std=True\\n\", \"primary_metric\": 0.92236014, \"best_metric\": 0.94810862}, {\"run_id\": \"AutoML_27c618ae-14b9-4be3-a4e3-24d7fa1e905f_34\", \"run_number\": 39, \"metric\": null, \"status\": \"Completed\", \"run_type\": \"azureml.scriptrun\", \"training_percent\": \"100\", \"start_time\": \"2021-08-16T23:08:51.057012Z\", \"end_time\": \"2021-08-16T23:09:38.925461Z\", \"created_time\": \"2021-08-16T23:07:46.463964Z\", \"created_time_dt\": \"2021-08-16T23:07:46.463964Z\", \"duration\": \"0:01:52\", \"iteration\": \"34\", \"goal\": \"AUC_weighted_max\", \"run_name\": \"StandardScalerWrapper, XGBoostClassifier\", \"run_properties\": \"\\n    copy=True,\\n    with_mean=False,\\n    with_std=False\\n\", \"primary_metric\": 0.93750499, \"best_metric\": 0.94810862}, {\"run_id\": \"AutoML_27c618ae-14b9-4be3-a4e3-24d7fa1e905f_35\", \"run_number\": 40, \"metric\": null, \"status\": \"Canceled\", \"run_type\": \"azureml.scriptrun\", \"training_percent\": \"100\", \"start_time\": \"2021-08-16T23:08:55.050582Z\", \"end_time\": \"2021-08-16T23:10:57.394069Z\", \"created_time\": \"2021-08-16T23:08:39.451784Z\", \"created_time_dt\": \"2021-08-16T23:08:39.451784Z\", \"duration\": \"0:02:17\", \"iteration\": \"35\", \"goal\": null, \"run_name\": \"StandardScalerWrapper, XGBoostClassifier\", \"run_properties\": null}, {\"run_id\": \"AutoML_27c618ae-14b9-4be3-a4e3-24d7fa1e905f_36\", \"run_number\": 41, \"metric\": null, \"status\": \"Completed\", \"run_type\": \"azureml.scriptrun\", \"training_percent\": \"100\", \"start_time\": \"2021-08-16T23:09:51.62154Z\", \"end_time\": \"2021-08-16T23:10:53.756733Z\", \"created_time\": \"2021-08-16T23:08:42.337496Z\", \"created_time_dt\": \"2021-08-16T23:08:42.337496Z\", \"duration\": \"0:02:11\", \"iteration\": \"36\", \"goal\": \"AUC_weighted_max\", \"run_name\": \"StandardScalerWrapper, XGBoostClassifier\", \"run_properties\": \"\\n    copy=True,\\n    with_mean=False,\\n    with_std=False\\n\", \"primary_metric\": 0.94533281, \"best_metric\": 0.94810862}, {\"run_id\": \"AutoML_27c618ae-14b9-4be3-a4e3-24d7fa1e905f_37\", \"run_number\": 42, \"metric\": null, \"status\": \"Canceled\", \"run_type\": \"azureml.scriptrun\", \"training_percent\": \"100\", \"start_time\": \"2021-08-16T23:10:16.591579Z\", \"end_time\": \"2021-08-16T23:10:56.475717Z\", \"created_time\": \"2021-08-16T23:09:40.818906Z\", \"created_time_dt\": \"2021-08-16T23:09:40.818906Z\", \"duration\": \"0:01:15\", \"iteration\": \"37\", \"goal\": \"AUC_weighted_max\", \"run_name\": \"StandardScalerWrapper, LightGBM\", \"run_properties\": \"\\n    copy=True,\\n    with_mean=False,\\n    with_std=False\\n\", \"primary_metric\": 0.94033611, \"best_metric\": 0.94810862}, {\"run_id\": \"AutoML_27c618ae-14b9-4be3-a4e3-24d7fa1e905f_38\", \"run_number\": 43, \"metric\": null, \"status\": \"Canceled\", \"run_type\": \"azureml.scriptrun\", \"training_percent\": \"100\", \"start_time\": \"2021-08-16T23:10:31.011966Z\", \"end_time\": \"2021-08-16T23:10:57.468212Z\", \"created_time\": \"2021-08-16T23:10:01.68603Z\", \"created_time_dt\": \"2021-08-16T23:10:01.68603Z\", \"duration\": \"0:00:55\", \"iteration\": \"38\", \"goal\": null, \"run_name\": \"StandardScalerWrapper, XGBoostClassifier\", \"run_properties\": null}, {\"run_id\": \"AutoML_27c618ae-14b9-4be3-a4e3-24d7fa1e905f_39\", \"run_number\": 44, \"metric\": null, \"status\": \"Canceled\", \"run_type\": \"azureml.scriptrun\", \"training_percent\": \"100\", \"start_time\": \"2021-08-16T23:10:20.218236Z\", \"end_time\": \"2021-08-16T23:10:54.898676Z\", \"created_time\": \"2021-08-16T23:10:20.218236Z\", \"created_time_dt\": \"2021-08-16T23:10:20.218236Z\", \"duration\": \"0:00:34\", \"iteration\": \"39\", \"goal\": null, \"run_name\": \"Canceled\", \"run_properties\": null}, {\"run_id\": \"AutoML_27c618ae-14b9-4be3-a4e3-24d7fa1e905f_40\", \"run_number\": 45, \"metric\": null, \"status\": \"Completed\", \"run_type\": \"azureml.scriptrun\", \"training_percent\": \"100\", \"start_time\": \"2021-08-16T23:11:11.39926Z\", \"end_time\": \"2021-08-16T23:12:57.763046Z\", \"created_time\": \"2021-08-16T23:10:58.394336Z\", \"created_time_dt\": \"2021-08-16T23:10:58.394336Z\", \"duration\": \"0:01:59\", \"iteration\": \"40\", \"goal\": \"AUC_weighted_max\", \"run_name\": \"VotingEnsemble\", \"run_properties\": \"\\n    estimators=[('22', Pipeline(\\n        memory=None,\\n        steps=[('standardscalerwrapper', StandardScalerWrapper(\\n            copy=True,\\n            with_mean=False,\\n            with_std=False\\n        \", \"primary_metric\": 0.94906129, \"best_metric\": 0.94906129}, {\"run_id\": \"AutoML_27c618ae-14b9-4be3-a4e3-24d7fa1e905f_41\", \"run_number\": 46, \"metric\": null, \"status\": \"Completed\", \"run_type\": \"azureml.scriptrun\", \"training_percent\": \"100\", \"start_time\": \"2021-08-16T23:11:02.872866Z\", \"end_time\": \"2021-08-16T23:12:58.115793Z\", \"created_time\": \"2021-08-16T23:10:58.419803Z\", \"created_time_dt\": \"2021-08-16T23:10:58.419803Z\", \"duration\": \"0:01:59\", \"iteration\": \"41\", \"goal\": \"AUC_weighted_max\", \"run_name\": \"StackEnsemble\", \"run_properties\": \"\\n    base_learners=[('22', Pipeline(\\n        memory=None,\\n        steps=[('standardscalerwrapper', StandardScalerWrapper(\\n            copy=True,\\n            with_mean=False,\\n            with_std=False\\n        \", \"primary_metric\": 0.94891931, \"best_metric\": 0.94906129}], \"children_metrics\": {\"categories\": [0], \"series\": {\"log_loss\": [{\"categories\": [\"0\", \"1\", \"2\", \"3\", \"4\", \"5\", \"6\", \"7\", \"8\", \"9\", \"10\", \"11\", \"12\", \"13\", \"14\", \"15\", \"16\", \"17\", \"18\", \"19\", \"20\", \"21\", \"22\", \"23\", \"24\", \"25\", \"26\", \"27\", \"28\", \"29\", \"30\", \"31\", \"32\", \"33\", \"34\", \"36\", \"37\", \"40\", \"41\"], \"mode\": \"markers\", \"name\": \"log_loss\", \"stepped\": false, \"type\": \"scatter\", \"data\": [0.17904108366342283, 0.18423640116505527, 0.26456309286058405, 0.2976469517295118, 0.23750749083575737, 0.3289686325499783, 0.47822472775489805, 0.34562989227032975, 0.32191377881892114, 0.638419745900317, 0.234455097099397, 0.5888454836417679, 0.20705984272329409, 0.30771478477291236, 0.20507136501330306, 0.22286192720638925, 0.3836293970805329, 0.3928294449966038, 0.3174565951111294, 0.3078026632392669, 0.2239696284866626, 0.31718577416118415, 0.17835774097380225, 0.4548693223336179, 0.3288672056908958, 0.18242440661145937, 0.19742397148186325, 0.19284528342459506, 0.185918005820098, 0.19137536611538633, 0.19314148843381415, 0.17933584923656218, 0.18090254851401127, 0.22850830602445368, 0.19520856900773964, 0.1847870831085932, 0.19293235717674298, 0.22256030233683502, 0.29648763590595706]}, {\"categories\": [\"0\", \"1\", \"2\", \"3\", \"4\", \"5\", \"6\", \"7\", \"8\", \"9\", \"10\", \"11\", \"12\", \"13\", \"14\", \"15\", \"16\", \"17\", \"18\", \"19\", \"20\", \"21\", \"22\", \"23\", \"24\", \"25\", \"26\", \"27\", \"28\", \"29\", \"30\", \"31\", \"32\", \"33\", \"34\", \"36\", \"37\", \"40\", \"41\"], \"mode\": \"lines\", \"name\": \"log_loss_min\", \"stepped\": true, \"type\": \"scatter\", \"data\": [0.17904108366342283, 0.17904108366342283, 0.17904108366342283, 0.17904108366342283, 0.17904108366342283, 0.17904108366342283, 0.17904108366342283, 0.17904108366342283, 0.17904108366342283, 0.17904108366342283, 0.17904108366342283, 0.17904108366342283, 0.17904108366342283, 0.17904108366342283, 0.17904108366342283, 0.17904108366342283, 0.17904108366342283, 0.17904108366342283, 0.17904108366342283, 0.17904108366342283, 0.17904108366342283, 0.17904108366342283, 0.17835774097380225, 0.17835774097380225, 0.17835774097380225, 0.17835774097380225, 0.17835774097380225, 0.17835774097380225, 0.17835774097380225, 0.17835774097380225, 0.17835774097380225, 0.17835774097380225, 0.17835774097380225, 0.17835774097380225, 0.17835774097380225, 0.17835774097380225, 0.17835774097380225, 0.17835774097380225, 0.17835774097380225]}], \"weighted_accuracy\": [{\"categories\": [\"0\", \"1\", \"2\", \"3\", \"4\", \"5\", \"6\", \"7\", \"8\", \"9\", \"10\", \"11\", \"12\", \"13\", \"14\", \"15\", \"16\", \"17\", \"18\", \"19\", \"20\", \"21\", \"22\", \"23\", \"24\", \"25\", \"26\", \"27\", \"28\", \"29\", \"30\", \"31\", \"32\", \"33\", \"34\", \"36\", \"37\", \"40\", \"41\"], \"mode\": \"markers\", \"name\": \"weighted_accuracy\", \"stepped\": false, \"type\": \"scatter\", \"data\": [0.9533127126995369, 0.9576654233522788, 0.9820985022965781, 0.9827246589131347, 0.9780387039906767, 0.9644430323831225, 0.8064349498272746, 0.9740910165320223, 0.9581392188474833, 0.7187927522413037, 0.9690546156503971, 0.7373030820298064, 0.9560279105064696, 0.9827246589131347, 0.9665735660568592, 0.9800747286628722, 0.8562021478400771, 0.8214702704319821, 0.9535031092654777, 0.9827246589131347, 0.9624982726727328, 0.953239195735159, 0.9558377889611496, 0.781106574020187, 0.963205654900939, 0.9552006405306548, 0.960279377227336, 0.9571708479418265, 0.9548441022365469, 0.9614930289537245, 0.9521562927238819, 0.9556193645013792, 0.9529436914065981, 0.9626672915235124, 0.9591033915327108, 0.9521501505565524, 0.9606463295645443, 0.9594863030444392, 0.9802208364544424]}, {\"categories\": [\"0\", \"1\", \"2\", \"3\", \"4\", \"5\", \"6\", \"7\", \"8\", \"9\", \"10\", \"11\", \"12\", \"13\", \"14\", \"15\", \"16\", \"17\", \"18\", \"19\", \"20\", \"21\", \"22\", \"23\", \"24\", \"25\", \"26\", \"27\", \"28\", \"29\", \"30\", \"31\", \"32\", \"33\", \"34\", \"36\", \"37\", \"40\", \"41\"], \"mode\": \"lines\", \"name\": \"weighted_accuracy_max\", \"stepped\": true, \"type\": \"scatter\", \"data\": [0.9533127126995369, 0.9576654233522788, 0.9820985022965781, 0.9827246589131347, 0.9827246589131347, 0.9827246589131347, 0.9827246589131347, 0.9827246589131347, 0.9827246589131347, 0.9827246589131347, 0.9827246589131347, 0.9827246589131347, 0.9827246589131347, 0.9827246589131347, 0.9827246589131347, 0.9827246589131347, 0.9827246589131347, 0.9827246589131347, 0.9827246589131347, 0.9827246589131347, 0.9827246589131347, 0.9827246589131347, 0.9827246589131347, 0.9827246589131347, 0.9827246589131347, 0.9827246589131347, 0.9827246589131347, 0.9827246589131347, 0.9827246589131347, 0.9827246589131347, 0.9827246589131347, 0.9827246589131347, 0.9827246589131347, 0.9827246589131347, 0.9827246589131347, 0.9827246589131347, 0.9827246589131347, 0.9827246589131347, 0.9827246589131347]}], \"f1_score_micro\": [{\"categories\": [\"0\", \"1\", \"2\", \"3\", \"4\", \"5\", \"6\", \"7\", \"8\", \"9\", \"10\", \"11\", \"12\", \"13\", \"14\", \"15\", \"16\", \"17\", \"18\", \"19\", \"20\", \"21\", \"22\", \"23\", \"24\", \"25\", \"26\", \"27\", \"28\", \"29\", \"30\", \"31\", \"32\", \"33\", \"34\", \"36\", \"37\", \"40\", \"41\"], \"mode\": \"markers\", \"name\": \"f1_score_micro\", \"stepped\": false, \"type\": \"scatter\", \"data\": [0.9132653061224492, 0.9138846289961072, 0.8849534033266485, 0.8830659431402619, 0.8902618851008611, 0.9100212339270968, 0.7988085407573433, 0.9013802052612953, 0.9114663206322992, 0.7233101333018757, 0.8978707089772326, 0.7346348944201958, 0.9131768314262122, 0.8830659431402619, 0.908310723133184, 0.8985195234163029, 0.8568479414887342, 0.8294797687861272, 0.9135897133419842, 0.8830659431402619, 0.905184617199481, 0.9131768314262121, 0.9155656482246078, 0.7912587000117967, 0.9094019110534387, 0.913176831426212, 0.9090185207030788, 0.9060398725964375, 0.9100212339270968, 0.9097263182729739, 0.9108764893240534, 0.9148578506547127, 0.9136781880382211, 0.9053615665919547, 0.9095788604459125, 0.9112303881090008, 0.90993275923086, 0.9146219181314145, 0.8902323935354488]}, {\"categories\": [\"0\", \"1\", \"2\", \"3\", \"4\", \"5\", \"6\", \"7\", \"8\", \"9\", \"10\", \"11\", \"12\", \"13\", \"14\", \"15\", \"16\", \"17\", \"18\", \"19\", \"20\", \"21\", \"22\", \"23\", \"24\", \"25\", \"26\", \"27\", \"28\", \"29\", \"30\", \"31\", \"32\", \"33\", \"34\", \"36\", \"37\", \"40\", \"41\"], \"mode\": \"lines\", \"name\": \"f1_score_micro_max\", \"stepped\": true, \"type\": \"scatter\", \"data\": [0.9132653061224492, 0.9138846289961072, 0.9138846289961072, 0.9138846289961072, 0.9138846289961072, 0.9138846289961072, 0.9138846289961072, 0.9138846289961072, 0.9138846289961072, 0.9138846289961072, 0.9138846289961072, 0.9138846289961072, 0.9138846289961072, 0.9138846289961072, 0.9138846289961072, 0.9138846289961072, 0.9138846289961072, 0.9138846289961072, 0.9138846289961072, 0.9138846289961072, 0.9138846289961072, 0.9138846289961072, 0.9155656482246078, 0.9155656482246078, 0.9155656482246078, 0.9155656482246078, 0.9155656482246078, 0.9155656482246078, 0.9155656482246078, 0.9155656482246078, 0.9155656482246078, 0.9155656482246078, 0.9155656482246078, 0.9155656482246078, 0.9155656482246078, 0.9155656482246078, 0.9155656482246078, 0.9155656482246078, 0.9155656482246078]}], \"average_precision_score_micro\": [{\"categories\": [\"0\", \"1\", \"2\", \"3\", \"4\", \"5\", \"6\", \"7\", \"8\", \"9\", \"10\", \"11\", \"12\", \"13\", \"14\", \"15\", \"16\", \"17\", \"18\", \"19\", \"20\", \"21\", \"22\", \"23\", \"24\", \"25\", \"26\", \"27\", \"28\", \"29\", \"30\", \"31\", \"32\", \"33\", \"34\", \"36\", \"37\", \"40\", \"41\"], \"mode\": \"markers\", \"name\": \"average_precision_score_micro\", \"stepped\": false, \"type\": \"scatter\", \"data\": [0.9805922565211829, 0.9798409102266145, 0.9626076885174907, 0.9575588226276669, 0.9719658767013684, 0.9766777791243489, 0.8722094999486923, 0.9733463825906227, 0.9782833056603933, 0.8028653788664372, 0.9707850687013625, 0.801003555407685, 0.9801643697179406, 0.9448145630513548, 0.9768283454414011, 0.976751250110023, 0.8959608487482712, 0.9098280242283716, 0.9783575009217982, 0.9461082667426706, 0.9682719796334441, 0.9786578636412726, 0.9809764003500644, 0.8911116931700657, 0.9755446929737169, 0.9799618474552364, 0.9772213952594994, 0.9773787138785449, 0.9791856097369991, 0.9789657223995425, 0.9791039814885812, 0.9808180872589108, 0.9804271639907629, 0.9674246928608368, 0.9778072557736038, 0.9799182804963722, 0.9783214812323519, 0.9810413324392517, 0.9775455643941912]}, {\"categories\": [\"0\", \"1\", \"2\", \"3\", \"4\", \"5\", \"6\", \"7\", \"8\", \"9\", \"10\", \"11\", \"12\", \"13\", \"14\", \"15\", \"16\", \"17\", \"18\", \"19\", \"20\", \"21\", \"22\", \"23\", \"24\", \"25\", \"26\", \"27\", \"28\", \"29\", \"30\", \"31\", \"32\", \"33\", \"34\", \"36\", \"37\", \"40\", \"41\"], \"mode\": \"lines\", \"name\": \"average_precision_score_micro_max\", \"stepped\": true, \"type\": \"scatter\", \"data\": [0.9805922565211829, 0.9805922565211829, 0.9805922565211829, 0.9805922565211829, 0.9805922565211829, 0.9805922565211829, 0.9805922565211829, 0.9805922565211829, 0.9805922565211829, 0.9805922565211829, 0.9805922565211829, 0.9805922565211829, 0.9805922565211829, 0.9805922565211829, 0.9805922565211829, 0.9805922565211829, 0.9805922565211829, 0.9805922565211829, 0.9805922565211829, 0.9805922565211829, 0.9805922565211829, 0.9805922565211829, 0.9809764003500644, 0.9809764003500644, 0.9809764003500644, 0.9809764003500644, 0.9809764003500644, 0.9809764003500644, 0.9809764003500644, 0.9809764003500644, 0.9809764003500644, 0.9809764003500644, 0.9809764003500644, 0.9809764003500644, 0.9809764003500644, 0.9809764003500644, 0.9809764003500644, 0.9810413324392517, 0.9810413324392517]}], \"recall_score_weighted\": [{\"categories\": [\"0\", \"1\", \"2\", \"3\", \"4\", \"5\", \"6\", \"7\", \"8\", \"9\", \"10\", \"11\", \"12\", \"13\", \"14\", \"15\", \"16\", \"17\", \"18\", \"19\", \"20\", \"21\", \"22\", \"23\", \"24\", \"25\", \"26\", \"27\", \"28\", \"29\", \"30\", \"31\", \"32\", \"33\", \"34\", \"36\", \"37\", \"40\", \"41\"], \"mode\": \"markers\", \"name\": \"recall_score_weighted\", \"stepped\": false, \"type\": \"scatter\", \"data\": [0.913265306122449, 0.9138846289961072, 0.8849534033266485, 0.8830659431402619, 0.8902618851008611, 0.9100212339270968, 0.7988085407573433, 0.9013802052612953, 0.9114663206322992, 0.7233101333018757, 0.8978707089772326, 0.7346348944201957, 0.9131768314262121, 0.8830659431402619, 0.9083107231331837, 0.8985195234163029, 0.8568479414887342, 0.8294797687861272, 0.9135897133419842, 0.8830659431402619, 0.9051846171994808, 0.9131768314262121, 0.9155656482246078, 0.7912587000117967, 0.9094019110534387, 0.913176831426212, 0.9090185207030788, 0.9060398725964375, 0.9100212339270969, 0.9097263182729739, 0.9108764893240534, 0.9148578506547127, 0.9136781880382211, 0.9053615665919547, 0.9095788604459125, 0.9112303881090008, 0.90993275923086, 0.9146219181314145, 0.8902323935354488]}, {\"categories\": [\"0\", \"1\", \"2\", \"3\", \"4\", \"5\", \"6\", \"7\", \"8\", \"9\", \"10\", \"11\", \"12\", \"13\", \"14\", \"15\", \"16\", \"17\", \"18\", \"19\", \"20\", \"21\", \"22\", \"23\", \"24\", \"25\", \"26\", \"27\", \"28\", \"29\", \"30\", \"31\", \"32\", \"33\", \"34\", \"36\", \"37\", \"40\", \"41\"], \"mode\": \"lines\", \"name\": \"recall_score_weighted_max\", \"stepped\": true, \"type\": \"scatter\", \"data\": [0.913265306122449, 0.9138846289961072, 0.9138846289961072, 0.9138846289961072, 0.9138846289961072, 0.9138846289961072, 0.9138846289961072, 0.9138846289961072, 0.9138846289961072, 0.9138846289961072, 0.9138846289961072, 0.9138846289961072, 0.9138846289961072, 0.9138846289961072, 0.9138846289961072, 0.9138846289961072, 0.9138846289961072, 0.9138846289961072, 0.9138846289961072, 0.9138846289961072, 0.9138846289961072, 0.9138846289961072, 0.9155656482246078, 0.9155656482246078, 0.9155656482246078, 0.9155656482246078, 0.9155656482246078, 0.9155656482246078, 0.9155656482246078, 0.9155656482246078, 0.9155656482246078, 0.9155656482246078, 0.9155656482246078, 0.9155656482246078, 0.9155656482246078, 0.9155656482246078, 0.9155656482246078, 0.9155656482246078, 0.9155656482246078]}], \"f1_score_macro\": [{\"categories\": [\"0\", \"1\", \"2\", \"3\", \"4\", \"5\", \"6\", \"7\", \"8\", \"9\", \"10\", \"11\", \"12\", \"13\", \"14\", \"15\", \"16\", \"17\", \"18\", \"19\", \"20\", \"21\", \"22\", \"23\", \"24\", \"25\", \"26\", \"27\", \"28\", \"29\", \"30\", \"31\", \"32\", \"33\", \"34\", \"36\", \"37\", \"40\", \"41\"], \"mode\": \"markers\", \"name\": \"f1_score_macro\", \"stepped\": false, \"type\": \"scatter\", \"data\": [0.7760029192489339, 0.7701289748265266, 0.4905673109781515, 0.46894765026507207, 0.5671970308003406, 0.7383630240830245, 0.6679087039805508, 0.6627587202016858, 0.7588183475702813, 0.6068096892936888, 0.6619653842524561, 0.6080162259723759, 0.7704358836464023, 0.46894765026507207, 0.7249163222913849, 0.616796877845154, 0.7491407214188838, 0.7235126875674308, 0.7769584381962173, 0.46894765026507207, 0.7213550816310738, 0.7759390348228041, 0.7800411620479727, 0.682890716626973, 0.7373846271093034, 0.772183018580748, 0.7442661827480238, 0.7387893649009163, 0.7606007470330819, 0.7444427513934612, 0.7693038164687446, 0.7777738336730058, 0.7783335714897387, 0.7217239308123241, 0.7495305351174716, 0.7706841296542156, 0.7472717205556184, 0.7692231726589395, 0.5293081673516026]}, {\"categories\": [\"0\", \"1\", \"2\", \"3\", \"4\", \"5\", \"6\", \"7\", \"8\", \"9\", \"10\", \"11\", \"12\", \"13\", \"14\", \"15\", \"16\", \"17\", \"18\", \"19\", \"20\", \"21\", \"22\", \"23\", \"24\", \"25\", \"26\", \"27\", \"28\", \"29\", \"30\", \"31\", \"32\", \"33\", \"34\", \"36\", \"37\", \"40\", \"41\"], \"mode\": \"lines\", \"name\": \"f1_score_macro_max\", \"stepped\": true, \"type\": \"scatter\", \"data\": [0.7760029192489339, 0.7760029192489339, 0.7760029192489339, 0.7760029192489339, 0.7760029192489339, 0.7760029192489339, 0.7760029192489339, 0.7760029192489339, 0.7760029192489339, 0.7760029192489339, 0.7760029192489339, 0.7760029192489339, 0.7760029192489339, 0.7760029192489339, 0.7760029192489339, 0.7760029192489339, 0.7760029192489339, 0.7760029192489339, 0.7769584381962173, 0.7769584381962173, 0.7769584381962173, 0.7769584381962173, 0.7800411620479727, 0.7800411620479727, 0.7800411620479727, 0.7800411620479727, 0.7800411620479727, 0.7800411620479727, 0.7800411620479727, 0.7800411620479727, 0.7800411620479727, 0.7800411620479727, 0.7800411620479727, 0.7800411620479727, 0.7800411620479727, 0.7800411620479727, 0.7800411620479727, 0.7800411620479727, 0.7800411620479727]}], \"average_precision_score_macro\": [{\"categories\": [\"0\", \"1\", \"2\", \"3\", \"4\", \"5\", \"6\", \"7\", \"8\", \"9\", \"10\", \"11\", \"12\", \"13\", \"14\", \"15\", \"16\", \"17\", \"18\", \"19\", \"20\", \"21\", \"22\", \"23\", \"24\", \"25\", \"26\", \"27\", \"28\", \"29\", \"30\", \"31\", \"32\", \"33\", \"34\", \"36\", \"37\", \"40\", \"41\"], \"mode\": \"markers\", \"name\": \"average_precision_score_macro\", \"stepped\": false, \"type\": \"scatter\", \"data\": [0.8295084776247666, 0.8279132835832493, 0.7327294312750742, 0.7272458210337619, 0.7757807590860397, 0.8181998290783785, 0.7590039951440625, 0.7986027370298281, 0.824273436340541, 0.6832471449800744, 0.7735384198691283, 0.6955712701435859, 0.8283051815467145, 0.6975935330444442, 0.8177818703252048, 0.8266151888483696, 0.7825362041462167, 0.788129927224407, 0.8238712465377442, 0.7005877772330483, 0.7846704250109832, 0.8237971298439046, 0.833663445554696, 0.7632300843441916, 0.8168346410569447, 0.8265134309092915, 0.8137802150007677, 0.8031567132028675, 0.815472709442082, 0.8220611617441109, 0.8179892903067448, 0.8337544597443627, 0.8265575848848006, 0.7830282837540593, 0.8158755403555927, 0.822786435158199, 0.8138683240337041, 0.8361055475313552, 0.8353892258733779]}, {\"categories\": [\"0\", \"1\", \"2\", \"3\", \"4\", \"5\", \"6\", \"7\", \"8\", \"9\", \"10\", \"11\", \"12\", \"13\", \"14\", \"15\", \"16\", \"17\", \"18\", \"19\", \"20\", \"21\", \"22\", \"23\", \"24\", \"25\", \"26\", \"27\", \"28\", \"29\", \"30\", \"31\", \"32\", \"33\", \"34\", \"36\", \"37\", \"40\", \"41\"], \"mode\": \"lines\", \"name\": \"average_precision_score_macro_max\", \"stepped\": true, \"type\": \"scatter\", \"data\": [0.8295084776247666, 0.8295084776247666, 0.8295084776247666, 0.8295084776247666, 0.8295084776247666, 0.8295084776247666, 0.8295084776247666, 0.8295084776247666, 0.8295084776247666, 0.8295084776247666, 0.8295084776247666, 0.8295084776247666, 0.8295084776247666, 0.8295084776247666, 0.8295084776247666, 0.8295084776247666, 0.8295084776247666, 0.8295084776247666, 0.8295084776247666, 0.8295084776247666, 0.8295084776247666, 0.8295084776247666, 0.833663445554696, 0.833663445554696, 0.833663445554696, 0.833663445554696, 0.833663445554696, 0.833663445554696, 0.833663445554696, 0.833663445554696, 0.833663445554696, 0.8337544597443627, 0.8337544597443627, 0.8337544597443627, 0.8337544597443627, 0.8337544597443627, 0.8337544597443627, 0.8361055475313552, 0.8361055475313552]}], \"balanced_accuracy\": [{\"categories\": [\"0\", \"1\", \"2\", \"3\", \"4\", \"5\", \"6\", \"7\", \"8\", \"9\", \"10\", \"11\", \"12\", \"13\", \"14\", \"15\", \"16\", \"17\", \"18\", \"19\", \"20\", \"21\", \"22\", \"23\", \"24\", \"25\", \"26\", \"27\", \"28\", \"29\", \"30\", \"31\", \"32\", \"33\", \"34\", \"36\", \"37\", \"40\", \"41\"], \"mode\": \"markers\", \"name\": \"balanced_accuracy\", \"stepped\": false, \"type\": \"scatter\", \"data\": [0.7592466939248366, 0.7458377486651299, 0.5113624861968334, 0.5, 0.5528644010529422, 0.7010560814828776, 0.7695793664128517, 0.6221470970032051, 0.7323528730820765, 0.7409908760150972, 0.6243878231927146, 0.7246881613636994, 0.7484946968662406, 0.5, 0.6845843905414962, 0.5852547676406908, 0.8594042891113336, 0.8602898572820115, 0.7602297095668701, 0.5, 0.6851469131271958, 0.7592998133683155, 0.7608791012015439, 0.8303965943554773, 0.7031944746996832, 0.7517104697440463, 0.7122037971507512, 0.7096455332365562, 0.7379405085097125, 0.7109339085066638, 0.752368095324986, 0.7582594515434832, 0.762838689237395, 0.6853342746773834, 0.7195449699878107, 0.7540200424642175, 0.7151754520683065, 0.7422561266192079, 0.5436505524670133]}, {\"categories\": [\"0\", \"1\", \"2\", \"3\", \"4\", \"5\", \"6\", \"7\", \"8\", \"9\", \"10\", \"11\", \"12\", \"13\", \"14\", \"15\", \"16\", \"17\", \"18\", \"19\", \"20\", \"21\", \"22\", \"23\", \"24\", \"25\", \"26\", \"27\", \"28\", \"29\", \"30\", \"31\", \"32\", \"33\", \"34\", \"36\", \"37\", \"40\", \"41\"], \"mode\": \"lines\", \"name\": \"balanced_accuracy_max\", \"stepped\": true, \"type\": \"scatter\", \"data\": [0.7592466939248366, 0.7592466939248366, 0.7592466939248366, 0.7592466939248366, 0.7592466939248366, 0.7592466939248366, 0.7695793664128517, 0.7695793664128517, 0.7695793664128517, 0.7695793664128517, 0.7695793664128517, 0.7695793664128517, 0.7695793664128517, 0.7695793664128517, 0.7695793664128517, 0.7695793664128517, 0.8594042891113336, 0.8602898572820115, 0.8602898572820115, 0.8602898572820115, 0.8602898572820115, 0.8602898572820115, 0.8602898572820115, 0.8602898572820115, 0.8602898572820115, 0.8602898572820115, 0.8602898572820115, 0.8602898572820115, 0.8602898572820115, 0.8602898572820115, 0.8602898572820115, 0.8602898572820115, 0.8602898572820115, 0.8602898572820115, 0.8602898572820115, 0.8602898572820115, 0.8602898572820115, 0.8602898572820115, 0.8602898572820115]}], \"precision_score_weighted\": [{\"categories\": [\"0\", \"1\", \"2\", \"3\", \"4\", \"5\", \"6\", \"7\", \"8\", \"9\", \"10\", \"11\", \"12\", \"13\", \"14\", \"15\", \"16\", \"17\", \"18\", \"19\", \"20\", \"21\", \"22\", \"23\", \"24\", \"25\", \"26\", \"27\", \"28\", \"29\", \"30\", \"31\", \"32\", \"33\", \"34\", \"36\", \"37\", \"40\", \"41\"], \"mode\": \"markers\", \"name\": \"precision_score_weighted\", \"stepped\": false, \"type\": \"scatter\", \"data\": [0.9085141012522732, 0.9072405376015408, 0.8064446426234632, 0.7798289467288325, 0.8701655814096325, 0.8994579850382276, 0.8850113240978013, 0.8871116378225746, 0.9038716280792786, 0.8774187033697637, 0.8803859832060937, 0.8704838009799651, 0.9070746043339105, 0.7798289467288325, 0.8965410104075994, 0.8894299736459838, 0.9165118395941179, 0.9157391018626464, 0.9088706991002001, 0.7798289467288325, 0.8928925130958072, 0.9084307689299193, 0.9103956822126721, 0.9064202207868631, 0.8995143628413649, 0.9073497307131531, 0.8992828676672266, 0.8961842956919944, 0.9030907569157772, 0.8998471946375003, 0.9057638422427617, 0.9094901842875636, 0.9092646192898349, 0.8931115481120893, 0.9005182818136316, 0.9062563972226976, 0.9004250803055738, 0.9074639464714823, 0.8163148121617382]}, {\"categories\": [\"0\", \"1\", \"2\", \"3\", \"4\", \"5\", \"6\", \"7\", \"8\", \"9\", \"10\", \"11\", \"12\", \"13\", \"14\", \"15\", \"16\", \"17\", \"18\", \"19\", \"20\", \"21\", \"22\", \"23\", \"24\", \"25\", \"26\", \"27\", \"28\", \"29\", \"30\", \"31\", \"32\", \"33\", \"34\", \"36\", \"37\", \"40\", \"41\"], \"mode\": \"lines\", \"name\": \"precision_score_weighted_max\", \"stepped\": true, \"type\": \"scatter\", \"data\": [0.9085141012522732, 0.9085141012522732, 0.9085141012522732, 0.9085141012522732, 0.9085141012522732, 0.9085141012522732, 0.9085141012522732, 0.9085141012522732, 0.9085141012522732, 0.9085141012522732, 0.9085141012522732, 0.9085141012522732, 0.9085141012522732, 0.9085141012522732, 0.9085141012522732, 0.9085141012522732, 0.9165118395941179, 0.9165118395941179, 0.9165118395941179, 0.9165118395941179, 0.9165118395941179, 0.9165118395941179, 0.9165118395941179, 0.9165118395941179, 0.9165118395941179, 0.9165118395941179, 0.9165118395941179, 0.9165118395941179, 0.9165118395941179, 0.9165118395941179, 0.9165118395941179, 0.9165118395941179, 0.9165118395941179, 0.9165118395941179, 0.9165118395941179, 0.9165118395941179, 0.9165118395941179, 0.9165118395941179, 0.9165118395941179]}], \"accuracy\": [{\"categories\": [\"0\", \"1\", \"2\", \"3\", \"4\", \"5\", \"6\", \"7\", \"8\", \"9\", \"10\", \"11\", \"12\", \"13\", \"14\", \"15\", \"16\", \"17\", \"18\", \"19\", \"20\", \"21\", \"22\", \"23\", \"24\", \"25\", \"26\", \"27\", \"28\", \"29\", \"30\", \"31\", \"32\", \"33\", \"34\", \"36\", \"37\", \"40\", \"41\"], \"mode\": \"markers\", \"name\": \"accuracy\", \"stepped\": false, \"type\": \"scatter\", \"data\": [0.913265306122449, 0.9138846289961072, 0.8849534033266485, 0.8830659431402619, 0.8902618851008611, 0.9100212339270968, 0.7988085407573433, 0.9013802052612953, 0.9114663206322992, 0.7233101333018757, 0.8978707089772326, 0.7346348944201957, 0.9131768314262121, 0.8830659431402619, 0.9083107231331837, 0.8985195234163029, 0.8568479414887342, 0.8294797687861272, 0.9135897133419842, 0.8830659431402619, 0.9051846171994808, 0.9131768314262121, 0.9155656482246078, 0.7912587000117967, 0.9094019110534387, 0.913176831426212, 0.9090185207030788, 0.9060398725964375, 0.9100212339270969, 0.9097263182729739, 0.9108764893240534, 0.9148578506547127, 0.9136781880382211, 0.9053615665919547, 0.9095788604459125, 0.9112303881090008, 0.90993275923086, 0.9146219181314145, 0.8902323935354488]}, {\"categories\": [\"0\", \"1\", \"2\", \"3\", \"4\", \"5\", \"6\", \"7\", \"8\", \"9\", \"10\", \"11\", \"12\", \"13\", \"14\", \"15\", \"16\", \"17\", \"18\", \"19\", \"20\", \"21\", \"22\", \"23\", \"24\", \"25\", \"26\", \"27\", \"28\", \"29\", \"30\", \"31\", \"32\", \"33\", \"34\", \"36\", \"37\", \"40\", \"41\"], \"mode\": \"lines\", \"name\": \"accuracy_max\", \"stepped\": true, \"type\": \"scatter\", \"data\": [0.913265306122449, 0.9138846289961072, 0.9138846289961072, 0.9138846289961072, 0.9138846289961072, 0.9138846289961072, 0.9138846289961072, 0.9138846289961072, 0.9138846289961072, 0.9138846289961072, 0.9138846289961072, 0.9138846289961072, 0.9138846289961072, 0.9138846289961072, 0.9138846289961072, 0.9138846289961072, 0.9138846289961072, 0.9138846289961072, 0.9138846289961072, 0.9138846289961072, 0.9138846289961072, 0.9138846289961072, 0.9155656482246078, 0.9155656482246078, 0.9155656482246078, 0.9155656482246078, 0.9155656482246078, 0.9155656482246078, 0.9155656482246078, 0.9155656482246078, 0.9155656482246078, 0.9155656482246078, 0.9155656482246078, 0.9155656482246078, 0.9155656482246078, 0.9155656482246078, 0.9155656482246078, 0.9155656482246078, 0.9155656482246078]}], \"AUC_micro\": [{\"categories\": [\"0\", \"1\", \"2\", \"3\", \"4\", \"5\", \"6\", \"7\", \"8\", \"9\", \"10\", \"11\", \"12\", \"13\", \"14\", \"15\", \"16\", \"17\", \"18\", \"19\", \"20\", \"21\", \"22\", \"23\", \"24\", \"25\", \"26\", \"27\", \"28\", \"29\", \"30\", \"31\", \"32\", \"33\", \"34\", \"36\", \"37\", \"40\", \"41\"], \"mode\": \"markers\", \"name\": \"AUC_micro\", \"stepped\": false, \"type\": \"scatter\", \"data\": [0.9797974192469311, 0.9790351012459322, 0.9618605505332495, 0.9584105853240424, 0.9707624431757687, 0.9765120686012291, 0.8825596367671711, 0.9728487735600104, 0.9779264826172184, 0.806116616419793, 0.9698234132247094, 0.8093335958269361, 0.9793962268038243, 0.9478529580259286, 0.9769646125324589, 0.9757526973214645, 0.9176496985528532, 0.9114030148318951, 0.9783531848991106, 0.9481617853701768, 0.9707790763212489, 0.9784861526506805, 0.9801963590312427, 0.8864235310740766, 0.9758065480431968, 0.9791451405839301, 0.9763931099520564, 0.9764021997347073, 0.9782989749696245, 0.9781228414049304, 0.978229212562053, 0.9800397931567293, 0.9796051030685159, 0.9703588641319928, 0.9769779793226867, 0.9790514634635304, 0.9774544897170144, 0.9803050650387647, 0.9764711980647688]}, {\"categories\": [\"0\", \"1\", \"2\", \"3\", \"4\", \"5\", \"6\", \"7\", \"8\", \"9\", \"10\", \"11\", \"12\", \"13\", \"14\", \"15\", \"16\", \"17\", \"18\", \"19\", \"20\", \"21\", \"22\", \"23\", \"24\", \"25\", \"26\", \"27\", \"28\", \"29\", \"30\", \"31\", \"32\", \"33\", \"34\", \"36\", \"37\", \"40\", \"41\"], \"mode\": \"lines\", \"name\": \"AUC_micro_max\", \"stepped\": true, \"type\": \"scatter\", \"data\": [0.9797974192469311, 0.9797974192469311, 0.9797974192469311, 0.9797974192469311, 0.9797974192469311, 0.9797974192469311, 0.9797974192469311, 0.9797974192469311, 0.9797974192469311, 0.9797974192469311, 0.9797974192469311, 0.9797974192469311, 0.9797974192469311, 0.9797974192469311, 0.9797974192469311, 0.9797974192469311, 0.9797974192469311, 0.9797974192469311, 0.9797974192469311, 0.9797974192469311, 0.9797974192469311, 0.9797974192469311, 0.9801963590312427, 0.9801963590312427, 0.9801963590312427, 0.9801963590312427, 0.9801963590312427, 0.9801963590312427, 0.9801963590312427, 0.9801963590312427, 0.9801963590312427, 0.9801963590312427, 0.9801963590312427, 0.9801963590312427, 0.9801963590312427, 0.9801963590312427, 0.9801963590312427, 0.9803050650387647, 0.9803050650387647]}], \"AUC_macro\": [{\"categories\": [\"0\", \"1\", \"2\", \"3\", \"4\", \"5\", \"6\", \"7\", \"8\", \"9\", \"10\", \"11\", \"12\", \"13\", \"14\", \"15\", \"16\", \"17\", \"18\", \"19\", \"20\", \"21\", \"22\", \"23\", \"24\", \"25\", \"26\", \"27\", \"28\", \"29\", \"30\", \"31\", \"32\", \"33\", \"34\", \"36\", \"37\", \"40\", \"41\"], \"mode\": \"markers\", \"name\": \"AUC_macro\", \"stepped\": false, \"type\": \"scatter\", \"data\": [0.9471473213203075, 0.944453888101508, 0.8813831797405017, 0.8648759720811231, 0.921743325956422, 0.9352804513662953, 0.873720073502933, 0.925165339406178, 0.939986472466873, 0.8214990170118612, 0.9146498298051039, 0.8003190751817189, 0.9458310244058137, 0.8137873794189717, 0.9381357170737437, 0.944478015949307, 0.9286921343162078, 0.9238606472380682, 0.941226473128526, 0.8155171891559005, 0.9240825132444884, 0.9419654996401857, 0.948108622355721, 0.9077620118153552, 0.9317874506755944, 0.9450972690661283, 0.935456377203283, 0.9374285835087297, 0.9429249977267414, 0.9421741743840844, 0.9428172057519045, 0.9475947038139242, 0.9468433870819644, 0.922360137851767, 0.9375049925626753, 0.945332808054206, 0.9403361114649046, 0.9490612933335912, 0.9489193077320638]}, {\"categories\": [\"0\", \"1\", \"2\", \"3\", \"4\", \"5\", \"6\", \"7\", \"8\", \"9\", \"10\", \"11\", \"12\", \"13\", \"14\", \"15\", \"16\", \"17\", \"18\", \"19\", \"20\", \"21\", \"22\", \"23\", \"24\", \"25\", \"26\", \"27\", \"28\", \"29\", \"30\", \"31\", \"32\", \"33\", \"34\", \"36\", \"37\", \"40\", \"41\"], \"mode\": \"lines\", \"name\": \"AUC_macro_max\", \"stepped\": true, \"type\": \"scatter\", \"data\": [0.9471473213203075, 0.9471473213203075, 0.9471473213203075, 0.9471473213203075, 0.9471473213203075, 0.9471473213203075, 0.9471473213203075, 0.9471473213203075, 0.9471473213203075, 0.9471473213203075, 0.9471473213203075, 0.9471473213203075, 0.9471473213203075, 0.9471473213203075, 0.9471473213203075, 0.9471473213203075, 0.9471473213203075, 0.9471473213203075, 0.9471473213203075, 0.9471473213203075, 0.9471473213203075, 0.9471473213203075, 0.948108622355721, 0.948108622355721, 0.948108622355721, 0.948108622355721, 0.948108622355721, 0.948108622355721, 0.948108622355721, 0.948108622355721, 0.948108622355721, 0.948108622355721, 0.948108622355721, 0.948108622355721, 0.948108622355721, 0.948108622355721, 0.948108622355721, 0.9490612933335912, 0.9490612933335912]}], \"matthews_correlation\": [{\"categories\": [\"0\", \"1\", \"2\", \"3\", \"4\", \"5\", \"6\", \"7\", \"8\", \"9\", \"10\", \"11\", \"12\", \"13\", \"14\", \"15\", \"16\", \"17\", \"18\", \"19\", \"20\", \"21\", \"22\", \"23\", \"24\", \"25\", \"26\", \"27\", \"28\", \"29\", \"30\", \"31\", \"32\", \"33\", \"34\", \"36\", \"37\", \"40\", \"41\"], \"mode\": \"markers\", \"name\": \"matthews_correlation\", \"stepped\": false, \"type\": \"scatter\", \"data\": [0.5545886465506719, 0.5459726142837384, 0.06224474946426352, 0.0, 0.24801027344340354, 0.4960894371372036, 0.3973071046342541, 0.39170573452896956, 0.5266373723746616, 0.3287384989448356, 0.37507426134916466, 0.31076421235548557, 0.5457423520498274, 0.0, 0.4761296867136415, 0.34534643465826476, 0.5505369402547708, 0.525063074029937, 0.5564008699435908, 0.0, 0.4635385951907907, 0.554378954768837, 0.5633300191919965, 0.4650964887219194, 0.49536237576912395, 0.5481359590363409, 0.5012791743338891, 0.48809461202481624, 0.5264260708339786, 0.5029076271911296, 0.5413640161974779, 0.5588816924798913, 0.5587605503125922, 0.4644276356521545, 0.5095030828689279, 0.5439455642879449, 0.5069447428105709, 0.5456275591771723, 0.1257885125907074]}, {\"categories\": [\"0\", \"1\", \"2\", \"3\", \"4\", \"5\", \"6\", \"7\", \"8\", \"9\", \"10\", \"11\", \"12\", \"13\", \"14\", \"15\", \"16\", \"17\", \"18\", \"19\", \"20\", \"21\", \"22\", \"23\", \"24\", \"25\", \"26\", \"27\", \"28\", \"29\", \"30\", \"31\", \"32\", \"33\", \"34\", \"36\", \"37\", \"40\", \"41\"], \"mode\": \"lines\", \"name\": \"matthews_correlation_max\", \"stepped\": true, \"type\": \"scatter\", \"data\": [0.5545886465506719, 0.5545886465506719, 0.5545886465506719, 0.5545886465506719, 0.5545886465506719, 0.5545886465506719, 0.5545886465506719, 0.5545886465506719, 0.5545886465506719, 0.5545886465506719, 0.5545886465506719, 0.5545886465506719, 0.5545886465506719, 0.5545886465506719, 0.5545886465506719, 0.5545886465506719, 0.5545886465506719, 0.5545886465506719, 0.5564008699435908, 0.5564008699435908, 0.5564008699435908, 0.5564008699435908, 0.5633300191919965, 0.5633300191919965, 0.5633300191919965, 0.5633300191919965, 0.5633300191919965, 0.5633300191919965, 0.5633300191919965, 0.5633300191919965, 0.5633300191919965, 0.5633300191919965, 0.5633300191919965, 0.5633300191919965, 0.5633300191919965, 0.5633300191919965, 0.5633300191919965, 0.5633300191919965, 0.5633300191919965]}], \"recall_score_macro\": [{\"categories\": [\"0\", \"1\", \"2\", \"3\", \"4\", \"5\", \"6\", \"7\", \"8\", \"9\", \"10\", \"11\", \"12\", \"13\", \"14\", \"15\", \"16\", \"17\", \"18\", \"19\", \"20\", \"21\", \"22\", \"23\", \"24\", \"25\", \"26\", \"27\", \"28\", \"29\", \"30\", \"31\", \"32\", \"33\", \"34\", \"36\", \"37\", \"40\", \"41\"], \"mode\": \"markers\", \"name\": \"recall_score_macro\", \"stepped\": false, \"type\": \"scatter\", \"data\": [0.7592466939248366, 0.7458377486651299, 0.5113624861968334, 0.5, 0.5528644010529422, 0.7010560814828776, 0.7695793664128517, 0.6221470970032051, 0.7323528730820765, 0.7409908760150972, 0.6243878231927146, 0.7246881613636994, 0.7484946968662406, 0.5, 0.6845843905414962, 0.5852547676406908, 0.8594042891113336, 0.8602898572820115, 0.7602297095668701, 0.5, 0.6851469131271958, 0.7592998133683155, 0.7608791012015439, 0.8303965943554773, 0.7031944746996832, 0.7517104697440463, 0.7122037971507512, 0.7096455332365562, 0.7379405085097125, 0.7109339085066638, 0.752368095324986, 0.7582594515434832, 0.762838689237395, 0.6853342746773834, 0.7195449699878107, 0.7540200424642175, 0.7151754520683065, 0.7422561266192079, 0.5436505524670133]}, {\"categories\": [\"0\", \"1\", \"2\", \"3\", \"4\", \"5\", \"6\", \"7\", \"8\", \"9\", \"10\", \"11\", \"12\", \"13\", \"14\", \"15\", \"16\", \"17\", \"18\", \"19\", \"20\", \"21\", \"22\", \"23\", \"24\", \"25\", \"26\", \"27\", \"28\", \"29\", \"30\", \"31\", \"32\", \"33\", \"34\", \"36\", \"37\", \"40\", \"41\"], \"mode\": \"lines\", \"name\": \"recall_score_macro_max\", \"stepped\": true, \"type\": \"scatter\", \"data\": [0.7592466939248366, 0.7592466939248366, 0.7592466939248366, 0.7592466939248366, 0.7592466939248366, 0.7592466939248366, 0.7695793664128517, 0.7695793664128517, 0.7695793664128517, 0.7695793664128517, 0.7695793664128517, 0.7695793664128517, 0.7695793664128517, 0.7695793664128517, 0.7695793664128517, 0.7695793664128517, 0.8594042891113336, 0.8602898572820115, 0.8602898572820115, 0.8602898572820115, 0.8602898572820115, 0.8602898572820115, 0.8602898572820115, 0.8602898572820115, 0.8602898572820115, 0.8602898572820115, 0.8602898572820115, 0.8602898572820115, 0.8602898572820115, 0.8602898572820115, 0.8602898572820115, 0.8602898572820115, 0.8602898572820115, 0.8602898572820115, 0.8602898572820115, 0.8602898572820115, 0.8602898572820115, 0.8602898572820115, 0.8602898572820115]}], \"precision_score_macro\": [{\"categories\": [\"0\", \"1\", \"2\", \"3\", \"4\", \"5\", \"6\", \"7\", \"8\", \"9\", \"10\", \"11\", \"12\", \"13\", \"14\", \"15\", \"16\", \"17\", \"18\", \"19\", \"20\", \"21\", \"22\", \"23\", \"24\", \"25\", \"26\", \"27\", \"28\", \"29\", \"30\", \"31\", \"32\", \"33\", \"34\", \"36\", \"37\", \"40\", \"41\"], \"mode\": \"markers\", \"name\": \"precision_score_macro\", \"stepped\": false, \"type\": \"scatter\", \"data\": [0.7967299292112013, 0.8032539973554734, 0.5454534744515732, 0.44153297157013094, 0.7910630639480523, 0.8062396629469399, 0.6464329958309524, 0.8142161373428898, 0.799337663668617, 0.6122584613440522, 0.7829890481060089, 0.6075018408375797, 0.7999132298049956, 0.44153297157013094, 0.807115290218387, 0.8511312846977894, 0.7108999606464439, 0.6913400500592956, 0.7974952854132311, 0.44153297157013094, 0.7903456531631995, 0.7964110512207877, 0.8042002062882069, 0.6638173815381073, 0.804465008069244, 0.7984525785115917, 0.7962142360866752, 0.7842073434174954, 0.7913014106461127, 0.7998906797370982, 0.7904597753121629, 0.8024147468810143, 0.7970318824391408, 0.7911510763832029, 0.7957398013965485, 0.7912970170268138, 0.7987096295451906, 0.8073410746962827, 0.5626385549181211]}, {\"categories\": [\"0\", \"1\", \"2\", \"3\", \"4\", \"5\", \"6\", \"7\", \"8\", \"9\", \"10\", \"11\", \"12\", \"13\", \"14\", \"15\", \"16\", \"17\", \"18\", \"19\", \"20\", \"21\", \"22\", \"23\", \"24\", \"25\", \"26\", \"27\", \"28\", \"29\", \"30\", \"31\", \"32\", \"33\", \"34\", \"36\", \"37\", \"40\", \"41\"], \"mode\": \"lines\", \"name\": \"precision_score_macro_max\", \"stepped\": true, \"type\": \"scatter\", \"data\": [0.7967299292112013, 0.8032539973554734, 0.8032539973554734, 0.8032539973554734, 0.8032539973554734, 0.8062396629469399, 0.8062396629469399, 0.8142161373428898, 0.8142161373428898, 0.8142161373428898, 0.8142161373428898, 0.8142161373428898, 0.8142161373428898, 0.8142161373428898, 0.8142161373428898, 0.8511312846977894, 0.8511312846977894, 0.8511312846977894, 0.8511312846977894, 0.8511312846977894, 0.8511312846977894, 0.8511312846977894, 0.8511312846977894, 0.8511312846977894, 0.8511312846977894, 0.8511312846977894, 0.8511312846977894, 0.8511312846977894, 0.8511312846977894, 0.8511312846977894, 0.8511312846977894, 0.8511312846977894, 0.8511312846977894, 0.8511312846977894, 0.8511312846977894, 0.8511312846977894, 0.8511312846977894, 0.8511312846977894, 0.8511312846977894]}], \"recall_score_micro\": [{\"categories\": [\"0\", \"1\", \"2\", \"3\", \"4\", \"5\", \"6\", \"7\", \"8\", \"9\", \"10\", \"11\", \"12\", \"13\", \"14\", \"15\", \"16\", \"17\", \"18\", \"19\", \"20\", \"21\", \"22\", \"23\", \"24\", \"25\", \"26\", \"27\", \"28\", \"29\", \"30\", \"31\", \"32\", \"33\", \"34\", \"36\", \"37\", \"40\", \"41\"], \"mode\": \"markers\", \"name\": \"recall_score_micro\", \"stepped\": false, \"type\": \"scatter\", \"data\": [0.913265306122449, 0.9138846289961072, 0.8849534033266485, 0.8830659431402619, 0.8902618851008611, 0.9100212339270968, 0.7988085407573433, 0.9013802052612953, 0.9114663206322992, 0.7233101333018757, 0.8978707089772326, 0.7346348944201957, 0.9131768314262121, 0.8830659431402619, 0.9083107231331837, 0.8985195234163029, 0.8568479414887342, 0.8294797687861272, 0.9135897133419842, 0.8830659431402619, 0.9051846171994808, 0.9131768314262121, 0.9155656482246078, 0.7912587000117967, 0.9094019110534387, 0.913176831426212, 0.9090185207030788, 0.9060398725964375, 0.9100212339270969, 0.9097263182729739, 0.9108764893240534, 0.9148578506547127, 0.9136781880382211, 0.9053615665919547, 0.9095788604459125, 0.9112303881090008, 0.90993275923086, 0.9146219181314145, 0.8902323935354488]}, {\"categories\": [\"0\", \"1\", \"2\", \"3\", \"4\", \"5\", \"6\", \"7\", \"8\", \"9\", \"10\", \"11\", \"12\", \"13\", \"14\", \"15\", \"16\", \"17\", \"18\", \"19\", \"20\", \"21\", \"22\", \"23\", \"24\", \"25\", \"26\", \"27\", \"28\", \"29\", \"30\", \"31\", \"32\", \"33\", \"34\", \"36\", \"37\", \"40\", \"41\"], \"mode\": \"lines\", \"name\": \"recall_score_micro_max\", \"stepped\": true, \"type\": \"scatter\", \"data\": [0.913265306122449, 0.9138846289961072, 0.9138846289961072, 0.9138846289961072, 0.9138846289961072, 0.9138846289961072, 0.9138846289961072, 0.9138846289961072, 0.9138846289961072, 0.9138846289961072, 0.9138846289961072, 0.9138846289961072, 0.9138846289961072, 0.9138846289961072, 0.9138846289961072, 0.9138846289961072, 0.9138846289961072, 0.9138846289961072, 0.9138846289961072, 0.9138846289961072, 0.9138846289961072, 0.9138846289961072, 0.9155656482246078, 0.9155656482246078, 0.9155656482246078, 0.9155656482246078, 0.9155656482246078, 0.9155656482246078, 0.9155656482246078, 0.9155656482246078, 0.9155656482246078, 0.9155656482246078, 0.9155656482246078, 0.9155656482246078, 0.9155656482246078, 0.9155656482246078, 0.9155656482246078, 0.9155656482246078, 0.9155656482246078]}], \"norm_macro_recall\": [{\"categories\": [\"0\", \"1\", \"2\", \"3\", \"4\", \"5\", \"6\", \"7\", \"8\", \"9\", \"10\", \"11\", \"12\", \"13\", \"14\", \"15\", \"16\", \"17\", \"18\", \"19\", \"20\", \"21\", \"22\", \"23\", \"24\", \"25\", \"26\", \"27\", \"28\", \"29\", \"30\", \"31\", \"32\", \"33\", \"34\", \"36\", \"37\", \"40\", \"41\"], \"mode\": \"markers\", \"name\": \"norm_macro_recall\", \"stepped\": false, \"type\": \"scatter\", \"data\": [0.5184933878496729, 0.4916754973302599, 0.022724972393667078, 0.0, 0.10572880210588449, 0.4021121629657551, 0.5391587328257035, 0.24429419400641028, 0.46470574616415306, 0.4819817520301943, 0.2487756463854294, 0.4493763227273987, 0.49698939373248124, 0.0, 0.3691687810829924, 0.17050953528138169, 0.7188085782226672, 0.7205797145640229, 0.52045941913374, 0.0, 0.3702938262543918, 0.5185996267366312, 0.5217582024030879, 0.6607931887109545, 0.4063889493993666, 0.5034209394880927, 0.4244075943015025, 0.4192910664731125, 0.47588101701942503, 0.4218678170133277, 0.504736190649972, 0.5165189030869662, 0.5256773784747901, 0.37066854935476673, 0.4390899399756213, 0.5080400849284351, 0.43035090413661287, 0.48451225323841596, 0.08730110493402668]}, {\"categories\": [\"0\", \"1\", \"2\", \"3\", \"4\", \"5\", \"6\", \"7\", \"8\", \"9\", \"10\", \"11\", \"12\", \"13\", \"14\", \"15\", \"16\", \"17\", \"18\", \"19\", \"20\", \"21\", \"22\", \"23\", \"24\", \"25\", \"26\", \"27\", \"28\", \"29\", \"30\", \"31\", \"32\", \"33\", \"34\", \"36\", \"37\", \"40\", \"41\"], \"mode\": \"lines\", \"name\": \"norm_macro_recall_max\", \"stepped\": true, \"type\": \"scatter\", \"data\": [0.5184933878496729, 0.5184933878496729, 0.5184933878496729, 0.5184933878496729, 0.5184933878496729, 0.5184933878496729, 0.5391587328257035, 0.5391587328257035, 0.5391587328257035, 0.5391587328257035, 0.5391587328257035, 0.5391587328257035, 0.5391587328257035, 0.5391587328257035, 0.5391587328257035, 0.5391587328257035, 0.7188085782226672, 0.7205797145640229, 0.7205797145640229, 0.7205797145640229, 0.7205797145640229, 0.7205797145640229, 0.7205797145640229, 0.7205797145640229, 0.7205797145640229, 0.7205797145640229, 0.7205797145640229, 0.7205797145640229, 0.7205797145640229, 0.7205797145640229, 0.7205797145640229, 0.7205797145640229, 0.7205797145640229, 0.7205797145640229, 0.7205797145640229, 0.7205797145640229, 0.7205797145640229, 0.7205797145640229, 0.7205797145640229]}], \"precision_score_micro\": [{\"categories\": [\"0\", \"1\", \"2\", \"3\", \"4\", \"5\", \"6\", \"7\", \"8\", \"9\", \"10\", \"11\", \"12\", \"13\", \"14\", \"15\", \"16\", \"17\", \"18\", \"19\", \"20\", \"21\", \"22\", \"23\", \"24\", \"25\", \"26\", \"27\", \"28\", \"29\", \"30\", \"31\", \"32\", \"33\", \"34\", \"36\", \"37\", \"40\", \"41\"], \"mode\": \"markers\", \"name\": \"precision_score_micro\", \"stepped\": false, \"type\": \"scatter\", \"data\": [0.913265306122449, 0.9138846289961072, 0.8849534033266485, 0.8830659431402619, 0.8902618851008611, 0.9100212339270968, 0.7988085407573433, 0.9013802052612953, 0.9114663206322992, 0.7233101333018757, 0.8978707089772326, 0.7346348944201957, 0.9131768314262121, 0.8830659431402619, 0.9083107231331837, 0.8985195234163029, 0.8568479414887342, 0.8294797687861272, 0.9135897133419842, 0.8830659431402619, 0.9051846171994808, 0.9131768314262121, 0.9155656482246078, 0.7912587000117967, 0.9094019110534387, 0.913176831426212, 0.9090185207030788, 0.9060398725964375, 0.9100212339270969, 0.9097263182729739, 0.9108764893240534, 0.9148578506547127, 0.9136781880382211, 0.9053615665919547, 0.9095788604459125, 0.9112303881090008, 0.90993275923086, 0.9146219181314145, 0.8902323935354488]}, {\"categories\": [\"0\", \"1\", \"2\", \"3\", \"4\", \"5\", \"6\", \"7\", \"8\", \"9\", \"10\", \"11\", \"12\", \"13\", \"14\", \"15\", \"16\", \"17\", \"18\", \"19\", \"20\", \"21\", \"22\", \"23\", \"24\", \"25\", \"26\", \"27\", \"28\", \"29\", \"30\", \"31\", \"32\", \"33\", \"34\", \"36\", \"37\", \"40\", \"41\"], \"mode\": \"lines\", \"name\": \"precision_score_micro_max\", \"stepped\": true, \"type\": \"scatter\", \"data\": [0.913265306122449, 0.9138846289961072, 0.9138846289961072, 0.9138846289961072, 0.9138846289961072, 0.9138846289961072, 0.9138846289961072, 0.9138846289961072, 0.9138846289961072, 0.9138846289961072, 0.9138846289961072, 0.9138846289961072, 0.9138846289961072, 0.9138846289961072, 0.9138846289961072, 0.9138846289961072, 0.9138846289961072, 0.9138846289961072, 0.9138846289961072, 0.9138846289961072, 0.9138846289961072, 0.9138846289961072, 0.9155656482246078, 0.9155656482246078, 0.9155656482246078, 0.9155656482246078, 0.9155656482246078, 0.9155656482246078, 0.9155656482246078, 0.9155656482246078, 0.9155656482246078, 0.9155656482246078, 0.9155656482246078, 0.9155656482246078, 0.9155656482246078, 0.9155656482246078, 0.9155656482246078, 0.9155656482246078, 0.9155656482246078]}], \"average_precision_score_weighted\": [{\"categories\": [\"0\", \"1\", \"2\", \"3\", \"4\", \"5\", \"6\", \"7\", \"8\", \"9\", \"10\", \"11\", \"12\", \"13\", \"14\", \"15\", \"16\", \"17\", \"18\", \"19\", \"20\", \"21\", \"22\", \"23\", \"24\", \"25\", \"26\", \"27\", \"28\", \"29\", \"30\", \"31\", \"32\", \"33\", \"34\", \"36\", \"37\", \"40\", \"41\"], \"mode\": \"markers\", \"name\": \"average_precision_score_weighted\", \"stepped\": false, \"type\": \"scatter\", \"data\": [0.9545834348454499, 0.9538653198273336, 0.9235571626994465, 0.9185447085419713, 0.9390774405814212, 0.9498728143692363, 0.9281392015463924, 0.9442126233963261, 0.9520581476335065, 0.9022835021226561, 0.9374792389701062, 0.9002426182410523, 0.9540819045942329, 0.9029580810455008, 0.9500262117593807, 0.9534899754202998, 0.9414378195005291, 0.9423924756936294, 0.9518745111534803, 0.9046900911373456, 0.941103835157141, 0.9520678523135121, 0.955650668306463, 0.934374782197083, 0.9487529912178487, 0.9536229173714744, 0.949420915702686, 0.9473536991569821, 0.9508297301199597, 0.9522108387461631, 0.9513954141296309, 0.9555940381363018, 0.953885127690565, 0.9394078323389746, 0.9501608264445321, 0.9528497719018842, 0.950091392664869, 0.9563006292556688, 0.9561179022691045]}, {\"categories\": [\"0\", \"1\", \"2\", \"3\", \"4\", \"5\", \"6\", \"7\", \"8\", \"9\", \"10\", \"11\", \"12\", \"13\", \"14\", \"15\", \"16\", \"17\", \"18\", \"19\", \"20\", \"21\", \"22\", \"23\", \"24\", \"25\", \"26\", \"27\", \"28\", \"29\", \"30\", \"31\", \"32\", \"33\", \"34\", \"36\", \"37\", \"40\", \"41\"], \"mode\": \"lines\", \"name\": \"average_precision_score_weighted_max\", \"stepped\": true, \"type\": \"scatter\", \"data\": [0.9545834348454499, 0.9545834348454499, 0.9545834348454499, 0.9545834348454499, 0.9545834348454499, 0.9545834348454499, 0.9545834348454499, 0.9545834348454499, 0.9545834348454499, 0.9545834348454499, 0.9545834348454499, 0.9545834348454499, 0.9545834348454499, 0.9545834348454499, 0.9545834348454499, 0.9545834348454499, 0.9545834348454499, 0.9545834348454499, 0.9545834348454499, 0.9545834348454499, 0.9545834348454499, 0.9545834348454499, 0.955650668306463, 0.955650668306463, 0.955650668306463, 0.955650668306463, 0.955650668306463, 0.955650668306463, 0.955650668306463, 0.955650668306463, 0.955650668306463, 0.955650668306463, 0.955650668306463, 0.955650668306463, 0.955650668306463, 0.955650668306463, 0.955650668306463, 0.9563006292556688, 0.9563006292556688]}], \"f1_score_weighted\": [{\"categories\": [\"0\", \"1\", \"2\", \"3\", \"4\", \"5\", \"6\", \"7\", \"8\", \"9\", \"10\", \"11\", \"12\", \"13\", \"14\", \"15\", \"16\", \"17\", \"18\", \"19\", \"20\", \"21\", \"22\", \"23\", \"24\", \"25\", \"26\", \"27\", \"28\", \"29\", \"30\", \"31\", \"32\", \"33\", \"34\", \"36\", \"37\", \"40\", \"41\"], \"mode\": \"markers\", \"name\": \"f1_score_weighted\", \"stepped\": false, \"type\": \"scatter\", \"data\": [0.9103565896449073, 0.9093755028085277, 0.8340554762479014, 0.8282365857503798, 0.8536869567248514, 0.9007070214470854, 0.827660224440746, 0.8800314433039508, 0.9057966442205594, 0.7702472200934095, 0.8782968210687618, 0.7787116561259612, 0.9091174695551356, 0.8282365857503798, 0.8969482469940105, 0.8684571256745562, 0.8751023578857409, 0.8546745058255508, 0.9107139916931565, 0.8282365857503798, 0.8947060993618298, 0.9102837460559196, 0.9123069445642862, 0.8249560948048344, 0.900133832186121, 0.9094834509712403, 0.901502932335832, 0.8989298020488921, 0.9054717303428905, 0.9018768215025276, 0.9077471372259132, 0.9114836639641964, 0.9110361878791193, 0.8948731556061896, 0.9028788299646634, 0.9082097405408583, 0.9026029552163821, 0.9095564635073564, 0.845230500160615]}, {\"categories\": [\"0\", \"1\", \"2\", \"3\", \"4\", \"5\", \"6\", \"7\", \"8\", \"9\", \"10\", \"11\", \"12\", \"13\", \"14\", \"15\", \"16\", \"17\", \"18\", \"19\", \"20\", \"21\", \"22\", \"23\", \"24\", \"25\", \"26\", \"27\", \"28\", \"29\", \"30\", \"31\", \"32\", \"33\", \"34\", \"36\", \"37\", \"40\", \"41\"], \"mode\": \"lines\", \"name\": \"f1_score_weighted_max\", \"stepped\": true, \"type\": \"scatter\", \"data\": [0.9103565896449073, 0.9103565896449073, 0.9103565896449073, 0.9103565896449073, 0.9103565896449073, 0.9103565896449073, 0.9103565896449073, 0.9103565896449073, 0.9103565896449073, 0.9103565896449073, 0.9103565896449073, 0.9103565896449073, 0.9103565896449073, 0.9103565896449073, 0.9103565896449073, 0.9103565896449073, 0.9103565896449073, 0.9103565896449073, 0.9107139916931565, 0.9107139916931565, 0.9107139916931565, 0.9107139916931565, 0.9123069445642862, 0.9123069445642862, 0.9123069445642862, 0.9123069445642862, 0.9123069445642862, 0.9123069445642862, 0.9123069445642862, 0.9123069445642862, 0.9123069445642862, 0.9123069445642862, 0.9123069445642862, 0.9123069445642862, 0.9123069445642862, 0.9123069445642862, 0.9123069445642862, 0.9123069445642862, 0.9123069445642862]}], \"AUC_weighted\": [{\"categories\": [\"0\", \"1\", \"2\", \"3\", \"4\", \"5\", \"6\", \"7\", \"8\", \"9\", \"10\", \"11\", \"12\", \"13\", \"14\", \"15\", \"16\", \"17\", \"18\", \"19\", \"20\", \"21\", \"22\", \"23\", \"24\", \"25\", \"26\", \"27\", \"28\", \"29\", \"30\", \"31\", \"32\", \"33\", \"34\", \"36\", \"37\", \"40\", \"41\"], \"mode\": \"markers\", \"name\": \"AUC_weighted\", \"stepped\": false, \"type\": \"scatter\", \"data\": [0.9471473213203075, 0.944453888101508, 0.8813831797405014, 0.8648759720811231, 0.9217433259564219, 0.9352804513662953, 0.873720073502933, 0.9251653505015209, 0.9399864724668731, 0.8214990170118612, 0.9146498298051039, 0.8003190751817189, 0.9458310244058137, 0.8137873794189721, 0.9381357170737437, 0.944478015949307, 0.9286921343162078, 0.9238606472380682, 0.9412264731285261, 0.8155171891559005, 0.9240825132444884, 0.9419654996401857, 0.948108622355721, 0.9077620118153552, 0.9317874506755943, 0.9450972690661283, 0.9354563772032832, 0.9374285835087297, 0.9429249977267414, 0.9421741743840842, 0.9428172166459928, 0.9475947038139242, 0.9468433870819644, 0.9223601378517668, 0.9375049925626753, 0.945332808054206, 0.9403361114649046, 0.949061293333591, 0.9489193077320639]}, {\"categories\": [\"0\", \"1\", \"2\", \"3\", \"4\", \"5\", \"6\", \"7\", \"8\", \"9\", \"10\", \"11\", \"12\", \"13\", \"14\", \"15\", \"16\", \"17\", \"18\", \"19\", \"20\", \"21\", \"22\", \"23\", \"24\", \"25\", \"26\", \"27\", \"28\", \"29\", \"30\", \"31\", \"32\", \"33\", \"34\", \"36\", \"37\", \"40\", \"41\"], \"mode\": \"lines\", \"name\": \"AUC_weighted_max\", \"stepped\": true, \"type\": \"scatter\", \"data\": [0.9471473213203075, 0.9471473213203075, 0.9471473213203075, 0.9471473213203075, 0.9471473213203075, 0.9471473213203075, 0.9471473213203075, 0.9471473213203075, 0.9471473213203075, 0.9471473213203075, 0.9471473213203075, 0.9471473213203075, 0.9471473213203075, 0.9471473213203075, 0.9471473213203075, 0.9471473213203075, 0.9471473213203075, 0.9471473213203075, 0.9471473213203075, 0.9471473213203075, 0.9471473213203075, 0.9471473213203075, 0.948108622355721, 0.948108622355721, 0.948108622355721, 0.948108622355721, 0.948108622355721, 0.948108622355721, 0.948108622355721, 0.948108622355721, 0.948108622355721, 0.948108622355721, 0.948108622355721, 0.948108622355721, 0.948108622355721, 0.948108622355721, 0.948108622355721, 0.949061293333591, 0.949061293333591]}]}, \"metricName\": null, \"primaryMetricName\": \"AUC_weighted\", \"showLegend\": false}, \"run_metrics\": [{\"name\": \"experiment_status\", \"run_id\": \"AutoML_27c618ae-14b9-4be3-a4e3-24d7fa1e905f\", \"categories\": [0, 1, 2, 3, 4, 5, 6, 7, 8, 9, 10, 11, 12, 13, 14], \"series\": [{\"data\": [\"DatasetEvaluation\", \"FeaturesGeneration\", \"DatasetFeaturization\", \"DatasetFeaturizationCompleted\", \"DatasetBalancing\", \"DatasetCrossValidationSplit\", \"ModelSelection\", \"BestRunExplainModel\", \"ModelExplanationDataSetSetup\", \"PickSurrogateModel\", \"EngineeredFeatureExplanations\", \"EngineeredFeatureExplanations\", \"RawFeaturesExplanations\", \"RawFeaturesExplanations\", \"BestRunExplainModel\"]}]}, {\"name\": \"experiment_status_description\", \"run_id\": \"AutoML_27c618ae-14b9-4be3-a4e3-24d7fa1e905f\", \"categories\": [0, 1, 2, 3, 4, 5, 6, 7, 8, 9, 10, 11, 12, 13, 14], \"series\": [{\"data\": [\"Gathering dataset statistics.\", \"Generating features for the dataset.\", \"Beginning to fit featurizers and featurize the dataset.\", \"Completed fit featurizers and featurizing the dataset.\", \"Performing class balancing sweeping\", \"Generating individually featurized CV splits.\", \"Beginning model selection.\", \"Best run model explanations started\", \"Model explanations data setup completed\", \"Choosing LightGBM as the surrogate model for explanations\", \"Computation of engineered features started\", \"Computation of engineered features completed\", \"Computation of raw features started\", \"Computation of raw features completed\", \"Best run model explanations completed\"]}]}, {\"name\": \"average_precision_score_macro\", \"run_id\": \"AutoML_27c618ae-14b9-4be3-a4e3-24d7fa1e905f\", \"categories\": [0], \"series\": [{\"data\": [0.8361055475313552]}]}, {\"name\": \"recall_score_weighted\", \"run_id\": \"AutoML_27c618ae-14b9-4be3-a4e3-24d7fa1e905f\", \"categories\": [0], \"series\": [{\"data\": [0.9146219181314145]}]}, {\"name\": \"recall_score_micro\", \"run_id\": \"AutoML_27c618ae-14b9-4be3-a4e3-24d7fa1e905f\", \"categories\": [0], \"series\": [{\"data\": [0.9146219181314145]}]}, {\"name\": \"matthews_correlation\", \"run_id\": \"AutoML_27c618ae-14b9-4be3-a4e3-24d7fa1e905f\", \"categories\": [0], \"series\": [{\"data\": [0.5456275591771723]}]}, {\"name\": \"recall_score_macro\", \"run_id\": \"AutoML_27c618ae-14b9-4be3-a4e3-24d7fa1e905f\", \"categories\": [0], \"series\": [{\"data\": [0.7422561266192079]}]}, {\"name\": \"weighted_accuracy\", \"run_id\": \"AutoML_27c618ae-14b9-4be3-a4e3-24d7fa1e905f\", \"categories\": [0], \"series\": [{\"data\": [0.9594863030444392]}]}, {\"name\": \"norm_macro_recall\", \"run_id\": \"AutoML_27c618ae-14b9-4be3-a4e3-24d7fa1e905f\", \"categories\": [0], \"series\": [{\"data\": [0.48451225323841596]}]}, {\"name\": \"accuracy\", \"run_id\": \"AutoML_27c618ae-14b9-4be3-a4e3-24d7fa1e905f\", \"categories\": [0], \"series\": [{\"data\": [0.9146219181314145]}]}, {\"name\": \"precision_score_micro\", \"run_id\": \"AutoML_27c618ae-14b9-4be3-a4e3-24d7fa1e905f\", \"categories\": [0], \"series\": [{\"data\": [0.9146219181314145]}]}, {\"name\": \"f1_score_weighted\", \"run_id\": \"AutoML_27c618ae-14b9-4be3-a4e3-24d7fa1e905f\", \"categories\": [0], \"series\": [{\"data\": [0.9095564635073564]}]}, {\"name\": \"AUC_macro\", \"run_id\": \"AutoML_27c618ae-14b9-4be3-a4e3-24d7fa1e905f\", \"categories\": [0], \"series\": [{\"data\": [0.9490612933335912]}]}, {\"name\": \"log_loss\", \"run_id\": \"AutoML_27c618ae-14b9-4be3-a4e3-24d7fa1e905f\", \"categories\": [0], \"series\": [{\"data\": [0.22256030233683502]}]}, {\"name\": \"average_precision_score_weighted\", \"run_id\": \"AutoML_27c618ae-14b9-4be3-a4e3-24d7fa1e905f\", \"categories\": [0], \"series\": [{\"data\": [0.9563006292556688]}]}, {\"name\": \"average_precision_score_micro\", \"run_id\": \"AutoML_27c618ae-14b9-4be3-a4e3-24d7fa1e905f\", \"categories\": [0], \"series\": [{\"data\": [0.9810413324392517]}]}, {\"name\": \"AUC_micro\", \"run_id\": \"AutoML_27c618ae-14b9-4be3-a4e3-24d7fa1e905f\", \"categories\": [0], \"series\": [{\"data\": [0.9803050650387647]}]}, {\"name\": \"precision_score_weighted\", \"run_id\": \"AutoML_27c618ae-14b9-4be3-a4e3-24d7fa1e905f\", \"categories\": [0], \"series\": [{\"data\": [0.9074639464714823]}]}, {\"name\": \"AUC_weighted\", \"run_id\": \"AutoML_27c618ae-14b9-4be3-a4e3-24d7fa1e905f\", \"categories\": [0], \"series\": [{\"data\": [0.949061293333591]}]}, {\"name\": \"precision_score_macro\", \"run_id\": \"AutoML_27c618ae-14b9-4be3-a4e3-24d7fa1e905f\", \"categories\": [0], \"series\": [{\"data\": [0.8073410746962827]}]}, {\"name\": \"balanced_accuracy\", \"run_id\": \"AutoML_27c618ae-14b9-4be3-a4e3-24d7fa1e905f\", \"categories\": [0], \"series\": [{\"data\": [0.7422561266192079]}]}, {\"name\": \"f1_score_micro\", \"run_id\": \"AutoML_27c618ae-14b9-4be3-a4e3-24d7fa1e905f\", \"categories\": [0], \"series\": [{\"data\": [0.9146219181314145]}]}, {\"name\": \"f1_score_macro\", \"run_id\": \"AutoML_27c618ae-14b9-4be3-a4e3-24d7fa1e905f\", \"categories\": [0], \"series\": [{\"data\": [0.7692231726589395]}]}], \"run_logs\": \"\\nRun is completed.\", \"graph\": {}, \"widget_settings\": {\"childWidgetDisplay\": \"popup\", \"send_telemetry\": false, \"log_level\": \"INFO\", \"sdk_version\": \"1.32.0\"}, \"loading\": false}"
     },
     "metadata": {},
     "output_type": "display_data"
    },
    {
     "data": {
      "text/html": [
       "<table style=\"width:100%\"><tr><th>Experiment</th><th>Id</th><th>Type</th><th>Status</th><th>Details Page</th><th>Docs Page</th></tr><tr><td>capstone-project</td><td>AutoML_27c618ae-14b9-4be3-a4e3-24d7fa1e905f</td><td>automl</td><td>Completed</td><td><a href=\"https://ml.azure.com/runs/AutoML_27c618ae-14b9-4be3-a4e3-24d7fa1e905f?wsid=/subscriptions/f5091c60-1c3c-430f-8d81-d802f6bf2414/resourcegroups/aml-quickstarts-154705/workspaces/quick-starts-ws-154705&amp;tid=660b3398-b80e-49d2-bc5b-ac1dc93b5254\" target=\"_blank\" rel=\"noopener\">Link to Azure Machine Learning studio</a></td><td><a href=\"https://docs.microsoft.com/en-us/python/api/overview/azure/ml/intro?view=azure-ml-py\" target=\"_blank\" rel=\"noopener\">Link to Documentation</a></td></tr></table>"
      ],
      "text/plain": [
       "<IPython.core.display.HTML object>"
      ]
     },
     "metadata": {},
     "output_type": "display_data"
    },
    {
     "name": "stdout",
     "output_type": "stream",
     "text": [
      "\n",
      "\n",
      "****************************************************************************************************\n",
      "DATA GUARDRAILS: \n",
      "\n",
      "TYPE:         Class balancing detection\n",
      "STATUS:       ALERTED\n",
      "DESCRIPTION:  To decrease model bias, please cancel the current run and fix balancing problem.\n",
      "              Learn more about imbalanced data: https://aka.ms/AutomatedMLImbalancedData\n",
      "DETAILS:      Imbalanced data can lead to a falsely perceived positive effect of a model's accuracy because the input data has bias towards one class.\n",
      "+---------------------------------+---------------------------------+--------------------------------------+\n",
      "|Size of the smallest class       |Name/Label of the smallest class |Number of samples in the training data|\n",
      "+=================================+=================================+======================================+\n",
      "|3965                             |yes                              |33908                                 |\n",
      "+---------------------------------+---------------------------------+--------------------------------------+\n",
      "\n",
      "****************************************************************************************************\n",
      "\n",
      "TYPE:         Missing feature values imputation\n",
      "STATUS:       PASSED\n",
      "DESCRIPTION:  No feature missing values were detected in the training data.\n",
      "              Learn more about missing value imputation: https://aka.ms/AutomatedMLFeaturization\n",
      "\n",
      "****************************************************************************************************\n",
      "\n",
      "TYPE:         High cardinality feature detection\n",
      "STATUS:       PASSED\n",
      "DESCRIPTION:  Your inputs were analyzed, and no high cardinality features were detected.\n",
      "              Learn more about high cardinality feature handling: https://aka.ms/AutomatedMLFeaturization\n",
      "\n",
      "****************************************************************************************************\n",
      "\n",
      "****************************************************************************************************\n",
      "ITERATION: The iteration being evaluated.\n",
      "PIPELINE: A summary description of the pipeline being evaluated.\n",
      "DURATION: Time taken for the current iteration.\n",
      "METRIC: The result of computing score on the fitted pipeline.\n",
      "BEST: The best observed score thus far.\n",
      "****************************************************************************************************\n",
      "\n",
      " ITERATION   PIPELINE                                       DURATION      METRIC      BEST\n",
      "         0   MaxAbsScaler LightGBM                          0:01:47       0.9471    0.9471\n",
      "         1   MaxAbsScaler XGBoostClassifier                 0:00:59       0.9445    0.9471\n",
      "         2   MaxAbsScaler ExtremeRandomTrees                0:00:46       0.8814    0.9471\n",
      "         3   MaxAbsScaler RandomForest                      0:02:05       0.8649    0.9471\n",
      "         4   StandardScalerWrapper LightGBM                 0:00:51       0.9217    0.9471\n",
      "         5   SparseNormalizer XGBoostClassifier             0:01:50       0.9353    0.9471\n",
      "         6   SparseNormalizer RandomForest                  0:01:07       0.8737    0.9471\n",
      "         7   StandardScalerWrapper XGBoostClassifier        0:00:46       0.9252    0.9471\n",
      "         8   SparseNormalizer XGBoostClassifier             0:00:54       0.9400    0.9471\n",
      "         9   MaxAbsScaler RandomForest                      0:00:43       0.8215    0.9471\n",
      "        10   SparseNormalizer LightGBM                      0:00:42       0.9146    0.9471\n",
      "        11   MaxAbsScaler ExtremeRandomTrees                0:01:10       0.8003    0.9471\n",
      "        12   StandardScalerWrapper XGBoostClassifier        0:00:50       0.9458    0.9471\n",
      "        13   StandardScalerWrapper ExtremeRandomTrees       0:00:43       0.8138    0.9471\n",
      "        14   StandardScalerWrapper RandomForest             0:03:11       0.9381    0.9471\n",
      "        15   MaxAbsScaler LightGBM                          0:00:41       0.9445    0.9471\n",
      "        16   MaxAbsScaler LogisticRegression                0:00:48       0.9287    0.9471\n",
      "        17   StandardScalerWrapper ExtremeRandomTrees       0:03:19       0.9239    0.9471\n",
      "        18   StandardScalerWrapper XGBoostClassifier        0:00:45       0.9412    0.9471\n",
      "        19   MaxAbsScaler ExtremeRandomTrees                0:00:54       0.8155    0.9471\n",
      "        20   MaxAbsScaler LogisticRegression                0:00:44       0.9241    0.9471\n",
      "        21   StandardScalerWrapper XGBoostClassifier        0:00:48       0.9420    0.9471\n",
      "        22   StandardScalerWrapper XGBoostClassifier        0:01:08       0.9481    0.9481\n",
      "        23   MaxAbsScaler RandomForest                      0:00:50       0.9078    0.9481\n",
      "        24   SparseNormalizer XGBoostClassifier             0:00:54       0.9318    0.9481\n",
      "        25   MaxAbsScaler LightGBM                          0:00:53       0.9451    0.9481\n",
      "        26   StandardScalerWrapper LightGBM                 0:00:43       0.9355    0.9481\n",
      "        27   StandardScalerWrapper LightGBM                 0:00:42       0.9374    0.9481\n",
      "        28   StandardScalerWrapper LightGBM                 0:00:55       0.9429    0.9481\n",
      "        29   StandardScalerWrapper LightGBM                 0:00:42       0.9422    0.9481\n",
      "        30   StandardScalerWrapper XGBoostClassifier        0:03:11       0.9428    0.9481\n",
      "        31   StandardScalerWrapper XGBoostClassifier        0:01:13       0.9476    0.9481\n",
      "        32   StandardScalerWrapper XGBoostClassifier        0:02:03       0.9468    0.9481\n",
      "        33   StandardScalerWrapper LogisticRegression       0:00:39       0.9224    0.9481\n",
      "        34   StandardScalerWrapper XGBoostClassifier        0:00:48       0.9375    0.9481\n",
      "        35   StandardScalerWrapper XGBoostClassifier        0:02:02          nan    0.9481\n",
      "        36   StandardScalerWrapper XGBoostClassifier        0:01:02       0.9453    0.9481\n",
      "        37   StandardScalerWrapper LightGBM                 0:00:40       0.9403    0.9481\n",
      "        38   StandardScalerWrapper XGBoostClassifier        0:00:26          nan    0.9481\n",
      "        39                                                  0:00:35          nan    0.9481\n",
      "        40    VotingEnsemble                                0:01:46       0.9491    0.9491\n",
      "        41    StackEnsemble                                 0:01:55       0.9489    0.9491\n"
     ]
    },
    {
     "data": {
      "text/plain": [
       "{'runId': 'AutoML_27c618ae-14b9-4be3-a4e3-24d7fa1e905f',\n",
       " 'target': 'automl-cluster',\n",
       " 'status': 'Completed',\n",
       " 'startTimeUtc': '2021-08-16T22:41:50.894627Z',\n",
       " 'endTimeUtc': '2021-08-16T23:12:59.809628Z',\n",
       " 'properties': {'num_iterations': '1000',\n",
       "  'training_type': 'TrainFull',\n",
       "  'acquisition_function': 'EI',\n",
       "  'primary_metric': 'AUC_weighted',\n",
       "  'train_split': '0',\n",
       "  'acquisition_parameter': '0',\n",
       "  'num_cross_validation': '7',\n",
       "  'target': 'automl-cluster',\n",
       "  'AMLSettingsJsonString': '{\"path\":null,\"name\":\"capstone-project\",\"subscription_id\":\"f5091c60-1c3c-430f-8d81-d802f6bf2414\",\"resource_group\":\"aml-quickstarts-154705\",\"workspace_name\":\"quick-starts-ws-154705\",\"region\":\"southcentralus\",\"compute_target\":\"automl-cluster\",\"spark_service\":null,\"azure_service\":\"remote\",\"many_models\":false,\"pipeline_fetch_max_batch_size\":1,\"enable_batch_run\":false,\"enable_run_restructure\":false,\"start_auxiliary_runs_before_parent_complete\":false,\"enable_code_generation\":false,\"iterations\":1000,\"primary_metric\":\"AUC_weighted\",\"task_type\":\"classification\",\"data_script\":null,\"test_size\":0.0,\"validation_size\":0.0,\"n_cross_validations\":7,\"y_min\":null,\"y_max\":null,\"num_classes\":null,\"featurization\":\"auto\",\"_ignore_package_version_incompatibilities\":false,\"is_timeseries\":false,\"max_cores_per_iteration\":1,\"max_concurrent_iterations\":5,\"iteration_timeout_minutes\":null,\"mem_in_mb\":null,\"enforce_time_on_windows\":false,\"experiment_timeout_minutes\":25,\"experiment_exit_score\":null,\"whitelist_models\":null,\"blacklist_algos\":[\"TensorFlowLinearClassifier\",\"TensorFlowDNN\"],\"supported_models\":[\"LightGBM\",\"RandomForest\",\"SVM\",\"ExtremeRandomTrees\",\"MultinomialNaiveBayes\",\"TensorFlowDNN\",\"KNN\",\"XGBoostClassifier\",\"DecisionTree\",\"AveragedPerceptronClassifier\",\"TensorFlowLinearClassifier\",\"LogisticRegression\",\"GradientBoosting\",\"SGD\",\"LinearSVM\",\"BernoulliNaiveBayes\"],\"private_models\":[],\"auto_blacklist\":true,\"blacklist_samples_reached\":false,\"exclude_nan_labels\":true,\"verbosity\":20,\"_debug_log\":\"azureml_automl.log\",\"show_warnings\":false,\"model_explainability\":true,\"service_url\":null,\"sdk_url\":null,\"sdk_packages\":null,\"enable_onnx_compatible_models\":false,\"enable_split_onnx_featurizer_estimator_models\":false,\"vm_type\":\"STANDARD_D2_V2\",\"telemetry_verbosity\":20,\"send_telemetry\":true,\"enable_dnn\":false,\"scenario\":\"SDK-1.13.0\",\"environment_label\":null,\"save_mlflow\":false,\"force_text_dnn\":false,\"enable_feature_sweeping\":true,\"enable_early_stopping\":true,\"early_stopping_n_iters\":10,\"metrics\":null,\"enable_metric_confidence\":false,\"enable_ensembling\":true,\"enable_stack_ensembling\":true,\"ensemble_iterations\":15,\"enable_tf\":false,\"enable_subsampling\":null,\"subsample_seed\":null,\"enable_nimbusml\":false,\"enable_streaming\":false,\"force_streaming\":false,\"track_child_runs\":true,\"allowed_private_models\":[],\"label_column_name\":\"y\",\"weight_column_name\":null,\"cv_split_column_names\":null,\"enable_local_managed\":false,\"_local_managed_run_id\":null,\"cost_mode\":1,\"lag_length\":0,\"metric_operation\":\"maximize\",\"preprocess\":true}',\n",
       "  'DataPrepJsonString': '{\\\\\"training_data\\\\\": {\\\\\"datasetId\\\\\": \\\\\"e32d223c-0680-4fc1-954e-ec5732f93b06\\\\\"}, \\\\\"datasets\\\\\": 0}',\n",
       "  'EnableSubsampling': None,\n",
       "  'runTemplate': 'AutoML',\n",
       "  'azureml.runsource': 'automl',\n",
       "  'display_task_type': 'classification',\n",
       "  'dependencies_versions': '{\"azureml-widgets\": \"1.32.0\", \"azureml-train\": \"1.32.0\", \"azureml-train-restclients-hyperdrive\": \"1.32.0\", \"azureml-train-core\": \"1.32.0\", \"azureml-train-automl\": \"1.32.0\", \"azureml-train-automl-runtime\": \"1.32.0\", \"azureml-train-automl-client\": \"1.32.0\", \"azureml-tensorboard\": \"1.32.0\", \"azureml-telemetry\": \"1.32.0\", \"azureml-sdk\": \"1.32.0\", \"azureml-samples\": \"0+unknown\", \"azureml-responsibleai\": \"1.32.0\", \"azureml-pipeline\": \"1.32.0\", \"azureml-pipeline-steps\": \"1.32.0\", \"azureml-pipeline-core\": \"1.32.0\", \"azureml-opendatasets\": \"1.32.0\", \"azureml-model-management-sdk\": \"1.0.1b6.post1\", \"azureml-mlflow\": \"1.32.0\", \"azureml-interpret\": \"1.32.0\", \"azureml-explain-model\": \"1.32.0\", \"azureml-defaults\": \"1.32.0\", \"azureml-dataset-runtime\": \"1.32.0\", \"azureml-dataprep\": \"2.18.0\", \"azureml-dataprep-rslex\": \"1.16.1\", \"azureml-dataprep-native\": \"36.0.0\", \"azureml-datadrift\": \"1.32.0\", \"azureml-core\": \"1.32.0\", \"azureml-contrib-services\": \"1.32.0\", \"azureml-contrib-server\": \"1.32.0\", \"azureml-contrib-reinforcementlearning\": \"1.32.0\", \"azureml-contrib-pipeline-steps\": \"1.32.0\", \"azureml-contrib-notebook\": \"1.32.0\", \"azureml-contrib-fairness\": \"1.32.0\", \"azureml-contrib-dataset\": \"1.32.0\", \"azureml-cli-common\": \"1.32.0\", \"azureml-automl-runtime\": \"1.32.0\", \"azureml-automl-dnn-nlp\": \"1.32.0\", \"azureml-automl-core\": \"1.32.0\", \"azureml-accel-models\": \"1.32.0\"}',\n",
       "  '_aml_system_scenario_identification': 'Remote.Parent',\n",
       "  'ClientType': 'SDK',\n",
       "  'environment_cpu_name': 'AzureML-AutoML',\n",
       "  'environment_cpu_label': 'prod',\n",
       "  'environment_gpu_name': 'AzureML-AutoML-GPU',\n",
       "  'environment_gpu_label': 'prod',\n",
       "  'root_attribution': 'automl',\n",
       "  'attribution': 'AutoML',\n",
       "  'Orchestrator': 'AutoML',\n",
       "  'CancelUri': 'https://southcentralus.api.azureml.ms/jasmine/v1.0/subscriptions/f5091c60-1c3c-430f-8d81-d802f6bf2414/resourceGroups/aml-quickstarts-154705/providers/Microsoft.MachineLearningServices/workspaces/quick-starts-ws-154705/experimentids/058163be-b77e-4f04-b045-5c80822fe20c/cancel/AutoML_27c618ae-14b9-4be3-a4e3-24d7fa1e905f',\n",
       "  'ClientSdkVersion': '1.33.0',\n",
       "  'snapshotId': '00000000-0000-0000-0000-000000000000',\n",
       "  'SetupRunId': 'AutoML_27c618ae-14b9-4be3-a4e3-24d7fa1e905f_setup',\n",
       "  'SetupRunContainerId': 'dcid.AutoML_27c618ae-14b9-4be3-a4e3-24d7fa1e905f_setup',\n",
       "  'FeaturizationRunJsonPath': 'featurizer_container.json',\n",
       "  'FeaturizationRunId': 'AutoML_27c618ae-14b9-4be3-a4e3-24d7fa1e905f_featurize',\n",
       "  'ProblemInfoJsonString': '{\"dataset_num_categorical\": 0, \"is_sparse\": true, \"subsampling\": false, \"has_extra_col\": true, \"dataset_classes\": 2, \"dataset_features\": 163, \"dataset_samples\": 33908, \"single_frequency_class_detected\": false}',\n",
       "  'ModelExplainRunId': 'AutoML_27c618ae-14b9-4be3-a4e3-24d7fa1e905f_ModelExplain'},\n",
       " 'inputDatasets': [{'dataset': {'id': 'e32d223c-0680-4fc1-954e-ec5732f93b06'}, 'consumptionDetails': {'type': 'RunInput', 'inputName': 'training_data', 'mechanism': 'Direct'}}],\n",
       " 'outputDatasets': [],\n",
       " 'logFiles': {},\n",
       " 'submittedBy': 'ODL_User 154705'}"
      ]
     },
     "execution_count": 13,
     "metadata": {},
     "output_type": "execute_result"
    }
   ],
   "source": [
    "from azureml.widgets import RunDetails\n",
    "RunDetails(remote_run).show()\n",
    "remote_run.wait_for_completion(show_output=True)\n"
   ]
  },
  {
   "cell_type": "markdown",
   "metadata": {},
   "source": [
    "## Best Model\n",
    "\n",
    "TODO: In the cell below, get the best model from the automl experiments and display all the properties of the model.\n",
    "\n"
   ]
  },
  {
   "cell_type": "code",
   "execution_count": 14,
   "metadata": {
    "collapsed": false,
    "gather": {
     "logged": 1598431425670
    },
    "jupyter": {
     "outputs_hidden": false,
     "source_hidden": false
    },
    "nteract": {
     "transient": {
      "deleting": false
     }
    }
   },
   "outputs": [
    {
     "name": "stderr",
     "output_type": "stream",
     "text": [
      "WARNING:root:The version of the SDK does not match the version the model was trained on.\n",
      "WARNING:root:The consistency in the result may not be guaranteed.\n",
      "WARNING:root:Package:azureml-automl-core, training version:1.33.0, current version:1.32.0\n",
      "Package:azureml-automl-runtime, training version:1.33.0, current version:1.32.0\n",
      "Package:azureml-core, training version:1.33.0, current version:1.32.0\n",
      "Package:azureml-dataprep, training version:2.20.1, current version:2.18.0\n",
      "Package:azureml-dataprep-native, training version:38.0.0, current version:36.0.0\n",
      "Package:azureml-dataprep-rslex, training version:1.18.0, current version:1.16.1\n",
      "Package:azureml-dataset-runtime, training version:1.33.0, current version:1.32.0\n",
      "Package:azureml-defaults, training version:1.33.0, current version:1.32.0\n",
      "Package:azureml-interpret, training version:1.33.0, current version:1.32.0\n",
      "Package:azureml-mlflow, training version:1.33.0, current version:1.32.0\n",
      "Package:azureml-pipeline-core, training version:1.33.0, current version:1.32.0\n",
      "Package:azureml-responsibleai, training version:1.33.0, current version:1.32.0\n",
      "Package:azureml-telemetry, training version:1.33.0, current version:1.32.0\n",
      "Package:azureml-train-automl-client, training version:1.33.0, current version:1.32.0\n",
      "Package:azureml-train-automl-runtime, training version:1.33.0, current version:1.32.0\n",
      "WARNING:root:Please ensure the version of your local conda dependencies match the version on which your model was trained in order to properly retrieve your model.\n"
     ]
    },
    {
     "name": "stdout",
     "output_type": "stream",
     "text": [
      "Pipeline(memory=None,\n",
      "         steps=[('datatransformer',\n",
      "                 DataTransformer(enable_dnn=False, enable_feature_sweeping=True, feature_sweeping_config={}, feature_sweeping_timeout=86400, featurization_config=None, force_text_dnn=False, is_cross_validation=True, is_onnx_compatible=False, observer=None, task='classification', working_dir='/mnt/batch/tasks/shared/LS_root/mount...\n",
      "    timeseries_param_dict=None,\n",
      "    gpu_training_param_dict={'processing_unit_type': 'cpu'}\n",
      "), random_state=0, reg_alpha=0, reg_lambda=0.10416666666666667, subsample=0.7, tree_method='auto'))], verbose=False))], flatten_transform=None, weights=[0.2, 0.06666666666666667, 0.2, 0.06666666666666667, 0.06666666666666667, 0.06666666666666667, 0.06666666666666667, 0.2, 0.06666666666666667]))],\n",
      "         verbose=False)\n",
      "Y_transformer(['LabelEncoder', LabelEncoder()])\n"
     ]
    }
   ],
   "source": [
    "best_automl, best_fit_model = remote_run.get_output()\n",
    "print(best_fit_model)"
   ]
  },
  {
   "cell_type": "code",
   "execution_count": 15,
   "metadata": {},
   "outputs": [
    {
     "name": "stdout",
     "output_type": "stream",
     "text": [
      "Run(Experiment: capstone-project,\n",
      "Id: AutoML_27c618ae-14b9-4be3-a4e3-24d7fa1e905f_40,\n",
      "Type: azureml.scriptrun,\n",
      "Status: Completed)\n"
     ]
    }
   ],
   "source": [
    "print(best_automl)"
   ]
  },
  {
   "cell_type": "code",
   "execution_count": 17,
   "metadata": {
    "collapsed": false,
    "gather": {
     "logged": 1598431426111
    },
    "jupyter": {
     "outputs_hidden": false,
     "source_hidden": false
    },
    "nteract": {
     "transient": {
      "deleting": false
     }
    }
   },
   "outputs": [
    {
     "data": {
      "text/plain": [
       "['best_fit_automl_model.pkl']"
      ]
     },
     "execution_count": 17,
     "metadata": {},
     "output_type": "execute_result"
    }
   ],
   "source": [
    "#TODO: Save the best model\n",
    "joblib.dump(best_fit_model, 'best_fit_automl_model.pkl')"
   ]
  },
  {
   "cell_type": "code",
   "execution_count": 18,
   "metadata": {},
   "outputs": [],
   "source": [
    "#joblib.dump(best_fit_model,'./outputs/bestmodel.joblib')\n",
    "#best_class.register_model(model_name='best_fit_automl_model.pkl',model_path='/outputs/')"
   ]
  },
  {
   "cell_type": "markdown",
   "metadata": {},
   "source": [
    "## Model Deployment\n",
    "\n",
    "Remember you have to deploy only one of the two models you trained.. Perform the steps in the rest of this notebook only if you wish to deploy this model.\n",
    "\n",
    "TODO: In the cell below, register the model, create an inference config and deploy the model as a web service."
   ]
  },
  {
   "cell_type": "code",
   "execution_count": 19,
   "metadata": {
    "collapsed": false,
    "gather": {
     "logged": 1598431435189
    },
    "jupyter": {
     "outputs_hidden": false,
     "source_hidden": false
    },
    "nteract": {
     "transient": {
      "deleting": false
     }
    }
   },
   "outputs": [
    {
     "name": "stdout",
     "output_type": "stream",
     "text": [
      "Registering model best_fit_automl_model\n",
      "best_fit_automl_model\tbest_fit_automl_model:1\t1\n"
     ]
    }
   ],
   "source": [
    "from azureml.core.model import Model\n",
    "model = Model.register(workspace = ws, model_name = 'best_fit_automl_model', model_path = 'best_fit_automl_model.pkl')\n",
    "print(model.name, model.id, model.version, sep='\\t')"
   ]
  },
  {
   "cell_type": "markdown",
   "metadata": {
    "gather": {
     "logged": 1598431657736
    },
    "jupyter": {
     "outputs_hidden": false,
     "source_hidden": false
    },
    "nteract": {
     "transient": {
      "deleting": false
     }
    }
   },
   "source": [
    "TODO: In the cell below, send a request to the web service you deployed to test it."
   ]
  },
  {
   "cell_type": "code",
   "execution_count": 20,
   "metadata": {
    "collapsed": false,
    "gather": {
     "logged": 1598432707604
    },
    "jupyter": {
     "outputs_hidden": false,
     "source_hidden": false
    },
    "nteract": {
     "transient": {
      "deleting": false
     }
    }
   },
   "outputs": [
    {
     "name": "stdout",
     "output_type": "stream",
     "text": [
      "Tips: You can try get_logs(): https://aka.ms/debugimage#dockerlog or local deployment: https://aka.ms/debugimage#debug-locally to debug if deployment takes longer than 10 minutes.\n",
      "Running\n",
      "2021-08-16 23:26:58+00:00 Creating Container Registry if not exists..\n",
      "2021-08-16 23:36:58+00:00 Registering the environment.\n",
      "2021-08-16 23:36:59+00:00 Use the existing image.\n",
      "2021-08-16 23:36:59+00:00 Generating deployment configuration.\n",
      "2021-08-16 23:37:00+00:00 Submitting deployment to compute..\n",
      "2021-08-16 23:37:04+00:00 Checking the status of deployment customerservice..\n",
      "2021-08-16 23:41:13+00:00 Checking the status of inference endpoint customerservice.\n",
      "Succeeded\n",
      "ACI service creation operation finished, operation \"Succeeded\"\n",
      "Healthy\n",
      "http://3549e85b-7881-40ec-9a1f-8050095c3c1b.southcentralus.azurecontainer.io/score\n",
      "http://3549e85b-7881-40ec-9a1f-8050095c3c1b.southcentralus.azurecontainer.io/swagger.json\n"
     ]
    }
   ],
   "source": [
    "from azureml.core.environment import Environment\n",
    "from azureml.core.model import InferenceConfig\n",
    "from azureml.core.webservice import LocalWebservice, Webservice, AciWebservice\n",
    "from azureml.core.conda_dependencies import CondaDependencies\n",
    "import azureml.train.automl\n",
    "\n",
    "# Create the environment\n",
    "env = best_automl.get_environment()\n",
    "conda_dep = CondaDependencies()\n",
    "\n",
    "# Define the packages needed by the model and the script\n",
    "#conda_dep.add_conda_package(\"numpy\")\n",
    "#conda_dep.add_conda_package(\"scikit-learn\")\n",
    "#conda_dep.add_conda_package(\"pandas\")\n",
    "# Define azureml-defaults as a pip dependency\n",
    "#conda_dep.add_pip_package(\"azureml-defaults\")\n",
    "#conda_dep.add_pip_package(\"azureml-train\")\n",
    "\n",
    "# Adds dependencies to PythonSection of myenv\n",
    "#env.python.conda_dependencies=conda_dep\n",
    "\n",
    "inference_config = InferenceConfig(entry_script='score.py', environment=env)\n",
    "\n",
    "deployment_config = AciWebservice.deploy_configuration(cpu_cores=1, memory_gb=4, enable_app_insights=True)\n",
    "service = Model.deploy(ws, \"customerservice\", [model], inference_config, deployment_config)\n",
    "service.wait_for_deployment(show_output = True)\n",
    "\n",
    "print(service.state)\n",
    "print(service.scoring_uri)\n",
    "print(service.swagger_uri)"
   ]
  },
  {
   "cell_type": "markdown",
   "metadata": {
    "gather": {
     "logged": 1598432765711
    },
    "jupyter": {
     "outputs_hidden": false,
     "source_hidden": false
    },
    "nteract": {
     "transient": {
      "deleting": false
     }
    }
   },
   "source": [
    "TODO: In the cell below, print the logs of the web service and delete the service"
   ]
  },
  {
   "cell_type": "code",
   "execution_count": 21,
   "metadata": {
    "collapsed": false,
    "jupyter": {
     "outputs_hidden": false,
     "source_hidden": false
    },
    "nteract": {
     "transient": {
      "deleting": false
     }
    }
   },
   "outputs": [
    {
     "name": "stdout",
     "output_type": "stream",
     "text": [
      "2021-08-16T23:41:02,096160300+00:00 - gunicorn/run \n",
      "Dynamic Python package installation is disabled.\n",
      "Starting HTTP server\n",
      "2021-08-16T23:41:02,092329500+00:00 - iot-server/run \n",
      "2021-08-16T23:41:02,103249600+00:00 - rsyslog/run \n",
      "2021-08-16T23:41:02,305620900+00:00 - nginx/run \n",
      "rsyslogd: /azureml-envs/azureml_3489174eb648a475780c9959ff366072/lib/libuuid.so.1: no version information available (required by rsyslogd)\n",
      "EdgeHubConnectionString and IOTEDGE_IOTHUBHOSTNAME are not set. Exiting...\n",
      "2021-08-16T23:41:02,835460900+00:00 - iot-server/finish 1 0\n",
      "2021-08-16T23:41:02,836673000+00:00 - Exit code 1 is normal. Not restarting iot-server.\n",
      "Starting gunicorn 20.1.0\n",
      "Listening at: http://127.0.0.1:31311 (67)\n",
      "Using worker: sync\n",
      "worker timeout is set to 300\n",
      "Booting worker with pid: 101\n",
      "SPARK_HOME not set. Skipping PySpark Initialization.\n",
      "Generating new fontManager, this may take some time...\n",
      "Initializing logger\n",
      "2021-08-16 23:41:08,636 | root | INFO | Starting up app insights client\n",
      "logging socket was found. logging is available.\n",
      "logging socket was found. logging is available.\n",
      "2021-08-16 23:41:08,637 | root | INFO | Starting up request id generator\n",
      "2021-08-16 23:41:08,637 | root | INFO | Starting up app insight hooks\n",
      "2021-08-16 23:41:08,637 | root | INFO | Invoking user's init function\n",
      "2021-08-16 23:41:11,567 | root | INFO | Users's init has completed successfully\n",
      "/azureml-envs/azureml_3489174eb648a475780c9959ff366072/lib/python3.6/site-packages/sklearn/externals/joblib/__init__.py:15: FutureWarning: sklearn.externals.joblib is deprecated in 0.21 and will be removed in 0.23. Please import this functionality directly from joblib, which can be installed with: pip install joblib. If this warning is raised when loading pickled models, you may need to re-serialize those models with scikit-learn 0.21+.\n",
      "  warnings.warn(msg, category=FutureWarning)\n",
      "2021-08-16 23:41:11,575 | root | INFO | Skipping middleware: dbg_model_info as it's not enabled.\n",
      "2021-08-16 23:41:11,575 | root | INFO | Skipping middleware: dbg_resource_usage as it's not enabled.\n",
      "2021-08-16 23:41:11,577 | root | INFO | Scoring timeout is found from os.environ: 60000 ms\n",
      "2021-08-16 23:41:14,096 | root | INFO | Swagger file not present\n",
      "2021-08-16 23:41:14,097 | root | INFO | 404\n",
      "127.0.0.1 - - [16/Aug/2021:23:41:14 +0000] \"GET /swagger.json HTTP/1.0\" 404 19 \"-\" \"Go-http-client/1.1\"\n",
      "2021-08-16 23:41:18,621 | root | INFO | Swagger file not present\n",
      "2021-08-16 23:41:18,621 | root | INFO | 404\n",
      "127.0.0.1 - - [16/Aug/2021:23:41:18 +0000] \"GET /swagger.json HTTP/1.0\" 404 19 \"-\" \"Go-http-client/1.1\"\n",
      "\n"
     ]
    }
   ],
   "source": [
    "# Web Service Logs\n",
    "print(service.get_logs())"
   ]
  },
  {
   "cell_type": "code",
   "execution_count": null,
   "metadata": {},
   "outputs": [],
   "source": [
    "# Delete the service\n",
    "service.delete()"
   ]
  }
 ],
 "metadata": {
  "kernel_info": {
   "name": "python3-azureml"
  },
  "kernelspec": {
   "display_name": "Python 3",
   "language": "python",
   "name": "python3"
  },
  "language_info": {
   "codemirror_mode": {
    "name": "ipython",
    "version": 3
   },
   "file_extension": ".py",
   "mimetype": "text/x-python",
   "name": "python",
   "nbconvert_exporter": "python",
   "pygments_lexer": "ipython3",
   "version": "3.6.9"
  },
  "nteract": {
   "version": "nteract-front-end@1.0.0"
  }
 },
 "nbformat": 4,
 "nbformat_minor": 4
}
