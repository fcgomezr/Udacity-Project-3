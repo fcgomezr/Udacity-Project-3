{
 "cells": [
  {
   "cell_type": "markdown",
   "metadata": {},
   "source": [
    "# Automated ML\n",
    "\n",
    "TODO: Import Dependencies. In the cell below, import all the dependencies that you will need to complete the project."
   ]
  },
  {
   "cell_type": "code",
   "execution_count": 4,
   "metadata": {
    "collapsed": false,
    "gather": {
     "logged": 1598423888013
    },
    "jupyter": {
     "outputs_hidden": false,
     "source_hidden": false
    },
    "nteract": {
     "transient": {
      "deleting": false
     }
    }
   },
   "outputs": [
    {
     "name": "stdout",
     "output_type": "stream",
     "text": [
      "SDK version: 1.33.0\n"
     ]
    }
   ],
   "source": [
    "import logging\n",
    "import os\n",
    "import csv\n",
    "import joblib, pickle\n",
    "import json\n",
    "\n",
    "from matplotlib import pyplot as plt\n",
    "import numpy as np\n",
    "import pandas as pd\n",
    "\n",
    "import azureml.core\n",
    "from azureml.core.experiment import Experiment\n",
    "from azureml.core.workspace import Workspace\n",
    "from azureml.train.automl import AutoMLConfig\n",
    "from azureml.core.dataset import Dataset\n",
    "from azureml.data.dataset_factory import TabularDatasetFactory\n",
    "\n",
    "#from azureml.pipeline.steps import AutoMLStep\n",
    "\n",
    "# Check core SDK version number\n",
    "print(\"SDK version:\", azureml.core.VERSION)"
   ]
  },
  {
   "cell_type": "markdown",
   "metadata": {},
   "source": [
    "## Dataset\n",
    "\n",
    "### Overview\n",
    "TODO: In this markdown cell, give an overview of the dataset you are using. Also mention the task you will be performing.\n",
    "\n",
    "\n",
    "TODO: Get data. In the cell below, write code to access the data you will be using in this project. Remember that the dataset needs to be external."
   ]
  },
  {
   "cell_type": "code",
   "execution_count": 5,
   "metadata": {
    "collapsed": false,
    "gather": {
     "logged": 1598423890461
    },
    "jupyter": {
     "outputs_hidden": false,
     "source_hidden": false
    },
    "nteract": {
     "transient": {
      "deleting": false
     }
    }
   },
   "outputs": [],
   "source": [
    "ws = Workspace.from_config()\n",
    "\n",
    "# choose a name for experiment\n",
    "experiment_name = 'capstone-project'\n",
    "\n",
    "experiment=Experiment(ws, experiment_name)"
   ]
  },
  {
   "cell_type": "code",
   "execution_count": 6,
   "metadata": {},
   "outputs": [
    {
     "name": "stdout",
     "output_type": "stream",
     "text": [
      "Cluster already exists\n"
     ]
    }
   ],
   "source": [
    "from azureml.core.compute import ComputeTarget, AmlCompute\n",
    "from azureml.core.compute_target import ComputeTargetException\n",
    "\n",
    "compute_cluster = 'automl-cluster'\n",
    "\n",
    "try:\n",
    "    comp_trget = ComputeTarget(workspace=ws, name=compute_cluster)\n",
    "    print('Cluster already exists')\n",
    "except ComputeTargetException:\n",
    "    compute_confg = AmlCompute.provisioning_configuration(vm_size=\"STANDARD_D2_V2\",max_nodes=4) ## VER\n",
    "    comp_trget = ComputeTarget.create(ws,compute_cluster,compute_confg)"
   ]
  },
  {
   "cell_type": "code",
   "execution_count": 9,
   "metadata": {},
   "outputs": [],
   "source": [
    "data_link = 'https://raw.githubusercontent.com/fcgomezr/Udacity-Project-3/main/data%20sets/WA_Fn-UseC_-Telco-Customer-Churn.csv'\n",
    "input_data = TabularDatasetFactory.from_delimited_files(path=data_link, separator = \",\")"
   ]
  },
  {
   "cell_type": "code",
   "execution_count": 10,
   "metadata": {},
   "outputs": [
    {
     "data": {
      "text/html": [
       "<div>\n",
       "<style scoped>\n",
       "    .dataframe tbody tr th:only-of-type {\n",
       "        vertical-align: middle;\n",
       "    }\n",
       "\n",
       "    .dataframe tbody tr th {\n",
       "        vertical-align: top;\n",
       "    }\n",
       "\n",
       "    .dataframe thead th {\n",
       "        text-align: right;\n",
       "    }\n",
       "</style>\n",
       "<table border=\"1\" class=\"dataframe\">\n",
       "  <thead>\n",
       "    <tr style=\"text-align: right;\">\n",
       "      <th></th>\n",
       "      <th>gender</th>\n",
       "      <th>SeniorCitizen</th>\n",
       "      <th>Partner</th>\n",
       "      <th>Dependents</th>\n",
       "      <th>tenure</th>\n",
       "      <th>PhoneService</th>\n",
       "      <th>MultipleLines</th>\n",
       "      <th>InternetService</th>\n",
       "      <th>OnlineSecurity</th>\n",
       "      <th>OnlineBackup</th>\n",
       "      <th>DeviceProtection</th>\n",
       "      <th>TechSupport</th>\n",
       "      <th>StreamingTV</th>\n",
       "      <th>StreamingMovies</th>\n",
       "      <th>Contract</th>\n",
       "      <th>PaperlessBilling</th>\n",
       "      <th>PaymentMethod</th>\n",
       "      <th>MonthlyCharges</th>\n",
       "      <th>TotalCharges</th>\n",
       "      <th>Churn</th>\n",
       "    </tr>\n",
       "  </thead>\n",
       "  <tbody>\n",
       "    <tr>\n",
       "      <th>0</th>\n",
       "      <td>Female</td>\n",
       "      <td>0</td>\n",
       "      <td>True</td>\n",
       "      <td>False</td>\n",
       "      <td>1</td>\n",
       "      <td>False</td>\n",
       "      <td>No phone service</td>\n",
       "      <td>DSL</td>\n",
       "      <td>No</td>\n",
       "      <td>Yes</td>\n",
       "      <td>No</td>\n",
       "      <td>No</td>\n",
       "      <td>No</td>\n",
       "      <td>No</td>\n",
       "      <td>Month-to-month</td>\n",
       "      <td>True</td>\n",
       "      <td>Electronic check</td>\n",
       "      <td>29.85</td>\n",
       "      <td>29.85</td>\n",
       "      <td>False</td>\n",
       "    </tr>\n",
       "    <tr>\n",
       "      <th>1</th>\n",
       "      <td>Male</td>\n",
       "      <td>0</td>\n",
       "      <td>False</td>\n",
       "      <td>False</td>\n",
       "      <td>34</td>\n",
       "      <td>True</td>\n",
       "      <td>No</td>\n",
       "      <td>DSL</td>\n",
       "      <td>Yes</td>\n",
       "      <td>No</td>\n",
       "      <td>Yes</td>\n",
       "      <td>No</td>\n",
       "      <td>No</td>\n",
       "      <td>No</td>\n",
       "      <td>One year</td>\n",
       "      <td>False</td>\n",
       "      <td>Mailed check</td>\n",
       "      <td>56.95</td>\n",
       "      <td>1889.50</td>\n",
       "      <td>False</td>\n",
       "    </tr>\n",
       "    <tr>\n",
       "      <th>2</th>\n",
       "      <td>Male</td>\n",
       "      <td>0</td>\n",
       "      <td>False</td>\n",
       "      <td>False</td>\n",
       "      <td>2</td>\n",
       "      <td>True</td>\n",
       "      <td>No</td>\n",
       "      <td>DSL</td>\n",
       "      <td>Yes</td>\n",
       "      <td>Yes</td>\n",
       "      <td>No</td>\n",
       "      <td>No</td>\n",
       "      <td>No</td>\n",
       "      <td>No</td>\n",
       "      <td>Month-to-month</td>\n",
       "      <td>True</td>\n",
       "      <td>Mailed check</td>\n",
       "      <td>53.85</td>\n",
       "      <td>108.15</td>\n",
       "      <td>True</td>\n",
       "    </tr>\n",
       "    <tr>\n",
       "      <th>3</th>\n",
       "      <td>Male</td>\n",
       "      <td>0</td>\n",
       "      <td>False</td>\n",
       "      <td>False</td>\n",
       "      <td>45</td>\n",
       "      <td>False</td>\n",
       "      <td>No phone service</td>\n",
       "      <td>DSL</td>\n",
       "      <td>Yes</td>\n",
       "      <td>No</td>\n",
       "      <td>Yes</td>\n",
       "      <td>Yes</td>\n",
       "      <td>No</td>\n",
       "      <td>No</td>\n",
       "      <td>One year</td>\n",
       "      <td>False</td>\n",
       "      <td>Bank transfer (automatic)</td>\n",
       "      <td>42.30</td>\n",
       "      <td>1840.75</td>\n",
       "      <td>False</td>\n",
       "    </tr>\n",
       "    <tr>\n",
       "      <th>4</th>\n",
       "      <td>Female</td>\n",
       "      <td>0</td>\n",
       "      <td>False</td>\n",
       "      <td>False</td>\n",
       "      <td>2</td>\n",
       "      <td>True</td>\n",
       "      <td>No</td>\n",
       "      <td>Fiber optic</td>\n",
       "      <td>No</td>\n",
       "      <td>No</td>\n",
       "      <td>No</td>\n",
       "      <td>No</td>\n",
       "      <td>No</td>\n",
       "      <td>No</td>\n",
       "      <td>Month-to-month</td>\n",
       "      <td>True</td>\n",
       "      <td>Electronic check</td>\n",
       "      <td>70.70</td>\n",
       "      <td>151.65</td>\n",
       "      <td>True</td>\n",
       "    </tr>\n",
       "    <tr>\n",
       "      <th>...</th>\n",
       "      <td>...</td>\n",
       "      <td>...</td>\n",
       "      <td>...</td>\n",
       "      <td>...</td>\n",
       "      <td>...</td>\n",
       "      <td>...</td>\n",
       "      <td>...</td>\n",
       "      <td>...</td>\n",
       "      <td>...</td>\n",
       "      <td>...</td>\n",
       "      <td>...</td>\n",
       "      <td>...</td>\n",
       "      <td>...</td>\n",
       "      <td>...</td>\n",
       "      <td>...</td>\n",
       "      <td>...</td>\n",
       "      <td>...</td>\n",
       "      <td>...</td>\n",
       "      <td>...</td>\n",
       "      <td>...</td>\n",
       "    </tr>\n",
       "    <tr>\n",
       "      <th>7038</th>\n",
       "      <td>Male</td>\n",
       "      <td>0</td>\n",
       "      <td>True</td>\n",
       "      <td>True</td>\n",
       "      <td>24</td>\n",
       "      <td>True</td>\n",
       "      <td>Yes</td>\n",
       "      <td>DSL</td>\n",
       "      <td>Yes</td>\n",
       "      <td>No</td>\n",
       "      <td>Yes</td>\n",
       "      <td>Yes</td>\n",
       "      <td>Yes</td>\n",
       "      <td>Yes</td>\n",
       "      <td>One year</td>\n",
       "      <td>True</td>\n",
       "      <td>Mailed check</td>\n",
       "      <td>84.80</td>\n",
       "      <td>1990.50</td>\n",
       "      <td>False</td>\n",
       "    </tr>\n",
       "    <tr>\n",
       "      <th>7039</th>\n",
       "      <td>Female</td>\n",
       "      <td>0</td>\n",
       "      <td>True</td>\n",
       "      <td>True</td>\n",
       "      <td>72</td>\n",
       "      <td>True</td>\n",
       "      <td>Yes</td>\n",
       "      <td>Fiber optic</td>\n",
       "      <td>No</td>\n",
       "      <td>Yes</td>\n",
       "      <td>Yes</td>\n",
       "      <td>No</td>\n",
       "      <td>Yes</td>\n",
       "      <td>Yes</td>\n",
       "      <td>One year</td>\n",
       "      <td>True</td>\n",
       "      <td>Credit card (automatic)</td>\n",
       "      <td>103.20</td>\n",
       "      <td>7362.90</td>\n",
       "      <td>False</td>\n",
       "    </tr>\n",
       "    <tr>\n",
       "      <th>7040</th>\n",
       "      <td>Female</td>\n",
       "      <td>0</td>\n",
       "      <td>True</td>\n",
       "      <td>True</td>\n",
       "      <td>11</td>\n",
       "      <td>False</td>\n",
       "      <td>No phone service</td>\n",
       "      <td>DSL</td>\n",
       "      <td>Yes</td>\n",
       "      <td>No</td>\n",
       "      <td>No</td>\n",
       "      <td>No</td>\n",
       "      <td>No</td>\n",
       "      <td>No</td>\n",
       "      <td>Month-to-month</td>\n",
       "      <td>True</td>\n",
       "      <td>Electronic check</td>\n",
       "      <td>29.60</td>\n",
       "      <td>346.45</td>\n",
       "      <td>False</td>\n",
       "    </tr>\n",
       "    <tr>\n",
       "      <th>7041</th>\n",
       "      <td>Male</td>\n",
       "      <td>1</td>\n",
       "      <td>True</td>\n",
       "      <td>False</td>\n",
       "      <td>4</td>\n",
       "      <td>True</td>\n",
       "      <td>Yes</td>\n",
       "      <td>Fiber optic</td>\n",
       "      <td>No</td>\n",
       "      <td>No</td>\n",
       "      <td>No</td>\n",
       "      <td>No</td>\n",
       "      <td>No</td>\n",
       "      <td>No</td>\n",
       "      <td>Month-to-month</td>\n",
       "      <td>True</td>\n",
       "      <td>Mailed check</td>\n",
       "      <td>74.40</td>\n",
       "      <td>306.60</td>\n",
       "      <td>True</td>\n",
       "    </tr>\n",
       "    <tr>\n",
       "      <th>7042</th>\n",
       "      <td>Male</td>\n",
       "      <td>0</td>\n",
       "      <td>False</td>\n",
       "      <td>False</td>\n",
       "      <td>66</td>\n",
       "      <td>True</td>\n",
       "      <td>No</td>\n",
       "      <td>Fiber optic</td>\n",
       "      <td>Yes</td>\n",
       "      <td>No</td>\n",
       "      <td>Yes</td>\n",
       "      <td>Yes</td>\n",
       "      <td>Yes</td>\n",
       "      <td>Yes</td>\n",
       "      <td>Two year</td>\n",
       "      <td>True</td>\n",
       "      <td>Bank transfer (automatic)</td>\n",
       "      <td>105.65</td>\n",
       "      <td>6844.50</td>\n",
       "      <td>False</td>\n",
       "    </tr>\n",
       "  </tbody>\n",
       "</table>\n",
       "<p>7043 rows × 20 columns</p>\n",
       "</div>"
      ],
      "text/plain": [
       "      gender  SeniorCitizen  Partner  Dependents  tenure  PhoneService  \\\n",
       "0     Female              0     True       False       1         False   \n",
       "1       Male              0    False       False      34          True   \n",
       "2       Male              0    False       False       2          True   \n",
       "3       Male              0    False       False      45         False   \n",
       "4     Female              0    False       False       2          True   \n",
       "...      ...            ...      ...         ...     ...           ...   \n",
       "7038    Male              0     True        True      24          True   \n",
       "7039  Female              0     True        True      72          True   \n",
       "7040  Female              0     True        True      11         False   \n",
       "7041    Male              1     True       False       4          True   \n",
       "7042    Male              0    False       False      66          True   \n",
       "\n",
       "         MultipleLines InternetService OnlineSecurity OnlineBackup  \\\n",
       "0     No phone service             DSL             No          Yes   \n",
       "1                   No             DSL            Yes           No   \n",
       "2                   No             DSL            Yes          Yes   \n",
       "3     No phone service             DSL            Yes           No   \n",
       "4                   No     Fiber optic             No           No   \n",
       "...                ...             ...            ...          ...   \n",
       "7038               Yes             DSL            Yes           No   \n",
       "7039               Yes     Fiber optic             No          Yes   \n",
       "7040  No phone service             DSL            Yes           No   \n",
       "7041               Yes     Fiber optic             No           No   \n",
       "7042                No     Fiber optic            Yes           No   \n",
       "\n",
       "     DeviceProtection TechSupport StreamingTV StreamingMovies        Contract  \\\n",
       "0                  No          No          No              No  Month-to-month   \n",
       "1                 Yes          No          No              No        One year   \n",
       "2                  No          No          No              No  Month-to-month   \n",
       "3                 Yes         Yes          No              No        One year   \n",
       "4                  No          No          No              No  Month-to-month   \n",
       "...               ...         ...         ...             ...             ...   \n",
       "7038              Yes         Yes         Yes             Yes        One year   \n",
       "7039              Yes          No         Yes             Yes        One year   \n",
       "7040               No          No          No              No  Month-to-month   \n",
       "7041               No          No          No              No  Month-to-month   \n",
       "7042              Yes         Yes         Yes             Yes        Two year   \n",
       "\n",
       "      PaperlessBilling              PaymentMethod  MonthlyCharges  \\\n",
       "0                 True           Electronic check           29.85   \n",
       "1                False               Mailed check           56.95   \n",
       "2                 True               Mailed check           53.85   \n",
       "3                False  Bank transfer (automatic)           42.30   \n",
       "4                 True           Electronic check           70.70   \n",
       "...                ...                        ...             ...   \n",
       "7038              True               Mailed check           84.80   \n",
       "7039              True    Credit card (automatic)          103.20   \n",
       "7040              True           Electronic check           29.60   \n",
       "7041              True               Mailed check           74.40   \n",
       "7042              True  Bank transfer (automatic)          105.65   \n",
       "\n",
       "      TotalCharges  Churn  \n",
       "0            29.85  False  \n",
       "1          1889.50  False  \n",
       "2           108.15   True  \n",
       "3          1840.75  False  \n",
       "4           151.65   True  \n",
       "...            ...    ...  \n",
       "7038       1990.50  False  \n",
       "7039       7362.90  False  \n",
       "7040        346.45  False  \n",
       "7041        306.60   True  \n",
       "7042       6844.50  False  \n",
       "\n",
       "[7043 rows x 20 columns]"
      ]
     },
     "execution_count": 10,
     "metadata": {},
     "output_type": "execute_result"
    }
   ],
   "source": [
    "complete_data = input_data.to_pandas_dataframe()\n",
    "complete_data "
   ]
  },
  {
   "cell_type": "code",
   "execution_count": 11,
   "metadata": {},
   "outputs": [
    {
     "data": {
      "text/html": [
       "<div>\n",
       "<style scoped>\n",
       "    .dataframe tbody tr th:only-of-type {\n",
       "        vertical-align: middle;\n",
       "    }\n",
       "\n",
       "    .dataframe tbody tr th {\n",
       "        vertical-align: top;\n",
       "    }\n",
       "\n",
       "    .dataframe thead th {\n",
       "        text-align: right;\n",
       "    }\n",
       "</style>\n",
       "<table border=\"1\" class=\"dataframe\">\n",
       "  <thead>\n",
       "    <tr style=\"text-align: right;\">\n",
       "      <th></th>\n",
       "      <th>gender</th>\n",
       "      <th>SeniorCitizen</th>\n",
       "      <th>Partner</th>\n",
       "      <th>Dependents</th>\n",
       "      <th>tenure</th>\n",
       "      <th>PhoneService</th>\n",
       "      <th>MultipleLines</th>\n",
       "      <th>InternetService</th>\n",
       "      <th>OnlineSecurity</th>\n",
       "      <th>OnlineBackup</th>\n",
       "      <th>DeviceProtection</th>\n",
       "      <th>TechSupport</th>\n",
       "      <th>StreamingTV</th>\n",
       "      <th>StreamingMovies</th>\n",
       "      <th>Contract</th>\n",
       "      <th>PaperlessBilling</th>\n",
       "      <th>PaymentMethod</th>\n",
       "      <th>MonthlyCharges</th>\n",
       "      <th>TotalCharges</th>\n",
       "      <th>Churn</th>\n",
       "    </tr>\n",
       "  </thead>\n",
       "  <tbody>\n",
       "    <tr>\n",
       "      <th>5663</th>\n",
       "      <td>Female</td>\n",
       "      <td>0</td>\n",
       "      <td>True</td>\n",
       "      <td>True</td>\n",
       "      <td>37</td>\n",
       "      <td>True</td>\n",
       "      <td>Yes</td>\n",
       "      <td>Fiber optic</td>\n",
       "      <td>No</td>\n",
       "      <td>No</td>\n",
       "      <td>No</td>\n",
       "      <td>No</td>\n",
       "      <td>Yes</td>\n",
       "      <td>Yes</td>\n",
       "      <td>Month-to-month</td>\n",
       "      <td>True</td>\n",
       "      <td>Electronic check</td>\n",
       "      <td>95.25</td>\n",
       "      <td>3314.15</td>\n",
       "      <td>False</td>\n",
       "    </tr>\n",
       "    <tr>\n",
       "      <th>4</th>\n",
       "      <td>Female</td>\n",
       "      <td>0</td>\n",
       "      <td>False</td>\n",
       "      <td>False</td>\n",
       "      <td>2</td>\n",
       "      <td>True</td>\n",
       "      <td>No</td>\n",
       "      <td>Fiber optic</td>\n",
       "      <td>No</td>\n",
       "      <td>No</td>\n",
       "      <td>No</td>\n",
       "      <td>No</td>\n",
       "      <td>No</td>\n",
       "      <td>No</td>\n",
       "      <td>Month-to-month</td>\n",
       "      <td>True</td>\n",
       "      <td>Electronic check</td>\n",
       "      <td>70.70</td>\n",
       "      <td>151.65</td>\n",
       "      <td>True</td>\n",
       "    </tr>\n",
       "    <tr>\n",
       "      <th>6590</th>\n",
       "      <td>Female</td>\n",
       "      <td>0</td>\n",
       "      <td>False</td>\n",
       "      <td>False</td>\n",
       "      <td>1</td>\n",
       "      <td>True</td>\n",
       "      <td>No</td>\n",
       "      <td>Fiber optic</td>\n",
       "      <td>No</td>\n",
       "      <td>No</td>\n",
       "      <td>No</td>\n",
       "      <td>No</td>\n",
       "      <td>No</td>\n",
       "      <td>No</td>\n",
       "      <td>Month-to-month</td>\n",
       "      <td>True</td>\n",
       "      <td>Electronic check</td>\n",
       "      <td>70.85</td>\n",
       "      <td>70.85</td>\n",
       "      <td>True</td>\n",
       "    </tr>\n",
       "    <tr>\n",
       "      <th>5993</th>\n",
       "      <td>Male</td>\n",
       "      <td>0</td>\n",
       "      <td>False</td>\n",
       "      <td>False</td>\n",
       "      <td>2</td>\n",
       "      <td>True</td>\n",
       "      <td>No</td>\n",
       "      <td>Fiber optic</td>\n",
       "      <td>No</td>\n",
       "      <td>Yes</td>\n",
       "      <td>No</td>\n",
       "      <td>No</td>\n",
       "      <td>No</td>\n",
       "      <td>No</td>\n",
       "      <td>Month-to-month</td>\n",
       "      <td>False</td>\n",
       "      <td>Electronic check</td>\n",
       "      <td>74.95</td>\n",
       "      <td>151.75</td>\n",
       "      <td>False</td>\n",
       "    </tr>\n",
       "    <tr>\n",
       "      <th>6116</th>\n",
       "      <td>Female</td>\n",
       "      <td>0</td>\n",
       "      <td>False</td>\n",
       "      <td>False</td>\n",
       "      <td>48</td>\n",
       "      <td>True</td>\n",
       "      <td>Yes</td>\n",
       "      <td>DSL</td>\n",
       "      <td>No</td>\n",
       "      <td>Yes</td>\n",
       "      <td>Yes</td>\n",
       "      <td>Yes</td>\n",
       "      <td>Yes</td>\n",
       "      <td>No</td>\n",
       "      <td>One year</td>\n",
       "      <td>True</td>\n",
       "      <td>Bank transfer (automatic)</td>\n",
       "      <td>73.85</td>\n",
       "      <td>3581.40</td>\n",
       "      <td>False</td>\n",
       "    </tr>\n",
       "  </tbody>\n",
       "</table>\n",
       "</div>"
      ],
      "text/plain": [
       "      gender  SeniorCitizen  Partner  Dependents  tenure  PhoneService  \\\n",
       "5663  Female              0     True        True      37          True   \n",
       "4     Female              0    False       False       2          True   \n",
       "6590  Female              0    False       False       1          True   \n",
       "5993    Male              0    False       False       2          True   \n",
       "6116  Female              0    False       False      48          True   \n",
       "\n",
       "     MultipleLines InternetService OnlineSecurity OnlineBackup  \\\n",
       "5663           Yes     Fiber optic             No           No   \n",
       "4               No     Fiber optic             No           No   \n",
       "6590            No     Fiber optic             No           No   \n",
       "5993            No     Fiber optic             No          Yes   \n",
       "6116           Yes             DSL             No          Yes   \n",
       "\n",
       "     DeviceProtection TechSupport StreamingTV StreamingMovies        Contract  \\\n",
       "5663               No          No         Yes             Yes  Month-to-month   \n",
       "4                  No          No          No              No  Month-to-month   \n",
       "6590               No          No          No              No  Month-to-month   \n",
       "5993               No          No          No              No  Month-to-month   \n",
       "6116              Yes         Yes         Yes              No        One year   \n",
       "\n",
       "      PaperlessBilling              PaymentMethod  MonthlyCharges  \\\n",
       "5663              True           Electronic check           95.25   \n",
       "4                 True           Electronic check           70.70   \n",
       "6590              True           Electronic check           70.85   \n",
       "5993             False           Electronic check           74.95   \n",
       "6116              True  Bank transfer (automatic)           73.85   \n",
       "\n",
       "      TotalCharges  Churn  \n",
       "5663       3314.15  False  \n",
       "4           151.65   True  \n",
       "6590         70.85   True  \n",
       "5993        151.75  False  \n",
       "6116       3581.40  False  "
      ]
     },
     "execution_count": 11,
     "metadata": {},
     "output_type": "execute_result"
    }
   ],
   "source": [
    "# split data into training and test data\n",
    "from sklearn.model_selection import train_test_split\n",
    "train_data, test_data = train_test_split(complete_data,test_size=0.25)\n",
    "train_data.head()"
   ]
  },
  {
   "cell_type": "code",
   "execution_count": 12,
   "metadata": {},
   "outputs": [],
   "source": [
    "train_data.to_csv(\"traindata.csv\")"
   ]
  },
  {
   "cell_type": "code",
   "execution_count": 13,
   "metadata": {},
   "outputs": [
    {
     "name": "stdout",
     "output_type": "stream",
     "text": [
      "Uploading an estimated of 15 files\n",
      "Uploading ./.amlignore\n",
      "Uploaded ./.amlignore, 1 files out of an estimated total of 15\n",
      "Uploading ./.amlignore.amltmp\n",
      "Uploaded ./.amlignore.amltmp, 2 files out of an estimated total of 15\n",
      "Uploading ./automl.ipynb\n",
      "Uploaded ./automl.ipynb, 3 files out of an estimated total of 15\n",
      "Uploading ./conda_dependencies.yml\n",
      "Uploaded ./conda_dependencies.yml, 4 files out of an estimated total of 15\n",
      "Uploading ./hyperparameter_tuning.ipynb\n",
      "Uploaded ./hyperparameter_tuning.ipynb, 5 files out of an estimated total of 15\n",
      "Uploading ./model_training.py\n",
      "Uploaded ./model_training.py, 6 files out of an estimated total of 15\n",
      "Uploading ./README.md\n",
      "Uploaded ./README.md, 7 files out of an estimated total of 15\n",
      "Uploading ./score.py\n",
      "Uploaded ./score.py, 8 files out of an estimated total of 15\n",
      "Uploading ./train.py\n",
      "Uploaded ./train.py, 9 files out of an estimated total of 15\n",
      "Uploading ./traindata.csv\n",
      "Uploaded ./traindata.csv, 10 files out of an estimated total of 15\n",
      "Uploading ./.azureml/config.json\n",
      "Uploaded ./.azureml/config.json, 11 files out of an estimated total of 15\n",
      "Uploading ./.ipynb_checkpoints/automl-checkpoint.ipynb\n",
      "Uploaded ./.ipynb_checkpoints/automl-checkpoint.ipynb, 12 files out of an estimated total of 15\n",
      "Uploading ./.ipynb_checkpoints/hyperparameter_tuning-checkpoint.ipynb\n",
      "Uploaded ./.ipynb_checkpoints/hyperparameter_tuning-checkpoint.ipynb, 13 files out of an estimated total of 15\n",
      "Uploading ./.ipynb_checkpoints/model_training-checkpoint.py\n",
      "Uploaded ./.ipynb_checkpoints/model_training-checkpoint.py, 14 files out of an estimated total of 15\n",
      "Uploading ./.ipynb_checkpoints/train-checkpoint.py\n",
      "Uploaded ./.ipynb_checkpoints/train-checkpoint.py, 15 files out of an estimated total of 15\n",
      "Uploaded 15 files\n"
     ]
    }
   ],
   "source": [
    "data_store = ws.get_default_datastore()\n",
    "data_store.upload(src_dir='./',target_path='./')\n",
    "ftrain_data = Dataset.Tabular.from_delimited_files(path = [(data_store, './traindata.csv')])"
   ]
  },
  {
   "cell_type": "code",
   "execution_count": 14,
   "metadata": {},
   "outputs": [],
   "source": [
    "temp = ftrain_data.drop_columns('Columns1')"
   ]
  },
  {
   "cell_type": "markdown",
   "metadata": {},
   "source": [
    "## AutoML Configuration\n",
    "\n",
    "TODO: Explain why you chose the automl settings and cofiguration you used below."
   ]
  },
  {
   "cell_type": "code",
   "execution_count": 17,
   "metadata": {
    "collapsed": false,
    "gather": {
     "logged": 1598429217746
    },
    "jupyter": {
     "outputs_hidden": false,
     "source_hidden": false
    },
    "nteract": {
     "transient": {
      "deleting": false
     }
    }
   },
   "outputs": [],
   "source": [
    "# TODO: Put your automl settings here\n",
    "automl_settings = {    \n",
    "    \"experiment_timeout_minutes\": 25,\n",
    "    \"max_concurrent_iterations\": 5,\n",
    "    \"primary_metric\" : 'AUC_weighted'}\n",
    "\n",
    "# TODO: Put your automl config here\n",
    "automl_config = AutoMLConfig(\n",
    "                             compute_target=comp_trget,\n",
    "                             task = \"classification\",\n",
    "                             training_data=temp,\n",
    "                             label_column_name=\"Churn\",   \n",
    "                             enable_early_stopping= True,\n",
    "                             featurization= 'auto',\n",
    "                             n_cross_validations=7,\n",
    "                             debug_log = \"automl_errors.log\",\n",
    "                             **automl_settings\n",
    ")"
   ]
  },
  {
   "cell_type": "code",
   "execution_count": 18,
   "metadata": {
    "collapsed": false,
    "gather": {
     "logged": 1598431107951
    },
    "jupyter": {
     "outputs_hidden": false,
     "source_hidden": false
    },
    "nteract": {
     "transient": {
      "deleting": false
     }
    }
   },
   "outputs": [
    {
     "name": "stdout",
     "output_type": "stream",
     "text": [
      "Submitting remote run.\n",
      "No run_configuration provided, running on automl-cluster with default configuration\n",
      "Running on remote compute: automl-cluster\n"
     ]
    },
    {
     "data": {
      "text/html": [
       "<table style=\"width:100%\"><tr><th>Experiment</th><th>Id</th><th>Type</th><th>Status</th><th>Details Page</th><th>Docs Page</th></tr><tr><td>capstone-project</td><td>AutoML_e92d563d-e00c-42a2-94cb-09f00c0406f4</td><td>automl</td><td>NotStarted</td><td><a href=\"https://ml.azure.com/runs/AutoML_e92d563d-e00c-42a2-94cb-09f00c0406f4?wsid=/subscriptions/9e65f93e-bdd8-437b-b1e8-0647cd6098f7/resourcegroups/aml-quickstarts-158687/workspaces/quick-starts-ws-158687&amp;tid=660b3398-b80e-49d2-bc5b-ac1dc93b5254\" target=\"_blank\" rel=\"noopener\">Link to Azure Machine Learning studio</a></td><td><a href=\"https://docs.microsoft.com/en-us/python/api/overview/azure/ml/intro?view=azure-ml-py\" target=\"_blank\" rel=\"noopener\">Link to Documentation</a></td></tr></table>"
      ],
      "text/plain": [
       "<IPython.core.display.HTML object>"
      ]
     },
     "metadata": {},
     "output_type": "display_data"
    },
    {
     "name": "stdout",
     "output_type": "stream",
     "text": [
      "\n",
      "Current status: FeaturesGeneration. Generating features for the dataset.\n",
      "Current status: DatasetCrossValidationSplit. Generating individually featurized CV splits.\n",
      "Current status: ModelSelection. Beginning model selection.\n",
      "\n",
      "****************************************************************************************************\n",
      "DATA GUARDRAILS: \n",
      "\n",
      "TYPE:         Class balancing detection\n",
      "STATUS:       PASSED\n",
      "DESCRIPTION:  Your inputs were analyzed, and all classes are balanced in your training data.\n",
      "              Learn more about imbalanced data: https://aka.ms/AutomatedMLImbalancedData\n",
      "\n",
      "****************************************************************************************************\n",
      "\n",
      "TYPE:         Missing feature values imputation\n",
      "STATUS:       DONE\n",
      "DESCRIPTION:  If the missing values are expected, let the run complete. Otherwise cancel the current run and use a script to customize the handling of missing feature values that may be more appropriate based on the data type and business requirement.\n",
      "              Learn more about missing value imputation: https://aka.ms/AutomatedMLFeaturization\n",
      "DETAILS:      \n",
      "+---------------------------------+---------------------------------+---------------------------------+\n",
      "|Column name                      |Missing value count              |Imputation type                  |\n",
      "+=================================+=================================+=================================+\n",
      "|TotalCharges                     |8                                |mean                             |\n",
      "+---------------------------------+---------------------------------+---------------------------------+\n",
      "\n",
      "****************************************************************************************************\n",
      "\n",
      "TYPE:         High cardinality feature detection\n",
      "STATUS:       PASSED\n",
      "DESCRIPTION:  Your inputs were analyzed, and no high cardinality features were detected.\n",
      "              Learn more about high cardinality feature handling: https://aka.ms/AutomatedMLFeaturization\n",
      "\n",
      "****************************************************************************************************\n",
      "\n",
      "****************************************************************************************************\n",
      "ITERATION: The iteration being evaluated.\n",
      "PIPELINE: A summary description of the pipeline being evaluated.\n",
      "DURATION: Time taken for the current iteration.\n",
      "METRIC: The result of computing score on the fitted pipeline.\n",
      "BEST: The best observed score thus far.\n",
      "****************************************************************************************************\n",
      "\n",
      " ITERATION   PIPELINE                                       DURATION      METRIC      BEST\n",
      "         4   StandardScalerWrapper LightGBM                 0:00:45       0.8466    0.8466\n",
      "         3   MaxAbsScaler RandomForest                      0:00:38       0.8439    0.8466\n",
      "         1   MaxAbsScaler XGBoostClassifier                 0:00:54       0.8458    0.8466\n",
      "         2   MaxAbsScaler ExtremeRandomTrees                0:00:39       0.8358    0.8466\n",
      "         7   StandardScalerWrapper XGBoostClassifier        0:00:39       0.8285    0.8466\n",
      "         8   SparseNormalizer XGBoostClassifier             0:00:40       0.8297    0.8466\n",
      "         9   MaxAbsScaler RandomForest                      0:00:37       0.8340    0.8466\n",
      "        10   SparseNormalizer LightGBM                      0:00:39       0.8423    0.8466\n",
      "         0   MaxAbsScaler LightGBM                          0:05:21       0.8316    0.8466\n",
      "        11   MaxAbsScaler ExtremeRandomTrees                0:00:54       0.8413    0.8466\n",
      "         5   SparseNormalizer XGBoostClassifier             0:05:23       0.8358    0.8466\n",
      "         6   SparseNormalizer RandomForest                  0:05:28       0.8439    0.8466\n",
      "        12   StandardScalerWrapper XGBoostClassifier        0:00:42       0.8421    0.8466\n",
      "        13   StandardScalerWrapper ExtremeRandomTrees       0:00:39       0.8320    0.8466\n",
      "        15   MaxAbsScaler LightGBM                          0:00:40       0.8437    0.8466\n",
      "        14   StandardScalerWrapper RandomForest             0:01:01       0.8296    0.8466\n",
      "        16   MaxAbsScaler LogisticRegression                0:00:39       0.8467    0.8467\n",
      "        19   MaxAbsScaler ExtremeRandomTrees                0:00:41       0.8335    0.8467\n",
      "        17   StandardScalerWrapper ExtremeRandomTrees       0:01:04       0.8391    0.8467\n",
      "        18   StandardScalerWrapper XGBoostClassifier        0:00:42       0.8359    0.8467\n",
      "        20   MaxAbsScaler LogisticRegression                0:00:38       0.8468    0.8468\n",
      "        21   StandardScalerWrapper XGBoostClassifier        0:00:40       0.8349    0.8468\n",
      "        22   StandardScalerWrapper XGBoostClassifier        0:00:45       0.8424    0.8468\n",
      "        23   MaxAbsScaler RandomForest                      0:00:37       0.8378    0.8468\n",
      "        24   SparseNormalizer XGBoostClassifier             0:00:40       0.8384    0.8468\n",
      "        25   TruncatedSVDWrapper LogisticRegression         0:00:45       0.7324    0.8468\n",
      "        26   StandardScalerWrapper LightGBM                 0:00:40       0.8493    0.8493\n",
      "        27   SparseNormalizer XGBoostClassifier             0:00:48       0.8360    0.8493\n",
      "        28   MaxAbsScaler LightGBM                          0:00:40       0.8485    0.8493\n",
      "        29   StandardScalerWrapper LightGBM                 0:00:40       0.8456    0.8493\n",
      "        30   StandardScalerWrapper LogisticRegression       0:00:43       0.8447    0.8493\n",
      "        31   StandardScalerWrapper LightGBM                 0:00:42       0.8487    0.8493\n",
      "        32   StandardScalerWrapper GradientBoosting         0:00:42       0.8366    0.8493\n",
      "        33   StandardScalerWrapper LightGBM                 0:00:41       0.8431    0.8493\n",
      "        34   StandardScalerWrapper LogisticRegression       0:00:40       0.8447    0.8493\n",
      "        35   SparseNormalizer LightGBM                      0:00:44       0.8381    0.8493\n",
      "        36   MaxAbsScaler ExtremeRandomTrees                0:00:43       0.8309    0.8493\n",
      "        37   MaxAbsScaler SGD                               0:00:38       0.8429    0.8493\n",
      "        38   StandardScalerWrapper LogisticRegression       0:00:43       0.8463    0.8493\n",
      "        39   MaxAbsScaler LogisticRegression                0:00:43       0.8455    0.8493\n",
      "        40   StandardScalerWrapper LightGBM                 0:00:37       0.8371    0.8493\n",
      "        41   SparseNormalizer LightGBM                      0:00:40       0.8474    0.8493\n",
      "        42                                                  0:00:08          nan    0.8493\n",
      "        43                                                  0:00:21          nan    0.8493\n",
      "        44   SparseNormalizer XGBoostClassifier             0:00:02          nan    0.8493\n",
      "        45    VotingEnsemble                                0:01:16       0.8512    0.8512\n",
      "        46    StackEnsemble                                 0:01:19       0.8510    0.8512\n"
     ]
    }
   ],
   "source": [
    "# TODO: Submit your experiment\n",
    "remote_run = experiment.submit(automl_config, show_output = True)\n"
   ]
  },
  {
   "cell_type": "markdown",
   "metadata": {},
   "source": [
    "## Run Details\n",
    "\n",
    "OPTIONAL: Write about the different models trained and their performance. Why do you think some models did better than others?\n",
    "\n",
    "TODO: In the cell below, use the `RunDetails` widget to show the different experiments."
   ]
  },
  {
   "cell_type": "code",
   "execution_count": 19,
   "metadata": {
    "collapsed": false,
    "gather": {
     "logged": 1598431121770
    },
    "jupyter": {
     "outputs_hidden": false,
     "source_hidden": false
    },
    "nteract": {
     "transient": {
      "deleting": false
     }
    }
   },
   "outputs": [
    {
     "data": {
      "application/vnd.jupyter.widget-view+json": {
       "model_id": "eb5c7e73afb94ad8bf6e59022183ee41",
       "version_major": 2,
       "version_minor": 0
      },
      "text/plain": [
       "_AutoMLWidget(widget_settings={'childWidgetDisplay': 'popup', 'send_telemetry': False, 'log_level': 'INFO', 's…"
      ]
     },
     "metadata": {},
     "output_type": "display_data"
    },
    {
     "data": {
      "application/aml.mini.widget.v1": "{\"status\": \"Completed\", \"workbench_run_details_uri\": \"https://ml.azure.com/runs/AutoML_e92d563d-e00c-42a2-94cb-09f00c0406f4?wsid=/subscriptions/9e65f93e-bdd8-437b-b1e8-0647cd6098f7/resourcegroups/aml-quickstarts-158687/workspaces/quick-starts-ws-158687&tid=660b3398-b80e-49d2-bc5b-ac1dc93b5254\", \"run_id\": \"AutoML_e92d563d-e00c-42a2-94cb-09f00c0406f4\", \"run_properties\": {\"run_id\": \"AutoML_e92d563d-e00c-42a2-94cb-09f00c0406f4\", \"created_utc\": \"2021-09-18T18:03:20.556552Z\", \"properties\": {\"num_iterations\": \"1000\", \"training_type\": \"TrainFull\", \"acquisition_function\": \"EI\", \"primary_metric\": \"AUC_weighted\", \"train_split\": \"0\", \"acquisition_parameter\": \"0\", \"num_cross_validation\": \"7\", \"target\": \"automl-cluster\", \"AMLSettingsJsonString\": \"{\\\"path\\\":null,\\\"name\\\":\\\"capstone-project\\\",\\\"subscription_id\\\":\\\"9e65f93e-bdd8-437b-b1e8-0647cd6098f7\\\",\\\"resource_group\\\":\\\"aml-quickstarts-158687\\\",\\\"workspace_name\\\":\\\"quick-starts-ws-158687\\\",\\\"region\\\":\\\"southcentralus\\\",\\\"compute_target\\\":\\\"automl-cluster\\\",\\\"spark_service\\\":null,\\\"azure_service\\\":\\\"remote\\\",\\\"many_models\\\":false,\\\"pipeline_fetch_max_batch_size\\\":1,\\\"enable_batch_run\\\":false,\\\"enable_run_restructure\\\":false,\\\"start_auxiliary_runs_before_parent_complete\\\":false,\\\"enable_code_generation\\\":false,\\\"iterations\\\":1000,\\\"primary_metric\\\":\\\"AUC_weighted\\\",\\\"task_type\\\":\\\"classification\\\",\\\"data_script\\\":null,\\\"test_size\\\":0.0,\\\"validation_size\\\":0.0,\\\"n_cross_validations\\\":7,\\\"y_min\\\":null,\\\"y_max\\\":null,\\\"num_classes\\\":null,\\\"featurization\\\":\\\"auto\\\",\\\"_ignore_package_version_incompatibilities\\\":false,\\\"is_timeseries\\\":false,\\\"max_cores_per_iteration\\\":1,\\\"max_concurrent_iterations\\\":5,\\\"iteration_timeout_minutes\\\":null,\\\"mem_in_mb\\\":null,\\\"enforce_time_on_windows\\\":false,\\\"experiment_timeout_minutes\\\":25,\\\"experiment_exit_score\\\":null,\\\"whitelist_models\\\":null,\\\"blacklist_algos\\\":[\\\"TensorFlowLinearClassifier\\\",\\\"TensorFlowDNN\\\"],\\\"supported_models\\\":[\\\"GradientBoosting\\\",\\\"MultinomialNaiveBayes\\\",\\\"AveragedPerceptronClassifier\\\",\\\"DecisionTree\\\",\\\"TensorFlowLinearClassifier\\\",\\\"RandomForest\\\",\\\"KNN\\\",\\\"XGBoostClassifier\\\",\\\"SVM\\\",\\\"BernoulliNaiveBayes\\\",\\\"LogisticRegression\\\",\\\"LinearSVM\\\",\\\"ExtremeRandomTrees\\\",\\\"LightGBM\\\",\\\"TensorFlowDNN\\\",\\\"SGD\\\"],\\\"private_models\\\":[],\\\"auto_blacklist\\\":true,\\\"blacklist_samples_reached\\\":false,\\\"exclude_nan_labels\\\":true,\\\"verbosity\\\":20,\\\"_debug_log\\\":\\\"azureml_automl.log\\\",\\\"show_warnings\\\":false,\\\"model_explainability\\\":true,\\\"service_url\\\":null,\\\"sdk_url\\\":null,\\\"sdk_packages\\\":null,\\\"enable_onnx_compatible_models\\\":false,\\\"enable_split_onnx_featurizer_estimator_models\\\":false,\\\"vm_type\\\":\\\"STANDARD_D2_V2\\\",\\\"telemetry_verbosity\\\":20,\\\"send_telemetry\\\":true,\\\"enable_dnn\\\":false,\\\"scenario\\\":\\\"SDK-1.13.0\\\",\\\"environment_label\\\":null,\\\"save_mlflow\\\":false,\\\"force_text_dnn\\\":false,\\\"enable_feature_sweeping\\\":true,\\\"enable_early_stopping\\\":true,\\\"early_stopping_n_iters\\\":10,\\\"metrics\\\":null,\\\"enable_metric_confidence\\\":false,\\\"enable_ensembling\\\":true,\\\"enable_stack_ensembling\\\":true,\\\"ensemble_iterations\\\":15,\\\"enable_tf\\\":false,\\\"enable_subsampling\\\":null,\\\"subsample_seed\\\":null,\\\"enable_nimbusml\\\":false,\\\"enable_streaming\\\":false,\\\"force_streaming\\\":false,\\\"track_child_runs\\\":true,\\\"allowed_private_models\\\":[],\\\"label_column_name\\\":\\\"Churn\\\",\\\"weight_column_name\\\":null,\\\"cv_split_column_names\\\":null,\\\"enable_local_managed\\\":false,\\\"_local_managed_run_id\\\":null,\\\"cost_mode\\\":1,\\\"lag_length\\\":0,\\\"metric_operation\\\":\\\"maximize\\\",\\\"preprocess\\\":true}\", \"DataPrepJsonString\": \"{\\\\\\\"training_data\\\\\\\": {\\\\\\\"datasetId\\\\\\\": \\\\\\\"2a9b35d8-89f9-45c0-88ce-4ad731d56c6e\\\\\\\"}, \\\\\\\"datasets\\\\\\\": 0}\", \"EnableSubsampling\": null, \"runTemplate\": \"AutoML\", \"azureml.runsource\": \"automl\", \"display_task_type\": \"classification\", \"dependencies_versions\": \"{\\\"azureml-widgets\\\": \\\"1.33.0\\\", \\\"azureml-train\\\": \\\"1.33.0\\\", \\\"azureml-train-restclients-hyperdrive\\\": \\\"1.33.0\\\", \\\"azureml-train-core\\\": \\\"1.33.0\\\", \\\"azureml-train-automl\\\": \\\"1.33.0\\\", \\\"azureml-train-automl-runtime\\\": \\\"1.33.0\\\", \\\"azureml-train-automl-client\\\": \\\"1.33.0\\\", \\\"azureml-tensorboard\\\": \\\"1.33.0\\\", \\\"azureml-telemetry\\\": \\\"1.33.0\\\", \\\"azureml-sdk\\\": \\\"1.33.0\\\", \\\"azureml-samples\\\": \\\"0+unknown\\\", \\\"azureml-responsibleai\\\": \\\"1.33.0\\\", \\\"azureml-pipeline\\\": \\\"1.33.0\\\", \\\"azureml-pipeline-steps\\\": \\\"1.33.0\\\", \\\"azureml-pipeline-core\\\": \\\"1.33.0\\\", \\\"azureml-opendatasets\\\": \\\"1.33.0\\\", \\\"azureml-mlflow\\\": \\\"1.33.0\\\", \\\"azureml-interpret\\\": \\\"1.33.0\\\", \\\"azureml-explain-model\\\": \\\"1.33.0\\\", \\\"azureml-defaults\\\": \\\"1.33.0\\\", \\\"azureml-dataset-runtime\\\": \\\"1.33.0\\\", \\\"azureml-dataprep\\\": \\\"2.20.1\\\", \\\"azureml-dataprep-rslex\\\": \\\"1.18.0\\\", \\\"azureml-dataprep-native\\\": \\\"38.0.0\\\", \\\"azureml-datadrift\\\": \\\"1.33.0\\\", \\\"azureml-core\\\": \\\"1.33.0\\\", \\\"azureml-contrib-services\\\": \\\"1.33.0\\\", \\\"azureml-contrib-server\\\": \\\"1.33.0\\\", \\\"azureml-contrib-reinforcementlearning\\\": \\\"1.33.0\\\", \\\"azureml-contrib-pipeline-steps\\\": \\\"1.33.0\\\", \\\"azureml-contrib-notebook\\\": \\\"1.33.0\\\", \\\"azureml-contrib-fairness\\\": \\\"1.33.0\\\", \\\"azureml-contrib-dataset\\\": \\\"1.33.0\\\", \\\"azureml-cli-common\\\": \\\"1.33.0\\\", \\\"azureml-automl-runtime\\\": \\\"1.33.0\\\", \\\"azureml-automl-dnn-nlp\\\": \\\"1.33.0\\\", \\\"azureml-automl-core\\\": \\\"1.33.0\\\", \\\"azureml-accel-models\\\": \\\"1.33.0\\\"}\", \"_aml_system_scenario_identification\": \"Remote.Parent\", \"ClientType\": \"SDK\", \"environment_cpu_name\": \"AzureML-AutoML\", \"environment_cpu_label\": \"prod\", \"environment_gpu_name\": \"AzureML-AutoML-GPU\", \"environment_gpu_label\": \"prod\", \"root_attribution\": \"automl\", \"attribution\": \"AutoML\", \"Orchestrator\": \"AutoML\", \"CancelUri\": \"https://southcentralus.api.azureml.ms/jasmine/v1.0/subscriptions/9e65f93e-bdd8-437b-b1e8-0647cd6098f7/resourceGroups/aml-quickstarts-158687/providers/Microsoft.MachineLearningServices/workspaces/quick-starts-ws-158687/experimentids/dd9d1a03-c65c-4ba8-bfff-76692991db80/cancel/AutoML_e92d563d-e00c-42a2-94cb-09f00c0406f4\", \"ClientSdkVersion\": \"1.33.1.post1\", \"snapshotId\": \"00000000-0000-0000-0000-000000000000\", \"SetupRunId\": \"AutoML_e92d563d-e00c-42a2-94cb-09f00c0406f4_setup\", \"SetupRunContainerId\": \"dcid.AutoML_e92d563d-e00c-42a2-94cb-09f00c0406f4_setup\", \"FeaturizationRunJsonPath\": \"featurizer_container.json\", \"FeaturizationRunId\": \"AutoML_e92d563d-e00c-42a2-94cb-09f00c0406f4_featurize\", \"ProblemInfoJsonString\": \"{\\\"dataset_num_categorical\\\": 0, \\\"is_sparse\\\": true, \\\"subsampling\\\": false, \\\"has_extra_col\\\": true, \\\"dataset_classes\\\": 2, \\\"dataset_features\\\": 41, \\\"dataset_samples\\\": 5282, \\\"single_frequency_class_detected\\\": false}\", \"ModelExplainRunId\": \"AutoML_e92d563d-e00c-42a2-94cb-09f00c0406f4_ModelExplain\"}, \"tags\": {\"model_explain_run\": \"best_run\", \"_aml_system_azureml.automlComponent\": \"AutoML\", \"pipeline_id\": \"\", \"score\": \"\", \"predicted_cost\": \"\", \"fit_time\": \"\", \"training_percent\": \"\", \"iteration\": \"\", \"run_preprocessor\": \"\", \"run_algorithm\": \"\", \"dynamic_whitelisting_iterations\": \"<25>;<30>;<35>;<40>;\", \"automl_best_child_run_id\": \"AutoML_e92d563d-e00c-42a2-94cb-09f00c0406f4_45\", \"model_explain_best_run_child_id\": \"AutoML_e92d563d-e00c-42a2-94cb-09f00c0406f4_45\"}, \"end_time_utc\": \"2021-09-18T18:28:33.150346Z\", \"status\": \"Completed\", \"log_files\": {}, \"log_groups\": [], \"run_duration\": \"0:25:12\", \"run_number\": \"1\", \"run_queued_details\": {\"status\": \"Completed\", \"details\": null}}, \"child_runs\": [{\"run_id\": \"AutoML_e92d563d-e00c-42a2-94cb-09f00c0406f4_0\", \"run_number\": 5, \"metric\": null, \"status\": \"Completed\", \"run_type\": \"azureml.scriptrun\", \"training_percent\": \"100\", \"start_time\": \"2021-09-18T18:14:14.091877Z\", \"end_time\": \"2021-09-18T18:19:34.927543Z\", \"created_time\": \"2021-09-18T18:10:46.761695Z\", \"created_time_dt\": \"2021-09-18T18:10:46.761695Z\", \"duration\": \"0:08:48\", \"iteration\": \"0\", \"goal\": \"AUC_weighted_max\", \"run_name\": \"MaxAbsScaler, LightGBM\", \"run_properties\": \"copy=True\", \"primary_metric\": 0.83159129, \"best_metric\": 0.83159129}, {\"run_id\": \"AutoML_e92d563d-e00c-42a2-94cb-09f00c0406f4_4\", \"run_number\": 6, \"metric\": null, \"status\": \"Completed\", \"run_type\": \"azureml.scriptrun\", \"training_percent\": \"100\", \"start_time\": \"2021-09-18T18:11:01.707338Z\", \"end_time\": \"2021-09-18T18:11:46.995386Z\", \"created_time\": \"2021-09-18T18:10:46.776284Z\", \"created_time_dt\": \"2021-09-18T18:10:46.776284Z\", \"duration\": \"0:01:00\", \"iteration\": \"4\", \"goal\": \"AUC_weighted_max\", \"run_name\": \"StandardScalerWrapper, LightGBM\", \"run_properties\": \"\\n    copy=True,\\n    with_mean=False,\\n    with_std=True\\n\", \"primary_metric\": 0.84660662, \"best_metric\": 0.84660662}, {\"run_id\": \"AutoML_e92d563d-e00c-42a2-94cb-09f00c0406f4_1\", \"run_number\": 7, \"metric\": null, \"status\": \"Completed\", \"run_type\": \"azureml.scriptrun\", \"training_percent\": \"100\", \"start_time\": \"2021-09-18T18:12:57.099545Z\", \"end_time\": \"2021-09-18T18:13:51.097774Z\", \"created_time\": \"2021-09-18T18:10:46.788229Z\", \"created_time_dt\": \"2021-09-18T18:10:46.788229Z\", \"duration\": \"0:03:04\", \"iteration\": \"1\", \"goal\": \"AUC_weighted_max\", \"run_name\": \"MaxAbsScaler, XGBoostClassifier\", \"run_properties\": \"copy=True\", \"primary_metric\": 0.84583879, \"best_metric\": 0.84583879}, {\"run_id\": \"AutoML_e92d563d-e00c-42a2-94cb-09f00c0406f4_3\", \"run_number\": 8, \"metric\": null, \"status\": \"Completed\", \"run_type\": \"azureml.scriptrun\", \"training_percent\": \"100\", \"start_time\": \"2021-09-18T18:12:02.64106Z\", \"end_time\": \"2021-09-18T18:12:40.697664Z\", \"created_time\": \"2021-09-18T18:10:46.790197Z\", \"created_time_dt\": \"2021-09-18T18:10:46.790197Z\", \"duration\": \"0:01:53\", \"iteration\": \"3\", \"goal\": \"AUC_weighted_max\", \"run_name\": \"MaxAbsScaler, RandomForest\", \"run_properties\": \"copy=True\", \"primary_metric\": 0.8439443, \"best_metric\": 0.84583879}, {\"run_id\": \"AutoML_e92d563d-e00c-42a2-94cb-09f00c0406f4_2\", \"run_number\": 9, \"metric\": null, \"status\": \"Completed\", \"run_type\": \"azureml.scriptrun\", \"training_percent\": \"100\", \"start_time\": \"2021-09-18T18:14:06.002508Z\", \"end_time\": \"2021-09-18T18:14:45.275686Z\", \"created_time\": \"2021-09-18T18:10:46.784292Z\", \"created_time_dt\": \"2021-09-18T18:10:46.784292Z\", \"duration\": \"0:03:58\", \"iteration\": \"2\", \"goal\": \"AUC_weighted_max\", \"run_name\": \"MaxAbsScaler, ExtremeRandomTrees\", \"run_properties\": \"copy=True\", \"primary_metric\": 0.83577785, \"best_metric\": 0.84583879}, {\"run_id\": \"AutoML_e92d563d-e00c-42a2-94cb-09f00c0406f4_5\", \"run_number\": 10, \"metric\": null, \"status\": \"Completed\", \"run_type\": \"azureml.scriptrun\", \"training_percent\": \"100\", \"start_time\": \"2021-09-18T18:14:12.675548Z\", \"end_time\": \"2021-09-18T18:19:36.158993Z\", \"created_time\": \"2021-09-18T18:11:50.286689Z\", \"created_time_dt\": \"2021-09-18T18:11:50.286689Z\", \"duration\": \"0:07:45\", \"iteration\": \"5\", \"goal\": \"AUC_weighted_max\", \"run_name\": \"SparseNormalizer, XGBoostClassifier\", \"run_properties\": \"copy=True, norm='max'\", \"primary_metric\": 0.83578833, \"best_metric\": 0.84660662}, {\"run_id\": \"AutoML_e92d563d-e00c-42a2-94cb-09f00c0406f4_6\", \"run_number\": 11, \"metric\": null, \"status\": \"Completed\", \"run_type\": \"azureml.scriptrun\", \"training_percent\": \"100\", \"start_time\": \"2021-09-18T18:14:27.833491Z\", \"end_time\": \"2021-09-18T18:19:55.390101Z\", \"created_time\": \"2021-09-18T18:12:43.873655Z\", \"created_time_dt\": \"2021-09-18T18:12:43.873655Z\", \"duration\": \"0:07:11\", \"iteration\": \"6\", \"goal\": \"AUC_weighted_max\", \"run_name\": \"SparseNormalizer, RandomForest\", \"run_properties\": \"copy=True, norm='l2'\", \"primary_metric\": 0.84389882, \"best_metric\": 0.84660662}, {\"run_id\": \"AutoML_e92d563d-e00c-42a2-94cb-09f00c0406f4_7\", \"run_number\": 12, \"metric\": null, \"status\": \"Completed\", \"run_type\": \"azureml.scriptrun\", \"training_percent\": \"100\", \"start_time\": \"2021-09-18T18:15:01.385038Z\", \"end_time\": \"2021-09-18T18:15:40.129027Z\", \"created_time\": \"2021-09-18T18:13:54.231153Z\", \"created_time_dt\": \"2021-09-18T18:13:54.231153Z\", \"duration\": \"0:01:45\", \"iteration\": \"7\", \"goal\": \"AUC_weighted_max\", \"run_name\": \"StandardScalerWrapper, XGBoostClassifier\", \"run_properties\": \"\\n    copy=True,\\n    with_mean=False,\\n    with_std=False\\n\", \"primary_metric\": 0.82853175, \"best_metric\": 0.84660662}, {\"run_id\": \"AutoML_e92d563d-e00c-42a2-94cb-09f00c0406f4_8\", \"run_number\": 13, \"metric\": null, \"status\": \"Completed\", \"run_type\": \"azureml.scriptrun\", \"training_percent\": \"100\", \"start_time\": \"2021-09-18T18:15:55.868364Z\", \"end_time\": \"2021-09-18T18:16:36.293705Z\", \"created_time\": \"2021-09-18T18:14:48.485677Z\", \"created_time_dt\": \"2021-09-18T18:14:48.485677Z\", \"duration\": \"0:01:47\", \"iteration\": \"8\", \"goal\": \"AUC_weighted_max\", \"run_name\": \"SparseNormalizer, XGBoostClassifier\", \"run_properties\": \"copy=True, norm='max'\", \"primary_metric\": 0.82969916, \"best_metric\": 0.84660662}, {\"run_id\": \"AutoML_e92d563d-e00c-42a2-94cb-09f00c0406f4_9\", \"run_number\": 14, \"metric\": null, \"status\": \"Completed\", \"run_type\": \"azureml.scriptrun\", \"training_percent\": \"100\", \"start_time\": \"2021-09-18T18:16:54.24636Z\", \"end_time\": \"2021-09-18T18:17:30.843981Z\", \"created_time\": \"2021-09-18T18:15:43.031534Z\", \"created_time_dt\": \"2021-09-18T18:15:43.031534Z\", \"duration\": \"0:01:47\", \"iteration\": \"9\", \"goal\": \"AUC_weighted_max\", \"run_name\": \"MaxAbsScaler, RandomForest\", \"run_properties\": \"copy=True\", \"primary_metric\": 0.8339862, \"best_metric\": 0.84660662}, {\"run_id\": \"AutoML_e92d563d-e00c-42a2-94cb-09f00c0406f4_10\", \"run_number\": 15, \"metric\": null, \"status\": \"Completed\", \"run_type\": \"azureml.scriptrun\", \"training_percent\": \"100\", \"start_time\": \"2021-09-18T18:17:47.074371Z\", \"end_time\": \"2021-09-18T18:18:25.61762Z\", \"created_time\": \"2021-09-18T18:16:39.332276Z\", \"created_time_dt\": \"2021-09-18T18:16:39.332276Z\", \"duration\": \"0:01:46\", \"iteration\": \"10\", \"goal\": \"AUC_weighted_max\", \"run_name\": \"SparseNormalizer, LightGBM\", \"run_properties\": \"copy=True, norm='l1'\", \"primary_metric\": 0.84231488, \"best_metric\": 0.84660662}, {\"run_id\": \"AutoML_e92d563d-e00c-42a2-94cb-09f00c0406f4_11\", \"run_number\": 16, \"metric\": null, \"status\": \"Completed\", \"run_type\": \"azureml.scriptrun\", \"training_percent\": \"100\", \"start_time\": \"2021-09-18T18:18:42.402248Z\", \"end_time\": \"2021-09-18T18:19:36.544623Z\", \"created_time\": \"2021-09-18T18:17:34.010864Z\", \"created_time_dt\": \"2021-09-18T18:17:34.010864Z\", \"duration\": \"0:02:02\", \"iteration\": \"11\", \"goal\": \"AUC_weighted_max\", \"run_name\": \"MaxAbsScaler, ExtremeRandomTrees\", \"run_properties\": \"copy=True\", \"primary_metric\": 0.84129338, \"best_metric\": 0.84660662}, {\"run_id\": \"AutoML_e92d563d-e00c-42a2-94cb-09f00c0406f4_12\", \"run_number\": 17, \"metric\": null, \"status\": \"Completed\", \"run_type\": \"azureml.scriptrun\", \"training_percent\": \"100\", \"start_time\": \"2021-09-18T18:19:49.241576Z\", \"end_time\": \"2021-09-18T18:20:30.772875Z\", \"created_time\": \"2021-09-18T18:18:28.906574Z\", \"created_time_dt\": \"2021-09-18T18:18:28.906574Z\", \"duration\": \"0:02:01\", \"iteration\": \"12\", \"goal\": \"AUC_weighted_max\", \"run_name\": \"StandardScalerWrapper, XGBoostClassifier\", \"run_properties\": \"\\n    copy=True,\\n    with_mean=False,\\n    with_std=False\\n\", \"primary_metric\": 0.84214363, \"best_metric\": 0.84660662}, {\"run_id\": \"AutoML_e92d563d-e00c-42a2-94cb-09f00c0406f4_13\", \"run_number\": 18, \"metric\": null, \"status\": \"Completed\", \"run_type\": \"azureml.scriptrun\", \"training_percent\": \"100\", \"start_time\": \"2021-09-18T18:19:51.110199Z\", \"end_time\": \"2021-09-18T18:20:29.963001Z\", \"created_time\": \"2021-09-18T18:19:37.896849Z\", \"created_time_dt\": \"2021-09-18T18:19:37.896849Z\", \"duration\": \"0:00:52\", \"iteration\": \"13\", \"goal\": \"AUC_weighted_max\", \"run_name\": \"StandardScalerWrapper, ExtremeRandomTrees\", \"run_properties\": \"\\n    copy=True,\\n    with_mean=False,\\n    with_std=False\\n\", \"primary_metric\": 0.83204934, \"best_metric\": 0.84660662}, {\"run_id\": \"AutoML_e92d563d-e00c-42a2-94cb-09f00c0406f4_15\", \"run_number\": 19, \"metric\": null, \"status\": \"Completed\", \"run_type\": \"azureml.scriptrun\", \"training_percent\": \"100\", \"start_time\": \"2021-09-18T18:19:52.25159Z\", \"end_time\": \"2021-09-18T18:20:32.598529Z\", \"created_time\": \"2021-09-18T18:19:42.275529Z\", \"created_time_dt\": \"2021-09-18T18:19:42.275529Z\", \"duration\": \"0:00:50\", \"iteration\": \"15\", \"goal\": \"AUC_weighted_max\", \"run_name\": \"MaxAbsScaler, LightGBM\", \"run_properties\": \"copy=True\", \"primary_metric\": 0.84365965, \"best_metric\": 0.84660662}, {\"run_id\": \"AutoML_e92d563d-e00c-42a2-94cb-09f00c0406f4_14\", \"run_number\": 20, \"metric\": null, \"status\": \"Completed\", \"run_type\": \"azureml.scriptrun\", \"training_percent\": \"100\", \"start_time\": \"2021-09-18T18:20:09.737595Z\", \"end_time\": \"2021-09-18T18:21:10.814345Z\", \"created_time\": \"2021-09-18T18:19:42.317879Z\", \"created_time_dt\": \"2021-09-18T18:19:42.317879Z\", \"duration\": \"0:01:28\", \"iteration\": \"14\", \"goal\": \"AUC_weighted_max\", \"run_name\": \"StandardScalerWrapper, RandomForest\", \"run_properties\": \"\\n    copy=True,\\n    with_mean=False,\\n    with_std=False\\n\", \"primary_metric\": 0.82963011, \"best_metric\": 0.84660662}, {\"run_id\": \"AutoML_e92d563d-e00c-42a2-94cb-09f00c0406f4_16\", \"run_number\": 21, \"metric\": null, \"status\": \"Completed\", \"run_type\": \"azureml.scriptrun\", \"training_percent\": \"100\", \"start_time\": \"2021-09-18T18:20:47.886517Z\", \"end_time\": \"2021-09-18T18:21:26.979245Z\", \"created_time\": \"2021-09-18T18:19:58.194091Z\", \"created_time_dt\": \"2021-09-18T18:19:58.194091Z\", \"duration\": \"0:01:28\", \"iteration\": \"16\", \"goal\": \"AUC_weighted_max\", \"run_name\": \"MaxAbsScaler, LogisticRegression\", \"run_properties\": \"copy=True\", \"primary_metric\": 0.84668549, \"best_metric\": 0.84668549}, {\"run_id\": \"AutoML_e92d563d-e00c-42a2-94cb-09f00c0406f4_17\", \"run_number\": 22, \"metric\": null, \"status\": \"Completed\", \"run_type\": \"azureml.scriptrun\", \"training_percent\": \"100\", \"start_time\": \"2021-09-18T18:20:46.135854Z\", \"end_time\": \"2021-09-18T18:21:50.048337Z\", \"created_time\": \"2021-09-18T18:20:33.008237Z\", \"created_time_dt\": \"2021-09-18T18:20:33.008237Z\", \"duration\": \"0:01:17\", \"iteration\": \"17\", \"goal\": \"AUC_weighted_max\", \"run_name\": \"StandardScalerWrapper, ExtremeRandomTrees\", \"run_properties\": \"\\n    copy=True,\\n    with_mean=False,\\n    with_std=True\\n\", \"primary_metric\": 0.83906713, \"best_metric\": 0.84668549}, {\"run_id\": \"AutoML_e92d563d-e00c-42a2-94cb-09f00c0406f4_18\", \"run_number\": 23, \"metric\": null, \"status\": \"Completed\", \"run_type\": \"azureml.scriptrun\", \"training_percent\": \"100\", \"start_time\": \"2021-09-18T18:21:25.258532Z\", \"end_time\": \"2021-09-18T18:22:07.096385Z\", \"created_time\": \"2021-09-18T18:20:38.261558Z\", \"created_time_dt\": \"2021-09-18T18:20:38.261558Z\", \"duration\": \"0:01:28\", \"iteration\": \"18\", \"goal\": \"AUC_weighted_max\", \"run_name\": \"StandardScalerWrapper, XGBoostClassifier\", \"run_properties\": \"\\n    copy=True,\\n    with_mean=False,\\n    with_std=False\\n\", \"primary_metric\": 0.83588455, \"best_metric\": 0.84668549}, {\"run_id\": \"AutoML_e92d563d-e00c-42a2-94cb-09f00c0406f4_19\", \"run_number\": 24, \"metric\": null, \"status\": \"Completed\", \"run_type\": \"azureml.scriptrun\", \"training_percent\": \"100\", \"start_time\": \"2021-09-18T18:20:47.077234Z\", \"end_time\": \"2021-09-18T18:21:28.389657Z\", \"created_time\": \"2021-09-18T18:20:38.341445Z\", \"created_time_dt\": \"2021-09-18T18:20:38.341445Z\", \"duration\": \"0:00:50\", \"iteration\": \"19\", \"goal\": \"AUC_weighted_max\", \"run_name\": \"MaxAbsScaler, ExtremeRandomTrees\", \"run_properties\": \"copy=True\", \"primary_metric\": 0.83345569, \"best_metric\": 0.84668549}, {\"run_id\": \"AutoML_e92d563d-e00c-42a2-94cb-09f00c0406f4_20\", \"run_number\": 25, \"metric\": null, \"status\": \"Completed\", \"run_type\": \"azureml.scriptrun\", \"training_percent\": \"100\", \"start_time\": \"2021-09-18T18:21:41.524052Z\", \"end_time\": \"2021-09-18T18:22:19.044161Z\", \"created_time\": \"2021-09-18T18:21:13.757113Z\", \"created_time_dt\": \"2021-09-18T18:21:13.757113Z\", \"duration\": \"0:01:05\", \"iteration\": \"20\", \"goal\": \"AUC_weighted_max\", \"run_name\": \"MaxAbsScaler, LogisticRegression\", \"run_properties\": \"copy=True\", \"primary_metric\": 0.84683108, \"best_metric\": 0.84683108}, {\"run_id\": \"AutoML_e92d563d-e00c-42a2-94cb-09f00c0406f4_21\", \"run_number\": 26, \"metric\": null, \"status\": \"Completed\", \"run_type\": \"azureml.scriptrun\", \"training_percent\": \"100\", \"start_time\": \"2021-09-18T18:21:43.539927Z\", \"end_time\": \"2021-09-18T18:22:23.872601Z\", \"created_time\": \"2021-09-18T18:21:29.791254Z\", \"created_time_dt\": \"2021-09-18T18:21:29.791254Z\", \"duration\": \"0:00:54\", \"iteration\": \"21\", \"goal\": \"AUC_weighted_max\", \"run_name\": \"StandardScalerWrapper, XGBoostClassifier\", \"run_properties\": \"\\n    copy=True,\\n    with_mean=False,\\n    with_std=False\\n\", \"primary_metric\": 0.83493804, \"best_metric\": 0.84683108}, {\"run_id\": \"AutoML_e92d563d-e00c-42a2-94cb-09f00c0406f4_22\", \"run_number\": 27, \"metric\": null, \"status\": \"Completed\", \"run_type\": \"azureml.scriptrun\", \"training_percent\": \"100\", \"start_time\": \"2021-09-18T18:22:05.875965Z\", \"end_time\": \"2021-09-18T18:22:50.583423Z\", \"created_time\": \"2021-09-18T18:21:33.509376Z\", \"created_time_dt\": \"2021-09-18T18:21:33.509376Z\", \"duration\": \"0:01:17\", \"iteration\": \"22\", \"goal\": \"AUC_weighted_max\", \"run_name\": \"StandardScalerWrapper, XGBoostClassifier\", \"run_properties\": \"\\n    copy=True,\\n    with_mean=False,\\n    with_std=False\\n\", \"primary_metric\": 0.84238469, \"best_metric\": 0.84683108}, {\"run_id\": \"AutoML_e92d563d-e00c-42a2-94cb-09f00c0406f4_23\", \"run_number\": 28, \"metric\": null, \"status\": \"Completed\", \"run_type\": \"azureml.scriptrun\", \"training_percent\": \"100\", \"start_time\": \"2021-09-18T18:22:24.199701Z\", \"end_time\": \"2021-09-18T18:23:00.893582Z\", \"created_time\": \"2021-09-18T18:21:52.81219Z\", \"created_time_dt\": \"2021-09-18T18:21:52.81219Z\", \"duration\": \"0:01:08\", \"iteration\": \"23\", \"goal\": \"AUC_weighted_max\", \"run_name\": \"MaxAbsScaler, RandomForest\", \"run_properties\": \"copy=True\", \"primary_metric\": 0.83776365, \"best_metric\": 0.84683108}, {\"run_id\": \"AutoML_e92d563d-e00c-42a2-94cb-09f00c0406f4_24\", \"run_number\": 29, \"metric\": null, \"status\": \"Completed\", \"run_type\": \"azureml.scriptrun\", \"training_percent\": \"100\", \"start_time\": \"2021-09-18T18:22:35.088069Z\", \"end_time\": \"2021-09-18T18:23:15.003983Z\", \"created_time\": \"2021-09-18T18:22:09.917109Z\", \"created_time_dt\": \"2021-09-18T18:22:09.917109Z\", \"duration\": \"0:01:05\", \"iteration\": \"24\", \"goal\": \"AUC_weighted_max\", \"run_name\": \"SparseNormalizer, XGBoostClassifier\", \"run_properties\": \"copy=True, norm='max'\", \"primary_metric\": 0.83842058, \"best_metric\": 0.84683108}, {\"run_id\": \"AutoML_e92d563d-e00c-42a2-94cb-09f00c0406f4_25\", \"run_number\": 30, \"metric\": null, \"status\": \"Completed\", \"run_type\": \"azureml.scriptrun\", \"training_percent\": \"100\", \"start_time\": \"2021-09-18T18:22:39.056177Z\", \"end_time\": \"2021-09-18T18:23:23.713378Z\", \"created_time\": \"2021-09-18T18:22:23.068326Z\", \"created_time_dt\": \"2021-09-18T18:22:23.068326Z\", \"duration\": \"0:01:00\", \"iteration\": \"25\", \"goal\": \"AUC_weighted_max\", \"run_name\": \"TruncatedSVDWrapper, LogisticRegression\", \"run_properties\": \"n_components=0.6531578947368422, random_state=None\", \"primary_metric\": 0.73238343, \"best_metric\": 0.84683108}, {\"run_id\": \"AutoML_e92d563d-e00c-42a2-94cb-09f00c0406f4_26\", \"run_number\": 31, \"metric\": null, \"status\": \"Completed\", \"run_type\": \"azureml.scriptrun\", \"training_percent\": \"100\", \"start_time\": \"2021-09-18T18:23:06.52357Z\", \"end_time\": \"2021-09-18T18:23:46.075874Z\", \"created_time\": \"2021-09-18T18:22:26.109766Z\", \"created_time_dt\": \"2021-09-18T18:22:26.109766Z\", \"duration\": \"0:01:19\", \"iteration\": \"26\", \"goal\": \"AUC_weighted_max\", \"run_name\": \"StandardScalerWrapper, LightGBM\", \"run_properties\": \"\\n    copy=True,\\n    with_mean=False,\\n    with_std=False\\n\", \"primary_metric\": 0.84932061, \"best_metric\": 0.84932061}, {\"run_id\": \"AutoML_e92d563d-e00c-42a2-94cb-09f00c0406f4_27\", \"run_number\": 32, \"metric\": null, \"status\": \"Completed\", \"run_type\": \"azureml.scriptrun\", \"training_percent\": \"100\", \"start_time\": \"2021-09-18T18:23:15.796349Z\", \"end_time\": \"2021-09-18T18:24:04.008404Z\", \"created_time\": \"2021-09-18T18:22:52.658543Z\", \"created_time_dt\": \"2021-09-18T18:22:52.658543Z\", \"duration\": \"0:01:11\", \"iteration\": \"27\", \"goal\": \"AUC_weighted_max\", \"run_name\": \"SparseNormalizer, XGBoostClassifier\", \"run_properties\": \"copy=True, norm='l2'\", \"primary_metric\": 0.83600499, \"best_metric\": 0.84932061}, {\"run_id\": \"AutoML_e92d563d-e00c-42a2-94cb-09f00c0406f4_28\", \"run_number\": 33, \"metric\": null, \"status\": \"Completed\", \"run_type\": \"azureml.scriptrun\", \"training_percent\": \"100\", \"start_time\": \"2021-09-18T18:23:29.756055Z\", \"end_time\": \"2021-09-18T18:24:09.307641Z\", \"created_time\": \"2021-09-18T18:23:02.780624Z\", \"created_time_dt\": \"2021-09-18T18:23:02.780624Z\", \"duration\": \"0:01:06\", \"iteration\": \"28\", \"goal\": \"AUC_weighted_max\", \"run_name\": \"MaxAbsScaler, LightGBM\", \"run_properties\": \"copy=True\", \"primary_metric\": 0.84846341, \"best_metric\": 0.84932061}, {\"run_id\": \"AutoML_e92d563d-e00c-42a2-94cb-09f00c0406f4_29\", \"run_number\": 34, \"metric\": null, \"status\": \"Completed\", \"run_type\": \"azureml.scriptrun\", \"training_percent\": \"100\", \"start_time\": \"2021-09-18T18:23:39.941653Z\", \"end_time\": \"2021-09-18T18:24:20.113557Z\", \"created_time\": \"2021-09-18T18:23:17.103946Z\", \"created_time_dt\": \"2021-09-18T18:23:17.103946Z\", \"duration\": \"0:01:03\", \"iteration\": \"29\", \"goal\": \"AUC_weighted_max\", \"run_name\": \"StandardScalerWrapper, LightGBM\", \"run_properties\": \"\\n    copy=True,\\n    with_mean=False,\\n    with_std=False\\n\", \"primary_metric\": 0.84561381, \"best_metric\": 0.84932061}, {\"run_id\": \"AutoML_e92d563d-e00c-42a2-94cb-09f00c0406f4_30\", \"run_number\": 35, \"metric\": null, \"status\": \"Completed\", \"run_type\": \"azureml.scriptrun\", \"training_percent\": \"100\", \"start_time\": \"2021-09-18T18:24:00.948691Z\", \"end_time\": \"2021-09-18T18:24:44.308446Z\", \"created_time\": \"2021-09-18T18:23:26.855847Z\", \"created_time_dt\": \"2021-09-18T18:23:26.855847Z\", \"duration\": \"0:01:17\", \"iteration\": \"30\", \"goal\": \"AUC_weighted_max\", \"run_name\": \"StandardScalerWrapper, LogisticRegression\", \"run_properties\": \"\\n    copy=True,\\n    with_mean=False,\\n    with_std=True\\n\", \"primary_metric\": 0.84467572, \"best_metric\": 0.84932061}, {\"run_id\": \"AutoML_e92d563d-e00c-42a2-94cb-09f00c0406f4_31\", \"run_number\": 36, \"metric\": null, \"status\": \"Completed\", \"run_type\": \"azureml.scriptrun\", \"training_percent\": \"100\", \"start_time\": \"2021-09-18T18:24:18.216464Z\", \"end_time\": \"2021-09-18T18:25:00.678278Z\", \"created_time\": \"2021-09-18T18:23:48.604755Z\", \"created_time_dt\": \"2021-09-18T18:23:48.604755Z\", \"duration\": \"0:01:12\", \"iteration\": \"31\", \"goal\": \"AUC_weighted_max\", \"run_name\": \"StandardScalerWrapper, LightGBM\", \"run_properties\": \"\\n    copy=True,\\n    with_mean=False,\\n    with_std=False\\n\", \"primary_metric\": 0.84871301, \"best_metric\": 0.84932061}, {\"run_id\": \"AutoML_e92d563d-e00c-42a2-94cb-09f00c0406f4_32\", \"run_number\": 37, \"metric\": null, \"status\": \"Completed\", \"run_type\": \"azureml.scriptrun\", \"training_percent\": \"100\", \"start_time\": \"2021-09-18T18:24:25.233515Z\", \"end_time\": \"2021-09-18T18:25:07.166761Z\", \"created_time\": \"2021-09-18T18:24:06.00559Z\", \"created_time_dt\": \"2021-09-18T18:24:06.00559Z\", \"duration\": \"0:01:01\", \"iteration\": \"32\", \"goal\": \"AUC_weighted_max\", \"run_name\": \"StandardScalerWrapper, GradientBoosting\", \"run_properties\": \"\\n    copy=True,\\n    with_mean=False,\\n    with_std=True\\n\", \"primary_metric\": 0.83661808, \"best_metric\": 0.84932061}, {\"run_id\": \"AutoML_e92d563d-e00c-42a2-94cb-09f00c0406f4_33\", \"run_number\": 38, \"metric\": null, \"status\": \"Completed\", \"run_type\": \"azureml.scriptrun\", \"training_percent\": \"100\", \"start_time\": \"2021-09-18T18:24:33.351893Z\", \"end_time\": \"2021-09-18T18:25:14.69303Z\", \"created_time\": \"2021-09-18T18:24:11.359914Z\", \"created_time_dt\": \"2021-09-18T18:24:11.359914Z\", \"duration\": \"0:01:03\", \"iteration\": \"33\", \"goal\": \"AUC_weighted_max\", \"run_name\": \"StandardScalerWrapper, LightGBM\", \"run_properties\": \"\\n    copy=True,\\n    with_mean=False,\\n    with_std=False\\n\", \"primary_metric\": 0.84310428, \"best_metric\": 0.84932061}, {\"run_id\": \"AutoML_e92d563d-e00c-42a2-94cb-09f00c0406f4_34\", \"run_number\": 39, \"metric\": null, \"status\": \"Completed\", \"run_type\": \"azureml.scriptrun\", \"training_percent\": \"100\", \"start_time\": \"2021-09-18T18:25:01.661002Z\", \"end_time\": \"2021-09-18T18:25:42.007568Z\", \"created_time\": \"2021-09-18T18:24:22.943651Z\", \"created_time_dt\": \"2021-09-18T18:24:22.943651Z\", \"duration\": \"0:01:19\", \"iteration\": \"34\", \"goal\": \"AUC_weighted_max\", \"run_name\": \"StandardScalerWrapper, LogisticRegression\", \"run_properties\": \"\\n    copy=True,\\n    with_mean=False,\\n    with_std=True\\n\", \"primary_metric\": 0.844654, \"best_metric\": 0.84932061}, {\"run_id\": \"AutoML_e92d563d-e00c-42a2-94cb-09f00c0406f4_35\", \"run_number\": 40, \"metric\": null, \"status\": \"Completed\", \"run_type\": \"azureml.scriptrun\", \"training_percent\": \"100\", \"start_time\": \"2021-09-18T18:25:17.10599Z\", \"end_time\": \"2021-09-18T18:26:01.237797Z\", \"created_time\": \"2021-09-18T18:24:47.409168Z\", \"created_time_dt\": \"2021-09-18T18:24:47.409168Z\", \"duration\": \"0:01:13\", \"iteration\": \"35\", \"goal\": \"AUC_weighted_max\", \"run_name\": \"SparseNormalizer, LightGBM\", \"run_properties\": \"copy=True, norm='max'\", \"primary_metric\": 0.83809595, \"best_metric\": 0.84932061}, {\"run_id\": \"AutoML_e92d563d-e00c-42a2-94cb-09f00c0406f4_36\", \"run_number\": 41, \"metric\": null, \"status\": \"Completed\", \"run_type\": \"azureml.scriptrun\", \"training_percent\": \"100\", \"start_time\": \"2021-09-18T18:25:22.864196Z\", \"end_time\": \"2021-09-18T18:26:06.362784Z\", \"created_time\": \"2021-09-18T18:25:02.548534Z\", \"created_time_dt\": \"2021-09-18T18:25:02.548534Z\", \"duration\": \"0:01:03\", \"iteration\": \"36\", \"goal\": \"AUC_weighted_max\", \"run_name\": \"MaxAbsScaler, ExtremeRandomTrees\", \"run_properties\": \"copy=True\", \"primary_metric\": 0.83093671, \"best_metric\": 0.84932061}, {\"run_id\": \"AutoML_e92d563d-e00c-42a2-94cb-09f00c0406f4_37\", \"run_number\": 42, \"metric\": null, \"status\": \"Completed\", \"run_type\": \"azureml.scriptrun\", \"training_percent\": \"100\", \"start_time\": \"2021-09-18T18:25:29.12535Z\", \"end_time\": \"2021-09-18T18:26:07.580312Z\", \"created_time\": \"2021-09-18T18:25:09.104083Z\", \"created_time_dt\": \"2021-09-18T18:25:09.104083Z\", \"duration\": \"0:00:58\", \"iteration\": \"37\", \"goal\": \"AUC_weighted_max\", \"run_name\": \"MaxAbsScaler, SGD\", \"run_properties\": \"copy=True\", \"primary_metric\": 0.84293535, \"best_metric\": 0.84932061}, {\"run_id\": \"AutoML_e92d563d-e00c-42a2-94cb-09f00c0406f4_38\", \"run_number\": 43, \"metric\": null, \"status\": \"Completed\", \"run_type\": \"azureml.scriptrun\", \"training_percent\": \"100\", \"start_time\": \"2021-09-18T18:25:56.41095Z\", \"end_time\": \"2021-09-18T18:26:39.736664Z\", \"created_time\": \"2021-09-18T18:25:16.698593Z\", \"created_time_dt\": \"2021-09-18T18:25:16.698593Z\", \"duration\": \"0:01:23\", \"iteration\": \"38\", \"goal\": \"AUC_weighted_max\", \"run_name\": \"StandardScalerWrapper, LogisticRegression\", \"run_properties\": \"\\n    copy=True,\\n    with_mean=False,\\n    with_std=True\\n\", \"primary_metric\": 0.8462566, \"best_metric\": 0.84932061}, {\"run_id\": \"AutoML_e92d563d-e00c-42a2-94cb-09f00c0406f4_39\", \"run_number\": 44, \"metric\": null, \"status\": \"Completed\", \"run_type\": \"azureml.scriptrun\", \"training_percent\": \"100\", \"start_time\": \"2021-09-18T18:26:17.808192Z\", \"end_time\": \"2021-09-18T18:27:01.036905Z\", \"created_time\": \"2021-09-18T18:25:43.881599Z\", \"created_time_dt\": \"2021-09-18T18:25:43.881599Z\", \"duration\": \"0:01:17\", \"iteration\": \"39\", \"goal\": \"AUC_weighted_max\", \"run_name\": \"MaxAbsScaler, LogisticRegression\", \"run_properties\": \"copy=True\", \"primary_metric\": 0.84545309, \"best_metric\": 0.84932061}, {\"run_id\": \"AutoML_e92d563d-e00c-42a2-94cb-09f00c0406f4_40\", \"run_number\": 45, \"metric\": null, \"status\": \"Completed\", \"run_type\": \"azureml.scriptrun\", \"training_percent\": \"100\", \"start_time\": \"2021-09-18T18:26:20.598688Z\", \"end_time\": \"2021-09-18T18:26:58.095912Z\", \"created_time\": \"2021-09-18T18:26:04.588509Z\", \"created_time_dt\": \"2021-09-18T18:26:04.588509Z\", \"duration\": \"0:00:53\", \"iteration\": \"40\", \"goal\": \"AUC_weighted_max\", \"run_name\": \"StandardScalerWrapper, LightGBM\", \"run_properties\": \"\\n    copy=True,\\n    with_mean=False,\\n    with_std=True\\n\", \"primary_metric\": 0.83708014, \"best_metric\": 0.84932061}, {\"run_id\": \"AutoML_e92d563d-e00c-42a2-94cb-09f00c0406f4_41\", \"run_number\": 46, \"metric\": null, \"status\": \"Canceled\", \"run_type\": \"azureml.scriptrun\", \"training_percent\": \"100\", \"start_time\": \"2021-09-18T18:26:22.546581Z\", \"end_time\": \"2021-09-18T18:27:02.663293Z\", \"created_time\": \"2021-09-18T18:26:08.421274Z\", \"created_time_dt\": \"2021-09-18T18:26:08.421274Z\", \"duration\": \"0:00:54\", \"iteration\": \"41\", \"goal\": \"AUC_weighted_max\", \"run_name\": \"SparseNormalizer, LightGBM\", \"run_properties\": \"copy=True, norm='l1'\", \"primary_metric\": 0.84737762, \"best_metric\": 0.84932061}, {\"run_id\": \"AutoML_e92d563d-e00c-42a2-94cb-09f00c0406f4_42\", \"run_number\": 47, \"metric\": null, \"status\": \"Canceled\", \"run_type\": \"azureml.scriptrun\", \"training_percent\": \"100\", \"start_time\": \"2021-09-18T18:26:54.101361Z\", \"end_time\": \"2021-09-18T18:27:02.599288Z\", \"created_time\": \"2021-09-18T18:26:11.278772Z\", \"created_time_dt\": \"2021-09-18T18:26:11.278772Z\", \"duration\": \"0:00:51\", \"iteration\": \"42\", \"goal\": null, \"run_name\": \"Canceled\", \"run_properties\": null}, {\"run_id\": \"AutoML_e92d563d-e00c-42a2-94cb-09f00c0406f4_43\", \"run_number\": 48, \"metric\": null, \"status\": \"Canceled\", \"run_type\": \"azureml.scriptrun\", \"training_percent\": \"100\", \"start_time\": \"2021-09-18T18:26:42.107154Z\", \"end_time\": \"2021-09-18T18:27:02.653331Z\", \"created_time\": \"2021-09-18T18:26:42.107154Z\", \"created_time_dt\": \"2021-09-18T18:26:42.107154Z\", \"duration\": \"0:00:20\", \"iteration\": \"43\", \"goal\": null, \"run_name\": \"Canceled\", \"run_properties\": null}, {\"run_id\": \"AutoML_e92d563d-e00c-42a2-94cb-09f00c0406f4_44\", \"run_number\": 49, \"metric\": null, \"status\": \"Canceled\", \"run_type\": \"azureml.scriptrun\", \"training_percent\": \"100\", \"start_time\": \"2021-09-18T18:27:00.311154Z\", \"end_time\": \"2021-09-18T18:27:02.66038Z\", \"created_time\": \"2021-09-18T18:27:00.311154Z\", \"created_time_dt\": \"2021-09-18T18:27:00.311154Z\", \"duration\": \"0:00:02\", \"iteration\": \"44\", \"goal\": \"AUC_weighted_max\", \"run_name\": \"SparseNormalizer, XGBoostClassifier\", \"run_properties\": \"copy=True, norm='max'\"}, {\"run_id\": \"AutoML_e92d563d-e00c-42a2-94cb-09f00c0406f4_45\", \"run_number\": 50, \"metric\": null, \"status\": \"Completed\", \"run_type\": \"azureml.scriptrun\", \"training_percent\": \"100\", \"start_time\": \"2021-09-18T18:27:11.292568Z\", \"end_time\": \"2021-09-18T18:28:27.706269Z\", \"created_time\": \"2021-09-18T18:27:03.878706Z\", \"created_time_dt\": \"2021-09-18T18:27:03.878706Z\", \"duration\": \"0:01:23\", \"iteration\": \"45\", \"goal\": \"AUC_weighted_max\", \"run_name\": \"VotingEnsemble\", \"run_properties\": \"\\n    estimators=[('26', Pipeline(\\n        memory=None,\\n        steps=[('standardscalerwrapper', StandardScalerWrapper(\\n            copy=True,\\n            with_mean=False,\\n            with_std=False\\n        \", \"primary_metric\": 0.851183, \"best_metric\": 0.851183}, {\"run_id\": \"AutoML_e92d563d-e00c-42a2-94cb-09f00c0406f4_46\", \"run_number\": 51, \"metric\": null, \"status\": \"Completed\", \"run_type\": \"azureml.scriptrun\", \"training_percent\": \"100\", \"start_time\": \"2021-09-18T18:27:12.204633Z\", \"end_time\": \"2021-09-18T18:28:31.302418Z\", \"created_time\": \"2021-09-18T18:27:03.882303Z\", \"created_time_dt\": \"2021-09-18T18:27:03.882303Z\", \"duration\": \"0:01:27\", \"iteration\": \"46\", \"goal\": \"AUC_weighted_max\", \"run_name\": \"StackEnsemble\", \"run_properties\": \"\\n    base_learners=[('26', Pipeline(\\n        memory=None,\\n        steps=[('standardscalerwrapper', StandardScalerWrapper(\\n            copy=True,\\n            with_mean=False,\\n            with_std=False\\n        \", \"primary_metric\": 0.85102465, \"best_metric\": 0.851183}], \"children_metrics\": {\"categories\": [0], \"series\": {\"average_precision_score_micro\": [{\"categories\": [\"0\", \"1\", \"2\", \"3\", \"4\", \"5\", \"6\", \"7\", \"8\", \"9\", \"10\", \"11\", \"12\", \"13\", \"14\", \"15\", \"16\", \"17\", \"18\", \"19\", \"20\", \"21\", \"22\", \"23\", \"24\", \"25\", \"26\", \"27\", \"28\", \"29\", \"30\", \"31\", \"32\", \"33\", \"34\", \"35\", \"36\", \"37\", \"38\", \"39\", \"40\", \"41\", \"45\", \"46\"], \"mode\": \"markers\", \"name\": \"average_precision_score_micro\", \"stepped\": false, \"type\": \"scatter\", \"data\": [0.88408213039276, 0.8932298213121536, 0.8855209627181878, 0.8901107393922493, 0.8919220262070443, 0.8857834849003738, 0.8482666695050968, 0.8808886175866159, 0.8808188660086337, 0.8265782747902611, 0.8896167898980823, 0.837550416045664, 0.8907891230657806, 0.8812105710908126, 0.8792895453070618, 0.8888334001069935, 0.8460354873243999, 0.8359804704169953, 0.8846501725279222, 0.8810828749107804, 0.8932946331489927, 0.8850631727928209, 0.8910555249053692, 0.8326833707218425, 0.8868286252277667, 0.8160666754181534, 0.8951505576572422, 0.8869428907430503, 0.8947569504067392, 0.8934348190734073, 0.891953288569791, 0.8945595041521462, 0.8854817865545387, 0.8899703360376027, 0.8447392922923236, 0.8775418563289147, 0.826065138353772, 0.8460277197587069, 0.8930499044800116, 0.8453657237363211, 0.8810587927337925, 0.8935741234252211, 0.8962799105073721, 0.8817774231759011]}, {\"categories\": [\"0\", \"1\", \"2\", \"3\", \"4\", \"5\", \"6\", \"7\", \"8\", \"9\", \"10\", \"11\", \"12\", \"13\", \"14\", \"15\", \"16\", \"17\", \"18\", \"19\", \"20\", \"21\", \"22\", \"23\", \"24\", \"25\", \"26\", \"27\", \"28\", \"29\", \"30\", \"31\", \"32\", \"33\", \"34\", \"35\", \"36\", \"37\", \"38\", \"39\", \"40\", \"41\", \"45\", \"46\"], \"mode\": \"lines\", \"name\": \"average_precision_score_micro_max\", \"stepped\": true, \"type\": \"scatter\", \"data\": [0.88408213039276, 0.8932298213121536, 0.8932298213121536, 0.8932298213121536, 0.8932298213121536, 0.8932298213121536, 0.8932298213121536, 0.8932298213121536, 0.8932298213121536, 0.8932298213121536, 0.8932298213121536, 0.8932298213121536, 0.8932298213121536, 0.8932298213121536, 0.8932298213121536, 0.8932298213121536, 0.8932298213121536, 0.8932298213121536, 0.8932298213121536, 0.8932298213121536, 0.8932946331489927, 0.8932946331489927, 0.8932946331489927, 0.8932946331489927, 0.8932946331489927, 0.8932946331489927, 0.8951505576572422, 0.8951505576572422, 0.8951505576572422, 0.8951505576572422, 0.8951505576572422, 0.8951505576572422, 0.8951505576572422, 0.8951505576572422, 0.8951505576572422, 0.8951505576572422, 0.8951505576572422, 0.8951505576572422, 0.8951505576572422, 0.8951505576572422, 0.8951505576572422, 0.8951505576572422, 0.8962799105073721, 0.8962799105073721]}], \"f1_score_micro\": [{\"categories\": [\"0\", \"1\", \"2\", \"3\", \"4\", \"5\", \"6\", \"7\", \"8\", \"9\", \"10\", \"11\", \"12\", \"13\", \"14\", \"15\", \"16\", \"17\", \"18\", \"19\", \"20\", \"21\", \"22\", \"23\", \"24\", \"25\", \"26\", \"27\", \"28\", \"29\", \"30\", \"31\", \"32\", \"33\", \"34\", \"35\", \"36\", \"37\", \"38\", \"39\", \"40\", \"41\", \"45\", \"46\"], \"mode\": \"markers\", \"name\": \"f1_score_micro\", \"stepped\": false, \"type\": \"scatter\", \"data\": [0.7885271613520073, 0.7978054601256245, 0.7942098778134402, 0.7978062129694923, 0.8027275533327144, 0.7940166478873946, 0.7531274389004464, 0.7945865506952513, 0.7915566050756734, 0.730220658537626, 0.7955348830206105, 0.7429038191769408, 0.7972380667973269, 0.7883407070207709, 0.7892857770227033, 0.7943960811967206, 0.7466876124560526, 0.7311632190599993, 0.7906125388655647, 0.7864480575373473, 0.8065128522995615, 0.7900441417454435, 0.7942116344491316, 0.7425216254400999, 0.798750279179601, 0.7550178298522668, 0.8040530604357963, 0.7919375440727349, 0.8010251223998655, 0.8014010424378089, 0.8055680332455852, 0.8008354057452024, 0.7951546968674167, 0.7987510320234686, 0.7489591933528905, 0.7728163136247174, 0.7145040390073503, 0.7540687446830401, 0.8049983813856842, 0.746687110560141, 0.7839865090378907, 0.8008339000574672, 0.8036726233346467, 0.7478316841870164]}, {\"categories\": [\"0\", \"1\", \"2\", \"3\", \"4\", \"5\", \"6\", \"7\", \"8\", \"9\", \"10\", \"11\", \"12\", \"13\", \"14\", \"15\", \"16\", \"17\", \"18\", \"19\", \"20\", \"21\", \"22\", \"23\", \"24\", \"25\", \"26\", \"27\", \"28\", \"29\", \"30\", \"31\", \"32\", \"33\", \"34\", \"35\", \"36\", \"37\", \"38\", \"39\", \"40\", \"41\", \"45\", \"46\"], \"mode\": \"lines\", \"name\": \"f1_score_micro_max\", \"stepped\": true, \"type\": \"scatter\", \"data\": [0.7885271613520073, 0.7978054601256245, 0.7978054601256245, 0.7978062129694923, 0.8027275533327144, 0.8027275533327144, 0.8027275533327144, 0.8027275533327144, 0.8027275533327144, 0.8027275533327144, 0.8027275533327144, 0.8027275533327144, 0.8027275533327144, 0.8027275533327144, 0.8027275533327144, 0.8027275533327144, 0.8027275533327144, 0.8027275533327144, 0.8027275533327144, 0.8027275533327144, 0.8065128522995615, 0.8065128522995615, 0.8065128522995615, 0.8065128522995615, 0.8065128522995615, 0.8065128522995615, 0.8065128522995615, 0.8065128522995615, 0.8065128522995615, 0.8065128522995615, 0.8065128522995615, 0.8065128522995615, 0.8065128522995615, 0.8065128522995615, 0.8065128522995615, 0.8065128522995615, 0.8065128522995615, 0.8065128522995615, 0.8065128522995615, 0.8065128522995615, 0.8065128522995615, 0.8065128522995615, 0.8065128522995615, 0.8065128522995615]}], \"f1_score_macro\": [{\"categories\": [\"0\", \"1\", \"2\", \"3\", \"4\", \"5\", \"6\", \"7\", \"8\", \"9\", \"10\", \"11\", \"12\", \"13\", \"14\", \"15\", \"16\", \"17\", \"18\", \"19\", \"20\", \"21\", \"22\", \"23\", \"24\", \"25\", \"26\", \"27\", \"28\", \"29\", \"30\", \"31\", \"32\", \"33\", \"34\", \"35\", \"36\", \"37\", \"38\", \"39\", \"40\", \"41\", \"45\", \"46\"], \"mode\": \"markers\", \"name\": \"f1_score_macro\", \"stepped\": false, \"type\": \"scatter\", \"data\": [0.7075518514654888, 0.7176728400231952, 0.7001130794287046, 0.7002752924281902, 0.7098143022650963, 0.7109751637329488, 0.7205520238061525, 0.7141783697761862, 0.7075443379551133, 0.7018128079608527, 0.7010623590257471, 0.7113484927361663, 0.7181866264824915, 0.6631440103557663, 0.7060715517288855, 0.690737012783, 0.7158421401240732, 0.7033966732365412, 0.7095155076867806, 0.6559214304516011, 0.7351217250834331, 0.7086981782388359, 0.7146461427236827, 0.7118617922921507, 0.7147316632326977, 0.624747369228504, 0.7250188578313449, 0.7129666260470003, 0.7200289790249234, 0.725195538563452, 0.7295972825409053, 0.7162043121669945, 0.6856584287682528, 0.700640518943352, 0.71698588733942, 0.5808733328078798, 0.6882767012281129, 0.7212620663151392, 0.7328759474430017, 0.7151321038516055, 0.6381036578227757, 0.7127796717464442, 0.7223350011421511, 0.4623974501236683]}, {\"categories\": [\"0\", \"1\", \"2\", \"3\", \"4\", \"5\", \"6\", \"7\", \"8\", \"9\", \"10\", \"11\", \"12\", \"13\", \"14\", \"15\", \"16\", \"17\", \"18\", \"19\", \"20\", \"21\", \"22\", \"23\", \"24\", \"25\", \"26\", \"27\", \"28\", \"29\", \"30\", \"31\", \"32\", \"33\", \"34\", \"35\", \"36\", \"37\", \"38\", \"39\", \"40\", \"41\", \"45\", \"46\"], \"mode\": \"lines\", \"name\": \"f1_score_macro_max\", \"stepped\": true, \"type\": \"scatter\", \"data\": [0.7075518514654888, 0.7176728400231952, 0.7176728400231952, 0.7176728400231952, 0.7176728400231952, 0.7176728400231952, 0.7205520238061525, 0.7205520238061525, 0.7205520238061525, 0.7205520238061525, 0.7205520238061525, 0.7205520238061525, 0.7205520238061525, 0.7205520238061525, 0.7205520238061525, 0.7205520238061525, 0.7205520238061525, 0.7205520238061525, 0.7205520238061525, 0.7205520238061525, 0.7351217250834331, 0.7351217250834331, 0.7351217250834331, 0.7351217250834331, 0.7351217250834331, 0.7351217250834331, 0.7351217250834331, 0.7351217250834331, 0.7351217250834331, 0.7351217250834331, 0.7351217250834331, 0.7351217250834331, 0.7351217250834331, 0.7351217250834331, 0.7351217250834331, 0.7351217250834331, 0.7351217250834331, 0.7351217250834331, 0.7351217250834331, 0.7351217250834331, 0.7351217250834331, 0.7351217250834331, 0.7351217250834331, 0.7351217250834331]}], \"norm_macro_recall\": [{\"categories\": [\"0\", \"1\", \"2\", \"3\", \"4\", \"5\", \"6\", \"7\", \"8\", \"9\", \"10\", \"11\", \"12\", \"13\", \"14\", \"15\", \"16\", \"17\", \"18\", \"19\", \"20\", \"21\", \"22\", \"23\", \"24\", \"25\", \"26\", \"27\", \"28\", \"29\", \"30\", \"31\", \"32\", \"33\", \"34\", \"35\", \"36\", \"37\", \"38\", \"39\", \"40\", \"41\", \"45\", \"46\"], \"mode\": \"markers\", \"name\": \"norm_macro_recall\", \"stepped\": false, \"type\": \"scatter\", \"data\": [0.3928300308513682, 0.4086494515821482, 0.36582060636283575, 0.3621116043163446, 0.38060699093485095, 0.3953639471513662, 0.5296336380548856, 0.4031813352351761, 0.38870444484740924, 0.5105153700965872, 0.3664244752155913, 0.5164154081821449, 0.4109827256016248, 0.29015103175398554, 0.3874064577133939, 0.3429776868529805, 0.5280631155103513, 0.5165894767736949, 0.395541419874793, 0.27654882429792926, 0.4485810152293542, 0.39445927964607624, 0.4054886624383571, 0.5217982991886317, 0.398861526574369, 0.22867288021596807, 0.4211525915162258, 0.40339350190869044, 0.4110073451468522, 0.42500887069823506, 0.43238112192795736, 0.4003788576083226, 0.3312812966532886, 0.3626278977610005, 0.5257397915768216, 0.16617534479226387, 0.4939107072128474, 0.5311527136678131, 0.4440047366206545, 0.5240076690726418, 0.2466659888271849, 0.3905753305327964, 0.41358443929038724, 0.04712496805520061]}, {\"categories\": [\"0\", \"1\", \"2\", \"3\", \"4\", \"5\", \"6\", \"7\", \"8\", \"9\", \"10\", \"11\", \"12\", \"13\", \"14\", \"15\", \"16\", \"17\", \"18\", \"19\", \"20\", \"21\", \"22\", \"23\", \"24\", \"25\", \"26\", \"27\", \"28\", \"29\", \"30\", \"31\", \"32\", \"33\", \"34\", \"35\", \"36\", \"37\", \"38\", \"39\", \"40\", \"41\", \"45\", \"46\"], \"mode\": \"lines\", \"name\": \"norm_macro_recall_max\", \"stepped\": true, \"type\": \"scatter\", \"data\": [0.3928300308513682, 0.4086494515821482, 0.4086494515821482, 0.4086494515821482, 0.4086494515821482, 0.4086494515821482, 0.5296336380548856, 0.5296336380548856, 0.5296336380548856, 0.5296336380548856, 0.5296336380548856, 0.5296336380548856, 0.5296336380548856, 0.5296336380548856, 0.5296336380548856, 0.5296336380548856, 0.5296336380548856, 0.5296336380548856, 0.5296336380548856, 0.5296336380548856, 0.5296336380548856, 0.5296336380548856, 0.5296336380548856, 0.5296336380548856, 0.5296336380548856, 0.5296336380548856, 0.5296336380548856, 0.5296336380548856, 0.5296336380548856, 0.5296336380548856, 0.5296336380548856, 0.5296336380548856, 0.5296336380548856, 0.5296336380548856, 0.5296336380548856, 0.5296336380548856, 0.5296336380548856, 0.5311527136678131, 0.5311527136678131, 0.5311527136678131, 0.5311527136678131, 0.5311527136678131, 0.5311527136678131, 0.5311527136678131]}], \"accuracy\": [{\"categories\": [\"0\", \"1\", \"2\", \"3\", \"4\", \"5\", \"6\", \"7\", \"8\", \"9\", \"10\", \"11\", \"12\", \"13\", \"14\", \"15\", \"16\", \"17\", \"18\", \"19\", \"20\", \"21\", \"22\", \"23\", \"24\", \"25\", \"26\", \"27\", \"28\", \"29\", \"30\", \"31\", \"32\", \"33\", \"34\", \"35\", \"36\", \"37\", \"38\", \"39\", \"40\", \"41\", \"45\", \"46\"], \"mode\": \"markers\", \"name\": \"accuracy\", \"stepped\": false, \"type\": \"scatter\", \"data\": [0.7885271613520073, 0.7978054601256245, 0.7942098778134402, 0.7978062129694923, 0.8027275533327144, 0.7940166478873946, 0.7531274389004464, 0.7945865506952513, 0.7915566050756734, 0.730220658537626, 0.7955348830206104, 0.7429038191769408, 0.7972380667973269, 0.788340707020771, 0.7892857770227032, 0.7943960811967206, 0.7466876124560526, 0.7311632190599993, 0.7906125388655647, 0.7864480575373473, 0.8065128522995615, 0.7900441417454435, 0.7942116344491316, 0.7425216254400999, 0.798750279179601, 0.7550178298522668, 0.8040530604357963, 0.7919375440727346, 0.8010251223998655, 0.8014010424378089, 0.8055680332455852, 0.8008354057452024, 0.7951546968674166, 0.7987510320234686, 0.7489591933528905, 0.7728163136247173, 0.7145040390073503, 0.7540687446830401, 0.8049983813856844, 0.746687110560141, 0.7839865090378907, 0.8008339000574672, 0.8036726233346466, 0.7478316841870164]}, {\"categories\": [\"0\", \"1\", \"2\", \"3\", \"4\", \"5\", \"6\", \"7\", \"8\", \"9\", \"10\", \"11\", \"12\", \"13\", \"14\", \"15\", \"16\", \"17\", \"18\", \"19\", \"20\", \"21\", \"22\", \"23\", \"24\", \"25\", \"26\", \"27\", \"28\", \"29\", \"30\", \"31\", \"32\", \"33\", \"34\", \"35\", \"36\", \"37\", \"38\", \"39\", \"40\", \"41\", \"45\", \"46\"], \"mode\": \"lines\", \"name\": \"accuracy_max\", \"stepped\": true, \"type\": \"scatter\", \"data\": [0.7885271613520073, 0.7978054601256245, 0.7978054601256245, 0.7978062129694923, 0.8027275533327144, 0.8027275533327144, 0.8027275533327144, 0.8027275533327144, 0.8027275533327144, 0.8027275533327144, 0.8027275533327144, 0.8027275533327144, 0.8027275533327144, 0.8027275533327144, 0.8027275533327144, 0.8027275533327144, 0.8027275533327144, 0.8027275533327144, 0.8027275533327144, 0.8027275533327144, 0.8065128522995615, 0.8065128522995615, 0.8065128522995615, 0.8065128522995615, 0.8065128522995615, 0.8065128522995615, 0.8065128522995615, 0.8065128522995615, 0.8065128522995615, 0.8065128522995615, 0.8065128522995615, 0.8065128522995615, 0.8065128522995615, 0.8065128522995615, 0.8065128522995615, 0.8065128522995615, 0.8065128522995615, 0.8065128522995615, 0.8065128522995615, 0.8065128522995615, 0.8065128522995615, 0.8065128522995615, 0.8065128522995615, 0.8065128522995615]}], \"weighted_accuracy\": [{\"categories\": [\"0\", \"1\", \"2\", \"3\", \"4\", \"5\", \"6\", \"7\", \"8\", \"9\", \"10\", \"11\", \"12\", \"13\", \"14\", \"15\", \"16\", \"17\", \"18\", \"19\", \"20\", \"21\", \"22\", \"23\", \"24\", \"25\", \"26\", \"27\", \"28\", \"29\", \"30\", \"31\", \"32\", \"33\", \"34\", \"35\", \"36\", \"37\", \"38\", \"39\", \"40\", \"41\", \"45\", \"46\"], \"mode\": \"markers\", \"name\": \"weighted_accuracy\", \"stepped\": false, \"type\": \"scatter\", \"data\": [0.8463827999470791, 0.8564929921849374, 0.8642190519117384, 0.8710948734128962, 0.8733368458942653, 0.8545644498556992, 0.7459990243140436, 0.8530094663507413, 0.8526781440925485, 0.7147931290720992, 0.8659832442854279, 0.7333850508540939, 0.8548243795522944, 0.8783480368494269, 0.8493610228922085, 0.8716239019243938, 0.7358736592033143, 0.714387282862008, 0.8489583473763307, 0.8794654543144985, 0.8582460238076279, 0.8483174646517779, 0.8517724012522443, 0.731018876573163, 0.8610415806230483, 0.8434362994559381, 0.8628564554182173, 0.8485069825292074, 0.86111436501721, 0.8571560864079266, 0.8617149805350335, 0.8641150345860485, 0.8763617967240348, 0.8725741188460338, 0.7402490053803883, 0.8918969570346066, 0.6942373829020817, 0.7470470140903204, 0.8571825172125035, 0.7370807258807013, 0.8848475897200172, 0.8670508197377492, 0.8645394905023114, 0.8884082582597611]}, {\"categories\": [\"0\", \"1\", \"2\", \"3\", \"4\", \"5\", \"6\", \"7\", \"8\", \"9\", \"10\", \"11\", \"12\", \"13\", \"14\", \"15\", \"16\", \"17\", \"18\", \"19\", \"20\", \"21\", \"22\", \"23\", \"24\", \"25\", \"26\", \"27\", \"28\", \"29\", \"30\", \"31\", \"32\", \"33\", \"34\", \"35\", \"36\", \"37\", \"38\", \"39\", \"40\", \"41\", \"45\", \"46\"], \"mode\": \"lines\", \"name\": \"weighted_accuracy_max\", \"stepped\": true, \"type\": \"scatter\", \"data\": [0.8463827999470791, 0.8564929921849374, 0.8642190519117384, 0.8710948734128962, 0.8733368458942653, 0.8733368458942653, 0.8733368458942653, 0.8733368458942653, 0.8733368458942653, 0.8733368458942653, 0.8733368458942653, 0.8733368458942653, 0.8733368458942653, 0.8783480368494269, 0.8783480368494269, 0.8783480368494269, 0.8783480368494269, 0.8783480368494269, 0.8783480368494269, 0.8794654543144985, 0.8794654543144985, 0.8794654543144985, 0.8794654543144985, 0.8794654543144985, 0.8794654543144985, 0.8794654543144985, 0.8794654543144985, 0.8794654543144985, 0.8794654543144985, 0.8794654543144985, 0.8794654543144985, 0.8794654543144985, 0.8794654543144985, 0.8794654543144985, 0.8794654543144985, 0.8918969570346066, 0.8918969570346066, 0.8918969570346066, 0.8918969570346066, 0.8918969570346066, 0.8918969570346066, 0.8918969570346066, 0.8918969570346066, 0.8918969570346066]}], \"AUC_macro\": [{\"categories\": [\"0\", \"1\", \"2\", \"3\", \"4\", \"5\", \"6\", \"7\", \"8\", \"9\", \"10\", \"11\", \"12\", \"13\", \"14\", \"15\", \"16\", \"17\", \"18\", \"19\", \"20\", \"21\", \"22\", \"23\", \"24\", \"25\", \"26\", \"27\", \"28\", \"29\", \"30\", \"31\", \"32\", \"33\", \"34\", \"35\", \"36\", \"37\", \"38\", \"39\", \"40\", \"41\", \"45\", \"46\"], \"mode\": \"markers\", \"name\": \"AUC_macro\", \"stepped\": false, \"type\": \"scatter\", \"data\": [0.8315912865888256, 0.8458387939169315, 0.8357778534263447, 0.8439442995359716, 0.8466066199231589, 0.8357883348456604, 0.8438988218378974, 0.828531749026097, 0.8296991621095999, 0.8339861954273357, 0.8423148818876122, 0.8412933808436067, 0.8421436338667023, 0.832049335208141, 0.8296301113303242, 0.8436596471357648, 0.8466854943930147, 0.8390671268626406, 0.8358845482541167, 0.8334556942668525, 0.8468310806295264, 0.8349380435586339, 0.842384685286003, 0.8377636475977911, 0.8384205831393515, 0.7323834268341098, 0.8493206068771544, 0.8360049925303262, 0.8484634119901766, 0.8456138096113676, 0.8446757245306689, 0.8487130058379316, 0.8366180824780763, 0.8431042838269034, 0.8446539961807052, 0.8380959465602186, 0.8309367087983557, 0.842935351173255, 0.8462566002458833, 0.8454530892355205, 0.837080136210521, 0.8473776155611041, 0.8511829966663479, 0.8510246549643883]}, {\"categories\": [\"0\", \"1\", \"2\", \"3\", \"4\", \"5\", \"6\", \"7\", \"8\", \"9\", \"10\", \"11\", \"12\", \"13\", \"14\", \"15\", \"16\", \"17\", \"18\", \"19\", \"20\", \"21\", \"22\", \"23\", \"24\", \"25\", \"26\", \"27\", \"28\", \"29\", \"30\", \"31\", \"32\", \"33\", \"34\", \"35\", \"36\", \"37\", \"38\", \"39\", \"40\", \"41\", \"45\", \"46\"], \"mode\": \"lines\", \"name\": \"AUC_macro_max\", \"stepped\": true, \"type\": \"scatter\", \"data\": [0.8315912865888256, 0.8458387939169315, 0.8458387939169315, 0.8458387939169315, 0.8466066199231589, 0.8466066199231589, 0.8466066199231589, 0.8466066199231589, 0.8466066199231589, 0.8466066199231589, 0.8466066199231589, 0.8466066199231589, 0.8466066199231589, 0.8466066199231589, 0.8466066199231589, 0.8466066199231589, 0.8466854943930147, 0.8466854943930147, 0.8466854943930147, 0.8466854943930147, 0.8468310806295264, 0.8468310806295264, 0.8468310806295264, 0.8468310806295264, 0.8468310806295264, 0.8468310806295264, 0.8493206068771544, 0.8493206068771544, 0.8493206068771544, 0.8493206068771544, 0.8493206068771544, 0.8493206068771544, 0.8493206068771544, 0.8493206068771544, 0.8493206068771544, 0.8493206068771544, 0.8493206068771544, 0.8493206068771544, 0.8493206068771544, 0.8493206068771544, 0.8493206068771544, 0.8493206068771544, 0.8511829966663479, 0.8511829966663479]}], \"precision_score_micro\": [{\"categories\": [\"0\", \"1\", \"2\", \"3\", \"4\", \"5\", \"6\", \"7\", \"8\", \"9\", \"10\", \"11\", \"12\", \"13\", \"14\", \"15\", \"16\", \"17\", \"18\", \"19\", \"20\", \"21\", \"22\", \"23\", \"24\", \"25\", \"26\", \"27\", \"28\", \"29\", \"30\", \"31\", \"32\", \"33\", \"34\", \"35\", \"36\", \"37\", \"38\", \"39\", \"40\", \"41\", \"45\", \"46\"], \"mode\": \"markers\", \"name\": \"precision_score_micro\", \"stepped\": false, \"type\": \"scatter\", \"data\": [0.7885271613520073, 0.7978054601256245, 0.7942098778134402, 0.7978062129694923, 0.8027275533327144, 0.7940166478873946, 0.7531274389004464, 0.7945865506952513, 0.7915566050756734, 0.730220658537626, 0.7955348830206104, 0.7429038191769408, 0.7972380667973269, 0.788340707020771, 0.7892857770227032, 0.7943960811967206, 0.7466876124560526, 0.7311632190599993, 0.7906125388655647, 0.7864480575373473, 0.8065128522995615, 0.7900441417454435, 0.7942116344491316, 0.7425216254400999, 0.798750279179601, 0.7550178298522668, 0.8040530604357963, 0.7919375440727346, 0.8010251223998655, 0.8014010424378089, 0.8055680332455852, 0.8008354057452024, 0.7951546968674166, 0.7987510320234686, 0.7489591933528905, 0.7728163136247173, 0.7145040390073503, 0.7540687446830401, 0.8049983813856844, 0.746687110560141, 0.7839865090378907, 0.8008339000574672, 0.8036726233346466, 0.7478316841870164]}, {\"categories\": [\"0\", \"1\", \"2\", \"3\", \"4\", \"5\", \"6\", \"7\", \"8\", \"9\", \"10\", \"11\", \"12\", \"13\", \"14\", \"15\", \"16\", \"17\", \"18\", \"19\", \"20\", \"21\", \"22\", \"23\", \"24\", \"25\", \"26\", \"27\", \"28\", \"29\", \"30\", \"31\", \"32\", \"33\", \"34\", \"35\", \"36\", \"37\", \"38\", \"39\", \"40\", \"41\", \"45\", \"46\"], \"mode\": \"lines\", \"name\": \"precision_score_micro_max\", \"stepped\": true, \"type\": \"scatter\", \"data\": [0.7885271613520073, 0.7978054601256245, 0.7978054601256245, 0.7978062129694923, 0.8027275533327144, 0.8027275533327144, 0.8027275533327144, 0.8027275533327144, 0.8027275533327144, 0.8027275533327144, 0.8027275533327144, 0.8027275533327144, 0.8027275533327144, 0.8027275533327144, 0.8027275533327144, 0.8027275533327144, 0.8027275533327144, 0.8027275533327144, 0.8027275533327144, 0.8027275533327144, 0.8065128522995615, 0.8065128522995615, 0.8065128522995615, 0.8065128522995615, 0.8065128522995615, 0.8065128522995615, 0.8065128522995615, 0.8065128522995615, 0.8065128522995615, 0.8065128522995615, 0.8065128522995615, 0.8065128522995615, 0.8065128522995615, 0.8065128522995615, 0.8065128522995615, 0.8065128522995615, 0.8065128522995615, 0.8065128522995615, 0.8065128522995615, 0.8065128522995615, 0.8065128522995615, 0.8065128522995615, 0.8065128522995615, 0.8065128522995615]}], \"average_precision_score_macro\": [{\"categories\": [\"0\", \"1\", \"2\", \"3\", \"4\", \"5\", \"6\", \"7\", \"8\", \"9\", \"10\", \"11\", \"12\", \"13\", \"14\", \"15\", \"16\", \"17\", \"18\", \"19\", \"20\", \"21\", \"22\", \"23\", \"24\", \"25\", \"26\", \"27\", \"28\", \"29\", \"30\", \"31\", \"32\", \"33\", \"34\", \"35\", \"36\", \"37\", \"38\", \"39\", \"40\", \"41\", \"45\", \"46\"], \"mode\": \"markers\", \"name\": \"average_precision_score_macro\", \"stepped\": false, \"type\": \"scatter\", \"data\": [0.7824826059794187, 0.7978347348864018, 0.7840593845327207, 0.791253152831448, 0.7952918303147894, 0.7844147555020271, 0.7918145055373265, 0.7764808119909403, 0.7724147843835683, 0.7779843974974676, 0.7881505021953938, 0.7885797810889592, 0.7918280886070213, 0.7797231434662442, 0.7775805217665974, 0.7937264420484585, 0.7968393287255958, 0.7863753480172491, 0.7827446532662254, 0.7805981731351489, 0.7974220749252657, 0.7837449713252623, 0.793932388471247, 0.7823895458373622, 0.7844393009892944, 0.6871814012620988, 0.8011032919320312, 0.7848752597342307, 0.8016791183032017, 0.7991883280578643, 0.7961128844096522, 0.8004079818633496, 0.7838497531310196, 0.7956686980280819, 0.7955520634216694, 0.7840646699402407, 0.7755443864867034, 0.7937338050840477, 0.7976574239499578, 0.7964237625887834, 0.786917340619533, 0.796470480395927, 0.8041322140404004, 0.8037178042112981]}, {\"categories\": [\"0\", \"1\", \"2\", \"3\", \"4\", \"5\", \"6\", \"7\", \"8\", \"9\", \"10\", \"11\", \"12\", \"13\", \"14\", \"15\", \"16\", \"17\", \"18\", \"19\", \"20\", \"21\", \"22\", \"23\", \"24\", \"25\", \"26\", \"27\", \"28\", \"29\", \"30\", \"31\", \"32\", \"33\", \"34\", \"35\", \"36\", \"37\", \"38\", \"39\", \"40\", \"41\", \"45\", \"46\"], \"mode\": \"lines\", \"name\": \"average_precision_score_macro_max\", \"stepped\": true, \"type\": \"scatter\", \"data\": [0.7824826059794187, 0.7978347348864018, 0.7978347348864018, 0.7978347348864018, 0.7978347348864018, 0.7978347348864018, 0.7978347348864018, 0.7978347348864018, 0.7978347348864018, 0.7978347348864018, 0.7978347348864018, 0.7978347348864018, 0.7978347348864018, 0.7978347348864018, 0.7978347348864018, 0.7978347348864018, 0.7978347348864018, 0.7978347348864018, 0.7978347348864018, 0.7978347348864018, 0.7978347348864018, 0.7978347348864018, 0.7978347348864018, 0.7978347348864018, 0.7978347348864018, 0.7978347348864018, 0.8011032919320312, 0.8011032919320312, 0.8016791183032017, 0.8016791183032017, 0.8016791183032017, 0.8016791183032017, 0.8016791183032017, 0.8016791183032017, 0.8016791183032017, 0.8016791183032017, 0.8016791183032017, 0.8016791183032017, 0.8016791183032017, 0.8016791183032017, 0.8016791183032017, 0.8016791183032017, 0.8041322140404004, 0.8041322140404004]}], \"matthews_correlation\": [{\"categories\": [\"0\", \"1\", \"2\", \"3\", \"4\", \"5\", \"6\", \"7\", \"8\", \"9\", \"10\", \"11\", \"12\", \"13\", \"14\", \"15\", \"16\", \"17\", \"18\", \"19\", \"20\", \"21\", \"22\", \"23\", \"24\", \"25\", \"26\", \"27\", \"28\", \"29\", \"30\", \"31\", \"32\", \"33\", \"34\", \"35\", \"36\", \"37\", \"38\", \"39\", \"40\", \"41\", \"45\", \"46\"], \"mode\": \"markers\", \"name\": \"matthews_correlation\", \"stepped\": false, \"type\": \"scatter\", \"data\": [0.42178038550336605, 0.44368781738235585, 0.42017160728277564, 0.4252282381126011, 0.44196445396323825, 0.4314640052581621, 0.4755216590445778, 0.43623932024962525, 0.4245743833375939, 0.4533248458045694, 0.4217626330515717, 0.4616281524156593, 0.44393442084741974, 0.37897271430318175, 0.42017369191151727, 0.41146198625430996, 0.471711426172196, 0.458489164482385, 0.42625657655907606, 0.3703656549460561, 0.4758643933120061, 0.4245693915017844, 0.4371733117475299, 0.4655389917226818, 0.44078674882408736, 0.2817680318603832, 0.4599776550594033, 0.43179967745431236, 0.45063567772862045, 0.45693957433147736, 0.4671624136393112, 0.4460190888207009, 0.4082816115352252, 0.42756734164769256, 0.47082641162019867, 0.3034008385761591, 0.4364447177326701, 0.4777105164976941, 0.47127834734394686, 0.46865030628594867, 0.35569482640534533, 0.4416926865013204, 0.45602814111659024, 0.06246523581985046]}, {\"categories\": [\"0\", \"1\", \"2\", \"3\", \"4\", \"5\", \"6\", \"7\", \"8\", \"9\", \"10\", \"11\", \"12\", \"13\", \"14\", \"15\", \"16\", \"17\", \"18\", \"19\", \"20\", \"21\", \"22\", \"23\", \"24\", \"25\", \"26\", \"27\", \"28\", \"29\", \"30\", \"31\", \"32\", \"33\", \"34\", \"35\", \"36\", \"37\", \"38\", \"39\", \"40\", \"41\", \"45\", \"46\"], \"mode\": \"lines\", \"name\": \"matthews_correlation_max\", \"stepped\": true, \"type\": \"scatter\", \"data\": [0.42178038550336605, 0.44368781738235585, 0.44368781738235585, 0.44368781738235585, 0.44368781738235585, 0.44368781738235585, 0.4755216590445778, 0.4755216590445778, 0.4755216590445778, 0.4755216590445778, 0.4755216590445778, 0.4755216590445778, 0.4755216590445778, 0.4755216590445778, 0.4755216590445778, 0.4755216590445778, 0.4755216590445778, 0.4755216590445778, 0.4755216590445778, 0.4755216590445778, 0.4758643933120061, 0.4758643933120061, 0.4758643933120061, 0.4758643933120061, 0.4758643933120061, 0.4758643933120061, 0.4758643933120061, 0.4758643933120061, 0.4758643933120061, 0.4758643933120061, 0.4758643933120061, 0.4758643933120061, 0.4758643933120061, 0.4758643933120061, 0.4758643933120061, 0.4758643933120061, 0.4758643933120061, 0.4777105164976941, 0.4777105164976941, 0.4777105164976941, 0.4777105164976941, 0.4777105164976941, 0.4777105164976941, 0.4777105164976941]}], \"precision_score_weighted\": [{\"categories\": [\"0\", \"1\", \"2\", \"3\", \"4\", \"5\", \"6\", \"7\", \"8\", \"9\", \"10\", \"11\", \"12\", \"13\", \"14\", \"15\", \"16\", \"17\", \"18\", \"19\", \"20\", \"21\", \"22\", \"23\", \"24\", \"25\", \"26\", \"27\", \"28\", \"29\", \"30\", \"31\", \"32\", \"33\", \"34\", \"35\", \"36\", \"37\", \"38\", \"39\", \"40\", \"41\", \"45\", \"46\"], \"mode\": \"markers\", \"name\": \"precision_score_weighted\", \"stepped\": false, \"type\": \"scatter\", \"data\": [0.7788309948132636, 0.7877290267305518, 0.7817972527211223, 0.785052188337618, 0.790952987494153, 0.783295564359428, 0.8069025022717392, 0.7846116826422179, 0.7804261070993654, 0.8020619966274175, 0.7823908820130127, 0.8027010823377189, 0.7876297986635638, 0.7749550326000334, 0.7782299831044729, 0.7812506224176295, 0.8070410425822424, 0.8048272501352515, 0.7805311397320723, 0.7730957959211022, 0.7994451028886679, 0.7799268321700431, 0.7849476794747495, 0.8050764413089148, 0.787324816221471, 0.7301723508673218, 0.7943197362236651, 0.7824502419351944, 0.7908876540924149, 0.7921894070250485, 0.7967810689771719, 0.7899522822149139, 0.7822122793376265, 0.7863234780870715, 0.8058718992664762, 0.7763355965754569, 0.7980318017635133, 0.8082052555397029, 0.7976380626190205, 0.80541220311905, 0.7739275570695484, 0.7891207793717261, 0.793280696016778, 0.5813831684606736]}, {\"categories\": [\"0\", \"1\", \"2\", \"3\", \"4\", \"5\", \"6\", \"7\", \"8\", \"9\", \"10\", \"11\", \"12\", \"13\", \"14\", \"15\", \"16\", \"17\", \"18\", \"19\", \"20\", \"21\", \"22\", \"23\", \"24\", \"25\", \"26\", \"27\", \"28\", \"29\", \"30\", \"31\", \"32\", \"33\", \"34\", \"35\", \"36\", \"37\", \"38\", \"39\", \"40\", \"41\", \"45\", \"46\"], \"mode\": \"lines\", \"name\": \"precision_score_weighted_max\", \"stepped\": true, \"type\": \"scatter\", \"data\": [0.7788309948132636, 0.7877290267305518, 0.7877290267305518, 0.7877290267305518, 0.790952987494153, 0.790952987494153, 0.8069025022717392, 0.8069025022717392, 0.8069025022717392, 0.8069025022717392, 0.8069025022717392, 0.8069025022717392, 0.8069025022717392, 0.8069025022717392, 0.8069025022717392, 0.8069025022717392, 0.8070410425822424, 0.8070410425822424, 0.8070410425822424, 0.8070410425822424, 0.8070410425822424, 0.8070410425822424, 0.8070410425822424, 0.8070410425822424, 0.8070410425822424, 0.8070410425822424, 0.8070410425822424, 0.8070410425822424, 0.8070410425822424, 0.8070410425822424, 0.8070410425822424, 0.8070410425822424, 0.8070410425822424, 0.8070410425822424, 0.8070410425822424, 0.8070410425822424, 0.8070410425822424, 0.8082052555397029, 0.8082052555397029, 0.8082052555397029, 0.8082052555397029, 0.8082052555397029, 0.8082052555397029, 0.8082052555397029]}], \"average_precision_score_weighted\": [{\"categories\": [\"0\", \"1\", \"2\", \"3\", \"4\", \"5\", \"6\", \"7\", \"8\", \"9\", \"10\", \"11\", \"12\", \"13\", \"14\", \"15\", \"16\", \"17\", \"18\", \"19\", \"20\", \"21\", \"22\", \"23\", \"24\", \"25\", \"26\", \"27\", \"28\", \"29\", \"30\", \"31\", \"32\", \"33\", \"34\", \"35\", \"36\", \"37\", \"38\", \"39\", \"40\", \"41\", \"45\", \"46\"], \"mode\": \"markers\", \"name\": \"average_precision_score_weighted\", \"stepped\": false, \"type\": \"scatter\", \"data\": [0.8544718414716108, 0.8652917669843999, 0.8557453446546466, 0.86112557140632, 0.8641545216637864, 0.8556216434597765, 0.8618367837685064, 0.8495399251340278, 0.8477126605934547, 0.8527206998778954, 0.8597581238737951, 0.8598096293986099, 0.8616122530465935, 0.8531255064705501, 0.8494472651816416, 0.8629209722875475, 0.8649788490924616, 0.8571568266744444, 0.8540846950973202, 0.8536759930218559, 0.8652719542076843, 0.8552318162896511, 0.8629875923468575, 0.8555373317654735, 0.8558644777751405, 0.7726607745768458, 0.8677934132856785, 0.8569319039346482, 0.8677782953388659, 0.8659484572083949, 0.8639597497512793, 0.8673588929042307, 0.856019036767478, 0.8634067189972463, 0.8639289313189573, 0.8563573833125172, 0.8506130170070987, 0.8625164097118504, 0.8652960973760836, 0.864571663840833, 0.8573185186809653, 0.8651466771442238, 0.8698449979056627, 0.8696262042314166]}, {\"categories\": [\"0\", \"1\", \"2\", \"3\", \"4\", \"5\", \"6\", \"7\", \"8\", \"9\", \"10\", \"11\", \"12\", \"13\", \"14\", \"15\", \"16\", \"17\", \"18\", \"19\", \"20\", \"21\", \"22\", \"23\", \"24\", \"25\", \"26\", \"27\", \"28\", \"29\", \"30\", \"31\", \"32\", \"33\", \"34\", \"35\", \"36\", \"37\", \"38\", \"39\", \"40\", \"41\", \"45\", \"46\"], \"mode\": \"lines\", \"name\": \"average_precision_score_weighted_max\", \"stepped\": true, \"type\": \"scatter\", \"data\": [0.8544718414716108, 0.8652917669843999, 0.8652917669843999, 0.8652917669843999, 0.8652917669843999, 0.8652917669843999, 0.8652917669843999, 0.8652917669843999, 0.8652917669843999, 0.8652917669843999, 0.8652917669843999, 0.8652917669843999, 0.8652917669843999, 0.8652917669843999, 0.8652917669843999, 0.8652917669843999, 0.8652917669843999, 0.8652917669843999, 0.8652917669843999, 0.8652917669843999, 0.8652917669843999, 0.8652917669843999, 0.8652917669843999, 0.8652917669843999, 0.8652917669843999, 0.8652917669843999, 0.8677934132856785, 0.8677934132856785, 0.8677934132856785, 0.8677934132856785, 0.8677934132856785, 0.8677934132856785, 0.8677934132856785, 0.8677934132856785, 0.8677934132856785, 0.8677934132856785, 0.8677934132856785, 0.8677934132856785, 0.8677934132856785, 0.8677934132856785, 0.8677934132856785, 0.8677934132856785, 0.8698449979056627, 0.8698449979056627]}], \"log_loss\": [{\"categories\": [\"0\", \"1\", \"2\", \"3\", \"4\", \"5\", \"6\", \"7\", \"8\", \"9\", \"10\", \"11\", \"12\", \"13\", \"14\", \"15\", \"16\", \"17\", \"18\", \"19\", \"20\", \"21\", \"22\", \"23\", \"24\", \"25\", \"26\", \"27\", \"28\", \"29\", \"30\", \"31\", \"32\", \"33\", \"34\", \"35\", \"36\", \"37\", \"38\", \"39\", \"40\", \"41\", \"45\", \"46\"], \"mode\": \"markers\", \"name\": \"log_loss\", \"stepped\": false, \"type\": \"scatter\", \"data\": [0.4392251365793893, 0.41317598896253777, 0.4312480546530947, 0.4201005945937185, 0.42109636845485354, 0.4779947398727673, 0.48387476258948675, 0.48031156906564304, 0.4818972296026, 0.5255497943787515, 0.42567674345791584, 0.4990562749104834, 0.4228403555606023, 0.4397688879864187, 0.4724502260970148, 0.4356121382621989, 0.4894936071892618, 0.5119510688348081, 0.4797632700056905, 0.44028457245081615, 0.41335876562028273, 0.4800216475085928, 0.4189826969673768, 0.5059399203873581, 0.4798399358327428, 0.5143933705775551, 0.4120564456944578, 0.43211614846005936, 0.41115253129373824, 0.4138255671098752, 0.41541536799592305, 0.4149832571433792, 0.4326372236905239, 0.42381660275467453, 0.4912899513283145, 0.45759380007050726, 0.5219699944749373, 0.4895368672866346, 0.4136133548779481, 0.4903644080705204, 0.4482350581234545, 0.4158122115131188, 0.4103884916106252, 0.5400144558154543]}, {\"categories\": [\"0\", \"1\", \"2\", \"3\", \"4\", \"5\", \"6\", \"7\", \"8\", \"9\", \"10\", \"11\", \"12\", \"13\", \"14\", \"15\", \"16\", \"17\", \"18\", \"19\", \"20\", \"21\", \"22\", \"23\", \"24\", \"25\", \"26\", \"27\", \"28\", \"29\", \"30\", \"31\", \"32\", \"33\", \"34\", \"35\", \"36\", \"37\", \"38\", \"39\", \"40\", \"41\", \"45\", \"46\"], \"mode\": \"lines\", \"name\": \"log_loss_min\", \"stepped\": true, \"type\": \"scatter\", \"data\": [0.4392251365793893, 0.41317598896253777, 0.41317598896253777, 0.41317598896253777, 0.41317598896253777, 0.41317598896253777, 0.41317598896253777, 0.41317598896253777, 0.41317598896253777, 0.41317598896253777, 0.41317598896253777, 0.41317598896253777, 0.41317598896253777, 0.41317598896253777, 0.41317598896253777, 0.41317598896253777, 0.41317598896253777, 0.41317598896253777, 0.41317598896253777, 0.41317598896253777, 0.41317598896253777, 0.41317598896253777, 0.41317598896253777, 0.41317598896253777, 0.41317598896253777, 0.41317598896253777, 0.4120564456944578, 0.4120564456944578, 0.41115253129373824, 0.41115253129373824, 0.41115253129373824, 0.41115253129373824, 0.41115253129373824, 0.41115253129373824, 0.41115253129373824, 0.41115253129373824, 0.41115253129373824, 0.41115253129373824, 0.41115253129373824, 0.41115253129373824, 0.41115253129373824, 0.41115253129373824, 0.4103884916106252, 0.4103884916106252]}], \"recall_score_weighted\": [{\"categories\": [\"0\", \"1\", \"2\", \"3\", \"4\", \"5\", \"6\", \"7\", \"8\", \"9\", \"10\", \"11\", \"12\", \"13\", \"14\", \"15\", \"16\", \"17\", \"18\", \"19\", \"20\", \"21\", \"22\", \"23\", \"24\", \"25\", \"26\", \"27\", \"28\", \"29\", \"30\", \"31\", \"32\", \"33\", \"34\", \"35\", \"36\", \"37\", \"38\", \"39\", \"40\", \"41\", \"45\", \"46\"], \"mode\": \"markers\", \"name\": \"recall_score_weighted\", \"stepped\": false, \"type\": \"scatter\", \"data\": [0.7885271613520073, 0.7978054601256245, 0.7942098778134402, 0.7978062129694923, 0.8027275533327144, 0.7940166478873946, 0.7531274389004464, 0.7945865506952513, 0.7915566050756734, 0.730220658537626, 0.7955348830206104, 0.7429038191769408, 0.7972380667973269, 0.788340707020771, 0.7892857770227032, 0.7943960811967206, 0.7466876124560526, 0.7311632190599993, 0.7906125388655647, 0.7864480575373473, 0.8065128522995615, 0.7900441417454435, 0.7942116344491316, 0.7425216254400999, 0.798750279179601, 0.7550178298522668, 0.8040530604357963, 0.7919375440727346, 0.8010251223998655, 0.8014010424378089, 0.8055680332455852, 0.8008354057452024, 0.7951546968674166, 0.7987510320234686, 0.7489591933528905, 0.7728163136247173, 0.7145040390073503, 0.7540687446830401, 0.8049983813856844, 0.746687110560141, 0.7839865090378907, 0.8008339000574672, 0.8036726233346466, 0.7478316841870164]}, {\"categories\": [\"0\", \"1\", \"2\", \"3\", \"4\", \"5\", \"6\", \"7\", \"8\", \"9\", \"10\", \"11\", \"12\", \"13\", \"14\", \"15\", \"16\", \"17\", \"18\", \"19\", \"20\", \"21\", \"22\", \"23\", \"24\", \"25\", \"26\", \"27\", \"28\", \"29\", \"30\", \"31\", \"32\", \"33\", \"34\", \"35\", \"36\", \"37\", \"38\", \"39\", \"40\", \"41\", \"45\", \"46\"], \"mode\": \"lines\", \"name\": \"recall_score_weighted_max\", \"stepped\": true, \"type\": \"scatter\", \"data\": [0.7885271613520073, 0.7978054601256245, 0.7978054601256245, 0.7978062129694923, 0.8027275533327144, 0.8027275533327144, 0.8027275533327144, 0.8027275533327144, 0.8027275533327144, 0.8027275533327144, 0.8027275533327144, 0.8027275533327144, 0.8027275533327144, 0.8027275533327144, 0.8027275533327144, 0.8027275533327144, 0.8027275533327144, 0.8027275533327144, 0.8027275533327144, 0.8027275533327144, 0.8065128522995615, 0.8065128522995615, 0.8065128522995615, 0.8065128522995615, 0.8065128522995615, 0.8065128522995615, 0.8065128522995615, 0.8065128522995615, 0.8065128522995615, 0.8065128522995615, 0.8065128522995615, 0.8065128522995615, 0.8065128522995615, 0.8065128522995615, 0.8065128522995615, 0.8065128522995615, 0.8065128522995615, 0.8065128522995615, 0.8065128522995615, 0.8065128522995615, 0.8065128522995615, 0.8065128522995615, 0.8065128522995615, 0.8065128522995615]}], \"recall_score_macro\": [{\"categories\": [\"0\", \"1\", \"2\", \"3\", \"4\", \"5\", \"6\", \"7\", \"8\", \"9\", \"10\", \"11\", \"12\", \"13\", \"14\", \"15\", \"16\", \"17\", \"18\", \"19\", \"20\", \"21\", \"22\", \"23\", \"24\", \"25\", \"26\", \"27\", \"28\", \"29\", \"30\", \"31\", \"32\", \"33\", \"34\", \"35\", \"36\", \"37\", \"38\", \"39\", \"40\", \"41\", \"45\", \"46\"], \"mode\": \"markers\", \"name\": \"recall_score_macro\", \"stepped\": false, \"type\": \"scatter\", \"data\": [0.6964150154256841, 0.7043247257910741, 0.682910303181418, 0.6810558021581723, 0.6903034954674255, 0.6976819735756832, 0.7648168190274428, 0.701590667617588, 0.6943522224237045, 0.7552576850482936, 0.6832122376077957, 0.7582077040910724, 0.7054913628008125, 0.6450755158769927, 0.693703228856697, 0.6714888434264904, 0.7640315577551756, 0.7582947383868476, 0.6977707099373964, 0.6382744121489646, 0.7242905076146771, 0.6972296398230382, 0.7027443312191785, 0.7608991495943159, 0.6994307632871845, 0.6143364401079839, 0.7105762957581129, 0.7016967509543451, 0.7055036725734262, 0.7125044353491176, 0.7161905609639787, 0.7001894288041612, 0.6656406483266444, 0.6813139488805003, 0.7628698957884108, 0.5830876723961319, 0.7469553536064237, 0.7655763568339066, 0.7220023683103272, 0.7620038345363209, 0.6233329944135926, 0.6952876652663981, 0.7067922196451936, 0.5235624840276003]}, {\"categories\": [\"0\", \"1\", \"2\", \"3\", \"4\", \"5\", \"6\", \"7\", \"8\", \"9\", \"10\", \"11\", \"12\", \"13\", \"14\", \"15\", \"16\", \"17\", \"18\", \"19\", \"20\", \"21\", \"22\", \"23\", \"24\", \"25\", \"26\", \"27\", \"28\", \"29\", \"30\", \"31\", \"32\", \"33\", \"34\", \"35\", \"36\", \"37\", \"38\", \"39\", \"40\", \"41\", \"45\", \"46\"], \"mode\": \"lines\", \"name\": \"recall_score_macro_max\", \"stepped\": true, \"type\": \"scatter\", \"data\": [0.6964150154256841, 0.7043247257910741, 0.7043247257910741, 0.7043247257910741, 0.7043247257910741, 0.7043247257910741, 0.7648168190274428, 0.7648168190274428, 0.7648168190274428, 0.7648168190274428, 0.7648168190274428, 0.7648168190274428, 0.7648168190274428, 0.7648168190274428, 0.7648168190274428, 0.7648168190274428, 0.7648168190274428, 0.7648168190274428, 0.7648168190274428, 0.7648168190274428, 0.7648168190274428, 0.7648168190274428, 0.7648168190274428, 0.7648168190274428, 0.7648168190274428, 0.7648168190274428, 0.7648168190274428, 0.7648168190274428, 0.7648168190274428, 0.7648168190274428, 0.7648168190274428, 0.7648168190274428, 0.7648168190274428, 0.7648168190274428, 0.7648168190274428, 0.7648168190274428, 0.7648168190274428, 0.7655763568339066, 0.7655763568339066, 0.7655763568339066, 0.7655763568339066, 0.7655763568339066, 0.7655763568339066, 0.7655763568339066]}], \"AUC_micro\": [{\"categories\": [\"0\", \"1\", \"2\", \"3\", \"4\", \"5\", \"6\", \"7\", \"8\", \"9\", \"10\", \"11\", \"12\", \"13\", \"14\", \"15\", \"16\", \"17\", \"18\", \"19\", \"20\", \"21\", \"22\", \"23\", \"24\", \"25\", \"26\", \"27\", \"28\", \"29\", \"30\", \"31\", \"32\", \"33\", \"34\", \"35\", \"36\", \"37\", \"38\", \"39\", \"40\", \"41\", \"45\", \"46\"], \"mode\": \"markers\", \"name\": \"AUC_micro\", \"stepped\": false, \"type\": \"scatter\", \"data\": [0.8815633722741054, 0.8908768852805118, 0.8838125165061005, 0.8883927750592541, 0.8896153446839916, 0.8844184795217658, 0.843631786111402, 0.879937253368437, 0.8798943377378577, 0.820627631037944, 0.8870467114922301, 0.8315171115646255, 0.8882867896170356, 0.8781321852964584, 0.8805871606687659, 0.8858761609797865, 0.839015619354096, 0.8305763123405402, 0.8841838019011382, 0.8783266732931507, 0.8912775141491506, 0.8833231792044506, 0.8879851084994075, 0.8275161766062563, 0.8859964767440387, 0.8312414780059315, 0.8928420266898238, 0.8838296386903776, 0.8926233528769096, 0.8911643435062703, 0.890212759662525, 0.8921342342597383, 0.8833119364256861, 0.8879061388162471, 0.8386644006673851, 0.8735080924678471, 0.8145708077178894, 0.8404840498427221, 0.8909775151666126, 0.838921829925668, 0.8782423828115331, 0.8908540483314837, 0.8938362634087181, 0.876057738411009]}, {\"categories\": [\"0\", \"1\", \"2\", \"3\", \"4\", \"5\", \"6\", \"7\", \"8\", \"9\", \"10\", \"11\", \"12\", \"13\", \"14\", \"15\", \"16\", \"17\", \"18\", \"19\", \"20\", \"21\", \"22\", \"23\", \"24\", \"25\", \"26\", \"27\", \"28\", \"29\", \"30\", \"31\", \"32\", \"33\", \"34\", \"35\", \"36\", \"37\", \"38\", \"39\", \"40\", \"41\", \"45\", \"46\"], \"mode\": \"lines\", \"name\": \"AUC_micro_max\", \"stepped\": true, \"type\": \"scatter\", \"data\": [0.8815633722741054, 0.8908768852805118, 0.8908768852805118, 0.8908768852805118, 0.8908768852805118, 0.8908768852805118, 0.8908768852805118, 0.8908768852805118, 0.8908768852805118, 0.8908768852805118, 0.8908768852805118, 0.8908768852805118, 0.8908768852805118, 0.8908768852805118, 0.8908768852805118, 0.8908768852805118, 0.8908768852805118, 0.8908768852805118, 0.8908768852805118, 0.8908768852805118, 0.8912775141491506, 0.8912775141491506, 0.8912775141491506, 0.8912775141491506, 0.8912775141491506, 0.8912775141491506, 0.8928420266898238, 0.8928420266898238, 0.8928420266898238, 0.8928420266898238, 0.8928420266898238, 0.8928420266898238, 0.8928420266898238, 0.8928420266898238, 0.8928420266898238, 0.8928420266898238, 0.8928420266898238, 0.8928420266898238, 0.8928420266898238, 0.8928420266898238, 0.8928420266898238, 0.8928420266898238, 0.8938362634087181, 0.8938362634087181]}], \"balanced_accuracy\": [{\"categories\": [\"0\", \"1\", \"2\", \"3\", \"4\", \"5\", \"6\", \"7\", \"8\", \"9\", \"10\", \"11\", \"12\", \"13\", \"14\", \"15\", \"16\", \"17\", \"18\", \"19\", \"20\", \"21\", \"22\", \"23\", \"24\", \"25\", \"26\", \"27\", \"28\", \"29\", \"30\", \"31\", \"32\", \"33\", \"34\", \"35\", \"36\", \"37\", \"38\", \"39\", \"40\", \"41\", \"45\", \"46\"], \"mode\": \"markers\", \"name\": \"balanced_accuracy\", \"stepped\": false, \"type\": \"scatter\", \"data\": [0.6964150154256841, 0.7043247257910741, 0.682910303181418, 0.6810558021581723, 0.6903034954674255, 0.6976819735756832, 0.7648168190274428, 0.701590667617588, 0.6943522224237045, 0.7552576850482936, 0.6832122376077957, 0.7582077040910724, 0.7054913628008125, 0.6450755158769927, 0.693703228856697, 0.6714888434264904, 0.7640315577551756, 0.7582947383868476, 0.6977707099373964, 0.6382744121489646, 0.7242905076146771, 0.6972296398230382, 0.7027443312191785, 0.7608991495943159, 0.6994307632871845, 0.6143364401079839, 0.7105762957581129, 0.7016967509543451, 0.7055036725734262, 0.7125044353491176, 0.7161905609639787, 0.7001894288041612, 0.6656406483266444, 0.6813139488805003, 0.7628698957884108, 0.5830876723961319, 0.7469553536064237, 0.7655763568339066, 0.7220023683103272, 0.7620038345363209, 0.6233329944135926, 0.6952876652663981, 0.7067922196451936, 0.5235624840276003]}, {\"categories\": [\"0\", \"1\", \"2\", \"3\", \"4\", \"5\", \"6\", \"7\", \"8\", \"9\", \"10\", \"11\", \"12\", \"13\", \"14\", \"15\", \"16\", \"17\", \"18\", \"19\", \"20\", \"21\", \"22\", \"23\", \"24\", \"25\", \"26\", \"27\", \"28\", \"29\", \"30\", \"31\", \"32\", \"33\", \"34\", \"35\", \"36\", \"37\", \"38\", \"39\", \"40\", \"41\", \"45\", \"46\"], \"mode\": \"lines\", \"name\": \"balanced_accuracy_max\", \"stepped\": true, \"type\": \"scatter\", \"data\": [0.6964150154256841, 0.7043247257910741, 0.7043247257910741, 0.7043247257910741, 0.7043247257910741, 0.7043247257910741, 0.7648168190274428, 0.7648168190274428, 0.7648168190274428, 0.7648168190274428, 0.7648168190274428, 0.7648168190274428, 0.7648168190274428, 0.7648168190274428, 0.7648168190274428, 0.7648168190274428, 0.7648168190274428, 0.7648168190274428, 0.7648168190274428, 0.7648168190274428, 0.7648168190274428, 0.7648168190274428, 0.7648168190274428, 0.7648168190274428, 0.7648168190274428, 0.7648168190274428, 0.7648168190274428, 0.7648168190274428, 0.7648168190274428, 0.7648168190274428, 0.7648168190274428, 0.7648168190274428, 0.7648168190274428, 0.7648168190274428, 0.7648168190274428, 0.7648168190274428, 0.7648168190274428, 0.7655763568339066, 0.7655763568339066, 0.7655763568339066, 0.7655763568339066, 0.7655763568339066, 0.7655763568339066, 0.7655763568339066]}], \"AUC_weighted\": [{\"categories\": [\"0\", \"1\", \"2\", \"3\", \"4\", \"5\", \"6\", \"7\", \"8\", \"9\", \"10\", \"11\", \"12\", \"13\", \"14\", \"15\", \"16\", \"17\", \"18\", \"19\", \"20\", \"21\", \"22\", \"23\", \"24\", \"25\", \"26\", \"27\", \"28\", \"29\", \"30\", \"31\", \"32\", \"33\", \"34\", \"35\", \"36\", \"37\", \"38\", \"39\", \"40\", \"41\", \"45\", \"46\"], \"mode\": \"markers\", \"name\": \"AUC_weighted\", \"stepped\": false, \"type\": \"scatter\", \"data\": [0.8315912865888256, 0.8458387939169313, 0.8357778534263449, 0.8439442995359716, 0.8466066199231589, 0.8357883348456605, 0.8438988218378974, 0.8285317490260972, 0.8296991621095999, 0.8339861954273357, 0.8423148818876122, 0.8412933808436068, 0.8421436338667023, 0.832049335208141, 0.8296301113303242, 0.8436596471357648, 0.8466854943930147, 0.8390671268626406, 0.8358845482541167, 0.8334556942668525, 0.8468310806295264, 0.8349380435586341, 0.842384685286003, 0.8377636475977911, 0.8384205831393514, 0.7323834268341098, 0.8493206068771544, 0.8360049925303263, 0.8484634119901766, 0.8456138096113676, 0.8446757245306689, 0.8487130058379316, 0.8366180824780763, 0.8431042838269034, 0.8446539961807052, 0.8380959465602186, 0.8309367087983558, 0.842935351173255, 0.8462566002458833, 0.8454530892355205, 0.837080136210521, 0.8473776155611041, 0.8511829966663479, 0.8510246549643883]}, {\"categories\": [\"0\", \"1\", \"2\", \"3\", \"4\", \"5\", \"6\", \"7\", \"8\", \"9\", \"10\", \"11\", \"12\", \"13\", \"14\", \"15\", \"16\", \"17\", \"18\", \"19\", \"20\", \"21\", \"22\", \"23\", \"24\", \"25\", \"26\", \"27\", \"28\", \"29\", \"30\", \"31\", \"32\", \"33\", \"34\", \"35\", \"36\", \"37\", \"38\", \"39\", \"40\", \"41\", \"45\", \"46\"], \"mode\": \"lines\", \"name\": \"AUC_weighted_max\", \"stepped\": true, \"type\": \"scatter\", \"data\": [0.8315912865888256, 0.8458387939169313, 0.8458387939169313, 0.8458387939169313, 0.8466066199231589, 0.8466066199231589, 0.8466066199231589, 0.8466066199231589, 0.8466066199231589, 0.8466066199231589, 0.8466066199231589, 0.8466066199231589, 0.8466066199231589, 0.8466066199231589, 0.8466066199231589, 0.8466066199231589, 0.8466854943930147, 0.8466854943930147, 0.8466854943930147, 0.8466854943930147, 0.8468310806295264, 0.8468310806295264, 0.8468310806295264, 0.8468310806295264, 0.8468310806295264, 0.8468310806295264, 0.8493206068771544, 0.8493206068771544, 0.8493206068771544, 0.8493206068771544, 0.8493206068771544, 0.8493206068771544, 0.8493206068771544, 0.8493206068771544, 0.8493206068771544, 0.8493206068771544, 0.8493206068771544, 0.8493206068771544, 0.8493206068771544, 0.8493206068771544, 0.8493206068771544, 0.8493206068771544, 0.8511829966663479, 0.8511829966663479]}], \"f1_score_weighted\": [{\"categories\": [\"0\", \"1\", \"2\", \"3\", \"4\", \"5\", \"6\", \"7\", \"8\", \"9\", \"10\", \"11\", \"12\", \"13\", \"14\", \"15\", \"16\", \"17\", \"18\", \"19\", \"20\", \"21\", \"22\", \"23\", \"24\", \"25\", \"26\", \"27\", \"28\", \"29\", \"30\", \"31\", \"32\", \"33\", \"34\", \"35\", \"36\", \"37\", \"38\", \"39\", \"40\", \"41\", \"45\", \"46\"], \"mode\": \"markers\", \"name\": \"f1_score_weighted\", \"stepped\": false, \"type\": \"scatter\", \"data\": [0.7810506682339937, 0.7894944472631705, 0.7801874096598255, 0.7818182891114713, 0.7881247850819494, 0.7849256378210313, 0.7662174229539505, 0.786504552102255, 0.7822686249550682, 0.7458643392110249, 0.7813314923294286, 0.7570866195349311, 0.7894742697667623, 0.7609296087818999, 0.7806144747070768, 0.7760803475640083, 0.7606975310095916, 0.7468652411119299, 0.7827344158686408, 0.7568401004215255, 0.8007382096467718, 0.7821778609949532, 0.7864758555671214, 0.7568519634184084, 0.7886447400193931, 0.7300817976706468, 0.7952792265858216, 0.7849074158999171, 0.7917958540781659, 0.7942466083801107, 0.7980346003857633, 0.7900581101902049, 0.7742663784378621, 0.7822648803085375, 0.7625687465133728, 0.7158356268780114, 0.7315041924014775, 0.7669805384097271, 0.7991219810467365, 0.7605544183910434, 0.7474942409380837, 0.7887049138110415, 0.7940347477596283, 0.6488671106699908]}, {\"categories\": [\"0\", \"1\", \"2\", \"3\", \"4\", \"5\", \"6\", \"7\", \"8\", \"9\", \"10\", \"11\", \"12\", \"13\", \"14\", \"15\", \"16\", \"17\", \"18\", \"19\", \"20\", \"21\", \"22\", \"23\", \"24\", \"25\", \"26\", \"27\", \"28\", \"29\", \"30\", \"31\", \"32\", \"33\", \"34\", \"35\", \"36\", \"37\", \"38\", \"39\", \"40\", \"41\", \"45\", \"46\"], \"mode\": \"lines\", \"name\": \"f1_score_weighted_max\", \"stepped\": true, \"type\": \"scatter\", \"data\": [0.7810506682339937, 0.7894944472631705, 0.7894944472631705, 0.7894944472631705, 0.7894944472631705, 0.7894944472631705, 0.7894944472631705, 0.7894944472631705, 0.7894944472631705, 0.7894944472631705, 0.7894944472631705, 0.7894944472631705, 0.7894944472631705, 0.7894944472631705, 0.7894944472631705, 0.7894944472631705, 0.7894944472631705, 0.7894944472631705, 0.7894944472631705, 0.7894944472631705, 0.8007382096467718, 0.8007382096467718, 0.8007382096467718, 0.8007382096467718, 0.8007382096467718, 0.8007382096467718, 0.8007382096467718, 0.8007382096467718, 0.8007382096467718, 0.8007382096467718, 0.8007382096467718, 0.8007382096467718, 0.8007382096467718, 0.8007382096467718, 0.8007382096467718, 0.8007382096467718, 0.8007382096467718, 0.8007382096467718, 0.8007382096467718, 0.8007382096467718, 0.8007382096467718, 0.8007382096467718, 0.8007382096467718, 0.8007382096467718]}], \"precision_score_macro\": [{\"categories\": [\"0\", \"1\", \"2\", \"3\", \"4\", \"5\", \"6\", \"7\", \"8\", \"9\", \"10\", \"11\", \"12\", \"13\", \"14\", \"15\", \"16\", \"17\", \"18\", \"19\", \"20\", \"21\", \"22\", \"23\", \"24\", \"25\", \"26\", \"27\", \"28\", \"29\", \"30\", \"31\", \"32\", \"33\", \"34\", \"35\", \"36\", \"37\", \"38\", \"39\", \"40\", \"41\", \"45\", \"46\"], \"mode\": \"markers\", \"name\": \"precision_score_macro\", \"stepped\": false, \"type\": \"scatter\", \"data\": [0.7265907720647207, 0.7409711942892627, 0.7416727854350244, 0.749886951896084, 0.7567729030332212, 0.7356250859639666, 0.713563018363328, 0.7361550687333149, 0.7320374696064583, 0.7013667106071994, 0.7428589225130554, 0.7064018136530275, 0.7399012987922718, 0.7481200239259074, 0.727954878446991, 0.7471329085640706, 0.710760933797304, 0.7035640162285297, 0.7298252245639171, 0.7483731829746458, 0.7526380154548, 0.7286657796132595, 0.7359522781575268, 0.7077426103525382, 0.7436554077296672, 0.6740027600659829, 0.7513971341004702, 0.7311869577047834, 0.7472625446741953, 0.7456964930501535, 0.7525428730658726, 0.7486903061779697, 0.7519517807498445, 0.7524184992372192, 0.7108916857599769, 0.7782607285339844, 0.6929022758158426, 0.7149496191012552, 0.75031534515421, 0.7096353823588762, 0.7568788244694874, 0.7499078625419778, 0.7515631694911564, 0.4290516637186915]}, {\"categories\": [\"0\", \"1\", \"2\", \"3\", \"4\", \"5\", \"6\", \"7\", \"8\", \"9\", \"10\", \"11\", \"12\", \"13\", \"14\", \"15\", \"16\", \"17\", \"18\", \"19\", \"20\", \"21\", \"22\", \"23\", \"24\", \"25\", \"26\", \"27\", \"28\", \"29\", \"30\", \"31\", \"32\", \"33\", \"34\", \"35\", \"36\", \"37\", \"38\", \"39\", \"40\", \"41\", \"45\", \"46\"], \"mode\": \"lines\", \"name\": \"precision_score_macro_max\", \"stepped\": true, \"type\": \"scatter\", \"data\": [0.7265907720647207, 0.7409711942892627, 0.7416727854350244, 0.749886951896084, 0.7567729030332212, 0.7567729030332212, 0.7567729030332212, 0.7567729030332212, 0.7567729030332212, 0.7567729030332212, 0.7567729030332212, 0.7567729030332212, 0.7567729030332212, 0.7567729030332212, 0.7567729030332212, 0.7567729030332212, 0.7567729030332212, 0.7567729030332212, 0.7567729030332212, 0.7567729030332212, 0.7567729030332212, 0.7567729030332212, 0.7567729030332212, 0.7567729030332212, 0.7567729030332212, 0.7567729030332212, 0.7567729030332212, 0.7567729030332212, 0.7567729030332212, 0.7567729030332212, 0.7567729030332212, 0.7567729030332212, 0.7567729030332212, 0.7567729030332212, 0.7567729030332212, 0.7782607285339844, 0.7782607285339844, 0.7782607285339844, 0.7782607285339844, 0.7782607285339844, 0.7782607285339844, 0.7782607285339844, 0.7782607285339844, 0.7782607285339844]}], \"recall_score_micro\": [{\"categories\": [\"0\", \"1\", \"2\", \"3\", \"4\", \"5\", \"6\", \"7\", \"8\", \"9\", \"10\", \"11\", \"12\", \"13\", \"14\", \"15\", \"16\", \"17\", \"18\", \"19\", \"20\", \"21\", \"22\", \"23\", \"24\", \"25\", \"26\", \"27\", \"28\", \"29\", \"30\", \"31\", \"32\", \"33\", \"34\", \"35\", \"36\", \"37\", \"38\", \"39\", \"40\", \"41\", \"45\", \"46\"], \"mode\": \"markers\", \"name\": \"recall_score_micro\", \"stepped\": false, \"type\": \"scatter\", \"data\": [0.7885271613520073, 0.7978054601256245, 0.7942098778134402, 0.7978062129694923, 0.8027275533327144, 0.7940166478873946, 0.7531274389004464, 0.7945865506952513, 0.7915566050756734, 0.730220658537626, 0.7955348830206104, 0.7429038191769408, 0.7972380667973269, 0.788340707020771, 0.7892857770227032, 0.7943960811967206, 0.7466876124560526, 0.7311632190599993, 0.7906125388655647, 0.7864480575373473, 0.8065128522995615, 0.7900441417454435, 0.7942116344491316, 0.7425216254400999, 0.798750279179601, 0.7550178298522668, 0.8040530604357963, 0.7919375440727346, 0.8010251223998655, 0.8014010424378089, 0.8055680332455852, 0.8008354057452024, 0.7951546968674166, 0.7987510320234686, 0.7489591933528905, 0.7728163136247173, 0.7145040390073503, 0.7540687446830401, 0.8049983813856844, 0.746687110560141, 0.7839865090378907, 0.8008339000574672, 0.8036726233346466, 0.7478316841870164]}, {\"categories\": [\"0\", \"1\", \"2\", \"3\", \"4\", \"5\", \"6\", \"7\", \"8\", \"9\", \"10\", \"11\", \"12\", \"13\", \"14\", \"15\", \"16\", \"17\", \"18\", \"19\", \"20\", \"21\", \"22\", \"23\", \"24\", \"25\", \"26\", \"27\", \"28\", \"29\", \"30\", \"31\", \"32\", \"33\", \"34\", \"35\", \"36\", \"37\", \"38\", \"39\", \"40\", \"41\", \"45\", \"46\"], \"mode\": \"lines\", \"name\": \"recall_score_micro_max\", \"stepped\": true, \"type\": \"scatter\", \"data\": [0.7885271613520073, 0.7978054601256245, 0.7978054601256245, 0.7978062129694923, 0.8027275533327144, 0.8027275533327144, 0.8027275533327144, 0.8027275533327144, 0.8027275533327144, 0.8027275533327144, 0.8027275533327144, 0.8027275533327144, 0.8027275533327144, 0.8027275533327144, 0.8027275533327144, 0.8027275533327144, 0.8027275533327144, 0.8027275533327144, 0.8027275533327144, 0.8027275533327144, 0.8065128522995615, 0.8065128522995615, 0.8065128522995615, 0.8065128522995615, 0.8065128522995615, 0.8065128522995615, 0.8065128522995615, 0.8065128522995615, 0.8065128522995615, 0.8065128522995615, 0.8065128522995615, 0.8065128522995615, 0.8065128522995615, 0.8065128522995615, 0.8065128522995615, 0.8065128522995615, 0.8065128522995615, 0.8065128522995615, 0.8065128522995615, 0.8065128522995615, 0.8065128522995615, 0.8065128522995615, 0.8065128522995615, 0.8065128522995615]}]}, \"metricName\": null, \"primaryMetricName\": \"AUC_weighted\", \"showLegend\": false}, \"run_metrics\": [{\"name\": \"experiment_status\", \"run_id\": \"AutoML_e92d563d-e00c-42a2-94cb-09f00c0406f4\", \"categories\": [0, 1, 2, 3, 4, 5, 6, 7, 8, 9, 10, 11, 12, 13], \"series\": [{\"data\": [\"DatasetEvaluation\", \"FeaturesGeneration\", \"DatasetFeaturization\", \"DatasetFeaturizationCompleted\", \"DatasetCrossValidationSplit\", \"ModelSelection\", \"BestRunExplainModel\", \"ModelExplanationDataSetSetup\", \"PickSurrogateModel\", \"EngineeredFeatureExplanations\", \"EngineeredFeatureExplanations\", \"RawFeaturesExplanations\", \"RawFeaturesExplanations\", \"BestRunExplainModel\"]}]}, {\"name\": \"experiment_status_description\", \"run_id\": \"AutoML_e92d563d-e00c-42a2-94cb-09f00c0406f4\", \"categories\": [0, 1, 2, 3, 4, 5, 6, 7, 8, 9, 10, 11, 12, 13], \"series\": [{\"data\": [\"Gathering dataset statistics.\", \"Generating features for the dataset.\", \"Beginning to fit featurizers and featurize the dataset.\", \"Completed fit featurizers and featurizing the dataset.\", \"Generating individually featurized CV splits.\", \"Beginning model selection.\", \"Best run model explanations started\", \"Model explanations data setup completed\", \"Choosing LightGBM as the surrogate model for explanations\", \"Computation of engineered features started\", \"Computation of engineered features completed\", \"Computation of raw features started\", \"Computation of raw features completed\", \"Best run model explanations completed\"]}]}, {\"name\": \"f1_score_macro\", \"run_id\": \"AutoML_e92d563d-e00c-42a2-94cb-09f00c0406f4\", \"categories\": [0], \"series\": [{\"data\": [0.7223350011421511]}]}, {\"name\": \"balanced_accuracy\", \"run_id\": \"AutoML_e92d563d-e00c-42a2-94cb-09f00c0406f4\", \"categories\": [0], \"series\": [{\"data\": [0.7067922196451936]}]}, {\"name\": \"recall_score_macro\", \"run_id\": \"AutoML_e92d563d-e00c-42a2-94cb-09f00c0406f4\", \"categories\": [0], \"series\": [{\"data\": [0.7067922196451936]}]}, {\"name\": \"average_precision_score_weighted\", \"run_id\": \"AutoML_e92d563d-e00c-42a2-94cb-09f00c0406f4\", \"categories\": [0], \"series\": [{\"data\": [0.8698449979056627]}]}, {\"name\": \"matthews_correlation\", \"run_id\": \"AutoML_e92d563d-e00c-42a2-94cb-09f00c0406f4\", \"categories\": [0], \"series\": [{\"data\": [0.45602814111659024]}]}, {\"name\": \"recall_score_weighted\", \"run_id\": \"AutoML_e92d563d-e00c-42a2-94cb-09f00c0406f4\", \"categories\": [0], \"series\": [{\"data\": [0.8036726233346466]}]}, {\"name\": \"accuracy\", \"run_id\": \"AutoML_e92d563d-e00c-42a2-94cb-09f00c0406f4\", \"categories\": [0], \"series\": [{\"data\": [0.8036726233346466]}]}, {\"name\": \"AUC_micro\", \"run_id\": \"AutoML_e92d563d-e00c-42a2-94cb-09f00c0406f4\", \"categories\": [0], \"series\": [{\"data\": [0.8938362634087181]}]}, {\"name\": \"norm_macro_recall\", \"run_id\": \"AutoML_e92d563d-e00c-42a2-94cb-09f00c0406f4\", \"categories\": [0], \"series\": [{\"data\": [0.41358443929038724]}]}, {\"name\": \"log_loss\", \"run_id\": \"AutoML_e92d563d-e00c-42a2-94cb-09f00c0406f4\", \"categories\": [0], \"series\": [{\"data\": [0.4103884916106252]}]}, {\"name\": \"recall_score_micro\", \"run_id\": \"AutoML_e92d563d-e00c-42a2-94cb-09f00c0406f4\", \"categories\": [0], \"series\": [{\"data\": [0.8036726233346466]}]}, {\"name\": \"precision_score_weighted\", \"run_id\": \"AutoML_e92d563d-e00c-42a2-94cb-09f00c0406f4\", \"categories\": [0], \"series\": [{\"data\": [0.793280696016778]}]}, {\"name\": \"precision_score_macro\", \"run_id\": \"AutoML_e92d563d-e00c-42a2-94cb-09f00c0406f4\", \"categories\": [0], \"series\": [{\"data\": [0.7515631694911564]}]}, {\"name\": \"AUC_macro\", \"run_id\": \"AutoML_e92d563d-e00c-42a2-94cb-09f00c0406f4\", \"categories\": [0], \"series\": [{\"data\": [0.8511829966663479]}]}, {\"name\": \"AUC_weighted\", \"run_id\": \"AutoML_e92d563d-e00c-42a2-94cb-09f00c0406f4\", \"categories\": [0], \"series\": [{\"data\": [0.8511829966663479]}]}, {\"name\": \"weighted_accuracy\", \"run_id\": \"AutoML_e92d563d-e00c-42a2-94cb-09f00c0406f4\", \"categories\": [0], \"series\": [{\"data\": [0.8645394905023114]}]}, {\"name\": \"f1_score_weighted\", \"run_id\": \"AutoML_e92d563d-e00c-42a2-94cb-09f00c0406f4\", \"categories\": [0], \"series\": [{\"data\": [0.7940347477596283]}]}, {\"name\": \"f1_score_micro\", \"run_id\": \"AutoML_e92d563d-e00c-42a2-94cb-09f00c0406f4\", \"categories\": [0], \"series\": [{\"data\": [0.8036726233346467]}]}, {\"name\": \"average_precision_score_micro\", \"run_id\": \"AutoML_e92d563d-e00c-42a2-94cb-09f00c0406f4\", \"categories\": [0], \"series\": [{\"data\": [0.8962799105073721]}]}, {\"name\": \"average_precision_score_macro\", \"run_id\": \"AutoML_e92d563d-e00c-42a2-94cb-09f00c0406f4\", \"categories\": [0], \"series\": [{\"data\": [0.8041322140404004]}]}, {\"name\": \"precision_score_micro\", \"run_id\": \"AutoML_e92d563d-e00c-42a2-94cb-09f00c0406f4\", \"categories\": [0], \"series\": [{\"data\": [0.8036726233346466]}]}], \"run_logs\": \"\\nRun is completed.\", \"graph\": {}, \"widget_settings\": {\"childWidgetDisplay\": \"popup\", \"send_telemetry\": false, \"log_level\": \"INFO\", \"sdk_version\": \"1.33.0\"}, \"loading\": false}"
     },
     "metadata": {},
     "output_type": "display_data"
    },
    {
     "data": {
      "text/html": [
       "<table style=\"width:100%\"><tr><th>Experiment</th><th>Id</th><th>Type</th><th>Status</th><th>Details Page</th><th>Docs Page</th></tr><tr><td>capstone-project</td><td>AutoML_e92d563d-e00c-42a2-94cb-09f00c0406f4</td><td>automl</td><td>Completed</td><td><a href=\"https://ml.azure.com/runs/AutoML_e92d563d-e00c-42a2-94cb-09f00c0406f4?wsid=/subscriptions/9e65f93e-bdd8-437b-b1e8-0647cd6098f7/resourcegroups/aml-quickstarts-158687/workspaces/quick-starts-ws-158687&amp;tid=660b3398-b80e-49d2-bc5b-ac1dc93b5254\" target=\"_blank\" rel=\"noopener\">Link to Azure Machine Learning studio</a></td><td><a href=\"https://docs.microsoft.com/en-us/python/api/overview/azure/ml/intro?view=azure-ml-py\" target=\"_blank\" rel=\"noopener\">Link to Documentation</a></td></tr></table>"
      ],
      "text/plain": [
       "<IPython.core.display.HTML object>"
      ]
     },
     "metadata": {},
     "output_type": "display_data"
    },
    {
     "name": "stdout",
     "output_type": "stream",
     "text": [
      "\n",
      "\n",
      "****************************************************************************************************\n",
      "DATA GUARDRAILS: \n",
      "\n",
      "TYPE:         Class balancing detection\n",
      "STATUS:       PASSED\n",
      "DESCRIPTION:  Your inputs were analyzed, and all classes are balanced in your training data.\n",
      "              Learn more about imbalanced data: https://aka.ms/AutomatedMLImbalancedData\n",
      "\n",
      "****************************************************************************************************\n",
      "\n",
      "TYPE:         Missing feature values imputation\n",
      "STATUS:       DONE\n",
      "DESCRIPTION:  If the missing values are expected, let the run complete. Otherwise cancel the current run and use a script to customize the handling of missing feature values that may be more appropriate based on the data type and business requirement.\n",
      "              Learn more about missing value imputation: https://aka.ms/AutomatedMLFeaturization\n",
      "DETAILS:      \n",
      "+---------------------------------+---------------------------------+---------------------------------+\n",
      "|Column name                      |Missing value count              |Imputation type                  |\n",
      "+=================================+=================================+=================================+\n",
      "|TotalCharges                     |8                                |mean                             |\n",
      "+---------------------------------+---------------------------------+---------------------------------+\n",
      "\n",
      "****************************************************************************************************\n",
      "\n",
      "TYPE:         High cardinality feature detection\n",
      "STATUS:       PASSED\n",
      "DESCRIPTION:  Your inputs were analyzed, and no high cardinality features were detected.\n",
      "              Learn more about high cardinality feature handling: https://aka.ms/AutomatedMLFeaturization\n",
      "\n",
      "****************************************************************************************************\n",
      "\n",
      "****************************************************************************************************\n",
      "ITERATION: The iteration being evaluated.\n",
      "PIPELINE: A summary description of the pipeline being evaluated.\n",
      "DURATION: Time taken for the current iteration.\n",
      "METRIC: The result of computing score on the fitted pipeline.\n",
      "BEST: The best observed score thus far.\n",
      "****************************************************************************************************\n",
      "\n",
      " ITERATION   PIPELINE                                       DURATION      METRIC      BEST\n",
      "         0   MaxAbsScaler LightGBM                          0:05:21       0.8316    0.8316\n",
      "         1   MaxAbsScaler XGBoostClassifier                 0:00:54       0.8458    0.8458\n",
      "         2   MaxAbsScaler ExtremeRandomTrees                0:00:39       0.8358    0.8458\n",
      "         3   MaxAbsScaler RandomForest                      0:00:38       0.8439    0.8458\n",
      "         4   StandardScalerWrapper LightGBM                 0:00:45       0.8466    0.8466\n",
      "         5   SparseNormalizer XGBoostClassifier             0:05:23       0.8358    0.8466\n",
      "         6   SparseNormalizer RandomForest                  0:05:28       0.8439    0.8466\n",
      "         7   StandardScalerWrapper XGBoostClassifier        0:00:39       0.8285    0.8466\n",
      "         8   SparseNormalizer XGBoostClassifier             0:00:40       0.8297    0.8466\n",
      "         9   MaxAbsScaler RandomForest                      0:00:37       0.8340    0.8466\n",
      "        10   SparseNormalizer LightGBM                      0:00:39       0.8423    0.8466\n",
      "        11   MaxAbsScaler ExtremeRandomTrees                0:00:54       0.8413    0.8466\n",
      "        12   StandardScalerWrapper XGBoostClassifier        0:00:42       0.8421    0.8466\n",
      "        13   StandardScalerWrapper ExtremeRandomTrees       0:00:39       0.8320    0.8466\n",
      "        14   StandardScalerWrapper RandomForest             0:01:01       0.8296    0.8466\n",
      "        15   MaxAbsScaler LightGBM                          0:00:40       0.8437    0.8466\n",
      "        16   MaxAbsScaler LogisticRegression                0:00:39       0.8467    0.8467\n",
      "        17   StandardScalerWrapper ExtremeRandomTrees       0:01:04       0.8391    0.8467\n",
      "        18   StandardScalerWrapper XGBoostClassifier        0:00:42       0.8359    0.8467\n",
      "        19   MaxAbsScaler ExtremeRandomTrees                0:00:41       0.8335    0.8467\n",
      "        20   MaxAbsScaler LogisticRegression                0:00:38       0.8468    0.8468\n",
      "        21   StandardScalerWrapper XGBoostClassifier        0:00:40       0.8349    0.8468\n",
      "        22   StandardScalerWrapper XGBoostClassifier        0:00:45       0.8424    0.8468\n",
      "        23   MaxAbsScaler RandomForest                      0:00:37       0.8378    0.8468\n",
      "        24   SparseNormalizer XGBoostClassifier             0:00:40       0.8384    0.8468\n",
      "        25   TruncatedSVDWrapper LogisticRegression         0:00:45       0.7324    0.8468\n",
      "        26   StandardScalerWrapper LightGBM                 0:00:40       0.8493    0.8493\n",
      "        27   SparseNormalizer XGBoostClassifier             0:00:48       0.8360    0.8493\n",
      "        28   MaxAbsScaler LightGBM                          0:00:40       0.8485    0.8493\n",
      "        29   StandardScalerWrapper LightGBM                 0:00:40       0.8456    0.8493\n",
      "        30   StandardScalerWrapper LogisticRegression       0:00:43       0.8447    0.8493\n",
      "        31   StandardScalerWrapper LightGBM                 0:00:42       0.8487    0.8493\n",
      "        32   StandardScalerWrapper GradientBoosting         0:00:42       0.8366    0.8493\n",
      "        33   StandardScalerWrapper LightGBM                 0:00:41       0.8431    0.8493\n",
      "        34   StandardScalerWrapper LogisticRegression       0:00:40       0.8447    0.8493\n",
      "        35   SparseNormalizer LightGBM                      0:00:44       0.8381    0.8493\n",
      "        36   MaxAbsScaler ExtremeRandomTrees                0:00:43       0.8309    0.8493\n",
      "        37   MaxAbsScaler SGD                               0:00:38       0.8429    0.8493\n",
      "        38   StandardScalerWrapper LogisticRegression       0:00:43       0.8463    0.8493\n",
      "        39   MaxAbsScaler LogisticRegression                0:00:43       0.8455    0.8493\n",
      "        40   StandardScalerWrapper LightGBM                 0:00:37       0.8371    0.8493\n",
      "        41   SparseNormalizer LightGBM                      0:00:40       0.8474    0.8493\n",
      "        42                                                  0:00:08          nan    0.8493\n",
      "        43                                                  0:00:21          nan    0.8493\n",
      "        44   SparseNormalizer XGBoostClassifier             0:00:02          nan    0.8493\n",
      "ERROR: {\n",
      "    \"additional_properties\": {},\n",
      "    \"error\": {\n",
      "        \"additional_properties\": {\n",
      "            \"debugInfo\": null\n",
      "        },\n",
      "        \"code\": \"SystemError\",\n",
      "        \"severity\": null,\n",
      "        \"message\": \"Encountered an internal AutoML error. Error Message/Code: ClientException. Additional Info: ClientException:\\n\\tMessage: [Errno 12] Cannot allocate memory\\n\\tInnerException: None\\n\\tErrorResponse \\n{\\n    \\\"error\\\": {\\n        \\\"message\\\": \\\"[Errno 12] Cannot allocate memory\\\",\\n        \\\"target\\\": \\\"SaveArtifact\\\",\\n        \\\"reference_code\\\": \\\"094b6fa7-9a35-47ee-97bb-1bc55f8189a3\\\"\\n    }\\n}\",\n",
      "        \"message_format\": \"Encountered an internal AutoML error. Error Message/Code: ClientException. Additional Info: {error_details}\",\n",
      "        \"message_parameters\": {\n",
      "            \"error_message\": \"ClientException\",\n",
      "            \"error_details\": \"ClientException:\\n\\tMessage: [Errno 12] Cannot allocate memory\\n\\tInnerException: None\\n\\tErrorResponse \\n{\\n    \\\"error\\\": {\\n        \\\"message\\\": \\\"[Errno 12] Cannot allocate memory\\\",\\n        \\\"target\\\": \\\"SaveArtifact\\\",\\n        \\\"reference_code\\\": \\\"094b6fa7-9a35-47ee-97bb-1bc55f8189a3\\\"\\n    }\\n}\"\n",
      "        },\n",
      "        \"reference_code\": \"094b6fa7-9a35-47ee-97bb-1bc55f8189a3\",\n",
      "        \"details_uri\": \"https://aka.ms/automltroubleshoot\",\n",
      "        \"target\": \"SaveArtifact\",\n",
      "        \"details\": [],\n",
      "        \"inner_error\": {\n",
      "            \"additional_properties\": {},\n",
      "            \"code\": \"ClientError\",\n",
      "            \"inner_error\": {\n",
      "                \"additional_properties\": {},\n",
      "                \"code\": \"AutoMLInternal\",\n",
      "                \"inner_error\": null\n",
      "            }\n",
      "        },\n",
      "        \"additional_info\": null\n",
      "    },\n",
      "    \"correlation\": null,\n",
      "    \"environment\": null,\n",
      "    \"location\": null,\n",
      "    \"time\": {},\n",
      "    \"component_name\": null\n",
      "}\n",
      "        45    VotingEnsemble                                0:01:16       0.8512    0.8512\n",
      "        46    StackEnsemble                                 0:01:19       0.8510    0.8512\n"
     ]
    },
    {
     "data": {
      "text/plain": [
       "{'runId': 'AutoML_e92d563d-e00c-42a2-94cb-09f00c0406f4',\n",
       " 'target': 'automl-cluster',\n",
       " 'status': 'Completed',\n",
       " 'startTimeUtc': '2021-09-18T18:03:35.57511Z',\n",
       " 'endTimeUtc': '2021-09-18T18:28:33.150346Z',\n",
       " 'properties': {'num_iterations': '1000',\n",
       "  'training_type': 'TrainFull',\n",
       "  'acquisition_function': 'EI',\n",
       "  'primary_metric': 'AUC_weighted',\n",
       "  'train_split': '0',\n",
       "  'acquisition_parameter': '0',\n",
       "  'num_cross_validation': '7',\n",
       "  'target': 'automl-cluster',\n",
       "  'AMLSettingsJsonString': '{\"path\":null,\"name\":\"capstone-project\",\"subscription_id\":\"9e65f93e-bdd8-437b-b1e8-0647cd6098f7\",\"resource_group\":\"aml-quickstarts-158687\",\"workspace_name\":\"quick-starts-ws-158687\",\"region\":\"southcentralus\",\"compute_target\":\"automl-cluster\",\"spark_service\":null,\"azure_service\":\"remote\",\"many_models\":false,\"pipeline_fetch_max_batch_size\":1,\"enable_batch_run\":false,\"enable_run_restructure\":false,\"start_auxiliary_runs_before_parent_complete\":false,\"enable_code_generation\":false,\"iterations\":1000,\"primary_metric\":\"AUC_weighted\",\"task_type\":\"classification\",\"data_script\":null,\"test_size\":0.0,\"validation_size\":0.0,\"n_cross_validations\":7,\"y_min\":null,\"y_max\":null,\"num_classes\":null,\"featurization\":\"auto\",\"_ignore_package_version_incompatibilities\":false,\"is_timeseries\":false,\"max_cores_per_iteration\":1,\"max_concurrent_iterations\":5,\"iteration_timeout_minutes\":null,\"mem_in_mb\":null,\"enforce_time_on_windows\":false,\"experiment_timeout_minutes\":25,\"experiment_exit_score\":null,\"whitelist_models\":null,\"blacklist_algos\":[\"TensorFlowLinearClassifier\",\"TensorFlowDNN\"],\"supported_models\":[\"GradientBoosting\",\"MultinomialNaiveBayes\",\"AveragedPerceptronClassifier\",\"DecisionTree\",\"TensorFlowLinearClassifier\",\"RandomForest\",\"KNN\",\"XGBoostClassifier\",\"SVM\",\"BernoulliNaiveBayes\",\"LogisticRegression\",\"LinearSVM\",\"ExtremeRandomTrees\",\"LightGBM\",\"TensorFlowDNN\",\"SGD\"],\"private_models\":[],\"auto_blacklist\":true,\"blacklist_samples_reached\":false,\"exclude_nan_labels\":true,\"verbosity\":20,\"_debug_log\":\"azureml_automl.log\",\"show_warnings\":false,\"model_explainability\":true,\"service_url\":null,\"sdk_url\":null,\"sdk_packages\":null,\"enable_onnx_compatible_models\":false,\"enable_split_onnx_featurizer_estimator_models\":false,\"vm_type\":\"STANDARD_D2_V2\",\"telemetry_verbosity\":20,\"send_telemetry\":true,\"enable_dnn\":false,\"scenario\":\"SDK-1.13.0\",\"environment_label\":null,\"save_mlflow\":false,\"force_text_dnn\":false,\"enable_feature_sweeping\":true,\"enable_early_stopping\":true,\"early_stopping_n_iters\":10,\"metrics\":null,\"enable_metric_confidence\":false,\"enable_ensembling\":true,\"enable_stack_ensembling\":true,\"ensemble_iterations\":15,\"enable_tf\":false,\"enable_subsampling\":null,\"subsample_seed\":null,\"enable_nimbusml\":false,\"enable_streaming\":false,\"force_streaming\":false,\"track_child_runs\":true,\"allowed_private_models\":[],\"label_column_name\":\"Churn\",\"weight_column_name\":null,\"cv_split_column_names\":null,\"enable_local_managed\":false,\"_local_managed_run_id\":null,\"cost_mode\":1,\"lag_length\":0,\"metric_operation\":\"maximize\",\"preprocess\":true}',\n",
       "  'DataPrepJsonString': '{\\\\\"training_data\\\\\": {\\\\\"datasetId\\\\\": \\\\\"2a9b35d8-89f9-45c0-88ce-4ad731d56c6e\\\\\"}, \\\\\"datasets\\\\\": 0}',\n",
       "  'EnableSubsampling': None,\n",
       "  'runTemplate': 'AutoML',\n",
       "  'azureml.runsource': 'automl',\n",
       "  'display_task_type': 'classification',\n",
       "  'dependencies_versions': '{\"azureml-widgets\": \"1.33.0\", \"azureml-train\": \"1.33.0\", \"azureml-train-restclients-hyperdrive\": \"1.33.0\", \"azureml-train-core\": \"1.33.0\", \"azureml-train-automl\": \"1.33.0\", \"azureml-train-automl-runtime\": \"1.33.0\", \"azureml-train-automl-client\": \"1.33.0\", \"azureml-tensorboard\": \"1.33.0\", \"azureml-telemetry\": \"1.33.0\", \"azureml-sdk\": \"1.33.0\", \"azureml-samples\": \"0+unknown\", \"azureml-responsibleai\": \"1.33.0\", \"azureml-pipeline\": \"1.33.0\", \"azureml-pipeline-steps\": \"1.33.0\", \"azureml-pipeline-core\": \"1.33.0\", \"azureml-opendatasets\": \"1.33.0\", \"azureml-mlflow\": \"1.33.0\", \"azureml-interpret\": \"1.33.0\", \"azureml-explain-model\": \"1.33.0\", \"azureml-defaults\": \"1.33.0\", \"azureml-dataset-runtime\": \"1.33.0\", \"azureml-dataprep\": \"2.20.1\", \"azureml-dataprep-rslex\": \"1.18.0\", \"azureml-dataprep-native\": \"38.0.0\", \"azureml-datadrift\": \"1.33.0\", \"azureml-core\": \"1.33.0\", \"azureml-contrib-services\": \"1.33.0\", \"azureml-contrib-server\": \"1.33.0\", \"azureml-contrib-reinforcementlearning\": \"1.33.0\", \"azureml-contrib-pipeline-steps\": \"1.33.0\", \"azureml-contrib-notebook\": \"1.33.0\", \"azureml-contrib-fairness\": \"1.33.0\", \"azureml-contrib-dataset\": \"1.33.0\", \"azureml-cli-common\": \"1.33.0\", \"azureml-automl-runtime\": \"1.33.0\", \"azureml-automl-dnn-nlp\": \"1.33.0\", \"azureml-automl-core\": \"1.33.0\", \"azureml-accel-models\": \"1.33.0\"}',\n",
       "  '_aml_system_scenario_identification': 'Remote.Parent',\n",
       "  'ClientType': 'SDK',\n",
       "  'environment_cpu_name': 'AzureML-AutoML',\n",
       "  'environment_cpu_label': 'prod',\n",
       "  'environment_gpu_name': 'AzureML-AutoML-GPU',\n",
       "  'environment_gpu_label': 'prod',\n",
       "  'root_attribution': 'automl',\n",
       "  'attribution': 'AutoML',\n",
       "  'Orchestrator': 'AutoML',\n",
       "  'CancelUri': 'https://southcentralus.api.azureml.ms/jasmine/v1.0/subscriptions/9e65f93e-bdd8-437b-b1e8-0647cd6098f7/resourceGroups/aml-quickstarts-158687/providers/Microsoft.MachineLearningServices/workspaces/quick-starts-ws-158687/experimentids/dd9d1a03-c65c-4ba8-bfff-76692991db80/cancel/AutoML_e92d563d-e00c-42a2-94cb-09f00c0406f4',\n",
       "  'ClientSdkVersion': '1.33.1.post1',\n",
       "  'snapshotId': '00000000-0000-0000-0000-000000000000',\n",
       "  'SetupRunId': 'AutoML_e92d563d-e00c-42a2-94cb-09f00c0406f4_setup',\n",
       "  'SetupRunContainerId': 'dcid.AutoML_e92d563d-e00c-42a2-94cb-09f00c0406f4_setup',\n",
       "  'FeaturizationRunJsonPath': 'featurizer_container.json',\n",
       "  'FeaturizationRunId': 'AutoML_e92d563d-e00c-42a2-94cb-09f00c0406f4_featurize',\n",
       "  'ProblemInfoJsonString': '{\"dataset_num_categorical\": 0, \"is_sparse\": true, \"subsampling\": false, \"has_extra_col\": true, \"dataset_classes\": 2, \"dataset_features\": 41, \"dataset_samples\": 5282, \"single_frequency_class_detected\": false}',\n",
       "  'ModelExplainRunId': 'AutoML_e92d563d-e00c-42a2-94cb-09f00c0406f4_ModelExplain'},\n",
       " 'inputDatasets': [{'dataset': {'id': '2a9b35d8-89f9-45c0-88ce-4ad731d56c6e'}, 'consumptionDetails': {'type': 'RunInput', 'inputName': 'training_data', 'mechanism': 'Direct'}}],\n",
       " 'outputDatasets': [],\n",
       " 'logFiles': {},\n",
       " 'submittedBy': 'ODL_User 158687'}"
      ]
     },
     "execution_count": 19,
     "metadata": {},
     "output_type": "execute_result"
    }
   ],
   "source": [
    "from azureml.widgets import RunDetails\n",
    "RunDetails(remote_run).show()\n",
    "remote_run.wait_for_completion(show_output=True)\n"
   ]
  },
  {
   "cell_type": "markdown",
   "metadata": {},
   "source": [
    "## Best Model\n",
    "\n",
    "TODO: In the cell below, get the best model from the automl experiments and display all the properties of the model.\n",
    "\n"
   ]
  },
  {
   "cell_type": "code",
   "execution_count": 20,
   "metadata": {
    "collapsed": false,
    "gather": {
     "logged": 1598431425670
    },
    "jupyter": {
     "outputs_hidden": false,
     "source_hidden": false
    },
    "nteract": {
     "transient": {
      "deleting": false
     }
    }
   },
   "outputs": [
    {
     "name": "stdout",
     "output_type": "stream",
     "text": [
      "Pipeline(memory=None,\n",
      "         steps=[('datatransformer',\n",
      "                 DataTransformer(enable_dnn=False, enable_feature_sweeping=True, feature_sweeping_config={}, feature_sweeping_timeout=86400, featurization_config=None, force_text_dnn=False, is_cross_validation=True, is_onnx_compatible=False, observer=None, task='classification', working_dir='/mnt/batch/tasks/shared/LS_root/mount...\n",
      ")), ('lightgbmclassifier', LightGBMClassifier(boosting_type='goss', colsample_bytree=0.2977777777777778, learning_rate=0.015797894736842105, max_bin=250, max_depth=6, min_child_weight=7, min_data_in_leaf=0.013801724137931036, min_split_gain=0.5789473684210527, n_estimators=200, n_jobs=1, num_leaves=71, problem_info=ProblemInfo(), random_state=None, reg_alpha=0.631578947368421, reg_lambda=0.3157894736842105, subsample=1))], verbose=False)), ('28', Pipeline(memory=None, steps=[('maxabsscaler', MaxAbsScaler(copy=True)), ('lightgbmclassifier', LightGBMClassifier(boosting_type='gbdt', colsample_bytree=0.1, learning_rate=0.04737368421052632, max_bin=100, max_depth=5, min_child_weight=9, min_data_in_leaf=0.003457931034482759, min_split_gain=0.7368421052631579, n_estimators=200, n_jobs=1, num_leaves=194, problem_info=ProblemInfo(), random_state=None, reg_alpha=0.7368421052631579, reg_lambda=1, subsample=0.5447368421052632))], verbose=False)), ('41', Pipeline(memory=None, steps=[('sparsenormalizer', Normalizer(copy=True, norm='l1')), ('lightgbmclassifier', LightGBMClassifier(boosting_type='gbdt', colsample_bytree=0.3966666666666666, learning_rate=0.026323157894736843, max_bin=300, max_depth=7, min_child_weight=6, min_data_in_leaf=0.003457931034482759, min_split_gain=0.10526315789473684, n_estimators=100, n_jobs=1, num_leaves=29, problem_info=ProblemInfo(), random_state=None, reg_alpha=0, reg_lambda=0.7368421052631579, subsample=0.09947368421052633))], verbose=False)), ('20', Pipeline(memory=None, steps=[('maxabsscaler', MaxAbsScaler(copy=True)), ('logisticregression', LogisticRegression(C=10000, class_weight=None, dual=False, fit_intercept=True, intercept_scaling=1, l1_ratio=None, max_iter=100, multi_class='ovr', n_jobs=1, penalty='l2', random_state=None, solver='lbfgs', tol=0.0001, verbose=0, warm_start=False))], verbose=False)), ('15', Pipeline(memory=None, steps=[('maxabsscaler', MaxAbsScaler(copy=True)), ('lightgbmclassifier', LightGBMClassifier(boosting_type='goss', colsample_bytree=0.5944444444444444, learning_rate=0.026323157894736843, max_bin=310, max_depth=-1, min_child_weight=3, min_data_in_leaf=1e-05, min_split_gain=0.7894736842105263, n_estimators=50, n_jobs=1, num_leaves=131, problem_info=ProblemInfo(), random_state=None, reg_alpha=0.3684210526315789, reg_lambda=1, subsample=1))], verbose=False)), ('27', Pipeline(memory=None, steps=[('sparsenormalizer', Normalizer(copy=True, norm='l2')), ('xgboostclassifier', XGBoostClassifier(booster='gbtree', colsample_bytree=0.5, eta=0.3, gamma=0, max_depth=6, max_leaves=15, n_estimators=100, n_jobs=1, objective='reg:logistic', problem_info=ProblemInfo(\n",
      "    gpu_training_param_dict={'processing_unit_type': 'cpu'}\n",
      "), random_state=0, reg_alpha=0.4166666666666667, reg_lambda=0, subsample=0.5, tree_method='auto'))], verbose=False))], flatten_transform=None, weights=[0.1111111111111111, 0.1111111111111111, 0.2222222222222222, 0.1111111111111111, 0.2222222222222222, 0.1111111111111111, 0.1111111111111111]))],\n",
      "         verbose=False)\n",
      "Y_transformer(['LabelEncoder', LabelEncoder()])\n"
     ]
    }
   ],
   "source": [
    "best_automl, best_fit_model = remote_run.get_output()\n",
    "print(best_fit_model)"
   ]
  },
  {
   "cell_type": "code",
   "execution_count": 21,
   "metadata": {},
   "outputs": [
    {
     "name": "stdout",
     "output_type": "stream",
     "text": [
      "Run(Experiment: capstone-project,\n",
      "Id: AutoML_e92d563d-e00c-42a2-94cb-09f00c0406f4_45,\n",
      "Type: azureml.scriptrun,\n",
      "Status: Completed)\n"
     ]
    }
   ],
   "source": [
    "print(best_automl)"
   ]
  },
  {
   "cell_type": "code",
   "execution_count": 22,
   "metadata": {
    "collapsed": false,
    "gather": {
     "logged": 1598431426111
    },
    "jupyter": {
     "outputs_hidden": false,
     "source_hidden": false
    },
    "nteract": {
     "transient": {
      "deleting": false
     }
    }
   },
   "outputs": [
    {
     "data": {
      "text/plain": [
       "['best_fit_automl_model.pkl']"
      ]
     },
     "execution_count": 22,
     "metadata": {},
     "output_type": "execute_result"
    }
   ],
   "source": [
    "#TODO: Save the best model\n",
    "joblib.dump(best_fit_model, 'best_fit_automl_model.pkl')"
   ]
  },
  {
   "cell_type": "code",
   "execution_count": 18,
   "metadata": {},
   "outputs": [],
   "source": [
    "#joblib.dump(best_fit_model,'./outputs/bestmodel.joblib')\n",
    "#best_class.register_model(model_name='best_fit_automl_model.pkl',model_path='/outputs/')"
   ]
  },
  {
   "cell_type": "markdown",
   "metadata": {},
   "source": [
    "## Model Deployment\n",
    "\n",
    "Remember you have to deploy only one of the two models you trained.. Perform the steps in the rest of this notebook only if you wish to deploy this model.\n",
    "\n",
    "TODO: In the cell below, register the model, create an inference config and deploy the model as a web service."
   ]
  },
  {
   "cell_type": "code",
   "execution_count": 23,
   "metadata": {
    "collapsed": false,
    "gather": {
     "logged": 1598431435189
    },
    "jupyter": {
     "outputs_hidden": false,
     "source_hidden": false
    },
    "nteract": {
     "transient": {
      "deleting": false
     }
    }
   },
   "outputs": [
    {
     "name": "stdout",
     "output_type": "stream",
     "text": [
      "Registering model best_fit_automl_model\n",
      "best_fit_automl_model\tbest_fit_automl_model:1\t1\n"
     ]
    }
   ],
   "source": [
    "from azureml.core.model import Model\n",
    "model = Model.register(workspace = ws, model_name = 'best_fit_automl_model', model_path = 'best_fit_automl_model.pkl')\n",
    "print(model.name, model.id, model.version, sep='\\t')"
   ]
  },
  {
   "cell_type": "markdown",
   "metadata": {
    "gather": {
     "logged": 1598431657736
    },
    "jupyter": {
     "outputs_hidden": false,
     "source_hidden": false
    },
    "nteract": {
     "transient": {
      "deleting": false
     }
    }
   },
   "source": [
    "TODO: In the cell below, send a request to the web service you deployed to test it."
   ]
  },
  {
   "cell_type": "code",
   "execution_count": 24,
   "metadata": {
    "collapsed": false,
    "gather": {
     "logged": 1598432707604
    },
    "jupyter": {
     "outputs_hidden": false,
     "source_hidden": false
    },
    "nteract": {
     "transient": {
      "deleting": false
     }
    }
   },
   "outputs": [
    {
     "name": "stdout",
     "output_type": "stream",
     "text": [
      "Tips: You can try get_logs(): https://aka.ms/debugimage#dockerlog or local deployment: https://aka.ms/debugimage#debug-locally to debug if deployment takes longer than 10 minutes.\n",
      "Running\n",
      "2021-09-18 18:38:38+00:00 Creating Container Registry if not exists..\n",
      "2021-09-18 18:48:39+00:00 Registering the environment.\n",
      "2021-09-18 18:48:39+00:00 Use the existing image.\n",
      "2021-09-18 18:48:39+00:00 Generating deployment configuration..\n",
      "2021-09-18 18:48:41+00:00 Submitting deployment to compute.\n",
      "2021-09-18 18:48:44+00:00 Checking the status of deployment customerservice..\n",
      "2021-09-18 18:53:20+00:00 Checking the status of inference endpoint customerservice.\n",
      "Succeeded\n",
      "ACI service creation operation finished, operation \"Succeeded\"\n",
      "Healthy\n",
      "http://aa3baa03-9e25-4ed1-88b8-cd7af278b687.southcentralus.azurecontainer.io/score\n",
      "http://aa3baa03-9e25-4ed1-88b8-cd7af278b687.southcentralus.azurecontainer.io/swagger.json\n"
     ]
    }
   ],
   "source": [
    "from azureml.core.environment import Environment\n",
    "from azureml.core.model import InferenceConfig\n",
    "from azureml.core.webservice import LocalWebservice, Webservice, AciWebservice\n",
    "from azureml.core.conda_dependencies import CondaDependencies\n",
    "import azureml.train.automl\n",
    "\n",
    "# Create the environment\n",
    "env = best_automl.get_environment()\n",
    "conda_dep = CondaDependencies()\n",
    "\n",
    "# Define the packages needed by the model and the script\n",
    "#conda_dep.add_conda_package(\"numpy\")\n",
    "#conda_dep.add_conda_package(\"scikit-learn\")\n",
    "#conda_dep.add_conda_package(\"pandas\")\n",
    "# Define azureml-defaults as a pip dependency\n",
    "#conda_dep.add_pip_package(\"azureml-defaults\")\n",
    "#conda_dep.add_pip_package(\"azureml-train\")\n",
    "\n",
    "# Adds dependencies to PythonSection of myenv\n",
    "#env.python.conda_dependencies=conda_dep\n",
    "\n",
    "inference_config = InferenceConfig(entry_script='score.py', environment=env)\n",
    "\n",
    "deployment_config = AciWebservice.deploy_configuration(cpu_cores=1, memory_gb=4, enable_app_insights=True)\n",
    "service = Model.deploy(ws, \"customerservice\", [model], inference_config, deployment_config)\n",
    "service.wait_for_deployment(show_output = True)\n",
    "\n",
    "print(service.state)\n",
    "print(service.scoring_uri)\n",
    "print(service.swagger_uri)"
   ]
  },
  {
   "cell_type": "markdown",
   "metadata": {
    "gather": {
     "logged": 1598432765711
    },
    "jupyter": {
     "outputs_hidden": false,
     "source_hidden": false
    },
    "nteract": {
     "transient": {
      "deleting": false
     }
    }
   },
   "source": [
    "TODO: In the cell below, print the logs of the web service and delete the service"
   ]
  },
  {
   "cell_type": "code",
   "execution_count": null,
   "metadata": {},
   "outputs": [],
   "source": [
    "import requests\n",
    "import json\n",
    "\n",
    "# URL for the web service\n",
    "scoring_uri = 'http://aa3baa03-9e25-4ed1-88b8-cd7af278b687.southcentralus.azurecontainer.io/score'\n",
    "\n",
    "# Set the content type\n",
    "headers = {'Content-Type': 'application/json'}\n",
    "\n",
    "# Two sets of data to score, so we get two results back\n",
    "data = {\"data\":\n",
    "        [{\n",
    "         \n",
    "            \"gender\":\"Female\",\n",
    "            \"SeniorCitizen\":0,\n",
    "            \"Partner\":\"Yes\",\n",
    "            \"Dependents\":\"No\",\n",
    "            \"tenure\":1,\n",
    "            \"PhoneService\":\"No\",\n",
    "            \"MultipleLines\":\"No phone service\",\n",
    "            \"InternetService\":\"DSL\",\n",
    "            \"OnlineSecurity\":\"No\",\n",
    "            \"OnlineBackup\":\"Yes\",\n",
    "            \"DeviceProtection\":\"No\",\n",
    "            \"TechSupport\":\"No\",\n",
    "            \"StreamingTV\":\"No\",\n",
    "            \"StreamingMovies\":\"No\",\n",
    "            \"Contract\":\"Month-to-month\",\n",
    "            \"PaperlessBilling\":\"Yes\",\n",
    "            \"PaymentMethod\":\"Electronic check\",\n",
    "            \"MonthlyCharges\":29.85,\n",
    "            \"TotalCharges\":29.85}\n",
    "        ]\n",
    "        }\n",
    "# Convert to JSON string\n",
    "input_data = json.dumps(data)\n",
    "\n",
    "# Make the request and display the response\n",
    "resp = requests.post(scoring_uri, input_data, headers=headers)\n",
    "\n",
    "print(\"Response Code : \", resp.status_code)\n",
    "print(\"Predicted Value : \",resp.text)"
   ]
  },
  {
   "cell_type": "code",
   "execution_count": 25,
   "metadata": {
    "collapsed": false,
    "jupyter": {
     "outputs_hidden": false,
     "source_hidden": false
    },
    "nteract": {
     "transient": {
      "deleting": false
     }
    }
   },
   "outputs": [
    {
     "name": "stdout",
     "output_type": "stream",
     "text": [
      "2021-09-18T18:53:07,813563500+00:00 - iot-server/run \n",
      "2021-09-18T18:53:07,807115300+00:00 - rsyslog/run \n",
      "2021-09-18T18:53:07,817811500+00:00 - gunicorn/run \n",
      "Dynamic Python package installation is disabled.\n",
      "Starting HTTP server\n",
      "2021-09-18T18:53:07,838277400+00:00 - nginx/run \n",
      "rsyslogd: /azureml-envs/azureml_77e992fdaf2b83b0c81ee1c90ded8d17/lib/libuuid.so.1: no version information available (required by rsyslogd)\n",
      "EdgeHubConnectionString and IOTEDGE_IOTHUBHOSTNAME are not set. Exiting...\n",
      "2021-09-18T18:53:08,181306600+00:00 - iot-server/finish 1 0\n",
      "2021-09-18T18:53:08,183102400+00:00 - Exit code 1 is normal. Not restarting iot-server.\n",
      "Starting gunicorn 20.1.0\n",
      "Listening at: http://127.0.0.1:31311 (62)\n",
      "Using worker: sync\n",
      "worker timeout is set to 300\n",
      "Booting worker with pid: 90\n",
      "SPARK_HOME not set. Skipping PySpark Initialization.\n",
      "Generating new fontManager, this may take some time...\n",
      "Initializing logger\n",
      "2021-09-18 18:53:13,906 | root | INFO | Starting up app insights client\n",
      "logging socket was found. logging is available.\n",
      "logging socket was found. logging is available.\n",
      "2021-09-18 18:53:13,908 | root | INFO | Starting up request id generator\n",
      "2021-09-18 18:53:13,908 | root | INFO | Starting up app insight hooks\n",
      "2021-09-18 18:53:13,909 | root | INFO | Invoking user's init function\n",
      "2021-09-18 18:53:17,116 | root | INFO | Users's init has completed successfully\n",
      "/azureml-envs/azureml_77e992fdaf2b83b0c81ee1c90ded8d17/lib/python3.6/site-packages/sklearn/externals/joblib/__init__.py:15: FutureWarning: sklearn.externals.joblib is deprecated in 0.21 and will be removed in 0.23. Please import this functionality directly from joblib, which can be installed with: pip install joblib. If this warning is raised when loading pickled models, you may need to re-serialize those models with scikit-learn 0.21+.\n",
      "  warnings.warn(msg, category=FutureWarning)\n",
      "2021-09-18 18:53:17,125 | root | INFO | Skipping middleware: dbg_model_info as it's not enabled.\n",
      "2021-09-18 18:53:17,126 | root | INFO | Skipping middleware: dbg_resource_usage as it's not enabled.\n",
      "2021-09-18 18:53:17,128 | root | INFO | Scoring timeout is found from os.environ: 60000 ms\n",
      "2021-09-18 18:53:20,262 | root | INFO | Swagger file not present\n",
      "2021-09-18 18:53:20,263 | root | INFO | 404\n",
      "127.0.0.1 - - [18/Sep/2021:18:53:20 +0000] \"GET /swagger.json HTTP/1.0\" 404 19 \"-\" \"Go-http-client/1.1\"\n",
      "2021-09-18 18:53:22,161 | root | INFO | Swagger file not present\n",
      "2021-09-18 18:53:22,161 | root | INFO | 404\n",
      "127.0.0.1 - - [18/Sep/2021:18:53:22 +0000] \"GET /swagger.json HTTP/1.0\" 404 19 \"-\" \"Go-http-client/1.1\"\n",
      "\n"
     ]
    }
   ],
   "source": [
    "# Web Service Logs\n",
    "print(service.get_logs())"
   ]
  },
  {
   "cell_type": "code",
   "execution_count": 26,
   "metadata": {},
   "outputs": [],
   "source": [
    "# Delete the service\n",
    "service.delete()"
   ]
  }
 ],
 "metadata": {
  "kernel_info": {
   "name": "python3-azureml"
  },
  "kernelspec": {
   "display_name": "Python 3",
   "language": "python",
   "name": "python3"
  },
  "language_info": {
   "codemirror_mode": {
    "name": "ipython",
    "version": 3
   },
   "file_extension": ".py",
   "mimetype": "text/x-python",
   "name": "python",
   "nbconvert_exporter": "python",
   "pygments_lexer": "ipython3",
   "version": "3.8.8"
  },
  "nteract": {
   "version": "nteract-front-end@1.0.0"
  }
 },
 "nbformat": 4,
 "nbformat_minor": 4
}
