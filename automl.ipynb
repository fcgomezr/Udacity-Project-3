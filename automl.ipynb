{
 "cells": [
  {
   "cell_type": "markdown",
   "metadata": {},
   "source": [
    "# Automated ML\n",
    "\n",
    "TODO: Import Dependencies. In the cell below, import all the dependencies that you will need to complete the project."
   ]
  },
  {
   "cell_type": "code",
   "execution_count": 1,
   "metadata": {
    "collapsed": false,
    "gather": {
     "logged": 1598423888013
    },
    "jupyter": {
     "outputs_hidden": false,
     "source_hidden": false
    },
    "nteract": {
     "transient": {
      "deleting": false
     }
    }
   },
   "outputs": [
    {
     "name": "stdout",
     "output_type": "stream",
     "text": [
      "SDK version: 1.33.0\n"
     ]
    }
   ],
   "source": [
    "import logging\n",
    "import os\n",
    "import csv\n",
    "import joblib, pickle\n",
    "import json\n",
    "\n",
    "from matplotlib import pyplot as plt\n",
    "import numpy as np\n",
    "import pandas as pd\n",
    "\n",
    "import azureml.core\n",
    "from azureml.core.experiment import Experiment\n",
    "from azureml.core.workspace import Workspace\n",
    "from azureml.train.automl import AutoMLConfig\n",
    "from azureml.core.dataset import Dataset\n",
    "from azureml.data.dataset_factory import TabularDatasetFactory\n",
    "\n",
    "#from azureml.pipeline.steps import AutoMLStep\n",
    "\n",
    "# Check core SDK version number\n",
    "print(\"SDK version:\", azureml.core.VERSION)"
   ]
  },
  {
   "cell_type": "markdown",
   "metadata": {},
   "source": [
    "## Dataset\n",
    "\n",
    "### Overview\n",
    "TODO: In this markdown cell, give an overview of the dataset you are using. Also mention the task you will be performing.\n",
    "\n",
    "\n",
    "TODO: Get data. In the cell below, write code to access the data you will be using in this project. Remember that the dataset needs to be external."
   ]
  },
  {
   "cell_type": "code",
   "execution_count": 2,
   "metadata": {
    "collapsed": false,
    "gather": {
     "logged": 1598423890461
    },
    "jupyter": {
     "outputs_hidden": false,
     "source_hidden": false
    },
    "nteract": {
     "transient": {
      "deleting": false
     }
    }
   },
   "outputs": [],
   "source": [
    "ws = Workspace.from_config()\n",
    "\n",
    "# choose a name for experiment\n",
    "experiment_name = 'capstone-project'\n",
    "\n",
    "experiment=Experiment(ws, experiment_name)"
   ]
  },
  {
   "cell_type": "code",
   "execution_count": 3,
   "metadata": {},
   "outputs": [],
   "source": [
    "from azureml.core.compute import ComputeTarget, AmlCompute\n",
    "from azureml.core.compute_target import ComputeTargetException\n",
    "\n",
    "compute_cluster = 'automl-cluster'\n",
    "\n",
    "try:\n",
    "    comp_trget = ComputeTarget(workspace=ws, name=compute_cluster)\n",
    "    print('Cluster already exists')\n",
    "except ComputeTargetException:\n",
    "    compute_confg = AmlCompute.provisioning_configuration(vm_size=\"STANDARD_D2_V2\",max_nodes=4) ## VER\n",
    "    comp_trget = ComputeTarget.create(ws,compute_cluster,compute_confg)"
   ]
  },
  {
   "cell_type": "code",
   "execution_count": 4,
   "metadata": {},
   "outputs": [],
   "source": [
    "data_link = 'https://raw.githubusercontent.com/fcgomezr/Udacity-Project-3/main/data%20sets/WA_Fn-UseC_-Telco-Customer-Churn.csv'\n",
    "input_data = TabularDatasetFactory.from_delimited_files(path=data_link, separator = \",\")"
   ]
  },
  {
   "cell_type": "code",
   "execution_count": 6,
   "metadata": {},
   "outputs": [
    {
     "data": {
      "text/html": [
       "<div>\n",
       "<style scoped>\n",
       "    .dataframe tbody tr th:only-of-type {\n",
       "        vertical-align: middle;\n",
       "    }\n",
       "\n",
       "    .dataframe tbody tr th {\n",
       "        vertical-align: top;\n",
       "    }\n",
       "\n",
       "    .dataframe thead th {\n",
       "        text-align: right;\n",
       "    }\n",
       "</style>\n",
       "<table border=\"1\" class=\"dataframe\">\n",
       "  <thead>\n",
       "    <tr style=\"text-align: right;\">\n",
       "      <th></th>\n",
       "      <th>customerID</th>\n",
       "      <th>SeniorCitizen</th>\n",
       "      <th>Partner</th>\n",
       "      <th>Dependents</th>\n",
       "      <th>tenure</th>\n",
       "      <th>PhoneService</th>\n",
       "      <th>MultipleLines</th>\n",
       "      <th>OnlineSecurity</th>\n",
       "      <th>OnlineBackup</th>\n",
       "      <th>DeviceProtection</th>\n",
       "      <th>...</th>\n",
       "      <th>gender_Male</th>\n",
       "      <th>InternetService_Fiber optic</th>\n",
       "      <th>InternetService_No</th>\n",
       "      <th>PaymentMethod_Bank transfer (automatic)</th>\n",
       "      <th>PaymentMethod_Credit card (automatic)</th>\n",
       "      <th>PaymentMethod_Electronic check</th>\n",
       "      <th>PaymentMethod_Mailed check</th>\n",
       "      <th>Contract_One year</th>\n",
       "      <th>Contract_Two year</th>\n",
       "      <th>Churn</th>\n",
       "    </tr>\n",
       "  </thead>\n",
       "  <tbody>\n",
       "    <tr>\n",
       "      <th>0</th>\n",
       "      <td>7590-VHVEG</td>\n",
       "      <td>0</td>\n",
       "      <td>1</td>\n",
       "      <td>0</td>\n",
       "      <td>1</td>\n",
       "      <td>0</td>\n",
       "      <td>0</td>\n",
       "      <td>0</td>\n",
       "      <td>1</td>\n",
       "      <td>0</td>\n",
       "      <td>...</td>\n",
       "      <td>0</td>\n",
       "      <td>0</td>\n",
       "      <td>0</td>\n",
       "      <td>0</td>\n",
       "      <td>0</td>\n",
       "      <td>1</td>\n",
       "      <td>0</td>\n",
       "      <td>0</td>\n",
       "      <td>0</td>\n",
       "      <td>0</td>\n",
       "    </tr>\n",
       "    <tr>\n",
       "      <th>1</th>\n",
       "      <td>5575-GNVDE</td>\n",
       "      <td>0</td>\n",
       "      <td>0</td>\n",
       "      <td>0</td>\n",
       "      <td>34</td>\n",
       "      <td>1</td>\n",
       "      <td>0</td>\n",
       "      <td>1</td>\n",
       "      <td>0</td>\n",
       "      <td>1</td>\n",
       "      <td>...</td>\n",
       "      <td>1</td>\n",
       "      <td>0</td>\n",
       "      <td>0</td>\n",
       "      <td>0</td>\n",
       "      <td>0</td>\n",
       "      <td>0</td>\n",
       "      <td>1</td>\n",
       "      <td>1</td>\n",
       "      <td>0</td>\n",
       "      <td>0</td>\n",
       "    </tr>\n",
       "    <tr>\n",
       "      <th>2</th>\n",
       "      <td>3668-QPYBK</td>\n",
       "      <td>0</td>\n",
       "      <td>0</td>\n",
       "      <td>0</td>\n",
       "      <td>2</td>\n",
       "      <td>1</td>\n",
       "      <td>0</td>\n",
       "      <td>1</td>\n",
       "      <td>1</td>\n",
       "      <td>0</td>\n",
       "      <td>...</td>\n",
       "      <td>1</td>\n",
       "      <td>0</td>\n",
       "      <td>0</td>\n",
       "      <td>0</td>\n",
       "      <td>0</td>\n",
       "      <td>0</td>\n",
       "      <td>1</td>\n",
       "      <td>0</td>\n",
       "      <td>0</td>\n",
       "      <td>1</td>\n",
       "    </tr>\n",
       "    <tr>\n",
       "      <th>3</th>\n",
       "      <td>7795-CFOCW</td>\n",
       "      <td>0</td>\n",
       "      <td>0</td>\n",
       "      <td>0</td>\n",
       "      <td>45</td>\n",
       "      <td>0</td>\n",
       "      <td>0</td>\n",
       "      <td>1</td>\n",
       "      <td>0</td>\n",
       "      <td>1</td>\n",
       "      <td>...</td>\n",
       "      <td>1</td>\n",
       "      <td>0</td>\n",
       "      <td>0</td>\n",
       "      <td>1</td>\n",
       "      <td>0</td>\n",
       "      <td>0</td>\n",
       "      <td>0</td>\n",
       "      <td>1</td>\n",
       "      <td>0</td>\n",
       "      <td>0</td>\n",
       "    </tr>\n",
       "    <tr>\n",
       "      <th>4</th>\n",
       "      <td>9237-HQITU</td>\n",
       "      <td>0</td>\n",
       "      <td>0</td>\n",
       "      <td>0</td>\n",
       "      <td>2</td>\n",
       "      <td>1</td>\n",
       "      <td>0</td>\n",
       "      <td>0</td>\n",
       "      <td>0</td>\n",
       "      <td>0</td>\n",
       "      <td>...</td>\n",
       "      <td>0</td>\n",
       "      <td>1</td>\n",
       "      <td>0</td>\n",
       "      <td>0</td>\n",
       "      <td>0</td>\n",
       "      <td>1</td>\n",
       "      <td>0</td>\n",
       "      <td>0</td>\n",
       "      <td>0</td>\n",
       "      <td>1</td>\n",
       "    </tr>\n",
       "  </tbody>\n",
       "</table>\n",
       "<p>5 rows × 26 columns</p>\n",
       "</div>"
      ],
      "text/plain": [
       "   customerID  SeniorCitizen  Partner  Dependents  tenure  PhoneService  \\\n",
       "0  7590-VHVEG              0        1           0       1             0   \n",
       "1  5575-GNVDE              0        0           0      34             1   \n",
       "2  3668-QPYBK              0        0           0       2             1   \n",
       "3  7795-CFOCW              0        0           0      45             0   \n",
       "4  9237-HQITU              0        0           0       2             1   \n",
       "\n",
       "   MultipleLines  OnlineSecurity  OnlineBackup  DeviceProtection  ...  \\\n",
       "0              0               0             1                 0  ...   \n",
       "1              0               1             0                 1  ...   \n",
       "2              0               1             1                 0  ...   \n",
       "3              0               1             0                 1  ...   \n",
       "4              0               0             0                 0  ...   \n",
       "\n",
       "   gender_Male  InternetService_Fiber optic  InternetService_No  \\\n",
       "0            0                            0                   0   \n",
       "1            1                            0                   0   \n",
       "2            1                            0                   0   \n",
       "3            1                            0                   0   \n",
       "4            0                            1                   0   \n",
       "\n",
       "   PaymentMethod_Bank transfer (automatic)  \\\n",
       "0                                        0   \n",
       "1                                        0   \n",
       "2                                        0   \n",
       "3                                        1   \n",
       "4                                        0   \n",
       "\n",
       "   PaymentMethod_Credit card (automatic)  PaymentMethod_Electronic check  \\\n",
       "0                                      0                               1   \n",
       "1                                      0                               0   \n",
       "2                                      0                               0   \n",
       "3                                      0                               0   \n",
       "4                                      0                               1   \n",
       "\n",
       "   PaymentMethod_Mailed check  Contract_One year  Contract_Two year  Churn  \n",
       "0                           0                  0                  0      0  \n",
       "1                           1                  1                  0      0  \n",
       "2                           1                  0                  0      1  \n",
       "3                           0                  1                  0      0  \n",
       "4                           0                  0                  0      1  \n",
       "\n",
       "[5 rows x 26 columns]"
      ]
     },
     "execution_count": 6,
     "metadata": {},
     "output_type": "execute_result"
    }
   ],
   "source": [
    "from train import clean_data\n",
    "\n",
    "# Use the clean_data function to clean your data.\n",
    "x, y = clean_data(input_data)\n",
    "predict_col = pd.DataFrame(y)\n",
    "predict_col.head()\n",
    "complete_data = pd.concat([x,predict_col],axis=1)\n",
    "complete_data = complete_data.drop(\"customerID\", axis=1)\n",
    "complete_data.head()"
   ]
  },
  {
   "cell_type": "code",
   "execution_count": 7,
   "metadata": {},
   "outputs": [
    {
     "data": {
      "text/html": [
       "<div>\n",
       "<style scoped>\n",
       "    .dataframe tbody tr th:only-of-type {\n",
       "        vertical-align: middle;\n",
       "    }\n",
       "\n",
       "    .dataframe tbody tr th {\n",
       "        vertical-align: top;\n",
       "    }\n",
       "\n",
       "    .dataframe thead th {\n",
       "        text-align: right;\n",
       "    }\n",
       "</style>\n",
       "<table border=\"1\" class=\"dataframe\">\n",
       "  <thead>\n",
       "    <tr style=\"text-align: right;\">\n",
       "      <th></th>\n",
       "      <th>customerID</th>\n",
       "      <th>SeniorCitizen</th>\n",
       "      <th>Partner</th>\n",
       "      <th>Dependents</th>\n",
       "      <th>tenure</th>\n",
       "      <th>PhoneService</th>\n",
       "      <th>MultipleLines</th>\n",
       "      <th>OnlineSecurity</th>\n",
       "      <th>OnlineBackup</th>\n",
       "      <th>DeviceProtection</th>\n",
       "      <th>...</th>\n",
       "      <th>gender_Male</th>\n",
       "      <th>InternetService_Fiber optic</th>\n",
       "      <th>InternetService_No</th>\n",
       "      <th>PaymentMethod_Bank transfer (automatic)</th>\n",
       "      <th>PaymentMethod_Credit card (automatic)</th>\n",
       "      <th>PaymentMethod_Electronic check</th>\n",
       "      <th>PaymentMethod_Mailed check</th>\n",
       "      <th>Contract_One year</th>\n",
       "      <th>Contract_Two year</th>\n",
       "      <th>Churn</th>\n",
       "    </tr>\n",
       "  </thead>\n",
       "  <tbody>\n",
       "    <tr>\n",
       "      <th>3347</th>\n",
       "      <td>6923-AQONU</td>\n",
       "      <td>0</td>\n",
       "      <td>1</td>\n",
       "      <td>1</td>\n",
       "      <td>23</td>\n",
       "      <td>1</td>\n",
       "      <td>0</td>\n",
       "      <td>0</td>\n",
       "      <td>0</td>\n",
       "      <td>0</td>\n",
       "      <td>...</td>\n",
       "      <td>1</td>\n",
       "      <td>0</td>\n",
       "      <td>1</td>\n",
       "      <td>0</td>\n",
       "      <td>0</td>\n",
       "      <td>0</td>\n",
       "      <td>1</td>\n",
       "      <td>0</td>\n",
       "      <td>1</td>\n",
       "      <td>0</td>\n",
       "    </tr>\n",
       "    <tr>\n",
       "      <th>6812</th>\n",
       "      <td>6563-VNPMN</td>\n",
       "      <td>1</td>\n",
       "      <td>0</td>\n",
       "      <td>0</td>\n",
       "      <td>45</td>\n",
       "      <td>1</td>\n",
       "      <td>0</td>\n",
       "      <td>1</td>\n",
       "      <td>1</td>\n",
       "      <td>0</td>\n",
       "      <td>...</td>\n",
       "      <td>0</td>\n",
       "      <td>1</td>\n",
       "      <td>0</td>\n",
       "      <td>1</td>\n",
       "      <td>0</td>\n",
       "      <td>0</td>\n",
       "      <td>0</td>\n",
       "      <td>0</td>\n",
       "      <td>0</td>\n",
       "      <td>0</td>\n",
       "    </tr>\n",
       "    <tr>\n",
       "      <th>5297</th>\n",
       "      <td>7647-GYYKX</td>\n",
       "      <td>0</td>\n",
       "      <td>1</td>\n",
       "      <td>1</td>\n",
       "      <td>54</td>\n",
       "      <td>1</td>\n",
       "      <td>0</td>\n",
       "      <td>0</td>\n",
       "      <td>0</td>\n",
       "      <td>0</td>\n",
       "      <td>...</td>\n",
       "      <td>0</td>\n",
       "      <td>0</td>\n",
       "      <td>1</td>\n",
       "      <td>1</td>\n",
       "      <td>0</td>\n",
       "      <td>0</td>\n",
       "      <td>0</td>\n",
       "      <td>0</td>\n",
       "      <td>1</td>\n",
       "      <td>0</td>\n",
       "    </tr>\n",
       "    <tr>\n",
       "      <th>5511</th>\n",
       "      <td>6586-MYGKD</td>\n",
       "      <td>0</td>\n",
       "      <td>1</td>\n",
       "      <td>0</td>\n",
       "      <td>70</td>\n",
       "      <td>1</td>\n",
       "      <td>1</td>\n",
       "      <td>1</td>\n",
       "      <td>0</td>\n",
       "      <td>0</td>\n",
       "      <td>...</td>\n",
       "      <td>1</td>\n",
       "      <td>0</td>\n",
       "      <td>0</td>\n",
       "      <td>0</td>\n",
       "      <td>1</td>\n",
       "      <td>0</td>\n",
       "      <td>0</td>\n",
       "      <td>0</td>\n",
       "      <td>1</td>\n",
       "      <td>0</td>\n",
       "    </tr>\n",
       "    <tr>\n",
       "      <th>5762</th>\n",
       "      <td>1421-HCERK</td>\n",
       "      <td>1</td>\n",
       "      <td>1</td>\n",
       "      <td>0</td>\n",
       "      <td>30</td>\n",
       "      <td>1</td>\n",
       "      <td>1</td>\n",
       "      <td>1</td>\n",
       "      <td>1</td>\n",
       "      <td>1</td>\n",
       "      <td>...</td>\n",
       "      <td>1</td>\n",
       "      <td>1</td>\n",
       "      <td>0</td>\n",
       "      <td>1</td>\n",
       "      <td>0</td>\n",
       "      <td>0</td>\n",
       "      <td>0</td>\n",
       "      <td>0</td>\n",
       "      <td>0</td>\n",
       "      <td>0</td>\n",
       "    </tr>\n",
       "  </tbody>\n",
       "</table>\n",
       "<p>5 rows × 26 columns</p>\n",
       "</div>"
      ],
      "text/plain": [
       "      customerID  SeniorCitizen  Partner  Dependents  tenure  PhoneService  \\\n",
       "3347  6923-AQONU              0        1           1      23             1   \n",
       "6812  6563-VNPMN              1        0           0      45             1   \n",
       "5297  7647-GYYKX              0        1           1      54             1   \n",
       "5511  6586-MYGKD              0        1           0      70             1   \n",
       "5762  1421-HCERK              1        1           0      30             1   \n",
       "\n",
       "      MultipleLines  OnlineSecurity  OnlineBackup  DeviceProtection  ...  \\\n",
       "3347              0               0             0                 0  ...   \n",
       "6812              0               1             1                 0  ...   \n",
       "5297              0               0             0                 0  ...   \n",
       "5511              1               1             0                 0  ...   \n",
       "5762              1               1             1                 1  ...   \n",
       "\n",
       "      gender_Male  InternetService_Fiber optic  InternetService_No  \\\n",
       "3347            1                            0                   1   \n",
       "6812            0                            1                   0   \n",
       "5297            0                            0                   1   \n",
       "5511            1                            0                   0   \n",
       "5762            1                            1                   0   \n",
       "\n",
       "      PaymentMethod_Bank transfer (automatic)  \\\n",
       "3347                                        0   \n",
       "6812                                        1   \n",
       "5297                                        1   \n",
       "5511                                        0   \n",
       "5762                                        1   \n",
       "\n",
       "      PaymentMethod_Credit card (automatic)  PaymentMethod_Electronic check  \\\n",
       "3347                                      0                               0   \n",
       "6812                                      0                               0   \n",
       "5297                                      0                               0   \n",
       "5511                                      1                               0   \n",
       "5762                                      0                               0   \n",
       "\n",
       "      PaymentMethod_Mailed check  Contract_One year  Contract_Two year  Churn  \n",
       "3347                           1                  0                  1      0  \n",
       "6812                           0                  0                  0      0  \n",
       "5297                           0                  0                  1      0  \n",
       "5511                           0                  0                  1      0  \n",
       "5762                           0                  0                  0      0  \n",
       "\n",
       "[5 rows x 26 columns]"
      ]
     },
     "execution_count": 7,
     "metadata": {},
     "output_type": "execute_result"
    }
   ],
   "source": [
    "# split data into training and test data\n",
    "from sklearn.model_selection import train_test_split\n",
    "train_data, test_data = train_test_split(complete_data,test_size=0.25)\n",
    "train_data.head()"
   ]
  },
  {
   "cell_type": "code",
   "execution_count": 10,
   "metadata": {},
   "outputs": [],
   "source": [
    "train_data.to_csv(\"traindata.csv\")"
   ]
  },
  {
   "cell_type": "code",
   "execution_count": 11,
   "metadata": {},
   "outputs": [
    {
     "name": "stdout",
     "output_type": "stream",
     "text": [
      "Uploading an estimated of 12 files\n",
      "Target already exists. Skipping upload for .amlignore\n",
      "Target already exists. Skipping upload for .amlignore.amltmp\n",
      "Target already exists. Skipping upload for automl.ipynb\n",
      "Target already exists. Skipping upload for hyperparameter_tuning (1).ipynb\n",
      "Target already exists. Skipping upload for hyperparameter_tuning.ipynb\n",
      "Target already exists. Skipping upload for model_training.py\n",
      "Target already exists. Skipping upload for README.md\n",
      "Target already exists. Skipping upload for score.py\n",
      "Target already exists. Skipping upload for train.py\n",
      "Target already exists. Skipping upload for traindata.csv\n",
      "Target already exists. Skipping upload for .ipynb_checkpoints/automl-checkpoint.ipynb\n",
      "Target already exists. Skipping upload for __pycache__/train.cpython-36.pyc\n",
      "Uploaded 0 files\n"
     ]
    }
   ],
   "source": [
    "data_store = ws.get_default_datastore()\n",
    "data_store.upload(src_dir='./',target_path='./')\n",
    "ftrain_data = Dataset.Tabular.from_delimited_files(path = [(data_store, './traindata.csv')])"
   ]
  },
  {
   "cell_type": "code",
   "execution_count": 12,
   "metadata": {},
   "outputs": [],
   "source": [
    "temp = ftrain_data.drop_columns('Column1')"
   ]
  },
  {
   "cell_type": "markdown",
   "metadata": {},
   "source": [
    "## AutoML Configuration\n",
    "\n",
    "TODO: Explain why you chose the automl settings and cofiguration you used below."
   ]
  },
  {
   "cell_type": "code",
   "execution_count": 13,
   "metadata": {
    "collapsed": false,
    "gather": {
     "logged": 1598429217746
    },
    "jupyter": {
     "outputs_hidden": false,
     "source_hidden": false
    },
    "nteract": {
     "transient": {
      "deleting": false
     }
    }
   },
   "outputs": [],
   "source": [
    "# TODO: Put your automl settings here\n",
    "automl_settings = {    \n",
    "    \"experiment_timeout_minutes\": 25,\n",
    "    \"max_concurrent_iterations\": 5,\n",
    "    \"primary_metric\" : 'AUC_weighted'}\n",
    "\n",
    "# TODO: Put your automl config here\n",
    "automl_config = AutoMLConfig(\n",
    "                             compute_target=comp_trget,\n",
    "                             task = \"classification\",\n",
    "                             training_data=temp,\n",
    "                             label_column_name=\"Churn\",   \n",
    "                             enable_early_stopping= True,\n",
    "                             featurization= 'auto',\n",
    "                             n_cross_validations=7,\n",
    "                             debug_log = \"automl_errors.log\",\n",
    "                             **automl_settings\n",
    ")"
   ]
  },
  {
   "cell_type": "code",
   "execution_count": 14,
   "metadata": {
    "collapsed": false,
    "gather": {
     "logged": 1598431107951
    },
    "jupyter": {
     "outputs_hidden": false,
     "source_hidden": false
    },
    "nteract": {
     "transient": {
      "deleting": false
     }
    }
   },
   "outputs": [
    {
     "name": "stdout",
     "output_type": "stream",
     "text": [
      "Submitting remote run.\n",
      "No run_configuration provided, running on automl-cluster with default configuration\n",
      "Running on remote compute: automl-cluster\n"
     ]
    },
    {
     "data": {
      "text/html": [
       "<table style=\"width:100%\"><tr><th>Experiment</th><th>Id</th><th>Type</th><th>Status</th><th>Details Page</th><th>Docs Page</th></tr><tr><td>capstone-project</td><td>AutoML_feaa7dba-4f2b-4bc6-93f6-8f0a2289bedf</td><td>automl</td><td>NotStarted</td><td><a href=\"https://ml.azure.com/runs/AutoML_feaa7dba-4f2b-4bc6-93f6-8f0a2289bedf?wsid=/subscriptions/f5091c60-1c3c-430f-8d81-d802f6bf2414/resourcegroups/aml-quickstarts-159386/workspaces/quick-starts-ws-159386&amp;tid=660b3398-b80e-49d2-bc5b-ac1dc93b5254\" target=\"_blank\" rel=\"noopener\">Link to Azure Machine Learning studio</a></td><td><a href=\"https://docs.microsoft.com/en-us/python/api/overview/azure/ml/intro?view=azure-ml-py\" target=\"_blank\" rel=\"noopener\">Link to Documentation</a></td></tr></table>"
      ],
      "text/plain": [
       "<IPython.core.display.HTML object>"
      ]
     },
     "metadata": {},
     "output_type": "display_data"
    },
    {
     "name": "stdout",
     "output_type": "stream",
     "text": [
      "\n",
      "Current status: FeaturesGeneration. Generating features for the dataset.\n",
      "Current status: DatasetCrossValidationSplit. Generating individually featurized CV splits.\n",
      "Current status: ModelSelection. Beginning model selection.\n",
      "\n",
      "****************************************************************************************************\n",
      "DATA GUARDRAILS: \n",
      "\n",
      "TYPE:         Class balancing detection\n",
      "STATUS:       PASSED\n",
      "DESCRIPTION:  Your inputs were analyzed, and all classes are balanced in your training data.\n",
      "              Learn more about imbalanced data: https://aka.ms/AutomatedMLImbalancedData\n",
      "\n",
      "****************************************************************************************************\n",
      "\n",
      "TYPE:         Missing feature values imputation\n",
      "STATUS:       PASSED\n",
      "DESCRIPTION:  No feature missing values were detected in the training data.\n",
      "              Learn more about missing value imputation: https://aka.ms/AutomatedMLFeaturization\n",
      "\n",
      "****************************************************************************************************\n",
      "\n",
      "TYPE:         High cardinality feature detection\n",
      "STATUS:       DONE\n",
      "DESCRIPTION:  The training data had the following high cardinality features which were excluded for training. Please review your data source and possibly filter out these columns. If you want to include these features for training, you can override column purpose with appropriate column type.\n",
      "              Learn more about high cardinality feature handling: https://aka.ms/AutomatedMLFeaturization\n",
      "DETAILS:      High cardinality features refer to columns that contain a large percentage of unique values.\n",
      "+---------------------------------+---------------------------------+\n",
      "|Column name                      |Column Content Type              |\n",
      "+=================================+=================================+\n",
      "|customerID                       |hashes                           |\n",
      "+---------------------------------+---------------------------------+\n",
      "\n",
      "****************************************************************************************************\n",
      "\n",
      "****************************************************************************************************\n",
      "ITERATION: The iteration being evaluated.\n",
      "PIPELINE: A summary description of the pipeline being evaluated.\n",
      "DURATION: Time taken for the current iteration.\n",
      "METRIC: The result of computing score on the fitted pipeline.\n",
      "BEST: The best observed score thus far.\n",
      "****************************************************************************************************\n",
      "\n",
      " ITERATION   PIPELINE                                       DURATION      METRIC      BEST\n",
      "         1   MaxAbsScaler XGBoostClassifier                 0:00:42       0.8462    0.8462\n",
      "         0   MaxAbsScaler LightGBM                          0:00:42       0.8322    0.8462\n",
      "         3   MaxAbsScaler RandomForest                      0:00:38       0.8436    0.8462\n",
      "         2   MaxAbsScaler ExtremeRandomTrees                0:00:45       0.8389    0.8462\n",
      "         5   SparseNormalizer XGBoostClassifier             0:01:43       0.8370    0.8462\n",
      "         7   MinMaxScaler RandomForest                      0:00:42       0.8347    0.8462\n",
      "         4   StandardScalerWrapper LightGBM                 0:01:54       0.8449    0.8462\n",
      "         6   SparseNormalizer RandomForest                  0:01:50       0.8445    0.8462\n",
      "         8   StandardScalerWrapper LogisticRegression       0:00:41       0.8458    0.8462\n",
      "        10   RobustScaler ExtremeRandomTrees                0:00:39       0.8231    0.8462\n",
      "        11   SparseNormalizer XGBoostClassifier             0:00:41       0.8312    0.8462\n",
      "         9   StandardScalerWrapper XGBoostClassifier        0:00:40       0.8300    0.8462\n",
      "        12   MinMaxScaler ExtremeRandomTrees                0:00:40       0.8425    0.8462\n",
      "        13   MinMaxScaler ExtremeRandomTrees                0:00:40       0.8429    0.8462\n",
      "        14   SparseNormalizer LightGBM                      0:00:38       0.8400    0.8462\n",
      "        15   MaxAbsScaler ExtremeRandomTrees                0:00:51       0.8449    0.8462\n",
      "        16   StandardScalerWrapper XGBoostClassifier        0:00:42       0.8421    0.8462\n",
      "        17   StandardScalerWrapper RandomForest             0:00:44       0.8268    0.8462\n",
      "        18   MaxAbsScaler LightGBM                          0:00:39       0.8445    0.8462\n",
      "        19   MaxAbsScaler LogisticRegression                0:00:39       0.8455    0.8462\n",
      "        21   StandardScalerWrapper XGBoostClassifier        0:00:39       0.8376    0.8462\n",
      "        22   MaxAbsScaler LogisticRegression                0:00:39       0.8458    0.8462\n",
      "        20   StandardScalerWrapper ExtremeRandomTrees       0:00:52       0.8421    0.8462\n",
      "        23   StandardScalerWrapper XGBoostClassifier        0:00:40       0.8345    0.8462\n",
      "        24   StandardScalerWrapper XGBoostClassifier        0:00:41       0.8443    0.8462\n",
      "        25   PCA XGBoostClassifier                          0:00:40       0.6583    0.8462\n",
      "        26   MaxAbsScaler LogisticRegression                0:00:40       0.8457    0.8462\n",
      "        27   MinMaxScaler LogisticRegression                0:00:45       0.8456    0.8462\n",
      "        28   SparseNormalizer LightGBM                      0:00:40       0.8436    0.8462\n",
      "        29   SparseNormalizer XGBoostClassifier             0:00:56       0.8231    0.8462\n",
      "        31   RobustScaler LightGBM                          0:00:40       0.8474    0.8474\n",
      "        30   SparseNormalizer XGBoostClassifier             0:01:12       0.8099    0.8474\n",
      "        32   StandardScalerWrapper LightGBM                 0:00:42       0.8462    0.8474\n",
      "        33   RobustScaler LogisticRegression                0:00:40       0.8457    0.8474\n",
      "        34   RobustScaler LightGBM                          0:00:43       0.8463    0.8474\n",
      "        35   PCA LightGBM                                   0:00:42       0.6652    0.8474\n",
      "        36   TruncatedSVDWrapper XGBoostClassifier          0:00:46       0.8262    0.8474\n",
      "        37   StandardScalerWrapper LogisticRegression       0:00:41       0.8458    0.8474\n",
      "        38   StandardScalerWrapper GradientBoosting         0:00:47       0.8375    0.8474\n",
      "        39   MaxAbsScaler GradientBoosting                  0:00:44       0.8456    0.8474\n",
      "        40   PCA LightGBM                                   0:00:38       0.6672    0.8474\n",
      "        41   MinMaxScaler LightGBM                          0:00:41       0.8467    0.8474\n",
      "        42   MinMaxScaler LightGBM                          0:00:42       0.8470    0.8474\n",
      "        43   StandardScalerWrapper LightGBM                 0:00:45       0.8471    0.8474\n",
      "        44   StandardScalerWrapper XGBoostClassifier        0:00:40       0.8490    0.8490\n",
      "        45   RobustScaler LightGBM                          0:00:41       0.8449    0.8490\n",
      "        47   StandardScalerWrapper LogisticRegression       0:00:42       0.8458    0.8490\n",
      "        48   MaxAbsScaler LightGBM                          0:00:50       0.8491    0.8491\n",
      "        49   RobustScaler LogisticRegression                0:00:40       0.8458    0.8491\n",
      "        46   StandardScalerWrapper XGBoostClassifier        0:01:52       0.8097    0.8491\n",
      "        50   StandardScalerWrapper XGBoostClassifier        0:00:45       0.8355    0.8491\n",
      "        51   StandardScalerWrapper ExtremeRandomTrees       0:00:39       0.8254    0.8491\n",
      "        52   MaxAbsScaler ExtremeRandomTrees                0:00:45       0.8438    0.8491\n",
      "        54   StandardScalerWrapper LogisticRegression       0:00:39       0.8457    0.8491\n",
      "        53   RobustScaler LogisticRegression                0:00:49       0.8456    0.8491\n",
      "        55   StandardScalerWrapper LightGBM                 0:00:48       0.8082    0.8491\n",
      "        56   MinMaxScaler ExtremeRandomTrees                0:00:47       0.8332    0.8491\n",
      "        58   MaxAbsScaler RandomForest                      0:00:42       0.8272    0.8491\n",
      "        57   StandardScalerWrapper RandomForest             0:00:48       0.8399    0.8491\n",
      "        59   StandardScalerWrapper XGBoostClassifier        0:00:49       0.8308    0.8491\n",
      "        60   RobustScaler LightGBM                          0:00:39       0.8467    0.8491\n",
      "        61   MaxAbsScaler ExtremeRandomTrees                0:00:48       0.8428    0.8491\n",
      "        62   StandardScalerWrapper XGBoostClassifier        0:00:50       0.8333    0.8491\n",
      "        63   StandardScalerWrapper XGBoostClassifier        0:00:25          nan    0.8491\n",
      "        64   SparseNormalizer XGBoostClassifier             0:00:25       0.8380    0.8491\n",
      "        65                                                  0:00:33          nan    0.8491\n",
      "        66                                                  0:00:04          nan    0.8491\n",
      "        67    VotingEnsemble                                0:01:23       0.8507    0.8507\n",
      "        68    StackEnsemble                                 0:01:30       0.8503    0.8507\n"
     ]
    }
   ],
   "source": [
    "# TODO: Submit your experiment\n",
    "remote_run = experiment.submit(automl_config, show_output = True)\n"
   ]
  },
  {
   "cell_type": "markdown",
   "metadata": {},
   "source": [
    "## Run Details\n",
    "\n",
    "OPTIONAL: Write about the different models trained and their performance. Why do you think some models did better than others?\n",
    "\n",
    "TODO: In the cell below, use the `RunDetails` widget to show the different experiments."
   ]
  },
  {
   "cell_type": "code",
   "execution_count": 15,
   "metadata": {
    "collapsed": false,
    "gather": {
     "logged": 1598431121770
    },
    "jupyter": {
     "outputs_hidden": false,
     "source_hidden": false
    },
    "nteract": {
     "transient": {
      "deleting": false
     }
    }
   },
   "outputs": [
    {
     "data": {
      "application/vnd.jupyter.widget-view+json": {
       "model_id": "5ad8d9a3c6af4ebab2da12d0307434a6",
       "version_major": 2,
       "version_minor": 0
      },
      "text/plain": [
       "_AutoMLWidget(widget_settings={'childWidgetDisplay': 'popup', 'send_telemetry': False, 'log_level': 'INFO', 's…"
      ]
     },
     "metadata": {},
     "output_type": "display_data"
    },
    {
     "data": {
      "application/aml.mini.widget.v1": "{\"status\": \"Completed\", \"workbench_run_details_uri\": \"https://ml.azure.com/runs/AutoML_feaa7dba-4f2b-4bc6-93f6-8f0a2289bedf?wsid=/subscriptions/f5091c60-1c3c-430f-8d81-d802f6bf2414/resourcegroups/aml-quickstarts-159386/workspaces/quick-starts-ws-159386&tid=660b3398-b80e-49d2-bc5b-ac1dc93b5254\", \"run_id\": \"AutoML_feaa7dba-4f2b-4bc6-93f6-8f0a2289bedf\", \"run_properties\": {\"run_id\": \"AutoML_feaa7dba-4f2b-4bc6-93f6-8f0a2289bedf\", \"created_utc\": \"2021-09-26T23:14:39.273592Z\", \"properties\": {\"num_iterations\": \"1000\", \"training_type\": \"TrainFull\", \"acquisition_function\": \"EI\", \"primary_metric\": \"AUC_weighted\", \"train_split\": \"0\", \"acquisition_parameter\": \"0\", \"num_cross_validation\": \"7\", \"target\": \"automl-cluster\", \"AMLSettingsJsonString\": \"{\\\"path\\\":null,\\\"name\\\":\\\"capstone-project\\\",\\\"subscription_id\\\":\\\"f5091c60-1c3c-430f-8d81-d802f6bf2414\\\",\\\"resource_group\\\":\\\"aml-quickstarts-159386\\\",\\\"workspace_name\\\":\\\"quick-starts-ws-159386\\\",\\\"region\\\":\\\"southcentralus\\\",\\\"compute_target\\\":\\\"automl-cluster\\\",\\\"spark_service\\\":null,\\\"azure_service\\\":\\\"remote\\\",\\\"many_models\\\":false,\\\"pipeline_fetch_max_batch_size\\\":1,\\\"enable_batch_run\\\":false,\\\"enable_run_restructure\\\":false,\\\"start_auxiliary_runs_before_parent_complete\\\":false,\\\"enable_code_generation\\\":false,\\\"iterations\\\":1000,\\\"primary_metric\\\":\\\"AUC_weighted\\\",\\\"task_type\\\":\\\"classification\\\",\\\"data_script\\\":null,\\\"test_size\\\":0.0,\\\"validation_size\\\":0.0,\\\"n_cross_validations\\\":7,\\\"y_min\\\":null,\\\"y_max\\\":null,\\\"num_classes\\\":null,\\\"featurization\\\":\\\"auto\\\",\\\"_ignore_package_version_incompatibilities\\\":false,\\\"is_timeseries\\\":false,\\\"max_cores_per_iteration\\\":1,\\\"max_concurrent_iterations\\\":5,\\\"iteration_timeout_minutes\\\":null,\\\"mem_in_mb\\\":null,\\\"enforce_time_on_windows\\\":false,\\\"experiment_timeout_minutes\\\":25,\\\"experiment_exit_score\\\":null,\\\"whitelist_models\\\":null,\\\"blacklist_algos\\\":[\\\"TensorFlowLinearClassifier\\\",\\\"TensorFlowDNN\\\"],\\\"supported_models\\\":[\\\"GradientBoosting\\\",\\\"RandomForest\\\",\\\"SGD\\\",\\\"TensorFlowDNN\\\",\\\"XGBoostClassifier\\\",\\\"LinearSVM\\\",\\\"SVM\\\",\\\"LightGBM\\\",\\\"AveragedPerceptronClassifier\\\",\\\"BernoulliNaiveBayes\\\",\\\"ExtremeRandomTrees\\\",\\\"TensorFlowLinearClassifier\\\",\\\"LogisticRegression\\\",\\\"KNN\\\",\\\"DecisionTree\\\",\\\"MultinomialNaiveBayes\\\"],\\\"private_models\\\":[],\\\"auto_blacklist\\\":true,\\\"blacklist_samples_reached\\\":false,\\\"exclude_nan_labels\\\":true,\\\"verbosity\\\":20,\\\"_debug_log\\\":\\\"azureml_automl.log\\\",\\\"show_warnings\\\":false,\\\"model_explainability\\\":true,\\\"service_url\\\":null,\\\"sdk_url\\\":null,\\\"sdk_packages\\\":null,\\\"enable_onnx_compatible_models\\\":false,\\\"enable_split_onnx_featurizer_estimator_models\\\":false,\\\"vm_type\\\":\\\"STANDARD_D2_V2\\\",\\\"telemetry_verbosity\\\":20,\\\"send_telemetry\\\":true,\\\"enable_dnn\\\":false,\\\"scenario\\\":\\\"SDK-1.13.0\\\",\\\"environment_label\\\":null,\\\"save_mlflow\\\":false,\\\"force_text_dnn\\\":false,\\\"enable_feature_sweeping\\\":true,\\\"enable_early_stopping\\\":true,\\\"early_stopping_n_iters\\\":10,\\\"metrics\\\":null,\\\"enable_metric_confidence\\\":false,\\\"enable_ensembling\\\":true,\\\"enable_stack_ensembling\\\":true,\\\"ensemble_iterations\\\":15,\\\"enable_tf\\\":false,\\\"enable_subsampling\\\":null,\\\"subsample_seed\\\":null,\\\"enable_nimbusml\\\":false,\\\"enable_streaming\\\":false,\\\"force_streaming\\\":false,\\\"track_child_runs\\\":true,\\\"allowed_private_models\\\":[],\\\"label_column_name\\\":\\\"Churn\\\",\\\"weight_column_name\\\":null,\\\"cv_split_column_names\\\":null,\\\"enable_local_managed\\\":false,\\\"_local_managed_run_id\\\":null,\\\"cost_mode\\\":1,\\\"lag_length\\\":0,\\\"metric_operation\\\":\\\"maximize\\\",\\\"preprocess\\\":true}\", \"DataPrepJsonString\": \"{\\\\\\\"training_data\\\\\\\": {\\\\\\\"datasetId\\\\\\\": \\\\\\\"4ea0ef64-2bde-4012-8e3a-3c987c917b7e\\\\\\\"}, \\\\\\\"datasets\\\\\\\": 0}\", \"EnableSubsampling\": null, \"runTemplate\": \"AutoML\", \"azureml.runsource\": \"automl\", \"display_task_type\": \"classification\", \"dependencies_versions\": \"{\\\"azureml-widgets\\\": \\\"1.33.0\\\", \\\"azureml-train\\\": \\\"1.33.0\\\", \\\"azureml-train-restclients-hyperdrive\\\": \\\"1.33.0\\\", \\\"azureml-train-core\\\": \\\"1.33.0\\\", \\\"azureml-train-automl\\\": \\\"1.33.0\\\", \\\"azureml-train-automl-runtime\\\": \\\"1.33.0\\\", \\\"azureml-train-automl-client\\\": \\\"1.33.0\\\", \\\"azureml-tensorboard\\\": \\\"1.33.0\\\", \\\"azureml-telemetry\\\": \\\"1.33.0\\\", \\\"azureml-sdk\\\": \\\"1.33.0\\\", \\\"azureml-samples\\\": \\\"0+unknown\\\", \\\"azureml-responsibleai\\\": \\\"1.33.0\\\", \\\"azureml-pipeline\\\": \\\"1.33.0\\\", \\\"azureml-pipeline-steps\\\": \\\"1.33.0\\\", \\\"azureml-pipeline-core\\\": \\\"1.33.0\\\", \\\"azureml-opendatasets\\\": \\\"1.33.0\\\", \\\"azureml-mlflow\\\": \\\"1.33.0\\\", \\\"azureml-interpret\\\": \\\"1.33.0\\\", \\\"azureml-explain-model\\\": \\\"1.33.0\\\", \\\"azureml-defaults\\\": \\\"1.33.0\\\", \\\"azureml-dataset-runtime\\\": \\\"1.33.0\\\", \\\"azureml-dataprep\\\": \\\"2.20.1\\\", \\\"azureml-dataprep-rslex\\\": \\\"1.18.0\\\", \\\"azureml-dataprep-native\\\": \\\"38.0.0\\\", \\\"azureml-datadrift\\\": \\\"1.33.0\\\", \\\"azureml-core\\\": \\\"1.33.0\\\", \\\"azureml-contrib-services\\\": \\\"1.33.0\\\", \\\"azureml-contrib-server\\\": \\\"1.33.0\\\", \\\"azureml-contrib-reinforcementlearning\\\": \\\"1.33.0\\\", \\\"azureml-contrib-pipeline-steps\\\": \\\"1.33.0\\\", \\\"azureml-contrib-notebook\\\": \\\"1.33.0\\\", \\\"azureml-contrib-fairness\\\": \\\"1.33.0\\\", \\\"azureml-contrib-dataset\\\": \\\"1.33.0\\\", \\\"azureml-cli-common\\\": \\\"1.33.0\\\", \\\"azureml-automl-runtime\\\": \\\"1.33.0\\\", \\\"azureml-automl-dnn-nlp\\\": \\\"1.33.0\\\", \\\"azureml-automl-core\\\": \\\"1.33.0\\\", \\\"azureml-accel-models\\\": \\\"1.33.0\\\"}\", \"_aml_system_scenario_identification\": \"Remote.Parent\", \"ClientType\": \"SDK\", \"environment_cpu_name\": \"AzureML-AutoML\", \"environment_cpu_label\": \"prod\", \"environment_gpu_name\": \"AzureML-AutoML-GPU\", \"environment_gpu_label\": \"prod\", \"root_attribution\": \"automl\", \"attribution\": \"AutoML\", \"Orchestrator\": \"AutoML\", \"CancelUri\": \"https://southcentralus.api.azureml.ms/jasmine/v1.0/subscriptions/f5091c60-1c3c-430f-8d81-d802f6bf2414/resourceGroups/aml-quickstarts-159386/providers/Microsoft.MachineLearningServices/workspaces/quick-starts-ws-159386/experimentids/0f7bb793-2375-4ad3-8c5a-35f073c70b2a/cancel/AutoML_feaa7dba-4f2b-4bc6-93f6-8f0a2289bedf\", \"ClientSdkVersion\": \"1.34.0.post1\", \"snapshotId\": \"00000000-0000-0000-0000-000000000000\", \"SetupRunId\": \"AutoML_feaa7dba-4f2b-4bc6-93f6-8f0a2289bedf_setup\", \"SetupRunContainerId\": \"dcid.AutoML_feaa7dba-4f2b-4bc6-93f6-8f0a2289bedf_setup\", \"FeaturizationRunJsonPath\": \"featurizer_container.json\", \"FeaturizationRunId\": \"AutoML_feaa7dba-4f2b-4bc6-93f6-8f0a2289bedf_featurize\", \"ProblemInfoJsonString\": \"{\\\"dataset_num_categorical\\\": 0, \\\"is_sparse\\\": false, \\\"subsampling\\\": false, \\\"has_extra_col\\\": true, \\\"dataset_classes\\\": 2, \\\"dataset_features\\\": 24, \\\"dataset_samples\\\": 5274, \\\"single_frequency_class_detected\\\": false}\", \"ModelExplainRunId\": \"AutoML_feaa7dba-4f2b-4bc6-93f6-8f0a2289bedf_ModelExplain\"}, \"tags\": {\"model_explain_run\": \"best_run\", \"_aml_system_azureml.automlComponent\": \"AutoML\", \"pipeline_id\": \"\", \"score\": \"\", \"predicted_cost\": \"\", \"fit_time\": \"\", \"training_percent\": \"\", \"iteration\": \"\", \"run_preprocessor\": \"\", \"run_algorithm\": \"\", \"dynamic_whitelisting_iterations\": \"<25>;<30>;<35>;<40>;<45>;<50>;<55>;<60>;<65>;\", \"automl_best_child_run_id\": \"AutoML_feaa7dba-4f2b-4bc6-93f6-8f0a2289bedf_67\", \"model_explain_best_run_child_id\": \"AutoML_feaa7dba-4f2b-4bc6-93f6-8f0a2289bedf_67\"}, \"end_time_utc\": \"2021-09-26T23:46:14.124693Z\", \"status\": \"Completed\", \"log_files\": {}, \"log_groups\": [], \"run_duration\": \"0:31:34\", \"run_number\": \"1\", \"run_queued_details\": {\"status\": \"Completed\", \"details\": null}}, \"child_runs\": [{\"run_id\": \"AutoML_feaa7dba-4f2b-4bc6-93f6-8f0a2289bedf_0\", \"run_number\": 5, \"metric\": null, \"status\": \"Completed\", \"run_type\": \"azureml.scriptrun\", \"training_percent\": \"100\", \"start_time\": \"2021-09-26T23:26:32.783529Z\", \"end_time\": \"2021-09-26T23:27:15.279304Z\", \"created_time\": \"2021-09-26T23:25:21.970185Z\", \"created_time_dt\": \"2021-09-26T23:25:21.970185Z\", \"duration\": \"0:01:53\", \"iteration\": \"0\", \"goal\": \"AUC_weighted_max\", \"run_name\": \"MaxAbsScaler, LightGBM\", \"run_properties\": \"copy=True\", \"primary_metric\": 0.83224321, \"best_metric\": 0.83224321}, {\"run_id\": \"AutoML_feaa7dba-4f2b-4bc6-93f6-8f0a2289bedf_4\", \"run_number\": 6, \"metric\": null, \"status\": \"Completed\", \"run_type\": \"azureml.scriptrun\", \"training_percent\": \"100\", \"start_time\": \"2021-09-26T23:28:33.092176Z\", \"end_time\": \"2021-09-26T23:30:26.923453Z\", \"created_time\": \"2021-09-26T23:25:21.977882Z\", \"created_time_dt\": \"2021-09-26T23:25:21.977882Z\", \"duration\": \"0:05:04\", \"iteration\": \"4\", \"goal\": \"AUC_weighted_max\", \"run_name\": \"StandardScalerWrapper, LightGBM\", \"run_properties\": \"\\n    copy=True,\\n    with_mean=False,\\n    with_std=True\\n\", \"primary_metric\": 0.84492308, \"best_metric\": 0.84621717}, {\"run_id\": \"AutoML_feaa7dba-4f2b-4bc6-93f6-8f0a2289bedf_1\", \"run_number\": 7, \"metric\": null, \"status\": \"Completed\", \"run_type\": \"azureml.scriptrun\", \"training_percent\": \"100\", \"start_time\": \"2021-09-26T23:25:36.295355Z\", \"end_time\": \"2021-09-26T23:26:18.459262Z\", \"created_time\": \"2021-09-26T23:25:21.989304Z\", \"created_time_dt\": \"2021-09-26T23:25:21.989304Z\", \"duration\": \"0:00:56\", \"iteration\": \"1\", \"goal\": \"AUC_weighted_max\", \"run_name\": \"MaxAbsScaler, XGBoostClassifier\", \"run_properties\": \"copy=True\", \"primary_metric\": 0.84621717, \"best_metric\": 0.84621717}, {\"run_id\": \"AutoML_feaa7dba-4f2b-4bc6-93f6-8f0a2289bedf_3\", \"run_number\": 8, \"metric\": null, \"status\": \"Completed\", \"run_type\": \"azureml.scriptrun\", \"training_percent\": \"100\", \"start_time\": \"2021-09-26T23:27:31.672091Z\", \"end_time\": \"2021-09-26T23:28:09.872608Z\", \"created_time\": \"2021-09-26T23:25:22.060735Z\", \"created_time_dt\": \"2021-09-26T23:25:22.060735Z\", \"duration\": \"0:02:47\", \"iteration\": \"3\", \"goal\": \"AUC_weighted_max\", \"run_name\": \"MaxAbsScaler, RandomForest\", \"run_properties\": \"copy=True\", \"primary_metric\": 0.843602, \"best_metric\": 0.84621717}, {\"run_id\": \"AutoML_feaa7dba-4f2b-4bc6-93f6-8f0a2289bedf_2\", \"run_number\": 9, \"metric\": null, \"status\": \"Completed\", \"run_type\": \"azureml.scriptrun\", \"training_percent\": \"100\", \"start_time\": \"2021-09-26T23:28:26.156712Z\", \"end_time\": \"2021-09-26T23:29:11.385309Z\", \"created_time\": \"2021-09-26T23:25:21.985048Z\", \"created_time_dt\": \"2021-09-26T23:25:21.985048Z\", \"duration\": \"0:03:49\", \"iteration\": \"2\", \"goal\": \"AUC_weighted_max\", \"run_name\": \"MaxAbsScaler, ExtremeRandomTrees\", \"run_properties\": \"copy=True\", \"primary_metric\": 0.83887756, \"best_metric\": 0.84621717}, {\"run_id\": \"AutoML_feaa7dba-4f2b-4bc6-93f6-8f0a2289bedf_5\", \"run_number\": 10, \"metric\": null, \"status\": \"Completed\", \"run_type\": \"azureml.scriptrun\", \"training_percent\": \"100\", \"start_time\": \"2021-09-26T23:28:33.909076Z\", \"end_time\": \"2021-09-26T23:30:17.205058Z\", \"created_time\": \"2021-09-26T23:26:20.07354Z\", \"created_time_dt\": \"2021-09-26T23:26:20.07354Z\", \"duration\": \"0:03:57\", \"iteration\": \"5\", \"goal\": \"AUC_weighted_max\", \"run_name\": \"SparseNormalizer, XGBoostClassifier\", \"run_properties\": \"copy=True, norm='max'\", \"primary_metric\": 0.83700196, \"best_metric\": 0.84621717}, {\"run_id\": \"AutoML_feaa7dba-4f2b-4bc6-93f6-8f0a2289bedf_6\", \"run_number\": 11, \"metric\": null, \"status\": \"Completed\", \"run_type\": \"azureml.scriptrun\", \"training_percent\": \"100\", \"start_time\": \"2021-09-26T23:28:32.073969Z\", \"end_time\": \"2021-09-26T23:30:21.651157Z\", \"created_time\": \"2021-09-26T23:27:16.975316Z\", \"created_time_dt\": \"2021-09-26T23:27:16.975316Z\", \"duration\": \"0:03:04\", \"iteration\": \"6\", \"goal\": \"AUC_weighted_max\", \"run_name\": \"SparseNormalizer, RandomForest\", \"run_properties\": \"copy=True, norm='l2'\", \"primary_metric\": 0.84450681, \"best_metric\": 0.84621717}, {\"run_id\": \"AutoML_feaa7dba-4f2b-4bc6-93f6-8f0a2289bedf_7\", \"run_number\": 12, \"metric\": null, \"status\": \"Completed\", \"run_type\": \"azureml.scriptrun\", \"training_percent\": \"100\", \"start_time\": \"2021-09-26T23:29:27.790981Z\", \"end_time\": \"2021-09-26T23:30:09.591317Z\", \"created_time\": \"2021-09-26T23:28:13.187101Z\", \"created_time_dt\": \"2021-09-26T23:28:13.187101Z\", \"duration\": \"0:01:56\", \"iteration\": \"7\", \"goal\": \"AUC_weighted_max\", \"run_name\": \"MinMaxScaler, RandomForest\", \"run_properties\": \"copy=True, feature_range=(0, 1\", \"primary_metric\": 0.83466801, \"best_metric\": 0.84621717}, {\"run_id\": \"AutoML_feaa7dba-4f2b-4bc6-93f6-8f0a2289bedf_8\", \"run_number\": 13, \"metric\": null, \"status\": \"Completed\", \"run_type\": \"azureml.scriptrun\", \"training_percent\": \"100\", \"start_time\": \"2021-09-26T23:30:27.457528Z\", \"end_time\": \"2021-09-26T23:31:08.754913Z\", \"created_time\": \"2021-09-26T23:29:14.449688Z\", \"created_time_dt\": \"2021-09-26T23:29:14.449688Z\", \"duration\": \"0:01:54\", \"iteration\": \"8\", \"goal\": \"AUC_weighted_max\", \"run_name\": \"StandardScalerWrapper, LogisticRegression\", \"run_properties\": \"\\n    copy=True,\\n    with_mean=True,\\n    with_std=True\\n\", \"primary_metric\": 0.84579921, \"best_metric\": 0.84621717}, {\"run_id\": \"AutoML_feaa7dba-4f2b-4bc6-93f6-8f0a2289bedf_9\", \"run_number\": 14, \"metric\": null, \"status\": \"Completed\", \"run_type\": \"azureml.scriptrun\", \"training_percent\": \"100\", \"start_time\": \"2021-09-26T23:30:33.441788Z\", \"end_time\": \"2021-09-26T23:31:13.650636Z\", \"created_time\": \"2021-09-26T23:30:12.443271Z\", \"created_time_dt\": \"2021-09-26T23:30:12.443271Z\", \"duration\": \"0:01:01\", \"iteration\": \"9\", \"goal\": \"AUC_weighted_max\", \"run_name\": \"StandardScalerWrapper, XGBoostClassifier\", \"run_properties\": \"\\n    copy=True,\\n    with_mean=False,\\n    with_std=False\\n\", \"primary_metric\": 0.8299603, \"best_metric\": 0.84621717}, {\"run_id\": \"AutoML_feaa7dba-4f2b-4bc6-93f6-8f0a2289bedf_10\", \"run_number\": 15, \"metric\": null, \"status\": \"Completed\", \"run_type\": \"azureml.scriptrun\", \"training_percent\": \"100\", \"start_time\": \"2021-09-26T23:30:36.528678Z\", \"end_time\": \"2021-09-26T23:31:15.840118Z\", \"created_time\": \"2021-09-26T23:30:20.093909Z\", \"created_time_dt\": \"2021-09-26T23:30:20.093909Z\", \"duration\": \"0:00:55\", \"iteration\": \"10\", \"goal\": \"AUC_weighted_max\", \"run_name\": \"RobustScaler, ExtremeRandomTrees\", \"run_properties\": \"copy=True, quantile_range=[10, 90], with_centering=True,\\n             with_scaling=False\", \"primary_metric\": 0.82308991, \"best_metric\": 0.84621717}, {\"run_id\": \"AutoML_feaa7dba-4f2b-4bc6-93f6-8f0a2289bedf_11\", \"run_number\": 16, \"metric\": null, \"status\": \"Completed\", \"run_type\": \"azureml.scriptrun\", \"training_percent\": \"100\", \"start_time\": \"2021-09-26T23:30:42.62783Z\", \"end_time\": \"2021-09-26T23:31:23.682563Z\", \"created_time\": \"2021-09-26T23:30:24.581379Z\", \"created_time_dt\": \"2021-09-26T23:30:24.581379Z\", \"duration\": \"0:00:59\", \"iteration\": \"11\", \"goal\": \"AUC_weighted_max\", \"run_name\": \"SparseNormalizer, XGBoostClassifier\", \"run_properties\": \"copy=True, norm='max'\", \"primary_metric\": 0.83116388, \"best_metric\": 0.84621717}, {\"run_id\": \"AutoML_feaa7dba-4f2b-4bc6-93f6-8f0a2289bedf_12\", \"run_number\": 17, \"metric\": null, \"status\": \"Completed\", \"run_type\": \"azureml.scriptrun\", \"training_percent\": \"100\", \"start_time\": \"2021-09-26T23:31:24.139186Z\", \"end_time\": \"2021-09-26T23:32:03.88964Z\", \"created_time\": \"2021-09-26T23:30:29.837834Z\", \"created_time_dt\": \"2021-09-26T23:30:29.837834Z\", \"duration\": \"0:01:34\", \"iteration\": \"12\", \"goal\": \"AUC_weighted_max\", \"run_name\": \"MinMaxScaler, ExtremeRandomTrees\", \"run_properties\": \"copy=True, feature_range=(0, 1\", \"primary_metric\": 0.84246341, \"best_metric\": 0.84621717}, {\"run_id\": \"AutoML_feaa7dba-4f2b-4bc6-93f6-8f0a2289bedf_13\", \"run_number\": 18, \"metric\": null, \"status\": \"Completed\", \"run_type\": \"azureml.scriptrun\", \"training_percent\": \"100\", \"start_time\": \"2021-09-26T23:31:31.020578Z\", \"end_time\": \"2021-09-26T23:32:11.098367Z\", \"created_time\": \"2021-09-26T23:31:11.686086Z\", \"created_time_dt\": \"2021-09-26T23:31:11.686086Z\", \"duration\": \"0:00:59\", \"iteration\": \"13\", \"goal\": \"AUC_weighted_max\", \"run_name\": \"MinMaxScaler, ExtremeRandomTrees\", \"run_properties\": \"copy=True, feature_range=(0, 1\", \"primary_metric\": 0.84291701, \"best_metric\": 0.84621717}, {\"run_id\": \"AutoML_feaa7dba-4f2b-4bc6-93f6-8f0a2289bedf_14\", \"run_number\": 19, \"metric\": null, \"status\": \"Completed\", \"run_type\": \"azureml.scriptrun\", \"training_percent\": \"100\", \"start_time\": \"2021-09-26T23:31:31.144939Z\", \"end_time\": \"2021-09-26T23:32:08.949313Z\", \"created_time\": \"2021-09-26T23:31:17.127003Z\", \"created_time_dt\": \"2021-09-26T23:31:17.127003Z\", \"duration\": \"0:00:51\", \"iteration\": \"14\", \"goal\": \"AUC_weighted_max\", \"run_name\": \"SparseNormalizer, LightGBM\", \"run_properties\": \"copy=True, norm='l1'\", \"primary_metric\": 0.84002345, \"best_metric\": 0.84621717}, {\"run_id\": \"AutoML_feaa7dba-4f2b-4bc6-93f6-8f0a2289bedf_15\", \"run_number\": 20, \"metric\": null, \"status\": \"Completed\", \"run_type\": \"azureml.scriptrun\", \"training_percent\": \"100\", \"start_time\": \"2021-09-26T23:31:40.196627Z\", \"end_time\": \"2021-09-26T23:32:30.850126Z\", \"created_time\": \"2021-09-26T23:31:21.93136Z\", \"created_time_dt\": \"2021-09-26T23:31:21.93136Z\", \"duration\": \"0:01:08\", \"iteration\": \"15\", \"goal\": \"AUC_weighted_max\", \"run_name\": \"MaxAbsScaler, ExtremeRandomTrees\", \"run_properties\": \"copy=True\", \"primary_metric\": 0.84490658, \"best_metric\": 0.84621717}, {\"run_id\": \"AutoML_feaa7dba-4f2b-4bc6-93f6-8f0a2289bedf_16\", \"run_number\": 21, \"metric\": null, \"status\": \"Completed\", \"run_type\": \"azureml.scriptrun\", \"training_percent\": \"100\", \"start_time\": \"2021-09-26T23:32:20.345768Z\", \"end_time\": \"2021-09-26T23:33:01.955826Z\", \"created_time\": \"2021-09-26T23:31:26.694072Z\", \"created_time_dt\": \"2021-09-26T23:31:26.694072Z\", \"duration\": \"0:01:35\", \"iteration\": \"16\", \"goal\": \"AUC_weighted_max\", \"run_name\": \"StandardScalerWrapper, XGBoostClassifier\", \"run_properties\": \"\\n    copy=True,\\n    with_mean=False,\\n    with_std=False\\n\", \"primary_metric\": 0.84212794, \"best_metric\": 0.84621717}, {\"run_id\": \"AutoML_feaa7dba-4f2b-4bc6-93f6-8f0a2289bedf_17\", \"run_number\": 22, \"metric\": null, \"status\": \"Completed\", \"run_type\": \"azureml.scriptrun\", \"training_percent\": \"100\", \"start_time\": \"2021-09-26T23:32:27.344399Z\", \"end_time\": \"2021-09-26T23:33:11.451193Z\", \"created_time\": \"2021-09-26T23:32:06.723744Z\", \"created_time_dt\": \"2021-09-26T23:32:06.723744Z\", \"duration\": \"0:01:04\", \"iteration\": \"17\", \"goal\": \"AUC_weighted_max\", \"run_name\": \"StandardScalerWrapper, RandomForest\", \"run_properties\": \"\\n    copy=True,\\n    with_mean=False,\\n    with_std=False\\n\", \"primary_metric\": 0.82681251, \"best_metric\": 0.84621717}, {\"run_id\": \"AutoML_feaa7dba-4f2b-4bc6-93f6-8f0a2289bedf_18\", \"run_number\": 23, \"metric\": null, \"status\": \"Completed\", \"run_type\": \"azureml.scriptrun\", \"training_percent\": \"100\", \"start_time\": \"2021-09-26T23:32:31.200608Z\", \"end_time\": \"2021-09-26T23:33:10.441963Z\", \"created_time\": \"2021-09-26T23:32:12.945413Z\", \"created_time_dt\": \"2021-09-26T23:32:12.945413Z\", \"duration\": \"0:00:57\", \"iteration\": \"18\", \"goal\": \"AUC_weighted_max\", \"run_name\": \"MaxAbsScaler, LightGBM\", \"run_properties\": \"copy=True\", \"primary_metric\": 0.84445215, \"best_metric\": 0.84621717}, {\"run_id\": \"AutoML_feaa7dba-4f2b-4bc6-93f6-8f0a2289bedf_19\", \"run_number\": 24, \"metric\": null, \"status\": \"Completed\", \"run_type\": \"azureml.scriptrun\", \"training_percent\": \"100\", \"start_time\": \"2021-09-26T23:32:47.042573Z\", \"end_time\": \"2021-09-26T23:33:25.668719Z\", \"created_time\": \"2021-09-26T23:32:17.002573Z\", \"created_time_dt\": \"2021-09-26T23:32:17.002573Z\", \"duration\": \"0:01:08\", \"iteration\": \"19\", \"goal\": \"AUC_weighted_max\", \"run_name\": \"MaxAbsScaler, LogisticRegression\", \"run_properties\": \"copy=True\", \"primary_metric\": 0.84548997, \"best_metric\": 0.84621717}, {\"run_id\": \"AutoML_feaa7dba-4f2b-4bc6-93f6-8f0a2289bedf_20\", \"run_number\": 25, \"metric\": null, \"status\": \"Completed\", \"run_type\": \"azureml.scriptrun\", \"training_percent\": \"100\", \"start_time\": \"2021-09-26T23:33:19.01342Z\", \"end_time\": \"2021-09-26T23:34:10.521723Z\", \"created_time\": \"2021-09-26T23:32:33.889383Z\", \"created_time_dt\": \"2021-09-26T23:32:33.889383Z\", \"duration\": \"0:01:36\", \"iteration\": \"20\", \"goal\": \"AUC_weighted_max\", \"run_name\": \"StandardScalerWrapper, ExtremeRandomTrees\", \"run_properties\": \"\\n    copy=True,\\n    with_mean=False,\\n    with_std=True\\n\", \"primary_metric\": 0.84206027, \"best_metric\": 0.84621717}, {\"run_id\": \"AutoML_feaa7dba-4f2b-4bc6-93f6-8f0a2289bedf_21\", \"run_number\": 26, \"metric\": null, \"status\": \"Completed\", \"run_type\": \"azureml.scriptrun\", \"training_percent\": \"100\", \"start_time\": \"2021-09-26T23:33:26.238892Z\", \"end_time\": \"2021-09-26T23:34:04.807919Z\", \"created_time\": \"2021-09-26T23:33:05.04957Z\", \"created_time_dt\": \"2021-09-26T23:33:05.04957Z\", \"duration\": \"0:00:59\", \"iteration\": \"21\", \"goal\": \"AUC_weighted_max\", \"run_name\": \"StandardScalerWrapper, XGBoostClassifier\", \"run_properties\": \"\\n    copy=True,\\n    with_mean=False,\\n    with_std=False\\n\", \"primary_metric\": 0.83757876, \"best_metric\": 0.84621717}, {\"run_id\": \"AutoML_feaa7dba-4f2b-4bc6-93f6-8f0a2289bedf_22\", \"run_number\": 27, \"metric\": null, \"status\": \"Completed\", \"run_type\": \"azureml.scriptrun\", \"training_percent\": \"100\", \"start_time\": \"2021-09-26T23:33:26.353052Z\", \"end_time\": \"2021-09-26T23:34:04.938649Z\", \"created_time\": \"2021-09-26T23:33:13.547195Z\", \"created_time_dt\": \"2021-09-26T23:33:13.547195Z\", \"duration\": \"0:00:51\", \"iteration\": \"22\", \"goal\": \"AUC_weighted_max\", \"run_name\": \"MaxAbsScaler, LogisticRegression\", \"run_properties\": \"copy=True\", \"primary_metric\": 0.84579401, \"best_metric\": 0.84621717}, {\"run_id\": \"AutoML_feaa7dba-4f2b-4bc6-93f6-8f0a2289bedf_23\", \"run_number\": 28, \"metric\": null, \"status\": \"Completed\", \"run_type\": \"azureml.scriptrun\", \"training_percent\": \"100\", \"start_time\": \"2021-09-26T23:33:41.248549Z\", \"end_time\": \"2021-09-26T23:34:21.5747Z\", \"created_time\": \"2021-09-26T23:33:17.936287Z\", \"created_time_dt\": \"2021-09-26T23:33:17.936287Z\", \"duration\": \"0:01:03\", \"iteration\": \"23\", \"goal\": \"AUC_weighted_max\", \"run_name\": \"StandardScalerWrapper, XGBoostClassifier\", \"run_properties\": \"\\n    copy=True,\\n    with_mean=False,\\n    with_std=False\\n\", \"primary_metric\": 0.83447707, \"best_metric\": 0.84621717}, {\"run_id\": \"AutoML_feaa7dba-4f2b-4bc6-93f6-8f0a2289bedf_24\", \"run_number\": 29, \"metric\": null, \"status\": \"Completed\", \"run_type\": \"azureml.scriptrun\", \"training_percent\": \"100\", \"start_time\": \"2021-09-26T23:34:19.576296Z\", \"end_time\": \"2021-09-26T23:35:00.72352Z\", \"created_time\": \"2021-09-26T23:33:29.000138Z\", \"created_time_dt\": \"2021-09-26T23:33:29.000138Z\", \"duration\": \"0:01:31\", \"iteration\": \"24\", \"goal\": \"AUC_weighted_max\", \"run_name\": \"StandardScalerWrapper, XGBoostClassifier\", \"run_properties\": \"\\n    copy=True,\\n    with_mean=False,\\n    with_std=False\\n\", \"primary_metric\": 0.84430091, \"best_metric\": 0.84621717}, {\"run_id\": \"AutoML_feaa7dba-4f2b-4bc6-93f6-8f0a2289bedf_25\", \"run_number\": 30, \"metric\": null, \"status\": \"Completed\", \"run_type\": \"azureml.scriptrun\", \"training_percent\": \"100\", \"start_time\": \"2021-09-26T23:34:25.62302Z\", \"end_time\": \"2021-09-26T23:35:06.105527Z\", \"created_time\": \"2021-09-26T23:34:08.007583Z\", \"created_time_dt\": \"2021-09-26T23:34:08.007583Z\", \"duration\": \"0:00:58\", \"iteration\": \"25\", \"goal\": \"AUC_weighted_max\", \"run_name\": \"PCA, XGBoostClassifier\", \"run_properties\": \"copy=True, iterated_power='auto', n_components=0.9005263157894737,\\n    random_state=None, svd_solver='auto', tol=0.0, whiten=False\", \"primary_metric\": 0.65831229, \"best_metric\": 0.84621717}, {\"run_id\": \"AutoML_feaa7dba-4f2b-4bc6-93f6-8f0a2289bedf_26\", \"run_number\": 31, \"metric\": null, \"status\": \"Completed\", \"run_type\": \"azureml.scriptrun\", \"training_percent\": \"100\", \"start_time\": \"2021-09-26T23:34:21.441787Z\", \"end_time\": \"2021-09-26T23:35:01.553819Z\", \"created_time\": \"2021-09-26T23:34:08.027763Z\", \"created_time_dt\": \"2021-09-26T23:34:08.027763Z\", \"duration\": \"0:00:53\", \"iteration\": \"26\", \"goal\": \"AUC_weighted_max\", \"run_name\": \"MaxAbsScaler, LogisticRegression\", \"run_properties\": \"copy=True\", \"primary_metric\": 0.84566803, \"best_metric\": 0.84621717}, {\"run_id\": \"AutoML_feaa7dba-4f2b-4bc6-93f6-8f0a2289bedf_27\", \"run_number\": 32, \"metric\": null, \"status\": \"Completed\", \"run_type\": \"azureml.scriptrun\", \"training_percent\": \"100\", \"start_time\": \"2021-09-26T23:34:35.689154Z\", \"end_time\": \"2021-09-26T23:35:20.65043Z\", \"created_time\": \"2021-09-26T23:34:13.935866Z\", \"created_time_dt\": \"2021-09-26T23:34:13.935866Z\", \"duration\": \"0:01:06\", \"iteration\": \"27\", \"goal\": \"AUC_weighted_max\", \"run_name\": \"MinMaxScaler, LogisticRegression\", \"run_properties\": \"copy=True, feature_range=(0, 1\", \"primary_metric\": 0.84563658, \"best_metric\": 0.84621717}, {\"run_id\": \"AutoML_feaa7dba-4f2b-4bc6-93f6-8f0a2289bedf_28\", \"run_number\": 33, \"metric\": null, \"status\": \"Completed\", \"run_type\": \"azureml.scriptrun\", \"training_percent\": \"100\", \"start_time\": \"2021-09-26T23:35:20.366377Z\", \"end_time\": \"2021-09-26T23:36:00.365456Z\", \"created_time\": \"2021-09-26T23:34:23.763993Z\", \"created_time_dt\": \"2021-09-26T23:34:23.763993Z\", \"duration\": \"0:01:36\", \"iteration\": \"28\", \"goal\": \"AUC_weighted_max\", \"run_name\": \"SparseNormalizer, LightGBM\", \"run_properties\": \"copy=True, norm='max'\", \"primary_metric\": 0.84364069, \"best_metric\": 0.84621717}, {\"run_id\": \"AutoML_feaa7dba-4f2b-4bc6-93f6-8f0a2289bedf_29\", \"run_number\": 34, \"metric\": null, \"status\": \"Completed\", \"run_type\": \"azureml.scriptrun\", \"training_percent\": \"100\", \"start_time\": \"2021-09-26T23:35:18.14888Z\", \"end_time\": \"2021-09-26T23:36:14.207746Z\", \"created_time\": \"2021-09-26T23:35:02.642123Z\", \"created_time_dt\": \"2021-09-26T23:35:02.642123Z\", \"duration\": \"0:01:11\", \"iteration\": \"29\", \"goal\": \"AUC_weighted_max\", \"run_name\": \"SparseNormalizer, XGBoostClassifier\", \"run_properties\": \"copy=True, norm='l1'\", \"primary_metric\": 0.82305498, \"best_metric\": 0.84621717}, {\"run_id\": \"AutoML_feaa7dba-4f2b-4bc6-93f6-8f0a2289bedf_30\", \"run_number\": 35, \"metric\": null, \"status\": \"Completed\", \"run_type\": \"azureml.scriptrun\", \"training_percent\": \"100\", \"start_time\": \"2021-09-26T23:35:21.297615Z\", \"end_time\": \"2021-09-26T23:36:33.776381Z\", \"created_time\": \"2021-09-26T23:35:06.526505Z\", \"created_time_dt\": \"2021-09-26T23:35:06.526505Z\", \"duration\": \"0:01:27\", \"iteration\": \"30\", \"goal\": \"AUC_weighted_max\", \"run_name\": \"SparseNormalizer, XGBoostClassifier\", \"run_properties\": \"copy=True, norm='max'\", \"primary_metric\": 0.80986517, \"best_metric\": 0.84621717}, {\"run_id\": \"AutoML_feaa7dba-4f2b-4bc6-93f6-8f0a2289bedf_31\", \"run_number\": 36, \"metric\": null, \"status\": \"Completed\", \"run_type\": \"azureml.scriptrun\", \"training_percent\": \"100\", \"start_time\": \"2021-09-26T23:35:37.472247Z\", \"end_time\": \"2021-09-26T23:36:17.221106Z\", \"created_time\": \"2021-09-26T23:35:09.475029Z\", \"created_time_dt\": \"2021-09-26T23:35:09.475029Z\", \"duration\": \"0:01:07\", \"iteration\": \"31\", \"goal\": \"AUC_weighted_max\", \"run_name\": \"RobustScaler, LightGBM\", \"run_properties\": \"copy=True, quantile_range=[10, 90], with_centering=False,\\n             with_scaling=True\", \"primary_metric\": 0.84744086, \"best_metric\": 0.84744086}, {\"run_id\": \"AutoML_feaa7dba-4f2b-4bc6-93f6-8f0a2289bedf_32\", \"run_number\": 37, \"metric\": null, \"status\": \"Completed\", \"run_type\": \"azureml.scriptrun\", \"training_percent\": \"100\", \"start_time\": \"2021-09-26T23:36:15.864108Z\", \"end_time\": \"2021-09-26T23:36:58.15768Z\", \"created_time\": \"2021-09-26T23:35:22.687408Z\", \"created_time_dt\": \"2021-09-26T23:35:22.687408Z\", \"duration\": \"0:01:35\", \"iteration\": \"32\", \"goal\": \"AUC_weighted_max\", \"run_name\": \"StandardScalerWrapper, LightGBM\", \"run_properties\": \"\\n    copy=True,\\n    with_mean=False,\\n    with_std=True\\n\", \"primary_metric\": 0.84615488, \"best_metric\": 0.84744086}, {\"run_id\": \"AutoML_feaa7dba-4f2b-4bc6-93f6-8f0a2289bedf_33\", \"run_number\": 38, \"metric\": null, \"status\": \"Completed\", \"run_type\": \"azureml.scriptrun\", \"training_percent\": \"100\", \"start_time\": \"2021-09-26T23:36:28.619136Z\", \"end_time\": \"2021-09-26T23:37:08.437393Z\", \"created_time\": \"2021-09-26T23:36:02.312257Z\", \"created_time_dt\": \"2021-09-26T23:36:02.312257Z\", \"duration\": \"0:01:06\", \"iteration\": \"33\", \"goal\": \"AUC_weighted_max\", \"run_name\": \"RobustScaler, LogisticRegression\", \"run_properties\": \"copy=True, quantile_range=[10, 90], with_centering=True,\\n             with_scaling=True\", \"primary_metric\": 0.8456802, \"best_metric\": 0.84744086}, {\"run_id\": \"AutoML_feaa7dba-4f2b-4bc6-93f6-8f0a2289bedf_34\", \"run_number\": 39, \"metric\": null, \"status\": \"Completed\", \"run_type\": \"azureml.scriptrun\", \"training_percent\": \"100\", \"start_time\": \"2021-09-26T23:36:34.729013Z\", \"end_time\": \"2021-09-26T23:37:18.018962Z\", \"created_time\": \"2021-09-26T23:36:16.240643Z\", \"created_time_dt\": \"2021-09-26T23:36:16.240643Z\", \"duration\": \"0:01:01\", \"iteration\": \"34\", \"goal\": \"AUC_weighted_max\", \"run_name\": \"RobustScaler, LightGBM\", \"run_properties\": \"copy=True, quantile_range=[25, 75], with_centering=True,\\n             with_scaling=False\", \"primary_metric\": 0.84630894, \"best_metric\": 0.84744086}, {\"run_id\": \"AutoML_feaa7dba-4f2b-4bc6-93f6-8f0a2289bedf_35\", \"run_number\": 40, \"metric\": null, \"status\": \"Completed\", \"run_type\": \"azureml.scriptrun\", \"training_percent\": \"100\", \"start_time\": \"2021-09-26T23:36:49.334731Z\", \"end_time\": \"2021-09-26T23:37:31.045855Z\", \"created_time\": \"2021-09-26T23:36:20.330481Z\", \"created_time_dt\": \"2021-09-26T23:36:20.330481Z\", \"duration\": \"0:01:10\", \"iteration\": \"35\", \"goal\": \"AUC_weighted_max\", \"run_name\": \"PCA, LightGBM\", \"run_properties\": \"copy=True, iterated_power='auto', n_components=0.01, random_state=None,\\n    svd_solver='auto', tol=0.0, whiten=False\", \"primary_metric\": 0.66524503, \"best_metric\": 0.84744086}, {\"run_id\": \"AutoML_feaa7dba-4f2b-4bc6-93f6-8f0a2289bedf_36\", \"run_number\": 41, \"metric\": null, \"status\": \"Completed\", \"run_type\": \"azureml.scriptrun\", \"training_percent\": \"100\", \"start_time\": \"2021-09-26T23:37:13.6354Z\", \"end_time\": \"2021-09-26T23:37:59.890904Z\", \"created_time\": \"2021-09-26T23:36:35.815861Z\", \"created_time_dt\": \"2021-09-26T23:36:35.815861Z\", \"duration\": \"0:01:24\", \"iteration\": \"36\", \"goal\": \"AUC_weighted_max\", \"run_name\": \"TruncatedSVDWrapper, XGBoostClassifier\", \"run_properties\": \"n_components=0.6036842105263158, random_state=None\", \"primary_metric\": 0.8261816, \"best_metric\": 0.84744086}, {\"run_id\": \"AutoML_feaa7dba-4f2b-4bc6-93f6-8f0a2289bedf_37\", \"run_number\": 42, \"metric\": null, \"status\": \"Completed\", \"run_type\": \"azureml.scriptrun\", \"training_percent\": \"100\", \"start_time\": \"2021-09-26T23:37:22.704945Z\", \"end_time\": \"2021-09-26T23:38:04.0765Z\", \"created_time\": \"2021-09-26T23:37:00.196341Z\", \"created_time_dt\": \"2021-09-26T23:37:00.196341Z\", \"duration\": \"0:01:03\", \"iteration\": \"37\", \"goal\": \"AUC_weighted_max\", \"run_name\": \"StandardScalerWrapper, LogisticRegression\", \"run_properties\": \"\\n    copy=True,\\n    with_mean=True,\\n    with_std=True\\n\", \"primary_metric\": 0.84578326, \"best_metric\": 0.84744086}, {\"run_id\": \"AutoML_feaa7dba-4f2b-4bc6-93f6-8f0a2289bedf_38\", \"run_number\": 43, \"metric\": null, \"status\": \"Completed\", \"run_type\": \"azureml.scriptrun\", \"training_percent\": \"100\", \"start_time\": \"2021-09-26T23:37:34.601176Z\", \"end_time\": \"2021-09-26T23:38:21.300449Z\", \"created_time\": \"2021-09-26T23:37:10.445234Z\", \"created_time_dt\": \"2021-09-26T23:37:10.445234Z\", \"duration\": \"0:01:10\", \"iteration\": \"38\", \"goal\": \"AUC_weighted_max\", \"run_name\": \"StandardScalerWrapper, GradientBoosting\", \"run_properties\": \"\\n    copy=True,\\n    with_mean=True,\\n    with_std=True\\n\", \"primary_metric\": 0.83752315, \"best_metric\": 0.84744086}, {\"run_id\": \"AutoML_feaa7dba-4f2b-4bc6-93f6-8f0a2289bedf_39\", \"run_number\": 44, \"metric\": null, \"status\": \"Completed\", \"run_type\": \"azureml.scriptrun\", \"training_percent\": \"100\", \"start_time\": \"2021-09-26T23:37:46.063387Z\", \"end_time\": \"2021-09-26T23:38:29.806954Z\", \"created_time\": \"2021-09-26T23:37:20.129455Z\", \"created_time_dt\": \"2021-09-26T23:37:20.129455Z\", \"duration\": \"0:01:09\", \"iteration\": \"39\", \"goal\": \"AUC_weighted_max\", \"run_name\": \"MaxAbsScaler, GradientBoosting\", \"run_properties\": \"copy=True\", \"primary_metric\": 0.84555883, \"best_metric\": 0.84744086}, {\"run_id\": \"AutoML_feaa7dba-4f2b-4bc6-93f6-8f0a2289bedf_40\", \"run_number\": 45, \"metric\": null, \"status\": \"Completed\", \"run_type\": \"azureml.scriptrun\", \"training_percent\": \"100\", \"start_time\": \"2021-09-26T23:38:15.298437Z\", \"end_time\": \"2021-09-26T23:38:52.836517Z\", \"created_time\": \"2021-09-26T23:37:34.123646Z\", \"created_time_dt\": \"2021-09-26T23:37:34.123646Z\", \"duration\": \"0:01:18\", \"iteration\": \"40\", \"goal\": \"AUC_weighted_max\", \"run_name\": \"PCA, LightGBM\", \"run_properties\": \"copy=True, iterated_power='auto', n_components=0.7521052631578947,\\n    random_state=None, svd_solver='auto', tol=0.0, whiten=False\", \"primary_metric\": 0.66719447, \"best_metric\": 0.84744086}, {\"run_id\": \"AutoML_feaa7dba-4f2b-4bc6-93f6-8f0a2289bedf_41\", \"run_number\": 46, \"metric\": null, \"status\": \"Completed\", \"run_type\": \"azureml.scriptrun\", \"training_percent\": \"100\", \"start_time\": \"2021-09-26T23:38:19.397075Z\", \"end_time\": \"2021-09-26T23:39:00.578296Z\", \"created_time\": \"2021-09-26T23:38:02.038612Z\", \"created_time_dt\": \"2021-09-26T23:38:02.038612Z\", \"duration\": \"0:00:58\", \"iteration\": \"41\", \"goal\": \"AUC_weighted_max\", \"run_name\": \"MinMaxScaler, LightGBM\", \"run_properties\": \"copy=True, feature_range=(0, 1\", \"primary_metric\": 0.84670198, \"best_metric\": 0.84744086}, {\"run_id\": \"AutoML_feaa7dba-4f2b-4bc6-93f6-8f0a2289bedf_42\", \"run_number\": 47, \"metric\": null, \"status\": \"Completed\", \"run_type\": \"azureml.scriptrun\", \"training_percent\": \"100\", \"start_time\": \"2021-09-26T23:38:35.670174Z\", \"end_time\": \"2021-09-26T23:39:17.805326Z\", \"created_time\": \"2021-09-26T23:38:06.466496Z\", \"created_time_dt\": \"2021-09-26T23:38:06.466496Z\", \"duration\": \"0:01:11\", \"iteration\": \"42\", \"goal\": \"AUC_weighted_max\", \"run_name\": \"MinMaxScaler, LightGBM\", \"run_properties\": \"copy=True, feature_range=(0, 1\", \"primary_metric\": 0.84696568, \"best_metric\": 0.84744086}, {\"run_id\": \"AutoML_feaa7dba-4f2b-4bc6-93f6-8f0a2289bedf_43\", \"run_number\": 48, \"metric\": null, \"status\": \"Completed\", \"run_type\": \"azureml.scriptrun\", \"training_percent\": \"100\", \"start_time\": \"2021-09-26T23:38:47.683113Z\", \"end_time\": \"2021-09-26T23:39:32.210758Z\", \"created_time\": \"2021-09-26T23:38:23.181617Z\", \"created_time_dt\": \"2021-09-26T23:38:23.181617Z\", \"duration\": \"0:01:09\", \"iteration\": \"43\", \"goal\": \"AUC_weighted_max\", \"run_name\": \"StandardScalerWrapper, LightGBM\", \"run_properties\": \"\\n    copy=True,\\n    with_mean=True,\\n    with_std=True\\n\", \"primary_metric\": 0.84712529, \"best_metric\": 0.84744086}, {\"run_id\": \"AutoML_feaa7dba-4f2b-4bc6-93f6-8f0a2289bedf_44\", \"run_number\": 49, \"metric\": null, \"status\": \"Completed\", \"run_type\": \"azureml.scriptrun\", \"training_percent\": \"100\", \"start_time\": \"2021-09-26T23:39:10.752221Z\", \"end_time\": \"2021-09-26T23:39:51.108345Z\", \"created_time\": \"2021-09-26T23:38:32.028944Z\", \"created_time_dt\": \"2021-09-26T23:38:32.028944Z\", \"duration\": \"0:01:19\", \"iteration\": \"44\", \"goal\": \"AUC_weighted_max\", \"run_name\": \"StandardScalerWrapper, XGBoostClassifier\", \"run_properties\": \"\\n    copy=True,\\n    with_mean=False,\\n    with_std=False\\n\", \"primary_metric\": 0.84896225, \"best_metric\": 0.84896225}, {\"run_id\": \"AutoML_feaa7dba-4f2b-4bc6-93f6-8f0a2289bedf_45\", \"run_number\": 50, \"metric\": null, \"status\": \"Completed\", \"run_type\": \"azureml.scriptrun\", \"training_percent\": \"100\", \"start_time\": \"2021-09-26T23:39:15.073823Z\", \"end_time\": \"2021-09-26T23:39:56.327326Z\", \"created_time\": \"2021-09-26T23:38:55.859312Z\", \"created_time_dt\": \"2021-09-26T23:38:55.859312Z\", \"duration\": \"0:01:00\", \"iteration\": \"45\", \"goal\": \"AUC_weighted_max\", \"run_name\": \"RobustScaler, LightGBM\", \"run_properties\": \"copy=True, quantile_range=[10, 90], with_centering=True,\\n             with_scaling=True\", \"primary_metric\": 0.84492585, \"best_metric\": 0.84896225}, {\"run_id\": \"AutoML_feaa7dba-4f2b-4bc6-93f6-8f0a2289bedf_46\", \"run_number\": 51, \"metric\": null, \"status\": \"Completed\", \"run_type\": \"azureml.scriptrun\", \"training_percent\": \"100\", \"start_time\": \"2021-09-26T23:39:33.793893Z\", \"end_time\": \"2021-09-26T23:41:25.494754Z\", \"created_time\": \"2021-09-26T23:39:03.025891Z\", \"created_time_dt\": \"2021-09-26T23:39:03.025891Z\", \"duration\": \"0:02:22\", \"iteration\": \"46\", \"goal\": \"AUC_weighted_max\", \"run_name\": \"StandardScalerWrapper, XGBoostClassifier\", \"run_properties\": \"\\n    copy=True,\\n    with_mean=False,\\n    with_std=False\\n\", \"primary_metric\": 0.80969045, \"best_metric\": 0.84896225}, {\"run_id\": \"AutoML_feaa7dba-4f2b-4bc6-93f6-8f0a2289bedf_47\", \"run_number\": 52, \"metric\": null, \"status\": \"Completed\", \"run_type\": \"azureml.scriptrun\", \"training_percent\": \"100\", \"start_time\": \"2021-09-26T23:39:44.381437Z\", \"end_time\": \"2021-09-26T23:40:26.459809Z\", \"created_time\": \"2021-09-26T23:39:19.797261Z\", \"created_time_dt\": \"2021-09-26T23:39:19.797261Z\", \"duration\": \"0:01:06\", \"iteration\": \"47\", \"goal\": \"AUC_weighted_max\", \"run_name\": \"StandardScalerWrapper, LogisticRegression\", \"run_properties\": \"\\n    copy=True,\\n    with_mean=False,\\n    with_std=True\\n\", \"primary_metric\": 0.84581311, \"best_metric\": 0.84896225}, {\"run_id\": \"AutoML_feaa7dba-4f2b-4bc6-93f6-8f0a2289bedf_48\", \"run_number\": 53, \"metric\": null, \"status\": \"Completed\", \"run_type\": \"azureml.scriptrun\", \"training_percent\": \"100\", \"start_time\": \"2021-09-26T23:40:05.442051Z\", \"end_time\": \"2021-09-26T23:40:55.892477Z\", \"created_time\": \"2021-09-26T23:39:34.039459Z\", \"created_time_dt\": \"2021-09-26T23:39:34.039459Z\", \"duration\": \"0:01:21\", \"iteration\": \"48\", \"goal\": \"AUC_weighted_max\", \"run_name\": \"MaxAbsScaler, LightGBM\", \"run_properties\": \"copy=True\", \"primary_metric\": 0.8490736, \"best_metric\": 0.8490736}, {\"run_id\": \"AutoML_feaa7dba-4f2b-4bc6-93f6-8f0a2289bedf_49\", \"run_number\": 54, \"metric\": null, \"status\": \"Completed\", \"run_type\": \"azureml.scriptrun\", \"training_percent\": \"100\", \"start_time\": \"2021-09-26T23:40:12.443536Z\", \"end_time\": \"2021-09-26T23:40:52.593597Z\", \"created_time\": \"2021-09-26T23:39:52.965798Z\", \"created_time_dt\": \"2021-09-26T23:39:52.965798Z\", \"duration\": \"0:00:59\", \"iteration\": \"49\", \"goal\": \"AUC_weighted_max\", \"run_name\": \"RobustScaler, LogisticRegression\", \"run_properties\": \"copy=True, quantile_range=[25, 75], with_centering=True,\\n             with_scaling=True\", \"primary_metric\": 0.84578481, \"best_metric\": 0.8490736}, {\"run_id\": \"AutoML_feaa7dba-4f2b-4bc6-93f6-8f0a2289bedf_50\", \"run_number\": 55, \"metric\": null, \"status\": \"Completed\", \"run_type\": \"azureml.scriptrun\", \"training_percent\": \"100\", \"start_time\": \"2021-09-26T23:40:41.799171Z\", \"end_time\": \"2021-09-26T23:41:27.091256Z\", \"created_time\": \"2021-09-26T23:39:59.332149Z\", \"created_time_dt\": \"2021-09-26T23:39:59.332149Z\", \"duration\": \"0:01:27\", \"iteration\": \"50\", \"goal\": \"AUC_weighted_max\", \"run_name\": \"StandardScalerWrapper, XGBoostClassifier\", \"run_properties\": \"\\n    copy=True,\\n    with_mean=False,\\n    with_std=False\\n\", \"primary_metric\": 0.83551193, \"best_metric\": 0.8490736}, {\"run_id\": \"AutoML_feaa7dba-4f2b-4bc6-93f6-8f0a2289bedf_51\", \"run_number\": 56, \"metric\": null, \"status\": \"Completed\", \"run_type\": \"azureml.scriptrun\", \"training_percent\": \"100\", \"start_time\": \"2021-09-26T23:41:06.307891Z\", \"end_time\": \"2021-09-26T23:41:45.694983Z\", \"created_time\": \"2021-09-26T23:40:28.650676Z\", \"created_time_dt\": \"2021-09-26T23:40:28.650676Z\", \"duration\": \"0:01:17\", \"iteration\": \"51\", \"goal\": \"AUC_weighted_max\", \"run_name\": \"StandardScalerWrapper, ExtremeRandomTrees\", \"run_properties\": \"\\n    copy=True,\\n    with_mean=False,\\n    with_std=True\\n\", \"primary_metric\": 0.82544963, \"best_metric\": 0.8490736}, {\"run_id\": \"AutoML_feaa7dba-4f2b-4bc6-93f6-8f0a2289bedf_52\", \"run_number\": 57, \"metric\": null, \"status\": \"Completed\", \"run_type\": \"azureml.scriptrun\", \"training_percent\": \"100\", \"start_time\": \"2021-09-26T23:41:13.210284Z\", \"end_time\": \"2021-09-26T23:41:58.377692Z\", \"created_time\": \"2021-09-26T23:40:54.571512Z\", \"created_time_dt\": \"2021-09-26T23:40:54.571512Z\", \"duration\": \"0:01:03\", \"iteration\": \"52\", \"goal\": \"AUC_weighted_max\", \"run_name\": \"MaxAbsScaler, ExtremeRandomTrees\", \"run_properties\": \"copy=True\", \"primary_metric\": 0.84384589, \"best_metric\": 0.8490736}, {\"run_id\": \"AutoML_feaa7dba-4f2b-4bc6-93f6-8f0a2289bedf_53\", \"run_number\": 58, \"metric\": null, \"status\": \"Completed\", \"run_type\": \"azureml.scriptrun\", \"training_percent\": \"100\", \"start_time\": \"2021-09-26T23:41:40.154096Z\", \"end_time\": \"2021-09-26T23:42:28.820126Z\", \"created_time\": \"2021-09-26T23:40:57.930827Z\", \"created_time_dt\": \"2021-09-26T23:40:57.930827Z\", \"duration\": \"0:01:30\", \"iteration\": \"53\", \"goal\": \"AUC_weighted_max\", \"run_name\": \"RobustScaler, LogisticRegression\", \"run_properties\": \"copy=True, quantile_range=[10, 90], with_centering=False,\\n             with_scaling=True\", \"primary_metric\": 0.84561616, \"best_metric\": 0.8490736}, {\"run_id\": \"AutoML_feaa7dba-4f2b-4bc6-93f6-8f0a2289bedf_54\", \"run_number\": 59, \"metric\": null, \"status\": \"Completed\", \"run_type\": \"azureml.scriptrun\", \"training_percent\": \"100\", \"start_time\": \"2021-09-26T23:41:42.756062Z\", \"end_time\": \"2021-09-26T23:42:21.730119Z\", \"created_time\": \"2021-09-26T23:41:27.597611Z\", \"created_time_dt\": \"2021-09-26T23:41:27.597611Z\", \"duration\": \"0:00:54\", \"iteration\": \"54\", \"goal\": \"AUC_weighted_max\", \"run_name\": \"StandardScalerWrapper, LogisticRegression\", \"run_properties\": \"\\n    copy=True,\\n    with_mean=False,\\n    with_std=True\\n\", \"primary_metric\": 0.84570758, \"best_metric\": 0.8490736}, {\"run_id\": \"AutoML_feaa7dba-4f2b-4bc6-93f6-8f0a2289bedf_55\", \"run_number\": 60, \"metric\": null, \"status\": \"Completed\", \"run_type\": \"azureml.scriptrun\", \"training_percent\": \"100\", \"start_time\": \"2021-09-26T23:42:01.754728Z\", \"end_time\": \"2021-09-26T23:42:50.187756Z\", \"created_time\": \"2021-09-26T23:41:32.217334Z\", \"created_time_dt\": \"2021-09-26T23:41:32.217334Z\", \"duration\": \"0:01:17\", \"iteration\": \"55\", \"goal\": \"AUC_weighted_max\", \"run_name\": \"StandardScalerWrapper, LightGBM\", \"run_properties\": \"\\n    copy=True,\\n    with_mean=True,\\n    with_std=False\\n\", \"primary_metric\": 0.80817485, \"best_metric\": 0.8490736}, {\"run_id\": \"AutoML_feaa7dba-4f2b-4bc6-93f6-8f0a2289bedf_56\", \"run_number\": 61, \"metric\": null, \"status\": \"Completed\", \"run_type\": \"azureml.scriptrun\", \"training_percent\": \"100\", \"start_time\": \"2021-09-26T23:42:16.140132Z\", \"end_time\": \"2021-09-26T23:43:02.946612Z\", \"created_time\": \"2021-09-26T23:41:48.804316Z\", \"created_time_dt\": \"2021-09-26T23:41:48.804316Z\", \"duration\": \"0:01:14\", \"iteration\": \"56\", \"goal\": \"AUC_weighted_max\", \"run_name\": \"MinMaxScaler, ExtremeRandomTrees\", \"run_properties\": \"copy=True, feature_range=(0, 1\", \"primary_metric\": 0.83324024, \"best_metric\": 0.8490736}, {\"run_id\": \"AutoML_feaa7dba-4f2b-4bc6-93f6-8f0a2289bedf_57\", \"run_number\": 62, \"metric\": null, \"status\": \"Completed\", \"run_type\": \"azureml.scriptrun\", \"training_percent\": \"100\", \"start_time\": \"2021-09-26T23:42:39.979013Z\", \"end_time\": \"2021-09-26T23:43:27.967537Z\", \"created_time\": \"2021-09-26T23:42:00.453602Z\", \"created_time_dt\": \"2021-09-26T23:42:00.453602Z\", \"duration\": \"0:01:27\", \"iteration\": \"57\", \"goal\": \"AUC_weighted_max\", \"run_name\": \"StandardScalerWrapper, RandomForest\", \"run_properties\": \"\\n    copy=True,\\n    with_mean=False,\\n    with_std=True\\n\", \"primary_metric\": 0.83990029, \"best_metric\": 0.8490736}, {\"run_id\": \"AutoML_feaa7dba-4f2b-4bc6-93f6-8f0a2289bedf_58\", \"run_number\": 63, \"metric\": null, \"status\": \"Completed\", \"run_type\": \"azureml.scriptrun\", \"training_percent\": \"100\", \"start_time\": \"2021-09-26T23:42:43.477989Z\", \"end_time\": \"2021-09-26T23:43:25.420407Z\", \"created_time\": \"2021-09-26T23:42:23.921144Z\", \"created_time_dt\": \"2021-09-26T23:42:23.921144Z\", \"duration\": \"0:01:01\", \"iteration\": \"58\", \"goal\": \"AUC_weighted_max\", \"run_name\": \"MaxAbsScaler, RandomForest\", \"run_properties\": \"copy=True\", \"primary_metric\": 0.82715075, \"best_metric\": 0.8490736}, {\"run_id\": \"AutoML_feaa7dba-4f2b-4bc6-93f6-8f0a2289bedf_59\", \"run_number\": 64, \"metric\": null, \"status\": \"Completed\", \"run_type\": \"azureml.scriptrun\", \"training_percent\": \"100\", \"start_time\": \"2021-09-26T23:43:05.744496Z\", \"end_time\": \"2021-09-26T23:43:54.615922Z\", \"created_time\": \"2021-09-26T23:42:30.870496Z\", \"created_time_dt\": \"2021-09-26T23:42:30.870496Z\", \"duration\": \"0:01:23\", \"iteration\": \"59\", \"goal\": \"AUC_weighted_max\", \"run_name\": \"StandardScalerWrapper, XGBoostClassifier\", \"run_properties\": \"\\n    copy=True,\\n    with_mean=False,\\n    with_std=False\\n\", \"primary_metric\": 0.83081404, \"best_metric\": 0.8490736}, {\"run_id\": \"AutoML_feaa7dba-4f2b-4bc6-93f6-8f0a2289bedf_60\", \"run_number\": 65, \"metric\": null, \"status\": \"Completed\", \"run_type\": \"azureml.scriptrun\", \"training_percent\": \"100\", \"start_time\": \"2021-09-26T23:43:16.898214Z\", \"end_time\": \"2021-09-26T23:43:55.651846Z\", \"created_time\": \"2021-09-26T23:42:53.540407Z\", \"created_time_dt\": \"2021-09-26T23:42:53.540407Z\", \"duration\": \"0:01:02\", \"iteration\": \"60\", \"goal\": \"AUC_weighted_max\", \"run_name\": \"RobustScaler, LightGBM\", \"run_properties\": \"copy=True, quantile_range=[10, 90], with_centering=True,\\n             with_scaling=False\", \"primary_metric\": 0.84666576, \"best_metric\": 0.8490736}, {\"run_id\": \"AutoML_feaa7dba-4f2b-4bc6-93f6-8f0a2289bedf_61\", \"run_number\": 66, \"metric\": null, \"status\": \"Completed\", \"run_type\": \"azureml.scriptrun\", \"training_percent\": \"100\", \"start_time\": \"2021-09-26T23:43:41.035917Z\", \"end_time\": \"2021-09-26T23:44:29.297492Z\", \"created_time\": \"2021-09-26T23:43:05.15939Z\", \"created_time_dt\": \"2021-09-26T23:43:05.15939Z\", \"duration\": \"0:01:24\", \"iteration\": \"61\", \"goal\": \"AUC_weighted_max\", \"run_name\": \"MaxAbsScaler, ExtremeRandomTrees\", \"run_properties\": \"copy=True\", \"primary_metric\": 0.84283363, \"best_metric\": 0.8490736}, {\"run_id\": \"AutoML_feaa7dba-4f2b-4bc6-93f6-8f0a2289bedf_62\", \"run_number\": 67, \"metric\": null, \"status\": \"Completed\", \"run_type\": \"azureml.scriptrun\", \"training_percent\": \"100\", \"start_time\": \"2021-09-26T23:43:42.138767Z\", \"end_time\": \"2021-09-26T23:44:32.08802Z\", \"created_time\": \"2021-09-26T23:43:27.528233Z\", \"created_time_dt\": \"2021-09-26T23:43:27.528233Z\", \"duration\": \"0:01:04\", \"iteration\": \"62\", \"goal\": \"AUC_weighted_max\", \"run_name\": \"StandardScalerWrapper, XGBoostClassifier\", \"run_properties\": \"\\n    copy=True,\\n    with_mean=False,\\n    with_std=False\\n\", \"primary_metric\": 0.83332755, \"best_metric\": 0.8490736}, {\"run_id\": \"AutoML_feaa7dba-4f2b-4bc6-93f6-8f0a2289bedf_63\", \"run_number\": 68, \"metric\": null, \"status\": \"Canceled\", \"run_type\": \"azureml.scriptrun\", \"training_percent\": \"100\", \"start_time\": \"2021-09-26T23:44:08.409675Z\", \"end_time\": \"2021-09-26T23:44:33.745635Z\", \"created_time\": \"2021-09-26T23:43:30.686956Z\", \"created_time_dt\": \"2021-09-26T23:43:30.686956Z\", \"duration\": \"0:01:03\", \"iteration\": \"63\", \"goal\": null, \"run_name\": \"StandardScalerWrapper, XGBoostClassifier\", \"run_properties\": null}, {\"run_id\": \"AutoML_feaa7dba-4f2b-4bc6-93f6-8f0a2289bedf_64\", \"run_number\": 69, \"metric\": null, \"status\": \"Canceled\", \"run_type\": \"azureml.scriptrun\", \"training_percent\": \"100\", \"start_time\": \"2021-09-26T23:44:08.566222Z\", \"end_time\": \"2021-09-26T23:44:33.60022Z\", \"created_time\": \"2021-09-26T23:43:56.559005Z\", \"created_time_dt\": \"2021-09-26T23:43:56.559005Z\", \"duration\": \"0:00:37\", \"iteration\": \"64\", \"goal\": \"AUC_weighted_max\", \"run_name\": \"SparseNormalizer, XGBoostClassifier\", \"run_properties\": \"copy=True, norm='max'\", \"primary_metric\": 0.83795155, \"best_metric\": 0.8490736}, {\"run_id\": \"AutoML_feaa7dba-4f2b-4bc6-93f6-8f0a2289bedf_65\", \"run_number\": 70, \"metric\": null, \"status\": \"Canceled\", \"run_type\": \"azureml.scriptrun\", \"training_percent\": \"100\", \"start_time\": \"2021-09-26T23:44:00.424231Z\", \"end_time\": \"2021-09-26T23:44:33.729645Z\", \"created_time\": \"2021-09-26T23:44:00.424231Z\", \"created_time_dt\": \"2021-09-26T23:44:00.424231Z\", \"duration\": \"0:00:33\", \"iteration\": \"65\", \"goal\": null, \"run_name\": \"Canceled\", \"run_properties\": null}, {\"run_id\": \"AutoML_feaa7dba-4f2b-4bc6-93f6-8f0a2289bedf_66\", \"run_number\": 71, \"metric\": null, \"status\": \"Canceled\", \"run_type\": \"azureml.scriptrun\", \"training_percent\": \"100\", \"start_time\": \"2021-09-26T23:44:31.462074Z\", \"end_time\": \"2021-09-26T23:44:35.397479Z\", \"created_time\": \"2021-09-26T23:44:31.462074Z\", \"created_time_dt\": \"2021-09-26T23:44:31.462074Z\", \"duration\": \"0:00:03\", \"iteration\": \"66\", \"goal\": null, \"run_name\": \"Canceled\", \"run_properties\": null}, {\"run_id\": \"AutoML_feaa7dba-4f2b-4bc6-93f6-8f0a2289bedf_67\", \"run_number\": 72, \"metric\": null, \"status\": \"Completed\", \"run_type\": \"azureml.scriptrun\", \"training_percent\": \"100\", \"start_time\": \"2021-09-26T23:44:42.687759Z\", \"end_time\": \"2021-09-26T23:46:05.734095Z\", \"created_time\": \"2021-09-26T23:44:35.938346Z\", \"created_time_dt\": \"2021-09-26T23:44:35.938346Z\", \"duration\": \"0:01:29\", \"iteration\": \"67\", \"goal\": \"AUC_weighted_max\", \"run_name\": \"VotingEnsemble\", \"run_properties\": \"\\n    estimators=[('48', Pipeline(\\n        memory=None,\\n        steps=[('maxabsscaler', MaxAbsScaler(\\n            copy=True\\n        \", \"primary_metric\": 0.85070769, \"best_metric\": 0.85070769}, {\"run_id\": \"AutoML_feaa7dba-4f2b-4bc6-93f6-8f0a2289bedf_68\", \"run_number\": 73, \"metric\": null, \"status\": \"Completed\", \"run_type\": \"azureml.scriptrun\", \"training_percent\": \"100\", \"start_time\": \"2021-09-26T23:44:41.80828Z\", \"end_time\": \"2021-09-26T23:46:11.737488Z\", \"created_time\": \"2021-09-26T23:44:35.957426Z\", \"created_time_dt\": \"2021-09-26T23:44:35.957426Z\", \"duration\": \"0:01:35\", \"iteration\": \"68\", \"goal\": \"AUC_weighted_max\", \"run_name\": \"StackEnsemble\", \"run_properties\": \"\\n    base_learners=[('48', Pipeline(\\n        memory=None,\\n        steps=[('maxabsscaler', MaxAbsScaler(\\n            copy=True\\n        \", \"primary_metric\": 0.8502913, \"best_metric\": 0.85070769}], \"children_metrics\": {\"categories\": [0], \"series\": {\"average_precision_score_binary\": [{\"categories\": [\"0\", \"1\", \"2\", \"3\", \"4\", \"5\", \"6\", \"7\", \"8\", \"9\", \"10\", \"11\", \"12\", \"13\", \"14\", \"15\", \"16\", \"17\", \"18\", \"19\", \"20\", \"21\", \"22\", \"23\", \"24\", \"25\", \"26\", \"27\", \"28\", \"29\", \"30\", \"31\", \"32\", \"33\", \"34\", \"35\", \"36\", \"37\", \"38\", \"39\", \"40\", \"41\", \"42\", \"43\", \"44\", \"45\", \"46\", \"47\", \"48\", \"49\", \"50\", \"51\", \"52\", \"53\", \"54\", \"55\", \"56\", \"57\", \"58\", \"59\", \"60\", \"61\", \"62\", \"64\", \"67\", \"68\"], \"mode\": \"markers\", \"name\": \"average_precision_score_binary\", \"stepped\": false, \"type\": \"scatter\", \"data\": [0.6411915521240141, 0.6684197308378957, 0.6455178908076934, 0.65573300049814, 0.6582684188426803, 0.6514262382116832, 0.6637083733828891, 0.6426642271010508, 0.659623587293814, 0.64290582570734, 0.5974900305617288, 0.6332270697854101, 0.6515288556189359, 0.656163997715172, 0.6570065313841179, 0.6523999278892882, 0.6590804210570342, 0.6373319541257859, 0.6637863769242328, 0.6577746305238359, 0.6520452411246024, 0.6534807652202328, 0.6596265115087212, 0.6480925488942305, 0.664990122465988, 0.3868884142492416, 0.6598184613470462, 0.6597411887266365, 0.6558618940746801, 0.614333720263917, 0.5985121303245766, 0.6651979053143123, 0.6706654055718586, 0.6598323292790483, 0.6660823776975994, 0.4424640009083546, 0.6185756380279662, 0.6596176442563638, 0.6466923505951166, 0.6601292975069507, 0.42479515406730356, 0.6682132993489678, 0.6675506729128531, 0.6710263335147889, 0.675631468951141, 0.6672612237477977, 0.603596259806604, 0.65993463543213, 0.6709905522670695, 0.65953001550457, 0.6485926407686468, 0.6200105843702728, 0.6552196268901131, 0.6585554383023363, 0.6596316191640746, 0.6046524762462513, 0.6332532474795304, 0.6463164100025993, 0.620738995453698, 0.6366153943954783, 0.6626736558275989, 0.6550240912853631, 0.6445505331651625, 0.6513837144628408, 0.6746602537389316, 0.6732791762849458]}, {\"categories\": [\"0\", \"1\", \"2\", \"3\", \"4\", \"5\", \"6\", \"7\", \"8\", \"9\", \"10\", \"11\", \"12\", \"13\", \"14\", \"15\", \"16\", \"17\", \"18\", \"19\", \"20\", \"21\", \"22\", \"23\", \"24\", \"25\", \"26\", \"27\", \"28\", \"29\", \"30\", \"31\", \"32\", \"33\", \"34\", \"35\", \"36\", \"37\", \"38\", \"39\", \"40\", \"41\", \"42\", \"43\", \"44\", \"45\", \"46\", \"47\", \"48\", \"49\", \"50\", \"51\", \"52\", \"53\", \"54\", \"55\", \"56\", \"57\", \"58\", \"59\", \"60\", \"61\", \"62\", \"64\", \"67\", \"68\"], \"mode\": \"lines\", \"name\": \"average_precision_score_binary_max\", \"stepped\": true, \"type\": \"scatter\", \"data\": [0.6411915521240141, 0.6684197308378957, 0.6684197308378957, 0.6684197308378957, 0.6684197308378957, 0.6684197308378957, 0.6684197308378957, 0.6684197308378957, 0.6684197308378957, 0.6684197308378957, 0.6684197308378957, 0.6684197308378957, 0.6684197308378957, 0.6684197308378957, 0.6684197308378957, 0.6684197308378957, 0.6684197308378957, 0.6684197308378957, 0.6684197308378957, 0.6684197308378957, 0.6684197308378957, 0.6684197308378957, 0.6684197308378957, 0.6684197308378957, 0.6684197308378957, 0.6684197308378957, 0.6684197308378957, 0.6684197308378957, 0.6684197308378957, 0.6684197308378957, 0.6684197308378957, 0.6684197308378957, 0.6706654055718586, 0.6706654055718586, 0.6706654055718586, 0.6706654055718586, 0.6706654055718586, 0.6706654055718586, 0.6706654055718586, 0.6706654055718586, 0.6706654055718586, 0.6706654055718586, 0.6706654055718586, 0.6710263335147889, 0.675631468951141, 0.675631468951141, 0.675631468951141, 0.675631468951141, 0.675631468951141, 0.675631468951141, 0.675631468951141, 0.675631468951141, 0.675631468951141, 0.675631468951141, 0.675631468951141, 0.675631468951141, 0.675631468951141, 0.675631468951141, 0.675631468951141, 0.675631468951141, 0.675631468951141, 0.675631468951141, 0.675631468951141, 0.675631468951141, 0.675631468951141, 0.675631468951141]}], \"f1_score_weighted\": [{\"categories\": [\"0\", \"1\", \"2\", \"3\", \"4\", \"5\", \"6\", \"7\", \"8\", \"9\", \"10\", \"11\", \"12\", \"13\", \"14\", \"15\", \"16\", \"17\", \"18\", \"19\", \"20\", \"21\", \"22\", \"23\", \"24\", \"25\", \"26\", \"27\", \"28\", \"29\", \"30\", \"31\", \"32\", \"33\", \"34\", \"35\", \"36\", \"37\", \"38\", \"39\", \"40\", \"41\", \"42\", \"43\", \"44\", \"45\", \"46\", \"47\", \"48\", \"49\", \"50\", \"51\", \"52\", \"53\", \"54\", \"55\", \"56\", \"57\", \"58\", \"59\", \"60\", \"61\", \"62\", \"64\", \"67\", \"68\"], \"mode\": \"markers\", \"name\": \"f1_score_weighted\", \"stepped\": false, \"type\": \"scatter\", \"data\": [0.7895957002659996, 0.7996105274207098, 0.7813008954512342, 0.7838523052850688, 0.7830423252006085, 0.7933492131490313, 0.7768716832645103, 0.7735005801162245, 0.802361019098921, 0.7815741422792867, 0.7029682554895053, 0.7824749092112271, 0.7877926255610082, 0.7696468188932932, 0.789166419705407, 0.7649996621503441, 0.7945977778993524, 0.7852471361581069, 0.7807402277350243, 0.7589495701271062, 0.7586969829870875, 0.7935895840779734, 0.802361019098921, 0.7883098218086102, 0.7977290479290561, 0.6838362222350104, 0.8029629805036151, 0.8025705822607233, 0.7517431882090523, 0.7832291319574326, 0.7739234911839797, 0.7971771414525918, 0.8041415199869952, 0.8025172571331719, 0.799099900998503, 0.6931607719759638, 0.7831154999889139, 0.802597893893981, 0.76674551347734, 0.7826472039586713, 0.6988982779681095, 0.800859371405175, 0.7997419907677664, 0.799193920078859, 0.8028759562351592, 0.8006768779195843, 0.7793060074793169, 0.802653871391234, 0.7943739482039158, 0.8027601812755677, 0.7895349522853101, 0.7805283425068001, 0.7662621793086917, 0.7586266881309577, 0.802136897195771, 0.7735289497302779, 0.7456166280713382, 0.7700271238529567, 0.7737432783692846, 0.7864377231230735, 0.7709260835924295, 0.7720399840515741, 0.7887397182383059, 0.7927957484556549, 0.8066329608149706, 0.7018404282623408]}, {\"categories\": [\"0\", \"1\", \"2\", \"3\", \"4\", \"5\", \"6\", \"7\", \"8\", \"9\", \"10\", \"11\", \"12\", \"13\", \"14\", \"15\", \"16\", \"17\", \"18\", \"19\", \"20\", \"21\", \"22\", \"23\", \"24\", \"25\", \"26\", \"27\", \"28\", \"29\", \"30\", \"31\", \"32\", \"33\", \"34\", \"35\", \"36\", \"37\", \"38\", \"39\", \"40\", \"41\", \"42\", \"43\", \"44\", \"45\", \"46\", \"47\", \"48\", \"49\", \"50\", \"51\", \"52\", \"53\", \"54\", \"55\", \"56\", \"57\", \"58\", \"59\", \"60\", \"61\", \"62\", \"64\", \"67\", \"68\"], \"mode\": \"lines\", \"name\": \"f1_score_weighted_max\", \"stepped\": true, \"type\": \"scatter\", \"data\": [0.7895957002659996, 0.7996105274207098, 0.7996105274207098, 0.7996105274207098, 0.7996105274207098, 0.7996105274207098, 0.7996105274207098, 0.7996105274207098, 0.802361019098921, 0.802361019098921, 0.802361019098921, 0.802361019098921, 0.802361019098921, 0.802361019098921, 0.802361019098921, 0.802361019098921, 0.802361019098921, 0.802361019098921, 0.802361019098921, 0.802361019098921, 0.802361019098921, 0.802361019098921, 0.802361019098921, 0.802361019098921, 0.802361019098921, 0.802361019098921, 0.8029629805036151, 0.8029629805036151, 0.8029629805036151, 0.8029629805036151, 0.8029629805036151, 0.8029629805036151, 0.8041415199869952, 0.8041415199869952, 0.8041415199869952, 0.8041415199869952, 0.8041415199869952, 0.8041415199869952, 0.8041415199869952, 0.8041415199869952, 0.8041415199869952, 0.8041415199869952, 0.8041415199869952, 0.8041415199869952, 0.8041415199869952, 0.8041415199869952, 0.8041415199869952, 0.8041415199869952, 0.8041415199869952, 0.8041415199869952, 0.8041415199869952, 0.8041415199869952, 0.8041415199869952, 0.8041415199869952, 0.8041415199869952, 0.8041415199869952, 0.8041415199869952, 0.8041415199869952, 0.8041415199869952, 0.8041415199869952, 0.8041415199869952, 0.8041415199869952, 0.8041415199869952, 0.8041415199869952, 0.8066329608149706, 0.8066329608149706]}], \"precision_score_macro\": [{\"categories\": [\"0\", \"1\", \"2\", \"3\", \"4\", \"5\", \"6\", \"7\", \"8\", \"9\", \"10\", \"11\", \"12\", \"13\", \"14\", \"15\", \"16\", \"17\", \"18\", \"19\", \"20\", \"21\", \"22\", \"23\", \"24\", \"25\", \"26\", \"27\", \"28\", \"29\", \"30\", \"31\", \"32\", \"33\", \"34\", \"35\", \"36\", \"37\", \"38\", \"39\", \"40\", \"41\", \"42\", \"43\", \"44\", \"45\", \"46\", \"47\", \"48\", \"49\", \"50\", \"51\", \"52\", \"53\", \"54\", \"55\", \"56\", \"57\", \"58\", \"59\", \"60\", \"61\", \"62\", \"64\", \"67\", \"68\"], \"mode\": \"markers\", \"name\": \"precision_score_macro\", \"stepped\": false, \"type\": \"scatter\", \"data\": [0.7393597866980759, 0.7567449305646919, 0.7515744779710468, 0.7556779996371148, 0.7560988420072684, 0.7534894181651625, 0.7200238026218587, 0.7495810275134218, 0.7555937474371138, 0.7365720971851353, 0.6872147039079548, 0.7355868545661642, 0.7579467402148227, 0.7170752716987331, 0.7596232596051383, 0.7126227153998145, 0.7508207458970378, 0.7384371668529176, 0.7594206196437725, 0.7088215457622997, 0.7089128416998708, 0.7484859831468835, 0.7555937474371138, 0.7403942332041982, 0.7519615519013205, 0.5607477850256279, 0.7573537277358023, 0.7567946662196141, 0.7760977979963862, 0.7324547602430991, 0.7172259230865893, 0.7514335594430216, 0.7599456430104785, 0.7568753353877895, 0.7553557254968899, 0.7010275273516884, 0.7347648551370253, 0.7558897554408447, 0.7590155411373759, 0.7583439689774665, 0.6506386905881337, 0.7573656163592817, 0.7552703900613572, 0.7559953169757899, 0.7585641663247095, 0.7543680917173715, 0.7229318571261915, 0.7558472398646119, 0.7553213216112271, 0.7561845825920386, 0.7410070243218821, 0.743307427847839, 0.7142908883423468, 0.7087094310114684, 0.7553683392247913, 0.7130430173077021, 0.7021224049869189, 0.7588117832767212, 0.7500982148551668, 0.7343516800114778, 0.7634926357188594, 0.7176821960514659, 0.7387802680246838, 0.7490638387477854, 0.759397404637092, 0.538530447810743]}, {\"categories\": [\"0\", \"1\", \"2\", \"3\", \"4\", \"5\", \"6\", \"7\", \"8\", \"9\", \"10\", \"11\", \"12\", \"13\", \"14\", \"15\", \"16\", \"17\", \"18\", \"19\", \"20\", \"21\", \"22\", \"23\", \"24\", \"25\", \"26\", \"27\", \"28\", \"29\", \"30\", \"31\", \"32\", \"33\", \"34\", \"35\", \"36\", \"37\", \"38\", \"39\", \"40\", \"41\", \"42\", \"43\", \"44\", \"45\", \"46\", \"47\", \"48\", \"49\", \"50\", \"51\", \"52\", \"53\", \"54\", \"55\", \"56\", \"57\", \"58\", \"59\", \"60\", \"61\", \"62\", \"64\", \"67\", \"68\"], \"mode\": \"lines\", \"name\": \"precision_score_macro_max\", \"stepped\": true, \"type\": \"scatter\", \"data\": [0.7393597866980759, 0.7567449305646919, 0.7567449305646919, 0.7567449305646919, 0.7567449305646919, 0.7567449305646919, 0.7567449305646919, 0.7567449305646919, 0.7567449305646919, 0.7567449305646919, 0.7567449305646919, 0.7567449305646919, 0.7579467402148227, 0.7579467402148227, 0.7596232596051383, 0.7596232596051383, 0.7596232596051383, 0.7596232596051383, 0.7596232596051383, 0.7596232596051383, 0.7596232596051383, 0.7596232596051383, 0.7596232596051383, 0.7596232596051383, 0.7596232596051383, 0.7596232596051383, 0.7596232596051383, 0.7596232596051383, 0.7760977979963862, 0.7760977979963862, 0.7760977979963862, 0.7760977979963862, 0.7760977979963862, 0.7760977979963862, 0.7760977979963862, 0.7760977979963862, 0.7760977979963862, 0.7760977979963862, 0.7760977979963862, 0.7760977979963862, 0.7760977979963862, 0.7760977979963862, 0.7760977979963862, 0.7760977979963862, 0.7760977979963862, 0.7760977979963862, 0.7760977979963862, 0.7760977979963862, 0.7760977979963862, 0.7760977979963862, 0.7760977979963862, 0.7760977979963862, 0.7760977979963862, 0.7760977979963862, 0.7760977979963862, 0.7760977979963862, 0.7760977979963862, 0.7760977979963862, 0.7760977979963862, 0.7760977979963862, 0.7760977979963862, 0.7760977979963862, 0.7760977979963862, 0.7760977979963862, 0.7760977979963862, 0.7760977979963862]}], \"recall_score_weighted\": [{\"categories\": [\"0\", \"1\", \"2\", \"3\", \"4\", \"5\", \"6\", \"7\", \"8\", \"9\", \"10\", \"11\", \"12\", \"13\", \"14\", \"15\", \"16\", \"17\", \"18\", \"19\", \"20\", \"21\", \"22\", \"23\", \"24\", \"25\", \"26\", \"27\", \"28\", \"29\", \"30\", \"31\", \"32\", \"33\", \"34\", \"35\", \"36\", \"37\", \"38\", \"39\", \"40\", \"41\", \"42\", \"43\", \"44\", \"45\", \"46\", \"47\", \"48\", \"49\", \"50\", \"51\", \"52\", \"53\", \"54\", \"55\", \"56\", \"57\", \"58\", \"59\", \"60\", \"61\", \"62\", \"64\", \"67\", \"68\"], \"mode\": \"markers\", \"name\": \"recall_score_weighted\", \"stepped\": false, \"type\": \"scatter\", \"data\": [0.7969284916667799, 0.8075436035320636, 0.7976833351197963, 0.8001481506083786, 0.7999614526609994, 0.8035615527029183, 0.7660176522657635, 0.7938932661422015, 0.8083037308892509, 0.7927554654440216, 0.6844905335082557, 0.7927537041426314, 0.8026142241693829, 0.7572949329371916, 0.8037535345544689, 0.7521735717229605, 0.8031841309764102, 0.7948441172785177, 0.799770980496355, 0.7453500385221776, 0.7451595663575332, 0.8020465818927146, 0.8083037308892509, 0.7967395291890416, 0.8050808009593559, 0.7366318482543239, 0.8092515626517551, 0.8088723796238566, 0.788966906153333, 0.7918119111277513, 0.7817606673218709, 0.8045108941523286, 0.8105760612973143, 0.8088723796238566, 0.806786243934204, 0.7542685139195651, 0.7927534525281469, 0.8084934482104423, 0.7929454343796973, 0.8003373647006015, 0.7421311344240319, 0.8083024728168293, 0.8069752064119423, 0.8069754580264267, 0.8096307456796535, 0.8071654269621024, 0.7857439762234378, 0.808493196595958, 0.8048895739512584, 0.8086831655316338, 0.7973071714657098, 0.7948400914467683, 0.7535033542726908, 0.7449703522653105, 0.8081140135680595, 0.7791023602948319, 0.7303689121246479, 0.7944611600333541, 0.7940834866923616, 0.7935150895722404, 0.7959788986028855, 0.7601406927550629, 0.7961706288399517, 0.8018566129570389, 0.8113351821965643, 0.7692481306301887]}, {\"categories\": [\"0\", \"1\", \"2\", \"3\", \"4\", \"5\", \"6\", \"7\", \"8\", \"9\", \"10\", \"11\", \"12\", \"13\", \"14\", \"15\", \"16\", \"17\", \"18\", \"19\", \"20\", \"21\", \"22\", \"23\", \"24\", \"25\", \"26\", \"27\", \"28\", \"29\", \"30\", \"31\", \"32\", \"33\", \"34\", \"35\", \"36\", \"37\", \"38\", \"39\", \"40\", \"41\", \"42\", \"43\", \"44\", \"45\", \"46\", \"47\", \"48\", \"49\", \"50\", \"51\", \"52\", \"53\", \"54\", \"55\", \"56\", \"57\", \"58\", \"59\", \"60\", \"61\", \"62\", \"64\", \"67\", \"68\"], \"mode\": \"lines\", \"name\": \"recall_score_weighted_max\", \"stepped\": true, \"type\": \"scatter\", \"data\": [0.7969284916667799, 0.8075436035320636, 0.8075436035320636, 0.8075436035320636, 0.8075436035320636, 0.8075436035320636, 0.8075436035320636, 0.8075436035320636, 0.8083037308892509, 0.8083037308892509, 0.8083037308892509, 0.8083037308892509, 0.8083037308892509, 0.8083037308892509, 0.8083037308892509, 0.8083037308892509, 0.8083037308892509, 0.8083037308892509, 0.8083037308892509, 0.8083037308892509, 0.8083037308892509, 0.8083037308892509, 0.8083037308892509, 0.8083037308892509, 0.8083037308892509, 0.8083037308892509, 0.8092515626517551, 0.8092515626517551, 0.8092515626517551, 0.8092515626517551, 0.8092515626517551, 0.8092515626517551, 0.8105760612973143, 0.8105760612973143, 0.8105760612973143, 0.8105760612973143, 0.8105760612973143, 0.8105760612973143, 0.8105760612973143, 0.8105760612973143, 0.8105760612973143, 0.8105760612973143, 0.8105760612973143, 0.8105760612973143, 0.8105760612973143, 0.8105760612973143, 0.8105760612973143, 0.8105760612973143, 0.8105760612973143, 0.8105760612973143, 0.8105760612973143, 0.8105760612973143, 0.8105760612973143, 0.8105760612973143, 0.8105760612973143, 0.8105760612973143, 0.8105760612973143, 0.8105760612973143, 0.8105760612973143, 0.8105760612973143, 0.8105760612973143, 0.8105760612973143, 0.8105760612973143, 0.8105760612973143, 0.8113351821965643, 0.8113351821965643]}], \"AUC_weighted\": [{\"categories\": [\"0\", \"1\", \"2\", \"3\", \"4\", \"5\", \"6\", \"7\", \"8\", \"9\", \"10\", \"11\", \"12\", \"13\", \"14\", \"15\", \"16\", \"17\", \"18\", \"19\", \"20\", \"21\", \"22\", \"23\", \"24\", \"25\", \"26\", \"27\", \"28\", \"29\", \"30\", \"31\", \"32\", \"33\", \"34\", \"35\", \"36\", \"37\", \"38\", \"39\", \"40\", \"41\", \"42\", \"43\", \"44\", \"45\", \"46\", \"47\", \"48\", \"49\", \"50\", \"51\", \"52\", \"53\", \"54\", \"55\", \"56\", \"57\", \"58\", \"59\", \"60\", \"61\", \"62\", \"64\", \"67\", \"68\"], \"mode\": \"markers\", \"name\": \"AUC_weighted\", \"stepped\": false, \"type\": \"scatter\", \"data\": [0.8322432080370346, 0.8462171687203275, 0.8388775570351032, 0.84360200202585, 0.8449230824441925, 0.8370019598169888, 0.8445068097674641, 0.8346680059860591, 0.8457992079313358, 0.8299603049822196, 0.8230899137789143, 0.8311638797656318, 0.8424634095527512, 0.8429170104553958, 0.8400234528221465, 0.8449065767543097, 0.8421279445301829, 0.8268125147995461, 0.8444521508263365, 0.8454899652545173, 0.8420602743341993, 0.8375787642649165, 0.8457940067999513, 0.8344770715170877, 0.8443009092280835, 0.6583122878103135, 0.8456680264541682, 0.845636583130138, 0.8436406947937235, 0.8230549781890959, 0.8098651680850727, 0.8474408647834881, 0.8461548765438638, 0.8456801957776493, 0.846308938706666, 0.6652450339207755, 0.8261816030389839, 0.8457832630104719, 0.8375231489592231, 0.8455588261813078, 0.6671944719238808, 0.8467019817272021, 0.846965679217517, 0.8471252853555095, 0.8489622523066664, 0.84492585010216, 0.8096904528218835, 0.845813112891439, 0.8490735958236563, 0.8457848138666363, 0.8355119285682413, 0.8254496252177103, 0.8438458888376678, 0.8456161591090691, 0.8457075803756001, 0.8081748504737485, 0.8332402399937474, 0.8399002862483432, 0.8271507509097308, 0.8308140367867354, 0.8466657587852213, 0.8428336342914815, 0.8333275545174048, 0.8379515514616702, 0.8507076908094937, 0.8502912994839751]}, {\"categories\": [\"0\", \"1\", \"2\", \"3\", \"4\", \"5\", \"6\", \"7\", \"8\", \"9\", \"10\", \"11\", \"12\", \"13\", \"14\", \"15\", \"16\", \"17\", \"18\", \"19\", \"20\", \"21\", \"22\", \"23\", \"24\", \"25\", \"26\", \"27\", \"28\", \"29\", \"30\", \"31\", \"32\", \"33\", \"34\", \"35\", \"36\", \"37\", \"38\", \"39\", \"40\", \"41\", \"42\", \"43\", \"44\", \"45\", \"46\", \"47\", \"48\", \"49\", \"50\", \"51\", \"52\", \"53\", \"54\", \"55\", \"56\", \"57\", \"58\", \"59\", \"60\", \"61\", \"62\", \"64\", \"67\", \"68\"], \"mode\": \"lines\", \"name\": \"AUC_weighted_max\", \"stepped\": true, \"type\": \"scatter\", \"data\": [0.8322432080370346, 0.8462171687203275, 0.8462171687203275, 0.8462171687203275, 0.8462171687203275, 0.8462171687203275, 0.8462171687203275, 0.8462171687203275, 0.8462171687203275, 0.8462171687203275, 0.8462171687203275, 0.8462171687203275, 0.8462171687203275, 0.8462171687203275, 0.8462171687203275, 0.8462171687203275, 0.8462171687203275, 0.8462171687203275, 0.8462171687203275, 0.8462171687203275, 0.8462171687203275, 0.8462171687203275, 0.8462171687203275, 0.8462171687203275, 0.8462171687203275, 0.8462171687203275, 0.8462171687203275, 0.8462171687203275, 0.8462171687203275, 0.8462171687203275, 0.8462171687203275, 0.8474408647834881, 0.8474408647834881, 0.8474408647834881, 0.8474408647834881, 0.8474408647834881, 0.8474408647834881, 0.8474408647834881, 0.8474408647834881, 0.8474408647834881, 0.8474408647834881, 0.8474408647834881, 0.8474408647834881, 0.8474408647834881, 0.8489622523066664, 0.8489622523066664, 0.8489622523066664, 0.8489622523066664, 0.8490735958236563, 0.8490735958236563, 0.8490735958236563, 0.8490735958236563, 0.8490735958236563, 0.8490735958236563, 0.8490735958236563, 0.8490735958236563, 0.8490735958236563, 0.8490735958236563, 0.8490735958236563, 0.8490735958236563, 0.8490735958236563, 0.8490735958236563, 0.8490735958236563, 0.8490735958236563, 0.8507076908094937, 0.8507076908094937]}], \"average_precision_score_macro\": [{\"categories\": [\"0\", \"1\", \"2\", \"3\", \"4\", \"5\", \"6\", \"7\", \"8\", \"9\", \"10\", \"11\", \"12\", \"13\", \"14\", \"15\", \"16\", \"17\", \"18\", \"19\", \"20\", \"21\", \"22\", \"23\", \"24\", \"25\", \"26\", \"27\", \"28\", \"29\", \"30\", \"31\", \"32\", \"33\", \"34\", \"35\", \"36\", \"37\", \"38\", \"39\", \"40\", \"41\", \"42\", \"43\", \"44\", \"45\", \"46\", \"47\", \"48\", \"49\", \"50\", \"51\", \"52\", \"53\", \"54\", \"55\", \"56\", \"57\", \"58\", \"59\", \"60\", \"61\", \"62\", \"64\", \"67\", \"68\"], \"mode\": \"markers\", \"name\": \"average_precision_score_macro\", \"stepped\": false, \"type\": \"scatter\", \"data\": [0.7860026926463709, 0.802638767477655, 0.7888344993041191, 0.7958184898669385, 0.7975863314224697, 0.7915700706608225, 0.8000228822685103, 0.7871607671748284, 0.7982281963018887, 0.7851818682162219, 0.7594777620101179, 0.7815865671323549, 0.7928686376389675, 0.7944668522533052, 0.7953847985014367, 0.7946878690965746, 0.796546259156286, 0.7813265300966333, 0.8000044965466362, 0.7973201620437932, 0.7928831074884638, 0.7925257217285092, 0.7982274790640748, 0.7890200539912549, 0.8008051808455543, 0.6018644572110523, 0.7982999631007148, 0.7982481025458487, 0.7960376609559917, 0.7707687381501612, 0.760022515956547, 0.8011512725779042, 0.8036022017817072, 0.7983085152367541, 0.8017134550790926, 0.6351601386566915, 0.7731606160129555, 0.7982261041139909, 0.7899006542156993, 0.7985358286968489, 0.6263358144963391, 0.8026814698338441, 0.8026712457905317, 0.80427688813464, 0.80685306207169, 0.8015816162593682, 0.7614965042938643, 0.7983857160445673, 0.8047825708949115, 0.7981844575928599, 0.7905457696756831, 0.7696091410485454, 0.7953617754632981, 0.7977421756731774, 0.7982118767179502, 0.7608941302873309, 0.782643218179925, 0.7904815382329325, 0.7742749451477345, 0.7832830634395707, 0.800247068099537, 0.7942434979793974, 0.7880347623524238, 0.7930506454542904, 0.8069408729790968, 0.8061034166144604]}, {\"categories\": [\"0\", \"1\", \"2\", \"3\", \"4\", \"5\", \"6\", \"7\", \"8\", \"9\", \"10\", \"11\", \"12\", \"13\", \"14\", \"15\", \"16\", \"17\", \"18\", \"19\", \"20\", \"21\", \"22\", \"23\", \"24\", \"25\", \"26\", \"27\", \"28\", \"29\", \"30\", \"31\", \"32\", \"33\", \"34\", \"35\", \"36\", \"37\", \"38\", \"39\", \"40\", \"41\", \"42\", \"43\", \"44\", \"45\", \"46\", \"47\", \"48\", \"49\", \"50\", \"51\", \"52\", \"53\", \"54\", \"55\", \"56\", \"57\", \"58\", \"59\", \"60\", \"61\", \"62\", \"64\", \"67\", \"68\"], \"mode\": \"lines\", \"name\": \"average_precision_score_macro_max\", \"stepped\": true, \"type\": \"scatter\", \"data\": [0.7860026926463709, 0.802638767477655, 0.802638767477655, 0.802638767477655, 0.802638767477655, 0.802638767477655, 0.802638767477655, 0.802638767477655, 0.802638767477655, 0.802638767477655, 0.802638767477655, 0.802638767477655, 0.802638767477655, 0.802638767477655, 0.802638767477655, 0.802638767477655, 0.802638767477655, 0.802638767477655, 0.802638767477655, 0.802638767477655, 0.802638767477655, 0.802638767477655, 0.802638767477655, 0.802638767477655, 0.802638767477655, 0.802638767477655, 0.802638767477655, 0.802638767477655, 0.802638767477655, 0.802638767477655, 0.802638767477655, 0.802638767477655, 0.8036022017817072, 0.8036022017817072, 0.8036022017817072, 0.8036022017817072, 0.8036022017817072, 0.8036022017817072, 0.8036022017817072, 0.8036022017817072, 0.8036022017817072, 0.8036022017817072, 0.8036022017817072, 0.80427688813464, 0.80685306207169, 0.80685306207169, 0.80685306207169, 0.80685306207169, 0.80685306207169, 0.80685306207169, 0.80685306207169, 0.80685306207169, 0.80685306207169, 0.80685306207169, 0.80685306207169, 0.80685306207169, 0.80685306207169, 0.80685306207169, 0.80685306207169, 0.80685306207169, 0.80685306207169, 0.80685306207169, 0.80685306207169, 0.80685306207169, 0.8069408729790968, 0.8069408729790968]}], \"matthews_correlation\": [{\"categories\": [\"0\", \"1\", \"2\", \"3\", \"4\", \"5\", \"6\", \"7\", \"8\", \"9\", \"10\", \"11\", \"12\", \"13\", \"14\", \"15\", \"16\", \"17\", \"18\", \"19\", \"20\", \"21\", \"22\", \"23\", \"24\", \"25\", \"26\", \"27\", \"28\", \"29\", \"30\", \"31\", \"32\", \"33\", \"34\", \"35\", \"36\", \"37\", \"38\", \"39\", \"40\", \"41\", \"42\", \"43\", \"44\", \"45\", \"46\", \"47\", \"48\", \"49\", \"50\", \"51\", \"52\", \"53\", \"54\", \"55\", \"56\", \"57\", \"58\", \"59\", \"60\", \"61\", \"62\", \"64\", \"67\", \"68\"], \"mode\": \"markers\", \"name\": \"matthews_correlation\", \"stepped\": false, \"type\": \"scatter\", \"data\": [0.4458406465773406, 0.47238224585700644, 0.4262932820830573, 0.4327479980297066, 0.4309118709311451, 0.45597114320935284, 0.4836892069660692, 0.40685832636532276, 0.48024006522396956, 0.4243296443496841, 0.42453527953905895, 0.4259861519616825, 0.44243585870398927, 0.48153848208607297, 0.4462227638450257, 0.47263769876348943, 0.4590257434014831, 0.4338124071127667, 0.4270576409491747, 0.46608819755020686, 0.46582207976762097, 0.45605453153137004, 0.48024006522396956, 0.44231009003971594, 0.46746321880259245, 0.1562049795757228, 0.48157289957609045, 0.4805157448568372, 0.3754244563572985, 0.4280333633889965, 0.40419194911072814, 0.4661382533335825, 0.4852472363782335, 0.48036858202996013, 0.4715237122021295, 0.22040135377642164, 0.42747380186222467, 0.4809116108203377, 0.3969662137730498, 0.4306154281873039, 0.20508023462306105, 0.4762047575671353, 0.47332664277290853, 0.4716647247618043, 0.4814149160297451, 0.47569863949598384, 0.41957082945241825, 0.4811222113098753, 0.45785370279292703, 0.48132384477886575, 0.4465259445539459, 0.42160397630392865, 0.4765930901062402, 0.46599781599490014, 0.4796506730418683, 0.404922445247528, 0.4546244803510726, 0.4035363337322429, 0.4077250616634757, 0.43785464969850096, 0.4076665186239299, 0.4817259340721094, 0.44422041931807776, 0.45447297115161805, 0.4927110373688976, 0.20130355828210808]}, {\"categories\": [\"0\", \"1\", \"2\", \"3\", \"4\", \"5\", \"6\", \"7\", \"8\", \"9\", \"10\", \"11\", \"12\", \"13\", \"14\", \"15\", \"16\", \"17\", \"18\", \"19\", \"20\", \"21\", \"22\", \"23\", \"24\", \"25\", \"26\", \"27\", \"28\", \"29\", \"30\", \"31\", \"32\", \"33\", \"34\", \"35\", \"36\", \"37\", \"38\", \"39\", \"40\", \"41\", \"42\", \"43\", \"44\", \"45\", \"46\", \"47\", \"48\", \"49\", \"50\", \"51\", \"52\", \"53\", \"54\", \"55\", \"56\", \"57\", \"58\", \"59\", \"60\", \"61\", \"62\", \"64\", \"67\", \"68\"], \"mode\": \"lines\", \"name\": \"matthews_correlation_max\", \"stepped\": true, \"type\": \"scatter\", \"data\": [0.4458406465773406, 0.47238224585700644, 0.47238224585700644, 0.47238224585700644, 0.47238224585700644, 0.47238224585700644, 0.4836892069660692, 0.4836892069660692, 0.4836892069660692, 0.4836892069660692, 0.4836892069660692, 0.4836892069660692, 0.4836892069660692, 0.4836892069660692, 0.4836892069660692, 0.4836892069660692, 0.4836892069660692, 0.4836892069660692, 0.4836892069660692, 0.4836892069660692, 0.4836892069660692, 0.4836892069660692, 0.4836892069660692, 0.4836892069660692, 0.4836892069660692, 0.4836892069660692, 0.4836892069660692, 0.4836892069660692, 0.4836892069660692, 0.4836892069660692, 0.4836892069660692, 0.4836892069660692, 0.4852472363782335, 0.4852472363782335, 0.4852472363782335, 0.4852472363782335, 0.4852472363782335, 0.4852472363782335, 0.4852472363782335, 0.4852472363782335, 0.4852472363782335, 0.4852472363782335, 0.4852472363782335, 0.4852472363782335, 0.4852472363782335, 0.4852472363782335, 0.4852472363782335, 0.4852472363782335, 0.4852472363782335, 0.4852472363782335, 0.4852472363782335, 0.4852472363782335, 0.4852472363782335, 0.4852472363782335, 0.4852472363782335, 0.4852472363782335, 0.4852472363782335, 0.4852472363782335, 0.4852472363782335, 0.4852472363782335, 0.4852472363782335, 0.4852472363782335, 0.4852472363782335, 0.4852472363782335, 0.4927110373688976, 0.4927110373688976]}], \"precision_score_micro\": [{\"categories\": [\"0\", \"1\", \"2\", \"3\", \"4\", \"5\", \"6\", \"7\", \"8\", \"9\", \"10\", \"11\", \"12\", \"13\", \"14\", \"15\", \"16\", \"17\", \"18\", \"19\", \"20\", \"21\", \"22\", \"23\", \"24\", \"25\", \"26\", \"27\", \"28\", \"29\", \"30\", \"31\", \"32\", \"33\", \"34\", \"35\", \"36\", \"37\", \"38\", \"39\", \"40\", \"41\", \"42\", \"43\", \"44\", \"45\", \"46\", \"47\", \"48\", \"49\", \"50\", \"51\", \"52\", \"53\", \"54\", \"55\", \"56\", \"57\", \"58\", \"59\", \"60\", \"61\", \"62\", \"64\", \"67\", \"68\"], \"mode\": \"markers\", \"name\": \"precision_score_micro\", \"stepped\": false, \"type\": \"scatter\", \"data\": [0.7969284916667799, 0.8075436035320636, 0.7976833351197963, 0.8001481506083786, 0.7999614526609994, 0.8035615527029183, 0.7660176522657635, 0.7938932661422015, 0.8083037308892509, 0.7927554654440216, 0.6844905335082557, 0.7927537041426314, 0.8026142241693829, 0.7572949329371916, 0.8037535345544689, 0.7521735717229605, 0.8031841309764102, 0.7948441172785177, 0.799770980496355, 0.7453500385221776, 0.7451595663575332, 0.8020465818927146, 0.8083037308892509, 0.7967395291890416, 0.8050808009593559, 0.7366318482543239, 0.8092515626517551, 0.8088723796238566, 0.788966906153333, 0.7918119111277513, 0.7817606673218709, 0.8045108941523286, 0.8105760612973143, 0.8088723796238566, 0.806786243934204, 0.7542685139195651, 0.7927534525281469, 0.8084934482104423, 0.7929454343796973, 0.8003373647006015, 0.7421311344240319, 0.8083024728168293, 0.8069752064119423, 0.8069754580264267, 0.8096307456796535, 0.8071654269621024, 0.7857439762234378, 0.808493196595958, 0.8048895739512584, 0.8086831655316338, 0.7973071714657098, 0.7948400914467683, 0.7535033542726908, 0.7449703522653105, 0.8081140135680595, 0.7791023602948319, 0.7303689121246479, 0.7944611600333541, 0.7940834866923616, 0.7935150895722404, 0.7959788986028855, 0.7601406927550629, 0.7961706288399517, 0.8018566129570389, 0.8113351821965643, 0.7692481306301887]}, {\"categories\": [\"0\", \"1\", \"2\", \"3\", \"4\", \"5\", \"6\", \"7\", \"8\", \"9\", \"10\", \"11\", \"12\", \"13\", \"14\", \"15\", \"16\", \"17\", \"18\", \"19\", \"20\", \"21\", \"22\", \"23\", \"24\", \"25\", \"26\", \"27\", \"28\", \"29\", \"30\", \"31\", \"32\", \"33\", \"34\", \"35\", \"36\", \"37\", \"38\", \"39\", \"40\", \"41\", \"42\", \"43\", \"44\", \"45\", \"46\", \"47\", \"48\", \"49\", \"50\", \"51\", \"52\", \"53\", \"54\", \"55\", \"56\", \"57\", \"58\", \"59\", \"60\", \"61\", \"62\", \"64\", \"67\", \"68\"], \"mode\": \"lines\", \"name\": \"precision_score_micro_max\", \"stepped\": true, \"type\": \"scatter\", \"data\": [0.7969284916667799, 0.8075436035320636, 0.8075436035320636, 0.8075436035320636, 0.8075436035320636, 0.8075436035320636, 0.8075436035320636, 0.8075436035320636, 0.8083037308892509, 0.8083037308892509, 0.8083037308892509, 0.8083037308892509, 0.8083037308892509, 0.8083037308892509, 0.8083037308892509, 0.8083037308892509, 0.8083037308892509, 0.8083037308892509, 0.8083037308892509, 0.8083037308892509, 0.8083037308892509, 0.8083037308892509, 0.8083037308892509, 0.8083037308892509, 0.8083037308892509, 0.8083037308892509, 0.8092515626517551, 0.8092515626517551, 0.8092515626517551, 0.8092515626517551, 0.8092515626517551, 0.8092515626517551, 0.8105760612973143, 0.8105760612973143, 0.8105760612973143, 0.8105760612973143, 0.8105760612973143, 0.8105760612973143, 0.8105760612973143, 0.8105760612973143, 0.8105760612973143, 0.8105760612973143, 0.8105760612973143, 0.8105760612973143, 0.8105760612973143, 0.8105760612973143, 0.8105760612973143, 0.8105760612973143, 0.8105760612973143, 0.8105760612973143, 0.8105760612973143, 0.8105760612973143, 0.8105760612973143, 0.8105760612973143, 0.8105760612973143, 0.8105760612973143, 0.8105760612973143, 0.8105760612973143, 0.8105760612973143, 0.8105760612973143, 0.8105760612973143, 0.8105760612973143, 0.8105760612973143, 0.8105760612973143, 0.8113351821965643, 0.8113351821965643]}], \"AUC_binary\": [{\"categories\": [\"0\", \"1\", \"2\", \"3\", \"4\", \"5\", \"6\", \"7\", \"8\", \"9\", \"10\", \"11\", \"12\", \"13\", \"14\", \"15\", \"16\", \"17\", \"18\", \"19\", \"20\", \"21\", \"22\", \"23\", \"24\", \"25\", \"26\", \"27\", \"28\", \"29\", \"30\", \"31\", \"32\", \"33\", \"34\", \"35\", \"36\", \"37\", \"38\", \"39\", \"40\", \"41\", \"42\", \"43\", \"44\", \"45\", \"46\", \"47\", \"48\", \"49\", \"50\", \"51\", \"52\", \"53\", \"54\", \"55\", \"56\", \"57\", \"58\", \"59\", \"60\", \"61\", \"62\", \"64\", \"67\", \"68\"], \"mode\": \"markers\", \"name\": \"AUC_binary\", \"stepped\": false, \"type\": \"scatter\", \"data\": [0.8322432080370346, 0.8462171687203272, 0.8388775570351032, 0.8436020020258501, 0.8449230824441927, 0.837001959816989, 0.8445068097674643, 0.8346680059860591, 0.8457992079313359, 0.8299603049822197, 0.8230899137789143, 0.8311638797656318, 0.8424634095527512, 0.8429170104553959, 0.8400234528221466, 0.8449065767543097, 0.8421279445301829, 0.8268162061743902, 0.8444521508263364, 0.8454899652545173, 0.8420602743341995, 0.8375787642649165, 0.8457940067999513, 0.8344770715170876, 0.8443009092280834, 0.6583122878103135, 0.8456680264541682, 0.845636583130138, 0.8436406947937235, 0.8230549781890959, 0.8098651680850729, 0.8474408647834881, 0.8461548765438637, 0.8456801957776493, 0.846308938706666, 0.6652450339207755, 0.8261816030389839, 0.8457832630104719, 0.8375231489592233, 0.845558826181308, 0.6671944719238808, 0.8467019817272021, 0.846965679217517, 0.8471252853555095, 0.8489627195907088, 0.84492585010216, 0.8096909194861855, 0.845813112891439, 0.8490735958236562, 0.8457848138666363, 0.8355119285682413, 0.8254496252177103, 0.8438458888376678, 0.8456161591090691, 0.8457075803756001, 0.8081748504737485, 0.8332402399937474, 0.8399002862483432, 0.8271507509097308, 0.8308140367867355, 0.8466657587852213, 0.8428336342914816, 0.8333275545174048, 0.8379515514616702, 0.8507076908094937, 0.8502912994839751]}, {\"categories\": [\"0\", \"1\", \"2\", \"3\", \"4\", \"5\", \"6\", \"7\", \"8\", \"9\", \"10\", \"11\", \"12\", \"13\", \"14\", \"15\", \"16\", \"17\", \"18\", \"19\", \"20\", \"21\", \"22\", \"23\", \"24\", \"25\", \"26\", \"27\", \"28\", \"29\", \"30\", \"31\", \"32\", \"33\", \"34\", \"35\", \"36\", \"37\", \"38\", \"39\", \"40\", \"41\", \"42\", \"43\", \"44\", \"45\", \"46\", \"47\", \"48\", \"49\", \"50\", \"51\", \"52\", \"53\", \"54\", \"55\", \"56\", \"57\", \"58\", \"59\", \"60\", \"61\", \"62\", \"64\", \"67\", \"68\"], \"mode\": \"lines\", \"name\": \"AUC_binary_max\", \"stepped\": true, \"type\": \"scatter\", \"data\": [0.8322432080370346, 0.8462171687203272, 0.8462171687203272, 0.8462171687203272, 0.8462171687203272, 0.8462171687203272, 0.8462171687203272, 0.8462171687203272, 0.8462171687203272, 0.8462171687203272, 0.8462171687203272, 0.8462171687203272, 0.8462171687203272, 0.8462171687203272, 0.8462171687203272, 0.8462171687203272, 0.8462171687203272, 0.8462171687203272, 0.8462171687203272, 0.8462171687203272, 0.8462171687203272, 0.8462171687203272, 0.8462171687203272, 0.8462171687203272, 0.8462171687203272, 0.8462171687203272, 0.8462171687203272, 0.8462171687203272, 0.8462171687203272, 0.8462171687203272, 0.8462171687203272, 0.8474408647834881, 0.8474408647834881, 0.8474408647834881, 0.8474408647834881, 0.8474408647834881, 0.8474408647834881, 0.8474408647834881, 0.8474408647834881, 0.8474408647834881, 0.8474408647834881, 0.8474408647834881, 0.8474408647834881, 0.8474408647834881, 0.8489627195907088, 0.8489627195907088, 0.8489627195907088, 0.8489627195907088, 0.8490735958236562, 0.8490735958236562, 0.8490735958236562, 0.8490735958236562, 0.8490735958236562, 0.8490735958236562, 0.8490735958236562, 0.8490735958236562, 0.8490735958236562, 0.8490735958236562, 0.8490735958236562, 0.8490735958236562, 0.8490735958236562, 0.8490735958236562, 0.8490735958236562, 0.8490735958236562, 0.8507076908094937, 0.8507076908094937]}], \"recall_score_macro\": [{\"categories\": [\"0\", \"1\", \"2\", \"3\", \"4\", \"5\", \"6\", \"7\", \"8\", \"9\", \"10\", \"11\", \"12\", \"13\", \"14\", \"15\", \"16\", \"17\", \"18\", \"19\", \"20\", \"21\", \"22\", \"23\", \"24\", \"25\", \"26\", \"27\", \"28\", \"29\", \"30\", \"31\", \"32\", \"33\", \"34\", \"35\", \"36\", \"37\", \"38\", \"39\", \"40\", \"41\", \"42\", \"43\", \"44\", \"45\", \"46\", \"47\", \"48\", \"49\", \"50\", \"51\", \"52\", \"53\", \"54\", \"55\", \"56\", \"57\", \"58\", \"59\", \"60\", \"61\", \"62\", \"64\", \"67\", \"68\"], \"mode\": \"markers\", \"name\": \"recall_score_macro\", \"stepped\": false, \"type\": \"scatter\", \"data\": [0.7076520207076878, 0.7173420634328381, 0.6807297294479938, 0.6831916624442841, 0.6813409161752624, 0.7051593186743457, 0.7658600982797611, 0.6658638836208886, 0.7256494969791304, 0.690396064493483, 0.7407315941500193, 0.6926054520451189, 0.6897795698234486, 0.7670957271830632, 0.691878816746703, 0.762719427905178, 0.7101162092734551, 0.6973965424141555, 0.6758011865120537, 0.760122985864683, 0.7597130933361494, 0.7092923849954333, 0.7256494969791304, 0.7035534397514833, 0.7168885985620795, 0.5622509543370083, 0.7253467183244007, 0.7248454853855082, 0.627902432010366, 0.6970631212017002, 0.6880380409372158, 0.7160945764874995, 0.7265275963077121, 0.7246367663122241, 0.7177706392568053, 0.5610644134794428, 0.6946677255085406, 0.7260176592827765, 0.652129308648999, 0.6794621375194305, 0.5716598612253685, 0.7203832402993668, 0.7195054243794585, 0.7173634455068966, 0.7241383269759284, 0.7224526822993609, 0.6974744613033464, 0.7262545452742865, 0.7053112284072343, 0.7261456674753008, 0.7069578829692025, 0.6826850714065611, 0.7650283871045168, 0.7601643602075824, 0.7252928487043031, 0.6924678265982854, 0.7556775417031716, 0.6573767256357259, 0.6662528461046973, 0.7045859874449766, 0.6577925446008592, 0.766553451209815, 0.7067115621672935, 0.7073735012875044, 0.7340413588196121, 0.5902272498250652]}, {\"categories\": [\"0\", \"1\", \"2\", \"3\", \"4\", \"5\", \"6\", \"7\", \"8\", \"9\", \"10\", \"11\", \"12\", \"13\", \"14\", \"15\", \"16\", \"17\", \"18\", \"19\", \"20\", \"21\", \"22\", \"23\", \"24\", \"25\", \"26\", \"27\", \"28\", \"29\", \"30\", \"31\", \"32\", \"33\", \"34\", \"35\", \"36\", \"37\", \"38\", \"39\", \"40\", \"41\", \"42\", \"43\", \"44\", \"45\", \"46\", \"47\", \"48\", \"49\", \"50\", \"51\", \"52\", \"53\", \"54\", \"55\", \"56\", \"57\", \"58\", \"59\", \"60\", \"61\", \"62\", \"64\", \"67\", \"68\"], \"mode\": \"lines\", \"name\": \"recall_score_macro_max\", \"stepped\": true, \"type\": \"scatter\", \"data\": [0.7076520207076878, 0.7173420634328381, 0.7173420634328381, 0.7173420634328381, 0.7173420634328381, 0.7173420634328381, 0.7658600982797611, 0.7658600982797611, 0.7658600982797611, 0.7658600982797611, 0.7658600982797611, 0.7658600982797611, 0.7658600982797611, 0.7670957271830632, 0.7670957271830632, 0.7670957271830632, 0.7670957271830632, 0.7670957271830632, 0.7670957271830632, 0.7670957271830632, 0.7670957271830632, 0.7670957271830632, 0.7670957271830632, 0.7670957271830632, 0.7670957271830632, 0.7670957271830632, 0.7670957271830632, 0.7670957271830632, 0.7670957271830632, 0.7670957271830632, 0.7670957271830632, 0.7670957271830632, 0.7670957271830632, 0.7670957271830632, 0.7670957271830632, 0.7670957271830632, 0.7670957271830632, 0.7670957271830632, 0.7670957271830632, 0.7670957271830632, 0.7670957271830632, 0.7670957271830632, 0.7670957271830632, 0.7670957271830632, 0.7670957271830632, 0.7670957271830632, 0.7670957271830632, 0.7670957271830632, 0.7670957271830632, 0.7670957271830632, 0.7670957271830632, 0.7670957271830632, 0.7670957271830632, 0.7670957271830632, 0.7670957271830632, 0.7670957271830632, 0.7670957271830632, 0.7670957271830632, 0.7670957271830632, 0.7670957271830632, 0.7670957271830632, 0.7670957271830632, 0.7670957271830632, 0.7670957271830632, 0.7670957271830632, 0.7670957271830632]}], \"weighted_accuracy\": [{\"categories\": [\"0\", \"1\", \"2\", \"3\", \"4\", \"5\", \"6\", \"7\", \"8\", \"9\", \"10\", \"11\", \"12\", \"13\", \"14\", \"15\", \"16\", \"17\", \"18\", \"19\", \"20\", \"21\", \"22\", \"23\", \"24\", \"25\", \"26\", \"27\", \"28\", \"29\", \"30\", \"31\", \"32\", \"33\", \"34\", \"35\", \"36\", \"37\", \"38\", \"39\", \"40\", \"41\", \"42\", \"43\", \"44\", \"45\", \"46\", \"47\", \"48\", \"49\", \"50\", \"51\", \"52\", \"53\", \"54\", \"55\", \"56\", \"57\", \"58\", \"59\", \"60\", \"61\", \"62\", \"64\", \"67\", \"68\"], \"mode\": \"markers\", \"name\": \"weighted_accuracy\", \"stepped\": false, \"type\": \"scatter\", \"data\": [0.853240596251913, 0.8644457412105876, 0.8716378891297764, 0.8739802226237983, 0.874790522672701, 0.8657371191683263, 0.7660955015121553, 0.8745708651401782, 0.8604334520357525, 0.8574730152046657, 0.6489943170518958, 0.8559762020000132, 0.8737525843684922, 0.7510763935923076, 0.874252152666544, 0.7456069787175172, 0.8619669855296772, 0.8564124281081197, 0.8780197486686893, 0.7359975866116821, 0.7359109353484384, 0.8605897173533427, 0.8604334520357525, 0.8556272386968347, 0.8607364854638491, 0.8468564632560608, 0.862166974379557, 0.8618598235341125, 0.8906415712188546, 0.8515277707342, 0.8409429814308306, 0.8603257940598896, 0.8636538721309925, 0.8620001551947863, 0.8630178580999049, 0.8763564121664366, 0.8545884207358218, 0.8605136283615588, 0.8818196573324951, 0.8765766449765496, 0.8496272673315906, 0.8638339810492814, 0.8622370523008731, 0.8635824276083058, 0.8635839544325913, 0.8606059703573078, 0.8415196542364083, 0.8603637041896324, 0.8676103732736679, 0.8607417817542365, 0.8544516158088827, 0.8655611091674164, 0.7461993864415563, 0.7353757784993261, 0.8603476158759303, 0.8337626121001659, 0.71429766088397, 0.880907502248772, 0.8746379094549861, 0.8496958038033233, 0.8831508721151271, 0.7560932221728371, 0.8526940527199971, 0.8615616987540993, 0.8601026458063658, 0.8812104800134136]}, {\"categories\": [\"0\", \"1\", \"2\", \"3\", \"4\", \"5\", \"6\", \"7\", \"8\", \"9\", \"10\", \"11\", \"12\", \"13\", \"14\", \"15\", \"16\", \"17\", \"18\", \"19\", \"20\", \"21\", \"22\", \"23\", \"24\", \"25\", \"26\", \"27\", \"28\", \"29\", \"30\", \"31\", \"32\", \"33\", \"34\", \"35\", \"36\", \"37\", \"38\", \"39\", \"40\", \"41\", \"42\", \"43\", \"44\", \"45\", \"46\", \"47\", \"48\", \"49\", \"50\", \"51\", \"52\", \"53\", \"54\", \"55\", \"56\", \"57\", \"58\", \"59\", \"60\", \"61\", \"62\", \"64\", \"67\", \"68\"], \"mode\": \"lines\", \"name\": \"weighted_accuracy_max\", \"stepped\": true, \"type\": \"scatter\", \"data\": [0.853240596251913, 0.8644457412105876, 0.8716378891297764, 0.8739802226237983, 0.874790522672701, 0.874790522672701, 0.874790522672701, 0.874790522672701, 0.874790522672701, 0.874790522672701, 0.874790522672701, 0.874790522672701, 0.874790522672701, 0.874790522672701, 0.874790522672701, 0.874790522672701, 0.874790522672701, 0.874790522672701, 0.8780197486686893, 0.8780197486686893, 0.8780197486686893, 0.8780197486686893, 0.8780197486686893, 0.8780197486686893, 0.8780197486686893, 0.8780197486686893, 0.8780197486686893, 0.8780197486686893, 0.8906415712188546, 0.8906415712188546, 0.8906415712188546, 0.8906415712188546, 0.8906415712188546, 0.8906415712188546, 0.8906415712188546, 0.8906415712188546, 0.8906415712188546, 0.8906415712188546, 0.8906415712188546, 0.8906415712188546, 0.8906415712188546, 0.8906415712188546, 0.8906415712188546, 0.8906415712188546, 0.8906415712188546, 0.8906415712188546, 0.8906415712188546, 0.8906415712188546, 0.8906415712188546, 0.8906415712188546, 0.8906415712188546, 0.8906415712188546, 0.8906415712188546, 0.8906415712188546, 0.8906415712188546, 0.8906415712188546, 0.8906415712188546, 0.8906415712188546, 0.8906415712188546, 0.8906415712188546, 0.8906415712188546, 0.8906415712188546, 0.8906415712188546, 0.8906415712188546, 0.8906415712188546, 0.8906415712188546]}], \"f1_score_macro\": [{\"categories\": [\"0\", \"1\", \"2\", \"3\", \"4\", \"5\", \"6\", \"7\", \"8\", \"9\", \"10\", \"11\", \"12\", \"13\", \"14\", \"15\", \"16\", \"17\", \"18\", \"19\", \"20\", \"21\", \"22\", \"23\", \"24\", \"25\", \"26\", \"27\", \"28\", \"29\", \"30\", \"31\", \"32\", \"33\", \"34\", \"35\", \"36\", \"37\", \"38\", \"39\", \"40\", \"41\", \"42\", \"43\", \"44\", \"45\", \"46\", \"47\", \"48\", \"49\", \"50\", \"51\", \"52\", \"53\", \"54\", \"55\", \"56\", \"57\", \"58\", \"59\", \"60\", \"61\", \"62\", \"64\", \"67\", \"68\"], \"mode\": \"markers\", \"name\": \"f1_score_macro\", \"stepped\": false, \"type\": \"scatter\", \"data\": [0.7198283053149238, 0.7320161516642478, 0.700283832455531, 0.7033876482656343, 0.701785676339093, 0.7216873584964236, 0.73021252078522, 0.6860866930450449, 0.7375379782421, 0.7057344651748257, 0.666081940325833, 0.7074904793207881, 0.7098778735625692, 0.7247958597381309, 0.7119049029583733, 0.7197135682020042, 0.7248178670634512, 0.7118376913362324, 0.6970222565987135, 0.7140939613102193, 0.7138958442477986, 0.7237071515278233, 0.7375379782421, 0.7169692948943241, 0.730210878133258, 0.5442514949734651, 0.7379170508890278, 0.7373946763040501, 0.6440217627468515, 0.710154395878933, 0.6991022273845547, 0.7295505393617479, 0.7395447176908012, 0.7372742826627119, 0.7317986152973041, 0.5491212173912897, 0.7088130744977356, 0.7378939493021542, 0.6725395460915041, 0.700486292257332, 0.5696591951434796, 0.7342809879271469, 0.7330433637513922, 0.7316747238514868, 0.7374671784345719, 0.7349690600090302, 0.7074331068705878, 0.738039384063384, 0.7224593525694919, 0.7380759214254711, 0.7195742669879843, 0.7009499173026261, 0.7214397944578803, 0.713876429025078, 0.7372271938366096, 0.7007296413020352, 0.7025139982114993, 0.6781963751648511, 0.6865166408293073, 0.7159983808936785, 0.6789413753309217, 0.72649249723072, 0.7188048923626538, 0.7223815298780113, 0.7444726184002685, 0.5552336996539606]}, {\"categories\": [\"0\", \"1\", \"2\", \"3\", \"4\", \"5\", \"6\", \"7\", \"8\", \"9\", \"10\", \"11\", \"12\", \"13\", \"14\", \"15\", \"16\", \"17\", \"18\", \"19\", \"20\", \"21\", \"22\", \"23\", \"24\", \"25\", \"26\", \"27\", \"28\", \"29\", \"30\", \"31\", \"32\", \"33\", \"34\", \"35\", \"36\", \"37\", \"38\", \"39\", \"40\", \"41\", \"42\", \"43\", \"44\", \"45\", \"46\", \"47\", \"48\", \"49\", \"50\", \"51\", \"52\", \"53\", \"54\", \"55\", \"56\", \"57\", \"58\", \"59\", \"60\", \"61\", \"62\", \"64\", \"67\", \"68\"], \"mode\": \"lines\", \"name\": \"f1_score_macro_max\", \"stepped\": true, \"type\": \"scatter\", \"data\": [0.7198283053149238, 0.7320161516642478, 0.7320161516642478, 0.7320161516642478, 0.7320161516642478, 0.7320161516642478, 0.7320161516642478, 0.7320161516642478, 0.7375379782421, 0.7375379782421, 0.7375379782421, 0.7375379782421, 0.7375379782421, 0.7375379782421, 0.7375379782421, 0.7375379782421, 0.7375379782421, 0.7375379782421, 0.7375379782421, 0.7375379782421, 0.7375379782421, 0.7375379782421, 0.7375379782421, 0.7375379782421, 0.7375379782421, 0.7375379782421, 0.7379170508890278, 0.7379170508890278, 0.7379170508890278, 0.7379170508890278, 0.7379170508890278, 0.7379170508890278, 0.7395447176908012, 0.7395447176908012, 0.7395447176908012, 0.7395447176908012, 0.7395447176908012, 0.7395447176908012, 0.7395447176908012, 0.7395447176908012, 0.7395447176908012, 0.7395447176908012, 0.7395447176908012, 0.7395447176908012, 0.7395447176908012, 0.7395447176908012, 0.7395447176908012, 0.7395447176908012, 0.7395447176908012, 0.7395447176908012, 0.7395447176908012, 0.7395447176908012, 0.7395447176908012, 0.7395447176908012, 0.7395447176908012, 0.7395447176908012, 0.7395447176908012, 0.7395447176908012, 0.7395447176908012, 0.7395447176908012, 0.7395447176908012, 0.7395447176908012, 0.7395447176908012, 0.7395447176908012, 0.7444726184002685, 0.7444726184002685]}], \"recall_score_micro\": [{\"categories\": [\"0\", \"1\", \"2\", \"3\", \"4\", \"5\", \"6\", \"7\", \"8\", \"9\", \"10\", \"11\", \"12\", \"13\", \"14\", \"15\", \"16\", \"17\", \"18\", \"19\", \"20\", \"21\", \"22\", \"23\", \"24\", \"25\", \"26\", \"27\", \"28\", \"29\", \"30\", \"31\", \"32\", \"33\", \"34\", \"35\", \"36\", \"37\", \"38\", \"39\", \"40\", \"41\", \"42\", \"43\", \"44\", \"45\", \"46\", \"47\", \"48\", \"49\", \"50\", \"51\", \"52\", \"53\", \"54\", \"55\", \"56\", \"57\", \"58\", \"59\", \"60\", \"61\", \"62\", \"64\", \"67\", \"68\"], \"mode\": \"markers\", \"name\": \"recall_score_micro\", \"stepped\": false, \"type\": \"scatter\", \"data\": [0.7969284916667799, 0.8075436035320636, 0.7976833351197963, 0.8001481506083786, 0.7999614526609994, 0.8035615527029183, 0.7660176522657635, 0.7938932661422015, 0.8083037308892509, 0.7927554654440216, 0.6844905335082557, 0.7927537041426314, 0.8026142241693829, 0.7572949329371916, 0.8037535345544689, 0.7521735717229605, 0.8031841309764102, 0.7948441172785177, 0.799770980496355, 0.7453500385221776, 0.7451595663575332, 0.8020465818927146, 0.8083037308892509, 0.7967395291890416, 0.8050808009593559, 0.7366318482543239, 0.8092515626517551, 0.8088723796238566, 0.788966906153333, 0.7918119111277513, 0.7817606673218709, 0.8045108941523286, 0.8105760612973143, 0.8088723796238566, 0.806786243934204, 0.7542685139195651, 0.7927534525281469, 0.8084934482104423, 0.7929454343796973, 0.8003373647006015, 0.7421311344240319, 0.8083024728168293, 0.8069752064119423, 0.8069754580264267, 0.8096307456796535, 0.8071654269621024, 0.7857439762234378, 0.808493196595958, 0.8048895739512584, 0.8086831655316338, 0.7973071714657098, 0.7948400914467683, 0.7535033542726908, 0.7449703522653105, 0.8081140135680595, 0.7791023602948319, 0.7303689121246479, 0.7944611600333541, 0.7940834866923616, 0.7935150895722404, 0.7959788986028855, 0.7601406927550629, 0.7961706288399517, 0.8018566129570389, 0.8113351821965643, 0.7692481306301887]}, {\"categories\": [\"0\", \"1\", \"2\", \"3\", \"4\", \"5\", \"6\", \"7\", \"8\", \"9\", \"10\", \"11\", \"12\", \"13\", \"14\", \"15\", \"16\", \"17\", \"18\", \"19\", \"20\", \"21\", \"22\", \"23\", \"24\", \"25\", \"26\", \"27\", \"28\", \"29\", \"30\", \"31\", \"32\", \"33\", \"34\", \"35\", \"36\", \"37\", \"38\", \"39\", \"40\", \"41\", \"42\", \"43\", \"44\", \"45\", \"46\", \"47\", \"48\", \"49\", \"50\", \"51\", \"52\", \"53\", \"54\", \"55\", \"56\", \"57\", \"58\", \"59\", \"60\", \"61\", \"62\", \"64\", \"67\", \"68\"], \"mode\": \"lines\", \"name\": \"recall_score_micro_max\", \"stepped\": true, \"type\": \"scatter\", \"data\": [0.7969284916667799, 0.8075436035320636, 0.8075436035320636, 0.8075436035320636, 0.8075436035320636, 0.8075436035320636, 0.8075436035320636, 0.8075436035320636, 0.8083037308892509, 0.8083037308892509, 0.8083037308892509, 0.8083037308892509, 0.8083037308892509, 0.8083037308892509, 0.8083037308892509, 0.8083037308892509, 0.8083037308892509, 0.8083037308892509, 0.8083037308892509, 0.8083037308892509, 0.8083037308892509, 0.8083037308892509, 0.8083037308892509, 0.8083037308892509, 0.8083037308892509, 0.8083037308892509, 0.8092515626517551, 0.8092515626517551, 0.8092515626517551, 0.8092515626517551, 0.8092515626517551, 0.8092515626517551, 0.8105760612973143, 0.8105760612973143, 0.8105760612973143, 0.8105760612973143, 0.8105760612973143, 0.8105760612973143, 0.8105760612973143, 0.8105760612973143, 0.8105760612973143, 0.8105760612973143, 0.8105760612973143, 0.8105760612973143, 0.8105760612973143, 0.8105760612973143, 0.8105760612973143, 0.8105760612973143, 0.8105760612973143, 0.8105760612973143, 0.8105760612973143, 0.8105760612973143, 0.8105760612973143, 0.8105760612973143, 0.8105760612973143, 0.8105760612973143, 0.8105760612973143, 0.8105760612973143, 0.8105760612973143, 0.8105760612973143, 0.8105760612973143, 0.8105760612973143, 0.8105760612973143, 0.8105760612973143, 0.8113351821965643, 0.8113351821965643]}], \"precision_score_weighted\": [{\"categories\": [\"0\", \"1\", \"2\", \"3\", \"4\", \"5\", \"6\", \"7\", \"8\", \"9\", \"10\", \"11\", \"12\", \"13\", \"14\", \"15\", \"16\", \"17\", \"18\", \"19\", \"20\", \"21\", \"22\", \"23\", \"24\", \"25\", \"26\", \"27\", \"28\", \"29\", \"30\", \"31\", \"32\", \"33\", \"34\", \"35\", \"36\", \"37\", \"38\", \"39\", \"40\", \"41\", \"42\", \"43\", \"44\", \"45\", \"46\", \"47\", \"48\", \"49\", \"50\", \"51\", \"52\", \"53\", \"54\", \"55\", \"56\", \"57\", \"58\", \"59\", \"60\", \"61\", \"62\", \"64\", \"67\", \"68\"], \"mode\": \"markers\", \"name\": \"precision_score_weighted\", \"stepped\": false, \"type\": \"scatter\", \"data\": [0.7870378736253779, 0.7981452275158148, 0.7849140547671131, 0.7877132983817127, 0.7872917753389682, 0.7929264877437248, 0.8063169609403001, 0.7799025890341665, 0.8004284208747431, 0.7803803790072147, 0.8006612329403858, 0.780720291029595, 0.7904924995985327, 0.8078147957498337, 0.7918797415509411, 0.804617161830243, 0.7933094259526186, 0.783517693774497, 0.7873036168461336, 0.8033560725577223, 0.8032362521549526, 0.7918263810506314, 0.8004284208747431, 0.7863932083278895, 0.7958378174772808, 0.6581126374373724, 0.80113223292102, 0.8007150403136344, 0.7839183805018947, 0.780595186847991, 0.7707190458535967, 0.7953031269213703, 0.8024944310455346, 0.8006830629435177, 0.797560088495599, 0.7305096584253332, 0.7810868761396988, 0.800682994719153, 0.7809809431394165, 0.7879283642572451, 0.7068275378447567, 0.7993492004819366, 0.7981338494648355, 0.7978705761058337, 0.8011508885877354, 0.7986531227340493, 0.7765365614104491, 0.8007327544716567, 0.7938368224634207, 0.8008546586630958, 0.7874884186523586, 0.7814186971800862, 0.806297908884218, 0.8033696958598083, 0.8001943455307848, 0.770651843988939, 0.80173486023635, 0.7822265049099527, 0.7801905526362661, 0.7839140337456537, 0.7846149550252919, 0.8070355749951101, 0.7864264326204863, 0.7912586647651912, 0.8048605970747309, 0.6553657884453957]}, {\"categories\": [\"0\", \"1\", \"2\", \"3\", \"4\", \"5\", \"6\", \"7\", \"8\", \"9\", \"10\", \"11\", \"12\", \"13\", \"14\", \"15\", \"16\", \"17\", \"18\", \"19\", \"20\", \"21\", \"22\", \"23\", \"24\", \"25\", \"26\", \"27\", \"28\", \"29\", \"30\", \"31\", \"32\", \"33\", \"34\", \"35\", \"36\", \"37\", \"38\", \"39\", \"40\", \"41\", \"42\", \"43\", \"44\", \"45\", \"46\", \"47\", \"48\", \"49\", \"50\", \"51\", \"52\", \"53\", \"54\", \"55\", \"56\", \"57\", \"58\", \"59\", \"60\", \"61\", \"62\", \"64\", \"67\", \"68\"], \"mode\": \"lines\", \"name\": \"precision_score_weighted_max\", \"stepped\": true, \"type\": \"scatter\", \"data\": [0.7870378736253779, 0.7981452275158148, 0.7981452275158148, 0.7981452275158148, 0.7981452275158148, 0.7981452275158148, 0.8063169609403001, 0.8063169609403001, 0.8063169609403001, 0.8063169609403001, 0.8063169609403001, 0.8063169609403001, 0.8063169609403001, 0.8078147957498337, 0.8078147957498337, 0.8078147957498337, 0.8078147957498337, 0.8078147957498337, 0.8078147957498337, 0.8078147957498337, 0.8078147957498337, 0.8078147957498337, 0.8078147957498337, 0.8078147957498337, 0.8078147957498337, 0.8078147957498337, 0.8078147957498337, 0.8078147957498337, 0.8078147957498337, 0.8078147957498337, 0.8078147957498337, 0.8078147957498337, 0.8078147957498337, 0.8078147957498337, 0.8078147957498337, 0.8078147957498337, 0.8078147957498337, 0.8078147957498337, 0.8078147957498337, 0.8078147957498337, 0.8078147957498337, 0.8078147957498337, 0.8078147957498337, 0.8078147957498337, 0.8078147957498337, 0.8078147957498337, 0.8078147957498337, 0.8078147957498337, 0.8078147957498337, 0.8078147957498337, 0.8078147957498337, 0.8078147957498337, 0.8078147957498337, 0.8078147957498337, 0.8078147957498337, 0.8078147957498337, 0.8078147957498337, 0.8078147957498337, 0.8078147957498337, 0.8078147957498337, 0.8078147957498337, 0.8078147957498337, 0.8078147957498337, 0.8078147957498337, 0.8078147957498337, 0.8078147957498337]}], \"accuracy\": [{\"categories\": [\"0\", \"1\", \"2\", \"3\", \"4\", \"5\", \"6\", \"7\", \"8\", \"9\", \"10\", \"11\", \"12\", \"13\", \"14\", \"15\", \"16\", \"17\", \"18\", \"19\", \"20\", \"21\", \"22\", \"23\", \"24\", \"25\", \"26\", \"27\", \"28\", \"29\", \"30\", \"31\", \"32\", \"33\", \"34\", \"35\", \"36\", \"37\", \"38\", \"39\", \"40\", \"41\", \"42\", \"43\", \"44\", \"45\", \"46\", \"47\", \"48\", \"49\", \"50\", \"51\", \"52\", \"53\", \"54\", \"55\", \"56\", \"57\", \"58\", \"59\", \"60\", \"61\", \"62\", \"64\", \"67\", \"68\"], \"mode\": \"markers\", \"name\": \"accuracy\", \"stepped\": false, \"type\": \"scatter\", \"data\": [0.7969284916667799, 0.8075436035320636, 0.7976833351197963, 0.8001481506083786, 0.7999614526609994, 0.8035615527029183, 0.7660176522657635, 0.7938932661422015, 0.8083037308892509, 0.7927554654440216, 0.6844905335082557, 0.7927537041426314, 0.8026142241693829, 0.7572949329371916, 0.8037535345544689, 0.7521735717229605, 0.8031841309764102, 0.7948441172785177, 0.799770980496355, 0.7453500385221776, 0.7451595663575332, 0.8020465818927146, 0.8083037308892509, 0.7967395291890416, 0.8050808009593559, 0.7366318482543239, 0.8092515626517551, 0.8088723796238566, 0.788966906153333, 0.7918119111277513, 0.7817606673218709, 0.8045108941523286, 0.8105760612973143, 0.8088723796238566, 0.806786243934204, 0.7542685139195651, 0.7927534525281469, 0.8084934482104423, 0.7929454343796973, 0.8003373647006015, 0.7421311344240319, 0.8083024728168293, 0.8069752064119423, 0.8069754580264267, 0.8096307456796535, 0.8071654269621024, 0.7857439762234378, 0.808493196595958, 0.8048895739512584, 0.8086831655316338, 0.7973071714657098, 0.7948400914467683, 0.7535033542726908, 0.7449703522653105, 0.8081140135680595, 0.7791023602948319, 0.7303689121246479, 0.7944611600333541, 0.7940834866923616, 0.7935150895722404, 0.7959788986028855, 0.7601406927550629, 0.7961706288399517, 0.8018566129570389, 0.8113351821965643, 0.7692481306301887]}, {\"categories\": [\"0\", \"1\", \"2\", \"3\", \"4\", \"5\", \"6\", \"7\", \"8\", \"9\", \"10\", \"11\", \"12\", \"13\", \"14\", \"15\", \"16\", \"17\", \"18\", \"19\", \"20\", \"21\", \"22\", \"23\", \"24\", \"25\", \"26\", \"27\", \"28\", \"29\", \"30\", \"31\", \"32\", \"33\", \"34\", \"35\", \"36\", \"37\", \"38\", \"39\", \"40\", \"41\", \"42\", \"43\", \"44\", \"45\", \"46\", \"47\", \"48\", \"49\", \"50\", \"51\", \"52\", \"53\", \"54\", \"55\", \"56\", \"57\", \"58\", \"59\", \"60\", \"61\", \"62\", \"64\", \"67\", \"68\"], \"mode\": \"lines\", \"name\": \"accuracy_max\", \"stepped\": true, \"type\": \"scatter\", \"data\": [0.7969284916667799, 0.8075436035320636, 0.8075436035320636, 0.8075436035320636, 0.8075436035320636, 0.8075436035320636, 0.8075436035320636, 0.8075436035320636, 0.8083037308892509, 0.8083037308892509, 0.8083037308892509, 0.8083037308892509, 0.8083037308892509, 0.8083037308892509, 0.8083037308892509, 0.8083037308892509, 0.8083037308892509, 0.8083037308892509, 0.8083037308892509, 0.8083037308892509, 0.8083037308892509, 0.8083037308892509, 0.8083037308892509, 0.8083037308892509, 0.8083037308892509, 0.8083037308892509, 0.8092515626517551, 0.8092515626517551, 0.8092515626517551, 0.8092515626517551, 0.8092515626517551, 0.8092515626517551, 0.8105760612973143, 0.8105760612973143, 0.8105760612973143, 0.8105760612973143, 0.8105760612973143, 0.8105760612973143, 0.8105760612973143, 0.8105760612973143, 0.8105760612973143, 0.8105760612973143, 0.8105760612973143, 0.8105760612973143, 0.8105760612973143, 0.8105760612973143, 0.8105760612973143, 0.8105760612973143, 0.8105760612973143, 0.8105760612973143, 0.8105760612973143, 0.8105760612973143, 0.8105760612973143, 0.8105760612973143, 0.8105760612973143, 0.8105760612973143, 0.8105760612973143, 0.8105760612973143, 0.8105760612973143, 0.8105760612973143, 0.8105760612973143, 0.8105760612973143, 0.8105760612973143, 0.8105760612973143, 0.8113351821965643, 0.8113351821965643]}], \"average_precision_score_micro\": [{\"categories\": [\"0\", \"1\", \"2\", \"3\", \"4\", \"5\", \"6\", \"7\", \"8\", \"9\", \"10\", \"11\", \"12\", \"13\", \"14\", \"15\", \"16\", \"17\", \"18\", \"19\", \"20\", \"21\", \"22\", \"23\", \"24\", \"25\", \"26\", \"27\", \"28\", \"29\", \"30\", \"31\", \"32\", \"33\", \"34\", \"35\", \"36\", \"37\", \"38\", \"39\", \"40\", \"41\", \"42\", \"43\", \"44\", \"45\", \"46\", \"47\", \"48\", \"49\", \"50\", \"51\", \"52\", \"53\", \"54\", \"55\", \"56\", \"57\", \"58\", \"59\", \"60\", \"61\", \"62\", \"64\", \"67\", \"68\"], \"mode\": \"markers\", \"name\": \"average_precision_score_micro\", \"stepped\": false, \"type\": \"scatter\", \"data\": [0.8839056556029765, 0.8930478977595925, 0.8861364494192671, 0.8899349806759368, 0.8905288017365516, 0.8864652429954966, 0.8497502633538812, 0.8840463785290575, 0.8920362508437415, 0.8815760696799952, 0.8028110378022832, 0.8826539167059628, 0.8885112563385646, 0.8415003425270521, 0.8883124775590121, 0.8407340461789962, 0.8897776479087218, 0.8774689230111762, 0.8885579564376167, 0.8439365650083932, 0.8387609636924476, 0.8865532510922518, 0.8920324462083832, 0.884469993260163, 0.8920444674408217, 0.765620643994421, 0.8919625049683434, 0.891930850209673, 0.8837243969187742, 0.8774646673852812, 0.8674955810557401, 0.8930939903443881, 0.8929552277471952, 0.8919680337764682, 0.8932445803789298, 0.780722474896247, 0.8786443582817717, 0.892049703558793, 0.8825402281501548, 0.8916265502281489, 0.7790551709490393, 0.8930565453548079, 0.8937445833405526, 0.8938262081778847, 0.894791313355772, 0.8919832468296663, 0.8666634529648464, 0.8920506705244591, 0.8943081376385285, 0.8920481064178922, 0.8861736195346049, 0.8724769905855811, 0.8398887712600503, 0.8441047067079168, 0.8919946765451482, 0.864754381517984, 0.8217999775803182, 0.883638197320821, 0.8794617263959088, 0.8821508719891594, 0.888859634200367, 0.8393228662995943, 0.8845956203511209, 0.8881619124364833, 0.8955244583980093, 0.8853766931710542]}, {\"categories\": [\"0\", \"1\", \"2\", \"3\", \"4\", \"5\", \"6\", \"7\", \"8\", \"9\", \"10\", \"11\", \"12\", \"13\", \"14\", \"15\", \"16\", \"17\", \"18\", \"19\", \"20\", \"21\", \"22\", \"23\", \"24\", \"25\", \"26\", \"27\", \"28\", \"29\", \"30\", \"31\", \"32\", \"33\", \"34\", \"35\", \"36\", \"37\", \"38\", \"39\", \"40\", \"41\", \"42\", \"43\", \"44\", \"45\", \"46\", \"47\", \"48\", \"49\", \"50\", \"51\", \"52\", \"53\", \"54\", \"55\", \"56\", \"57\", \"58\", \"59\", \"60\", \"61\", \"62\", \"64\", \"67\", \"68\"], \"mode\": \"lines\", \"name\": \"average_precision_score_micro_max\", \"stepped\": true, \"type\": \"scatter\", \"data\": [0.8839056556029765, 0.8930478977595925, 0.8930478977595925, 0.8930478977595925, 0.8930478977595925, 0.8930478977595925, 0.8930478977595925, 0.8930478977595925, 0.8930478977595925, 0.8930478977595925, 0.8930478977595925, 0.8930478977595925, 0.8930478977595925, 0.8930478977595925, 0.8930478977595925, 0.8930478977595925, 0.8930478977595925, 0.8930478977595925, 0.8930478977595925, 0.8930478977595925, 0.8930478977595925, 0.8930478977595925, 0.8930478977595925, 0.8930478977595925, 0.8930478977595925, 0.8930478977595925, 0.8930478977595925, 0.8930478977595925, 0.8930478977595925, 0.8930478977595925, 0.8930478977595925, 0.8930939903443881, 0.8930939903443881, 0.8930939903443881, 0.8932445803789298, 0.8932445803789298, 0.8932445803789298, 0.8932445803789298, 0.8932445803789298, 0.8932445803789298, 0.8932445803789298, 0.8932445803789298, 0.8937445833405526, 0.8938262081778847, 0.894791313355772, 0.894791313355772, 0.894791313355772, 0.894791313355772, 0.894791313355772, 0.894791313355772, 0.894791313355772, 0.894791313355772, 0.894791313355772, 0.894791313355772, 0.894791313355772, 0.894791313355772, 0.894791313355772, 0.894791313355772, 0.894791313355772, 0.894791313355772, 0.894791313355772, 0.894791313355772, 0.894791313355772, 0.894791313355772, 0.8955244583980093, 0.8955244583980093]}], \"precision_score_binary\": [{\"categories\": [\"0\", \"1\", \"2\", \"3\", \"4\", \"5\", \"6\", \"7\", \"8\", \"9\", \"10\", \"11\", \"12\", \"13\", \"14\", \"15\", \"16\", \"17\", \"18\", \"19\", \"20\", \"21\", \"22\", \"23\", \"24\", \"25\", \"26\", \"27\", \"28\", \"29\", \"30\", \"31\", \"32\", \"33\", \"34\", \"35\", \"36\", \"37\", \"38\", \"39\", \"40\", \"41\", \"42\", \"43\", \"44\", \"45\", \"46\", \"47\", \"48\", \"49\", \"50\", \"51\", \"52\", \"53\", \"54\", \"55\", \"56\", \"57\", \"58\", \"59\", \"60\", \"61\", \"62\", \"64\", \"67\", \"68\"], \"mode\": \"markers\", \"name\": \"precision_score_binary\", \"stepped\": false, \"type\": \"scatter\", \"data\": [0.6392266727173807, 0.6700916431191436, 0.6820143686787565, 0.6889951132321853, 0.6909185599809128, 0.6711193135733909, 0.5384913542802615, 0.6861118986381067, 0.6619098544007469, 0.6446782863276762, 0.44847700768748794, 0.6410698438062864, 0.6898128843702158, 0.5262140392125861, 0.6919919145174607, 0.5192722030836137, 0.6621559461279442, 0.6440828442811286, 0.7010683842155206, 0.5099736432641928, 0.5105102982491734, 0.6577604633189965, 0.6619098544007469, 0.6442149310607465, 0.6601257143954274, 0.35614460750626215, 0.6659287731246357, 0.6650555433117213, 0.7599698571181351, 0.6313757835673689, 0.6048418259520194, 0.6595826527289345, 0.67091015731187, 0.6653889884743859, 0.6669319484716363, 0.6396547527563597, 0.6377967699581838, 0.6623041903502991, 0.7130870543623421, 0.6966714882206148, 0.5327224031536051, 0.6694764898403768, 0.665572309230039, 0.6685008219125538, 0.6694898767484211, 0.6615679881134195, 0.6106649168220553, 0.662050169221161, 0.6747099614676519, 0.662854504815708, 0.6433954287545476, 0.6634197267414125, 0.5206822319768037, 0.5096034430746536, 0.6616733845717601, 0.5924301236728485, 0.49240068418688715, 0.7097997981947463, 0.6869683300522287, 0.6305290844637391, 0.7191992628375656, 0.5297609153228989, 0.6386946554481326, 0.6604279832541456, 0.6643689061481269, 0.2955500641129384]}, {\"categories\": [\"0\", \"1\", \"2\", \"3\", \"4\", \"5\", \"6\", \"7\", \"8\", \"9\", \"10\", \"11\", \"12\", \"13\", \"14\", \"15\", \"16\", \"17\", \"18\", \"19\", \"20\", \"21\", \"22\", \"23\", \"24\", \"25\", \"26\", \"27\", \"28\", \"29\", \"30\", \"31\", \"32\", \"33\", \"34\", \"35\", \"36\", \"37\", \"38\", \"39\", \"40\", \"41\", \"42\", \"43\", \"44\", \"45\", \"46\", \"47\", \"48\", \"49\", \"50\", \"51\", \"52\", \"53\", \"54\", \"55\", \"56\", \"57\", \"58\", \"59\", \"60\", \"61\", \"62\", \"64\", \"67\", \"68\"], \"mode\": \"lines\", \"name\": \"precision_score_binary_max\", \"stepped\": true, \"type\": \"scatter\", \"data\": [0.6392266727173807, 0.6700916431191436, 0.6820143686787565, 0.6889951132321853, 0.6909185599809128, 0.6909185599809128, 0.6909185599809128, 0.6909185599809128, 0.6909185599809128, 0.6909185599809128, 0.6909185599809128, 0.6909185599809128, 0.6909185599809128, 0.6909185599809128, 0.6919919145174607, 0.6919919145174607, 0.6919919145174607, 0.6919919145174607, 0.7010683842155206, 0.7010683842155206, 0.7010683842155206, 0.7010683842155206, 0.7010683842155206, 0.7010683842155206, 0.7010683842155206, 0.7010683842155206, 0.7010683842155206, 0.7010683842155206, 0.7599698571181351, 0.7599698571181351, 0.7599698571181351, 0.7599698571181351, 0.7599698571181351, 0.7599698571181351, 0.7599698571181351, 0.7599698571181351, 0.7599698571181351, 0.7599698571181351, 0.7599698571181351, 0.7599698571181351, 0.7599698571181351, 0.7599698571181351, 0.7599698571181351, 0.7599698571181351, 0.7599698571181351, 0.7599698571181351, 0.7599698571181351, 0.7599698571181351, 0.7599698571181351, 0.7599698571181351, 0.7599698571181351, 0.7599698571181351, 0.7599698571181351, 0.7599698571181351, 0.7599698571181351, 0.7599698571181351, 0.7599698571181351, 0.7599698571181351, 0.7599698571181351, 0.7599698571181351, 0.7599698571181351, 0.7599698571181351, 0.7599698571181351, 0.7599698571181351, 0.7599698571181351, 0.7599698571181351]}], \"log_loss\": [{\"categories\": [\"0\", \"1\", \"2\", \"3\", \"4\", \"5\", \"6\", \"7\", \"8\", \"9\", \"10\", \"11\", \"12\", \"13\", \"14\", \"15\", \"16\", \"17\", \"18\", \"19\", \"20\", \"21\", \"22\", \"23\", \"24\", \"25\", \"26\", \"27\", \"28\", \"29\", \"30\", \"31\", \"32\", \"33\", \"34\", \"35\", \"36\", \"37\", \"38\", \"39\", \"40\", \"41\", \"42\", \"43\", \"44\", \"45\", \"46\", \"47\", \"48\", \"49\", \"50\", \"51\", \"52\", \"53\", \"54\", \"55\", \"56\", \"57\", \"58\", \"59\", \"60\", \"61\", \"62\", \"64\", \"67\", \"68\"], \"mode\": \"markers\", \"name\": \"log_loss\", \"stepped\": false, \"type\": \"scatter\", \"data\": [0.43715157418140355, 0.4124297330039897, 0.4246666079574636, 0.42182212386735973, 0.42344133776615406, 0.4771572640185049, 0.48123627737509783, 0.4308948366838898, 0.4152012776079945, 0.48202923340469483, 0.532917957668045, 0.4804363329847465, 0.4213498444067628, 0.5079304585225419, 0.4262289248105945, 0.4975670509879816, 0.4214421895110047, 0.48142605758778473, 0.4361212434039966, 0.491409197594001, 0.5012028560259674, 0.4792314699770346, 0.41520090864760034, 0.47966775869183514, 0.4157213566439255, 0.5429323971938561, 0.41512028745659363, 0.4151185071874273, 0.44822975783186036, 0.46522393060586953, 0.5423502501700235, 0.41152839759949994, 0.4126238710273105, 0.4151116193833146, 0.41254647414313356, 0.5379955923774887, 0.4518642462787952, 0.4151753539873608, 0.4410746570934876, 0.4180322539471074, 0.5408116631186403, 0.4129989458537587, 0.4114128074234117, 0.4113729512779223, 0.40964412131271283, 0.41479597326630263, 0.6101149490242571, 0.41515777845719254, 0.41511882434475034, 0.4151847970952226, 0.431317419766866, 0.43861105871721584, 0.4937493667423364, 0.4912568862986869, 0.4151287099688851, 0.49964940503088223, 0.5214178121104084, 0.4377959085883284, 0.43773466645408615, 0.4472136384173592, 0.4345069058594192, 0.4930896296668217, 0.4370910916577272, 0.4249772215067921, 0.41124206578850664, 0.47755817742108225]}, {\"categories\": [\"0\", \"1\", \"2\", \"3\", \"4\", \"5\", \"6\", \"7\", \"8\", \"9\", \"10\", \"11\", \"12\", \"13\", \"14\", \"15\", \"16\", \"17\", \"18\", \"19\", \"20\", \"21\", \"22\", \"23\", \"24\", \"25\", \"26\", \"27\", \"28\", \"29\", \"30\", \"31\", \"32\", \"33\", \"34\", \"35\", \"36\", \"37\", \"38\", \"39\", \"40\", \"41\", \"42\", \"43\", \"44\", \"45\", \"46\", \"47\", \"48\", \"49\", \"50\", \"51\", \"52\", \"53\", \"54\", \"55\", \"56\", \"57\", \"58\", \"59\", \"60\", \"61\", \"62\", \"64\", \"67\", \"68\"], \"mode\": \"lines\", \"name\": \"log_loss_min\", \"stepped\": true, \"type\": \"scatter\", \"data\": [0.43715157418140355, 0.4124297330039897, 0.4124297330039897, 0.4124297330039897, 0.4124297330039897, 0.4124297330039897, 0.4124297330039897, 0.4124297330039897, 0.4124297330039897, 0.4124297330039897, 0.4124297330039897, 0.4124297330039897, 0.4124297330039897, 0.4124297330039897, 0.4124297330039897, 0.4124297330039897, 0.4124297330039897, 0.4124297330039897, 0.4124297330039897, 0.4124297330039897, 0.4124297330039897, 0.4124297330039897, 0.4124297330039897, 0.4124297330039897, 0.4124297330039897, 0.4124297330039897, 0.4124297330039897, 0.4124297330039897, 0.4124297330039897, 0.4124297330039897, 0.4124297330039897, 0.41152839759949994, 0.41152839759949994, 0.41152839759949994, 0.41152839759949994, 0.41152839759949994, 0.41152839759949994, 0.41152839759949994, 0.41152839759949994, 0.41152839759949994, 0.41152839759949994, 0.41152839759949994, 0.4114128074234117, 0.4113729512779223, 0.40964412131271283, 0.40964412131271283, 0.40964412131271283, 0.40964412131271283, 0.40964412131271283, 0.40964412131271283, 0.40964412131271283, 0.40964412131271283, 0.40964412131271283, 0.40964412131271283, 0.40964412131271283, 0.40964412131271283, 0.40964412131271283, 0.40964412131271283, 0.40964412131271283, 0.40964412131271283, 0.40964412131271283, 0.40964412131271283, 0.40964412131271283, 0.40964412131271283, 0.40964412131271283, 0.40964412131271283]}], \"f1_score_micro\": [{\"categories\": [\"0\", \"1\", \"2\", \"3\", \"4\", \"5\", \"6\", \"7\", \"8\", \"9\", \"10\", \"11\", \"12\", \"13\", \"14\", \"15\", \"16\", \"17\", \"18\", \"19\", \"20\", \"21\", \"22\", \"23\", \"24\", \"25\", \"26\", \"27\", \"28\", \"29\", \"30\", \"31\", \"32\", \"33\", \"34\", \"35\", \"36\", \"37\", \"38\", \"39\", \"40\", \"41\", \"42\", \"43\", \"44\", \"45\", \"46\", \"47\", \"48\", \"49\", \"50\", \"51\", \"52\", \"53\", \"54\", \"55\", \"56\", \"57\", \"58\", \"59\", \"60\", \"61\", \"62\", \"64\", \"67\", \"68\"], \"mode\": \"markers\", \"name\": \"f1_score_micro\", \"stepped\": false, \"type\": \"scatter\", \"data\": [0.7969284916667799, 0.8075436035320634, 0.797683335119796, 0.8001481506083786, 0.7999614526609994, 0.8035615527029183, 0.7660176522657635, 0.7938932661422013, 0.8083037308892509, 0.7927554654440216, 0.6844905335082557, 0.7927537041426314, 0.8026142241693829, 0.7572949329371916, 0.8037535345544689, 0.7521735717229604, 0.8031841309764102, 0.7948441172785176, 0.799770980496355, 0.7453500385221775, 0.7451595663575332, 0.8020465818927146, 0.8083037308892509, 0.7967395291890415, 0.8050808009593559, 0.7366318482543239, 0.8092515626517551, 0.8088723796238566, 0.788966906153333, 0.7918119111277513, 0.7817606673218708, 0.8045108941523286, 0.8105760612973142, 0.8088723796238566, 0.806786243934204, 0.7542685139195651, 0.7927534525281469, 0.8084934482104423, 0.7929454343796973, 0.8003373647006015, 0.7421311344240318, 0.8083024728168293, 0.8069752064119423, 0.8069754580264267, 0.8096307456796535, 0.8071654269621025, 0.7857439762234378, 0.808493196595958, 0.8048895739512584, 0.8086831655316338, 0.7973071714657098, 0.7948400914467683, 0.7535033542726908, 0.7449703522653104, 0.8081140135680595, 0.7791023602948319, 0.7303689121246479, 0.7944611600333541, 0.7940834866923616, 0.7935150895722404, 0.7959788986028854, 0.7601406927550629, 0.7961706288399517, 0.8018566129570389, 0.8113351821965643, 0.7692481306301887]}, {\"categories\": [\"0\", \"1\", \"2\", \"3\", \"4\", \"5\", \"6\", \"7\", \"8\", \"9\", \"10\", \"11\", \"12\", \"13\", \"14\", \"15\", \"16\", \"17\", \"18\", \"19\", \"20\", \"21\", \"22\", \"23\", \"24\", \"25\", \"26\", \"27\", \"28\", \"29\", \"30\", \"31\", \"32\", \"33\", \"34\", \"35\", \"36\", \"37\", \"38\", \"39\", \"40\", \"41\", \"42\", \"43\", \"44\", \"45\", \"46\", \"47\", \"48\", \"49\", \"50\", \"51\", \"52\", \"53\", \"54\", \"55\", \"56\", \"57\", \"58\", \"59\", \"60\", \"61\", \"62\", \"64\", \"67\", \"68\"], \"mode\": \"lines\", \"name\": \"f1_score_micro_max\", \"stepped\": true, \"type\": \"scatter\", \"data\": [0.7969284916667799, 0.8075436035320634, 0.8075436035320634, 0.8075436035320634, 0.8075436035320634, 0.8075436035320634, 0.8075436035320634, 0.8075436035320634, 0.8083037308892509, 0.8083037308892509, 0.8083037308892509, 0.8083037308892509, 0.8083037308892509, 0.8083037308892509, 0.8083037308892509, 0.8083037308892509, 0.8083037308892509, 0.8083037308892509, 0.8083037308892509, 0.8083037308892509, 0.8083037308892509, 0.8083037308892509, 0.8083037308892509, 0.8083037308892509, 0.8083037308892509, 0.8083037308892509, 0.8092515626517551, 0.8092515626517551, 0.8092515626517551, 0.8092515626517551, 0.8092515626517551, 0.8092515626517551, 0.8105760612973142, 0.8105760612973142, 0.8105760612973142, 0.8105760612973142, 0.8105760612973142, 0.8105760612973142, 0.8105760612973142, 0.8105760612973142, 0.8105760612973142, 0.8105760612973142, 0.8105760612973142, 0.8105760612973142, 0.8105760612973142, 0.8105760612973142, 0.8105760612973142, 0.8105760612973142, 0.8105760612973142, 0.8105760612973142, 0.8105760612973142, 0.8105760612973142, 0.8105760612973142, 0.8105760612973142, 0.8105760612973142, 0.8105760612973142, 0.8105760612973142, 0.8105760612973142, 0.8105760612973142, 0.8105760612973142, 0.8105760612973142, 0.8105760612973142, 0.8105760612973142, 0.8105760612973142, 0.8113351821965643, 0.8113351821965643]}], \"AUC_micro\": [{\"categories\": [\"0\", \"1\", \"2\", \"3\", \"4\", \"5\", \"6\", \"7\", \"8\", \"9\", \"10\", \"11\", \"12\", \"13\", \"14\", \"15\", \"16\", \"17\", \"18\", \"19\", \"20\", \"21\", \"22\", \"23\", \"24\", \"25\", \"26\", \"27\", \"28\", \"29\", \"30\", \"31\", \"32\", \"33\", \"34\", \"35\", \"36\", \"37\", \"38\", \"39\", \"40\", \"41\", \"42\", \"43\", \"44\", \"45\", \"46\", \"47\", \"48\", \"49\", \"50\", \"51\", \"52\", \"53\", \"54\", \"55\", \"56\", \"57\", \"58\", \"59\", \"60\", \"61\", \"62\", \"64\", \"67\", \"68\"], \"mode\": \"markers\", \"name\": \"AUC_micro\", \"stepped\": false, \"type\": \"scatter\", \"data\": [0.8828140242564311, 0.8920760654327885, 0.886269214428265, 0.8887400544786338, 0.8890088329133451, 0.8863562791272148, 0.8474188272562617, 0.8830302636389077, 0.8910379779555326, 0.8821480366937277, 0.7969527323337984, 0.8821011416917788, 0.888254554970488, 0.8392111982918039, 0.8876165218531307, 0.8376117144944603, 0.8895757216804986, 0.8798129390207935, 0.8871445091936907, 0.8383413700937077, 0.8344924969078897, 0.8867598484119922, 0.8910354504549283, 0.8848428046490212, 0.8905406103153393, 0.7983999271232666, 0.8909693716245484, 0.890946245110838, 0.8810800870440575, 0.8762532329089453, 0.8660292523489382, 0.8923837531521472, 0.8921859644588478, 0.8909759309711479, 0.8919948361249741, 0.8033304840819914, 0.8781667079853271, 0.8910493851010318, 0.8807940692453584, 0.8903167917716571, 0.8022798454226033, 0.8920160173415267, 0.8923261133490445, 0.8926996762023839, 0.8937702429299529, 0.8913268937489461, 0.866526375638408, 0.8910564777305451, 0.8930212359564947, 0.8910440581155218, 0.8847691403116995, 0.8788048374405214, 0.8359310619970867, 0.838544285082133, 0.891002600126409, 0.8653735921811874, 0.8157837023144267, 0.881453739724639, 0.8792008597882365, 0.8811749573077025, 0.886680825532873, 0.8363357090341618, 0.8831562079000503, 0.8859907008247563, 0.8942212659636367, 0.882130178895016]}, {\"categories\": [\"0\", \"1\", \"2\", \"3\", \"4\", \"5\", \"6\", \"7\", \"8\", \"9\", \"10\", \"11\", \"12\", \"13\", \"14\", \"15\", \"16\", \"17\", \"18\", \"19\", \"20\", \"21\", \"22\", \"23\", \"24\", \"25\", \"26\", \"27\", \"28\", \"29\", \"30\", \"31\", \"32\", \"33\", \"34\", \"35\", \"36\", \"37\", \"38\", \"39\", \"40\", \"41\", \"42\", \"43\", \"44\", \"45\", \"46\", \"47\", \"48\", \"49\", \"50\", \"51\", \"52\", \"53\", \"54\", \"55\", \"56\", \"57\", \"58\", \"59\", \"60\", \"61\", \"62\", \"64\", \"67\", \"68\"], \"mode\": \"lines\", \"name\": \"AUC_micro_max\", \"stepped\": true, \"type\": \"scatter\", \"data\": [0.8828140242564311, 0.8920760654327885, 0.8920760654327885, 0.8920760654327885, 0.8920760654327885, 0.8920760654327885, 0.8920760654327885, 0.8920760654327885, 0.8920760654327885, 0.8920760654327885, 0.8920760654327885, 0.8920760654327885, 0.8920760654327885, 0.8920760654327885, 0.8920760654327885, 0.8920760654327885, 0.8920760654327885, 0.8920760654327885, 0.8920760654327885, 0.8920760654327885, 0.8920760654327885, 0.8920760654327885, 0.8920760654327885, 0.8920760654327885, 0.8920760654327885, 0.8920760654327885, 0.8920760654327885, 0.8920760654327885, 0.8920760654327885, 0.8920760654327885, 0.8920760654327885, 0.8923837531521472, 0.8923837531521472, 0.8923837531521472, 0.8923837531521472, 0.8923837531521472, 0.8923837531521472, 0.8923837531521472, 0.8923837531521472, 0.8923837531521472, 0.8923837531521472, 0.8923837531521472, 0.8923837531521472, 0.8926996762023839, 0.8937702429299529, 0.8937702429299529, 0.8937702429299529, 0.8937702429299529, 0.8937702429299529, 0.8937702429299529, 0.8937702429299529, 0.8937702429299529, 0.8937702429299529, 0.8937702429299529, 0.8937702429299529, 0.8937702429299529, 0.8937702429299529, 0.8937702429299529, 0.8937702429299529, 0.8937702429299529, 0.8937702429299529, 0.8937702429299529, 0.8937702429299529, 0.8937702429299529, 0.8942212659636367, 0.8942212659636367]}], \"norm_macro_recall\": [{\"categories\": [\"0\", \"1\", \"2\", \"3\", \"4\", \"5\", \"6\", \"7\", \"8\", \"9\", \"10\", \"11\", \"12\", \"13\", \"14\", \"15\", \"16\", \"17\", \"18\", \"19\", \"20\", \"21\", \"22\", \"23\", \"24\", \"25\", \"26\", \"27\", \"28\", \"29\", \"30\", \"31\", \"32\", \"33\", \"34\", \"35\", \"36\", \"37\", \"38\", \"39\", \"40\", \"41\", \"42\", \"43\", \"44\", \"45\", \"46\", \"47\", \"48\", \"49\", \"50\", \"51\", \"52\", \"53\", \"54\", \"55\", \"56\", \"57\", \"58\", \"59\", \"60\", \"61\", \"62\", \"64\", \"67\", \"68\"], \"mode\": \"markers\", \"name\": \"norm_macro_recall\", \"stepped\": false, \"type\": \"scatter\", \"data\": [0.4153040414153758, 0.4346841268656763, 0.3614594588959876, 0.36638332488856795, 0.36268183235052465, 0.41031863734869145, 0.5317201965595222, 0.33172776724177716, 0.45129899395826073, 0.38079212898696585, 0.4814631883000387, 0.38521090409023795, 0.37955913964689714, 0.5341914543661263, 0.38375763349340614, 0.5254388558103557, 0.4202324185469103, 0.394793084828311, 0.35160237302410724, 0.5202459717293658, 0.5194261866722989, 0.4185847699908665, 0.45129899395826073, 0.40710687950296653, 0.43377719712415896, 0.12450190867401655, 0.45069343664880146, 0.4496909707710163, 0.2558048640207321, 0.39412624240340044, 0.3760760818744315, 0.43218915297499894, 0.4530551926154242, 0.4492735326244482, 0.4355412785136103, 0.12212882695888554, 0.3893354510170815, 0.4520353185655531, 0.3042586172979979, 0.35892427503886093, 0.1433197224507369, 0.4407664805987335, 0.4390108487589171, 0.43472689101379325, 0.44827665395185706, 0.4449053645987216, 0.3949489226066927, 0.45250909054857313, 0.4106224568144685, 0.45229133495060175, 0.4139157659384047, 0.3653701428131223, 0.5300567742090336, 0.520328720415165, 0.4505856974086065, 0.38493565319657097, 0.5113550834063431, 0.3147534512714518, 0.3325056922093942, 0.40917197488995327, 0.3155850892017186, 0.53310690241963, 0.41342312433458683, 0.4147470025750088, 0.46808271763922404, 0.18045449965013027]}, {\"categories\": [\"0\", \"1\", \"2\", \"3\", \"4\", \"5\", \"6\", \"7\", \"8\", \"9\", \"10\", \"11\", \"12\", \"13\", \"14\", \"15\", \"16\", \"17\", \"18\", \"19\", \"20\", \"21\", \"22\", \"23\", \"24\", \"25\", \"26\", \"27\", \"28\", \"29\", \"30\", \"31\", \"32\", \"33\", \"34\", \"35\", \"36\", \"37\", \"38\", \"39\", \"40\", \"41\", \"42\", \"43\", \"44\", \"45\", \"46\", \"47\", \"48\", \"49\", \"50\", \"51\", \"52\", \"53\", \"54\", \"55\", \"56\", \"57\", \"58\", \"59\", \"60\", \"61\", \"62\", \"64\", \"67\", \"68\"], \"mode\": \"lines\", \"name\": \"norm_macro_recall_max\", \"stepped\": true, \"type\": \"scatter\", \"data\": [0.4153040414153758, 0.4346841268656763, 0.4346841268656763, 0.4346841268656763, 0.4346841268656763, 0.4346841268656763, 0.5317201965595222, 0.5317201965595222, 0.5317201965595222, 0.5317201965595222, 0.5317201965595222, 0.5317201965595222, 0.5317201965595222, 0.5341914543661263, 0.5341914543661263, 0.5341914543661263, 0.5341914543661263, 0.5341914543661263, 0.5341914543661263, 0.5341914543661263, 0.5341914543661263, 0.5341914543661263, 0.5341914543661263, 0.5341914543661263, 0.5341914543661263, 0.5341914543661263, 0.5341914543661263, 0.5341914543661263, 0.5341914543661263, 0.5341914543661263, 0.5341914543661263, 0.5341914543661263, 0.5341914543661263, 0.5341914543661263, 0.5341914543661263, 0.5341914543661263, 0.5341914543661263, 0.5341914543661263, 0.5341914543661263, 0.5341914543661263, 0.5341914543661263, 0.5341914543661263, 0.5341914543661263, 0.5341914543661263, 0.5341914543661263, 0.5341914543661263, 0.5341914543661263, 0.5341914543661263, 0.5341914543661263, 0.5341914543661263, 0.5341914543661263, 0.5341914543661263, 0.5341914543661263, 0.5341914543661263, 0.5341914543661263, 0.5341914543661263, 0.5341914543661263, 0.5341914543661263, 0.5341914543661263, 0.5341914543661263, 0.5341914543661263, 0.5341914543661263, 0.5341914543661263, 0.5341914543661263, 0.5341914543661263, 0.5341914543661263]}], \"balanced_accuracy\": [{\"categories\": [\"0\", \"1\", \"2\", \"3\", \"4\", \"5\", \"6\", \"7\", \"8\", \"9\", \"10\", \"11\", \"12\", \"13\", \"14\", \"15\", \"16\", \"17\", \"18\", \"19\", \"20\", \"21\", \"22\", \"23\", \"24\", \"25\", \"26\", \"27\", \"28\", \"29\", \"30\", \"31\", \"32\", \"33\", \"34\", \"35\", \"36\", \"37\", \"38\", \"39\", \"40\", \"41\", \"42\", \"43\", \"44\", \"45\", \"46\", \"47\", \"48\", \"49\", \"50\", \"51\", \"52\", \"53\", \"54\", \"55\", \"56\", \"57\", \"58\", \"59\", \"60\", \"61\", \"62\", \"64\", \"67\", \"68\"], \"mode\": \"markers\", \"name\": \"balanced_accuracy\", \"stepped\": false, \"type\": \"scatter\", \"data\": [0.7076520207076878, 0.7173420634328381, 0.6807297294479938, 0.6831916624442841, 0.6813409161752624, 0.7051593186743457, 0.7658600982797611, 0.6658638836208886, 0.7256494969791304, 0.690396064493483, 0.7407315941500193, 0.6926054520451189, 0.6897795698234486, 0.7670957271830632, 0.691878816746703, 0.762719427905178, 0.7101162092734551, 0.6973965424141555, 0.6758011865120537, 0.760122985864683, 0.7597130933361494, 0.7092923849954333, 0.7256494969791304, 0.7035534397514833, 0.7168885985620795, 0.5622509543370083, 0.7253467183244007, 0.7248454853855082, 0.627902432010366, 0.6970631212017002, 0.6880380409372158, 0.7160945764874995, 0.7265275963077121, 0.7246367663122241, 0.7177706392568053, 0.5610644134794428, 0.6946677255085406, 0.7260176592827765, 0.652129308648999, 0.6794621375194305, 0.5716598612253685, 0.7203832402993668, 0.7195054243794585, 0.7173634455068966, 0.7241383269759284, 0.7224526822993609, 0.6974744613033464, 0.7262545452742865, 0.7053112284072343, 0.7261456674753008, 0.7069578829692025, 0.6826850714065611, 0.7650283871045168, 0.7601643602075824, 0.7252928487043031, 0.6924678265982854, 0.7556775417031716, 0.6573767256357259, 0.6662528461046973, 0.7045859874449766, 0.6577925446008592, 0.766553451209815, 0.7067115621672935, 0.7073735012875044, 0.7340413588196121, 0.5902272498250652]}, {\"categories\": [\"0\", \"1\", \"2\", \"3\", \"4\", \"5\", \"6\", \"7\", \"8\", \"9\", \"10\", \"11\", \"12\", \"13\", \"14\", \"15\", \"16\", \"17\", \"18\", \"19\", \"20\", \"21\", \"22\", \"23\", \"24\", \"25\", \"26\", \"27\", \"28\", \"29\", \"30\", \"31\", \"32\", \"33\", \"34\", \"35\", \"36\", \"37\", \"38\", \"39\", \"40\", \"41\", \"42\", \"43\", \"44\", \"45\", \"46\", \"47\", \"48\", \"49\", \"50\", \"51\", \"52\", \"53\", \"54\", \"55\", \"56\", \"57\", \"58\", \"59\", \"60\", \"61\", \"62\", \"64\", \"67\", \"68\"], \"mode\": \"lines\", \"name\": \"balanced_accuracy_max\", \"stepped\": true, \"type\": \"scatter\", \"data\": [0.7076520207076878, 0.7173420634328381, 0.7173420634328381, 0.7173420634328381, 0.7173420634328381, 0.7173420634328381, 0.7658600982797611, 0.7658600982797611, 0.7658600982797611, 0.7658600982797611, 0.7658600982797611, 0.7658600982797611, 0.7658600982797611, 0.7670957271830632, 0.7670957271830632, 0.7670957271830632, 0.7670957271830632, 0.7670957271830632, 0.7670957271830632, 0.7670957271830632, 0.7670957271830632, 0.7670957271830632, 0.7670957271830632, 0.7670957271830632, 0.7670957271830632, 0.7670957271830632, 0.7670957271830632, 0.7670957271830632, 0.7670957271830632, 0.7670957271830632, 0.7670957271830632, 0.7670957271830632, 0.7670957271830632, 0.7670957271830632, 0.7670957271830632, 0.7670957271830632, 0.7670957271830632, 0.7670957271830632, 0.7670957271830632, 0.7670957271830632, 0.7670957271830632, 0.7670957271830632, 0.7670957271830632, 0.7670957271830632, 0.7670957271830632, 0.7670957271830632, 0.7670957271830632, 0.7670957271830632, 0.7670957271830632, 0.7670957271830632, 0.7670957271830632, 0.7670957271830632, 0.7670957271830632, 0.7670957271830632, 0.7670957271830632, 0.7670957271830632, 0.7670957271830632, 0.7670957271830632, 0.7670957271830632, 0.7670957271830632, 0.7670957271830632, 0.7670957271830632, 0.7670957271830632, 0.7670957271830632, 0.7670957271830632, 0.7670957271830632]}], \"average_precision_score_weighted\": [{\"categories\": [\"0\", \"1\", \"2\", \"3\", \"4\", \"5\", \"6\", \"7\", \"8\", \"9\", \"10\", \"11\", \"12\", \"13\", \"14\", \"15\", \"16\", \"17\", \"18\", \"19\", \"20\", \"21\", \"22\", \"23\", \"24\", \"25\", \"26\", \"27\", \"28\", \"29\", \"30\", \"31\", \"32\", \"33\", \"34\", \"35\", \"36\", \"37\", \"38\", \"39\", \"40\", \"41\", \"42\", \"43\", \"44\", \"45\", \"46\", \"47\", \"48\", \"49\", \"50\", \"51\", \"52\", \"53\", \"54\", \"55\", \"56\", \"57\", \"58\", \"59\", \"60\", \"61\", \"62\", \"64\", \"67\", \"68\"], \"mode\": \"markers\", \"name\": \"average_precision_score_weighted\", \"stepped\": false, \"type\": \"scatter\", \"data\": [0.8548455079714748, 0.8664881026245562, 0.85697271767451, 0.8624697131000374, 0.8637963843180898, 0.8582035809876908, 0.8648855569302049, 0.8558477229434291, 0.863957008309559, 0.8526613435142519, 0.8364266755523044, 0.8522180891196883, 0.8600813582619021, 0.8602333980723531, 0.8611650558642491, 0.8622228037018349, 0.8619045583958999, 0.8497334963098565, 0.8647796643790754, 0.8634874386386471, 0.8599096485027877, 0.858679178210095, 0.8639545646332295, 0.8560552306708198, 0.8653641836187455, 0.7041204159838813, 0.863978671894161, 0.8639399991881165, 0.8626944611081147, 0.8451186507449719, 0.8367556863080094, 0.8658328360398373, 0.8668223131723013, 0.8639873007217236, 0.8661951851945975, 0.7268173597785225, 0.8466522421942416, 0.863955647599484, 0.8579766768107059, 0.8643490261142425, 0.7222355689622251, 0.8665966614177688, 0.8669339509673634, 0.8676299195663398, 0.8692814649530154, 0.8655031950817521, 0.8365139155220386, 0.8640396219376536, 0.8683612041019124, 0.8639357870572972, 0.8580484100043714, 0.8406637066754719, 0.861957733002672, 0.8637431996391121, 0.8639301763963811, 0.8351182768032966, 0.8535780458999491, 0.8589929232570969, 0.8473275450664801, 0.852974767286896, 0.865623251385364, 0.8604520303047947, 0.8561876142872566, 0.8602766885695683, 0.8697963934035934, 0.8692056892461331]}, {\"categories\": [\"0\", \"1\", \"2\", \"3\", \"4\", \"5\", \"6\", \"7\", \"8\", \"9\", \"10\", \"11\", \"12\", \"13\", \"14\", \"15\", \"16\", \"17\", \"18\", \"19\", \"20\", \"21\", \"22\", \"23\", \"24\", \"25\", \"26\", \"27\", \"28\", \"29\", \"30\", \"31\", \"32\", \"33\", \"34\", \"35\", \"36\", \"37\", \"38\", \"39\", \"40\", \"41\", \"42\", \"43\", \"44\", \"45\", \"46\", \"47\", \"48\", \"49\", \"50\", \"51\", \"52\", \"53\", \"54\", \"55\", \"56\", \"57\", \"58\", \"59\", \"60\", \"61\", \"62\", \"64\", \"67\", \"68\"], \"mode\": \"lines\", \"name\": \"average_precision_score_weighted_max\", \"stepped\": true, \"type\": \"scatter\", \"data\": [0.8548455079714748, 0.8664881026245562, 0.8664881026245562, 0.8664881026245562, 0.8664881026245562, 0.8664881026245562, 0.8664881026245562, 0.8664881026245562, 0.8664881026245562, 0.8664881026245562, 0.8664881026245562, 0.8664881026245562, 0.8664881026245562, 0.8664881026245562, 0.8664881026245562, 0.8664881026245562, 0.8664881026245562, 0.8664881026245562, 0.8664881026245562, 0.8664881026245562, 0.8664881026245562, 0.8664881026245562, 0.8664881026245562, 0.8664881026245562, 0.8664881026245562, 0.8664881026245562, 0.8664881026245562, 0.8664881026245562, 0.8664881026245562, 0.8664881026245562, 0.8664881026245562, 0.8664881026245562, 0.8668223131723013, 0.8668223131723013, 0.8668223131723013, 0.8668223131723013, 0.8668223131723013, 0.8668223131723013, 0.8668223131723013, 0.8668223131723013, 0.8668223131723013, 0.8668223131723013, 0.8669339509673634, 0.8676299195663398, 0.8692814649530154, 0.8692814649530154, 0.8692814649530154, 0.8692814649530154, 0.8692814649530154, 0.8692814649530154, 0.8692814649530154, 0.8692814649530154, 0.8692814649530154, 0.8692814649530154, 0.8692814649530154, 0.8692814649530154, 0.8692814649530154, 0.8692814649530154, 0.8692814649530154, 0.8692814649530154, 0.8692814649530154, 0.8692814649530154, 0.8692814649530154, 0.8692814649530154, 0.8697963934035934, 0.8697963934035934]}], \"f1_score_binary\": [{\"categories\": [\"0\", \"1\", \"2\", \"3\", \"4\", \"5\", \"6\", \"7\", \"8\", \"9\", \"10\", \"11\", \"12\", \"13\", \"14\", \"15\", \"16\", \"17\", \"18\", \"19\", \"20\", \"21\", \"22\", \"23\", \"24\", \"25\", \"26\", \"27\", \"28\", \"29\", \"30\", \"31\", \"32\", \"33\", \"34\", \"35\", \"36\", \"37\", \"38\", \"39\", \"40\", \"41\", \"42\", \"43\", \"44\", \"45\", \"46\", \"47\", \"48\", \"49\", \"50\", \"51\", \"52\", \"53\", \"54\", \"55\", \"56\", \"57\", \"58\", \"59\", \"60\", \"61\", \"62\", \"64\", \"67\", \"68\"], \"mode\": \"markers\", \"name\": \"f1_score_binary\", \"stepped\": false, \"type\": \"scatter\", \"data\": [0.5729650797691118, 0.589837326920197, 0.5294565007123481, 0.534027627548848, 0.5307661220149864, 0.5707844599635398, 0.6321345258442072, 0.5022446421008759, 0.6013314752364332, 0.5457699683768059, 0.5886963241582908, 0.5496268182903786, 0.5459542811844104, 0.6305747121965101, 0.5493816995453893, 0.6244988081892757, 0.5780174140937001, 0.5572307741656591, 0.5206507272501424, 0.6198884773397619, 0.6198242053800218, 0.5766525241970759, 0.6013314752364332, 0.5667596452331536, 0.5881676690277932, 0.24984882532765199, 0.6012575660816152, 0.6004648956479546, 0.4169472167829663, 0.5564293406124415, 0.541467202460477, 0.587235822454666, 0.6035942445561366, 0.600192618892973, 0.5900618898428943, 0.2450338724508781, 0.552581325164434, 0.6019367417322409, 0.47403844682158625, 0.5276216528226373, 0.29764245633203196, 0.5941122058244842, 0.5926209754950981, 0.5895913527466815, 0.5998956552206248, 0.5967333114198115, 0.5561118069000786, 0.6022626770992966, 0.5713309654975038, 0.6021595474933612, 0.5720156263155063, 0.5334895496983428, 0.6272447938632933, 0.6198668442914769, 0.6008261296471913, 0.5476587351362034, 0.6120262139051447, 0.48487054177119715, 0.5030163086994509, 0.5676831041422263, 0.4851948413338674, 0.6307652453773478, 0.5714108225713087, 0.5739086576426987, 0.6138352966888647, 0.24944786497977992]}, {\"categories\": [\"0\", \"1\", \"2\", \"3\", \"4\", \"5\", \"6\", \"7\", \"8\", \"9\", \"10\", \"11\", \"12\", \"13\", \"14\", \"15\", \"16\", \"17\", \"18\", \"19\", \"20\", \"21\", \"22\", \"23\", \"24\", \"25\", \"26\", \"27\", \"28\", \"29\", \"30\", \"31\", \"32\", \"33\", \"34\", \"35\", \"36\", \"37\", \"38\", \"39\", \"40\", \"41\", \"42\", \"43\", \"44\", \"45\", \"46\", \"47\", \"48\", \"49\", \"50\", \"51\", \"52\", \"53\", \"54\", \"55\", \"56\", \"57\", \"58\", \"59\", \"60\", \"61\", \"62\", \"64\", \"67\", \"68\"], \"mode\": \"lines\", \"name\": \"f1_score_binary_max\", \"stepped\": true, \"type\": \"scatter\", \"data\": [0.5729650797691118, 0.589837326920197, 0.589837326920197, 0.589837326920197, 0.589837326920197, 0.589837326920197, 0.6321345258442072, 0.6321345258442072, 0.6321345258442072, 0.6321345258442072, 0.6321345258442072, 0.6321345258442072, 0.6321345258442072, 0.6321345258442072, 0.6321345258442072, 0.6321345258442072, 0.6321345258442072, 0.6321345258442072, 0.6321345258442072, 0.6321345258442072, 0.6321345258442072, 0.6321345258442072, 0.6321345258442072, 0.6321345258442072, 0.6321345258442072, 0.6321345258442072, 0.6321345258442072, 0.6321345258442072, 0.6321345258442072, 0.6321345258442072, 0.6321345258442072, 0.6321345258442072, 0.6321345258442072, 0.6321345258442072, 0.6321345258442072, 0.6321345258442072, 0.6321345258442072, 0.6321345258442072, 0.6321345258442072, 0.6321345258442072, 0.6321345258442072, 0.6321345258442072, 0.6321345258442072, 0.6321345258442072, 0.6321345258442072, 0.6321345258442072, 0.6321345258442072, 0.6321345258442072, 0.6321345258442072, 0.6321345258442072, 0.6321345258442072, 0.6321345258442072, 0.6321345258442072, 0.6321345258442072, 0.6321345258442072, 0.6321345258442072, 0.6321345258442072, 0.6321345258442072, 0.6321345258442072, 0.6321345258442072, 0.6321345258442072, 0.6321345258442072, 0.6321345258442072, 0.6321345258442072, 0.6321345258442072, 0.6321345258442072]}], \"AUC_macro\": [{\"categories\": [\"0\", \"1\", \"2\", \"3\", \"4\", \"5\", \"6\", \"7\", \"8\", \"9\", \"10\", \"11\", \"12\", \"13\", \"14\", \"15\", \"16\", \"17\", \"18\", \"19\", \"20\", \"21\", \"22\", \"23\", \"24\", \"25\", \"26\", \"27\", \"28\", \"29\", \"30\", \"31\", \"32\", \"33\", \"34\", \"35\", \"36\", \"37\", \"38\", \"39\", \"40\", \"41\", \"42\", \"43\", \"44\", \"45\", \"46\", \"47\", \"48\", \"49\", \"50\", \"51\", \"52\", \"53\", \"54\", \"55\", \"56\", \"57\", \"58\", \"59\", \"60\", \"61\", \"62\", \"64\", \"67\", \"68\"], \"mode\": \"markers\", \"name\": \"AUC_macro\", \"stepped\": false, \"type\": \"scatter\", \"data\": [0.8322432080370346, 0.8462171687203275, 0.8388775570351032, 0.8436020020258501, 0.8449230824441927, 0.8370019598169888, 0.8445068097674643, 0.8346680059860591, 0.8457992079313358, 0.8299603049822196, 0.8230899137789143, 0.8311638797656318, 0.8424634095527512, 0.8429170104553958, 0.8400234528221466, 0.8449065767543097, 0.8421279445301829, 0.8268136685069166, 0.8444521508263364, 0.8454899652545173, 0.8420602743341993, 0.8375787642649165, 0.8457940067999513, 0.8344770715170876, 0.8443009092280835, 0.6583122878103135, 0.8456680264541682, 0.845636583130138, 0.8436406947937235, 0.8230549781890958, 0.8098651680850727, 0.8474408647834881, 0.8461548765438637, 0.8456801957776493, 0.846308938706666, 0.6652450339207755, 0.8261816030389839, 0.8457832630104719, 0.8375231489592233, 0.845558826181308, 0.6671944719238808, 0.8467019817272021, 0.846965679217517, 0.8471252853555095, 0.8489623997135415, 0.84492585010216, 0.8096906001895577, 0.845813112891439, 0.8490735958236563, 0.8457848138666363, 0.8355119285682413, 0.8254496252177103, 0.8438458888376678, 0.8456161591090691, 0.8457075803756001, 0.8081748504737485, 0.8332402399937474, 0.8399002862483432, 0.8271507509097308, 0.8308140367867354, 0.8466657587852213, 0.8428336342914816, 0.8333275545174048, 0.8379515514616702, 0.8507076908094937, 0.8502912994839751]}, {\"categories\": [\"0\", \"1\", \"2\", \"3\", \"4\", \"5\", \"6\", \"7\", \"8\", \"9\", \"10\", \"11\", \"12\", \"13\", \"14\", \"15\", \"16\", \"17\", \"18\", \"19\", \"20\", \"21\", \"22\", \"23\", \"24\", \"25\", \"26\", \"27\", \"28\", \"29\", \"30\", \"31\", \"32\", \"33\", \"34\", \"35\", \"36\", \"37\", \"38\", \"39\", \"40\", \"41\", \"42\", \"43\", \"44\", \"45\", \"46\", \"47\", \"48\", \"49\", \"50\", \"51\", \"52\", \"53\", \"54\", \"55\", \"56\", \"57\", \"58\", \"59\", \"60\", \"61\", \"62\", \"64\", \"67\", \"68\"], \"mode\": \"lines\", \"name\": \"AUC_macro_max\", \"stepped\": true, \"type\": \"scatter\", \"data\": [0.8322432080370346, 0.8462171687203275, 0.8462171687203275, 0.8462171687203275, 0.8462171687203275, 0.8462171687203275, 0.8462171687203275, 0.8462171687203275, 0.8462171687203275, 0.8462171687203275, 0.8462171687203275, 0.8462171687203275, 0.8462171687203275, 0.8462171687203275, 0.8462171687203275, 0.8462171687203275, 0.8462171687203275, 0.8462171687203275, 0.8462171687203275, 0.8462171687203275, 0.8462171687203275, 0.8462171687203275, 0.8462171687203275, 0.8462171687203275, 0.8462171687203275, 0.8462171687203275, 0.8462171687203275, 0.8462171687203275, 0.8462171687203275, 0.8462171687203275, 0.8462171687203275, 0.8474408647834881, 0.8474408647834881, 0.8474408647834881, 0.8474408647834881, 0.8474408647834881, 0.8474408647834881, 0.8474408647834881, 0.8474408647834881, 0.8474408647834881, 0.8474408647834881, 0.8474408647834881, 0.8474408647834881, 0.8474408647834881, 0.8489623997135415, 0.8489623997135415, 0.8489623997135415, 0.8489623997135415, 0.8490735958236563, 0.8490735958236563, 0.8490735958236563, 0.8490735958236563, 0.8490735958236563, 0.8490735958236563, 0.8490735958236563, 0.8490735958236563, 0.8490735958236563, 0.8490735958236563, 0.8490735958236563, 0.8490735958236563, 0.8490735958236563, 0.8490735958236563, 0.8490735958236563, 0.8490735958236563, 0.8507076908094937, 0.8507076908094937]}], \"recall_score_binary\": [{\"categories\": [\"0\", \"1\", \"2\", \"3\", \"4\", \"5\", \"6\", \"7\", \"8\", \"9\", \"10\", \"11\", \"12\", \"13\", \"14\", \"15\", \"16\", \"17\", \"18\", \"19\", \"20\", \"21\", \"22\", \"23\", \"24\", \"25\", \"26\", \"27\", \"28\", \"29\", \"30\", \"31\", \"32\", \"33\", \"34\", \"35\", \"36\", \"37\", \"38\", \"39\", \"40\", \"41\", \"42\", \"43\", \"44\", \"45\", \"46\", \"47\", \"48\", \"49\", \"50\", \"51\", \"52\", \"53\", \"54\", \"55\", \"56\", \"57\", \"58\", \"59\", \"60\", \"61\", \"62\", \"64\", \"67\", \"68\"], \"mode\": \"markers\", \"name\": \"recall_score_binary\", \"stepped\": false, \"type\": \"scatter\", \"data\": [0.5195225948935059, 0.5272606427709757, 0.43367083937481654, 0.43653084757053395, 0.4313549530183405, 0.4974446780722738, 0.7656135211643267, 0.39632376251747153, 0.5515241585616766, 0.4741580196791521, 0.8593670414708845, 0.48138347969112516, 0.4521135234434697, 0.7878689098175248, 0.45634119172669, 0.7846661162813856, 0.5137448938165726, 0.4917106710057566, 0.41437806521986736, 0.7913941588713321, 0.7905866782909484, 0.513721382916733, 0.5515241585616766, 0.5068184781197625, 0.5309640782110064, 0.19407588412076168, 0.5485956318855341, 0.5478557710497657, 0.2882182852950149, 0.49757019069037217, 0.4903186355270243, 0.5296429164582003, 0.5492115681670342, 0.5471757278611807, 0.5299248192451796, 0.15317568232650677, 0.48808036049801873, 0.5522567592942773, 0.3552060170924742, 0.4247496853949309, 0.2125341380749394, 0.5348769021932794, 0.5349056599658149, 0.5282731955471324, 0.5439078620690596, 0.5439262174448156, 0.5111351777112374, 0.5529931363193141, 0.4957698576345401, 0.5522567592942773, 0.516055333837093, 0.4464233064746392, 0.7894458265857193, 0.7922485672443283, 0.5508204287939076, 0.5098545820902282, 0.8094005570860512, 0.3685501162943409, 0.39712438093258534, 0.5168977998585481, 0.36656399669958234, 0.7800792241543498, 0.5178897060050934, 0.5078997229502221, 0.5711382307452244, 0.2162738998103271]}, {\"categories\": [\"0\", \"1\", \"2\", \"3\", \"4\", \"5\", \"6\", \"7\", \"8\", \"9\", \"10\", \"11\", \"12\", \"13\", \"14\", \"15\", \"16\", \"17\", \"18\", \"19\", \"20\", \"21\", \"22\", \"23\", \"24\", \"25\", \"26\", \"27\", \"28\", \"29\", \"30\", \"31\", \"32\", \"33\", \"34\", \"35\", \"36\", \"37\", \"38\", \"39\", \"40\", \"41\", \"42\", \"43\", \"44\", \"45\", \"46\", \"47\", \"48\", \"49\", \"50\", \"51\", \"52\", \"53\", \"54\", \"55\", \"56\", \"57\", \"58\", \"59\", \"60\", \"61\", \"62\", \"64\", \"67\", \"68\"], \"mode\": \"lines\", \"name\": \"recall_score_binary_max\", \"stepped\": true, \"type\": \"scatter\", \"data\": [0.5195225948935059, 0.5272606427709757, 0.5272606427709757, 0.5272606427709757, 0.5272606427709757, 0.5272606427709757, 0.7656135211643267, 0.7656135211643267, 0.7656135211643267, 0.7656135211643267, 0.8593670414708845, 0.8593670414708845, 0.8593670414708845, 0.8593670414708845, 0.8593670414708845, 0.8593670414708845, 0.8593670414708845, 0.8593670414708845, 0.8593670414708845, 0.8593670414708845, 0.8593670414708845, 0.8593670414708845, 0.8593670414708845, 0.8593670414708845, 0.8593670414708845, 0.8593670414708845, 0.8593670414708845, 0.8593670414708845, 0.8593670414708845, 0.8593670414708845, 0.8593670414708845, 0.8593670414708845, 0.8593670414708845, 0.8593670414708845, 0.8593670414708845, 0.8593670414708845, 0.8593670414708845, 0.8593670414708845, 0.8593670414708845, 0.8593670414708845, 0.8593670414708845, 0.8593670414708845, 0.8593670414708845, 0.8593670414708845, 0.8593670414708845, 0.8593670414708845, 0.8593670414708845, 0.8593670414708845, 0.8593670414708845, 0.8593670414708845, 0.8593670414708845, 0.8593670414708845, 0.8593670414708845, 0.8593670414708845, 0.8593670414708845, 0.8593670414708845, 0.8593670414708845, 0.8593670414708845, 0.8593670414708845, 0.8593670414708845, 0.8593670414708845, 0.8593670414708845, 0.8593670414708845, 0.8593670414708845, 0.8593670414708845, 0.8593670414708845]}]}, \"metricName\": null, \"primaryMetricName\": \"AUC_weighted\", \"showLegend\": false}, \"run_metrics\": [{\"name\": \"experiment_status\", \"run_id\": \"AutoML_feaa7dba-4f2b-4bc6-93f6-8f0a2289bedf\", \"categories\": [0, 1, 2, 3, 4, 5, 6, 7, 8, 9, 10, 11, 12, 13], \"series\": [{\"data\": [\"DatasetEvaluation\", \"FeaturesGeneration\", \"DatasetFeaturization\", \"DatasetFeaturizationCompleted\", \"DatasetCrossValidationSplit\", \"ModelSelection\", \"BestRunExplainModel\", \"ModelExplanationDataSetSetup\", \"PickSurrogateModel\", \"EngineeredFeatureExplanations\", \"EngineeredFeatureExplanations\", \"RawFeaturesExplanations\", \"RawFeaturesExplanations\", \"BestRunExplainModel\"]}]}, {\"name\": \"experiment_status_description\", \"run_id\": \"AutoML_feaa7dba-4f2b-4bc6-93f6-8f0a2289bedf\", \"categories\": [0, 1, 2, 3, 4, 5, 6, 7, 8, 9, 10, 11, 12, 13], \"series\": [{\"data\": [\"Gathering dataset statistics.\", \"Generating features for the dataset.\", \"Beginning to fit featurizers and featurize the dataset.\", \"Completed fit featurizers and featurizing the dataset.\", \"Generating individually featurized CV splits.\", \"Beginning model selection.\", \"Best run model explanations started\", \"Model explanations data setup completed\", \"Choosing LightGBM as the surrogate model for explanations\", \"Computation of engineered features started\", \"Computation of engineered features completed\", \"Computation of raw features started\", \"Computation of raw features completed\", \"Best run model explanations completed\"]}]}, {\"name\": \"average_precision_score_macro\", \"run_id\": \"AutoML_feaa7dba-4f2b-4bc6-93f6-8f0a2289bedf\", \"categories\": [0], \"series\": [{\"data\": [0.8069408729790968]}]}, {\"name\": \"precision_score_macro\", \"run_id\": \"AutoML_feaa7dba-4f2b-4bc6-93f6-8f0a2289bedf\", \"categories\": [0], \"series\": [{\"data\": [0.759397404637092]}]}, {\"name\": \"average_precision_score_weighted\", \"run_id\": \"AutoML_feaa7dba-4f2b-4bc6-93f6-8f0a2289bedf\", \"categories\": [0], \"series\": [{\"data\": [0.8697963934035934]}]}, {\"name\": \"AUC_macro\", \"run_id\": \"AutoML_feaa7dba-4f2b-4bc6-93f6-8f0a2289bedf\", \"categories\": [0], \"series\": [{\"data\": [0.8507076908094937]}]}, {\"name\": \"recall_score_macro\", \"run_id\": \"AutoML_feaa7dba-4f2b-4bc6-93f6-8f0a2289bedf\", \"categories\": [0], \"series\": [{\"data\": [0.7340413588196121]}]}, {\"name\": \"average_precision_score_micro\", \"run_id\": \"AutoML_feaa7dba-4f2b-4bc6-93f6-8f0a2289bedf\", \"categories\": [0], \"series\": [{\"data\": [0.8955244583980093]}]}, {\"name\": \"precision_score_binary\", \"run_id\": \"AutoML_feaa7dba-4f2b-4bc6-93f6-8f0a2289bedf\", \"categories\": [0], \"series\": [{\"data\": [0.6643689061481269]}]}, {\"name\": \"f1_score_macro\", \"run_id\": \"AutoML_feaa7dba-4f2b-4bc6-93f6-8f0a2289bedf\", \"categories\": [0], \"series\": [{\"data\": [0.7444726184002685]}]}, {\"name\": \"AUC_micro\", \"run_id\": \"AutoML_feaa7dba-4f2b-4bc6-93f6-8f0a2289bedf\", \"categories\": [0], \"series\": [{\"data\": [0.8942212659636367]}]}, {\"name\": \"recall_score_binary\", \"run_id\": \"AutoML_feaa7dba-4f2b-4bc6-93f6-8f0a2289bedf\", \"categories\": [0], \"series\": [{\"data\": [0.5711382307452244]}]}, {\"name\": \"norm_macro_recall\", \"run_id\": \"AutoML_feaa7dba-4f2b-4bc6-93f6-8f0a2289bedf\", \"categories\": [0], \"series\": [{\"data\": [0.46808271763922404]}]}, {\"name\": \"f1_score_micro\", \"run_id\": \"AutoML_feaa7dba-4f2b-4bc6-93f6-8f0a2289bedf\", \"categories\": [0], \"series\": [{\"data\": [0.8113351821965643]}]}, {\"name\": \"precision_score_micro\", \"run_id\": \"AutoML_feaa7dba-4f2b-4bc6-93f6-8f0a2289bedf\", \"categories\": [0], \"series\": [{\"data\": [0.8113351821965643]}]}, {\"name\": \"balanced_accuracy\", \"run_id\": \"AutoML_feaa7dba-4f2b-4bc6-93f6-8f0a2289bedf\", \"categories\": [0], \"series\": [{\"data\": [0.7340413588196121]}]}, {\"name\": \"recall_score_weighted\", \"run_id\": \"AutoML_feaa7dba-4f2b-4bc6-93f6-8f0a2289bedf\", \"categories\": [0], \"series\": [{\"data\": [0.8113351821965643]}]}, {\"name\": \"recall_score_micro\", \"run_id\": \"AutoML_feaa7dba-4f2b-4bc6-93f6-8f0a2289bedf\", \"categories\": [0], \"series\": [{\"data\": [0.8113351821965643]}]}, {\"name\": \"AUC_binary\", \"run_id\": \"AutoML_feaa7dba-4f2b-4bc6-93f6-8f0a2289bedf\", \"categories\": [0], \"series\": [{\"data\": [0.8507076908094937]}]}, {\"name\": \"weighted_accuracy\", \"run_id\": \"AutoML_feaa7dba-4f2b-4bc6-93f6-8f0a2289bedf\", \"categories\": [0], \"series\": [{\"data\": [0.8601026458063658]}]}, {\"name\": \"accuracy\", \"run_id\": \"AutoML_feaa7dba-4f2b-4bc6-93f6-8f0a2289bedf\", \"categories\": [0], \"series\": [{\"data\": [0.8113351821965643]}]}, {\"name\": \"matthews_correlation\", \"run_id\": \"AutoML_feaa7dba-4f2b-4bc6-93f6-8f0a2289bedf\", \"categories\": [0], \"series\": [{\"data\": [0.4927110373688976]}]}, {\"name\": \"average_precision_score_binary\", \"run_id\": \"AutoML_feaa7dba-4f2b-4bc6-93f6-8f0a2289bedf\", \"categories\": [0], \"series\": [{\"data\": [0.6746602537389316]}]}, {\"name\": \"f1_score_weighted\", \"run_id\": \"AutoML_feaa7dba-4f2b-4bc6-93f6-8f0a2289bedf\", \"categories\": [0], \"series\": [{\"data\": [0.8066329608149706]}]}, {\"name\": \"precision_score_weighted\", \"run_id\": \"AutoML_feaa7dba-4f2b-4bc6-93f6-8f0a2289bedf\", \"categories\": [0], \"series\": [{\"data\": [0.8048605970747309]}]}, {\"name\": \"f1_score_binary\", \"run_id\": \"AutoML_feaa7dba-4f2b-4bc6-93f6-8f0a2289bedf\", \"categories\": [0], \"series\": [{\"data\": [0.6138352966888647]}]}, {\"name\": \"log_loss\", \"run_id\": \"AutoML_feaa7dba-4f2b-4bc6-93f6-8f0a2289bedf\", \"categories\": [0], \"series\": [{\"data\": [0.41124206578850664]}]}, {\"name\": \"AUC_weighted\", \"run_id\": \"AutoML_feaa7dba-4f2b-4bc6-93f6-8f0a2289bedf\", \"categories\": [0], \"series\": [{\"data\": [0.8507076908094937]}]}], \"run_logs\": \"\\nRun is completed.\", \"graph\": {}, \"widget_settings\": {\"childWidgetDisplay\": \"popup\", \"send_telemetry\": false, \"log_level\": \"INFO\", \"sdk_version\": \"1.33.0\"}, \"loading\": false}"
     },
     "metadata": {},
     "output_type": "display_data"
    },
    {
     "data": {
      "text/html": [
       "<table style=\"width:100%\"><tr><th>Experiment</th><th>Id</th><th>Type</th><th>Status</th><th>Details Page</th><th>Docs Page</th></tr><tr><td>capstone-project</td><td>AutoML_feaa7dba-4f2b-4bc6-93f6-8f0a2289bedf</td><td>automl</td><td>Completed</td><td><a href=\"https://ml.azure.com/runs/AutoML_feaa7dba-4f2b-4bc6-93f6-8f0a2289bedf?wsid=/subscriptions/f5091c60-1c3c-430f-8d81-d802f6bf2414/resourcegroups/aml-quickstarts-159386/workspaces/quick-starts-ws-159386&amp;tid=660b3398-b80e-49d2-bc5b-ac1dc93b5254\" target=\"_blank\" rel=\"noopener\">Link to Azure Machine Learning studio</a></td><td><a href=\"https://docs.microsoft.com/en-us/python/api/overview/azure/ml/intro?view=azure-ml-py\" target=\"_blank\" rel=\"noopener\">Link to Documentation</a></td></tr></table>"
      ],
      "text/plain": [
       "<IPython.core.display.HTML object>"
      ]
     },
     "metadata": {},
     "output_type": "display_data"
    },
    {
     "name": "stdout",
     "output_type": "stream",
     "text": [
      "\n",
      "\n",
      "****************************************************************************************************\n",
      "DATA GUARDRAILS: \n",
      "\n",
      "TYPE:         Class balancing detection\n",
      "STATUS:       PASSED\n",
      "DESCRIPTION:  Your inputs were analyzed, and all classes are balanced in your training data.\n",
      "              Learn more about imbalanced data: https://aka.ms/AutomatedMLImbalancedData\n",
      "\n",
      "****************************************************************************************************\n",
      "\n",
      "TYPE:         Missing feature values imputation\n",
      "STATUS:       PASSED\n",
      "DESCRIPTION:  No feature missing values were detected in the training data.\n",
      "              Learn more about missing value imputation: https://aka.ms/AutomatedMLFeaturization\n",
      "\n",
      "****************************************************************************************************\n",
      "\n",
      "TYPE:         High cardinality feature detection\n",
      "STATUS:       DONE\n",
      "DESCRIPTION:  The training data had the following high cardinality features which were excluded for training. Please review your data source and possibly filter out these columns. If you want to include these features for training, you can override column purpose with appropriate column type.\n",
      "              Learn more about high cardinality feature handling: https://aka.ms/AutomatedMLFeaturization\n",
      "DETAILS:      High cardinality features refer to columns that contain a large percentage of unique values.\n",
      "+---------------------------------+---------------------------------+\n",
      "|Column name                      |Column Content Type              |\n",
      "+=================================+=================================+\n",
      "|customerID                       |hashes                           |\n",
      "+---------------------------------+---------------------------------+\n",
      "\n",
      "****************************************************************************************************\n",
      "\n",
      "****************************************************************************************************\n",
      "ITERATION: The iteration being evaluated.\n",
      "PIPELINE: A summary description of the pipeline being evaluated.\n",
      "DURATION: Time taken for the current iteration.\n",
      "METRIC: The result of computing score on the fitted pipeline.\n",
      "BEST: The best observed score thus far.\n",
      "****************************************************************************************************\n",
      "\n",
      " ITERATION   PIPELINE                                       DURATION      METRIC      BEST\n",
      "         0   MaxAbsScaler LightGBM                          0:00:42       0.8322    0.8322\n",
      "         1   MaxAbsScaler XGBoostClassifier                 0:00:42       0.8462    0.8462\n",
      "         2   MaxAbsScaler ExtremeRandomTrees                0:00:45       0.8389    0.8462\n",
      "         3   MaxAbsScaler RandomForest                      0:00:38       0.8436    0.8462\n",
      "         4   StandardScalerWrapper LightGBM                 0:01:54       0.8449    0.8462\n",
      "         5   SparseNormalizer XGBoostClassifier             0:01:43       0.8370    0.8462\n",
      "         6   SparseNormalizer RandomForest                  0:01:50       0.8445    0.8462\n",
      "         7   MinMaxScaler RandomForest                      0:00:42       0.8347    0.8462\n",
      "         8   StandardScalerWrapper LogisticRegression       0:00:41       0.8458    0.8462\n",
      "         9   StandardScalerWrapper XGBoostClassifier        0:00:40       0.8300    0.8462\n",
      "        10   RobustScaler ExtremeRandomTrees                0:00:39       0.8231    0.8462\n",
      "        11   SparseNormalizer XGBoostClassifier             0:00:41       0.8312    0.8462\n",
      "        12   MinMaxScaler ExtremeRandomTrees                0:00:40       0.8425    0.8462\n",
      "        13   MinMaxScaler ExtremeRandomTrees                0:00:40       0.8429    0.8462\n",
      "        14   SparseNormalizer LightGBM                      0:00:38       0.8400    0.8462\n",
      "        15   MaxAbsScaler ExtremeRandomTrees                0:00:51       0.8449    0.8462\n",
      "        16   StandardScalerWrapper XGBoostClassifier        0:00:42       0.8421    0.8462\n",
      "        17   StandardScalerWrapper RandomForest             0:00:44       0.8268    0.8462\n",
      "        18   MaxAbsScaler LightGBM                          0:00:39       0.8445    0.8462\n",
      "        19   MaxAbsScaler LogisticRegression                0:00:39       0.8455    0.8462\n",
      "        20   StandardScalerWrapper ExtremeRandomTrees       0:00:52       0.8421    0.8462\n",
      "        21   StandardScalerWrapper XGBoostClassifier        0:00:39       0.8376    0.8462\n",
      "        22   MaxAbsScaler LogisticRegression                0:00:39       0.8458    0.8462\n",
      "        23   StandardScalerWrapper XGBoostClassifier        0:00:40       0.8345    0.8462\n",
      "        24   StandardScalerWrapper XGBoostClassifier        0:00:41       0.8443    0.8462\n",
      "        25   PCA XGBoostClassifier                          0:00:40       0.6583    0.8462\n",
      "        26   MaxAbsScaler LogisticRegression                0:00:40       0.8457    0.8462\n",
      "        27   MinMaxScaler LogisticRegression                0:00:45       0.8456    0.8462\n",
      "        28   SparseNormalizer LightGBM                      0:00:40       0.8436    0.8462\n",
      "        29   SparseNormalizer XGBoostClassifier             0:00:56       0.8231    0.8462\n",
      "        30   SparseNormalizer XGBoostClassifier             0:01:12       0.8099    0.8462\n",
      "        31   RobustScaler LightGBM                          0:00:40       0.8474    0.8474\n",
      "        32   StandardScalerWrapper LightGBM                 0:00:42       0.8462    0.8474\n",
      "        33   RobustScaler LogisticRegression                0:00:40       0.8457    0.8474\n",
      "        34   RobustScaler LightGBM                          0:00:43       0.8463    0.8474\n",
      "        35   PCA LightGBM                                   0:00:42       0.6652    0.8474\n",
      "        36   TruncatedSVDWrapper XGBoostClassifier          0:00:46       0.8262    0.8474\n",
      "        37   StandardScalerWrapper LogisticRegression       0:00:41       0.8458    0.8474\n",
      "        38   StandardScalerWrapper GradientBoosting         0:00:47       0.8375    0.8474\n",
      "        39   MaxAbsScaler GradientBoosting                  0:00:44       0.8456    0.8474\n",
      "        40   PCA LightGBM                                   0:00:38       0.6672    0.8474\n",
      "        41   MinMaxScaler LightGBM                          0:00:41       0.8467    0.8474\n",
      "        42   MinMaxScaler LightGBM                          0:00:42       0.8470    0.8474\n",
      "        43   StandardScalerWrapper LightGBM                 0:00:45       0.8471    0.8474\n",
      "        44   StandardScalerWrapper XGBoostClassifier        0:00:40       0.8490    0.8490\n",
      "        45   RobustScaler LightGBM                          0:00:41       0.8449    0.8490\n",
      "        46   StandardScalerWrapper XGBoostClassifier        0:01:52       0.8097    0.8490\n",
      "        47   StandardScalerWrapper LogisticRegression       0:00:42       0.8458    0.8490\n",
      "        48   MaxAbsScaler LightGBM                          0:00:50       0.8491    0.8491\n",
      "        49   RobustScaler LogisticRegression                0:00:40       0.8458    0.8491\n",
      "        50   StandardScalerWrapper XGBoostClassifier        0:00:45       0.8355    0.8491\n",
      "        51   StandardScalerWrapper ExtremeRandomTrees       0:00:39       0.8254    0.8491\n",
      "        52   MaxAbsScaler ExtremeRandomTrees                0:00:45       0.8438    0.8491\n",
      "        53   RobustScaler LogisticRegression                0:00:49       0.8456    0.8491\n",
      "        54   StandardScalerWrapper LogisticRegression       0:00:39       0.8457    0.8491\n",
      "        55   StandardScalerWrapper LightGBM                 0:00:48       0.8082    0.8491\n",
      "        56   MinMaxScaler ExtremeRandomTrees                0:00:47       0.8332    0.8491\n",
      "        57   StandardScalerWrapper RandomForest             0:00:48       0.8399    0.8491\n",
      "        58   MaxAbsScaler RandomForest                      0:00:42       0.8272    0.8491\n",
      "        59   StandardScalerWrapper XGBoostClassifier        0:00:49       0.8308    0.8491\n",
      "        60   RobustScaler LightGBM                          0:00:39       0.8467    0.8491\n",
      "        61   MaxAbsScaler ExtremeRandomTrees                0:00:48       0.8428    0.8491\n",
      "        62   StandardScalerWrapper XGBoostClassifier        0:00:50       0.8333    0.8491\n",
      "        63   StandardScalerWrapper XGBoostClassifier        0:00:25          nan    0.8491\n",
      "        64   SparseNormalizer XGBoostClassifier             0:00:25       0.8380    0.8491\n",
      "        65                                                  0:00:33          nan    0.8491\n",
      "        66                                                  0:00:04          nan    0.8491\n",
      "        67    VotingEnsemble                                0:01:23       0.8507    0.8507\n",
      "        68    StackEnsemble                                 0:01:30       0.8503    0.8507\n"
     ]
    },
    {
     "data": {
      "text/plain": [
       "{'runId': 'AutoML_feaa7dba-4f2b-4bc6-93f6-8f0a2289bedf',\n",
       " 'target': 'automl-cluster',\n",
       " 'status': 'Completed',\n",
       " 'startTimeUtc': '2021-09-26T23:14:54.384344Z',\n",
       " 'endTimeUtc': '2021-09-26T23:46:14.124693Z',\n",
       " 'properties': {'num_iterations': '1000',\n",
       "  'training_type': 'TrainFull',\n",
       "  'acquisition_function': 'EI',\n",
       "  'primary_metric': 'AUC_weighted',\n",
       "  'train_split': '0',\n",
       "  'acquisition_parameter': '0',\n",
       "  'num_cross_validation': '7',\n",
       "  'target': 'automl-cluster',\n",
       "  'AMLSettingsJsonString': '{\"path\":null,\"name\":\"capstone-project\",\"subscription_id\":\"f5091c60-1c3c-430f-8d81-d802f6bf2414\",\"resource_group\":\"aml-quickstarts-159386\",\"workspace_name\":\"quick-starts-ws-159386\",\"region\":\"southcentralus\",\"compute_target\":\"automl-cluster\",\"spark_service\":null,\"azure_service\":\"remote\",\"many_models\":false,\"pipeline_fetch_max_batch_size\":1,\"enable_batch_run\":false,\"enable_run_restructure\":false,\"start_auxiliary_runs_before_parent_complete\":false,\"enable_code_generation\":false,\"iterations\":1000,\"primary_metric\":\"AUC_weighted\",\"task_type\":\"classification\",\"data_script\":null,\"test_size\":0.0,\"validation_size\":0.0,\"n_cross_validations\":7,\"y_min\":null,\"y_max\":null,\"num_classes\":null,\"featurization\":\"auto\",\"_ignore_package_version_incompatibilities\":false,\"is_timeseries\":false,\"max_cores_per_iteration\":1,\"max_concurrent_iterations\":5,\"iteration_timeout_minutes\":null,\"mem_in_mb\":null,\"enforce_time_on_windows\":false,\"experiment_timeout_minutes\":25,\"experiment_exit_score\":null,\"whitelist_models\":null,\"blacklist_algos\":[\"TensorFlowLinearClassifier\",\"TensorFlowDNN\"],\"supported_models\":[\"GradientBoosting\",\"RandomForest\",\"SGD\",\"TensorFlowDNN\",\"XGBoostClassifier\",\"LinearSVM\",\"SVM\",\"LightGBM\",\"AveragedPerceptronClassifier\",\"BernoulliNaiveBayes\",\"ExtremeRandomTrees\",\"TensorFlowLinearClassifier\",\"LogisticRegression\",\"KNN\",\"DecisionTree\",\"MultinomialNaiveBayes\"],\"private_models\":[],\"auto_blacklist\":true,\"blacklist_samples_reached\":false,\"exclude_nan_labels\":true,\"verbosity\":20,\"_debug_log\":\"azureml_automl.log\",\"show_warnings\":false,\"model_explainability\":true,\"service_url\":null,\"sdk_url\":null,\"sdk_packages\":null,\"enable_onnx_compatible_models\":false,\"enable_split_onnx_featurizer_estimator_models\":false,\"vm_type\":\"STANDARD_D2_V2\",\"telemetry_verbosity\":20,\"send_telemetry\":true,\"enable_dnn\":false,\"scenario\":\"SDK-1.13.0\",\"environment_label\":null,\"save_mlflow\":false,\"force_text_dnn\":false,\"enable_feature_sweeping\":true,\"enable_early_stopping\":true,\"early_stopping_n_iters\":10,\"metrics\":null,\"enable_metric_confidence\":false,\"enable_ensembling\":true,\"enable_stack_ensembling\":true,\"ensemble_iterations\":15,\"enable_tf\":false,\"enable_subsampling\":null,\"subsample_seed\":null,\"enable_nimbusml\":false,\"enable_streaming\":false,\"force_streaming\":false,\"track_child_runs\":true,\"allowed_private_models\":[],\"label_column_name\":\"Churn\",\"weight_column_name\":null,\"cv_split_column_names\":null,\"enable_local_managed\":false,\"_local_managed_run_id\":null,\"cost_mode\":1,\"lag_length\":0,\"metric_operation\":\"maximize\",\"preprocess\":true}',\n",
       "  'DataPrepJsonString': '{\\\\\"training_data\\\\\": {\\\\\"datasetId\\\\\": \\\\\"4ea0ef64-2bde-4012-8e3a-3c987c917b7e\\\\\"}, \\\\\"datasets\\\\\": 0}',\n",
       "  'EnableSubsampling': None,\n",
       "  'runTemplate': 'AutoML',\n",
       "  'azureml.runsource': 'automl',\n",
       "  'display_task_type': 'classification',\n",
       "  'dependencies_versions': '{\"azureml-widgets\": \"1.33.0\", \"azureml-train\": \"1.33.0\", \"azureml-train-restclients-hyperdrive\": \"1.33.0\", \"azureml-train-core\": \"1.33.0\", \"azureml-train-automl\": \"1.33.0\", \"azureml-train-automl-runtime\": \"1.33.0\", \"azureml-train-automl-client\": \"1.33.0\", \"azureml-tensorboard\": \"1.33.0\", \"azureml-telemetry\": \"1.33.0\", \"azureml-sdk\": \"1.33.0\", \"azureml-samples\": \"0+unknown\", \"azureml-responsibleai\": \"1.33.0\", \"azureml-pipeline\": \"1.33.0\", \"azureml-pipeline-steps\": \"1.33.0\", \"azureml-pipeline-core\": \"1.33.0\", \"azureml-opendatasets\": \"1.33.0\", \"azureml-mlflow\": \"1.33.0\", \"azureml-interpret\": \"1.33.0\", \"azureml-explain-model\": \"1.33.0\", \"azureml-defaults\": \"1.33.0\", \"azureml-dataset-runtime\": \"1.33.0\", \"azureml-dataprep\": \"2.20.1\", \"azureml-dataprep-rslex\": \"1.18.0\", \"azureml-dataprep-native\": \"38.0.0\", \"azureml-datadrift\": \"1.33.0\", \"azureml-core\": \"1.33.0\", \"azureml-contrib-services\": \"1.33.0\", \"azureml-contrib-server\": \"1.33.0\", \"azureml-contrib-reinforcementlearning\": \"1.33.0\", \"azureml-contrib-pipeline-steps\": \"1.33.0\", \"azureml-contrib-notebook\": \"1.33.0\", \"azureml-contrib-fairness\": \"1.33.0\", \"azureml-contrib-dataset\": \"1.33.0\", \"azureml-cli-common\": \"1.33.0\", \"azureml-automl-runtime\": \"1.33.0\", \"azureml-automl-dnn-nlp\": \"1.33.0\", \"azureml-automl-core\": \"1.33.0\", \"azureml-accel-models\": \"1.33.0\"}',\n",
       "  '_aml_system_scenario_identification': 'Remote.Parent',\n",
       "  'ClientType': 'SDK',\n",
       "  'environment_cpu_name': 'AzureML-AutoML',\n",
       "  'environment_cpu_label': 'prod',\n",
       "  'environment_gpu_name': 'AzureML-AutoML-GPU',\n",
       "  'environment_gpu_label': 'prod',\n",
       "  'root_attribution': 'automl',\n",
       "  'attribution': 'AutoML',\n",
       "  'Orchestrator': 'AutoML',\n",
       "  'CancelUri': 'https://southcentralus.api.azureml.ms/jasmine/v1.0/subscriptions/f5091c60-1c3c-430f-8d81-d802f6bf2414/resourceGroups/aml-quickstarts-159386/providers/Microsoft.MachineLearningServices/workspaces/quick-starts-ws-159386/experimentids/0f7bb793-2375-4ad3-8c5a-35f073c70b2a/cancel/AutoML_feaa7dba-4f2b-4bc6-93f6-8f0a2289bedf',\n",
       "  'ClientSdkVersion': '1.34.0.post1',\n",
       "  'snapshotId': '00000000-0000-0000-0000-000000000000',\n",
       "  'SetupRunId': 'AutoML_feaa7dba-4f2b-4bc6-93f6-8f0a2289bedf_setup',\n",
       "  'SetupRunContainerId': 'dcid.AutoML_feaa7dba-4f2b-4bc6-93f6-8f0a2289bedf_setup',\n",
       "  'FeaturizationRunJsonPath': 'featurizer_container.json',\n",
       "  'FeaturizationRunId': 'AutoML_feaa7dba-4f2b-4bc6-93f6-8f0a2289bedf_featurize',\n",
       "  'ProblemInfoJsonString': '{\"dataset_num_categorical\": 0, \"is_sparse\": false, \"subsampling\": false, \"has_extra_col\": true, \"dataset_classes\": 2, \"dataset_features\": 24, \"dataset_samples\": 5274, \"single_frequency_class_detected\": false}',\n",
       "  'ModelExplainRunId': 'AutoML_feaa7dba-4f2b-4bc6-93f6-8f0a2289bedf_ModelExplain'},\n",
       " 'inputDatasets': [{'dataset': {'id': '4ea0ef64-2bde-4012-8e3a-3c987c917b7e'}, 'consumptionDetails': {'type': 'RunInput', 'inputName': 'training_data', 'mechanism': 'Direct'}}],\n",
       " 'outputDatasets': [],\n",
       " 'logFiles': {},\n",
       " 'submittedBy': 'ODL_User 159386'}"
      ]
     },
     "execution_count": 15,
     "metadata": {},
     "output_type": "execute_result"
    }
   ],
   "source": [
    "from azureml.widgets import RunDetails\n",
    "RunDetails(remote_run).show()\n",
    "remote_run.wait_for_completion(show_output=True)\n"
   ]
  },
  {
   "cell_type": "markdown",
   "metadata": {},
   "source": [
    "## Best Model\n",
    "\n",
    "TODO: In the cell below, get the best model from the automl experiments and display all the properties of the model.\n",
    "\n"
   ]
  },
  {
   "cell_type": "code",
   "execution_count": 16,
   "metadata": {
    "collapsed": false,
    "gather": {
     "logged": 1598431425670
    },
    "jupyter": {
     "outputs_hidden": false,
     "source_hidden": false
    },
    "nteract": {
     "transient": {
      "deleting": false
     }
    }
   },
   "outputs": [
    {
     "name": "stderr",
     "output_type": "stream",
     "text": [
      "WARNING:root:The version of the SDK does not match the version the model was trained on.\n",
      "WARNING:root:The consistency in the result may not be guaranteed.\n",
      "WARNING:root:Package:azureml-automl-core, training version:1.34.0.post1, current version:1.33.0\n",
      "Package:azureml-automl-runtime, training version:1.34.0.post1, current version:1.33.0\n",
      "Package:azureml-core, training version:1.34.0, current version:1.33.0\n",
      "Package:azureml-dataprep, training version:2.22.2, current version:2.20.1\n",
      "Package:azureml-dataprep-rslex, training version:1.20.2, current version:1.18.0\n",
      "Package:azureml-dataset-runtime, training version:1.34.0, current version:1.33.0\n",
      "Package:azureml-defaults, training version:1.34.0, current version:1.33.0\n",
      "Package:azureml-interpret, training version:1.34.0, current version:1.33.0\n",
      "Package:azureml-mlflow, training version:1.34.0, current version:1.33.0\n",
      "Package:azureml-pipeline-core, training version:1.34.0, current version:1.33.0\n",
      "Package:azureml-responsibleai, training version:1.34.0, current version:1.33.0\n",
      "Package:azureml-telemetry, training version:1.34.0, current version:1.33.0\n",
      "Package:azureml-train-automl-client, training version:1.34.0, current version:1.33.0\n",
      "Package:azureml-train-automl-runtime, training version:1.34.0.post1, current version:1.33.0\n",
      "WARNING:root:Below packages were used for model training but missing in current environment:\n",
      "WARNING:root:Package:azureml-inference-server-http, training version:0.3.1\n",
      "WARNING:root:Please ensure the version of your local conda dependencies match the version on which your model was trained in order to properly retrieve your model.\n"
     ]
    },
    {
     "name": "stdout",
     "output_type": "stream",
     "text": [
      "Pipeline(memory=None,\n",
      "         steps=[('datatransformer',\n",
      "                 DataTransformer(enable_dnn=False, enable_feature_sweeping=True, feature_sweeping_config={}, feature_sweeping_timeout=86400, featurization_config=None, force_text_dnn=False, is_cross_validation=True, is_onnx_compatible=False, observer=None, task='classification', working_dir='/mnt/batch/tasks/shared/LS_root/mount...\n",
      ")), ('logisticregression', LogisticRegression(C=1.2067926406393288, class_weight=None, dual=False, fit_intercept=True, intercept_scaling=1, l1_ratio=None, max_iter=100, multi_class='multinomial', n_jobs=1, penalty='l2', random_state=None, solver='lbfgs', tol=0.0001, verbose=0, warm_start=False))], verbose=False)), ('26', Pipeline(memory=None, steps=[('maxabsscaler', MaxAbsScaler(copy=True)), ('logisticregression', LogisticRegression(C=3.727593720314938, class_weight=None, dual=False, fit_intercept=True, intercept_scaling=1, l1_ratio=None, max_iter=100, multi_class='multinomial', n_jobs=1, penalty='l1', random_state=None, solver='saga', tol=0.0001, verbose=0, warm_start=False))], verbose=False)), ('15', Pipeline(memory=None, steps=[('maxabsscaler', MaxAbsScaler(copy=True)), ('extratreesclassifier', ExtraTreesClassifier(bootstrap=False, ccp_alpha=0.0, class_weight='balanced', criterion='entropy', max_depth=None, max_features='log2', max_leaf_nodes=None, max_samples=None, min_impurity_decrease=0.0, min_impurity_split=None, min_samples_leaf=0.01, min_samples_split=0.01, min_weight_fraction_leaf=0.0, n_estimators=400, n_jobs=1, oob_score=False, random_state=None, verbose=0, warm_start=False))], verbose=False)), ('3', Pipeline(memory=None, steps=[('maxabsscaler', MaxAbsScaler(copy=True)), ('randomforestclassifier', RandomForestClassifier(bootstrap=True, ccp_alpha=0.0, class_weight=None, criterion='gini', max_depth=None, max_features='log2', max_leaf_nodes=None, max_samples=None, min_impurity_decrease=0.0, min_impurity_split=None, min_samples_leaf=0.01, min_samples_split=0.01, min_weight_fraction_leaf=0.0, n_estimators=10, n_jobs=1, oob_score=False, random_state=None, verbose=0, warm_start=False))], verbose=False))], flatten_transform=None, weights=[0.13333333333333333, 0.2, 0.06666666666666667, 0.06666666666666667, 0.06666666666666667, 0.06666666666666667, 0.06666666666666667, 0.06666666666666667, 0.06666666666666667, 0.06666666666666667, 0.06666666666666667, 0.06666666666666667]))],\n",
      "         verbose=False)\n"
     ]
    }
   ],
   "source": [
    "best_automl, best_fit_model = remote_run.get_output()\n",
    "print(best_fit_model)"
   ]
  },
  {
   "cell_type": "code",
   "execution_count": 17,
   "metadata": {},
   "outputs": [
    {
     "name": "stdout",
     "output_type": "stream",
     "text": [
      "Run(Experiment: capstone-project,\n",
      "Id: AutoML_feaa7dba-4f2b-4bc6-93f6-8f0a2289bedf_67,\n",
      "Type: azureml.scriptrun,\n",
      "Status: Completed)\n"
     ]
    }
   ],
   "source": [
    "print(best_automl)"
   ]
  },
  {
   "cell_type": "code",
   "execution_count": 18,
   "metadata": {
    "collapsed": false,
    "gather": {
     "logged": 1598431426111
    },
    "jupyter": {
     "outputs_hidden": false,
     "source_hidden": false
    },
    "nteract": {
     "transient": {
      "deleting": false
     }
    }
   },
   "outputs": [
    {
     "data": {
      "text/plain": [
       "['best_fit_automl_model.pkl']"
      ]
     },
     "execution_count": 18,
     "metadata": {},
     "output_type": "execute_result"
    }
   ],
   "source": [
    "#TODO: Save the best model\n",
    "joblib.dump(best_fit_model, 'best_fit_automl_model.pkl')"
   ]
  },
  {
   "cell_type": "markdown",
   "metadata": {},
   "source": [
    "## Model Deployment\n",
    "\n",
    "Remember you have to deploy only one of the two models you trained.. Perform the steps in the rest of this notebook only if you wish to deploy this model.\n",
    "\n",
    "TODO: In the cell below, register the model, create an inference config and deploy the model as a web service."
   ]
  },
  {
   "cell_type": "code",
   "execution_count": 19,
   "metadata": {
    "collapsed": false,
    "gather": {
     "logged": 1598431435189
    },
    "jupyter": {
     "outputs_hidden": false,
     "source_hidden": false
    },
    "nteract": {
     "transient": {
      "deleting": false
     }
    }
   },
   "outputs": [
    {
     "name": "stdout",
     "output_type": "stream",
     "text": [
      "Registering model best_fit_automl_model\n",
      "best_fit_automl_model\tbest_fit_automl_model:1\t1\n"
     ]
    }
   ],
   "source": [
    "from azureml.core.model import Model\n",
    "model = Model.register(workspace = ws, model_name = 'best_fit_automl_model', model_path = 'best_fit_automl_model.pkl')\n",
    "print(model.name, model.id, model.version, sep='\\t')"
   ]
  },
  {
   "cell_type": "markdown",
   "metadata": {
    "gather": {
     "logged": 1598431657736
    },
    "jupyter": {
     "outputs_hidden": false,
     "source_hidden": false
    },
    "nteract": {
     "transient": {
      "deleting": false
     }
    }
   },
   "source": [
    "TODO: In the cell below, send a request to the web service you deployed to test it."
   ]
  },
  {
   "cell_type": "code",
   "execution_count": 20,
   "metadata": {
    "collapsed": false,
    "gather": {
     "logged": 1598432707604
    },
    "jupyter": {
     "outputs_hidden": false,
     "source_hidden": false
    },
    "nteract": {
     "transient": {
      "deleting": false
     }
    }
   },
   "outputs": [
    {
     "name": "stdout",
     "output_type": "stream",
     "text": [
      "Tips: You can try get_logs(): https://aka.ms/debugimage#dockerlog or local deployment: https://aka.ms/debugimage#debug-locally to debug if deployment takes longer than 10 minutes.\n",
      "Running\n",
      "2021-09-26 23:57:52+00:00 Creating Container Registry if not exists..\n",
      "2021-09-27 00:07:53+00:00 Registering the environment.\n",
      "2021-09-27 00:07:54+00:00 Use the existing image.\n",
      "2021-09-27 00:07:54+00:00 Generating deployment configuration.\n",
      "2021-09-27 00:07:55+00:00 Submitting deployment to compute..\n",
      "2021-09-27 00:07:58+00:00 Checking the status of deployment customerservice.\n",
      "Succeeded\n",
      "ACI service creation operation finished, operation \"Succeeded\"\n",
      "Healthy\n",
      "http://a2972e52-c736-4d42-ab56-e2b87aafd6a3.southcentralus.azurecontainer.io/score\n",
      "http://a2972e52-c736-4d42-ab56-e2b87aafd6a3.southcentralus.azurecontainer.io/swagger.json\n"
     ]
    }
   ],
   "source": [
    "from azureml.core.environment import Environment\n",
    "from azureml.core.model import InferenceConfig\n",
    "from azureml.core.webservice import LocalWebservice, Webservice, AciWebservice\n",
    "from azureml.core.conda_dependencies import CondaDependencies\n",
    "import azureml.train.automl\n",
    "\n",
    "# Create the environment\n",
    "env = best_automl.get_environment()\n",
    "conda_dep = CondaDependencies()\n",
    "\n",
    "inference_config = InferenceConfig(entry_script='score.py', environment=env)\n",
    "\n",
    "deployment_config = AciWebservice.deploy_configuration(cpu_cores=1, memory_gb=4, enable_app_insights=True)\n",
    "service = Model.deploy(ws, \"customerservice\", [model], inference_config, deployment_config)\n",
    "service.wait_for_deployment(show_output = True)\n",
    "\n",
    "print(service.state)\n",
    "print(service.scoring_uri)\n",
    "print(service.swagger_uri)"
   ]
  },
  {
   "cell_type": "markdown",
   "metadata": {
    "gather": {
     "logged": 1598432765711
    },
    "jupyter": {
     "outputs_hidden": false,
     "source_hidden": false
    },
    "nteract": {
     "transient": {
      "deleting": false
     }
    }
   },
   "source": [
    "TODO: In the cell below, print the logs of the web service and delete the service"
   ]
  },
  {
   "cell_type": "code",
   "execution_count": 21,
   "metadata": {},
   "outputs": [
    {
     "name": "stdout",
     "output_type": "stream",
     "text": [
      "Response Code :  200\n",
      "Predicted Value :  [1]\n"
     ]
    }
   ],
   "source": [
    "import requests\n",
    "import json\n",
    "\n",
    "# URL for the web service\n",
    "scoring_uri = 'http://a2972e52-c736-4d42-ab56-e2b87aafd6a3.southcentralus.azurecontainer.io/score'\n",
    "\n",
    "# Set the content type\n",
    "headers = {'Content-Type': 'application/json'}\n",
    "\n",
    "# Two sets of data to score, so we get two results back\n",
    "data = {\"data\":\n",
    "        [{\n",
    "                \"gender_Male\" :0,\n",
    "                \"SeniorCitizen\":1,\n",
    "                \"Dependents\" :0,\n",
    "                \"Partner\" :0,\n",
    "                \"tenure\":2,\n",
    "                \"PhoneService\" :1,\n",
    "                \"MultipleLines\" :1,\n",
    "                \"InternetService_Fiber optic\" :1,\n",
    "                \"InternetService_No\":0,\n",
    "                \"OnlineSecurity\" :0,\n",
    "                \"OnlineBackup\" :1,\n",
    "                \"DeviceProtection\" :0,\n",
    "                \"TechSupport\" :0,\n",
    "                \"StreamingTV\" :0,\n",
    "                \"StreamingMovies\" :1,\n",
    "                \"Contract_One year\" : 0,\n",
    "                \"Contract_Two year\":0,\n",
    "                \"PaperlessBilling\" :1,\n",
    "                \"PaymentMethod_Bank transfer (automatic)\":0,\n",
    "                \"PaymentMethod_Credit card (automatic)\":0,\n",
    "                \"PaymentMethod_Mailed check\":0,\n",
    "                \"PaymentMethod_Electronic check\" :1,\n",
    "                \"MonthlyCharges\" : 55.7,\n",
    "                \"TotalCharges\" : 239.8 }\n",
    "        ]\n",
    "        }\n",
    "# Convert to JSON string\n",
    "input_data = json.dumps(data)\n",
    "\n",
    "# Make the request and display the response\n",
    "resp = requests.post(scoring_uri, input_data, headers=headers)\n",
    "\n",
    "print(\"Response Code : \", resp.status_code)\n",
    "print(\"Predicted Value : \",resp.text)"
   ]
  },
  {
   "cell_type": "code",
   "execution_count": 22,
   "metadata": {
    "collapsed": false,
    "jupyter": {
     "outputs_hidden": false,
     "source_hidden": false
    },
    "nteract": {
     "transient": {
      "deleting": false
     }
    }
   },
   "outputs": [
    {
     "name": "stdout",
     "output_type": "stream",
     "text": [
      "2021-09-27T00:12:53,971579300+00:00 - iot-server/run \n",
      "2021-09-27T00:12:53,981678000+00:00 - nginx/run \n",
      "2021-09-27T00:12:53,999731900+00:00 - gunicorn/run \n",
      "Dynamic Python package installation is disabled.\n",
      "Starting HTTP server\n",
      "2021-09-27T00:12:53,998866800+00:00 - rsyslog/run \n",
      "rsyslogd: /azureml-envs/azureml_732632de80c129004c31329a710852e7/lib/libuuid.so.1: no version information available (required by rsyslogd)\n",
      "EdgeHubConnectionString and IOTEDGE_IOTHUBHOSTNAME are not set. Exiting...\n",
      "2021-09-27T00:12:54,310459000+00:00 - iot-server/finish 1 0\n",
      "2021-09-27T00:12:54,317058100+00:00 - Exit code 1 is normal. Not restarting iot-server.\n",
      "Starting gunicorn 20.1.0\n",
      "Listening at: http://127.0.0.1:31311 (70)\n",
      "Using worker: sync\n",
      "worker timeout is set to 300\n",
      "Booting worker with pid: 98\n",
      "SPARK_HOME not set. Skipping PySpark Initialization.\n",
      "Generating new fontManager, this may take some time...\n",
      "Initializing logger\n",
      "2021-09-27 00:12:59,988 | root | INFO | Starting up app insights client\n",
      "logging socket was found. logging is available.\n",
      "logging socket was found. logging is available.\n",
      "2021-09-27 00:12:59,994 | root | INFO | Starting up request id generator\n",
      "2021-09-27 00:12:59,994 | root | INFO | Starting up app insight hooks\n",
      "2021-09-27 00:12:59,995 | root | INFO | Invoking user's init function\n",
      "2021-09-27 00:13:03,817 | root | INFO | Users's init has completed successfully\n",
      "/azureml-envs/azureml_732632de80c129004c31329a710852e7/lib/python3.6/site-packages/sklearn/externals/joblib/__init__.py:15: FutureWarning: sklearn.externals.joblib is deprecated in 0.21 and will be removed in 0.23. Please import this functionality directly from joblib, which can be installed with: pip install joblib. If this warning is raised when loading pickled models, you may need to re-serialize those models with scikit-learn 0.21+.\n",
      "  warnings.warn(msg, category=FutureWarning)\n",
      "2021-09-27 00:13:03,824 | root | INFO | Skipping middleware: dbg_model_info as it's not enabled.\n",
      "2021-09-27 00:13:03,825 | root | INFO | Skipping middleware: dbg_resource_usage as it's not enabled.\n",
      "2021-09-27 00:13:03,828 | root | INFO | Scoring timeout is found from os.environ: 60000 ms\n",
      "2021-09-27 00:13:07,046 | root | INFO | Swagger file not present\n",
      "2021-09-27 00:13:07,046 | root | INFO | 404\n",
      "127.0.0.1 - - [27/Sep/2021:00:13:07 +0000] \"GET /swagger.json HTTP/1.0\" 404 19 \"-\" \"Go-http-client/1.1\"\n",
      "2021-09-27 00:13:10,887 | root | INFO | Swagger file not present\n",
      "2021-09-27 00:13:10,888 | root | INFO | 404\n",
      "127.0.0.1 - - [27/Sep/2021:00:13:10 +0000] \"GET /swagger.json HTTP/1.0\" 404 19 \"-\" \"Go-http-client/1.1\"\n",
      "2021-09-27 00:20:21,172 | root | INFO | Scoring Timer is set to 60.0 seconds\n",
      "2021-09-27 00:20:21,552 | root | INFO | 200\n",
      "127.0.0.1 - - [27/Sep/2021:00:20:21 +0000] \"POST /score HTTP/1.0\" 200 3 \"-\" \"python-requests/2.26.0\"\n",
      "\n"
     ]
    }
   ],
   "source": [
    "# Web Service Logs\n",
    "print(service.get_logs())"
   ]
  },
  {
   "cell_type": "code",
   "execution_count": 26,
   "metadata": {},
   "outputs": [],
   "source": [
    "# Delete the service\n",
    "service.delete()"
   ]
  }
 ],
 "metadata": {
  "kernel_info": {
   "name": "python3-azureml"
  },
  "kernelspec": {
   "display_name": "Python 3",
   "language": "python",
   "name": "python3"
  },
  "language_info": {
   "codemirror_mode": {
    "name": "ipython",
    "version": 3
   },
   "file_extension": ".py",
   "mimetype": "text/x-python",
   "name": "python",
   "nbconvert_exporter": "python",
   "pygments_lexer": "ipython3",
   "version": "3.6.9"
  },
  "nteract": {
   "version": "nteract-front-end@1.0.0"
  }
 },
 "nbformat": 4,
 "nbformat_minor": 4
}
