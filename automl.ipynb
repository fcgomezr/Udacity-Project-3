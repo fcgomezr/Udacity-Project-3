{
 "cells": [
  {
   "cell_type": "markdown",
   "metadata": {},
   "source": [
    "# Automated ML\n",
    "\n",
    "TODO: Import Dependencies. In the cell below, import all the dependencies that you will need to complete the project."
   ]
  },
  {
   "cell_type": "code",
   "execution_count": 1,
   "metadata": {
    "collapsed": false,
    "gather": {
     "logged": 1598423888013
    },
    "jupyter": {
     "outputs_hidden": false,
     "source_hidden": false
    },
    "nteract": {
     "transient": {
      "deleting": false
     }
    }
   },
   "outputs": [
    {
     "name": "stdout",
     "output_type": "stream",
     "text": [
      "SDK version: 1.33.0\n"
     ]
    }
   ],
   "source": [
    "import logging\n",
    "import os\n",
    "import csv\n",
    "import joblib, pickle\n",
    "import json\n",
    "\n",
    "from matplotlib import pyplot as plt\n",
    "import numpy as np\n",
    "import pandas as pd\n",
    "\n",
    "import azureml.core\n",
    "from azureml.core.experiment import Experiment\n",
    "from azureml.core.workspace import Workspace\n",
    "from azureml.train.automl import AutoMLConfig\n",
    "from azureml.core.dataset import Dataset\n",
    "from azureml.data.dataset_factory import TabularDatasetFactory\n",
    "\n",
    "#from azureml.pipeline.steps import AutoMLStep\n",
    "\n",
    "# Check core SDK version number\n",
    "print(\"SDK version:\", azureml.core.VERSION)"
   ]
  },
  {
   "cell_type": "markdown",
   "metadata": {},
   "source": [
    "## Dataset\n",
    "\n",
    "### Overview\n",
    "TODO: In this markdown cell, give an overview of the dataset you are using. Also mention the task you will be performing.\n",
    "\n",
    "\n",
    "TODO: Get data. In the cell below, write code to access the data you will be using in this project. Remember that the dataset needs to be external."
   ]
  },
  {
   "cell_type": "code",
   "execution_count": 2,
   "metadata": {
    "collapsed": false,
    "gather": {
     "logged": 1598423890461
    },
    "jupyter": {
     "outputs_hidden": false,
     "source_hidden": false
    },
    "nteract": {
     "transient": {
      "deleting": false
     }
    }
   },
   "outputs": [],
   "source": [
    "ws = Workspace.from_config()\n",
    "\n",
    "# choose a name for experiment\n",
    "experiment_name = 'capstone-project'\n",
    "\n",
    "experiment=Experiment(ws, experiment_name)"
   ]
  },
  {
   "cell_type": "code",
   "execution_count": 3,
   "metadata": {},
   "outputs": [],
   "source": [
    "from azureml.core.compute import ComputeTarget, AmlCompute\n",
    "from azureml.core.compute_target import ComputeTargetException\n",
    "\n",
    "compute_cluster = 'automl-cluster'\n",
    "\n",
    "try:\n",
    "    comp_trget = ComputeTarget(workspace=ws, name=compute_cluster)\n",
    "    print('Cluster already exists')\n",
    "except ComputeTargetException:\n",
    "    compute_confg = AmlCompute.provisioning_configuration(vm_size=\"STANDARD_D2_V2\",max_nodes=4) ## VER\n",
    "    comp_trget = ComputeTarget.create(ws,compute_cluster,compute_confg)"
   ]
  },
  {
   "cell_type": "code",
   "execution_count": 21,
   "metadata": {},
   "outputs": [],
   "source": [
    "data_link = 'https://raw.githubusercontent.com/fcgomezr/Udacity-Project-3/main/data%20sets/WA_Fn-UseC_-Telco-Customer-Churn.csv'\n",
    "input_data = TabularDatasetFactory.from_delimited_files(path=data_link, separator = \",\")"
   ]
  },
  {
   "cell_type": "code",
   "execution_count": 22,
   "metadata": {},
   "outputs": [
    {
     "data": {
      "text/html": [
       "<div>\n",
       "<style scoped>\n",
       "    .dataframe tbody tr th:only-of-type {\n",
       "        vertical-align: middle;\n",
       "    }\n",
       "\n",
       "    .dataframe tbody tr th {\n",
       "        vertical-align: top;\n",
       "    }\n",
       "\n",
       "    .dataframe thead th {\n",
       "        text-align: right;\n",
       "    }\n",
       "</style>\n",
       "<table border=\"1\" class=\"dataframe\">\n",
       "  <thead>\n",
       "    <tr style=\"text-align: right;\">\n",
       "      <th></th>\n",
       "      <th>customerID</th>\n",
       "      <th>SeniorCitizen</th>\n",
       "      <th>Partner</th>\n",
       "      <th>Dependents</th>\n",
       "      <th>tenure</th>\n",
       "      <th>PhoneService</th>\n",
       "      <th>MultipleLines</th>\n",
       "      <th>OnlineSecurity</th>\n",
       "      <th>OnlineBackup</th>\n",
       "      <th>DeviceProtection</th>\n",
       "      <th>...</th>\n",
       "      <th>gender_Male</th>\n",
       "      <th>InternetService_Fiber optic</th>\n",
       "      <th>InternetService_No</th>\n",
       "      <th>PaymentMethod_Bank transfer (automatic)</th>\n",
       "      <th>PaymentMethod_Credit card (automatic)</th>\n",
       "      <th>PaymentMethod_Electronic check</th>\n",
       "      <th>PaymentMethod_Mailed check</th>\n",
       "      <th>Contract_One year</th>\n",
       "      <th>Contract_Two year</th>\n",
       "      <th>Churn</th>\n",
       "    </tr>\n",
       "  </thead>\n",
       "  <tbody>\n",
       "    <tr>\n",
       "      <th>0</th>\n",
       "      <td>7590-VHVEG</td>\n",
       "      <td>0</td>\n",
       "      <td>1</td>\n",
       "      <td>0</td>\n",
       "      <td>1</td>\n",
       "      <td>0</td>\n",
       "      <td>0</td>\n",
       "      <td>0</td>\n",
       "      <td>1</td>\n",
       "      <td>0</td>\n",
       "      <td>...</td>\n",
       "      <td>0</td>\n",
       "      <td>0</td>\n",
       "      <td>0</td>\n",
       "      <td>0</td>\n",
       "      <td>0</td>\n",
       "      <td>1</td>\n",
       "      <td>0</td>\n",
       "      <td>0</td>\n",
       "      <td>0</td>\n",
       "      <td>0</td>\n",
       "    </tr>\n",
       "    <tr>\n",
       "      <th>1</th>\n",
       "      <td>5575-GNVDE</td>\n",
       "      <td>0</td>\n",
       "      <td>0</td>\n",
       "      <td>0</td>\n",
       "      <td>34</td>\n",
       "      <td>1</td>\n",
       "      <td>0</td>\n",
       "      <td>1</td>\n",
       "      <td>0</td>\n",
       "      <td>1</td>\n",
       "      <td>...</td>\n",
       "      <td>1</td>\n",
       "      <td>0</td>\n",
       "      <td>0</td>\n",
       "      <td>0</td>\n",
       "      <td>0</td>\n",
       "      <td>0</td>\n",
       "      <td>1</td>\n",
       "      <td>1</td>\n",
       "      <td>0</td>\n",
       "      <td>0</td>\n",
       "    </tr>\n",
       "    <tr>\n",
       "      <th>2</th>\n",
       "      <td>3668-QPYBK</td>\n",
       "      <td>0</td>\n",
       "      <td>0</td>\n",
       "      <td>0</td>\n",
       "      <td>2</td>\n",
       "      <td>1</td>\n",
       "      <td>0</td>\n",
       "      <td>1</td>\n",
       "      <td>1</td>\n",
       "      <td>0</td>\n",
       "      <td>...</td>\n",
       "      <td>1</td>\n",
       "      <td>0</td>\n",
       "      <td>0</td>\n",
       "      <td>0</td>\n",
       "      <td>0</td>\n",
       "      <td>0</td>\n",
       "      <td>1</td>\n",
       "      <td>0</td>\n",
       "      <td>0</td>\n",
       "      <td>1</td>\n",
       "    </tr>\n",
       "    <tr>\n",
       "      <th>3</th>\n",
       "      <td>7795-CFOCW</td>\n",
       "      <td>0</td>\n",
       "      <td>0</td>\n",
       "      <td>0</td>\n",
       "      <td>45</td>\n",
       "      <td>0</td>\n",
       "      <td>0</td>\n",
       "      <td>1</td>\n",
       "      <td>0</td>\n",
       "      <td>1</td>\n",
       "      <td>...</td>\n",
       "      <td>1</td>\n",
       "      <td>0</td>\n",
       "      <td>0</td>\n",
       "      <td>1</td>\n",
       "      <td>0</td>\n",
       "      <td>0</td>\n",
       "      <td>0</td>\n",
       "      <td>1</td>\n",
       "      <td>0</td>\n",
       "      <td>0</td>\n",
       "    </tr>\n",
       "    <tr>\n",
       "      <th>4</th>\n",
       "      <td>9237-HQITU</td>\n",
       "      <td>0</td>\n",
       "      <td>0</td>\n",
       "      <td>0</td>\n",
       "      <td>2</td>\n",
       "      <td>1</td>\n",
       "      <td>0</td>\n",
       "      <td>0</td>\n",
       "      <td>0</td>\n",
       "      <td>0</td>\n",
       "      <td>...</td>\n",
       "      <td>0</td>\n",
       "      <td>1</td>\n",
       "      <td>0</td>\n",
       "      <td>0</td>\n",
       "      <td>0</td>\n",
       "      <td>1</td>\n",
       "      <td>0</td>\n",
       "      <td>0</td>\n",
       "      <td>0</td>\n",
       "      <td>1</td>\n",
       "    </tr>\n",
       "  </tbody>\n",
       "</table>\n",
       "<p>5 rows × 26 columns</p>\n",
       "</div>"
      ],
      "text/plain": [
       "   customerID  SeniorCitizen  Partner  Dependents  tenure  PhoneService  \\\n",
       "0  7590-VHVEG              0        1           0       1             0   \n",
       "1  5575-GNVDE              0        0           0      34             1   \n",
       "2  3668-QPYBK              0        0           0       2             1   \n",
       "3  7795-CFOCW              0        0           0      45             0   \n",
       "4  9237-HQITU              0        0           0       2             1   \n",
       "\n",
       "   MultipleLines  OnlineSecurity  OnlineBackup  DeviceProtection  ...  \\\n",
       "0              0               0             1                 0  ...   \n",
       "1              0               1             0                 1  ...   \n",
       "2              0               1             1                 0  ...   \n",
       "3              0               1             0                 1  ...   \n",
       "4              0               0             0                 0  ...   \n",
       "\n",
       "   gender_Male  InternetService_Fiber optic  InternetService_No  \\\n",
       "0            0                            0                   0   \n",
       "1            1                            0                   0   \n",
       "2            1                            0                   0   \n",
       "3            1                            0                   0   \n",
       "4            0                            1                   0   \n",
       "\n",
       "   PaymentMethod_Bank transfer (automatic)  \\\n",
       "0                                        0   \n",
       "1                                        0   \n",
       "2                                        0   \n",
       "3                                        1   \n",
       "4                                        0   \n",
       "\n",
       "   PaymentMethod_Credit card (automatic)  PaymentMethod_Electronic check  \\\n",
       "0                                      0                               1   \n",
       "1                                      0                               0   \n",
       "2                                      0                               0   \n",
       "3                                      0                               0   \n",
       "4                                      0                               1   \n",
       "\n",
       "   PaymentMethod_Mailed check  Contract_One year  Contract_Two year  Churn  \n",
       "0                           0                  0                  0      0  \n",
       "1                           1                  1                  0      0  \n",
       "2                           1                  0                  0      1  \n",
       "3                           0                  1                  0      0  \n",
       "4                           0                  0                  0      1  \n",
       "\n",
       "[5 rows x 26 columns]"
      ]
     },
     "execution_count": 22,
     "metadata": {},
     "output_type": "execute_result"
    }
   ],
   "source": [
    "from train import clean_data\n",
    "\n",
    "# Use the clean_data function to clean your data.\n",
    "x, y = clean_data(input_data)\n",
    "predict_col = pd.DataFrame(y)\n",
    "predict_col.head()\n",
    "complete_data = pd.concat([x,predict_col],axis=1)\n",
    "complete_data.head()"
   ]
  },
  {
   "cell_type": "code",
   "execution_count": 24,
   "metadata": {},
   "outputs": [
    {
     "data": {
      "text/html": [
       "<div>\n",
       "<style scoped>\n",
       "    .dataframe tbody tr th:only-of-type {\n",
       "        vertical-align: middle;\n",
       "    }\n",
       "\n",
       "    .dataframe tbody tr th {\n",
       "        vertical-align: top;\n",
       "    }\n",
       "\n",
       "    .dataframe thead th {\n",
       "        text-align: right;\n",
       "    }\n",
       "</style>\n",
       "<table border=\"1\" class=\"dataframe\">\n",
       "  <thead>\n",
       "    <tr style=\"text-align: right;\">\n",
       "      <th></th>\n",
       "      <th>customerID</th>\n",
       "      <th>SeniorCitizen</th>\n",
       "      <th>Partner</th>\n",
       "      <th>Dependents</th>\n",
       "      <th>tenure</th>\n",
       "      <th>PhoneService</th>\n",
       "      <th>MultipleLines</th>\n",
       "      <th>OnlineSecurity</th>\n",
       "      <th>OnlineBackup</th>\n",
       "      <th>DeviceProtection</th>\n",
       "      <th>...</th>\n",
       "      <th>gender_Male</th>\n",
       "      <th>InternetService_Fiber optic</th>\n",
       "      <th>InternetService_No</th>\n",
       "      <th>PaymentMethod_Bank transfer (automatic)</th>\n",
       "      <th>PaymentMethod_Credit card (automatic)</th>\n",
       "      <th>PaymentMethod_Electronic check</th>\n",
       "      <th>PaymentMethod_Mailed check</th>\n",
       "      <th>Contract_One year</th>\n",
       "      <th>Contract_Two year</th>\n",
       "      <th>Churn</th>\n",
       "    </tr>\n",
       "  </thead>\n",
       "  <tbody>\n",
       "    <tr>\n",
       "      <th>3989</th>\n",
       "      <td>7634-WSWDB</td>\n",
       "      <td>0</td>\n",
       "      <td>0</td>\n",
       "      <td>1</td>\n",
       "      <td>8</td>\n",
       "      <td>0</td>\n",
       "      <td>0</td>\n",
       "      <td>1</td>\n",
       "      <td>0</td>\n",
       "      <td>0</td>\n",
       "      <td>...</td>\n",
       "      <td>0</td>\n",
       "      <td>0</td>\n",
       "      <td>0</td>\n",
       "      <td>0</td>\n",
       "      <td>0</td>\n",
       "      <td>1</td>\n",
       "      <td>0</td>\n",
       "      <td>0</td>\n",
       "      <td>0</td>\n",
       "      <td>0</td>\n",
       "    </tr>\n",
       "    <tr>\n",
       "      <th>1220</th>\n",
       "      <td>0872-JCPIB</td>\n",
       "      <td>0</td>\n",
       "      <td>0</td>\n",
       "      <td>0</td>\n",
       "      <td>17</td>\n",
       "      <td>1</td>\n",
       "      <td>1</td>\n",
       "      <td>1</td>\n",
       "      <td>0</td>\n",
       "      <td>0</td>\n",
       "      <td>...</td>\n",
       "      <td>1</td>\n",
       "      <td>0</td>\n",
       "      <td>0</td>\n",
       "      <td>1</td>\n",
       "      <td>0</td>\n",
       "      <td>0</td>\n",
       "      <td>0</td>\n",
       "      <td>0</td>\n",
       "      <td>0</td>\n",
       "      <td>0</td>\n",
       "    </tr>\n",
       "    <tr>\n",
       "      <th>6362</th>\n",
       "      <td>6856-RAURS</td>\n",
       "      <td>0</td>\n",
       "      <td>0</td>\n",
       "      <td>0</td>\n",
       "      <td>2</td>\n",
       "      <td>1</td>\n",
       "      <td>1</td>\n",
       "      <td>0</td>\n",
       "      <td>0</td>\n",
       "      <td>0</td>\n",
       "      <td>...</td>\n",
       "      <td>0</td>\n",
       "      <td>1</td>\n",
       "      <td>0</td>\n",
       "      <td>0</td>\n",
       "      <td>0</td>\n",
       "      <td>0</td>\n",
       "      <td>1</td>\n",
       "      <td>0</td>\n",
       "      <td>0</td>\n",
       "      <td>0</td>\n",
       "    </tr>\n",
       "    <tr>\n",
       "      <th>6081</th>\n",
       "      <td>8757-TFHHJ</td>\n",
       "      <td>0</td>\n",
       "      <td>0</td>\n",
       "      <td>0</td>\n",
       "      <td>1</td>\n",
       "      <td>1</td>\n",
       "      <td>0</td>\n",
       "      <td>1</td>\n",
       "      <td>0</td>\n",
       "      <td>0</td>\n",
       "      <td>...</td>\n",
       "      <td>1</td>\n",
       "      <td>0</td>\n",
       "      <td>0</td>\n",
       "      <td>0</td>\n",
       "      <td>1</td>\n",
       "      <td>0</td>\n",
       "      <td>0</td>\n",
       "      <td>0</td>\n",
       "      <td>0</td>\n",
       "      <td>0</td>\n",
       "    </tr>\n",
       "    <tr>\n",
       "      <th>5623</th>\n",
       "      <td>9115-YQHGA</td>\n",
       "      <td>0</td>\n",
       "      <td>0</td>\n",
       "      <td>0</td>\n",
       "      <td>40</td>\n",
       "      <td>1</td>\n",
       "      <td>0</td>\n",
       "      <td>0</td>\n",
       "      <td>0</td>\n",
       "      <td>0</td>\n",
       "      <td>...</td>\n",
       "      <td>1</td>\n",
       "      <td>0</td>\n",
       "      <td>0</td>\n",
       "      <td>0</td>\n",
       "      <td>0</td>\n",
       "      <td>1</td>\n",
       "      <td>0</td>\n",
       "      <td>0</td>\n",
       "      <td>0</td>\n",
       "      <td>0</td>\n",
       "    </tr>\n",
       "  </tbody>\n",
       "</table>\n",
       "<p>5 rows × 26 columns</p>\n",
       "</div>"
      ],
      "text/plain": [
       "      customerID  SeniorCitizen  Partner  Dependents  tenure  PhoneService  \\\n",
       "3989  7634-WSWDB              0        0           1       8             0   \n",
       "1220  0872-JCPIB              0        0           0      17             1   \n",
       "6362  6856-RAURS              0        0           0       2             1   \n",
       "6081  8757-TFHHJ              0        0           0       1             1   \n",
       "5623  9115-YQHGA              0        0           0      40             1   \n",
       "\n",
       "      MultipleLines  OnlineSecurity  OnlineBackup  DeviceProtection  ...  \\\n",
       "3989              0               1             0                 0  ...   \n",
       "1220              1               1             0                 0  ...   \n",
       "6362              1               0             0                 0  ...   \n",
       "6081              0               1             0                 0  ...   \n",
       "5623              0               0             0                 0  ...   \n",
       "\n",
       "      gender_Male  InternetService_Fiber optic  InternetService_No  \\\n",
       "3989            0                            0                   0   \n",
       "1220            1                            0                   0   \n",
       "6362            0                            1                   0   \n",
       "6081            1                            0                   0   \n",
       "5623            1                            0                   0   \n",
       "\n",
       "      PaymentMethod_Bank transfer (automatic)  \\\n",
       "3989                                        0   \n",
       "1220                                        1   \n",
       "6362                                        0   \n",
       "6081                                        0   \n",
       "5623                                        0   \n",
       "\n",
       "      PaymentMethod_Credit card (automatic)  PaymentMethod_Electronic check  \\\n",
       "3989                                      0                               1   \n",
       "1220                                      0                               0   \n",
       "6362                                      0                               0   \n",
       "6081                                      1                               0   \n",
       "5623                                      0                               1   \n",
       "\n",
       "      PaymentMethod_Mailed check  Contract_One year  Contract_Two year  Churn  \n",
       "3989                           0                  0                  0      0  \n",
       "1220                           0                  0                  0      0  \n",
       "6362                           1                  0                  0      0  \n",
       "6081                           0                  0                  0      0  \n",
       "5623                           0                  0                  0      0  \n",
       "\n",
       "[5 rows x 26 columns]"
      ]
     },
     "execution_count": 24,
     "metadata": {},
     "output_type": "execute_result"
    }
   ],
   "source": [
    "# split data into training and test data\n",
    "from sklearn.model_selection import train_test_split\n",
    "train_data, test_data = train_test_split(complete_data,test_size=0.25)\n",
    "train_data.head()"
   ]
  },
  {
   "cell_type": "code",
   "execution_count": 25,
   "metadata": {},
   "outputs": [],
   "source": [
    "train_data.to_csv(\"traindata.csv\")"
   ]
  },
  {
   "cell_type": "code",
   "execution_count": 26,
   "metadata": {},
   "outputs": [
    {
     "name": "stdout",
     "output_type": "stream",
     "text": [
      "Uploading an estimated of 19 files\n",
      "Target already exists. Skipping upload for .amlignore\n",
      "Target already exists. Skipping upload for .amlignore.amltmp\n",
      "Target already exists. Skipping upload for automl.ipynb\n",
      "Target already exists. Skipping upload for hyperparameter_tuning (1).ipynb\n",
      "Target already exists. Skipping upload for hyperparameter_tuning.ipynb\n",
      "Target already exists. Skipping upload for model_training.py\n",
      "Target already exists. Skipping upload for README.md\n",
      "Target already exists. Skipping upload for score.py\n",
      "Target already exists. Skipping upload for train.py\n",
      "Target already exists. Skipping upload for traindata.csv\n",
      "Target already exists. Skipping upload for .ipynb_checkpoints/automl-checkpoint.ipynb\n",
      "Uploading ./automl.log\n",
      "Uploaded ./automl.log, 1 files out of an estimated total of 16\n",
      "Uploading ./automl_errors.log\n",
      "Uploaded ./automl_errors.log, 2 files out of an estimated total of 16\n",
      "Uploading ./azureml_automl.log\n",
      "Uploaded ./azureml_automl.log, 3 files out of an estimated total of 16\n",
      "Uploading ./best_fit_automl_model.pkl\n",
      "Uploaded ./best_fit_automl_model.pkl, 4 files out of an estimated total of 16\n",
      "Uploading ./.ipynb_checkpoints/train-checkpoint.py\n",
      "Uploaded ./.ipynb_checkpoints/train-checkpoint.py, 5 files out of an estimated total of 8\n",
      "Uploading ./.ipynb_checkpoints/traindata-checkpoint.csv\n",
      "Uploaded ./.ipynb_checkpoints/traindata-checkpoint.csv, 6 files out of an estimated total of 8\n",
      "Uploading ./__pycache__/model_training.cpython-36.pyc\n",
      "Uploaded ./__pycache__/model_training.cpython-36.pyc, 7 files out of an estimated total of 8\n",
      "Uploading ./__pycache__/train.cpython-36.pyc\n",
      "Uploaded ./__pycache__/train.cpython-36.pyc, 8 files out of an estimated total of 8\n",
      "Uploaded 8 files\n"
     ]
    }
   ],
   "source": [
    "data_store = ws.get_default_datastore()\n",
    "data_store.upload(src_dir='./',target_path='./')\n",
    "ftrain_data = Dataset.Tabular.from_delimited_files(path = [(data_store, './traindata.csv')])"
   ]
  },
  {
   "cell_type": "code",
   "execution_count": 30,
   "metadata": {},
   "outputs": [],
   "source": [
    "temp = ftrain_data.drop_columns('Column1')"
   ]
  },
  {
   "cell_type": "markdown",
   "metadata": {},
   "source": [
    "## AutoML Configuration\n",
    "\n",
    "TODO: Explain why you chose the automl settings and cofiguration you used below."
   ]
  },
  {
   "cell_type": "code",
   "execution_count": 34,
   "metadata": {
    "collapsed": false,
    "gather": {
     "logged": 1598429217746
    },
    "jupyter": {
     "outputs_hidden": false,
     "source_hidden": false
    },
    "nteract": {
     "transient": {
      "deleting": false
     }
    }
   },
   "outputs": [],
   "source": [
    "# TODO: Put your automl settings here\n",
    "automl_settings = {    \n",
    "    \"experiment_timeout_minutes\": 25,\n",
    "    \"max_concurrent_iterations\": 5,\n",
    "    \"primary_metric\" : 'AUC_weighted'}\n",
    "\n",
    "# TODO: Put your automl config here\n",
    "automl_config = AutoMLConfig(\n",
    "                             compute_target=comp_trget,\n",
    "                             task = \"classification\",\n",
    "                             training_data=temp,\n",
    "                             label_column_name=\"Churn\",   \n",
    "                             enable_early_stopping= True,\n",
    "                             featurization= 'auto',\n",
    "                             n_cross_validations=7,\n",
    "                             debug_log = \"automl_errors.log\",\n",
    "                             **automl_settings\n",
    ")"
   ]
  },
  {
   "cell_type": "code",
   "execution_count": null,
   "metadata": {
    "collapsed": false,
    "gather": {
     "logged": 1598431107951
    },
    "jupyter": {
     "outputs_hidden": false,
     "source_hidden": false
    },
    "nteract": {
     "transient": {
      "deleting": false
     }
    }
   },
   "outputs": [
    {
     "name": "stdout",
     "output_type": "stream",
     "text": [
      "Submitting remote run.\n",
      "No run_configuration provided, running on automl-cluster with default configuration\n",
      "Running on remote compute: automl-cluster\n"
     ]
    },
    {
     "data": {
      "text/html": [
       "<table style=\"width:100%\"><tr><th>Experiment</th><th>Id</th><th>Type</th><th>Status</th><th>Details Page</th><th>Docs Page</th></tr><tr><td>capstone-project</td><td>AutoML_22f48fe3-4094-4615-b682-695c86b1a332</td><td>automl</td><td>NotStarted</td><td><a href=\"https://ml.azure.com/runs/AutoML_22f48fe3-4094-4615-b682-695c86b1a332?wsid=/subscriptions/a0a76bad-11a1-4a2d-9887-97a29122c8ed/resourcegroups/aml-quickstarts-159151/workspaces/quick-starts-ws-159151&amp;tid=660b3398-b80e-49d2-bc5b-ac1dc93b5254\" target=\"_blank\" rel=\"noopener\">Link to Azure Machine Learning studio</a></td><td><a href=\"https://docs.microsoft.com/en-us/python/api/overview/azure/ml/intro?view=azure-ml-py\" target=\"_blank\" rel=\"noopener\">Link to Documentation</a></td></tr></table>"
      ],
      "text/plain": [
       "<IPython.core.display.HTML object>"
      ]
     },
     "metadata": {},
     "output_type": "display_data"
    },
    {
     "name": "stdout",
     "output_type": "stream",
     "text": [
      "\n"
     ]
    }
   ],
   "source": [
    "# TODO: Submit your experiment\n",
    "remote_run = experiment.submit(automl_config, show_output = True)\n"
   ]
  },
  {
   "cell_type": "markdown",
   "metadata": {},
   "source": [
    "## Run Details\n",
    "\n",
    "OPTIONAL: Write about the different models trained and their performance. Why do you think some models did better than others?\n",
    "\n",
    "TODO: In the cell below, use the `RunDetails` widget to show the different experiments."
   ]
  },
  {
   "cell_type": "code",
   "execution_count": 12,
   "metadata": {
    "collapsed": false,
    "gather": {
     "logged": 1598431121770
    },
    "jupyter": {
     "outputs_hidden": false,
     "source_hidden": false
    },
    "nteract": {
     "transient": {
      "deleting": false
     }
    }
   },
   "outputs": [
    {
     "data": {
      "application/vnd.jupyter.widget-view+json": {
       "model_id": "533cf987b4c94d9f96e860b086d8ffca",
       "version_major": 2,
       "version_minor": 0
      },
      "text/plain": [
       "_AutoMLWidget(widget_settings={'childWidgetDisplay': 'popup', 'send_telemetry': False, 'log_level': 'INFO', 's…"
      ]
     },
     "metadata": {},
     "output_type": "display_data"
    },
    {
     "data": {
      "application/aml.mini.widget.v1": "{\"status\": \"Completed\", \"workbench_run_details_uri\": \"https://ml.azure.com/runs/AutoML_aa0f197a-bf52-486a-ac58-1b41f571364e?wsid=/subscriptions/a0a76bad-11a1-4a2d-9887-97a29122c8ed/resourcegroups/aml-quickstarts-159151/workspaces/quick-starts-ws-159151&tid=660b3398-b80e-49d2-bc5b-ac1dc93b5254\", \"run_id\": \"AutoML_aa0f197a-bf52-486a-ac58-1b41f571364e\", \"run_properties\": {\"run_id\": \"AutoML_aa0f197a-bf52-486a-ac58-1b41f571364e\", \"created_utc\": \"2021-09-24T04:01:34.383495Z\", \"properties\": {\"num_iterations\": \"1000\", \"training_type\": \"TrainFull\", \"acquisition_function\": \"EI\", \"primary_metric\": \"AUC_weighted\", \"train_split\": \"0\", \"acquisition_parameter\": \"0\", \"num_cross_validation\": \"7\", \"target\": \"automl-cluster\", \"AMLSettingsJsonString\": \"{\\\"path\\\":null,\\\"name\\\":\\\"capstone-project\\\",\\\"subscription_id\\\":\\\"a0a76bad-11a1-4a2d-9887-97a29122c8ed\\\",\\\"resource_group\\\":\\\"aml-quickstarts-159151\\\",\\\"workspace_name\\\":\\\"quick-starts-ws-159151\\\",\\\"region\\\":\\\"southcentralus\\\",\\\"compute_target\\\":\\\"automl-cluster\\\",\\\"spark_service\\\":null,\\\"azure_service\\\":\\\"remote\\\",\\\"many_models\\\":false,\\\"pipeline_fetch_max_batch_size\\\":1,\\\"enable_batch_run\\\":false,\\\"enable_run_restructure\\\":false,\\\"start_auxiliary_runs_before_parent_complete\\\":false,\\\"enable_code_generation\\\":false,\\\"iterations\\\":1000,\\\"primary_metric\\\":\\\"AUC_weighted\\\",\\\"task_type\\\":\\\"classification\\\",\\\"data_script\\\":null,\\\"test_size\\\":0.0,\\\"validation_size\\\":0.0,\\\"n_cross_validations\\\":7,\\\"y_min\\\":null,\\\"y_max\\\":null,\\\"num_classes\\\":null,\\\"featurization\\\":\\\"auto\\\",\\\"_ignore_package_version_incompatibilities\\\":false,\\\"is_timeseries\\\":false,\\\"max_cores_per_iteration\\\":1,\\\"max_concurrent_iterations\\\":5,\\\"iteration_timeout_minutes\\\":null,\\\"mem_in_mb\\\":null,\\\"enforce_time_on_windows\\\":false,\\\"experiment_timeout_minutes\\\":25,\\\"experiment_exit_score\\\":null,\\\"whitelist_models\\\":null,\\\"blacklist_algos\\\":[\\\"TensorFlowLinearClassifier\\\",\\\"TensorFlowDNN\\\"],\\\"supported_models\\\":[\\\"SVM\\\",\\\"SGD\\\",\\\"DecisionTree\\\",\\\"AveragedPerceptronClassifier\\\",\\\"KNN\\\",\\\"ExtremeRandomTrees\\\",\\\"GradientBoosting\\\",\\\"LinearSVM\\\",\\\"TensorFlowLinearClassifier\\\",\\\"TensorFlowDNN\\\",\\\"LogisticRegression\\\",\\\"MultinomialNaiveBayes\\\",\\\"RandomForest\\\",\\\"XGBoostClassifier\\\",\\\"BernoulliNaiveBayes\\\",\\\"LightGBM\\\"],\\\"private_models\\\":[],\\\"auto_blacklist\\\":true,\\\"blacklist_samples_reached\\\":false,\\\"exclude_nan_labels\\\":true,\\\"verbosity\\\":20,\\\"_debug_log\\\":\\\"azureml_automl.log\\\",\\\"show_warnings\\\":false,\\\"model_explainability\\\":true,\\\"service_url\\\":null,\\\"sdk_url\\\":null,\\\"sdk_packages\\\":null,\\\"enable_onnx_compatible_models\\\":false,\\\"enable_split_onnx_featurizer_estimator_models\\\":false,\\\"vm_type\\\":\\\"STANDARD_D2_V2\\\",\\\"telemetry_verbosity\\\":20,\\\"send_telemetry\\\":true,\\\"enable_dnn\\\":false,\\\"scenario\\\":\\\"SDK-1.13.0\\\",\\\"environment_label\\\":null,\\\"save_mlflow\\\":false,\\\"force_text_dnn\\\":false,\\\"enable_feature_sweeping\\\":true,\\\"enable_early_stopping\\\":true,\\\"early_stopping_n_iters\\\":10,\\\"metrics\\\":null,\\\"enable_metric_confidence\\\":false,\\\"enable_ensembling\\\":true,\\\"enable_stack_ensembling\\\":true,\\\"ensemble_iterations\\\":15,\\\"enable_tf\\\":false,\\\"enable_subsampling\\\":null,\\\"subsample_seed\\\":null,\\\"enable_nimbusml\\\":false,\\\"enable_streaming\\\":false,\\\"force_streaming\\\":false,\\\"track_child_runs\\\":true,\\\"allowed_private_models\\\":[],\\\"label_column_name\\\":\\\"Churn\\\",\\\"weight_column_name\\\":null,\\\"cv_split_column_names\\\":null,\\\"enable_local_managed\\\":false,\\\"_local_managed_run_id\\\":null,\\\"cost_mode\\\":1,\\\"lag_length\\\":0,\\\"metric_operation\\\":\\\"maximize\\\",\\\"preprocess\\\":true}\", \"DataPrepJsonString\": \"{\\\\\\\"training_data\\\\\\\": {\\\\\\\"datasetId\\\\\\\": \\\\\\\"ee0e0a33-27bd-424d-a9a2-7b449307835d\\\\\\\"}, \\\\\\\"datasets\\\\\\\": 0}\", \"EnableSubsampling\": null, \"runTemplate\": \"AutoML\", \"azureml.runsource\": \"automl\", \"display_task_type\": \"classification\", \"dependencies_versions\": \"{\\\"azureml-widgets\\\": \\\"1.33.0\\\", \\\"azureml-train\\\": \\\"1.33.0\\\", \\\"azureml-train-restclients-hyperdrive\\\": \\\"1.33.0\\\", \\\"azureml-train-core\\\": \\\"1.33.0\\\", \\\"azureml-train-automl\\\": \\\"1.33.0\\\", \\\"azureml-train-automl-runtime\\\": \\\"1.33.0\\\", \\\"azureml-train-automl-client\\\": \\\"1.33.0\\\", \\\"azureml-tensorboard\\\": \\\"1.33.0\\\", \\\"azureml-telemetry\\\": \\\"1.33.0\\\", \\\"azureml-sdk\\\": \\\"1.33.0\\\", \\\"azureml-samples\\\": \\\"0+unknown\\\", \\\"azureml-responsibleai\\\": \\\"1.33.0\\\", \\\"azureml-pipeline\\\": \\\"1.33.0\\\", \\\"azureml-pipeline-steps\\\": \\\"1.33.0\\\", \\\"azureml-pipeline-core\\\": \\\"1.33.0\\\", \\\"azureml-opendatasets\\\": \\\"1.33.0\\\", \\\"azureml-mlflow\\\": \\\"1.33.0\\\", \\\"azureml-interpret\\\": \\\"1.33.0\\\", \\\"azureml-explain-model\\\": \\\"1.33.0\\\", \\\"azureml-defaults\\\": \\\"1.33.0\\\", \\\"azureml-dataset-runtime\\\": \\\"1.33.0\\\", \\\"azureml-dataprep\\\": \\\"2.20.1\\\", \\\"azureml-dataprep-rslex\\\": \\\"1.18.0\\\", \\\"azureml-dataprep-native\\\": \\\"38.0.0\\\", \\\"azureml-datadrift\\\": \\\"1.33.0\\\", \\\"azureml-core\\\": \\\"1.33.0\\\", \\\"azureml-contrib-services\\\": \\\"1.33.0\\\", \\\"azureml-contrib-server\\\": \\\"1.33.0\\\", \\\"azureml-contrib-reinforcementlearning\\\": \\\"1.33.0\\\", \\\"azureml-contrib-pipeline-steps\\\": \\\"1.33.0\\\", \\\"azureml-contrib-notebook\\\": \\\"1.33.0\\\", \\\"azureml-contrib-fairness\\\": \\\"1.33.0\\\", \\\"azureml-contrib-dataset\\\": \\\"1.33.0\\\", \\\"azureml-cli-common\\\": \\\"1.33.0\\\", \\\"azureml-automl-runtime\\\": \\\"1.33.0\\\", \\\"azureml-automl-dnn-nlp\\\": \\\"1.33.0\\\", \\\"azureml-automl-core\\\": \\\"1.33.0\\\", \\\"azureml-accel-models\\\": \\\"1.33.0\\\"}\", \"_aml_system_scenario_identification\": \"Remote.Parent\", \"ClientType\": \"SDK\", \"environment_cpu_name\": \"AzureML-AutoML\", \"environment_cpu_label\": \"prod\", \"environment_gpu_name\": \"AzureML-AutoML-GPU\", \"environment_gpu_label\": \"prod\", \"root_attribution\": \"automl\", \"attribution\": \"AutoML\", \"Orchestrator\": \"AutoML\", \"CancelUri\": \"https://southcentralus.api.azureml.ms/jasmine/v1.0/subscriptions/a0a76bad-11a1-4a2d-9887-97a29122c8ed/resourceGroups/aml-quickstarts-159151/providers/Microsoft.MachineLearningServices/workspaces/quick-starts-ws-159151/experimentids/dbf170fb-c963-45af-8c6a-3a70c3d6a01a/cancel/AutoML_aa0f197a-bf52-486a-ac58-1b41f571364e\", \"ClientSdkVersion\": \"1.34.0\", \"snapshotId\": \"00000000-0000-0000-0000-000000000000\", \"SetupRunId\": \"AutoML_aa0f197a-bf52-486a-ac58-1b41f571364e_setup\", \"SetupRunContainerId\": \"dcid.AutoML_aa0f197a-bf52-486a-ac58-1b41f571364e_setup\", \"FeaturizationRunJsonPath\": \"featurizer_container.json\", \"FeaturizationRunId\": \"AutoML_aa0f197a-bf52-486a-ac58-1b41f571364e_featurize\", \"ProblemInfoJsonString\": \"{\\\"dataset_num_categorical\\\": 0, \\\"is_sparse\\\": true, \\\"subsampling\\\": false, \\\"has_extra_col\\\": true, \\\"dataset_classes\\\": 2, \\\"dataset_features\\\": 41, \\\"dataset_samples\\\": 5282, \\\"single_frequency_class_detected\\\": false}\", \"ModelExplainRunId\": \"AutoML_aa0f197a-bf52-486a-ac58-1b41f571364e_ModelExplain\"}, \"tags\": {\"model_explain_run\": \"best_run\", \"_aml_system_azureml.automlComponent\": \"AutoML\", \"pipeline_id\": \"\", \"score\": \"\", \"predicted_cost\": \"\", \"fit_time\": \"\", \"training_percent\": \"\", \"iteration\": \"\", \"run_preprocessor\": \"\", \"run_algorithm\": \"\", \"dynamic_whitelisting_iterations\": \"<25>;<30>;<35>;<40>;\", \"automl_best_child_run_id\": \"AutoML_aa0f197a-bf52-486a-ac58-1b41f571364e_44\", \"model_explain_best_run_child_id\": \"AutoML_aa0f197a-bf52-486a-ac58-1b41f571364e_44\"}, \"end_time_utc\": \"2021-09-24T04:31:31.873562Z\", \"status\": \"Completed\", \"log_files\": {}, \"log_groups\": [], \"run_duration\": \"0:29:57\", \"run_number\": \"1\", \"run_queued_details\": {\"status\": \"Completed\", \"details\": null}}, \"child_runs\": [{\"run_id\": \"AutoML_aa0f197a-bf52-486a-ac58-1b41f571364e_0\", \"run_number\": 5, \"metric\": null, \"status\": \"Completed\", \"run_type\": \"azureml.scriptrun\", \"training_percent\": \"100\", \"start_time\": \"2021-09-24T04:14:42.331939Z\", \"end_time\": \"2021-09-24T04:15:21.635112Z\", \"created_time\": \"2021-09-24T04:13:31.650522Z\", \"created_time_dt\": \"2021-09-24T04:13:31.650522Z\", \"duration\": \"0:01:49\", \"iteration\": \"0\", \"goal\": \"AUC_weighted_max\", \"run_name\": \"MaxAbsScaler, LightGBM\", \"run_properties\": \"copy=True\", \"primary_metric\": 0.82628121, \"best_metric\": 0.82628121}, {\"run_id\": \"AutoML_aa0f197a-bf52-486a-ac58-1b41f571364e_4\", \"run_number\": 6, \"metric\": null, \"status\": \"Completed\", \"run_type\": \"azureml.scriptrun\", \"training_percent\": \"100\", \"start_time\": \"2021-09-24T04:17:12.286019Z\", \"end_time\": \"2021-09-24T04:22:25.896815Z\", \"created_time\": \"2021-09-24T04:13:31.661588Z\", \"created_time_dt\": \"2021-09-24T04:13:31.661588Z\", \"duration\": \"0:08:54\", \"iteration\": \"4\", \"goal\": \"AUC_weighted_max\", \"run_name\": \"StandardScalerWrapper, LightGBM\", \"run_properties\": \"\\n    copy=True,\\n    with_mean=False,\\n    with_std=True\\n\", \"primary_metric\": 0.84243115, \"best_metric\": 0.84282708}, {\"run_id\": \"AutoML_aa0f197a-bf52-486a-ac58-1b41f571364e_2\", \"run_number\": 7, \"metric\": null, \"status\": \"Completed\", \"run_type\": \"azureml.scriptrun\", \"training_percent\": \"100\", \"start_time\": \"2021-09-24T04:15:38.8229Z\", \"end_time\": \"2021-09-24T04:16:18.736919Z\", \"created_time\": \"2021-09-24T04:13:31.670838Z\", \"created_time_dt\": \"2021-09-24T04:13:31.670838Z\", \"duration\": \"0:02:47\", \"iteration\": \"2\", \"goal\": \"AUC_weighted_max\", \"run_name\": \"MaxAbsScaler, ExtremeRandomTrees\", \"run_properties\": \"copy=True\", \"primary_metric\": 0.83038455, \"best_metric\": 0.84282708}, {\"run_id\": \"AutoML_aa0f197a-bf52-486a-ac58-1b41f571364e_1\", \"run_number\": 8, \"metric\": null, \"status\": \"Completed\", \"run_type\": \"azureml.scriptrun\", \"training_percent\": \"100\", \"start_time\": \"2021-09-24T04:13:45.676772Z\", \"end_time\": \"2021-09-24T04:14:27.34491Z\", \"created_time\": \"2021-09-24T04:13:31.681442Z\", \"created_time_dt\": \"2021-09-24T04:13:31.681442Z\", \"duration\": \"0:00:55\", \"iteration\": \"1\", \"goal\": \"AUC_weighted_max\", \"run_name\": \"MaxAbsScaler, XGBoostClassifier\", \"run_properties\": \"copy=True\", \"primary_metric\": 0.84282708, \"best_metric\": 0.84282708}, {\"run_id\": \"AutoML_aa0f197a-bf52-486a-ac58-1b41f571364e_3\", \"run_number\": 9, \"metric\": null, \"status\": \"Completed\", \"run_type\": \"azureml.scriptrun\", \"training_percent\": \"100\", \"start_time\": \"2021-09-24T04:16:35.604283Z\", \"end_time\": \"2021-09-24T04:17:14.625706Z\", \"created_time\": \"2021-09-24T04:13:31.681073Z\", \"created_time_dt\": \"2021-09-24T04:13:31.681073Z\", \"duration\": \"0:03:42\", \"iteration\": \"3\", \"goal\": \"AUC_weighted_max\", \"run_name\": \"MaxAbsScaler, RandomForest\", \"run_properties\": \"copy=True\", \"primary_metric\": 0.8395885, \"best_metric\": 0.84282708}, {\"run_id\": \"AutoML_aa0f197a-bf52-486a-ac58-1b41f571364e_5\", \"run_number\": 10, \"metric\": null, \"status\": \"Completed\", \"run_type\": \"azureml.scriptrun\", \"training_percent\": \"100\", \"start_time\": \"2021-09-24T04:17:12.085077Z\", \"end_time\": \"2021-09-24T04:22:30.794264Z\", \"created_time\": \"2021-09-24T04:14:28.905961Z\", \"created_time_dt\": \"2021-09-24T04:14:28.905961Z\", \"duration\": \"0:08:01\", \"iteration\": \"5\", \"goal\": \"AUC_weighted_max\", \"run_name\": \"SparseNormalizer, XGBoostClassifier\", \"run_properties\": \"copy=True, norm='max'\", \"primary_metric\": 0.8300517, \"best_metric\": 0.84282708}, {\"run_id\": \"AutoML_aa0f197a-bf52-486a-ac58-1b41f571364e_6\", \"run_number\": 11, \"metric\": null, \"status\": \"Completed\", \"run_type\": \"azureml.scriptrun\", \"training_percent\": \"100\", \"start_time\": \"2021-09-24T04:17:13.014154Z\", \"end_time\": \"2021-09-24T04:22:32.956634Z\", \"created_time\": \"2021-09-24T04:15:23.395415Z\", \"created_time_dt\": \"2021-09-24T04:15:23.395415Z\", \"duration\": \"0:07:09\", \"iteration\": \"6\", \"goal\": \"AUC_weighted_max\", \"run_name\": \"SparseNormalizer, RandomForest\", \"run_properties\": \"copy=True, norm='l2'\", \"primary_metric\": 0.83756354, \"best_metric\": 0.84282708}, {\"run_id\": \"AutoML_aa0f197a-bf52-486a-ac58-1b41f571364e_7\", \"run_number\": 12, \"metric\": null, \"status\": \"Completed\", \"run_type\": \"azureml.scriptrun\", \"training_percent\": \"100\", \"start_time\": \"2021-09-24T04:17:28.820709Z\", \"end_time\": \"2021-09-24T04:18:09.454827Z\", \"created_time\": \"2021-09-24T04:16:21.862076Z\", \"created_time_dt\": \"2021-09-24T04:16:21.862076Z\", \"duration\": \"0:01:47\", \"iteration\": \"7\", \"goal\": \"AUC_weighted_max\", \"run_name\": \"StandardScalerWrapper, XGBoostClassifier\", \"run_properties\": \"\\n    copy=True,\\n    with_mean=False,\\n    with_std=False\\n\", \"primary_metric\": 0.82160319, \"best_metric\": 0.84282708}, {\"run_id\": \"AutoML_aa0f197a-bf52-486a-ac58-1b41f571364e_8\", \"run_number\": 13, \"metric\": null, \"status\": \"Completed\", \"run_type\": \"azureml.scriptrun\", \"training_percent\": \"100\", \"start_time\": \"2021-09-24T04:18:23.42703Z\", \"end_time\": \"2021-09-24T04:19:03.844546Z\", \"created_time\": \"2021-09-24T04:17:17.821606Z\", \"created_time_dt\": \"2021-09-24T04:17:17.821606Z\", \"duration\": \"0:01:46\", \"iteration\": \"8\", \"goal\": \"AUC_weighted_max\", \"run_name\": \"SparseNormalizer, XGBoostClassifier\", \"run_properties\": \"copy=True, norm='max'\", \"primary_metric\": 0.82361446, \"best_metric\": 0.84282708}, {\"run_id\": \"AutoML_aa0f197a-bf52-486a-ac58-1b41f571364e_9\", \"run_number\": 14, \"metric\": null, \"status\": \"Completed\", \"run_type\": \"azureml.scriptrun\", \"training_percent\": \"100\", \"start_time\": \"2021-09-24T04:19:17.962353Z\", \"end_time\": \"2021-09-24T04:19:58.144567Z\", \"created_time\": \"2021-09-24T04:18:12.647658Z\", \"created_time_dt\": \"2021-09-24T04:18:12.647658Z\", \"duration\": \"0:01:45\", \"iteration\": \"9\", \"goal\": \"AUC_weighted_max\", \"run_name\": \"MaxAbsScaler, RandomForest\", \"run_properties\": \"copy=True\", \"primary_metric\": 0.82938969, \"best_metric\": 0.84282708}, {\"run_id\": \"AutoML_aa0f197a-bf52-486a-ac58-1b41f571364e_10\", \"run_number\": 15, \"metric\": null, \"status\": \"Completed\", \"run_type\": \"azureml.scriptrun\", \"training_percent\": \"100\", \"start_time\": \"2021-09-24T04:20:15.578985Z\", \"end_time\": \"2021-09-24T04:20:55.128022Z\", \"created_time\": \"2021-09-24T04:19:06.824877Z\", \"created_time_dt\": \"2021-09-24T04:19:06.824877Z\", \"duration\": \"0:01:48\", \"iteration\": \"10\", \"goal\": \"AUC_weighted_max\", \"run_name\": \"SparseNormalizer, LightGBM\", \"run_properties\": \"copy=True, norm='l1'\", \"primary_metric\": 0.83809378, \"best_metric\": 0.84282708}, {\"run_id\": \"AutoML_aa0f197a-bf52-486a-ac58-1b41f571364e_11\", \"run_number\": 16, \"metric\": null, \"status\": \"Completed\", \"run_type\": \"azureml.scriptrun\", \"training_percent\": \"100\", \"start_time\": \"2021-09-24T04:21:11.095018Z\", \"end_time\": \"2021-09-24T04:22:06.750934Z\", \"created_time\": \"2021-09-24T04:20:01.092838Z\", \"created_time_dt\": \"2021-09-24T04:20:01.092838Z\", \"duration\": \"0:02:05\", \"iteration\": \"11\", \"goal\": \"AUC_weighted_max\", \"run_name\": \"MaxAbsScaler, ExtremeRandomTrees\", \"run_properties\": \"copy=True\", \"primary_metric\": 0.83604499, \"best_metric\": 0.84282708}, {\"run_id\": \"AutoML_aa0f197a-bf52-486a-ac58-1b41f571364e_12\", \"run_number\": 17, \"metric\": null, \"status\": \"Completed\", \"run_type\": \"azureml.scriptrun\", \"training_percent\": \"100\", \"start_time\": \"2021-09-24T04:22:22.881259Z\", \"end_time\": \"2021-09-24T04:23:03.38024Z\", \"created_time\": \"2021-09-24T04:20:58.216986Z\", \"created_time_dt\": \"2021-09-24T04:20:58.216986Z\", \"duration\": \"0:02:05\", \"iteration\": \"12\", \"goal\": \"AUC_weighted_max\", \"run_name\": \"StandardScalerWrapper, XGBoostClassifier\", \"run_properties\": \"\\n    copy=True,\\n    with_mean=False,\\n    with_std=False\\n\", \"primary_metric\": 0.83779807, \"best_metric\": 0.84282708}, {\"run_id\": \"AutoML_aa0f197a-bf52-486a-ac58-1b41f571364e_13\", \"run_number\": 18, \"metric\": null, \"status\": \"Completed\", \"run_type\": \"azureml.scriptrun\", \"training_percent\": \"100\", \"start_time\": \"2021-09-24T04:22:37.936277Z\", \"end_time\": \"2021-09-24T04:23:18.704619Z\", \"created_time\": \"2021-09-24T04:22:09.817702Z\", \"created_time_dt\": \"2021-09-24T04:22:09.817702Z\", \"duration\": \"0:01:08\", \"iteration\": \"13\", \"goal\": \"AUC_weighted_max\", \"run_name\": \"StandardScalerWrapper, ExtremeRandomTrees\", \"run_properties\": \"\\n    copy=True,\\n    with_mean=False,\\n    with_std=False\\n\", \"primary_metric\": 0.82537643, \"best_metric\": 0.84282708}, {\"run_id\": \"AutoML_aa0f197a-bf52-486a-ac58-1b41f571364e_14\", \"run_number\": 19, \"metric\": null, \"status\": \"Completed\", \"run_type\": \"azureml.scriptrun\", \"training_percent\": \"100\", \"start_time\": \"2021-09-24T04:22:47.981548Z\", \"end_time\": \"2021-09-24T04:23:50.336983Z\", \"created_time\": \"2021-09-24T04:22:28.907238Z\", \"created_time_dt\": \"2021-09-24T04:22:28.907238Z\", \"duration\": \"0:01:21\", \"iteration\": \"14\", \"goal\": \"AUC_weighted_max\", \"run_name\": \"StandardScalerWrapper, RandomForest\", \"run_properties\": \"\\n    copy=True,\\n    with_mean=False,\\n    with_std=False\\n\", \"primary_metric\": 0.82545784, \"best_metric\": 0.84282708}, {\"run_id\": \"AutoML_aa0f197a-bf52-486a-ac58-1b41f571364e_15\", \"run_number\": 20, \"metric\": null, \"status\": \"Completed\", \"run_type\": \"azureml.scriptrun\", \"training_percent\": \"100\", \"start_time\": \"2021-09-24T04:22:50.614217Z\", \"end_time\": \"2021-09-24T04:23:33.819958Z\", \"created_time\": \"2021-09-24T04:22:33.75556Z\", \"created_time_dt\": \"2021-09-24T04:22:33.75556Z\", \"duration\": \"0:01:00\", \"iteration\": \"15\", \"goal\": \"AUC_weighted_max\", \"run_name\": \"MaxAbsScaler, LightGBM\", \"run_properties\": \"copy=True\", \"primary_metric\": 0.83900056, \"best_metric\": 0.84282708}, {\"run_id\": \"AutoML_aa0f197a-bf52-486a-ac58-1b41f571364e_16\", \"run_number\": 21, \"metric\": null, \"status\": \"Completed\", \"run_type\": \"azureml.scriptrun\", \"training_percent\": \"100\", \"start_time\": \"2021-09-24T04:23:20.952074Z\", \"end_time\": \"2021-09-24T04:24:00.052724Z\", \"created_time\": \"2021-09-24T04:22:38.235616Z\", \"created_time_dt\": \"2021-09-24T04:22:38.235616Z\", \"duration\": \"0:01:21\", \"iteration\": \"16\", \"goal\": \"AUC_weighted_max\", \"run_name\": \"MaxAbsScaler, LogisticRegression\", \"run_properties\": \"copy=True\", \"primary_metric\": 0.84131324, \"best_metric\": 0.84282708}, {\"run_id\": \"AutoML_aa0f197a-bf52-486a-ac58-1b41f571364e_17\", \"run_number\": 22, \"metric\": null, \"status\": \"Completed\", \"run_type\": \"azureml.scriptrun\", \"training_percent\": \"100\", \"start_time\": \"2021-09-24T04:23:33.515283Z\", \"end_time\": \"2021-09-24T04:24:39.673334Z\", \"created_time\": \"2021-09-24T04:23:06.459939Z\", \"created_time_dt\": \"2021-09-24T04:23:06.459939Z\", \"duration\": \"0:01:33\", \"iteration\": \"17\", \"goal\": \"AUC_weighted_max\", \"run_name\": \"StandardScalerWrapper, ExtremeRandomTrees\", \"run_properties\": \"\\n    copy=True,\\n    with_mean=False,\\n    with_std=True\\n\", \"primary_metric\": 0.83720292, \"best_metric\": 0.84282708}, {\"run_id\": \"AutoML_aa0f197a-bf52-486a-ac58-1b41f571364e_18\", \"run_number\": 23, \"metric\": null, \"status\": \"Completed\", \"run_type\": \"azureml.scriptrun\", \"training_percent\": \"100\", \"start_time\": \"2021-09-24T04:23:47.571489Z\", \"end_time\": \"2021-09-24T04:24:28.770395Z\", \"created_time\": \"2021-09-24T04:23:21.737633Z\", \"created_time_dt\": \"2021-09-24T04:23:21.737633Z\", \"duration\": \"0:01:07\", \"iteration\": \"18\", \"goal\": \"AUC_weighted_max\", \"run_name\": \"StandardScalerWrapper, XGBoostClassifier\", \"run_properties\": \"\\n    copy=True,\\n    with_mean=False,\\n    with_std=False\\n\", \"primary_metric\": 0.8319878, \"best_metric\": 0.84282708}, {\"run_id\": \"AutoML_aa0f197a-bf52-486a-ac58-1b41f571364e_19\", \"run_number\": 24, \"metric\": null, \"status\": \"Completed\", \"run_type\": \"azureml.scriptrun\", \"training_percent\": \"100\", \"start_time\": \"2021-09-24T04:24:06.752939Z\", \"end_time\": \"2021-09-24T04:24:57.078959Z\", \"created_time\": \"2021-09-24T04:23:36.868504Z\", \"created_time_dt\": \"2021-09-24T04:23:36.868504Z\", \"duration\": \"0:01:20\", \"iteration\": \"19\", \"goal\": \"AUC_weighted_max\", \"run_name\": \"MaxAbsScaler, ExtremeRandomTrees\", \"run_properties\": \"copy=True\", \"primary_metric\": 0.82831772, \"best_metric\": 0.84282708}, {\"run_id\": \"AutoML_aa0f197a-bf52-486a-ac58-1b41f571364e_20\", \"run_number\": 25, \"metric\": null, \"status\": \"Completed\", \"run_type\": \"azureml.scriptrun\", \"training_percent\": \"100\", \"start_time\": \"2021-09-24T04:24:14.927528Z\", \"end_time\": \"2021-09-24T04:24:53.863942Z\", \"created_time\": \"2021-09-24T04:23:53.080807Z\", \"created_time_dt\": \"2021-09-24T04:23:53.080807Z\", \"duration\": \"0:01:00\", \"iteration\": \"20\", \"goal\": \"AUC_weighted_max\", \"run_name\": \"MaxAbsScaler, LogisticRegression\", \"run_properties\": \"copy=True\", \"primary_metric\": 0.84168471, \"best_metric\": 0.84282708}, {\"run_id\": \"AutoML_aa0f197a-bf52-486a-ac58-1b41f571364e_21\", \"run_number\": 26, \"metric\": null, \"status\": \"Completed\", \"run_type\": \"azureml.scriptrun\", \"training_percent\": \"100\", \"start_time\": \"2021-09-24T04:24:44.061894Z\", \"end_time\": \"2021-09-24T04:25:22.62024Z\", \"created_time\": \"2021-09-24T04:24:03.041935Z\", \"created_time_dt\": \"2021-09-24T04:24:03.041935Z\", \"duration\": \"0:01:19\", \"iteration\": \"21\", \"goal\": \"AUC_weighted_max\", \"run_name\": \"StandardScalerWrapper, XGBoostClassifier\", \"run_properties\": \"\\n    copy=True,\\n    with_mean=False,\\n    with_std=False\\n\", \"primary_metric\": 0.82992827, \"best_metric\": 0.84282708}, {\"run_id\": \"AutoML_aa0f197a-bf52-486a-ac58-1b41f571364e_22\", \"run_number\": 27, \"metric\": null, \"status\": \"Completed\", \"run_type\": \"azureml.scriptrun\", \"training_percent\": \"100\", \"start_time\": \"2021-09-24T04:24:54.277328Z\", \"end_time\": \"2021-09-24T04:25:36.896768Z\", \"created_time\": \"2021-09-24T04:24:31.975082Z\", \"created_time_dt\": \"2021-09-24T04:24:31.975082Z\", \"duration\": \"0:01:04\", \"iteration\": \"22\", \"goal\": \"AUC_weighted_max\", \"run_name\": \"StandardScalerWrapper, XGBoostClassifier\", \"run_properties\": \"\\n    copy=True,\\n    with_mean=False,\\n    with_std=False\\n\", \"primary_metric\": 0.83814854, \"best_metric\": 0.84282708}, {\"run_id\": \"AutoML_aa0f197a-bf52-486a-ac58-1b41f571364e_23\", \"run_number\": 28, \"metric\": null, \"status\": \"Completed\", \"run_type\": \"azureml.scriptrun\", \"training_percent\": \"100\", \"start_time\": \"2021-09-24T04:25:10.232482Z\", \"end_time\": \"2021-09-24T04:25:49.662492Z\", \"created_time\": \"2021-09-24T04:24:42.741424Z\", \"created_time_dt\": \"2021-09-24T04:24:42.741424Z\", \"duration\": \"0:01:06\", \"iteration\": \"23\", \"goal\": \"AUC_weighted_max\", \"run_name\": \"MaxAbsScaler, RandomForest\", \"run_properties\": \"copy=True\", \"primary_metric\": 0.83405016, \"best_metric\": 0.84282708}, {\"run_id\": \"AutoML_aa0f197a-bf52-486a-ac58-1b41f571364e_24\", \"run_number\": 29, \"metric\": null, \"status\": \"Completed\", \"run_type\": \"azureml.scriptrun\", \"training_percent\": \"100\", \"start_time\": \"2021-09-24T04:25:13.422495Z\", \"end_time\": \"2021-09-24T04:25:52.772394Z\", \"created_time\": \"2021-09-24T04:24:56.992599Z\", \"created_time_dt\": \"2021-09-24T04:24:56.992599Z\", \"duration\": \"0:00:55\", \"iteration\": \"24\", \"goal\": \"AUC_weighted_max\", \"run_name\": \"SparseNormalizer, XGBoostClassifier\", \"run_properties\": \"copy=True, norm='max'\", \"primary_metric\": 0.83578588, \"best_metric\": 0.84282708}, {\"run_id\": \"AutoML_aa0f197a-bf52-486a-ac58-1b41f571364e_25\", \"run_number\": 30, \"metric\": null, \"status\": \"Completed\", \"run_type\": \"azureml.scriptrun\", \"training_percent\": \"100\", \"start_time\": \"2021-09-24T04:25:36.743618Z\", \"end_time\": \"2021-09-24T04:26:18.166396Z\", \"created_time\": \"2021-09-24T04:25:03.657668Z\", \"created_time_dt\": \"2021-09-24T04:25:03.657668Z\", \"duration\": \"0:01:14\", \"iteration\": \"25\", \"goal\": \"AUC_weighted_max\", \"run_name\": \"TruncatedSVDWrapper, XGBoostClassifier\", \"run_properties\": \"n_components=0.6531578947368422, random_state=None\", \"primary_metric\": 0.81496236, \"best_metric\": 0.84282708}, {\"run_id\": \"AutoML_aa0f197a-bf52-486a-ac58-1b41f571364e_26\", \"run_number\": 31, \"metric\": null, \"status\": \"Completed\", \"run_type\": \"azureml.scriptrun\", \"training_percent\": \"100\", \"start_time\": \"2021-09-24T04:25:53.567724Z\", \"end_time\": \"2021-09-24T04:26:36.734453Z\", \"created_time\": \"2021-09-24T04:25:24.73947Z\", \"created_time_dt\": \"2021-09-24T04:25:24.73947Z\", \"duration\": \"0:01:11\", \"iteration\": \"26\", \"goal\": \"AUC_weighted_max\", \"run_name\": \"StandardScalerWrapper, LightGBM\", \"run_properties\": \"\\n    copy=True,\\n    with_mean=False,\\n    with_std=False\\n\", \"primary_metric\": 0.84567197, \"best_metric\": 0.84567197}, {\"run_id\": \"AutoML_aa0f197a-bf52-486a-ac58-1b41f571364e_27\", \"run_number\": 32, \"metric\": null, \"status\": \"Completed\", \"run_type\": \"azureml.scriptrun\", \"training_percent\": \"100\", \"start_time\": \"2021-09-24T04:26:07.944401Z\", \"end_time\": \"2021-09-24T04:26:51.16862Z\", \"created_time\": \"2021-09-24T04:25:45.512072Z\", \"created_time_dt\": \"2021-09-24T04:25:45.512072Z\", \"duration\": \"0:01:05\", \"iteration\": \"27\", \"goal\": \"AUC_weighted_max\", \"run_name\": \"SparseNormalizer, XGBoostClassifier\", \"run_properties\": \"copy=True, norm='l2'\", \"primary_metric\": 0.82908858, \"best_metric\": 0.84567197}, {\"run_id\": \"AutoML_aa0f197a-bf52-486a-ac58-1b41f571364e_28\", \"run_number\": 33, \"metric\": null, \"status\": \"Completed\", \"run_type\": \"azureml.scriptrun\", \"training_percent\": \"100\", \"start_time\": \"2021-09-24T04:26:08.049459Z\", \"end_time\": \"2021-09-24T04:26:48.902025Z\", \"created_time\": \"2021-09-24T04:25:51.68954Z\", \"created_time_dt\": \"2021-09-24T04:25:51.68954Z\", \"duration\": \"0:00:57\", \"iteration\": \"28\", \"goal\": \"AUC_weighted_max\", \"run_name\": \"MaxAbsScaler, LightGBM\", \"run_properties\": \"copy=True\", \"primary_metric\": 0.84432061, \"best_metric\": 0.84567197}, {\"run_id\": \"AutoML_aa0f197a-bf52-486a-ac58-1b41f571364e_29\", \"run_number\": 34, \"metric\": null, \"status\": \"Completed\", \"run_type\": \"azureml.scriptrun\", \"training_percent\": \"100\", \"start_time\": \"2021-09-24T04:26:35.134852Z\", \"end_time\": \"2021-09-24T04:27:16.311957Z\", \"created_time\": \"2021-09-24T04:25:55.418458Z\", \"created_time_dt\": \"2021-09-24T04:25:55.418458Z\", \"duration\": \"0:01:20\", \"iteration\": \"29\", \"goal\": \"AUC_weighted_max\", \"run_name\": \"StandardScalerWrapper, LightGBM\", \"run_properties\": \"\\n    copy=True,\\n    with_mean=False,\\n    with_std=False\\n\", \"primary_metric\": 0.84341268, \"best_metric\": 0.84567197}, {\"run_id\": \"AutoML_aa0f197a-bf52-486a-ac58-1b41f571364e_30\", \"run_number\": 35, \"metric\": null, \"status\": \"Completed\", \"run_type\": \"azureml.scriptrun\", \"training_percent\": \"100\", \"start_time\": \"2021-09-24T04:26:53.379769Z\", \"end_time\": \"2021-09-24T04:27:47.09561Z\", \"created_time\": \"2021-09-24T04:26:21.328782Z\", \"created_time_dt\": \"2021-09-24T04:26:21.328782Z\", \"duration\": \"0:01:25\", \"iteration\": \"30\", \"goal\": \"AUC_weighted_max\", \"run_name\": \"TruncatedSVDWrapper, XGBoostClassifier\", \"run_properties\": \"n_components=0.8510526315789474, random_state=None\", \"primary_metric\": 0.81777095, \"best_metric\": 0.84567197}, {\"run_id\": \"AutoML_aa0f197a-bf52-486a-ac58-1b41f571364e_31\", \"run_number\": 36, \"metric\": null, \"status\": \"Completed\", \"run_type\": \"azureml.scriptrun\", \"training_percent\": \"100\", \"start_time\": \"2021-09-24T04:27:05.644792Z\", \"end_time\": \"2021-09-24T04:27:47.638985Z\", \"created_time\": \"2021-09-24T04:26:38.880917Z\", \"created_time_dt\": \"2021-09-24T04:26:38.880917Z\", \"duration\": \"0:01:08\", \"iteration\": \"31\", \"goal\": \"AUC_weighted_max\", \"run_name\": \"TruncatedSVDWrapper, LogisticRegression\", \"run_properties\": \"n_components=0.9005263157894737, random_state=None\", \"primary_metric\": 0.84194317, \"best_metric\": 0.84567197}, {\"run_id\": \"AutoML_aa0f197a-bf52-486a-ac58-1b41f571364e_32\", \"run_number\": 37, \"metric\": null, \"status\": \"Completed\", \"run_type\": \"azureml.scriptrun\", \"training_percent\": \"100\", \"start_time\": \"2021-09-24T04:27:07.570888Z\", \"end_time\": \"2021-09-24T04:27:57.821458Z\", \"created_time\": \"2021-09-24T04:26:50.91148Z\", \"created_time_dt\": \"2021-09-24T04:26:50.91148Z\", \"duration\": \"0:01:06\", \"iteration\": \"32\", \"goal\": \"AUC_weighted_max\", \"run_name\": \"StandardScalerWrapper, XGBoostClassifier\", \"run_properties\": \"\\n    copy=True,\\n    with_mean=False,\\n    with_std=False\\n\", \"primary_metric\": 0.82050062, \"best_metric\": 0.84567197}, {\"run_id\": \"AutoML_aa0f197a-bf52-486a-ac58-1b41f571364e_33\", \"run_number\": 38, \"metric\": null, \"status\": \"Completed\", \"run_type\": \"azureml.scriptrun\", \"training_percent\": \"100\", \"start_time\": \"2021-09-24T04:27:32.741778Z\", \"end_time\": \"2021-09-24T04:28:19.04788Z\", \"created_time\": \"2021-09-24T04:26:53.722403Z\", \"created_time_dt\": \"2021-09-24T04:26:53.722403Z\", \"duration\": \"0:01:25\", \"iteration\": \"33\", \"goal\": \"AUC_weighted_max\", \"run_name\": \"StandardScalerWrapper, LogisticRegression\", \"run_properties\": \"\\n    copy=True,\\n    with_mean=False,\\n    with_std=False\\n\", \"primary_metric\": 0.84184097, \"best_metric\": 0.84567197}, {\"run_id\": \"AutoML_aa0f197a-bf52-486a-ac58-1b41f571364e_34\", \"run_number\": 39, \"metric\": null, \"status\": \"Completed\", \"run_type\": \"azureml.scriptrun\", \"training_percent\": \"100\", \"start_time\": \"2021-09-24T04:28:03.142572Z\", \"end_time\": \"2021-09-24T04:28:48.899762Z\", \"created_time\": \"2021-09-24T04:27:18.357321Z\", \"created_time_dt\": \"2021-09-24T04:27:18.357321Z\", \"duration\": \"0:01:30\", \"iteration\": \"34\", \"goal\": \"AUC_weighted_max\", \"run_name\": \"StandardScalerWrapper, GradientBoosting\", \"run_properties\": \"\\n    copy=True,\\n    with_mean=False,\\n    with_std=True\\n\", \"primary_metric\": 0.8316574, \"best_metric\": 0.84567197}, {\"run_id\": \"AutoML_aa0f197a-bf52-486a-ac58-1b41f571364e_35\", \"run_number\": 40, \"metric\": null, \"status\": \"Completed\", \"run_type\": \"azureml.scriptrun\", \"training_percent\": \"100\", \"start_time\": \"2021-09-24T04:28:02.050522Z\", \"end_time\": \"2021-09-24T04:28:43.608339Z\", \"created_time\": \"2021-09-24T04:27:52.036218Z\", \"created_time_dt\": \"2021-09-24T04:27:52.036218Z\", \"duration\": \"0:00:51\", \"iteration\": \"35\", \"goal\": \"AUC_weighted_max\", \"run_name\": \"StandardScalerWrapper, LightGBM\", \"run_properties\": \"\\n    copy=True,\\n    with_mean=False,\\n    with_std=True\\n\", \"primary_metric\": 0.83905925, \"best_metric\": 0.84567197}, {\"run_id\": \"AutoML_aa0f197a-bf52-486a-ac58-1b41f571364e_36\", \"run_number\": 41, \"metric\": null, \"status\": \"Completed\", \"run_type\": \"azureml.scriptrun\", \"training_percent\": \"100\", \"start_time\": \"2021-09-24T04:28:11.12751Z\", \"end_time\": \"2021-09-24T04:28:52.339559Z\", \"created_time\": \"2021-09-24T04:27:55.051341Z\", \"created_time_dt\": \"2021-09-24T04:27:55.051341Z\", \"duration\": \"0:00:57\", \"iteration\": \"36\", \"goal\": \"AUC_weighted_max\", \"run_name\": \"MaxAbsScaler, SGD\", \"run_properties\": \"copy=True\", \"primary_metric\": 0.83844273, \"best_metric\": 0.84567197}, {\"run_id\": \"AutoML_aa0f197a-bf52-486a-ac58-1b41f571364e_37\", \"run_number\": 42, \"metric\": null, \"status\": \"Completed\", \"run_type\": \"azureml.scriptrun\", \"training_percent\": \"100\", \"start_time\": \"2021-09-24T04:28:36.435013Z\", \"end_time\": \"2021-09-24T04:29:18.627302Z\", \"created_time\": \"2021-09-24T04:27:59.715994Z\", \"created_time_dt\": \"2021-09-24T04:27:59.715994Z\", \"duration\": \"0:01:18\", \"iteration\": \"37\", \"goal\": \"AUC_weighted_max\", \"run_name\": \"StandardScalerWrapper, LogisticRegression\", \"run_properties\": \"\\n    copy=True,\\n    with_mean=False,\\n    with_std=False\\n\", \"primary_metric\": 0.84093078, \"best_metric\": 0.84567197}, {\"run_id\": \"AutoML_aa0f197a-bf52-486a-ac58-1b41f571364e_38\", \"run_number\": 43, \"metric\": null, \"status\": \"Completed\", \"run_type\": \"azureml.scriptrun\", \"training_percent\": \"100\", \"start_time\": \"2021-09-24T04:28:59.562201Z\", \"end_time\": \"2021-09-24T04:29:45.920131Z\", \"created_time\": \"2021-09-24T04:28:21.113945Z\", \"created_time_dt\": \"2021-09-24T04:28:21.113945Z\", \"duration\": \"0:01:24\", \"iteration\": \"38\", \"goal\": \"AUC_weighted_max\", \"run_name\": \"MaxAbsScaler, RandomForest\", \"run_properties\": \"copy=True\", \"primary_metric\": 0.82094095, \"best_metric\": 0.84567197}, {\"run_id\": \"AutoML_aa0f197a-bf52-486a-ac58-1b41f571364e_39\", \"run_number\": 44, \"metric\": null, \"status\": \"Completed\", \"run_type\": \"azureml.scriptrun\", \"training_percent\": \"100\", \"start_time\": \"2021-09-24T04:29:03.582539Z\", \"end_time\": \"2021-09-24T04:29:48.59269Z\", \"created_time\": \"2021-09-24T04:28:45.567107Z\", \"created_time_dt\": \"2021-09-24T04:28:45.567107Z\", \"duration\": \"0:01:03\", \"iteration\": \"39\", \"goal\": \"AUC_weighted_max\", \"run_name\": \"MaxAbsScaler, LightGBM\", \"run_properties\": \"copy=True\", \"primary_metric\": 0.83883302, \"best_metric\": 0.84567197}, {\"run_id\": \"AutoML_aa0f197a-bf52-486a-ac58-1b41f571364e_40\", \"run_number\": 45, \"metric\": null, \"status\": \"Completed\", \"run_type\": \"azureml.scriptrun\", \"training_percent\": \"100\", \"start_time\": \"2021-09-24T04:29:05.63321Z\", \"end_time\": \"2021-09-24T04:29:44.494435Z\", \"created_time\": \"2021-09-24T04:28:51.912868Z\", \"created_time_dt\": \"2021-09-24T04:28:51.912868Z\", \"duration\": \"0:00:52\", \"iteration\": \"40\", \"goal\": \"AUC_weighted_max\", \"run_name\": \"TruncatedSVDWrapper, LightGBM\", \"run_properties\": \"n_components=0.2573684210526316, random_state=None\", \"primary_metric\": 0.8039676, \"best_metric\": 0.84567197}, {\"run_id\": \"AutoML_aa0f197a-bf52-486a-ac58-1b41f571364e_41\", \"run_number\": 46, \"metric\": null, \"status\": \"Canceled\", \"run_type\": \"azureml.scriptrun\", \"training_percent\": \"100\", \"start_time\": \"2021-09-24T04:29:33.88475Z\", \"end_time\": \"2021-09-24T04:29:49.677386Z\", \"created_time\": \"2021-09-24T04:28:54.853475Z\", \"created_time_dt\": \"2021-09-24T04:28:54.853475Z\", \"duration\": \"0:00:54\", \"iteration\": \"41\", \"goal\": \"AUC_weighted_max\", \"run_name\": \"MaxAbsScaler, SGD\", \"run_properties\": \"copy=True\", \"primary_metric\": 0.81392607, \"best_metric\": 0.84567197}, {\"run_id\": \"AutoML_aa0f197a-bf52-486a-ac58-1b41f571364e_42\", \"run_number\": 47, \"metric\": null, \"status\": \"Canceled\", \"run_type\": \"azureml.scriptrun\", \"training_percent\": \"100\", \"start_time\": \"2021-09-24T04:29:21.729584Z\", \"end_time\": \"2021-09-24T04:29:49.84754Z\", \"created_time\": \"2021-09-24T04:29:21.729584Z\", \"created_time_dt\": \"2021-09-24T04:29:21.729584Z\", \"duration\": \"0:00:28\", \"iteration\": \"42\", \"goal\": null, \"run_name\": \"Canceled\", \"run_properties\": null}, {\"run_id\": \"AutoML_aa0f197a-bf52-486a-ac58-1b41f571364e_43\", \"run_number\": 48, \"metric\": null, \"status\": \"Canceled\", \"run_type\": \"azureml.scriptrun\", \"training_percent\": \"100\", \"start_time\": \"2021-09-24T04:29:46.492203Z\", \"end_time\": \"2021-09-24T04:29:49.863Z\", \"created_time\": \"2021-09-24T04:29:46.492203Z\", \"created_time_dt\": \"2021-09-24T04:29:46.492203Z\", \"duration\": \"0:00:03\", \"iteration\": \"43\", \"goal\": \"AUC_weighted_max\", \"run_name\": \"MaxAbsScaler, LogisticRegression\", \"run_properties\": \"copy=True\", \"primary_metric\": 0.8402803, \"best_metric\": 0.84567197}, {\"run_id\": \"AutoML_aa0f197a-bf52-486a-ac58-1b41f571364e_44\", \"run_number\": 49, \"metric\": null, \"status\": \"Completed\", \"run_type\": \"azureml.scriptrun\", \"training_percent\": \"100\", \"start_time\": \"2021-09-24T04:30:01.516425Z\", \"end_time\": \"2021-09-24T04:31:16.445137Z\", \"created_time\": \"2021-09-24T04:29:51.22049Z\", \"created_time_dt\": \"2021-09-24T04:29:51.22049Z\", \"duration\": \"0:01:25\", \"iteration\": \"44\", \"goal\": \"AUC_weighted_max\", \"run_name\": \"VotingEnsemble\", \"run_properties\": \"\\n    estimators=[('26', Pipeline(\\n        memory=None,\\n        steps=[('standardscalerwrapper', StandardScalerWrapper(\\n            copy=True,\\n            with_mean=False,\\n            with_std=False\\n        \", \"primary_metric\": 0.84652946, \"best_metric\": 0.84652946}, {\"run_id\": \"AutoML_aa0f197a-bf52-486a-ac58-1b41f571364e_45\", \"run_number\": 50, \"metric\": null, \"status\": \"Completed\", \"run_type\": \"azureml.scriptrun\", \"training_percent\": \"100\", \"start_time\": \"2021-09-24T04:30:01.247493Z\", \"end_time\": \"2021-09-24T04:31:29.628333Z\", \"created_time\": \"2021-09-24T04:29:51.244773Z\", \"created_time_dt\": \"2021-09-24T04:29:51.244773Z\", \"duration\": \"0:01:38\", \"iteration\": \"45\", \"goal\": \"AUC_weighted_max\", \"run_name\": \"StackEnsemble\", \"run_properties\": \"\\n    base_learners=[('26', Pipeline(\\n        memory=None,\\n        steps=[('standardscalerwrapper', StandardScalerWrapper(\\n            copy=True,\\n            with_mean=False,\\n            with_std=False\\n        \", \"primary_metric\": 0.84637694, \"best_metric\": 0.84652946}], \"children_metrics\": {\"categories\": [0], \"series\": {\"precision_score_micro\": [{\"categories\": [\"0\", \"1\", \"2\", \"3\", \"4\", \"5\", \"6\", \"7\", \"8\", \"9\", \"10\", \"11\", \"12\", \"13\", \"14\", \"15\", \"16\", \"17\", \"18\", \"19\", \"20\", \"21\", \"22\", \"23\", \"24\", \"25\", \"26\", \"27\", \"28\", \"29\", \"30\", \"31\", \"32\", \"33\", \"34\", \"35\", \"36\", \"37\", \"38\", \"39\", \"40\", \"41\", \"43\", \"44\", \"45\"], \"mode\": \"markers\", \"name\": \"precision_score_micro\", \"stepped\": false, \"type\": \"scatter\", \"data\": [0.7853069971818545, 0.7955288602696686, 0.7887118590475521, 0.7928791008032844, 0.7953393945629615, 0.7847375962699096, 0.7459234759303267, 0.7803806378595143, 0.7853069971818545, 0.7245334250129866, 0.790985698475993, 0.7332400643430559, 0.793444486547935, 0.7784882393240465, 0.7843576610646718, 0.7894689690305129, 0.7447894421175992, 0.7275593554652702, 0.792877846063505, 0.7788671707374607, 0.8015864929772214, 0.7906035047391523, 0.7943918150814702, 0.7313466620157645, 0.7896624499045144, 0.7777293727053946, 0.7972343025779883, 0.7851165276833237, 0.793449505507053, 0.794958706513856, 0.7741352960809457, 0.7436534007212244, 0.7818966144611269, 0.7451681225830574, 0.7868209661998199, 0.79553061690536, 0.7309647192268797, 0.7493331058071867, 0.7114680706368307, 0.7945855469034278, 0.7339946648464576, 0.7519901427642921, 0.7449766492927031, 0.7989357297190136, 0.7339946648464576]}, {\"categories\": [\"0\", \"1\", \"2\", \"3\", \"4\", \"5\", \"6\", \"7\", \"8\", \"9\", \"10\", \"11\", \"12\", \"13\", \"14\", \"15\", \"16\", \"17\", \"18\", \"19\", \"20\", \"21\", \"22\", \"23\", \"24\", \"25\", \"26\", \"27\", \"28\", \"29\", \"30\", \"31\", \"32\", \"33\", \"34\", \"35\", \"36\", \"37\", \"38\", \"39\", \"40\", \"41\", \"43\", \"44\", \"45\"], \"mode\": \"lines\", \"name\": \"precision_score_micro_max\", \"stepped\": true, \"type\": \"scatter\", \"data\": [0.7853069971818545, 0.7955288602696686, 0.7955288602696686, 0.7955288602696686, 0.7955288602696686, 0.7955288602696686, 0.7955288602696686, 0.7955288602696686, 0.7955288602696686, 0.7955288602696686, 0.7955288602696686, 0.7955288602696686, 0.7955288602696686, 0.7955288602696686, 0.7955288602696686, 0.7955288602696686, 0.7955288602696686, 0.7955288602696686, 0.7955288602696686, 0.7955288602696686, 0.8015864929772214, 0.8015864929772214, 0.8015864929772214, 0.8015864929772214, 0.8015864929772214, 0.8015864929772214, 0.8015864929772214, 0.8015864929772214, 0.8015864929772214, 0.8015864929772214, 0.8015864929772214, 0.8015864929772214, 0.8015864929772214, 0.8015864929772214, 0.8015864929772214, 0.8015864929772214, 0.8015864929772214, 0.8015864929772214, 0.8015864929772214, 0.8015864929772214, 0.8015864929772214, 0.8015864929772214, 0.8015864929772214, 0.8015864929772214, 0.8015864929772214]}], \"matthews_correlation\": [{\"categories\": [\"0\", \"1\", \"2\", \"3\", \"4\", \"5\", \"6\", \"7\", \"8\", \"9\", \"10\", \"11\", \"12\", \"13\", \"14\", \"15\", \"16\", \"17\", \"18\", \"19\", \"20\", \"21\", \"22\", \"23\", \"24\", \"25\", \"26\", \"27\", \"28\", \"29\", \"30\", \"31\", \"32\", \"33\", \"34\", \"35\", \"36\", \"37\", \"38\", \"39\", \"40\", \"41\", \"43\", \"44\", \"45\"], \"mode\": \"markers\", \"name\": \"matthews_correlation\", \"stepped\": false, \"type\": \"scatter\", \"data\": [0.4193139839571711, 0.44354538746225275, 0.4070349348319822, 0.4188963465180034, 0.4272470874830378, 0.4114189808520115, 0.46604293486903675, 0.40741051774017467, 0.4162128969522583, 0.44918330416392616, 0.41776944179818926, 0.4548855693724231, 0.4391468135496474, 0.34974063612240053, 0.408747151323802, 0.40220969387878985, 0.47214163656081454, 0.4562188203073506, 0.4383762248967972, 0.35150939059038205, 0.46477258251326947, 0.4334938129475647, 0.44438310107863666, 0.4545706832294199, 0.4233334902871001, 0.36468503478458086, 0.4436086795350806, 0.4210862924158939, 0.4322254908084931, 0.44517525149483644, 0.3813026215594683, 0.4691652177325258, 0.41266885407989057, 0.4689318945778353, 0.3932048756885876, 0.43410479772577804, 0.460568380080729, 0.4687255464763532, 0.431662107064641, 0.4277546595864499, 0.0, 0.40383568158038374, 0.4717231944854832, 0.46623511980697874, 0.0]}, {\"categories\": [\"0\", \"1\", \"2\", \"3\", \"4\", \"5\", \"6\", \"7\", \"8\", \"9\", \"10\", \"11\", \"12\", \"13\", \"14\", \"15\", \"16\", \"17\", \"18\", \"19\", \"20\", \"21\", \"22\", \"23\", \"24\", \"25\", \"26\", \"27\", \"28\", \"29\", \"30\", \"31\", \"32\", \"33\", \"34\", \"35\", \"36\", \"37\", \"38\", \"39\", \"40\", \"41\", \"43\", \"44\", \"45\"], \"mode\": \"lines\", \"name\": \"matthews_correlation_max\", \"stepped\": true, \"type\": \"scatter\", \"data\": [0.4193139839571711, 0.44354538746225275, 0.44354538746225275, 0.44354538746225275, 0.44354538746225275, 0.44354538746225275, 0.46604293486903675, 0.46604293486903675, 0.46604293486903675, 0.46604293486903675, 0.46604293486903675, 0.46604293486903675, 0.46604293486903675, 0.46604293486903675, 0.46604293486903675, 0.46604293486903675, 0.47214163656081454, 0.47214163656081454, 0.47214163656081454, 0.47214163656081454, 0.47214163656081454, 0.47214163656081454, 0.47214163656081454, 0.47214163656081454, 0.47214163656081454, 0.47214163656081454, 0.47214163656081454, 0.47214163656081454, 0.47214163656081454, 0.47214163656081454, 0.47214163656081454, 0.47214163656081454, 0.47214163656081454, 0.47214163656081454, 0.47214163656081454, 0.47214163656081454, 0.47214163656081454, 0.47214163656081454, 0.47214163656081454, 0.47214163656081454, 0.47214163656081454, 0.47214163656081454, 0.47214163656081454, 0.47214163656081454, 0.47214163656081454]}], \"recall_score_macro\": [{\"categories\": [\"0\", \"1\", \"2\", \"3\", \"4\", \"5\", \"6\", \"7\", \"8\", \"9\", \"10\", \"11\", \"12\", \"13\", \"14\", \"15\", \"16\", \"17\", \"18\", \"19\", \"20\", \"21\", \"22\", \"23\", \"24\", \"25\", \"26\", \"27\", \"28\", \"29\", \"30\", \"31\", \"32\", \"33\", \"34\", \"35\", \"36\", \"37\", \"38\", \"39\", \"40\", \"41\", \"43\", \"44\", \"45\"], \"mode\": \"markers\", \"name\": \"recall_score_macro\", \"stepped\": false, \"type\": \"scatter\", \"data\": [0.6953274790256915, 0.7036295359235668, 0.6744317692044238, 0.6793261179216631, 0.6843613356772851, 0.6876620225148596, 0.7587539730798926, 0.6900830725229018, 0.6920572364179883, 0.752531636109974, 0.6826392258923454, 0.7545700334456498, 0.7021882820063042, 0.6278198262415547, 0.6852300291231447, 0.6655915267083069, 0.7632911576493656, 0.7559358497469365, 0.7030606706099002, 0.6291933060230049, 0.7170873683178939, 0.701054641050982, 0.7064703750188567, 0.7546638885132654, 0.6919234301305189, 0.6497403848388602, 0.7006253428943958, 0.6973811553955086, 0.6955668975339652, 0.706287181724864, 0.6733754127235975, 0.7615275600183545, 0.6929480192132312, 0.7609702720260524, 0.6623527618995583, 0.692783762594429, 0.7577914359488813, 0.7597102498982784, 0.7432119162774001, 0.6874418754916916, 0.5, 0.7036405472909202, 0.7629371548614162, 0.7230086568749374, 0.5]}, {\"categories\": [\"0\", \"1\", \"2\", \"3\", \"4\", \"5\", \"6\", \"7\", \"8\", \"9\", \"10\", \"11\", \"12\", \"13\", \"14\", \"15\", \"16\", \"17\", \"18\", \"19\", \"20\", \"21\", \"22\", \"23\", \"24\", \"25\", \"26\", \"27\", \"28\", \"29\", \"30\", \"31\", \"32\", \"33\", \"34\", \"35\", \"36\", \"37\", \"38\", \"39\", \"40\", \"41\", \"43\", \"44\", \"45\"], \"mode\": \"lines\", \"name\": \"recall_score_macro_max\", \"stepped\": true, \"type\": \"scatter\", \"data\": [0.6953274790256915, 0.7036295359235668, 0.7036295359235668, 0.7036295359235668, 0.7036295359235668, 0.7036295359235668, 0.7587539730798926, 0.7587539730798926, 0.7587539730798926, 0.7587539730798926, 0.7587539730798926, 0.7587539730798926, 0.7587539730798926, 0.7587539730798926, 0.7587539730798926, 0.7587539730798926, 0.7632911576493656, 0.7632911576493656, 0.7632911576493656, 0.7632911576493656, 0.7632911576493656, 0.7632911576493656, 0.7632911576493656, 0.7632911576493656, 0.7632911576493656, 0.7632911576493656, 0.7632911576493656, 0.7632911576493656, 0.7632911576493656, 0.7632911576493656, 0.7632911576493656, 0.7632911576493656, 0.7632911576493656, 0.7632911576493656, 0.7632911576493656, 0.7632911576493656, 0.7632911576493656, 0.7632911576493656, 0.7632911576493656, 0.7632911576493656, 0.7632911576493656, 0.7632911576493656, 0.7632911576493656, 0.7632911576493656, 0.7632911576493656]}], \"balanced_accuracy\": [{\"categories\": [\"0\", \"1\", \"2\", \"3\", \"4\", \"5\", \"6\", \"7\", \"8\", \"9\", \"10\", \"11\", \"12\", \"13\", \"14\", \"15\", \"16\", \"17\", \"18\", \"19\", \"20\", \"21\", \"22\", \"23\", \"24\", \"25\", \"26\", \"27\", \"28\", \"29\", \"30\", \"31\", \"32\", \"33\", \"34\", \"35\", \"36\", \"37\", \"38\", \"39\", \"40\", \"41\", \"43\", \"44\", \"45\"], \"mode\": \"markers\", \"name\": \"balanced_accuracy\", \"stepped\": false, \"type\": \"scatter\", \"data\": [0.6953274790256915, 0.7036295359235668, 0.6744317692044238, 0.6793261179216631, 0.6843613356772851, 0.6876620225148596, 0.7587539730798926, 0.6900830725229018, 0.6920572364179883, 0.752531636109974, 0.6826392258923454, 0.7545700334456498, 0.7021882820063042, 0.6278198262415547, 0.6852300291231447, 0.6655915267083069, 0.7632911576493656, 0.7559358497469365, 0.7030606706099002, 0.6291933060230049, 0.7170873683178939, 0.701054641050982, 0.7064703750188567, 0.7546638885132654, 0.6919234301305189, 0.6497403848388602, 0.7006253428943958, 0.6973811553955086, 0.6955668975339652, 0.706287181724864, 0.6733754127235975, 0.7615275600183545, 0.6929480192132312, 0.7609702720260524, 0.6623527618995583, 0.692783762594429, 0.7577914359488813, 0.7597102498982784, 0.7432119162774001, 0.6874418754916916, 0.5, 0.7036405472909202, 0.7629371548614162, 0.7230086568749374, 0.5]}, {\"categories\": [\"0\", \"1\", \"2\", \"3\", \"4\", \"5\", \"6\", \"7\", \"8\", \"9\", \"10\", \"11\", \"12\", \"13\", \"14\", \"15\", \"16\", \"17\", \"18\", \"19\", \"20\", \"21\", \"22\", \"23\", \"24\", \"25\", \"26\", \"27\", \"28\", \"29\", \"30\", \"31\", \"32\", \"33\", \"34\", \"35\", \"36\", \"37\", \"38\", \"39\", \"40\", \"41\", \"43\", \"44\", \"45\"], \"mode\": \"lines\", \"name\": \"balanced_accuracy_max\", \"stepped\": true, \"type\": \"scatter\", \"data\": [0.6953274790256915, 0.7036295359235668, 0.7036295359235668, 0.7036295359235668, 0.7036295359235668, 0.7036295359235668, 0.7587539730798926, 0.7587539730798926, 0.7587539730798926, 0.7587539730798926, 0.7587539730798926, 0.7587539730798926, 0.7587539730798926, 0.7587539730798926, 0.7587539730798926, 0.7587539730798926, 0.7632911576493656, 0.7632911576493656, 0.7632911576493656, 0.7632911576493656, 0.7632911576493656, 0.7632911576493656, 0.7632911576493656, 0.7632911576493656, 0.7632911576493656, 0.7632911576493656, 0.7632911576493656, 0.7632911576493656, 0.7632911576493656, 0.7632911576493656, 0.7632911576493656, 0.7632911576493656, 0.7632911576493656, 0.7632911576493656, 0.7632911576493656, 0.7632911576493656, 0.7632911576493656, 0.7632911576493656, 0.7632911576493656, 0.7632911576493656, 0.7632911576493656, 0.7632911576493656, 0.7632911576493656, 0.7632911576493656, 0.7632911576493656]}], \"f1_score_macro\": [{\"categories\": [\"0\", \"1\", \"2\", \"3\", \"4\", \"5\", \"6\", \"7\", \"8\", \"9\", \"10\", \"11\", \"12\", \"13\", \"14\", \"15\", \"16\", \"17\", \"18\", \"19\", \"20\", \"21\", \"22\", \"23\", \"24\", \"25\", \"26\", \"27\", \"28\", \"29\", \"30\", \"31\", \"32\", \"33\", \"34\", \"35\", \"36\", \"37\", \"38\", \"39\", \"40\", \"41\", \"43\", \"44\", \"45\"], \"mode\": \"markers\", \"name\": \"f1_score_macro\", \"stepped\": false, \"type\": \"scatter\", \"data\": [0.7061612956770909, 0.717212571777531, 0.6917466702904893, 0.6975460388409581, 0.7026467341601824, 0.7006742736424896, 0.715253286740376, 0.7003951553579018, 0.7040824693666884, 0.6985717046605241, 0.6994011581966604, 0.7051551930828568, 0.7151915494514346, 0.6426478333777171, 0.6986509982634181, 0.6844871399200153, 0.7159911631618823, 0.7016029024195485, 0.7153247650297978, 0.643954492754528, 0.7292812681602278, 0.7131329643483343, 0.7186909999120072, 0.7040027462590459, 0.706080777788331, 0.6660040931107332, 0.716005424873001, 0.7079165045296512, 0.7103691072997317, 0.7186336466752737, 0.6853042297045914, 0.7146604010084447, 0.7033003004327398, 0.7155353383406868, 0.6803851026023714, 0.7094157089030111, 0.7046654544381997, 0.7178882638561441, 0.6866959193941782, 0.704867205802096, 0.42326070340936184, 0.6847194501147645, 0.7160023484410872, 0.7315596713491612, 0.42326070340936184]}, {\"categories\": [\"0\", \"1\", \"2\", \"3\", \"4\", \"5\", \"6\", \"7\", \"8\", \"9\", \"10\", \"11\", \"12\", \"13\", \"14\", \"15\", \"16\", \"17\", \"18\", \"19\", \"20\", \"21\", \"22\", \"23\", \"24\", \"25\", \"26\", \"27\", \"28\", \"29\", \"30\", \"31\", \"32\", \"33\", \"34\", \"35\", \"36\", \"37\", \"38\", \"39\", \"40\", \"41\", \"43\", \"44\", \"45\"], \"mode\": \"lines\", \"name\": \"f1_score_macro_max\", \"stepped\": true, \"type\": \"scatter\", \"data\": [0.7061612956770909, 0.717212571777531, 0.717212571777531, 0.717212571777531, 0.717212571777531, 0.717212571777531, 0.717212571777531, 0.717212571777531, 0.717212571777531, 0.717212571777531, 0.717212571777531, 0.717212571777531, 0.717212571777531, 0.717212571777531, 0.717212571777531, 0.717212571777531, 0.717212571777531, 0.717212571777531, 0.717212571777531, 0.717212571777531, 0.7292812681602278, 0.7292812681602278, 0.7292812681602278, 0.7292812681602278, 0.7292812681602278, 0.7292812681602278, 0.7292812681602278, 0.7292812681602278, 0.7292812681602278, 0.7292812681602278, 0.7292812681602278, 0.7292812681602278, 0.7292812681602278, 0.7292812681602278, 0.7292812681602278, 0.7292812681602278, 0.7292812681602278, 0.7292812681602278, 0.7292812681602278, 0.7292812681602278, 0.7292812681602278, 0.7292812681602278, 0.7292812681602278, 0.7315596713491612, 0.7315596713491612]}], \"f1_score_micro\": [{\"categories\": [\"0\", \"1\", \"2\", \"3\", \"4\", \"5\", \"6\", \"7\", \"8\", \"9\", \"10\", \"11\", \"12\", \"13\", \"14\", \"15\", \"16\", \"17\", \"18\", \"19\", \"20\", \"21\", \"22\", \"23\", \"24\", \"25\", \"26\", \"27\", \"28\", \"29\", \"30\", \"31\", \"32\", \"33\", \"34\", \"35\", \"36\", \"37\", \"38\", \"39\", \"40\", \"41\", \"43\", \"44\", \"45\"], \"mode\": \"markers\", \"name\": \"f1_score_micro\", \"stepped\": false, \"type\": \"scatter\", \"data\": [0.7853069971818546, 0.7955288602696686, 0.7887118590475523, 0.7928791008032844, 0.7953393945629614, 0.7847375962699095, 0.7459234759303267, 0.7803806378595143, 0.7853069971818545, 0.7245334250129866, 0.790985698475993, 0.7332400643430559, 0.793444486547935, 0.7784882393240465, 0.7843576610646718, 0.7894689690305129, 0.7447894421175993, 0.7275593554652701, 0.7928778460635048, 0.7788671707374607, 0.8015864929772214, 0.7906035047391521, 0.7943918150814702, 0.7313466620157645, 0.7896624499045143, 0.7777293727053947, 0.7972343025779883, 0.7851165276833237, 0.793449505507053, 0.794958706513856, 0.7741352960809458, 0.7436534007212245, 0.7818966144611269, 0.7451681225830574, 0.7868209661998199, 0.79553061690536, 0.7309647192268797, 0.7493331058071867, 0.7114680706368307, 0.7945855469034279, 0.7339946648464576, 0.7519901427642922, 0.7449766492927032, 0.7989357297190135, 0.7339946648464576]}, {\"categories\": [\"0\", \"1\", \"2\", \"3\", \"4\", \"5\", \"6\", \"7\", \"8\", \"9\", \"10\", \"11\", \"12\", \"13\", \"14\", \"15\", \"16\", \"17\", \"18\", \"19\", \"20\", \"21\", \"22\", \"23\", \"24\", \"25\", \"26\", \"27\", \"28\", \"29\", \"30\", \"31\", \"32\", \"33\", \"34\", \"35\", \"36\", \"37\", \"38\", \"39\", \"40\", \"41\", \"43\", \"44\", \"45\"], \"mode\": \"lines\", \"name\": \"f1_score_micro_max\", \"stepped\": true, \"type\": \"scatter\", \"data\": [0.7853069971818546, 0.7955288602696686, 0.7955288602696686, 0.7955288602696686, 0.7955288602696686, 0.7955288602696686, 0.7955288602696686, 0.7955288602696686, 0.7955288602696686, 0.7955288602696686, 0.7955288602696686, 0.7955288602696686, 0.7955288602696686, 0.7955288602696686, 0.7955288602696686, 0.7955288602696686, 0.7955288602696686, 0.7955288602696686, 0.7955288602696686, 0.7955288602696686, 0.8015864929772214, 0.8015864929772214, 0.8015864929772214, 0.8015864929772214, 0.8015864929772214, 0.8015864929772214, 0.8015864929772214, 0.8015864929772214, 0.8015864929772214, 0.8015864929772214, 0.8015864929772214, 0.8015864929772214, 0.8015864929772214, 0.8015864929772214, 0.8015864929772214, 0.8015864929772214, 0.8015864929772214, 0.8015864929772214, 0.8015864929772214, 0.8015864929772214, 0.8015864929772214, 0.8015864929772214, 0.8015864929772214, 0.8015864929772214, 0.8015864929772214]}], \"accuracy\": [{\"categories\": [\"0\", \"1\", \"2\", \"3\", \"4\", \"5\", \"6\", \"7\", \"8\", \"9\", \"10\", \"11\", \"12\", \"13\", \"14\", \"15\", \"16\", \"17\", \"18\", \"19\", \"20\", \"21\", \"22\", \"23\", \"24\", \"25\", \"26\", \"27\", \"28\", \"29\", \"30\", \"31\", \"32\", \"33\", \"34\", \"35\", \"36\", \"37\", \"38\", \"39\", \"40\", \"41\", \"43\", \"44\", \"45\"], \"mode\": \"markers\", \"name\": \"accuracy\", \"stepped\": false, \"type\": \"scatter\", \"data\": [0.7853069971818545, 0.7955288602696686, 0.7887118590475521, 0.7928791008032844, 0.7953393945629615, 0.7847375962699096, 0.7459234759303267, 0.7803806378595143, 0.7853069971818545, 0.7245334250129866, 0.790985698475993, 0.7332400643430559, 0.793444486547935, 0.7784882393240465, 0.7843576610646718, 0.7894689690305129, 0.7447894421175992, 0.7275593554652702, 0.792877846063505, 0.7788671707374607, 0.8015864929772214, 0.7906035047391523, 0.7943918150814702, 0.7313466620157645, 0.7896624499045144, 0.7777293727053946, 0.7972343025779883, 0.7851165276833237, 0.793449505507053, 0.794958706513856, 0.7741352960809457, 0.7436534007212244, 0.7818966144611269, 0.7451681225830574, 0.7868209661998199, 0.79553061690536, 0.7309647192268797, 0.7493331058071867, 0.7114680706368307, 0.7945855469034278, 0.7339946648464576, 0.7519901427642921, 0.7449766492927031, 0.7989357297190136, 0.7339946648464576]}, {\"categories\": [\"0\", \"1\", \"2\", \"3\", \"4\", \"5\", \"6\", \"7\", \"8\", \"9\", \"10\", \"11\", \"12\", \"13\", \"14\", \"15\", \"16\", \"17\", \"18\", \"19\", \"20\", \"21\", \"22\", \"23\", \"24\", \"25\", \"26\", \"27\", \"28\", \"29\", \"30\", \"31\", \"32\", \"33\", \"34\", \"35\", \"36\", \"37\", \"38\", \"39\", \"40\", \"41\", \"43\", \"44\", \"45\"], \"mode\": \"lines\", \"name\": \"accuracy_max\", \"stepped\": true, \"type\": \"scatter\", \"data\": [0.7853069971818545, 0.7955288602696686, 0.7955288602696686, 0.7955288602696686, 0.7955288602696686, 0.7955288602696686, 0.7955288602696686, 0.7955288602696686, 0.7955288602696686, 0.7955288602696686, 0.7955288602696686, 0.7955288602696686, 0.7955288602696686, 0.7955288602696686, 0.7955288602696686, 0.7955288602696686, 0.7955288602696686, 0.7955288602696686, 0.7955288602696686, 0.7955288602696686, 0.8015864929772214, 0.8015864929772214, 0.8015864929772214, 0.8015864929772214, 0.8015864929772214, 0.8015864929772214, 0.8015864929772214, 0.8015864929772214, 0.8015864929772214, 0.8015864929772214, 0.8015864929772214, 0.8015864929772214, 0.8015864929772214, 0.8015864929772214, 0.8015864929772214, 0.8015864929772214, 0.8015864929772214, 0.8015864929772214, 0.8015864929772214, 0.8015864929772214, 0.8015864929772214, 0.8015864929772214, 0.8015864929772214, 0.8015864929772214, 0.8015864929772214]}], \"f1_score_weighted\": [{\"categories\": [\"0\", \"1\", \"2\", \"3\", \"4\", \"5\", \"6\", \"7\", \"8\", \"9\", \"10\", \"11\", \"12\", \"13\", \"14\", \"15\", \"16\", \"17\", \"18\", \"19\", \"20\", \"21\", \"22\", \"23\", \"24\", \"25\", \"26\", \"27\", \"28\", \"29\", \"30\", \"31\", \"32\", \"33\", \"34\", \"35\", \"36\", \"37\", \"38\", \"39\", \"40\", \"41\", \"43\", \"44\", \"45\"], \"mode\": \"markers\", \"name\": \"f1_score_weighted\", \"stepped\": false, \"type\": \"scatter\", \"data\": [0.7775940847913901, 0.786964134123659, 0.7726803128212586, 0.7770584794361332, 0.7804055516923951, 0.774956997240884, 0.7589200824724254, 0.7728058145483196, 0.7767265674099084, 0.7400188996040934, 0.777054201653243, 0.7477348450800491, 0.7850595619757819, 0.745670179405711, 0.7738949883452891, 0.7696544274711768, 0.7583529680371532, 0.7425799479735706, 0.7848860297361606, 0.7463583298087573, 0.7948483826450773, 0.7828975286269395, 0.7870806334528745, 0.7460832719197426, 0.7796112329681364, 0.7563428731360915, 0.7872521146806912, 0.7783116820466158, 0.7831778188954439, 0.7872557592673829, 0.7636275198410951, 0.7572747936646456, 0.774820594692681, 0.7585564852050612, 0.76673438125475, 0.7835818953090357, 0.7455975983873989, 0.7620139831244026, 0.7278515944588984, 0.7812036648647432, 0.6214679228741914, 0.7502421184777627, 0.7584412916178239, 0.7946275258823631, 0.6214679228741914]}, {\"categories\": [\"0\", \"1\", \"2\", \"3\", \"4\", \"5\", \"6\", \"7\", \"8\", \"9\", \"10\", \"11\", \"12\", \"13\", \"14\", \"15\", \"16\", \"17\", \"18\", \"19\", \"20\", \"21\", \"22\", \"23\", \"24\", \"25\", \"26\", \"27\", \"28\", \"29\", \"30\", \"31\", \"32\", \"33\", \"34\", \"35\", \"36\", \"37\", \"38\", \"39\", \"40\", \"41\", \"43\", \"44\", \"45\"], \"mode\": \"lines\", \"name\": \"f1_score_weighted_max\", \"stepped\": true, \"type\": \"scatter\", \"data\": [0.7775940847913901, 0.786964134123659, 0.786964134123659, 0.786964134123659, 0.786964134123659, 0.786964134123659, 0.786964134123659, 0.786964134123659, 0.786964134123659, 0.786964134123659, 0.786964134123659, 0.786964134123659, 0.786964134123659, 0.786964134123659, 0.786964134123659, 0.786964134123659, 0.786964134123659, 0.786964134123659, 0.786964134123659, 0.786964134123659, 0.7948483826450773, 0.7948483826450773, 0.7948483826450773, 0.7948483826450773, 0.7948483826450773, 0.7948483826450773, 0.7948483826450773, 0.7948483826450773, 0.7948483826450773, 0.7948483826450773, 0.7948483826450773, 0.7948483826450773, 0.7948483826450773, 0.7948483826450773, 0.7948483826450773, 0.7948483826450773, 0.7948483826450773, 0.7948483826450773, 0.7948483826450773, 0.7948483826450773, 0.7948483826450773, 0.7948483826450773, 0.7948483826450773, 0.7948483826450773, 0.7948483826450773]}], \"norm_macro_recall\": [{\"categories\": [\"0\", \"1\", \"2\", \"3\", \"4\", \"5\", \"6\", \"7\", \"8\", \"9\", \"10\", \"11\", \"12\", \"13\", \"14\", \"15\", \"16\", \"17\", \"18\", \"19\", \"20\", \"21\", \"22\", \"23\", \"24\", \"25\", \"26\", \"27\", \"28\", \"29\", \"30\", \"31\", \"32\", \"33\", \"34\", \"35\", \"36\", \"37\", \"38\", \"39\", \"40\", \"41\", \"43\", \"44\", \"45\"], \"mode\": \"markers\", \"name\": \"norm_macro_recall\", \"stepped\": false, \"type\": \"scatter\", \"data\": [0.3906549580513826, 0.4072590718471334, 0.3488635384088479, 0.35865223584332623, 0.36872267135457015, 0.37532404502971906, 0.517507946159785, 0.38016614504580337, 0.3841144728359766, 0.5050632722199482, 0.36527845178469065, 0.5091400668912994, 0.40437656401260863, 0.2556396524831093, 0.37046005824628925, 0.33118305341661386, 0.5265823152987312, 0.511871699493873, 0.4061213412198005, 0.2583866120460099, 0.43417473663578793, 0.402109282101964, 0.41294075003771347, 0.5093277770265306, 0.3838468602610379, 0.2994807696777203, 0.40125068578879153, 0.3947623107910169, 0.39113379506793045, 0.4125743634497282, 0.3467508254471947, 0.5230551200367092, 0.38589603842646253, 0.5219405440521048, 0.3247055237991165, 0.38556752518885784, 0.5155828718977624, 0.519420499796557, 0.4864238325548002, 0.37488375098338317, 0.0, 0.4072810945818404, 0.5258743097228324, 0.4460173137498747, 0.0]}, {\"categories\": [\"0\", \"1\", \"2\", \"3\", \"4\", \"5\", \"6\", \"7\", \"8\", \"9\", \"10\", \"11\", \"12\", \"13\", \"14\", \"15\", \"16\", \"17\", \"18\", \"19\", \"20\", \"21\", \"22\", \"23\", \"24\", \"25\", \"26\", \"27\", \"28\", \"29\", \"30\", \"31\", \"32\", \"33\", \"34\", \"35\", \"36\", \"37\", \"38\", \"39\", \"40\", \"41\", \"43\", \"44\", \"45\"], \"mode\": \"lines\", \"name\": \"norm_macro_recall_max\", \"stepped\": true, \"type\": \"scatter\", \"data\": [0.3906549580513826, 0.4072590718471334, 0.4072590718471334, 0.4072590718471334, 0.4072590718471334, 0.4072590718471334, 0.517507946159785, 0.517507946159785, 0.517507946159785, 0.517507946159785, 0.517507946159785, 0.517507946159785, 0.517507946159785, 0.517507946159785, 0.517507946159785, 0.517507946159785, 0.5265823152987312, 0.5265823152987312, 0.5265823152987312, 0.5265823152987312, 0.5265823152987312, 0.5265823152987312, 0.5265823152987312, 0.5265823152987312, 0.5265823152987312, 0.5265823152987312, 0.5265823152987312, 0.5265823152987312, 0.5265823152987312, 0.5265823152987312, 0.5265823152987312, 0.5265823152987312, 0.5265823152987312, 0.5265823152987312, 0.5265823152987312, 0.5265823152987312, 0.5265823152987312, 0.5265823152987312, 0.5265823152987312, 0.5265823152987312, 0.5265823152987312, 0.5265823152987312, 0.5265823152987312, 0.5265823152987312, 0.5265823152987312]}], \"f1_score_binary\": [{\"categories\": [\"0\", \"1\", \"2\", \"3\", \"4\", \"5\", \"6\", \"7\", \"8\", \"9\", \"10\", \"11\", \"12\", \"13\", \"14\", \"15\", \"16\", \"17\", \"18\", \"19\", \"20\", \"21\", \"22\", \"23\", \"24\", \"25\", \"26\", \"27\", \"28\", \"29\", \"30\", \"31\", \"32\", \"33\", \"34\", \"35\", \"36\", \"37\", \"38\", \"39\", \"40\", \"41\", \"43\", \"44\", \"45\"], \"mode\": \"markers\", \"name\": \"f1_score_binary\", \"stepped\": false, \"type\": \"scatter\", \"data\": [0.5538065538128241, 0.5685673478539965, 0.5190394836389657, 0.52778925508169, 0.5367542006646177, 0.5421952198007037, 0.6221670563229579, 0.5456765013228263, 0.5491848163241222, 0.6103487883433782, 0.5335533470112794, 0.6145168927433791, 0.5660086312382396, 0.4223875284847395, 0.5380672620439341, 0.5025944255419657, 0.6258414804858354, 0.6144744478772656, 0.5668619433651707, 0.42483768298466584, 0.5895300906724412, 0.5641980933630313, 0.5728622921747885, 0.6145226691308928, 0.5494601208063243, 0.472944896044844, 0.5642558566111188, 0.5579189193707695, 0.5554274930216088, 0.572300259517415, 0.5182785829930283, 0.6240100338427156, 0.5507630746288656, 0.6240187412060662, 0.4960523214579094, 0.5513386448472042, 0.617681250650104, 0.6240089437644061, 0.5991083608962303, 0.5422707830378479, 0.0, 0.5433398556247313, 0.6256834720732065, 0.5972932597014593, 0.0]}, {\"categories\": [\"0\", \"1\", \"2\", \"3\", \"4\", \"5\", \"6\", \"7\", \"8\", \"9\", \"10\", \"11\", \"12\", \"13\", \"14\", \"15\", \"16\", \"17\", \"18\", \"19\", \"20\", \"21\", \"22\", \"23\", \"24\", \"25\", \"26\", \"27\", \"28\", \"29\", \"30\", \"31\", \"32\", \"33\", \"34\", \"35\", \"36\", \"37\", \"38\", \"39\", \"40\", \"41\", \"43\", \"44\", \"45\"], \"mode\": \"lines\", \"name\": \"f1_score_binary_max\", \"stepped\": true, \"type\": \"scatter\", \"data\": [0.5538065538128241, 0.5685673478539965, 0.5685673478539965, 0.5685673478539965, 0.5685673478539965, 0.5685673478539965, 0.6221670563229579, 0.6221670563229579, 0.6221670563229579, 0.6221670563229579, 0.6221670563229579, 0.6221670563229579, 0.6221670563229579, 0.6221670563229579, 0.6221670563229579, 0.6221670563229579, 0.6258414804858354, 0.6258414804858354, 0.6258414804858354, 0.6258414804858354, 0.6258414804858354, 0.6258414804858354, 0.6258414804858354, 0.6258414804858354, 0.6258414804858354, 0.6258414804858354, 0.6258414804858354, 0.6258414804858354, 0.6258414804858354, 0.6258414804858354, 0.6258414804858354, 0.6258414804858354, 0.6258414804858354, 0.6258414804858354, 0.6258414804858354, 0.6258414804858354, 0.6258414804858354, 0.6258414804858354, 0.6258414804858354, 0.6258414804858354, 0.6258414804858354, 0.6258414804858354, 0.6258414804858354, 0.6258414804858354, 0.6258414804858354]}], \"precision_score_binary\": [{\"categories\": [\"0\", \"1\", \"2\", \"3\", \"4\", \"5\", \"6\", \"7\", \"8\", \"9\", \"10\", \"11\", \"12\", \"13\", \"14\", \"15\", \"16\", \"17\", \"18\", \"19\", \"20\", \"21\", \"22\", \"23\", \"24\", \"25\", \"26\", \"27\", \"28\", \"29\", \"30\", \"31\", \"32\", \"33\", \"34\", \"35\", \"36\", \"37\", \"38\", \"39\", \"40\", \"41\", \"43\", \"44\", \"45\"], \"mode\": \"markers\", \"name\": \"precision_score_binary\", \"stepped\": false, \"type\": \"scatter\", \"data\": [0.6192192875242909, 0.6490149418889279, 0.6592958130834007, 0.6711307797886038, 0.674101245478577, 0.6253712870437711, 0.5164016430359942, 0.6084377587666524, 0.6223142889241865, 0.4893995901861989, 0.6571993417568499, 0.4995672555727059, 0.6435673808279336, 0.6886528370864251, 0.6270174989765602, 0.678529349010886, 0.5136434205622086, 0.49369545493282224, 0.6388849300897566, 0.6881414625944754, 0.6553839313014469, 0.6339388150341667, 0.641878241135749, 0.49755301187654777, 0.6393667283791956, 0.6416288075306257, 0.6587452240932068, 0.6164697910881305, 0.6483141567268224, 0.6444526717683116, 0.6009212079075098, 0.5124312746811143, 0.6112861080713462, 0.5145628283752741, 0.6675784451909693, 0.6620538756889622, 0.4984063696474462, 0.520145532362194, 0.4757517814075873, 0.6645759570871247, 0.0, 0.5591192181302388, 0.5139860592417598, 0.6399044453652987, 0.0]}, {\"categories\": [\"0\", \"1\", \"2\", \"3\", \"4\", \"5\", \"6\", \"7\", \"8\", \"9\", \"10\", \"11\", \"12\", \"13\", \"14\", \"15\", \"16\", \"17\", \"18\", \"19\", \"20\", \"21\", \"22\", \"23\", \"24\", \"25\", \"26\", \"27\", \"28\", \"29\", \"30\", \"31\", \"32\", \"33\", \"34\", \"35\", \"36\", \"37\", \"38\", \"39\", \"40\", \"41\", \"43\", \"44\", \"45\"], \"mode\": \"lines\", \"name\": \"precision_score_binary_max\", \"stepped\": true, \"type\": \"scatter\", \"data\": [0.6192192875242909, 0.6490149418889279, 0.6592958130834007, 0.6711307797886038, 0.674101245478577, 0.674101245478577, 0.674101245478577, 0.674101245478577, 0.674101245478577, 0.674101245478577, 0.674101245478577, 0.674101245478577, 0.674101245478577, 0.6886528370864251, 0.6886528370864251, 0.6886528370864251, 0.6886528370864251, 0.6886528370864251, 0.6886528370864251, 0.6886528370864251, 0.6886528370864251, 0.6886528370864251, 0.6886528370864251, 0.6886528370864251, 0.6886528370864251, 0.6886528370864251, 0.6886528370864251, 0.6886528370864251, 0.6886528370864251, 0.6886528370864251, 0.6886528370864251, 0.6886528370864251, 0.6886528370864251, 0.6886528370864251, 0.6886528370864251, 0.6886528370864251, 0.6886528370864251, 0.6886528370864251, 0.6886528370864251, 0.6886528370864251, 0.6886528370864251, 0.6886528370864251, 0.6886528370864251, 0.6886528370864251, 0.6886528370864251]}], \"average_precision_score_weighted\": [{\"categories\": [\"0\", \"1\", \"2\", \"3\", \"4\", \"5\", \"6\", \"7\", \"8\", \"9\", \"10\", \"11\", \"12\", \"13\", \"14\", \"15\", \"16\", \"17\", \"18\", \"19\", \"20\", \"21\", \"22\", \"23\", \"24\", \"25\", \"26\", \"27\", \"28\", \"29\", \"30\", \"31\", \"32\", \"33\", \"34\", \"35\", \"36\", \"37\", \"38\", \"39\", \"40\", \"41\", \"43\", \"44\", \"45\"], \"mode\": \"markers\", \"name\": \"average_precision_score_weighted\", \"stepped\": false, \"type\": \"scatter\", \"data\": [0.8455567506686348, 0.8597317112062658, 0.8462044850570797, 0.8559962253012844, 0.8594866771144386, 0.845776382967552, 0.8547262316787891, 0.8405841699968607, 0.8434023425084327, 0.8463526487404628, 0.8541278870355615, 0.8524457903518161, 0.8550808045724121, 0.8434272897854446, 0.8417733865599327, 0.855719878507702, 0.8574831578205219, 0.8541733974690968, 0.8480566702796093, 0.8461562143615756, 0.8581574084216895, 0.848212760846721, 0.855266006903694, 0.8505010539386026, 0.8509141153085296, 0.833904498128632, 0.8632274305955562, 0.8487347261194518, 0.8616167251370186, 0.8612739564572699, 0.8348851670691276, 0.858352906939216, 0.8404014808389663, 0.8586323788822734, 0.849622214235669, 0.8557986190296895, 0.8547036995967039, 0.8575252357627969, 0.8374233212428611, 0.8569102629216412, 0.8238374815085713, 0.8301856941853473, 0.8568675509649554, 0.8635094649020816, 0.8631600999810868]}, {\"categories\": [\"0\", \"1\", \"2\", \"3\", \"4\", \"5\", \"6\", \"7\", \"8\", \"9\", \"10\", \"11\", \"12\", \"13\", \"14\", \"15\", \"16\", \"17\", \"18\", \"19\", \"20\", \"21\", \"22\", \"23\", \"24\", \"25\", \"26\", \"27\", \"28\", \"29\", \"30\", \"31\", \"32\", \"33\", \"34\", \"35\", \"36\", \"37\", \"38\", \"39\", \"40\", \"41\", \"43\", \"44\", \"45\"], \"mode\": \"lines\", \"name\": \"average_precision_score_weighted_max\", \"stepped\": true, \"type\": \"scatter\", \"data\": [0.8455567506686348, 0.8597317112062658, 0.8597317112062658, 0.8597317112062658, 0.8597317112062658, 0.8597317112062658, 0.8597317112062658, 0.8597317112062658, 0.8597317112062658, 0.8597317112062658, 0.8597317112062658, 0.8597317112062658, 0.8597317112062658, 0.8597317112062658, 0.8597317112062658, 0.8597317112062658, 0.8597317112062658, 0.8597317112062658, 0.8597317112062658, 0.8597317112062658, 0.8597317112062658, 0.8597317112062658, 0.8597317112062658, 0.8597317112062658, 0.8597317112062658, 0.8597317112062658, 0.8632274305955562, 0.8632274305955562, 0.8632274305955562, 0.8632274305955562, 0.8632274305955562, 0.8632274305955562, 0.8632274305955562, 0.8632274305955562, 0.8632274305955562, 0.8632274305955562, 0.8632274305955562, 0.8632274305955562, 0.8632274305955562, 0.8632274305955562, 0.8632274305955562, 0.8632274305955562, 0.8632274305955562, 0.8635094649020816, 0.8635094649020816]}], \"log_loss\": [{\"categories\": [\"0\", \"1\", \"2\", \"3\", \"4\", \"5\", \"6\", \"7\", \"8\", \"9\", \"10\", \"11\", \"12\", \"13\", \"14\", \"15\", \"16\", \"17\", \"18\", \"19\", \"20\", \"21\", \"22\", \"23\", \"24\", \"25\", \"26\", \"27\", \"28\", \"29\", \"30\", \"31\", \"32\", \"33\", \"34\", \"35\", \"36\", \"37\", \"38\", \"39\", \"40\", \"41\", \"43\", \"44\", \"45\"], \"mode\": \"markers\", \"name\": \"log_loss\", \"stepped\": false, \"type\": \"scatter\", \"data\": [0.44968389480872284, 0.41971173326089317, 0.4360020747762597, 0.42778525404590445, 0.4281722265558542, 0.4857156643376554, 0.4908433399274174, 0.4874770573892852, 0.488712429833514, 0.5328656884121434, 0.4333475232373956, 0.5066057544517408, 0.42963709709222553, 0.45024319038201505, 0.4817557046135397, 0.44301443441948934, 0.49601177373920263, 0.5016664707613799, 0.486008476558528, 0.4483868855742332, 0.4217315212352606, 0.4860048663283018, 0.42732300298692627, 0.5113520132575818, 0.48504239893940876, 0.503444212708959, 0.41868012435253465, 0.4445897289588559, 0.41846057893513905, 0.41992993082784225, 0.47154874183947426, 0.4953922852173709, 0.4672399136551957, 0.495706157110682, 0.44021190118126097, 0.42756003853837227, 0.5219340644883409, 0.4973913050295753, 0.5478961410108785, 0.4282641391298168, 0.5055574617856538, 1.0105401170450636, 0.4975373735592289, 0.4190715109528239, 0.5393293127548933]}, {\"categories\": [\"0\", \"1\", \"2\", \"3\", \"4\", \"5\", \"6\", \"7\", \"8\", \"9\", \"10\", \"11\", \"12\", \"13\", \"14\", \"15\", \"16\", \"17\", \"18\", \"19\", \"20\", \"21\", \"22\", \"23\", \"24\", \"25\", \"26\", \"27\", \"28\", \"29\", \"30\", \"31\", \"32\", \"33\", \"34\", \"35\", \"36\", \"37\", \"38\", \"39\", \"40\", \"41\", \"43\", \"44\", \"45\"], \"mode\": \"lines\", \"name\": \"log_loss_min\", \"stepped\": true, \"type\": \"scatter\", \"data\": [0.44968389480872284, 0.41971173326089317, 0.41971173326089317, 0.41971173326089317, 0.41971173326089317, 0.41971173326089317, 0.41971173326089317, 0.41971173326089317, 0.41971173326089317, 0.41971173326089317, 0.41971173326089317, 0.41971173326089317, 0.41971173326089317, 0.41971173326089317, 0.41971173326089317, 0.41971173326089317, 0.41971173326089317, 0.41971173326089317, 0.41971173326089317, 0.41971173326089317, 0.41971173326089317, 0.41971173326089317, 0.41971173326089317, 0.41971173326089317, 0.41971173326089317, 0.41971173326089317, 0.41868012435253465, 0.41868012435253465, 0.41846057893513905, 0.41846057893513905, 0.41846057893513905, 0.41846057893513905, 0.41846057893513905, 0.41846057893513905, 0.41846057893513905, 0.41846057893513905, 0.41846057893513905, 0.41846057893513905, 0.41846057893513905, 0.41846057893513905, 0.41846057893513905, 0.41846057893513905, 0.41846057893513905, 0.41846057893513905, 0.41846057893513905]}], \"precision_score_macro\": [{\"categories\": [\"0\", \"1\", \"2\", \"3\", \"4\", \"5\", \"6\", \"7\", \"8\", \"9\", \"10\", \"11\", \"12\", \"13\", \"14\", \"15\", \"16\", \"17\", \"18\", \"19\", \"20\", \"21\", \"22\", \"23\", \"24\", \"25\", \"26\", \"27\", \"28\", \"29\", \"30\", \"31\", \"32\", \"33\", \"34\", \"35\", \"36\", \"37\", \"38\", \"39\", \"40\", \"41\", \"43\", \"44\", \"45\"], \"mode\": \"markers\", \"name\": \"precision_score_macro\", \"stepped\": false, \"type\": \"scatter\", \"data\": [0.725278974494809, 0.7417514511156995, 0.7378970196290934, 0.7448552911732744, 0.7477725019933485, 0.72570950679946, 0.7099295924120368, 0.7185153939603389, 0.7256587977602779, 0.6997931608126553, 0.7391570750173555, 0.7032606606749026, 0.7386601454739665, 0.7395533190319682, 0.7257512988587659, 0.7445829935050696, 0.7117233496026286, 0.7033662851153756, 0.7367690232645873, 0.739635859449706, 0.7488850949270925, 0.7338186798912238, 0.7392471007260059, 0.7028947393096147, 0.7336321489416288, 0.7223828654065755, 0.7453537514704907, 0.7246504680950859, 0.7389836987766669, 0.7404826762838569, 0.7099569513042064, 0.7104719772584142, 0.7208464770527947, 0.7107140813390089, 0.7384267708063424, 0.7445181492731778, 0.7057573283783982, 0.7115525546739587, 0.6915854364585534, 0.7441634517953413, 0.3669973324232288, 0.7060881466652614, 0.7116290959891642, 0.7438110485478037, 0.3669973324232288]}, {\"categories\": [\"0\", \"1\", \"2\", \"3\", \"4\", \"5\", \"6\", \"7\", \"8\", \"9\", \"10\", \"11\", \"12\", \"13\", \"14\", \"15\", \"16\", \"17\", \"18\", \"19\", \"20\", \"21\", \"22\", \"23\", \"24\", \"25\", \"26\", \"27\", \"28\", \"29\", \"30\", \"31\", \"32\", \"33\", \"34\", \"35\", \"36\", \"37\", \"38\", \"39\", \"40\", \"41\", \"43\", \"44\", \"45\"], \"mode\": \"lines\", \"name\": \"precision_score_macro_max\", \"stepped\": true, \"type\": \"scatter\", \"data\": [0.725278974494809, 0.7417514511156995, 0.7417514511156995, 0.7448552911732744, 0.7477725019933485, 0.7477725019933485, 0.7477725019933485, 0.7477725019933485, 0.7477725019933485, 0.7477725019933485, 0.7477725019933485, 0.7477725019933485, 0.7477725019933485, 0.7477725019933485, 0.7477725019933485, 0.7477725019933485, 0.7477725019933485, 0.7477725019933485, 0.7477725019933485, 0.7477725019933485, 0.7488850949270925, 0.7488850949270925, 0.7488850949270925, 0.7488850949270925, 0.7488850949270925, 0.7488850949270925, 0.7488850949270925, 0.7488850949270925, 0.7488850949270925, 0.7488850949270925, 0.7488850949270925, 0.7488850949270925, 0.7488850949270925, 0.7488850949270925, 0.7488850949270925, 0.7488850949270925, 0.7488850949270925, 0.7488850949270925, 0.7488850949270925, 0.7488850949270925, 0.7488850949270925, 0.7488850949270925, 0.7488850949270925, 0.7488850949270925, 0.7488850949270925]}], \"average_precision_score_macro\": [{\"categories\": [\"0\", \"1\", \"2\", \"3\", \"4\", \"5\", \"6\", \"7\", \"8\", \"9\", \"10\", \"11\", \"12\", \"13\", \"14\", \"15\", \"16\", \"17\", \"18\", \"19\", \"20\", \"21\", \"22\", \"23\", \"24\", \"25\", \"26\", \"27\", \"28\", \"29\", \"30\", \"31\", \"32\", \"33\", \"34\", \"35\", \"36\", \"37\", \"38\", \"39\", \"40\", \"41\", \"43\", \"44\", \"45\"], \"mode\": \"markers\", \"name\": \"average_precision_score_macro\", \"stepped\": false, \"type\": \"scatter\", \"data\": [0.7738680004462092, 0.792693619905573, 0.7734734445784165, 0.7876335711027022, 0.7924825339305254, 0.7712483392778022, 0.7848201336590018, 0.7670037569825425, 0.769931350282749, 0.7721991880528539, 0.783993980877434, 0.7810593293114844, 0.787024244879487, 0.7681478778896648, 0.7684233421491679, 0.786169879702838, 0.7886683927615527, 0.7866473888446769, 0.7765450118513205, 0.7725546923391656, 0.7899197252792037, 0.7765334511519566, 0.7862061004898065, 0.7788812638673289, 0.7793538951553671, 0.7556421928865424, 0.7977768421034496, 0.7768056182802684, 0.7954411748534402, 0.7957654514290159, 0.7558128901629187, 0.7901901655129822, 0.7658280046404994, 0.7908684020658401, 0.7784350164974267, 0.7873409091057504, 0.7849704664699023, 0.7895053239431925, 0.7598119695613873, 0.7894877952965407, 0.7437209397007659, 0.7542415060271165, 0.7879948130445136, 0.7983040954151985, 0.7978900920855417]}, {\"categories\": [\"0\", \"1\", \"2\", \"3\", \"4\", \"5\", \"6\", \"7\", \"8\", \"9\", \"10\", \"11\", \"12\", \"13\", \"14\", \"15\", \"16\", \"17\", \"18\", \"19\", \"20\", \"21\", \"22\", \"23\", \"24\", \"25\", \"26\", \"27\", \"28\", \"29\", \"30\", \"31\", \"32\", \"33\", \"34\", \"35\", \"36\", \"37\", \"38\", \"39\", \"40\", \"41\", \"43\", \"44\", \"45\"], \"mode\": \"lines\", \"name\": \"average_precision_score_macro_max\", \"stepped\": true, \"type\": \"scatter\", \"data\": [0.7738680004462092, 0.792693619905573, 0.792693619905573, 0.792693619905573, 0.792693619905573, 0.792693619905573, 0.792693619905573, 0.792693619905573, 0.792693619905573, 0.792693619905573, 0.792693619905573, 0.792693619905573, 0.792693619905573, 0.792693619905573, 0.792693619905573, 0.792693619905573, 0.792693619905573, 0.792693619905573, 0.792693619905573, 0.792693619905573, 0.792693619905573, 0.792693619905573, 0.792693619905573, 0.792693619905573, 0.792693619905573, 0.792693619905573, 0.7977768421034496, 0.7977768421034496, 0.7977768421034496, 0.7977768421034496, 0.7977768421034496, 0.7977768421034496, 0.7977768421034496, 0.7977768421034496, 0.7977768421034496, 0.7977768421034496, 0.7977768421034496, 0.7977768421034496, 0.7977768421034496, 0.7977768421034496, 0.7977768421034496, 0.7977768421034496, 0.7977768421034496, 0.7983040954151985, 0.7983040954151985]}], \"AUC_macro\": [{\"categories\": [\"0\", \"1\", \"2\", \"3\", \"4\", \"5\", \"6\", \"7\", \"8\", \"9\", \"10\", \"11\", \"12\", \"13\", \"14\", \"15\", \"16\", \"17\", \"18\", \"19\", \"20\", \"21\", \"22\", \"23\", \"24\", \"25\", \"26\", \"27\", \"28\", \"29\", \"30\", \"31\", \"32\", \"33\", \"34\", \"35\", \"36\", \"37\", \"38\", \"39\", \"40\", \"41\", \"43\", \"44\", \"45\"], \"mode\": \"markers\", \"name\": \"AUC_macro\", \"stepped\": false, \"type\": \"scatter\", \"data\": [0.8262812118326153, 0.8428270778228603, 0.8303845458475081, 0.8395885048787916, 0.8424311453859665, 0.8300517033247112, 0.8375635424933848, 0.8216031893608439, 0.8236144642926414, 0.829389694212139, 0.8380937758507433, 0.8360449921721514, 0.8377980746432201, 0.8253764259754552, 0.8254578394726628, 0.8390005603250525, 0.8413132442962846, 0.837202918054974, 0.8319877954762099, 0.8283177206637374, 0.8416847136974541, 0.8299282655409614, 0.8381485382554755, 0.8340501630686418, 0.8357858750615461, 0.8149623613518069, 0.8456719651284622, 0.8290885773825563, 0.8443206148966732, 0.843412677714176, 0.8177709462558829, 0.8419431708036166, 0.8205004463465279, 0.8418409691778079, 0.8316573998238954, 0.8390592508206777, 0.8384427310960858, 0.8409307784000829, 0.8209409474542049, 0.8388330205594456, 0.8039676030248701, 0.8139260736515928, 0.8402803004840728, 0.8465294645096603, 0.8463769383936288]}, {\"categories\": [\"0\", \"1\", \"2\", \"3\", \"4\", \"5\", \"6\", \"7\", \"8\", \"9\", \"10\", \"11\", \"12\", \"13\", \"14\", \"15\", \"16\", \"17\", \"18\", \"19\", \"20\", \"21\", \"22\", \"23\", \"24\", \"25\", \"26\", \"27\", \"28\", \"29\", \"30\", \"31\", \"32\", \"33\", \"34\", \"35\", \"36\", \"37\", \"38\", \"39\", \"40\", \"41\", \"43\", \"44\", \"45\"], \"mode\": \"lines\", \"name\": \"AUC_macro_max\", \"stepped\": true, \"type\": \"scatter\", \"data\": [0.8262812118326153, 0.8428270778228603, 0.8428270778228603, 0.8428270778228603, 0.8428270778228603, 0.8428270778228603, 0.8428270778228603, 0.8428270778228603, 0.8428270778228603, 0.8428270778228603, 0.8428270778228603, 0.8428270778228603, 0.8428270778228603, 0.8428270778228603, 0.8428270778228603, 0.8428270778228603, 0.8428270778228603, 0.8428270778228603, 0.8428270778228603, 0.8428270778228603, 0.8428270778228603, 0.8428270778228603, 0.8428270778228603, 0.8428270778228603, 0.8428270778228603, 0.8428270778228603, 0.8456719651284622, 0.8456719651284622, 0.8456719651284622, 0.8456719651284622, 0.8456719651284622, 0.8456719651284622, 0.8456719651284622, 0.8456719651284622, 0.8456719651284622, 0.8456719651284622, 0.8456719651284622, 0.8456719651284622, 0.8456719651284622, 0.8456719651284622, 0.8456719651284622, 0.8456719651284622, 0.8456719651284622, 0.8465294645096603, 0.8465294645096603]}], \"recall_score_binary\": [{\"categories\": [\"0\", \"1\", \"2\", \"3\", \"4\", \"5\", \"6\", \"7\", \"8\", \"9\", \"10\", \"11\", \"12\", \"13\", \"14\", \"15\", \"16\", \"17\", \"18\", \"19\", \"20\", \"21\", \"22\", \"23\", \"24\", \"25\", \"26\", \"27\", \"28\", \"29\", \"30\", \"31\", \"32\", \"33\", \"34\", \"35\", \"36\", \"37\", \"38\", \"39\", \"40\", \"41\", \"43\", \"44\", \"45\"], \"mode\": \"markers\", \"name\": \"recall_score_binary\", \"stepped\": false, \"type\": \"scatter\", \"data\": [0.5027868902460376, 0.5073385751298077, 0.4301161748511749, 0.4361539865566237, 0.4471239802156811, 0.48003541301356817, 0.7855030644802615, 0.496427438494596, 0.4926716277476106, 0.8120210659019297, 0.45056388549263243, 0.7998951567402132, 0.50672965187816, 0.3054035527456754, 0.4730523640731032, 0.4005368547059819, 0.8025614077003453, 0.8166756586685714, 0.5108168187611792, 0.3086316946022398, 0.5366043001095687, 0.5094571182581877, 0.5183650601507044, 0.8045668553585906, 0.4830326793638212, 0.3758477516793284, 0.49432478080496095, 0.5100956222699251, 0.486808548327274, 0.5168156776048451, 0.4578396977872358, 0.7995377835740861, 0.5027373571759001, 0.7945388616705055, 0.3960984578285705, 0.4732092091422838, 0.8156184209904825, 0.781708785055768, 0.8107575821611731, 0.4586636106292513, 0.0, 0.5953305807807423, 0.801176057729393, 0.5611101759256455, 0.0]}, {\"categories\": [\"0\", \"1\", \"2\", \"3\", \"4\", \"5\", \"6\", \"7\", \"8\", \"9\", \"10\", \"11\", \"12\", \"13\", \"14\", \"15\", \"16\", \"17\", \"18\", \"19\", \"20\", \"21\", \"22\", \"23\", \"24\", \"25\", \"26\", \"27\", \"28\", \"29\", \"30\", \"31\", \"32\", \"33\", \"34\", \"35\", \"36\", \"37\", \"38\", \"39\", \"40\", \"41\", \"43\", \"44\", \"45\"], \"mode\": \"lines\", \"name\": \"recall_score_binary_max\", \"stepped\": true, \"type\": \"scatter\", \"data\": [0.5027868902460376, 0.5073385751298077, 0.5073385751298077, 0.5073385751298077, 0.5073385751298077, 0.5073385751298077, 0.7855030644802615, 0.7855030644802615, 0.7855030644802615, 0.8120210659019297, 0.8120210659019297, 0.8120210659019297, 0.8120210659019297, 0.8120210659019297, 0.8120210659019297, 0.8120210659019297, 0.8120210659019297, 0.8166756586685714, 0.8166756586685714, 0.8166756586685714, 0.8166756586685714, 0.8166756586685714, 0.8166756586685714, 0.8166756586685714, 0.8166756586685714, 0.8166756586685714, 0.8166756586685714, 0.8166756586685714, 0.8166756586685714, 0.8166756586685714, 0.8166756586685714, 0.8166756586685714, 0.8166756586685714, 0.8166756586685714, 0.8166756586685714, 0.8166756586685714, 0.8166756586685714, 0.8166756586685714, 0.8166756586685714, 0.8166756586685714, 0.8166756586685714, 0.8166756586685714, 0.8166756586685714, 0.8166756586685714, 0.8166756586685714]}], \"AUC_micro\": [{\"categories\": [\"0\", \"1\", \"2\", \"3\", \"4\", \"5\", \"6\", \"7\", \"8\", \"9\", \"10\", \"11\", \"12\", \"13\", \"14\", \"15\", \"16\", \"17\", \"18\", \"19\", \"20\", \"21\", \"22\", \"23\", \"24\", \"25\", \"26\", \"27\", \"28\", \"29\", \"30\", \"31\", \"32\", \"33\", \"34\", \"35\", \"36\", \"37\", \"38\", \"39\", \"40\", \"41\", \"43\", \"44\", \"45\"], \"mode\": \"markers\", \"name\": \"AUC_micro\", \"stepped\": false, \"type\": \"scatter\", \"data\": [0.8761785371205845, 0.886765164939429, 0.8781092818358848, 0.884062938846227, 0.8849873512719445, 0.8776592015400484, 0.8373405886746107, 0.8727331731540852, 0.8737272582061129, 0.8143119239973989, 0.8819363988446912, 0.8247295926845293, 0.8837888064841524, 0.8707626988046967, 0.8745659784811037, 0.8806815899461539, 0.8340331056800484, 0.8283767068458118, 0.8792409942501974, 0.8723632782034515, 0.8853530580988155, 0.8781223392892465, 0.8831294244345111, 0.8237146829244278, 0.8817776520869243, 0.8684759484316772, 0.8883507383359024, 0.877208209418442, 0.8876633181079147, 0.8870229573997708, 0.8688683740052916, 0.8347078556023003, 0.8710949536082505, 0.8346942930923179, 0.8779345801622094, 0.8841093148678071, 0.818579848195608, 0.8351290793505008, 0.8140104010346869, 0.8842796677690618, 0.8524904316927079, 0.8414055067639011, 0.8337946508653056, 0.8886911983463349, 0.8690669776198743]}, {\"categories\": [\"0\", \"1\", \"2\", \"3\", \"4\", \"5\", \"6\", \"7\", \"8\", \"9\", \"10\", \"11\", \"12\", \"13\", \"14\", \"15\", \"16\", \"17\", \"18\", \"19\", \"20\", \"21\", \"22\", \"23\", \"24\", \"25\", \"26\", \"27\", \"28\", \"29\", \"30\", \"31\", \"32\", \"33\", \"34\", \"35\", \"36\", \"37\", \"38\", \"39\", \"40\", \"41\", \"43\", \"44\", \"45\"], \"mode\": \"lines\", \"name\": \"AUC_micro_max\", \"stepped\": true, \"type\": \"scatter\", \"data\": [0.8761785371205845, 0.886765164939429, 0.886765164939429, 0.886765164939429, 0.886765164939429, 0.886765164939429, 0.886765164939429, 0.886765164939429, 0.886765164939429, 0.886765164939429, 0.886765164939429, 0.886765164939429, 0.886765164939429, 0.886765164939429, 0.886765164939429, 0.886765164939429, 0.886765164939429, 0.886765164939429, 0.886765164939429, 0.886765164939429, 0.886765164939429, 0.886765164939429, 0.886765164939429, 0.886765164939429, 0.886765164939429, 0.886765164939429, 0.8883507383359024, 0.8883507383359024, 0.8883507383359024, 0.8883507383359024, 0.8883507383359024, 0.8883507383359024, 0.8883507383359024, 0.8883507383359024, 0.8883507383359024, 0.8883507383359024, 0.8883507383359024, 0.8883507383359024, 0.8883507383359024, 0.8883507383359024, 0.8883507383359024, 0.8883507383359024, 0.8883507383359024, 0.8886911983463349, 0.8886911983463349]}], \"precision_score_weighted\": [{\"categories\": [\"0\", \"1\", \"2\", \"3\", \"4\", \"5\", \"6\", \"7\", \"8\", \"9\", \"10\", \"11\", \"12\", \"13\", \"14\", \"15\", \"16\", \"17\", \"18\", \"19\", \"20\", \"21\", \"22\", \"23\", \"24\", \"25\", \"26\", \"27\", \"28\", \"29\", \"30\", \"31\", \"32\", \"33\", \"34\", \"35\", \"36\", \"37\", \"38\", \"39\", \"40\", \"41\", \"43\", \"44\", \"45\"], \"mode\": \"markers\", \"name\": \"precision_score_weighted\", \"stepped\": false, \"type\": \"scatter\", \"data\": [0.7753526323653038, 0.7855224182974797, 0.7750313458406207, 0.7799290860830456, 0.7826222629986838, 0.7730424195143236, 0.8008690284288177, 0.7704336515759275, 0.7744372806964298, 0.7985906171455, 0.7779806849283678, 0.7989011349565213, 0.7835483155798634, 0.7636942663980887, 0.7723846962671941, 0.7758706462650417, 0.8047681012233247, 0.8017386538854312, 0.7829465056939792, 0.7641062521732754, 0.7929542237566919, 0.7808488146018174, 0.7852618684084216, 0.7992609080194446, 0.7783089366130682, 0.7604516847657835, 0.7863295264021538, 0.775598091134117, 0.7818473730208344, 0.7857321402530598, 0.7614580173780559, 0.8035018374505417, 0.7724838020884282, 0.8028693797300771, 0.772035778162362, 0.7835721981874035, 0.8029509042031296, 0.8014846988254524, 0.79290927274958, 0.781878572748346, 0.5389372342967539, 0.7760897237554442, 0.804419646593033, 0.7927508109817394, 0.5389372342967539]}, {\"categories\": [\"0\", \"1\", \"2\", \"3\", \"4\", \"5\", \"6\", \"7\", \"8\", \"9\", \"10\", \"11\", \"12\", \"13\", \"14\", \"15\", \"16\", \"17\", \"18\", \"19\", \"20\", \"21\", \"22\", \"23\", \"24\", \"25\", \"26\", \"27\", \"28\", \"29\", \"30\", \"31\", \"32\", \"33\", \"34\", \"35\", \"36\", \"37\", \"38\", \"39\", \"40\", \"41\", \"43\", \"44\", \"45\"], \"mode\": \"lines\", \"name\": \"precision_score_weighted_max\", \"stepped\": true, \"type\": \"scatter\", \"data\": [0.7753526323653038, 0.7855224182974797, 0.7855224182974797, 0.7855224182974797, 0.7855224182974797, 0.7855224182974797, 0.8008690284288177, 0.8008690284288177, 0.8008690284288177, 0.8008690284288177, 0.8008690284288177, 0.8008690284288177, 0.8008690284288177, 0.8008690284288177, 0.8008690284288177, 0.8008690284288177, 0.8047681012233247, 0.8047681012233247, 0.8047681012233247, 0.8047681012233247, 0.8047681012233247, 0.8047681012233247, 0.8047681012233247, 0.8047681012233247, 0.8047681012233247, 0.8047681012233247, 0.8047681012233247, 0.8047681012233247, 0.8047681012233247, 0.8047681012233247, 0.8047681012233247, 0.8047681012233247, 0.8047681012233247, 0.8047681012233247, 0.8047681012233247, 0.8047681012233247, 0.8047681012233247, 0.8047681012233247, 0.8047681012233247, 0.8047681012233247, 0.8047681012233247, 0.8047681012233247, 0.8047681012233247, 0.8047681012233247, 0.8047681012233247]}], \"weighted_accuracy\": [{\"categories\": [\"0\", \"1\", \"2\", \"3\", \"4\", \"5\", \"6\", \"7\", \"8\", \"9\", \"10\", \"11\", \"12\", \"13\", \"14\", \"15\", \"16\", \"17\", \"18\", \"19\", \"20\", \"21\", \"22\", \"23\", \"24\", \"25\", \"26\", \"27\", \"28\", \"29\", \"30\", \"31\", \"32\", \"33\", \"34\", \"35\", \"36\", \"37\", \"38\", \"39\", \"40\", \"41\", \"43\", \"44\", \"45\"], \"mode\": \"markers\", \"name\": \"weighted_accuracy\", \"stepped\": false, \"type\": \"scatter\", \"data\": [0.8428299005730199, 0.85417267104301, 0.8617014013368459, 0.8655102234193465, 0.8662067462277091, 0.8467682798593791, 0.7379214974841914, 0.838226021932196, 0.8448712801338113, 0.7067573349469798, 0.8603117891193233, 0.7197006762672143, 0.8518246938351339, 0.8747980609409618, 0.847730960866168, 0.868643580581521, 0.7330522894407515, 0.7094164551180013, 0.8503001066461956, 0.8746198199920797, 0.8555136052832216, 0.8478360651955826, 0.850582391486327, 0.7164417079707464, 0.8520696182635688, 0.859552694751598, 0.8588664831696758, 0.8410764754958977, 0.8558248349490578, 0.8515597439748009, 0.8385335134874156, 0.7322958503512744, 0.8387285215491073, 0.7351377699709912, 0.8663611541334909, 0.8611238917186386, 0.7136859108690052, 0.7427583625638647, 0.691289573379102, 0.862937936206937, 0.8833653480702276, 0.7842763227648287, 0.7335522757671656, 0.8473109759383551, 0.8833653480702276]}, {\"categories\": [\"0\", \"1\", \"2\", \"3\", \"4\", \"5\", \"6\", \"7\", \"8\", \"9\", \"10\", \"11\", \"12\", \"13\", \"14\", \"15\", \"16\", \"17\", \"18\", \"19\", \"20\", \"21\", \"22\", \"23\", \"24\", \"25\", \"26\", \"27\", \"28\", \"29\", \"30\", \"31\", \"32\", \"33\", \"34\", \"35\", \"36\", \"37\", \"38\", \"39\", \"40\", \"41\", \"43\", \"44\", \"45\"], \"mode\": \"lines\", \"name\": \"weighted_accuracy_max\", \"stepped\": true, \"type\": \"scatter\", \"data\": [0.8428299005730199, 0.85417267104301, 0.8617014013368459, 0.8655102234193465, 0.8662067462277091, 0.8662067462277091, 0.8662067462277091, 0.8662067462277091, 0.8662067462277091, 0.8662067462277091, 0.8662067462277091, 0.8662067462277091, 0.8662067462277091, 0.8747980609409618, 0.8747980609409618, 0.8747980609409618, 0.8747980609409618, 0.8747980609409618, 0.8747980609409618, 0.8747980609409618, 0.8747980609409618, 0.8747980609409618, 0.8747980609409618, 0.8747980609409618, 0.8747980609409618, 0.8747980609409618, 0.8747980609409618, 0.8747980609409618, 0.8747980609409618, 0.8747980609409618, 0.8747980609409618, 0.8747980609409618, 0.8747980609409618, 0.8747980609409618, 0.8747980609409618, 0.8747980609409618, 0.8747980609409618, 0.8747980609409618, 0.8747980609409618, 0.8747980609409618, 0.8833653480702276, 0.8833653480702276, 0.8833653480702276, 0.8833653480702276, 0.8833653480702276]}], \"average_precision_score_binary\": [{\"categories\": [\"0\", \"1\", \"2\", \"3\", \"4\", \"5\", \"6\", \"7\", \"8\", \"9\", \"10\", \"11\", \"12\", \"13\", \"14\", \"15\", \"16\", \"17\", \"18\", \"19\", \"20\", \"21\", \"22\", \"23\", \"24\", \"25\", \"26\", \"27\", \"28\", \"29\", \"30\", \"31\", \"32\", \"33\", \"34\", \"35\", \"36\", \"37\", \"38\", \"39\", \"40\", \"41\", \"43\", \"44\", \"45\"], \"mode\": \"markers\", \"name\": \"average_precision_score_binary\", \"stepped\": false, \"type\": \"scatter\", \"data\": [0.6211570658199138, 0.6500282126034577, 0.6182412785181082, 0.6419065739272566, 0.6495686804210209, 0.612694804983943, 0.6359576332818098, 0.6099237533748116, 0.6135172057179391, 0.61452064010971, 0.6346228767249007, 0.6289393083164534, 0.6418321734920945, 0.6078814971463092, 0.6120479431523053, 0.6379409984326383, 0.6421550373304934, 0.6427219071215003, 0.624220868315384, 0.6158680090725268, 0.6446107395296213, 0.623755239897058, 0.6392630554722885, 0.6263363004264308, 0.6271214598157625, 0.5889780921136663, 0.6583856512434144, 0.6235879887784658, 0.654634493389503, 0.656173013886797, 0.5875515251981076, 0.6450703174364172, 0.6069294756161137, 0.6465918190715412, 0.6269634687868393, 0.6414886115415923, 0.6364472933198047, 0.6447262493174122, 0.5943511330285259, 0.6458998106068847, 0.5731547740545905, 0.592880194464013, 0.6412731620281829, 0.659425002403332, 0.6588550365450618]}, {\"categories\": [\"0\", \"1\", \"2\", \"3\", \"4\", \"5\", \"6\", \"7\", \"8\", \"9\", \"10\", \"11\", \"12\", \"13\", \"14\", \"15\", \"16\", \"17\", \"18\", \"19\", \"20\", \"21\", \"22\", \"23\", \"24\", \"25\", \"26\", \"27\", \"28\", \"29\", \"30\", \"31\", \"32\", \"33\", \"34\", \"35\", \"36\", \"37\", \"38\", \"39\", \"40\", \"41\", \"43\", \"44\", \"45\"], \"mode\": \"lines\", \"name\": \"average_precision_score_binary_max\", \"stepped\": true, \"type\": \"scatter\", \"data\": [0.6211570658199138, 0.6500282126034577, 0.6500282126034577, 0.6500282126034577, 0.6500282126034577, 0.6500282126034577, 0.6500282126034577, 0.6500282126034577, 0.6500282126034577, 0.6500282126034577, 0.6500282126034577, 0.6500282126034577, 0.6500282126034577, 0.6500282126034577, 0.6500282126034577, 0.6500282126034577, 0.6500282126034577, 0.6500282126034577, 0.6500282126034577, 0.6500282126034577, 0.6500282126034577, 0.6500282126034577, 0.6500282126034577, 0.6500282126034577, 0.6500282126034577, 0.6500282126034577, 0.6583856512434144, 0.6583856512434144, 0.6583856512434144, 0.6583856512434144, 0.6583856512434144, 0.6583856512434144, 0.6583856512434144, 0.6583856512434144, 0.6583856512434144, 0.6583856512434144, 0.6583856512434144, 0.6583856512434144, 0.6583856512434144, 0.6583856512434144, 0.6583856512434144, 0.6583856512434144, 0.6583856512434144, 0.659425002403332, 0.659425002403332]}], \"recall_score_weighted\": [{\"categories\": [\"0\", \"1\", \"2\", \"3\", \"4\", \"5\", \"6\", \"7\", \"8\", \"9\", \"10\", \"11\", \"12\", \"13\", \"14\", \"15\", \"16\", \"17\", \"18\", \"19\", \"20\", \"21\", \"22\", \"23\", \"24\", \"25\", \"26\", \"27\", \"28\", \"29\", \"30\", \"31\", \"32\", \"33\", \"34\", \"35\", \"36\", \"37\", \"38\", \"39\", \"40\", \"41\", \"43\", \"44\", \"45\"], \"mode\": \"markers\", \"name\": \"recall_score_weighted\", \"stepped\": false, \"type\": \"scatter\", \"data\": [0.7853069971818545, 0.7955288602696686, 0.7887118590475521, 0.7928791008032844, 0.7953393945629615, 0.7847375962699096, 0.7459234759303267, 0.7803806378595143, 0.7853069971818545, 0.7245334250129866, 0.790985698475993, 0.7332400643430559, 0.793444486547935, 0.7784882393240465, 0.7843576610646718, 0.7894689690305129, 0.7447894421175992, 0.7275593554652702, 0.792877846063505, 0.7788671707374607, 0.8015864929772214, 0.7906035047391523, 0.7943918150814702, 0.7313466620157645, 0.7896624499045144, 0.7777293727053946, 0.7972343025779883, 0.7851165276833237, 0.793449505507053, 0.794958706513856, 0.7741352960809457, 0.7436534007212244, 0.7818966144611269, 0.7451681225830574, 0.7868209661998199, 0.79553061690536, 0.7309647192268797, 0.7493331058071867, 0.7114680706368307, 0.7945855469034278, 0.7339946648464576, 0.7519901427642921, 0.7449766492927031, 0.7989357297190136, 0.7339946648464576]}, {\"categories\": [\"0\", \"1\", \"2\", \"3\", \"4\", \"5\", \"6\", \"7\", \"8\", \"9\", \"10\", \"11\", \"12\", \"13\", \"14\", \"15\", \"16\", \"17\", \"18\", \"19\", \"20\", \"21\", \"22\", \"23\", \"24\", \"25\", \"26\", \"27\", \"28\", \"29\", \"30\", \"31\", \"32\", \"33\", \"34\", \"35\", \"36\", \"37\", \"38\", \"39\", \"40\", \"41\", \"43\", \"44\", \"45\"], \"mode\": \"lines\", \"name\": \"recall_score_weighted_max\", \"stepped\": true, \"type\": \"scatter\", \"data\": [0.7853069971818545, 0.7955288602696686, 0.7955288602696686, 0.7955288602696686, 0.7955288602696686, 0.7955288602696686, 0.7955288602696686, 0.7955288602696686, 0.7955288602696686, 0.7955288602696686, 0.7955288602696686, 0.7955288602696686, 0.7955288602696686, 0.7955288602696686, 0.7955288602696686, 0.7955288602696686, 0.7955288602696686, 0.7955288602696686, 0.7955288602696686, 0.7955288602696686, 0.8015864929772214, 0.8015864929772214, 0.8015864929772214, 0.8015864929772214, 0.8015864929772214, 0.8015864929772214, 0.8015864929772214, 0.8015864929772214, 0.8015864929772214, 0.8015864929772214, 0.8015864929772214, 0.8015864929772214, 0.8015864929772214, 0.8015864929772214, 0.8015864929772214, 0.8015864929772214, 0.8015864929772214, 0.8015864929772214, 0.8015864929772214, 0.8015864929772214, 0.8015864929772214, 0.8015864929772214, 0.8015864929772214, 0.8015864929772214, 0.8015864929772214]}], \"AUC_weighted\": [{\"categories\": [\"0\", \"1\", \"2\", \"3\", \"4\", \"5\", \"6\", \"7\", \"8\", \"9\", \"10\", \"11\", \"12\", \"13\", \"14\", \"15\", \"16\", \"17\", \"18\", \"19\", \"20\", \"21\", \"22\", \"23\", \"24\", \"25\", \"26\", \"27\", \"28\", \"29\", \"30\", \"31\", \"32\", \"33\", \"34\", \"35\", \"36\", \"37\", \"38\", \"39\", \"40\", \"41\", \"43\", \"44\", \"45\"], \"mode\": \"markers\", \"name\": \"AUC_weighted\", \"stepped\": false, \"type\": \"scatter\", \"data\": [0.8262812118326153, 0.8428270778228603, 0.8303845458475081, 0.8395885048787916, 0.8424311453859666, 0.8300517033247112, 0.8375635424933849, 0.8216031893608439, 0.8236144642926414, 0.8293896942121392, 0.8380937758507433, 0.8360449921721512, 0.8377980746432201, 0.8253764259754552, 0.8254578394726628, 0.8390005603250525, 0.8413132442962846, 0.837202918054974, 0.8319877954762097, 0.8283177206637374, 0.8416847136974541, 0.8299282655409614, 0.8381485382554755, 0.8340501630686418, 0.8357858750615461, 0.8149623613518067, 0.8456719651284622, 0.8290885773825561, 0.8443206148966734, 0.843412677714176, 0.8177709462558829, 0.8419431708036166, 0.8205006160262914, 0.841840969177808, 0.8316573998238954, 0.8390592508206777, 0.8384427310960858, 0.8409307784000829, 0.8209409474542049, 0.8388330205594456, 0.8039676030248701, 0.8139260736515928, 0.8402803004840728, 0.8465294645096603, 0.8463769383936288]}, {\"categories\": [\"0\", \"1\", \"2\", \"3\", \"4\", \"5\", \"6\", \"7\", \"8\", \"9\", \"10\", \"11\", \"12\", \"13\", \"14\", \"15\", \"16\", \"17\", \"18\", \"19\", \"20\", \"21\", \"22\", \"23\", \"24\", \"25\", \"26\", \"27\", \"28\", \"29\", \"30\", \"31\", \"32\", \"33\", \"34\", \"35\", \"36\", \"37\", \"38\", \"39\", \"40\", \"41\", \"43\", \"44\", \"45\"], \"mode\": \"lines\", \"name\": \"AUC_weighted_max\", \"stepped\": true, \"type\": \"scatter\", \"data\": [0.8262812118326153, 0.8428270778228603, 0.8428270778228603, 0.8428270778228603, 0.8428270778228603, 0.8428270778228603, 0.8428270778228603, 0.8428270778228603, 0.8428270778228603, 0.8428270778228603, 0.8428270778228603, 0.8428270778228603, 0.8428270778228603, 0.8428270778228603, 0.8428270778228603, 0.8428270778228603, 0.8428270778228603, 0.8428270778228603, 0.8428270778228603, 0.8428270778228603, 0.8428270778228603, 0.8428270778228603, 0.8428270778228603, 0.8428270778228603, 0.8428270778228603, 0.8428270778228603, 0.8456719651284622, 0.8456719651284622, 0.8456719651284622, 0.8456719651284622, 0.8456719651284622, 0.8456719651284622, 0.8456719651284622, 0.8456719651284622, 0.8456719651284622, 0.8456719651284622, 0.8456719651284622, 0.8456719651284622, 0.8456719651284622, 0.8456719651284622, 0.8456719651284622, 0.8456719651284622, 0.8456719651284622, 0.8465294645096603, 0.8465294645096603]}], \"average_precision_score_micro\": [{\"categories\": [\"0\", \"1\", \"2\", \"3\", \"4\", \"5\", \"6\", \"7\", \"8\", \"9\", \"10\", \"11\", \"12\", \"13\", \"14\", \"15\", \"16\", \"17\", \"18\", \"19\", \"20\", \"21\", \"22\", \"23\", \"24\", \"25\", \"26\", \"27\", \"28\", \"29\", \"30\", \"31\", \"32\", \"33\", \"34\", \"35\", \"36\", \"37\", \"38\", \"39\", \"40\", \"41\", \"43\", \"44\", \"45\"], \"mode\": \"markers\", \"name\": \"average_precision_score_micro\", \"stepped\": false, \"type\": \"scatter\", \"data\": [0.877099177484142, 0.8886559734236185, 0.8792083050274163, 0.8855747363937024, 0.8871090706138728, 0.8796114507635825, 0.842534526928213, 0.8733598337071623, 0.8755625239261698, 0.8203750820662822, 0.8840823316842397, 0.8313051974729435, 0.8849975246441338, 0.8740320003355153, 0.8733441922025328, 0.8835747813158663, 0.8402868263720934, 0.8342983148753701, 0.8799585754139299, 0.8753615823692253, 0.8875270749330367, 0.8798455887848158, 0.8849816918671506, 0.8287840708038975, 0.8831229170815357, 0.8699137270147907, 0.8906648850435209, 0.8798150016223154, 0.889749707162041, 0.8888094375378757, 0.8707059344801046, 0.8404202545178527, 0.8726057952934722, 0.8398493467941021, 0.8796798784138812, 0.8856006335979025, 0.8233773407811685, 0.8386965670980092, 0.8236597477033832, 0.8857807118267017, 0.8540704733116883, 0.8362426460596721, 0.8392182776829694, 0.8908423321302456, 0.8746701580174578]}, {\"categories\": [\"0\", \"1\", \"2\", \"3\", \"4\", \"5\", \"6\", \"7\", \"8\", \"9\", \"10\", \"11\", \"12\", \"13\", \"14\", \"15\", \"16\", \"17\", \"18\", \"19\", \"20\", \"21\", \"22\", \"23\", \"24\", \"25\", \"26\", \"27\", \"28\", \"29\", \"30\", \"31\", \"32\", \"33\", \"34\", \"35\", \"36\", \"37\", \"38\", \"39\", \"40\", \"41\", \"43\", \"44\", \"45\"], \"mode\": \"lines\", \"name\": \"average_precision_score_micro_max\", \"stepped\": true, \"type\": \"scatter\", \"data\": [0.877099177484142, 0.8886559734236185, 0.8886559734236185, 0.8886559734236185, 0.8886559734236185, 0.8886559734236185, 0.8886559734236185, 0.8886559734236185, 0.8886559734236185, 0.8886559734236185, 0.8886559734236185, 0.8886559734236185, 0.8886559734236185, 0.8886559734236185, 0.8886559734236185, 0.8886559734236185, 0.8886559734236185, 0.8886559734236185, 0.8886559734236185, 0.8886559734236185, 0.8886559734236185, 0.8886559734236185, 0.8886559734236185, 0.8886559734236185, 0.8886559734236185, 0.8886559734236185, 0.8906648850435209, 0.8906648850435209, 0.8906648850435209, 0.8906648850435209, 0.8906648850435209, 0.8906648850435209, 0.8906648850435209, 0.8906648850435209, 0.8906648850435209, 0.8906648850435209, 0.8906648850435209, 0.8906648850435209, 0.8906648850435209, 0.8906648850435209, 0.8906648850435209, 0.8906648850435209, 0.8906648850435209, 0.8908423321302456, 0.8908423321302456]}], \"AUC_binary\": [{\"categories\": [\"0\", \"1\", \"2\", \"3\", \"4\", \"5\", \"6\", \"7\", \"8\", \"9\", \"10\", \"11\", \"12\", \"13\", \"14\", \"15\", \"16\", \"17\", \"18\", \"19\", \"20\", \"21\", \"22\", \"23\", \"24\", \"25\", \"26\", \"27\", \"28\", \"29\", \"30\", \"31\", \"32\", \"33\", \"34\", \"35\", \"36\", \"37\", \"38\", \"39\", \"40\", \"41\", \"43\", \"44\", \"45\"], \"mode\": \"markers\", \"name\": \"AUC_binary\", \"stepped\": false, \"type\": \"scatter\", \"data\": [0.8262812118326153, 0.8428270778228603, 0.8303845458475081, 0.8395885048787916, 0.8424311453859666, 0.8300517033247112, 0.8375635424933848, 0.8216031893608439, 0.8236144642926414, 0.8293896942121392, 0.8380937758507432, 0.8360449921721514, 0.8377980746432201, 0.8253764259754552, 0.8254578394726628, 0.8390005603250525, 0.8413132442962844, 0.837202918054974, 0.8319877954762099, 0.8283177206637374, 0.8416847136974541, 0.8299282655409614, 0.8381485382554758, 0.8340501630686418, 0.8357858750615462, 0.8149623613518069, 0.8456719651284624, 0.8290885773825563, 0.8443206148966732, 0.843412677714176, 0.8177709462558829, 0.8419431708036166, 0.8205001101044765, 0.8418409691778083, 0.8316573998238954, 0.8390592508206777, 0.8384427310960858, 0.8409307784000829, 0.8209409474542049, 0.8388330205594456, 0.8039676030248701, 0.8139260736515928, 0.8402803004840728, 0.8465294645096603, 0.8463769383936288]}, {\"categories\": [\"0\", \"1\", \"2\", \"3\", \"4\", \"5\", \"6\", \"7\", \"8\", \"9\", \"10\", \"11\", \"12\", \"13\", \"14\", \"15\", \"16\", \"17\", \"18\", \"19\", \"20\", \"21\", \"22\", \"23\", \"24\", \"25\", \"26\", \"27\", \"28\", \"29\", \"30\", \"31\", \"32\", \"33\", \"34\", \"35\", \"36\", \"37\", \"38\", \"39\", \"40\", \"41\", \"43\", \"44\", \"45\"], \"mode\": \"lines\", \"name\": \"AUC_binary_max\", \"stepped\": true, \"type\": \"scatter\", \"data\": [0.8262812118326153, 0.8428270778228603, 0.8428270778228603, 0.8428270778228603, 0.8428270778228603, 0.8428270778228603, 0.8428270778228603, 0.8428270778228603, 0.8428270778228603, 0.8428270778228603, 0.8428270778228603, 0.8428270778228603, 0.8428270778228603, 0.8428270778228603, 0.8428270778228603, 0.8428270778228603, 0.8428270778228603, 0.8428270778228603, 0.8428270778228603, 0.8428270778228603, 0.8428270778228603, 0.8428270778228603, 0.8428270778228603, 0.8428270778228603, 0.8428270778228603, 0.8428270778228603, 0.8456719651284624, 0.8456719651284624, 0.8456719651284624, 0.8456719651284624, 0.8456719651284624, 0.8456719651284624, 0.8456719651284624, 0.8456719651284624, 0.8456719651284624, 0.8456719651284624, 0.8456719651284624, 0.8456719651284624, 0.8456719651284624, 0.8456719651284624, 0.8456719651284624, 0.8456719651284624, 0.8456719651284624, 0.8465294645096603, 0.8465294645096603]}], \"recall_score_micro\": [{\"categories\": [\"0\", \"1\", \"2\", \"3\", \"4\", \"5\", \"6\", \"7\", \"8\", \"9\", \"10\", \"11\", \"12\", \"13\", \"14\", \"15\", \"16\", \"17\", \"18\", \"19\", \"20\", \"21\", \"22\", \"23\", \"24\", \"25\", \"26\", \"27\", \"28\", \"29\", \"30\", \"31\", \"32\", \"33\", \"34\", \"35\", \"36\", \"37\", \"38\", \"39\", \"40\", \"41\", \"43\", \"44\", \"45\"], \"mode\": \"markers\", \"name\": \"recall_score_micro\", \"stepped\": false, \"type\": \"scatter\", \"data\": [0.7853069971818545, 0.7955288602696686, 0.7887118590475521, 0.7928791008032844, 0.7953393945629615, 0.7847375962699096, 0.7459234759303267, 0.7803806378595143, 0.7853069971818545, 0.7245334250129866, 0.790985698475993, 0.7332400643430559, 0.793444486547935, 0.7784882393240465, 0.7843576610646718, 0.7894689690305129, 0.7447894421175992, 0.7275593554652702, 0.792877846063505, 0.7788671707374607, 0.8015864929772214, 0.7906035047391523, 0.7943918150814702, 0.7313466620157645, 0.7896624499045144, 0.7777293727053946, 0.7972343025779883, 0.7851165276833237, 0.793449505507053, 0.794958706513856, 0.7741352960809457, 0.7436534007212244, 0.7818966144611269, 0.7451681225830574, 0.7868209661998199, 0.79553061690536, 0.7309647192268797, 0.7493331058071867, 0.7114680706368307, 0.7945855469034278, 0.7339946648464576, 0.7519901427642921, 0.7449766492927031, 0.7989357297190136, 0.7339946648464576]}, {\"categories\": [\"0\", \"1\", \"2\", \"3\", \"4\", \"5\", \"6\", \"7\", \"8\", \"9\", \"10\", \"11\", \"12\", \"13\", \"14\", \"15\", \"16\", \"17\", \"18\", \"19\", \"20\", \"21\", \"22\", \"23\", \"24\", \"25\", \"26\", \"27\", \"28\", \"29\", \"30\", \"31\", \"32\", \"33\", \"34\", \"35\", \"36\", \"37\", \"38\", \"39\", \"40\", \"41\", \"43\", \"44\", \"45\"], \"mode\": \"lines\", \"name\": \"recall_score_micro_max\", \"stepped\": true, \"type\": \"scatter\", \"data\": [0.7853069971818545, 0.7955288602696686, 0.7955288602696686, 0.7955288602696686, 0.7955288602696686, 0.7955288602696686, 0.7955288602696686, 0.7955288602696686, 0.7955288602696686, 0.7955288602696686, 0.7955288602696686, 0.7955288602696686, 0.7955288602696686, 0.7955288602696686, 0.7955288602696686, 0.7955288602696686, 0.7955288602696686, 0.7955288602696686, 0.7955288602696686, 0.7955288602696686, 0.8015864929772214, 0.8015864929772214, 0.8015864929772214, 0.8015864929772214, 0.8015864929772214, 0.8015864929772214, 0.8015864929772214, 0.8015864929772214, 0.8015864929772214, 0.8015864929772214, 0.8015864929772214, 0.8015864929772214, 0.8015864929772214, 0.8015864929772214, 0.8015864929772214, 0.8015864929772214, 0.8015864929772214, 0.8015864929772214, 0.8015864929772214, 0.8015864929772214, 0.8015864929772214, 0.8015864929772214, 0.8015864929772214, 0.8015864929772214, 0.8015864929772214]}]}, \"metricName\": null, \"primaryMetricName\": \"AUC_weighted\", \"showLegend\": false}, \"run_metrics\": [{\"name\": \"experiment_status\", \"run_id\": \"AutoML_aa0f197a-bf52-486a-ac58-1b41f571364e\", \"categories\": [0, 1, 2, 3, 4, 5, 6, 7, 8, 9, 10, 11, 12, 13], \"series\": [{\"data\": [\"DatasetEvaluation\", \"FeaturesGeneration\", \"DatasetFeaturization\", \"DatasetFeaturizationCompleted\", \"DatasetCrossValidationSplit\", \"ModelSelection\", \"BestRunExplainModel\", \"ModelExplanationDataSetSetup\", \"PickSurrogateModel\", \"EngineeredFeatureExplanations\", \"EngineeredFeatureExplanations\", \"RawFeaturesExplanations\", \"RawFeaturesExplanations\", \"BestRunExplainModel\"]}]}, {\"name\": \"experiment_status_description\", \"run_id\": \"AutoML_aa0f197a-bf52-486a-ac58-1b41f571364e\", \"categories\": [0, 1, 2, 3, 4, 5, 6, 7, 8, 9, 10, 11, 12, 13], \"series\": [{\"data\": [\"Gathering dataset statistics.\", \"Generating features for the dataset.\", \"Beginning to fit featurizers and featurize the dataset.\", \"Completed fit featurizers and featurizing the dataset.\", \"Generating individually featurized CV splits.\", \"Beginning model selection.\", \"Best run model explanations started\", \"Model explanations data setup completed\", \"Choosing LightGBM as the surrogate model for explanations\", \"Computation of engineered features started\", \"Computation of engineered features completed\", \"Computation of raw features started\", \"Computation of raw features completed\", \"Best run model explanations completed\"]}]}, {\"name\": \"average_precision_score_weighted\", \"run_id\": \"AutoML_aa0f197a-bf52-486a-ac58-1b41f571364e\", \"categories\": [0], \"series\": [{\"data\": [0.8635094649020816]}]}, {\"name\": \"recall_score_weighted\", \"run_id\": \"AutoML_aa0f197a-bf52-486a-ac58-1b41f571364e\", \"categories\": [0], \"series\": [{\"data\": [0.7989357297190136]}]}, {\"name\": \"precision_score_binary\", \"run_id\": \"AutoML_aa0f197a-bf52-486a-ac58-1b41f571364e\", \"categories\": [0], \"series\": [{\"data\": [0.6399044453652987]}]}, {\"name\": \"AUC_binary\", \"run_id\": \"AutoML_aa0f197a-bf52-486a-ac58-1b41f571364e\", \"categories\": [0], \"series\": [{\"data\": [0.8465294645096603]}]}, {\"name\": \"average_precision_score_micro\", \"run_id\": \"AutoML_aa0f197a-bf52-486a-ac58-1b41f571364e\", \"categories\": [0], \"series\": [{\"data\": [0.8908423321302456]}]}, {\"name\": \"f1_score_macro\", \"run_id\": \"AutoML_aa0f197a-bf52-486a-ac58-1b41f571364e\", \"categories\": [0], \"series\": [{\"data\": [0.7315596713491612]}]}, {\"name\": \"average_precision_score_macro\", \"run_id\": \"AutoML_aa0f197a-bf52-486a-ac58-1b41f571364e\", \"categories\": [0], \"series\": [{\"data\": [0.7983040954151985]}]}, {\"name\": \"balanced_accuracy\", \"run_id\": \"AutoML_aa0f197a-bf52-486a-ac58-1b41f571364e\", \"categories\": [0], \"series\": [{\"data\": [0.7230086568749374]}]}, {\"name\": \"recall_score_macro\", \"run_id\": \"AutoML_aa0f197a-bf52-486a-ac58-1b41f571364e\", \"categories\": [0], \"series\": [{\"data\": [0.7230086568749374]}]}, {\"name\": \"f1_score_binary\", \"run_id\": \"AutoML_aa0f197a-bf52-486a-ac58-1b41f571364e\", \"categories\": [0], \"series\": [{\"data\": [0.5972932597014593]}]}, {\"name\": \"recall_score_binary\", \"run_id\": \"AutoML_aa0f197a-bf52-486a-ac58-1b41f571364e\", \"categories\": [0], \"series\": [{\"data\": [0.5611101759256455]}]}, {\"name\": \"average_precision_score_binary\", \"run_id\": \"AutoML_aa0f197a-bf52-486a-ac58-1b41f571364e\", \"categories\": [0], \"series\": [{\"data\": [0.659425002403332]}]}, {\"name\": \"f1_score_weighted\", \"run_id\": \"AutoML_aa0f197a-bf52-486a-ac58-1b41f571364e\", \"categories\": [0], \"series\": [{\"data\": [0.7946275258823631]}]}, {\"name\": \"AUC_weighted\", \"run_id\": \"AutoML_aa0f197a-bf52-486a-ac58-1b41f571364e\", \"categories\": [0], \"series\": [{\"data\": [0.8465294645096603]}]}, {\"name\": \"precision_score_macro\", \"run_id\": \"AutoML_aa0f197a-bf52-486a-ac58-1b41f571364e\", \"categories\": [0], \"series\": [{\"data\": [0.7438110485478037]}]}, {\"name\": \"f1_score_micro\", \"run_id\": \"AutoML_aa0f197a-bf52-486a-ac58-1b41f571364e\", \"categories\": [0], \"series\": [{\"data\": [0.7989357297190135]}]}, {\"name\": \"log_loss\", \"run_id\": \"AutoML_aa0f197a-bf52-486a-ac58-1b41f571364e\", \"categories\": [0], \"series\": [{\"data\": [0.4190715109528239]}]}, {\"name\": \"weighted_accuracy\", \"run_id\": \"AutoML_aa0f197a-bf52-486a-ac58-1b41f571364e\", \"categories\": [0], \"series\": [{\"data\": [0.8473109759383551]}]}, {\"name\": \"accuracy\", \"run_id\": \"AutoML_aa0f197a-bf52-486a-ac58-1b41f571364e\", \"categories\": [0], \"series\": [{\"data\": [0.7989357297190136]}]}, {\"name\": \"precision_score_micro\", \"run_id\": \"AutoML_aa0f197a-bf52-486a-ac58-1b41f571364e\", \"categories\": [0], \"series\": [{\"data\": [0.7989357297190136]}]}, {\"name\": \"norm_macro_recall\", \"run_id\": \"AutoML_aa0f197a-bf52-486a-ac58-1b41f571364e\", \"categories\": [0], \"series\": [{\"data\": [0.4460173137498747]}]}, {\"name\": \"precision_score_weighted\", \"run_id\": \"AutoML_aa0f197a-bf52-486a-ac58-1b41f571364e\", \"categories\": [0], \"series\": [{\"data\": [0.7927508109817394]}]}, {\"name\": \"recall_score_micro\", \"run_id\": \"AutoML_aa0f197a-bf52-486a-ac58-1b41f571364e\", \"categories\": [0], \"series\": [{\"data\": [0.7989357297190136]}]}, {\"name\": \"AUC_macro\", \"run_id\": \"AutoML_aa0f197a-bf52-486a-ac58-1b41f571364e\", \"categories\": [0], \"series\": [{\"data\": [0.8465294645096603]}]}, {\"name\": \"matthews_correlation\", \"run_id\": \"AutoML_aa0f197a-bf52-486a-ac58-1b41f571364e\", \"categories\": [0], \"series\": [{\"data\": [0.46623511980697874]}]}, {\"name\": \"AUC_micro\", \"run_id\": \"AutoML_aa0f197a-bf52-486a-ac58-1b41f571364e\", \"categories\": [0], \"series\": [{\"data\": [0.8886911983463349]}]}], \"run_logs\": \"\\nRun is completed.\", \"graph\": {}, \"widget_settings\": {\"childWidgetDisplay\": \"popup\", \"send_telemetry\": false, \"log_level\": \"INFO\", \"sdk_version\": \"1.33.0\"}, \"loading\": false}"
     },
     "metadata": {},
     "output_type": "display_data"
    },
    {
     "data": {
      "text/html": [
       "<table style=\"width:100%\"><tr><th>Experiment</th><th>Id</th><th>Type</th><th>Status</th><th>Details Page</th><th>Docs Page</th></tr><tr><td>capstone-project</td><td>AutoML_aa0f197a-bf52-486a-ac58-1b41f571364e</td><td>automl</td><td>Completed</td><td><a href=\"https://ml.azure.com/runs/AutoML_aa0f197a-bf52-486a-ac58-1b41f571364e?wsid=/subscriptions/a0a76bad-11a1-4a2d-9887-97a29122c8ed/resourcegroups/aml-quickstarts-159151/workspaces/quick-starts-ws-159151&amp;tid=660b3398-b80e-49d2-bc5b-ac1dc93b5254\" target=\"_blank\" rel=\"noopener\">Link to Azure Machine Learning studio</a></td><td><a href=\"https://docs.microsoft.com/en-us/python/api/overview/azure/ml/intro?view=azure-ml-py\" target=\"_blank\" rel=\"noopener\">Link to Documentation</a></td></tr></table>"
      ],
      "text/plain": [
       "<IPython.core.display.HTML object>"
      ]
     },
     "metadata": {},
     "output_type": "display_data"
    },
    {
     "name": "stdout",
     "output_type": "stream",
     "text": [
      "\n",
      "\n",
      "****************************************************************************************************\n",
      "DATA GUARDRAILS: \n",
      "\n",
      "TYPE:         Class balancing detection\n",
      "STATUS:       PASSED\n",
      "DESCRIPTION:  Your inputs were analyzed, and all classes are balanced in your training data.\n",
      "              Learn more about imbalanced data: https://aka.ms/AutomatedMLImbalancedData\n",
      "\n",
      "****************************************************************************************************\n",
      "\n",
      "TYPE:         Missing feature values imputation\n",
      "STATUS:       DONE\n",
      "DESCRIPTION:  If the missing values are expected, let the run complete. Otherwise cancel the current run and use a script to customize the handling of missing feature values that may be more appropriate based on the data type and business requirement.\n",
      "              Learn more about missing value imputation: https://aka.ms/AutomatedMLFeaturization\n",
      "DETAILS:      \n",
      "+---------------------------------+---------------------------------+---------------------------------+\n",
      "|Column name                      |Missing value count              |Imputation type                  |\n",
      "+=================================+=================================+=================================+\n",
      "|TotalCharges                     |7                                |mean                             |\n",
      "+---------------------------------+---------------------------------+---------------------------------+\n",
      "\n",
      "****************************************************************************************************\n",
      "\n",
      "TYPE:         High cardinality feature detection\n",
      "STATUS:       DONE\n",
      "DESCRIPTION:  The training data had the following high cardinality features which were excluded for training. Please review your data source and possibly filter out these columns. If you want to include these features for training, you can override column purpose with appropriate column type.\n",
      "              Learn more about high cardinality feature handling: https://aka.ms/AutomatedMLFeaturization\n",
      "DETAILS:      High cardinality features refer to columns that contain a large percentage of unique values.\n",
      "+---------------------------------+---------------------------------+\n",
      "|Column name                      |Column Content Type              |\n",
      "+=================================+=================================+\n",
      "|customerID                       |hashes                           |\n",
      "+---------------------------------+---------------------------------+\n",
      "\n",
      "****************************************************************************************************\n",
      "\n",
      "****************************************************************************************************\n",
      "ITERATION: The iteration being evaluated.\n",
      "PIPELINE: A summary description of the pipeline being evaluated.\n",
      "DURATION: Time taken for the current iteration.\n",
      "METRIC: The result of computing score on the fitted pipeline.\n",
      "BEST: The best observed score thus far.\n",
      "****************************************************************************************************\n",
      "\n",
      " ITERATION   PIPELINE                                       DURATION      METRIC      BEST\n",
      "         0   MaxAbsScaler LightGBM                          0:00:39       0.8263    0.8263\n",
      "         1   MaxAbsScaler XGBoostClassifier                 0:00:42       0.8428    0.8428\n",
      "         2   MaxAbsScaler ExtremeRandomTrees                0:00:40       0.8304    0.8428\n",
      "         3   MaxAbsScaler RandomForest                      0:00:39       0.8396    0.8428\n",
      "         4   StandardScalerWrapper LightGBM                 0:05:14       0.8424    0.8428\n",
      "         5   SparseNormalizer XGBoostClassifier             0:05:19       0.8301    0.8428\n",
      "         6   SparseNormalizer RandomForest                  0:05:20       0.8376    0.8428\n",
      "         7   StandardScalerWrapper XGBoostClassifier        0:00:41       0.8216    0.8428\n",
      "         8   SparseNormalizer XGBoostClassifier             0:00:40       0.8236    0.8428\n",
      "         9   MaxAbsScaler RandomForest                      0:00:40       0.8294    0.8428\n",
      "        10   SparseNormalizer LightGBM                      0:00:40       0.8381    0.8428\n",
      "        11   MaxAbsScaler ExtremeRandomTrees                0:00:56       0.8360    0.8428\n",
      "        12   StandardScalerWrapper XGBoostClassifier        0:00:40       0.8378    0.8428\n",
      "        13   StandardScalerWrapper ExtremeRandomTrees       0:00:41       0.8254    0.8428\n",
      "        14   StandardScalerWrapper RandomForest             0:01:02       0.8255    0.8428\n",
      "        15   MaxAbsScaler LightGBM                          0:00:43       0.8390    0.8428\n",
      "        16   MaxAbsScaler LogisticRegression                0:00:39       0.8413    0.8428\n",
      "        17   StandardScalerWrapper ExtremeRandomTrees       0:01:06       0.8372    0.8428\n",
      "        18   StandardScalerWrapper XGBoostClassifier        0:00:41       0.8320    0.8428\n",
      "        19   MaxAbsScaler ExtremeRandomTrees                0:00:50       0.8283    0.8428\n",
      "        20   MaxAbsScaler LogisticRegression                0:00:39       0.8417    0.8428\n",
      "        21   StandardScalerWrapper XGBoostClassifier        0:00:39       0.8299    0.8428\n",
      "        22   StandardScalerWrapper XGBoostClassifier        0:00:43       0.8381    0.8428\n",
      "        23   MaxAbsScaler RandomForest                      0:00:39       0.8341    0.8428\n",
      "        24   SparseNormalizer XGBoostClassifier             0:00:39       0.8358    0.8428\n",
      "        25   TruncatedSVDWrapper XGBoostClassifier          0:00:41       0.8150    0.8428\n",
      "        26   StandardScalerWrapper LightGBM                 0:00:43       0.8457    0.8457\n",
      "        27   SparseNormalizer XGBoostClassifier             0:00:43       0.8291    0.8457\n",
      "        28   MaxAbsScaler LightGBM                          0:00:41       0.8443    0.8457\n",
      "        29   StandardScalerWrapper LightGBM                 0:00:41       0.8434    0.8457\n",
      "        30   TruncatedSVDWrapper XGBoostClassifier          0:00:54       0.8178    0.8457\n",
      "        31   TruncatedSVDWrapper LogisticRegression         0:00:42       0.8419    0.8457\n",
      "        32   StandardScalerWrapper XGBoostClassifier        0:00:50       0.8205    0.8457\n",
      "        33   StandardScalerWrapper LogisticRegression       0:00:46       0.8418    0.8457\n",
      "        34   StandardScalerWrapper GradientBoosting         0:00:46       0.8317    0.8457\n",
      "        35   StandardScalerWrapper LightGBM                 0:00:42       0.8391    0.8457\n",
      "        36   MaxAbsScaler SGD                               0:00:41       0.8384    0.8457\n",
      "        37   StandardScalerWrapper LogisticRegression       0:00:42       0.8409    0.8457\n",
      "        38   MaxAbsScaler RandomForest                      0:00:46       0.8209    0.8457\n",
      "        39   MaxAbsScaler LightGBM                          0:00:45       0.8388    0.8457\n",
      "        40   TruncatedSVDWrapper LightGBM                   0:00:39       0.8040    0.8457\n",
      "        41   MaxAbsScaler SGD                               0:00:16       0.8139    0.8457\n",
      "        42                                                  0:00:28          nan    0.8457\n",
      "        43   MaxAbsScaler LogisticRegression                0:00:03       0.8403    0.8457\n",
      "        44    VotingEnsemble                                0:01:15       0.8465    0.8465\n",
      "        45    StackEnsemble                                 0:01:28       0.8464    0.8465\n"
     ]
    },
    {
     "data": {
      "text/plain": [
       "{'runId': 'AutoML_aa0f197a-bf52-486a-ac58-1b41f571364e',\n",
       " 'target': 'automl-cluster',\n",
       " 'status': 'Completed',\n",
       " 'startTimeUtc': '2021-09-24T04:01:50.806418Z',\n",
       " 'endTimeUtc': '2021-09-24T04:31:31.873562Z',\n",
       " 'properties': {'num_iterations': '1000',\n",
       "  'training_type': 'TrainFull',\n",
       "  'acquisition_function': 'EI',\n",
       "  'primary_metric': 'AUC_weighted',\n",
       "  'train_split': '0',\n",
       "  'acquisition_parameter': '0',\n",
       "  'num_cross_validation': '7',\n",
       "  'target': 'automl-cluster',\n",
       "  'AMLSettingsJsonString': '{\"path\":null,\"name\":\"capstone-project\",\"subscription_id\":\"a0a76bad-11a1-4a2d-9887-97a29122c8ed\",\"resource_group\":\"aml-quickstarts-159151\",\"workspace_name\":\"quick-starts-ws-159151\",\"region\":\"southcentralus\",\"compute_target\":\"automl-cluster\",\"spark_service\":null,\"azure_service\":\"remote\",\"many_models\":false,\"pipeline_fetch_max_batch_size\":1,\"enable_batch_run\":false,\"enable_run_restructure\":false,\"start_auxiliary_runs_before_parent_complete\":false,\"enable_code_generation\":false,\"iterations\":1000,\"primary_metric\":\"AUC_weighted\",\"task_type\":\"classification\",\"data_script\":null,\"test_size\":0.0,\"validation_size\":0.0,\"n_cross_validations\":7,\"y_min\":null,\"y_max\":null,\"num_classes\":null,\"featurization\":\"auto\",\"_ignore_package_version_incompatibilities\":false,\"is_timeseries\":false,\"max_cores_per_iteration\":1,\"max_concurrent_iterations\":5,\"iteration_timeout_minutes\":null,\"mem_in_mb\":null,\"enforce_time_on_windows\":false,\"experiment_timeout_minutes\":25,\"experiment_exit_score\":null,\"whitelist_models\":null,\"blacklist_algos\":[\"TensorFlowLinearClassifier\",\"TensorFlowDNN\"],\"supported_models\":[\"SVM\",\"SGD\",\"DecisionTree\",\"AveragedPerceptronClassifier\",\"KNN\",\"ExtremeRandomTrees\",\"GradientBoosting\",\"LinearSVM\",\"TensorFlowLinearClassifier\",\"TensorFlowDNN\",\"LogisticRegression\",\"MultinomialNaiveBayes\",\"RandomForest\",\"XGBoostClassifier\",\"BernoulliNaiveBayes\",\"LightGBM\"],\"private_models\":[],\"auto_blacklist\":true,\"blacklist_samples_reached\":false,\"exclude_nan_labels\":true,\"verbosity\":20,\"_debug_log\":\"azureml_automl.log\",\"show_warnings\":false,\"model_explainability\":true,\"service_url\":null,\"sdk_url\":null,\"sdk_packages\":null,\"enable_onnx_compatible_models\":false,\"enable_split_onnx_featurizer_estimator_models\":false,\"vm_type\":\"STANDARD_D2_V2\",\"telemetry_verbosity\":20,\"send_telemetry\":true,\"enable_dnn\":false,\"scenario\":\"SDK-1.13.0\",\"environment_label\":null,\"save_mlflow\":false,\"force_text_dnn\":false,\"enable_feature_sweeping\":true,\"enable_early_stopping\":true,\"early_stopping_n_iters\":10,\"metrics\":null,\"enable_metric_confidence\":false,\"enable_ensembling\":true,\"enable_stack_ensembling\":true,\"ensemble_iterations\":15,\"enable_tf\":false,\"enable_subsampling\":null,\"subsample_seed\":null,\"enable_nimbusml\":false,\"enable_streaming\":false,\"force_streaming\":false,\"track_child_runs\":true,\"allowed_private_models\":[],\"label_column_name\":\"Churn\",\"weight_column_name\":null,\"cv_split_column_names\":null,\"enable_local_managed\":false,\"_local_managed_run_id\":null,\"cost_mode\":1,\"lag_length\":0,\"metric_operation\":\"maximize\",\"preprocess\":true}',\n",
       "  'DataPrepJsonString': '{\\\\\"training_data\\\\\": {\\\\\"datasetId\\\\\": \\\\\"ee0e0a33-27bd-424d-a9a2-7b449307835d\\\\\"}, \\\\\"datasets\\\\\": 0}',\n",
       "  'EnableSubsampling': None,\n",
       "  'runTemplate': 'AutoML',\n",
       "  'azureml.runsource': 'automl',\n",
       "  'display_task_type': 'classification',\n",
       "  'dependencies_versions': '{\"azureml-widgets\": \"1.33.0\", \"azureml-train\": \"1.33.0\", \"azureml-train-restclients-hyperdrive\": \"1.33.0\", \"azureml-train-core\": \"1.33.0\", \"azureml-train-automl\": \"1.33.0\", \"azureml-train-automl-runtime\": \"1.33.0\", \"azureml-train-automl-client\": \"1.33.0\", \"azureml-tensorboard\": \"1.33.0\", \"azureml-telemetry\": \"1.33.0\", \"azureml-sdk\": \"1.33.0\", \"azureml-samples\": \"0+unknown\", \"azureml-responsibleai\": \"1.33.0\", \"azureml-pipeline\": \"1.33.0\", \"azureml-pipeline-steps\": \"1.33.0\", \"azureml-pipeline-core\": \"1.33.0\", \"azureml-opendatasets\": \"1.33.0\", \"azureml-mlflow\": \"1.33.0\", \"azureml-interpret\": \"1.33.0\", \"azureml-explain-model\": \"1.33.0\", \"azureml-defaults\": \"1.33.0\", \"azureml-dataset-runtime\": \"1.33.0\", \"azureml-dataprep\": \"2.20.1\", \"azureml-dataprep-rslex\": \"1.18.0\", \"azureml-dataprep-native\": \"38.0.0\", \"azureml-datadrift\": \"1.33.0\", \"azureml-core\": \"1.33.0\", \"azureml-contrib-services\": \"1.33.0\", \"azureml-contrib-server\": \"1.33.0\", \"azureml-contrib-reinforcementlearning\": \"1.33.0\", \"azureml-contrib-pipeline-steps\": \"1.33.0\", \"azureml-contrib-notebook\": \"1.33.0\", \"azureml-contrib-fairness\": \"1.33.0\", \"azureml-contrib-dataset\": \"1.33.0\", \"azureml-cli-common\": \"1.33.0\", \"azureml-automl-runtime\": \"1.33.0\", \"azureml-automl-dnn-nlp\": \"1.33.0\", \"azureml-automl-core\": \"1.33.0\", \"azureml-accel-models\": \"1.33.0\"}',\n",
       "  '_aml_system_scenario_identification': 'Remote.Parent',\n",
       "  'ClientType': 'SDK',\n",
       "  'environment_cpu_name': 'AzureML-AutoML',\n",
       "  'environment_cpu_label': 'prod',\n",
       "  'environment_gpu_name': 'AzureML-AutoML-GPU',\n",
       "  'environment_gpu_label': 'prod',\n",
       "  'root_attribution': 'automl',\n",
       "  'attribution': 'AutoML',\n",
       "  'Orchestrator': 'AutoML',\n",
       "  'CancelUri': 'https://southcentralus.api.azureml.ms/jasmine/v1.0/subscriptions/a0a76bad-11a1-4a2d-9887-97a29122c8ed/resourceGroups/aml-quickstarts-159151/providers/Microsoft.MachineLearningServices/workspaces/quick-starts-ws-159151/experimentids/dbf170fb-c963-45af-8c6a-3a70c3d6a01a/cancel/AutoML_aa0f197a-bf52-486a-ac58-1b41f571364e',\n",
       "  'ClientSdkVersion': '1.34.0',\n",
       "  'snapshotId': '00000000-0000-0000-0000-000000000000',\n",
       "  'SetupRunId': 'AutoML_aa0f197a-bf52-486a-ac58-1b41f571364e_setup',\n",
       "  'SetupRunContainerId': 'dcid.AutoML_aa0f197a-bf52-486a-ac58-1b41f571364e_setup',\n",
       "  'FeaturizationRunJsonPath': 'featurizer_container.json',\n",
       "  'FeaturizationRunId': 'AutoML_aa0f197a-bf52-486a-ac58-1b41f571364e_featurize',\n",
       "  'ProblemInfoJsonString': '{\"dataset_num_categorical\": 0, \"is_sparse\": true, \"subsampling\": false, \"has_extra_col\": true, \"dataset_classes\": 2, \"dataset_features\": 41, \"dataset_samples\": 5282, \"single_frequency_class_detected\": false}',\n",
       "  'ModelExplainRunId': 'AutoML_aa0f197a-bf52-486a-ac58-1b41f571364e_ModelExplain'},\n",
       " 'inputDatasets': [{'dataset': {'id': 'ee0e0a33-27bd-424d-a9a2-7b449307835d'}, 'consumptionDetails': {'type': 'RunInput', 'inputName': 'training_data', 'mechanism': 'Direct'}}],\n",
       " 'outputDatasets': [],\n",
       " 'logFiles': {},\n",
       " 'submittedBy': 'ODL_User 159151'}"
      ]
     },
     "execution_count": 12,
     "metadata": {},
     "output_type": "execute_result"
    }
   ],
   "source": [
    "from azureml.widgets import RunDetails\n",
    "RunDetails(remote_run).show()\n",
    "remote_run.wait_for_completion(show_output=True)\n"
   ]
  },
  {
   "cell_type": "markdown",
   "metadata": {},
   "source": [
    "## Best Model\n",
    "\n",
    "TODO: In the cell below, get the best model from the automl experiments and display all the properties of the model.\n",
    "\n"
   ]
  },
  {
   "cell_type": "code",
   "execution_count": 13,
   "metadata": {
    "collapsed": false,
    "gather": {
     "logged": 1598431425670
    },
    "jupyter": {
     "outputs_hidden": false,
     "source_hidden": false
    },
    "nteract": {
     "transient": {
      "deleting": false
     }
    }
   },
   "outputs": [
    {
     "name": "stderr",
     "output_type": "stream",
     "text": [
      "WARNING:root:The version of the SDK does not match the version the model was trained on.\n",
      "WARNING:root:The consistency in the result may not be guaranteed.\n",
      "WARNING:root:Package:azureml-automl-core, training version:1.34.0, current version:1.33.0\n",
      "Package:azureml-automl-runtime, training version:1.34.0, current version:1.33.0\n",
      "Package:azureml-core, training version:1.34.0, current version:1.33.0\n",
      "Package:azureml-dataprep, training version:2.22.2, current version:2.20.1\n",
      "Package:azureml-dataprep-rslex, training version:1.20.2, current version:1.18.0\n",
      "Package:azureml-dataset-runtime, training version:1.34.0, current version:1.33.0\n",
      "Package:azureml-defaults, training version:1.34.0, current version:1.33.0\n",
      "Package:azureml-interpret, training version:1.34.0, current version:1.33.0\n",
      "Package:azureml-mlflow, training version:1.34.0, current version:1.33.0\n",
      "Package:azureml-pipeline-core, training version:1.34.0, current version:1.33.0\n",
      "Package:azureml-responsibleai, training version:1.34.0, current version:1.33.0\n",
      "Package:azureml-telemetry, training version:1.34.0, current version:1.33.0\n",
      "Package:azureml-train-automl-client, training version:1.34.0, current version:1.33.0\n",
      "Package:azureml-train-automl-runtime, training version:1.34.0, current version:1.33.0\n",
      "WARNING:root:Below packages were used for model training but missing in current environment:\n",
      "WARNING:root:Package:azureml-inference-server-http, training version:0.3.1\n",
      "WARNING:root:Please ensure the version of your local conda dependencies match the version on which your model was trained in order to properly retrieve your model.\n"
     ]
    },
    {
     "name": "stdout",
     "output_type": "stream",
     "text": [
      "Pipeline(memory=None,\n",
      "         steps=[('datatransformer',\n",
      "                 DataTransformer(enable_dnn=False, enable_feature_sweeping=True, feature_sweeping_config={}, feature_sweeping_timeout=86400, featurization_config=None, force_text_dnn=False, is_cross_validation=True, is_onnx_compatible=False, observer=None, task='classification', working_dir='/mnt/batch/tasks/shared/LS_root/mount...\n",
      "), random_state=0, reg_alpha=0.4166666666666667, reg_lambda=0, subsample=0.5, tree_method='auto'))], verbose=False))], flatten_transform=None, weights=[0.15384615384615385, 0.23076923076923078, 0.07692307692307693, 0.07692307692307693, 0.07692307692307693, 0.07692307692307693, 0.07692307692307693, 0.07692307692307693, 0.07692307692307693, 0.07692307692307693]))],\n",
      "         verbose=False)\n",
      "Y_transformer(['LabelEncoder', LabelEncoder()])\n"
     ]
    }
   ],
   "source": [
    "best_automl, best_fit_model = remote_run.get_output()\n",
    "print(best_fit_model)"
   ]
  },
  {
   "cell_type": "code",
   "execution_count": 14,
   "metadata": {},
   "outputs": [
    {
     "name": "stdout",
     "output_type": "stream",
     "text": [
      "Run(Experiment: capstone-project,\n",
      "Id: AutoML_aa0f197a-bf52-486a-ac58-1b41f571364e_44,\n",
      "Type: azureml.scriptrun,\n",
      "Status: Completed)\n"
     ]
    }
   ],
   "source": [
    "print(best_automl)"
   ]
  },
  {
   "cell_type": "code",
   "execution_count": 15,
   "metadata": {
    "collapsed": false,
    "gather": {
     "logged": 1598431426111
    },
    "jupyter": {
     "outputs_hidden": false,
     "source_hidden": false
    },
    "nteract": {
     "transient": {
      "deleting": false
     }
    }
   },
   "outputs": [
    {
     "data": {
      "text/plain": [
       "['best_fit_automl_model.pkl']"
      ]
     },
     "execution_count": 15,
     "metadata": {},
     "output_type": "execute_result"
    }
   ],
   "source": [
    "#TODO: Save the best model\n",
    "joblib.dump(best_fit_model, 'best_fit_automl_model.pkl')"
   ]
  },
  {
   "cell_type": "code",
   "execution_count": 18,
   "metadata": {},
   "outputs": [],
   "source": [
    "#joblib.dump(best_fit_model,'./outputs/bestmodel.joblib')\n",
    "#best_class.register_model(model_name='best_fit_automl_model.pkl',model_path='/outputs/')"
   ]
  },
  {
   "cell_type": "markdown",
   "metadata": {},
   "source": [
    "## Model Deployment\n",
    "\n",
    "Remember you have to deploy only one of the two models you trained.. Perform the steps in the rest of this notebook only if you wish to deploy this model.\n",
    "\n",
    "TODO: In the cell below, register the model, create an inference config and deploy the model as a web service."
   ]
  },
  {
   "cell_type": "code",
   "execution_count": 16,
   "metadata": {
    "collapsed": false,
    "gather": {
     "logged": 1598431435189
    },
    "jupyter": {
     "outputs_hidden": false,
     "source_hidden": false
    },
    "nteract": {
     "transient": {
      "deleting": false
     }
    }
   },
   "outputs": [
    {
     "name": "stdout",
     "output_type": "stream",
     "text": [
      "Registering model best_fit_automl_model\n",
      "best_fit_automl_model\tbest_fit_automl_model:1\t1\n"
     ]
    }
   ],
   "source": [
    "from azureml.core.model import Model\n",
    "model = Model.register(workspace = ws, model_name = 'best_fit_automl_model', model_path = 'best_fit_automl_model.pkl')\n",
    "print(model.name, model.id, model.version, sep='\\t')"
   ]
  },
  {
   "cell_type": "markdown",
   "metadata": {
    "gather": {
     "logged": 1598431657736
    },
    "jupyter": {
     "outputs_hidden": false,
     "source_hidden": false
    },
    "nteract": {
     "transient": {
      "deleting": false
     }
    }
   },
   "source": [
    "TODO: In the cell below, send a request to the web service you deployed to test it."
   ]
  },
  {
   "cell_type": "code",
   "execution_count": 17,
   "metadata": {
    "collapsed": false,
    "gather": {
     "logged": 1598432707604
    },
    "jupyter": {
     "outputs_hidden": false,
     "source_hidden": false
    },
    "nteract": {
     "transient": {
      "deleting": false
     }
    }
   },
   "outputs": [
    {
     "name": "stdout",
     "output_type": "stream",
     "text": [
      "Tips: You can try get_logs(): https://aka.ms/debugimage#dockerlog or local deployment: https://aka.ms/debugimage#debug-locally to debug if deployment takes longer than 10 minutes.\n",
      "Running\n",
      "2021-09-24 04:46:41+00:00 Creating Container Registry if not exists..\n",
      "2021-09-24 04:56:42+00:00 Registering the environment.\n",
      "2021-09-24 04:56:42+00:00 Use the existing image.\n",
      "2021-09-24 04:56:42+00:00 Generating deployment configuration..\n",
      "2021-09-24 04:56:49+00:00 Submitting deployment to compute..\n",
      "2021-09-24 04:56:51+00:00 Checking the status of deployment customerservice..\n",
      "2021-09-24 05:02:26+00:00 Checking the status of inference endpoint customerservice.\n",
      "Succeeded\n",
      "ACI service creation operation finished, operation \"Succeeded\"\n",
      "Healthy\n",
      "http://5ab250f3-7fd4-4383-8c40-22990a95eb8e.southcentralus.azurecontainer.io/score\n",
      "http://5ab250f3-7fd4-4383-8c40-22990a95eb8e.southcentralus.azurecontainer.io/swagger.json\n"
     ]
    }
   ],
   "source": [
    "from azureml.core.environment import Environment\n",
    "from azureml.core.model import InferenceConfig\n",
    "from azureml.core.webservice import LocalWebservice, Webservice, AciWebservice\n",
    "from azureml.core.conda_dependencies import CondaDependencies\n",
    "import azureml.train.automl\n",
    "\n",
    "# Create the environment\n",
    "env = best_automl.get_environment()\n",
    "conda_dep = CondaDependencies()\n",
    "\n",
    "# Define the packages needed by the model and the script\n",
    "#conda_dep.add_conda_package(\"numpy\")\n",
    "#conda_dep.add_conda_package(\"scikit-learn\")\n",
    "#conda_dep.add_conda_package(\"pandas\")\n",
    "# Define azureml-defaults as a pip dependency\n",
    "#conda_dep.add_pip_package(\"azureml-defaults\")\n",
    "#conda_dep.add_pip_package(\"azureml-train\")\n",
    "\n",
    "# Adds dependencies to PythonSection of myenv\n",
    "#env.python.conda_dependencies=conda_dep\n",
    "\n",
    "inference_config = InferenceConfig(entry_script='score.py', environment=env)\n",
    "\n",
    "deployment_config = AciWebservice.deploy_configuration(cpu_cores=1, memory_gb=4, enable_app_insights=True)\n",
    "service = Model.deploy(ws, \"customerservice\", [model], inference_config, deployment_config)\n",
    "service.wait_for_deployment(show_output = True)\n",
    "\n",
    "print(service.state)\n",
    "print(service.scoring_uri)\n",
    "print(service.swagger_uri)"
   ]
  },
  {
   "cell_type": "markdown",
   "metadata": {
    "gather": {
     "logged": 1598432765711
    },
    "jupyter": {
     "outputs_hidden": false,
     "source_hidden": false
    },
    "nteract": {
     "transient": {
      "deleting": false
     }
    }
   },
   "source": [
    "TODO: In the cell below, print the logs of the web service and delete the service"
   ]
  },
  {
   "cell_type": "code",
   "execution_count": 18,
   "metadata": {},
   "outputs": [
    {
     "name": "stdout",
     "output_type": "stream",
     "text": [
      "Response Code :  200\n",
      "Predicted Value :  \"DataException:\\n\\tMessage: The number of features in [fitted data](21) does not match with those in [input data](19). Please inspect your data, and make sure that features are aligned in both the Datasets.\\n\\tInnerException: None\\n\\tErrorResponse \\n{\\n    \\\"error\\\": {\\n        \\\"code\\\": \\\"UserError\\\",\\n        \\\"message\\\": \\\"The number of features in [fitted data](21) does not match with those in [input data](19). Please inspect your data, and make sure that features are aligned in both the Datasets.\\\",\\n        \\\"target\\\": \\\"X\\\",\\n        \\\"inner_error\\\": {\\n            \\\"code\\\": \\\"BadData\\\",\\n            \\\"inner_error\\\": {\\n                \\\"code\\\": \\\"InvalidDimension\\\",\\n                \\\"inner_error\\\": {\\n                    \\\"code\\\": \\\"DataShapeMismatch\\\"\\n                }\\n            }\\n        },\\n        \\\"reference_code\\\": \\\"c402b6c2-3870-45a7-8745-c063bd385962\\\"\\n    }\\n}\"\n"
     ]
    }
   ],
   "source": [
    "import requests\n",
    "import json\n",
    "\n",
    "# URL for the web service\n",
    "scoring_uri = 'http://5ab250f3-7fd4-4383-8c40-22990a95eb8e.southcentralus.azurecontainer.io/score'\n",
    "\n",
    "# Set the content type\n",
    "headers = {'Content-Type': 'application/json'}\n",
    "\n",
    "# Two sets of data to score, so we get two results back\n",
    "data = {\"data\":\n",
    "        [{\n",
    "         \n",
    "            \"gender\":\"Female\",\n",
    "            \"SeniorCitizen\":0,\n",
    "            \"Partner\":\"Yes\",\n",
    "            \"Dependents\":\"No\",\n",
    "            \"tenure\":1,\n",
    "            \"PhoneService\":\"No\",\n",
    "            \"MultipleLines\":\"No phone service\",\n",
    "            \"InternetService\":\"DSL\",\n",
    "            \"OnlineSecurity\":\"No\",\n",
    "            \"OnlineBackup\":\"Yes\",\n",
    "            \"DeviceProtection\":\"No\",\n",
    "            \"TechSupport\":\"No\",\n",
    "            \"StreamingTV\":\"No\",\n",
    "            \"StreamingMovies\":\"No\",\n",
    "            \"Contract\":\"Month-to-month\",\n",
    "            \"PaperlessBilling\":\"Yes\",\n",
    "            \"PaymentMethod\":\"Electronic check\",\n",
    "            \"MonthlyCharges\":29.85,\n",
    "            \"TotalCharges\":29.85}\n",
    "        ]\n",
    "        }\n",
    "# Convert to JSON string\n",
    "input_data = json.dumps(data)\n",
    "\n",
    "# Make the request and display the response\n",
    "resp = requests.post(scoring_uri, input_data, headers=headers)\n",
    "\n",
    "print(\"Response Code : \", resp.status_code)\n",
    "print(\"Predicted Value : \",resp.text)"
   ]
  },
  {
   "cell_type": "code",
   "execution_count": 25,
   "metadata": {
    "collapsed": false,
    "jupyter": {
     "outputs_hidden": false,
     "source_hidden": false
    },
    "nteract": {
     "transient": {
      "deleting": false
     }
    }
   },
   "outputs": [
    {
     "name": "stdout",
     "output_type": "stream",
     "text": [
      "2021-09-18T18:53:07,813563500+00:00 - iot-server/run \n",
      "2021-09-18T18:53:07,807115300+00:00 - rsyslog/run \n",
      "2021-09-18T18:53:07,817811500+00:00 - gunicorn/run \n",
      "Dynamic Python package installation is disabled.\n",
      "Starting HTTP server\n",
      "2021-09-18T18:53:07,838277400+00:00 - nginx/run \n",
      "rsyslogd: /azureml-envs/azureml_77e992fdaf2b83b0c81ee1c90ded8d17/lib/libuuid.so.1: no version information available (required by rsyslogd)\n",
      "EdgeHubConnectionString and IOTEDGE_IOTHUBHOSTNAME are not set. Exiting...\n",
      "2021-09-18T18:53:08,181306600+00:00 - iot-server/finish 1 0\n",
      "2021-09-18T18:53:08,183102400+00:00 - Exit code 1 is normal. Not restarting iot-server.\n",
      "Starting gunicorn 20.1.0\n",
      "Listening at: http://127.0.0.1:31311 (62)\n",
      "Using worker: sync\n",
      "worker timeout is set to 300\n",
      "Booting worker with pid: 90\n",
      "SPARK_HOME not set. Skipping PySpark Initialization.\n",
      "Generating new fontManager, this may take some time...\n",
      "Initializing logger\n",
      "2021-09-18 18:53:13,906 | root | INFO | Starting up app insights client\n",
      "logging socket was found. logging is available.\n",
      "logging socket was found. logging is available.\n",
      "2021-09-18 18:53:13,908 | root | INFO | Starting up request id generator\n",
      "2021-09-18 18:53:13,908 | root | INFO | Starting up app insight hooks\n",
      "2021-09-18 18:53:13,909 | root | INFO | Invoking user's init function\n",
      "2021-09-18 18:53:17,116 | root | INFO | Users's init has completed successfully\n",
      "/azureml-envs/azureml_77e992fdaf2b83b0c81ee1c90ded8d17/lib/python3.6/site-packages/sklearn/externals/joblib/__init__.py:15: FutureWarning: sklearn.externals.joblib is deprecated in 0.21 and will be removed in 0.23. Please import this functionality directly from joblib, which can be installed with: pip install joblib. If this warning is raised when loading pickled models, you may need to re-serialize those models with scikit-learn 0.21+.\n",
      "  warnings.warn(msg, category=FutureWarning)\n",
      "2021-09-18 18:53:17,125 | root | INFO | Skipping middleware: dbg_model_info as it's not enabled.\n",
      "2021-09-18 18:53:17,126 | root | INFO | Skipping middleware: dbg_resource_usage as it's not enabled.\n",
      "2021-09-18 18:53:17,128 | root | INFO | Scoring timeout is found from os.environ: 60000 ms\n",
      "2021-09-18 18:53:20,262 | root | INFO | Swagger file not present\n",
      "2021-09-18 18:53:20,263 | root | INFO | 404\n",
      "127.0.0.1 - - [18/Sep/2021:18:53:20 +0000] \"GET /swagger.json HTTP/1.0\" 404 19 \"-\" \"Go-http-client/1.1\"\n",
      "2021-09-18 18:53:22,161 | root | INFO | Swagger file not present\n",
      "2021-09-18 18:53:22,161 | root | INFO | 404\n",
      "127.0.0.1 - - [18/Sep/2021:18:53:22 +0000] \"GET /swagger.json HTTP/1.0\" 404 19 \"-\" \"Go-http-client/1.1\"\n",
      "\n"
     ]
    }
   ],
   "source": [
    "# Web Service Logs\n",
    "print(service.get_logs())"
   ]
  },
  {
   "cell_type": "code",
   "execution_count": 26,
   "metadata": {},
   "outputs": [],
   "source": [
    "# Delete the service\n",
    "service.delete()"
   ]
  }
 ],
 "metadata": {
  "kernel_info": {
   "name": "python3-azureml"
  },
  "kernelspec": {
   "display_name": "Python 3",
   "language": "python",
   "name": "python3"
  },
  "language_info": {
   "codemirror_mode": {
    "name": "ipython",
    "version": 3
   },
   "file_extension": ".py",
   "mimetype": "text/x-python",
   "name": "python",
   "nbconvert_exporter": "python",
   "pygments_lexer": "ipython3",
   "version": "3.6.9"
  },
  "nteract": {
   "version": "nteract-front-end@1.0.0"
  }
 },
 "nbformat": 4,
 "nbformat_minor": 4
}
