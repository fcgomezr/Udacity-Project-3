{
 "cells": [
  {
   "cell_type": "markdown",
   "metadata": {},
   "source": [
    "# Automated ML\n",
    "\n",
    "TODO: Import Dependencies. In the cell below, import all the dependencies that you will need to complete the project."
   ]
  },
  {
   "cell_type": "code",
   "execution_count": 1,
   "metadata": {
    "collapsed": false,
    "gather": {
     "logged": 1598423888013
    },
    "jupyter": {
     "outputs_hidden": false,
     "source_hidden": false
    },
    "nteract": {
     "transient": {
      "deleting": false
     }
    }
   },
   "outputs": [
    {
     "name": "stdout",
     "output_type": "stream",
     "text": [
      "SDK version: 1.33.0\n"
     ]
    }
   ],
   "source": [
    "import logging\n",
    "import os\n",
    "import csv\n",
    "import joblib, pickle\n",
    "import json\n",
    "\n",
    "from matplotlib import pyplot as plt\n",
    "import numpy as np\n",
    "import pandas as pd\n",
    "\n",
    "import azureml.core\n",
    "from azureml.core.experiment import Experiment\n",
    "from azureml.core.workspace import Workspace\n",
    "from azureml.train.automl import AutoMLConfig\n",
    "from azureml.core.dataset import Dataset\n",
    "from azureml.data.dataset_factory import TabularDatasetFactory\n",
    "\n",
    "#from azureml.pipeline.steps import AutoMLStep\n",
    "\n",
    "# Check core SDK version number\n",
    "print(\"SDK version:\", azureml.core.VERSION)"
   ]
  },
  {
   "cell_type": "markdown",
   "metadata": {},
   "source": [
    "## Dataset\n",
    "\n",
    "### Overview\n",
    "TODO: In this markdown cell, give an overview of the dataset you are using. Also mention the task you will be performing.\n",
    "\n",
    "\n",
    "TODO: Get data. In the cell below, write code to access the data you will be using in this project. Remember that the dataset needs to be external."
   ]
  },
  {
   "cell_type": "code",
   "execution_count": 2,
   "metadata": {
    "collapsed": false,
    "gather": {
     "logged": 1598423890461
    },
    "jupyter": {
     "outputs_hidden": false,
     "source_hidden": false
    },
    "nteract": {
     "transient": {
      "deleting": false
     }
    }
   },
   "outputs": [],
   "source": [
    "ws = Workspace.from_config()\n",
    "\n",
    "# choose a name for experiment\n",
    "experiment_name = 'capstone-project'\n",
    "\n",
    "experiment=Experiment(ws, experiment_name)"
   ]
  },
  {
   "cell_type": "code",
   "execution_count": 3,
   "metadata": {},
   "outputs": [],
   "source": [
    "from azureml.core.compute import ComputeTarget, AmlCompute\n",
    "from azureml.core.compute_target import ComputeTargetException\n",
    "\n",
    "compute_cluster = 'automl-cluster'\n",
    "\n",
    "try:\n",
    "    comp_trget = ComputeTarget(workspace=ws, name=compute_cluster)\n",
    "    print('Cluster already exists')\n",
    "except ComputeTargetException:\n",
    "    compute_confg = AmlCompute.provisioning_configuration(vm_size=\"STANDARD_D2_V2\",max_nodes=4) ## VER\n",
    "    comp_trget = ComputeTarget.create(ws,compute_cluster,compute_confg)"
   ]
  },
  {
   "cell_type": "code",
   "execution_count": 13,
   "metadata": {},
   "outputs": [],
   "source": [
    "data_link = 'https://raw.githubusercontent.com/fcgomezr/Udacity-Project-3/main/data%20sets/WA_Fn-UseC_-Telco-Customer-Churn.csv'\n",
    "input_data = TabularDatasetFactory.from_delimited_files(path=data_link, separator = \",\")"
   ]
  },
  {
   "cell_type": "code",
   "execution_count": 15,
   "metadata": {},
   "outputs": [
    {
     "data": {
      "text/html": [
       "<div>\n",
       "<style scoped>\n",
       "    .dataframe tbody tr th:only-of-type {\n",
       "        vertical-align: middle;\n",
       "    }\n",
       "\n",
       "    .dataframe tbody tr th {\n",
       "        vertical-align: top;\n",
       "    }\n",
       "\n",
       "    .dataframe thead th {\n",
       "        text-align: right;\n",
       "    }\n",
       "</style>\n",
       "<table border=\"1\" class=\"dataframe\">\n",
       "  <thead>\n",
       "    <tr style=\"text-align: right;\">\n",
       "      <th></th>\n",
       "      <th>SeniorCitizen</th>\n",
       "      <th>Partner</th>\n",
       "      <th>Dependents</th>\n",
       "      <th>tenure</th>\n",
       "      <th>PhoneService</th>\n",
       "      <th>MultipleLines</th>\n",
       "      <th>OnlineSecurity</th>\n",
       "      <th>OnlineBackup</th>\n",
       "      <th>DeviceProtection</th>\n",
       "      <th>TechSupport</th>\n",
       "      <th>...</th>\n",
       "      <th>gender_Male</th>\n",
       "      <th>InternetService_Fiber optic</th>\n",
       "      <th>InternetService_No</th>\n",
       "      <th>PaymentMethod_Bank transfer (automatic)</th>\n",
       "      <th>PaymentMethod_Credit card (automatic)</th>\n",
       "      <th>PaymentMethod_Electronic check</th>\n",
       "      <th>PaymentMethod_Mailed check</th>\n",
       "      <th>Contract_One year</th>\n",
       "      <th>Contract_Two year</th>\n",
       "      <th>Churn</th>\n",
       "    </tr>\n",
       "  </thead>\n",
       "  <tbody>\n",
       "    <tr>\n",
       "      <th>0</th>\n",
       "      <td>0</td>\n",
       "      <td>1</td>\n",
       "      <td>0</td>\n",
       "      <td>1</td>\n",
       "      <td>0</td>\n",
       "      <td>0</td>\n",
       "      <td>0</td>\n",
       "      <td>1</td>\n",
       "      <td>0</td>\n",
       "      <td>0</td>\n",
       "      <td>...</td>\n",
       "      <td>0</td>\n",
       "      <td>0</td>\n",
       "      <td>0</td>\n",
       "      <td>0</td>\n",
       "      <td>0</td>\n",
       "      <td>1</td>\n",
       "      <td>0</td>\n",
       "      <td>0</td>\n",
       "      <td>0</td>\n",
       "      <td>0</td>\n",
       "    </tr>\n",
       "    <tr>\n",
       "      <th>1</th>\n",
       "      <td>0</td>\n",
       "      <td>0</td>\n",
       "      <td>0</td>\n",
       "      <td>34</td>\n",
       "      <td>1</td>\n",
       "      <td>0</td>\n",
       "      <td>1</td>\n",
       "      <td>0</td>\n",
       "      <td>1</td>\n",
       "      <td>0</td>\n",
       "      <td>...</td>\n",
       "      <td>1</td>\n",
       "      <td>0</td>\n",
       "      <td>0</td>\n",
       "      <td>0</td>\n",
       "      <td>0</td>\n",
       "      <td>0</td>\n",
       "      <td>1</td>\n",
       "      <td>1</td>\n",
       "      <td>0</td>\n",
       "      <td>0</td>\n",
       "    </tr>\n",
       "    <tr>\n",
       "      <th>2</th>\n",
       "      <td>0</td>\n",
       "      <td>0</td>\n",
       "      <td>0</td>\n",
       "      <td>2</td>\n",
       "      <td>1</td>\n",
       "      <td>0</td>\n",
       "      <td>1</td>\n",
       "      <td>1</td>\n",
       "      <td>0</td>\n",
       "      <td>0</td>\n",
       "      <td>...</td>\n",
       "      <td>1</td>\n",
       "      <td>0</td>\n",
       "      <td>0</td>\n",
       "      <td>0</td>\n",
       "      <td>0</td>\n",
       "      <td>0</td>\n",
       "      <td>1</td>\n",
       "      <td>0</td>\n",
       "      <td>0</td>\n",
       "      <td>1</td>\n",
       "    </tr>\n",
       "    <tr>\n",
       "      <th>3</th>\n",
       "      <td>0</td>\n",
       "      <td>0</td>\n",
       "      <td>0</td>\n",
       "      <td>45</td>\n",
       "      <td>0</td>\n",
       "      <td>0</td>\n",
       "      <td>1</td>\n",
       "      <td>0</td>\n",
       "      <td>1</td>\n",
       "      <td>1</td>\n",
       "      <td>...</td>\n",
       "      <td>1</td>\n",
       "      <td>0</td>\n",
       "      <td>0</td>\n",
       "      <td>1</td>\n",
       "      <td>0</td>\n",
       "      <td>0</td>\n",
       "      <td>0</td>\n",
       "      <td>1</td>\n",
       "      <td>0</td>\n",
       "      <td>0</td>\n",
       "    </tr>\n",
       "    <tr>\n",
       "      <th>4</th>\n",
       "      <td>0</td>\n",
       "      <td>0</td>\n",
       "      <td>0</td>\n",
       "      <td>2</td>\n",
       "      <td>1</td>\n",
       "      <td>0</td>\n",
       "      <td>0</td>\n",
       "      <td>0</td>\n",
       "      <td>0</td>\n",
       "      <td>0</td>\n",
       "      <td>...</td>\n",
       "      <td>0</td>\n",
       "      <td>1</td>\n",
       "      <td>0</td>\n",
       "      <td>0</td>\n",
       "      <td>0</td>\n",
       "      <td>1</td>\n",
       "      <td>0</td>\n",
       "      <td>0</td>\n",
       "      <td>0</td>\n",
       "      <td>1</td>\n",
       "    </tr>\n",
       "  </tbody>\n",
       "</table>\n",
       "<p>5 rows × 25 columns</p>\n",
       "</div>"
      ],
      "text/plain": [
       "   SeniorCitizen  Partner  Dependents  tenure  PhoneService  MultipleLines  \\\n",
       "0              0        1           0       1             0              0   \n",
       "1              0        0           0      34             1              0   \n",
       "2              0        0           0       2             1              0   \n",
       "3              0        0           0      45             0              0   \n",
       "4              0        0           0       2             1              0   \n",
       "\n",
       "   OnlineSecurity  OnlineBackup  DeviceProtection  TechSupport  ...  \\\n",
       "0               0             1                 0            0  ...   \n",
       "1               1             0                 1            0  ...   \n",
       "2               1             1                 0            0  ...   \n",
       "3               1             0                 1            1  ...   \n",
       "4               0             0                 0            0  ...   \n",
       "\n",
       "   gender_Male  InternetService_Fiber optic  InternetService_No  \\\n",
       "0            0                            0                   0   \n",
       "1            1                            0                   0   \n",
       "2            1                            0                   0   \n",
       "3            1                            0                   0   \n",
       "4            0                            1                   0   \n",
       "\n",
       "   PaymentMethod_Bank transfer (automatic)  \\\n",
       "0                                        0   \n",
       "1                                        0   \n",
       "2                                        0   \n",
       "3                                        1   \n",
       "4                                        0   \n",
       "\n",
       "   PaymentMethod_Credit card (automatic)  PaymentMethod_Electronic check  \\\n",
       "0                                      0                               1   \n",
       "1                                      0                               0   \n",
       "2                                      0                               0   \n",
       "3                                      0                               0   \n",
       "4                                      0                               1   \n",
       "\n",
       "   PaymentMethod_Mailed check  Contract_One year  Contract_Two year  Churn  \n",
       "0                           0                  0                  0      0  \n",
       "1                           1                  1                  0      0  \n",
       "2                           1                  0                  0      1  \n",
       "3                           0                  1                  0      0  \n",
       "4                           0                  0                  0      1  \n",
       "\n",
       "[5 rows x 25 columns]"
      ]
     },
     "execution_count": 15,
     "metadata": {},
     "output_type": "execute_result"
    }
   ],
   "source": [
    "from train import clean_data\n",
    "\n",
    "# Use the clean_data function to clean your data.\n",
    "x, y = clean_data(input_data)\n",
    "predict_col = pd.DataFrame(y)\n",
    "predict_col.head()\n",
    "complete_data = pd.concat([x,predict_col],axis=1)\n",
    "complete_data = complete_data.drop(\"customerID\", axis=1)\n",
    "complete_data.head()"
   ]
  },
  {
   "cell_type": "code",
   "execution_count": 16,
   "metadata": {},
   "outputs": [
    {
     "data": {
      "text/html": [
       "<div>\n",
       "<style scoped>\n",
       "    .dataframe tbody tr th:only-of-type {\n",
       "        vertical-align: middle;\n",
       "    }\n",
       "\n",
       "    .dataframe tbody tr th {\n",
       "        vertical-align: top;\n",
       "    }\n",
       "\n",
       "    .dataframe thead th {\n",
       "        text-align: right;\n",
       "    }\n",
       "</style>\n",
       "<table border=\"1\" class=\"dataframe\">\n",
       "  <thead>\n",
       "    <tr style=\"text-align: right;\">\n",
       "      <th></th>\n",
       "      <th>SeniorCitizen</th>\n",
       "      <th>Partner</th>\n",
       "      <th>Dependents</th>\n",
       "      <th>tenure</th>\n",
       "      <th>PhoneService</th>\n",
       "      <th>MultipleLines</th>\n",
       "      <th>OnlineSecurity</th>\n",
       "      <th>OnlineBackup</th>\n",
       "      <th>DeviceProtection</th>\n",
       "      <th>TechSupport</th>\n",
       "      <th>...</th>\n",
       "      <th>gender_Male</th>\n",
       "      <th>InternetService_Fiber optic</th>\n",
       "      <th>InternetService_No</th>\n",
       "      <th>PaymentMethod_Bank transfer (automatic)</th>\n",
       "      <th>PaymentMethod_Credit card (automatic)</th>\n",
       "      <th>PaymentMethod_Electronic check</th>\n",
       "      <th>PaymentMethod_Mailed check</th>\n",
       "      <th>Contract_One year</th>\n",
       "      <th>Contract_Two year</th>\n",
       "      <th>Churn</th>\n",
       "    </tr>\n",
       "  </thead>\n",
       "  <tbody>\n",
       "    <tr>\n",
       "      <th>4955</th>\n",
       "      <td>0</td>\n",
       "      <td>0</td>\n",
       "      <td>0</td>\n",
       "      <td>1</td>\n",
       "      <td>1</td>\n",
       "      <td>0</td>\n",
       "      <td>0</td>\n",
       "      <td>0</td>\n",
       "      <td>0</td>\n",
       "      <td>0</td>\n",
       "      <td>...</td>\n",
       "      <td>1</td>\n",
       "      <td>1</td>\n",
       "      <td>0</td>\n",
       "      <td>0</td>\n",
       "      <td>0</td>\n",
       "      <td>0</td>\n",
       "      <td>1</td>\n",
       "      <td>0</td>\n",
       "      <td>0</td>\n",
       "      <td>1</td>\n",
       "    </tr>\n",
       "    <tr>\n",
       "      <th>1898</th>\n",
       "      <td>1</td>\n",
       "      <td>0</td>\n",
       "      <td>0</td>\n",
       "      <td>5</td>\n",
       "      <td>1</td>\n",
       "      <td>0</td>\n",
       "      <td>0</td>\n",
       "      <td>0</td>\n",
       "      <td>0</td>\n",
       "      <td>0</td>\n",
       "      <td>...</td>\n",
       "      <td>0</td>\n",
       "      <td>1</td>\n",
       "      <td>0</td>\n",
       "      <td>0</td>\n",
       "      <td>0</td>\n",
       "      <td>1</td>\n",
       "      <td>0</td>\n",
       "      <td>0</td>\n",
       "      <td>0</td>\n",
       "      <td>1</td>\n",
       "    </tr>\n",
       "    <tr>\n",
       "      <th>1541</th>\n",
       "      <td>0</td>\n",
       "      <td>0</td>\n",
       "      <td>0</td>\n",
       "      <td>72</td>\n",
       "      <td>1</td>\n",
       "      <td>0</td>\n",
       "      <td>0</td>\n",
       "      <td>0</td>\n",
       "      <td>0</td>\n",
       "      <td>0</td>\n",
       "      <td>...</td>\n",
       "      <td>1</td>\n",
       "      <td>0</td>\n",
       "      <td>1</td>\n",
       "      <td>1</td>\n",
       "      <td>0</td>\n",
       "      <td>0</td>\n",
       "      <td>0</td>\n",
       "      <td>0</td>\n",
       "      <td>1</td>\n",
       "      <td>0</td>\n",
       "    </tr>\n",
       "    <tr>\n",
       "      <th>6676</th>\n",
       "      <td>0</td>\n",
       "      <td>1</td>\n",
       "      <td>1</td>\n",
       "      <td>41</td>\n",
       "      <td>1</td>\n",
       "      <td>1</td>\n",
       "      <td>1</td>\n",
       "      <td>1</td>\n",
       "      <td>0</td>\n",
       "      <td>0</td>\n",
       "      <td>...</td>\n",
       "      <td>0</td>\n",
       "      <td>1</td>\n",
       "      <td>0</td>\n",
       "      <td>1</td>\n",
       "      <td>0</td>\n",
       "      <td>0</td>\n",
       "      <td>0</td>\n",
       "      <td>0</td>\n",
       "      <td>0</td>\n",
       "      <td>0</td>\n",
       "    </tr>\n",
       "    <tr>\n",
       "      <th>6293</th>\n",
       "      <td>0</td>\n",
       "      <td>0</td>\n",
       "      <td>1</td>\n",
       "      <td>21</td>\n",
       "      <td>1</td>\n",
       "      <td>0</td>\n",
       "      <td>0</td>\n",
       "      <td>0</td>\n",
       "      <td>0</td>\n",
       "      <td>0</td>\n",
       "      <td>...</td>\n",
       "      <td>1</td>\n",
       "      <td>0</td>\n",
       "      <td>1</td>\n",
       "      <td>0</td>\n",
       "      <td>0</td>\n",
       "      <td>0</td>\n",
       "      <td>1</td>\n",
       "      <td>0</td>\n",
       "      <td>1</td>\n",
       "      <td>0</td>\n",
       "    </tr>\n",
       "  </tbody>\n",
       "</table>\n",
       "<p>5 rows × 25 columns</p>\n",
       "</div>"
      ],
      "text/plain": [
       "      SeniorCitizen  Partner  Dependents  tenure  PhoneService  MultipleLines  \\\n",
       "4955              0        0           0       1             1              0   \n",
       "1898              1        0           0       5             1              0   \n",
       "1541              0        0           0      72             1              0   \n",
       "6676              0        1           1      41             1              1   \n",
       "6293              0        0           1      21             1              0   \n",
       "\n",
       "      OnlineSecurity  OnlineBackup  DeviceProtection  TechSupport  ...  \\\n",
       "4955               0             0                 0            0  ...   \n",
       "1898               0             0                 0            0  ...   \n",
       "1541               0             0                 0            0  ...   \n",
       "6676               1             1                 0            0  ...   \n",
       "6293               0             0                 0            0  ...   \n",
       "\n",
       "      gender_Male  InternetService_Fiber optic  InternetService_No  \\\n",
       "4955            1                            1                   0   \n",
       "1898            0                            1                   0   \n",
       "1541            1                            0                   1   \n",
       "6676            0                            1                   0   \n",
       "6293            1                            0                   1   \n",
       "\n",
       "      PaymentMethod_Bank transfer (automatic)  \\\n",
       "4955                                        0   \n",
       "1898                                        0   \n",
       "1541                                        1   \n",
       "6676                                        1   \n",
       "6293                                        0   \n",
       "\n",
       "      PaymentMethod_Credit card (automatic)  PaymentMethod_Electronic check  \\\n",
       "4955                                      0                               0   \n",
       "1898                                      0                               1   \n",
       "1541                                      0                               0   \n",
       "6676                                      0                               0   \n",
       "6293                                      0                               0   \n",
       "\n",
       "      PaymentMethod_Mailed check  Contract_One year  Contract_Two year  Churn  \n",
       "4955                           1                  0                  0      1  \n",
       "1898                           0                  0                  0      1  \n",
       "1541                           0                  0                  1      0  \n",
       "6676                           0                  0                  0      0  \n",
       "6293                           1                  0                  1      0  \n",
       "\n",
       "[5 rows x 25 columns]"
      ]
     },
     "execution_count": 16,
     "metadata": {},
     "output_type": "execute_result"
    }
   ],
   "source": [
    "# split data into training and test data\n",
    "from sklearn.model_selection import train_test_split\n",
    "train_data, test_data = train_test_split(complete_data,test_size=0.25)\n",
    "train_data.head()"
   ]
  },
  {
   "cell_type": "code",
   "execution_count": 17,
   "metadata": {},
   "outputs": [],
   "source": [
    "train_data.to_csv(\"traindata.csv\")"
   ]
  },
  {
   "cell_type": "code",
   "execution_count": 18,
   "metadata": {},
   "outputs": [
    {
     "name": "stdout",
     "output_type": "stream",
     "text": [
      "Uploading an estimated of 12 files\n",
      "Uploading ./.amlignore\n",
      "Uploaded ./.amlignore, 1 files out of an estimated total of 12\n",
      "Uploading ./.amlignore.amltmp\n",
      "Uploaded ./.amlignore.amltmp, 2 files out of an estimated total of 12\n",
      "Uploading ./automl.ipynb\n",
      "Uploaded ./automl.ipynb, 3 files out of an estimated total of 12\n",
      "Uploading ./hyperparameter_tuning (1).ipynb\n",
      "Uploaded ./hyperparameter_tuning (1).ipynb, 4 files out of an estimated total of 12\n",
      "Uploading ./hyperparameter_tuning.ipynb\n",
      "Uploaded ./hyperparameter_tuning.ipynb, 5 files out of an estimated total of 12\n",
      "Uploading ./model_training.py\n",
      "Uploaded ./model_training.py, 6 files out of an estimated total of 12\n",
      "Uploading ./README.md\n",
      "Uploaded ./README.md, 7 files out of an estimated total of 12\n",
      "Uploading ./score.py\n",
      "Uploaded ./score.py, 8 files out of an estimated total of 12\n",
      "Uploading ./train.py\n",
      "Uploaded ./train.py, 9 files out of an estimated total of 12\n",
      "Uploading ./traindata.csv\n",
      "Uploaded ./traindata.csv, 10 files out of an estimated total of 12\n",
      "Uploading ./.ipynb_checkpoints/automl-checkpoint.ipynb\n",
      "Uploaded ./.ipynb_checkpoints/automl-checkpoint.ipynb, 11 files out of an estimated total of 12\n",
      "Uploading ./__pycache__/train.cpython-36.pyc\n",
      "Uploaded ./__pycache__/train.cpython-36.pyc, 12 files out of an estimated total of 12\n",
      "Uploaded 12 files\n"
     ]
    }
   ],
   "source": [
    "data_store = ws.get_default_datastore()\n",
    "data_store.upload(src_dir='./',target_path='./')\n",
    "ftrain_data = Dataset.Tabular.from_delimited_files(path = [(data_store, './traindata.csv')])"
   ]
  },
  {
   "cell_type": "code",
   "execution_count": 19,
   "metadata": {},
   "outputs": [],
   "source": [
    "temp = ftrain_data.drop_columns('Column1')"
   ]
  },
  {
   "cell_type": "markdown",
   "metadata": {},
   "source": [
    "## AutoML Configuration\n",
    "\n",
    "TODO: Explain why you chose the automl settings and cofiguration you used below."
   ]
  },
  {
   "cell_type": "code",
   "execution_count": 20,
   "metadata": {
    "collapsed": false,
    "gather": {
     "logged": 1598429217746
    },
    "jupyter": {
     "outputs_hidden": false,
     "source_hidden": false
    },
    "nteract": {
     "transient": {
      "deleting": false
     }
    }
   },
   "outputs": [],
   "source": [
    "# TODO: Put your automl settings here\n",
    "automl_settings = {    \n",
    "    \"experiment_timeout_minutes\": 25,\n",
    "    \"max_concurrent_iterations\": 5,\n",
    "    \"primary_metric\" : 'AUC_weighted'}\n",
    "\n",
    "# TODO: Put your automl config here\n",
    "automl_config = AutoMLConfig(\n",
    "                             compute_target=comp_trget,\n",
    "                             task = \"classification\",\n",
    "                             training_data=temp,\n",
    "                             label_column_name=\"Churn\",   \n",
    "                             enable_early_stopping= True,\n",
    "                             featurization= 'auto',\n",
    "                             n_cross_validations=7,\n",
    "                             debug_log = \"automl_errors.log\",\n",
    "                             **automl_settings\n",
    ")"
   ]
  },
  {
   "cell_type": "code",
   "execution_count": 21,
   "metadata": {
    "collapsed": false,
    "gather": {
     "logged": 1598431107951
    },
    "jupyter": {
     "outputs_hidden": false,
     "source_hidden": false
    },
    "nteract": {
     "transient": {
      "deleting": false
     }
    }
   },
   "outputs": [
    {
     "name": "stdout",
     "output_type": "stream",
     "text": [
      "Submitting remote run.\n",
      "No run_configuration provided, running on automl-cluster with default configuration\n",
      "Running on remote compute: automl-cluster\n"
     ]
    },
    {
     "data": {
      "text/html": [
       "<table style=\"width:100%\"><tr><th>Experiment</th><th>Id</th><th>Type</th><th>Status</th><th>Details Page</th><th>Docs Page</th></tr><tr><td>capstone-project</td><td>AutoML_78a45b32-8739-4c0b-a14d-2ce6e71df070</td><td>automl</td><td>NotStarted</td><td><a href=\"https://ml.azure.com/runs/AutoML_78a45b32-8739-4c0b-a14d-2ce6e71df070?wsid=/subscriptions/61c5c3f0-6dc7-4ed9-a7f3-c704b20e3b30/resourcegroups/aml-quickstarts-159333/workspaces/quick-starts-ws-159333&amp;tid=660b3398-b80e-49d2-bc5b-ac1dc93b5254\" target=\"_blank\" rel=\"noopener\">Link to Azure Machine Learning studio</a></td><td><a href=\"https://docs.microsoft.com/en-us/python/api/overview/azure/ml/intro?view=azure-ml-py\" target=\"_blank\" rel=\"noopener\">Link to Documentation</a></td></tr></table>"
      ],
      "text/plain": [
       "<IPython.core.display.HTML object>"
      ]
     },
     "metadata": {},
     "output_type": "display_data"
    },
    {
     "name": "stdout",
     "output_type": "stream",
     "text": [
      "\n",
      "Current status: FeaturesGeneration. Generating features for the dataset.\n",
      "Current status: DatasetCrossValidationSplit. Generating individually featurized CV splits.\n",
      "Current status: ModelSelection. Beginning model selection.\n",
      "\n",
      "****************************************************************************************************\n",
      "DATA GUARDRAILS: \n",
      "\n",
      "TYPE:         Class balancing detection\n",
      "STATUS:       PASSED\n",
      "DESCRIPTION:  Your inputs were analyzed, and all classes are balanced in your training data.\n",
      "              Learn more about imbalanced data: https://aka.ms/AutomatedMLImbalancedData\n",
      "\n",
      "****************************************************************************************************\n",
      "\n",
      "TYPE:         Missing feature values imputation\n",
      "STATUS:       PASSED\n",
      "DESCRIPTION:  No feature missing values were detected in the training data.\n",
      "              Learn more about missing value imputation: https://aka.ms/AutomatedMLFeaturization\n",
      "\n",
      "****************************************************************************************************\n",
      "\n",
      "TYPE:         High cardinality feature detection\n",
      "STATUS:       PASSED\n",
      "DESCRIPTION:  Your inputs were analyzed, and no high cardinality features were detected.\n",
      "              Learn more about high cardinality feature handling: https://aka.ms/AutomatedMLFeaturization\n",
      "\n",
      "****************************************************************************************************\n",
      "\n",
      "****************************************************************************************************\n",
      "ITERATION: The iteration being evaluated.\n",
      "PIPELINE: A summary description of the pipeline being evaluated.\n",
      "DURATION: Time taken for the current iteration.\n",
      "METRIC: The result of computing score on the fitted pipeline.\n",
      "BEST: The best observed score thus far.\n",
      "****************************************************************************************************\n",
      "\n",
      " ITERATION   PIPELINE                                       DURATION      METRIC      BEST\n",
      "         4   StandardScalerWrapper LightGBM                 0:00:39       0.8449    0.8449\n",
      "         2   MaxAbsScaler ExtremeRandomTrees                0:00:39       0.8369    0.8449\n",
      "         1   MaxAbsScaler XGBoostClassifier                 0:00:42       0.8427    0.8449\n",
      "         0   MaxAbsScaler LightGBM                          0:00:41       0.8301    0.8449\n",
      "         7   MinMaxScaler RandomForest                      0:00:40       0.8325    0.8449\n",
      "         8   StandardScalerWrapper LogisticRegression       0:00:40       0.8441    0.8449\n",
      "         9   StandardScalerWrapper XGBoostClassifier        0:00:39       0.8319    0.8449\n",
      "        10   RobustScaler ExtremeRandomTrees                0:00:40       0.8255    0.8449\n",
      "        11   SparseNormalizer XGBoostClassifier             0:00:40       0.8338    0.8449\n",
      "         3   MaxAbsScaler RandomForest                      0:05:14       0.8403    0.8449\n",
      "         5   SparseNormalizer XGBoostClassifier             0:05:11       0.8359    0.8449\n",
      "         6   SparseNormalizer RandomForest                  0:05:15       0.8440    0.8449\n",
      "        12   MinMaxScaler ExtremeRandomTrees                0:00:40       0.8396    0.8449\n",
      "        13   MinMaxScaler ExtremeRandomTrees                0:00:45       0.8429    0.8449\n",
      "        14   SparseNormalizer LightGBM                      0:00:40       0.8399    0.8449\n",
      "        15   MaxAbsScaler ExtremeRandomTrees                0:00:52       0.8409    0.8449\n",
      "        16   StandardScalerWrapper XGBoostClassifier        0:00:43       0.8400    0.8449\n",
      "        17   StandardScalerWrapper RandomForest             0:00:46       0.8212    0.8449\n",
      "        18   MaxAbsScaler LightGBM                          0:00:40       0.8427    0.8449\n",
      "        19   MaxAbsScaler LogisticRegression                0:00:43       0.8438    0.8449\n",
      "        20   StandardScalerWrapper ExtremeRandomTrees       0:00:46       0.8396    0.8449\n",
      "        21   StandardScalerWrapper XGBoostClassifier        0:00:42       0.8350    0.8449\n",
      "        22   MaxAbsScaler LogisticRegression                0:00:35          nan    0.8449\n",
      "ERROR: {\n",
      "    \"additional_properties\": {},\n",
      "    \"error\": {\n",
      "        \"additional_properties\": {\n",
      "            \"debugInfo\": {\n",
      "                \"type\": \"RuntimeError\",\n",
      "                \"message\": \"dictionary changed size during iteration\",\n",
      "                \"stackTrace\": \"  File \\\"/mnt/batch/tasks/shared/LS_root/jobs/quick-starts-ws-159333/azureml/automl_78a45b32-8739-4c0b-a14d-2ce6e71df070_22/wd/azureml/AutoML_78a45b32-8739-4c0b-a14d-2ce6e71df070_22/azureml-setup/context_manager_injector.py\\\", line 85, in __exit__\\n    self.context_manager.__exit__(*exc_details)\\n  File \\\"/mnt/batch/tasks/shared/LS_root/jobs/quick-starts-ws-159333/azureml/automl_78a45b32-8739-4c0b-a14d-2ce6e71df070_22/wd/azureml/AutoML_78a45b32-8739-4c0b-a14d-2ce6e71df070_22/azureml-setup/context_managers.py\\\", line 390, in __exit__\\n    self.history_context.__exit__(*args)\\n  File \\\"/azureml-envs/azureml_732632de80c129004c31329a710852e7/lib/python3.6/site-packages/azureml/_history/utils/context_managers.py\\\", line 56, in __exit__\\n    return self._exit_stack.__exit__(*args)\\n  File \\\"/azureml-envs/azureml_732632de80c129004c31329a710852e7/lib/python3.6/contextlib.py\\\", line 380, in __exit__\\n    raise exc_details[1]\\n  File \\\"/azureml-envs/azureml_732632de80c129004c31329a710852e7/lib/python3.6/contextlib.py\\\", line 365, in __exit__\\n    if cb(*exc_details):\\n  File \\\"/azureml-envs/azureml_732632de80c129004c31329a710852e7/lib/python3.6/contextlib.py\\\", line 284, in _exit_wrapper\\n    return cm_exit(cm, *exc_details)\\n  File \\\"/azureml-envs/azureml_732632de80c129004c31329a710852e7/lib/python3.6/site-packages/azureml/_history/utils/context_managers.py\\\", line 168, in __exit__\\n    _RunBase._kill(timeout=self._kill_timeout)\\n  File \\\"/azureml-envs/azureml_732632de80c129004c31329a710852e7/lib/python3.6/site-packages/azureml/_run_impl/run_base.py\\\", line 181, in _kill\\n    handler(timeout)\\n  File \\\"/azureml-envs/azureml_732632de80c129004c31329a710852e7/lib/python3.6/site-packages/azureml/_run_impl/run_base.py\\\", line 191, in _cleanup\\n    self._client.flush(timeout)\\n  File \\\"/azureml-envs/azureml_732632de80c129004c31329a710852e7/lib/python3.6/site-packages/azureml/_run_impl/run_history_facade.py\\\", line 683, in flush\\n    self.metrics.flush(timeout_seconds=timeout_seconds)\\n  File \\\"/azureml-envs/azureml_732632de80c129004c31329a710852e7/lib/python3.6/site-packages/azureml/_restclient/metrics_client.py\\\", line 394, in flush\\n    self._task_queue_v2.flush(self.identity, timeout_seconds=timeout_seconds)\\n  File \\\"/azureml-envs/azureml_732632de80c129004c31329a710852e7/lib/python3.6/site-packages/azureml/_common/async_utils/batch_task_queue.py\\\", line 89, in flush\\n    super(BatchTaskQueue, self).flush(*args, **kwargs)\\n  File \\\"/azureml-envs/azureml_732632de80c129004c31329a710852e7/lib/python3.6/site-packages/azureml/_common/async_utils/task_queue.py\\\", line 118, in flush\\n    self._results.extend((task.wait(awaiter_name=self.identity) for task in completed_tasks))\\n  File \\\"/azureml-envs/azureml_732632de80c129004c31329a710852e7/lib/python3.6/site-packages/azureml/_common/async_utils/task_queue.py\\\", line 118, in <genexpr>\\n    self._results.extend((task.wait(awaiter_name=self.identity) for task in completed_tasks))\\n  File \\\"/azureml-envs/azureml_732632de80c129004c31329a710852e7/lib/python3.6/site-packages/azureml/_common/async_utils/async_task.py\\\", line 58, in wait\\n    res = self._handler(self._future, self._logger)\\n  File \\\"/azureml-envs/azureml_732632de80c129004c31329a710852e7/lib/python3.6/site-packages/azureml/_common/async_utils/async_task.py\\\", line 16, in basic_handler\\n    return future.result()\\n  File \\\"/azureml-envs/azureml_732632de80c129004c31329a710852e7/lib/python3.6/concurrent/futures/_base.py\\\", line 398, in result\\n    return self.__get_result()\\n  File \\\"/azureml-envs/azureml_732632de80c129004c31329a710852e7/lib/python3.6/concurrent/futures/_base.py\\\", line 357, in __get_result\\n    raise self._exception\\n  File \\\"/azureml-envs/azureml_732632de80c129004c31329a710852e7/lib/python3.6/concurrent/futures/thread.py\\\", line 55, in run\\n    result = self.fn(*self.args, **self.kwargs)\\n  File \\\"/azureml-envs/azureml_732632de80c129004c31329a710852e7/lib/python3.6/site-packages/azureml/_restclient/metrics_client.py\\\", line 475, in _log_batch_v2\\n    batch_metric_dto, is_async=is_async)\\n  File \\\"/azureml-envs/azureml_732632de80c129004c31329a710852e7/lib/python3.6/site-packages/azureml/_restclient/run_client.py\\\", line 575, in _execute_with_workspace_run_arguments\\n    return self._execute_with_arguments(func, workspace_run_arguments, *args, **kwargs)\\n  File \\\"/azureml-envs/azureml_732632de80c129004c31329a710852e7/lib/python3.6/site-packages/azureml/_restclient/clientbase.py\\\", line 589, in _execute_with_arguments\\n    return self._call_api(func, *args_list, **kwargs)\\n  File \\\"/azureml-envs/azureml_732632de80c129004c31329a710852e7/lib/python3.6/site-packages/azureml/_restclient/clientbase.py\\\", line 245, in _call_api\\n    return self._execute_with_base_arguments(func, *args, **kwargs)\\n  File \\\"/azureml-envs/azureml_732632de80c129004c31329a710852e7/lib/python3.6/site-packages/azureml/_restclient/clientbase.py\\\", line 334, in _execute_with_base_arguments\\n    back_off, total_retry, self._logger, func, _noop_reset, *args, **kwargs)\\n  File \\\"/azureml-envs/azureml_732632de80c129004c31329a710852e7/lib/python3.6/site-packages/azureml/_restclient/clientbase.py\\\", line 367, in _execute_func_internal\\n    left_retry = cls._handle_retry(back_off, left_retry, total_retry, error, logger, func)\\n  File \\\"/azureml-envs/azureml_732632de80c129004c31329a710852e7/lib/python3.6/site-packages/azureml/_restclient/clientbase.py\\\", line 433, in _handle_retry\\n    raise error\\n  File \\\"/azureml-envs/azureml_732632de80c129004c31329a710852e7/lib/python3.6/site-packages/azureml/_restclient/clientbase.py\\\", line 358, in _execute_func_internal\\n    response = func(*args, **kwargs)\\n  File \\\"/azureml-envs/azureml_732632de80c129004c31329a710852e7/lib/python3.6/site-packages/azureml/_restclient/metrics_client.py\\\", line 483, in _post_run_metrics_log_failed_validations\\n    **operation_config)\\n  File \\\"/azureml-envs/azureml_732632de80c129004c31329a710852e7/lib/python3.6/site-packages/azureml/_restclient/operations/metric_operations.py\\\", line 224, in post_run_metrics\\n    request, header_parameters, body_content, stream=False, **operation_config)\\n  File \\\"/azureml-envs/azureml_732632de80c129004c31329a710852e7/lib/python3.6/site-packages/msrest/service_client.py\\\", line 336, in send\\n    pipeline_response = self.config.pipeline.run(request, **kwargs)\\n  File \\\"/azureml-envs/azureml_732632de80c129004c31329a710852e7/lib/python3.6/site-packages/msrest/pipeline/__init__.py\\\", line 197, in run\\n    return first_node.send(pipeline_request, **kwargs)  # type: ignore\\n  File \\\"/azureml-envs/azureml_732632de80c129004c31329a710852e7/lib/python3.6/site-packages/msrest/pipeline/__init__.py\\\", line 150, in send\\n    response = self.next.send(request, **kwargs)\\n  File \\\"/azureml-envs/azureml_732632de80c129004c31329a710852e7/lib/python3.6/site-packages/msrest/pipeline/requests.py\\\", line 72, in send\\n    return self.next.send(request, **kwargs)\\n  File \\\"/azureml-envs/azureml_732632de80c129004c31329a710852e7/lib/python3.6/site-packages/msrest/pipeline/requests.py\\\", line 137, in send\\n    return self.next.send(request, **kwargs)\\n  File \\\"/azureml-envs/azureml_732632de80c129004c31329a710852e7/lib/python3.6/site-packages/msrest/pipeline/__init__.py\\\", line 150, in send\\n    response = self.next.send(request, **kwargs)\\n  File \\\"/azureml-envs/azureml_732632de80c129004c31329a710852e7/lib/python3.6/site-packages/msrest/pipeline/requests.py\\\", line 193, in send\\n    self.driver.send(request.http_request, **kwargs)\\n  File \\\"/azureml-envs/azureml_732632de80c129004c31329a710852e7/lib/python3.6/site-packages/msrest/universal_http/requests.py\\\", line 333, in send\\n    return super(RequestsHTTPSender, self).send(request, **requests_kwargs)\\n  File \\\"/azureml-envs/azureml_732632de80c129004c31329a710852e7/lib/python3.6/site-packages/msrest/universal_http/requests.py\\\", line 142, in send\\n    **kwargs)\\n  File \\\"/azureml-envs/azureml_732632de80c129004c31329a710852e7/lib/python3.6/site-packages/requests/sessions.py\\\", line 542, in request\\n    resp = self.send(prep, **send_kwargs)\\n  File \\\"/azureml-envs/azureml_732632de80c129004c31329a710852e7/lib/python3.6/site-packages/requests/sessions.py\\\", line 636, in send\\n    kwargs.setdefault('proxies', self.rebuild_proxies(request, self.proxies))\\n  File \\\"/azureml-envs/azureml_732632de80c129004c31329a710852e7/lib/python3.6/site-packages/requests/sessions.py\\\", line 292, in rebuild_proxies\\n    bypass_proxy = should_bypass_proxies(url, no_proxy=no_proxy)\\n  File \\\"/azureml-envs/azureml_732632de80c129004c31329a710852e7/lib/python3.6/site-packages/requests/utils.py\\\", line 781, in should_bypass_proxies\\n    bypass = proxy_bypass(parsed.hostname)\\n  File \\\"/azureml-envs/azureml_732632de80c129004c31329a710852e7/lib/python3.6/urllib/request.py\\\", line 2497, in proxy_bypass_environment\\n    proxies = getproxies_environment()\\n  File \\\"/azureml-envs/azureml_732632de80c129004c31329a710852e7/lib/python3.6/urllib/request.py\\\", line 2470, in getproxies_environment\\n    for name, value in os.environ.items():\\n  File \\\"/azureml-envs/azureml_732632de80c129004c31329a710852e7/lib/python3.6/_collections_abc.py\\\", line 743, in __iter__\\n    for key in self._mapping:\\n  File \\\"/azureml-envs/azureml_732632de80c129004c31329a710852e7/lib/python3.6/os.py\\\", line 688, in __iter__\\n    for key in self._data:\\n\",\n",
      "                \"innerException\": null,\n",
      "                \"data\": null,\n",
      "                \"errorResponse\": null\n",
      "            }\n",
      "        },\n",
      "        \"code\": \"ServiceError\",\n",
      "        \"severity\": null,\n",
      "        \"message\": \"RunHistory finalization failed: dictionary changed size during iteration\",\n",
      "        \"message_format\": null,\n",
      "        \"message_parameters\": {},\n",
      "        \"reference_code\": null,\n",
      "        \"details_uri\": null,\n",
      "        \"target\": null,\n",
      "        \"details\": [],\n",
      "        \"inner_error\": null,\n",
      "        \"additional_info\": null\n",
      "    },\n",
      "    \"correlation\": null,\n",
      "    \"environment\": null,\n",
      "    \"location\": null,\n",
      "    \"time\": {},\n",
      "    \"component_name\": null\n",
      "}\n",
      "        23   StandardScalerWrapper XGBoostClassifier        0:00:43       0.8327    0.8449\n",
      "        24   StandardScalerWrapper XGBoostClassifier        0:00:42       0.8406    0.8449\n",
      "        25   PCA LightGBM                                   0:00:38       0.6562    0.8449\n",
      "        26   MaxAbsScaler LogisticRegression                0:00:40       0.8440    0.8449\n",
      "        27   MinMaxScaler LogisticRegression                0:00:41       0.8440    0.8449\n",
      "        28   MinMaxScaler LightGBM                          0:00:40       0.8336    0.8449\n",
      "        30   SparseNormalizer LightGBM                      0:00:40       0.8426    0.8449\n",
      "        31   SparseNormalizer XGBoostClassifier             0:00:47       0.8352    0.8449\n",
      "        29   SparseNormalizer XGBoostClassifier             0:01:06       0.8093    0.8449\n",
      "        32   SparseNormalizer XGBoostClassifier             0:00:44       0.8312    0.8449\n",
      "        33   StandardScalerWrapper XGBoostClassifier        0:00:45       0.8228    0.8449\n",
      "        34   MinMaxScaler LightGBM                          0:00:31       0.8480    0.8480\n",
      "        35   RobustScaler LightGBM                          0:00:21       0.8361    0.8480\n",
      "        36                                                  0:00:36          nan    0.8480\n",
      "        37                                                  0:00:03          nan    0.8480\n",
      "        41   TruncatedSVDWrapper XGBoostClassifier          0:00:41       0.8251    0.8480\n",
      "        39   TruncatedSVDWrapper XGBoostClassifier          0:00:52       0.8170    0.8480\n",
      "        40   MaxAbsScaler RandomForest                      0:00:48       0.8359    0.8480\n",
      "        42   TruncatedSVDWrapper XGBoostClassifier          0:00:49       0.8208    0.8480\n",
      "        38   PCA LightGBM                                   0:00:37       0.6527    0.8480\n",
      "        43   StandardScalerWrapper LogisticRegression       0:00:39       0.8438    0.8480\n",
      "        44   MaxAbsScaler LightGBM                          0:00:41       0.8293    0.8480\n",
      "        45   PCA LightGBM                                   0:00:40       0.6583    0.8480\n",
      "        46   RobustScaler LogisticRegression                0:00:41       0.8439    0.8480\n",
      "        47   StandardScalerWrapper LogisticRegression       0:00:43       0.8441    0.8480\n",
      "        48   MaxAbsScaler ExtremeRandomTrees                0:00:41       0.8428    0.8480\n",
      "        49   TruncatedSVDWrapper XGBoostClassifier          0:00:48       0.8239    0.8480\n",
      "        50   PCA LightGBM                                   0:00:40       0.6553    0.8480\n",
      "        51   SparseNormalizer XGBoostClassifier             0:00:32       0.8133    0.8480\n",
      "        52   StandardScalerWrapper RandomForest             0:00:30          nan    0.8480\n",
      "        53   SparseNormalizer XGBoostClassifier             0:00:19       0.8412    0.8480\n",
      "        54                                                  0:00:33          nan    0.8480\n",
      "        55    VotingEnsemble                                0:01:19       0.8495    0.8495\n",
      "        56    StackEnsemble                                 0:01:32       0.8485    0.8495\n"
     ]
    }
   ],
   "source": [
    "# TODO: Submit your experiment\n",
    "remote_run = experiment.submit(automl_config, show_output = True)\n"
   ]
  },
  {
   "cell_type": "markdown",
   "metadata": {},
   "source": [
    "## Run Details\n",
    "\n",
    "OPTIONAL: Write about the different models trained and their performance. Why do you think some models did better than others?\n",
    "\n",
    "TODO: In the cell below, use the `RunDetails` widget to show the different experiments."
   ]
  },
  {
   "cell_type": "code",
   "execution_count": 22,
   "metadata": {
    "collapsed": false,
    "gather": {
     "logged": 1598431121770
    },
    "jupyter": {
     "outputs_hidden": false,
     "source_hidden": false
    },
    "nteract": {
     "transient": {
      "deleting": false
     }
    }
   },
   "outputs": [
    {
     "data": {
      "application/vnd.jupyter.widget-view+json": {
       "model_id": "7b8279a46a024a12b222a9a659a127ce",
       "version_major": 2,
       "version_minor": 0
      },
      "text/plain": [
       "_AutoMLWidget(widget_settings={'childWidgetDisplay': 'popup', 'send_telemetry': False, 'log_level': 'INFO', 's…"
      ]
     },
     "metadata": {},
     "output_type": "display_data"
    },
    {
     "data": {
      "application/aml.mini.widget.v1": "{\"status\": \"Completed\", \"workbench_run_details_uri\": \"https://ml.azure.com/runs/AutoML_78a45b32-8739-4c0b-a14d-2ce6e71df070?wsid=/subscriptions/61c5c3f0-6dc7-4ed9-a7f3-c704b20e3b30/resourcegroups/aml-quickstarts-159333/workspaces/quick-starts-ws-159333&tid=660b3398-b80e-49d2-bc5b-ac1dc93b5254\", \"run_id\": \"AutoML_78a45b32-8739-4c0b-a14d-2ce6e71df070\", \"run_properties\": {\"run_id\": \"AutoML_78a45b32-8739-4c0b-a14d-2ce6e71df070\", \"created_utc\": \"2021-09-26T13:46:33.472922Z\", \"properties\": {\"num_iterations\": \"1000\", \"training_type\": \"TrainFull\", \"acquisition_function\": \"EI\", \"primary_metric\": \"AUC_weighted\", \"train_split\": \"0\", \"acquisition_parameter\": \"0\", \"num_cross_validation\": \"7\", \"target\": \"automl-cluster\", \"AMLSettingsJsonString\": \"{\\\"path\\\":null,\\\"name\\\":\\\"capstone-project\\\",\\\"subscription_id\\\":\\\"61c5c3f0-6dc7-4ed9-a7f3-c704b20e3b30\\\",\\\"resource_group\\\":\\\"aml-quickstarts-159333\\\",\\\"workspace_name\\\":\\\"quick-starts-ws-159333\\\",\\\"region\\\":\\\"southcentralus\\\",\\\"compute_target\\\":\\\"automl-cluster\\\",\\\"spark_service\\\":null,\\\"azure_service\\\":\\\"remote\\\",\\\"many_models\\\":false,\\\"pipeline_fetch_max_batch_size\\\":1,\\\"enable_batch_run\\\":false,\\\"enable_run_restructure\\\":false,\\\"start_auxiliary_runs_before_parent_complete\\\":false,\\\"enable_code_generation\\\":false,\\\"iterations\\\":1000,\\\"primary_metric\\\":\\\"AUC_weighted\\\",\\\"task_type\\\":\\\"classification\\\",\\\"data_script\\\":null,\\\"test_size\\\":0.0,\\\"validation_size\\\":0.0,\\\"n_cross_validations\\\":7,\\\"y_min\\\":null,\\\"y_max\\\":null,\\\"num_classes\\\":null,\\\"featurization\\\":\\\"auto\\\",\\\"_ignore_package_version_incompatibilities\\\":false,\\\"is_timeseries\\\":false,\\\"max_cores_per_iteration\\\":1,\\\"max_concurrent_iterations\\\":5,\\\"iteration_timeout_minutes\\\":null,\\\"mem_in_mb\\\":null,\\\"enforce_time_on_windows\\\":false,\\\"experiment_timeout_minutes\\\":25,\\\"experiment_exit_score\\\":null,\\\"whitelist_models\\\":null,\\\"blacklist_algos\\\":[\\\"TensorFlowLinearClassifier\\\",\\\"TensorFlowDNN\\\"],\\\"supported_models\\\":[\\\"XGBoostClassifier\\\",\\\"SVM\\\",\\\"LightGBM\\\",\\\"SGD\\\",\\\"RandomForest\\\",\\\"BernoulliNaiveBayes\\\",\\\"MultinomialNaiveBayes\\\",\\\"DecisionTree\\\",\\\"LogisticRegression\\\",\\\"GradientBoosting\\\",\\\"TensorFlowLinearClassifier\\\",\\\"ExtremeRandomTrees\\\",\\\"KNN\\\",\\\"TensorFlowDNN\\\",\\\"AveragedPerceptronClassifier\\\",\\\"LinearSVM\\\"],\\\"private_models\\\":[],\\\"auto_blacklist\\\":true,\\\"blacklist_samples_reached\\\":false,\\\"exclude_nan_labels\\\":true,\\\"verbosity\\\":20,\\\"_debug_log\\\":\\\"azureml_automl.log\\\",\\\"show_warnings\\\":false,\\\"model_explainability\\\":true,\\\"service_url\\\":null,\\\"sdk_url\\\":null,\\\"sdk_packages\\\":null,\\\"enable_onnx_compatible_models\\\":false,\\\"enable_split_onnx_featurizer_estimator_models\\\":false,\\\"vm_type\\\":\\\"STANDARD_D2_V2\\\",\\\"telemetry_verbosity\\\":20,\\\"send_telemetry\\\":true,\\\"enable_dnn\\\":false,\\\"scenario\\\":\\\"SDK-1.13.0\\\",\\\"environment_label\\\":null,\\\"save_mlflow\\\":false,\\\"force_text_dnn\\\":false,\\\"enable_feature_sweeping\\\":true,\\\"enable_early_stopping\\\":true,\\\"early_stopping_n_iters\\\":10,\\\"metrics\\\":null,\\\"enable_metric_confidence\\\":false,\\\"enable_ensembling\\\":true,\\\"enable_stack_ensembling\\\":true,\\\"ensemble_iterations\\\":15,\\\"enable_tf\\\":false,\\\"enable_subsampling\\\":null,\\\"subsample_seed\\\":null,\\\"enable_nimbusml\\\":false,\\\"enable_streaming\\\":false,\\\"force_streaming\\\":false,\\\"track_child_runs\\\":true,\\\"allowed_private_models\\\":[],\\\"label_column_name\\\":\\\"Churn\\\",\\\"weight_column_name\\\":null,\\\"cv_split_column_names\\\":null,\\\"enable_local_managed\\\":false,\\\"_local_managed_run_id\\\":null,\\\"cost_mode\\\":1,\\\"lag_length\\\":0,\\\"metric_operation\\\":\\\"maximize\\\",\\\"preprocess\\\":true}\", \"DataPrepJsonString\": \"{\\\\\\\"training_data\\\\\\\": {\\\\\\\"datasetId\\\\\\\": \\\\\\\"e9bc2787-232a-46bc-a474-fc190fd96ac2\\\\\\\"}, \\\\\\\"datasets\\\\\\\": 0}\", \"EnableSubsampling\": null, \"runTemplate\": \"AutoML\", \"azureml.runsource\": \"automl\", \"display_task_type\": \"classification\", \"dependencies_versions\": \"{\\\"azureml-widgets\\\": \\\"1.33.0\\\", \\\"azureml-train\\\": \\\"1.33.0\\\", \\\"azureml-train-restclients-hyperdrive\\\": \\\"1.33.0\\\", \\\"azureml-train-core\\\": \\\"1.33.0\\\", \\\"azureml-train-automl\\\": \\\"1.33.0\\\", \\\"azureml-train-automl-runtime\\\": \\\"1.33.0\\\", \\\"azureml-train-automl-client\\\": \\\"1.33.0\\\", \\\"azureml-tensorboard\\\": \\\"1.33.0\\\", \\\"azureml-telemetry\\\": \\\"1.33.0\\\", \\\"azureml-sdk\\\": \\\"1.33.0\\\", \\\"azureml-samples\\\": \\\"0+unknown\\\", \\\"azureml-responsibleai\\\": \\\"1.33.0\\\", \\\"azureml-pipeline\\\": \\\"1.33.0\\\", \\\"azureml-pipeline-steps\\\": \\\"1.33.0\\\", \\\"azureml-pipeline-core\\\": \\\"1.33.0\\\", \\\"azureml-opendatasets\\\": \\\"1.33.0\\\", \\\"azureml-mlflow\\\": \\\"1.33.0\\\", \\\"azureml-interpret\\\": \\\"1.33.0\\\", \\\"azureml-explain-model\\\": \\\"1.33.0\\\", \\\"azureml-defaults\\\": \\\"1.33.0\\\", \\\"azureml-dataset-runtime\\\": \\\"1.33.0\\\", \\\"azureml-dataprep\\\": \\\"2.20.1\\\", \\\"azureml-dataprep-rslex\\\": \\\"1.18.0\\\", \\\"azureml-dataprep-native\\\": \\\"38.0.0\\\", \\\"azureml-datadrift\\\": \\\"1.33.0\\\", \\\"azureml-core\\\": \\\"1.33.0\\\", \\\"azureml-contrib-services\\\": \\\"1.33.0\\\", \\\"azureml-contrib-server\\\": \\\"1.33.0\\\", \\\"azureml-contrib-reinforcementlearning\\\": \\\"1.33.0\\\", \\\"azureml-contrib-pipeline-steps\\\": \\\"1.33.0\\\", \\\"azureml-contrib-notebook\\\": \\\"1.33.0\\\", \\\"azureml-contrib-fairness\\\": \\\"1.33.0\\\", \\\"azureml-contrib-dataset\\\": \\\"1.33.0\\\", \\\"azureml-cli-common\\\": \\\"1.33.0\\\", \\\"azureml-automl-runtime\\\": \\\"1.33.0\\\", \\\"azureml-automl-dnn-nlp\\\": \\\"1.33.0\\\", \\\"azureml-automl-core\\\": \\\"1.33.0\\\", \\\"azureml-accel-models\\\": \\\"1.33.0\\\"}\", \"_aml_system_scenario_identification\": \"Remote.Parent\", \"ClientType\": \"SDK\", \"environment_cpu_name\": \"AzureML-AutoML\", \"environment_cpu_label\": \"prod\", \"environment_gpu_name\": \"AzureML-AutoML-GPU\", \"environment_gpu_label\": \"prod\", \"root_attribution\": \"automl\", \"attribution\": \"AutoML\", \"Orchestrator\": \"AutoML\", \"CancelUri\": \"https://southcentralus.api.azureml.ms/jasmine/v1.0/subscriptions/61c5c3f0-6dc7-4ed9-a7f3-c704b20e3b30/resourceGroups/aml-quickstarts-159333/providers/Microsoft.MachineLearningServices/workspaces/quick-starts-ws-159333/experimentids/6ee5ce8f-e0ad-471b-b53c-5cb94ed458e9/cancel/AutoML_78a45b32-8739-4c0b-a14d-2ce6e71df070\", \"ClientSdkVersion\": \"1.34.0.post1\", \"snapshotId\": \"00000000-0000-0000-0000-000000000000\", \"SetupRunId\": \"AutoML_78a45b32-8739-4c0b-a14d-2ce6e71df070_setup\", \"SetupRunContainerId\": \"dcid.AutoML_78a45b32-8739-4c0b-a14d-2ce6e71df070_setup\", \"FeaturizationRunJsonPath\": \"featurizer_container.json\", \"FeaturizationRunId\": \"AutoML_78a45b32-8739-4c0b-a14d-2ce6e71df070_featurize\", \"ProblemInfoJsonString\": \"{\\\"dataset_num_categorical\\\": 0, \\\"is_sparse\\\": false, \\\"subsampling\\\": false, \\\"has_extra_col\\\": true, \\\"dataset_classes\\\": 2, \\\"dataset_features\\\": 24, \\\"dataset_samples\\\": 5274, \\\"single_frequency_class_detected\\\": false}\", \"ModelExplainRunId\": \"AutoML_78a45b32-8739-4c0b-a14d-2ce6e71df070_ModelExplain\"}, \"tags\": {\"model_explain_run\": \"best_run\", \"_aml_system_azureml.automlComponent\": \"AutoML\", \"pipeline_id\": \"\", \"score\": \"\", \"predicted_cost\": \"\", \"fit_time\": \"\", \"training_percent\": \"\", \"iteration\": \"\", \"run_preprocessor\": \"\", \"run_algorithm\": \"\", \"dynamic_whitelisting_iterations\": \"<25>;<30>;<35>;<38>;<45>;<50>;\", \"automl_best_child_run_id\": \"AutoML_78a45b32-8739-4c0b-a14d-2ce6e71df070_55\", \"model_explain_best_run_child_id\": \"AutoML_78a45b32-8739-4c0b-a14d-2ce6e71df070_55\"}, \"end_time_utc\": \"2021-09-26T14:13:54.25214Z\", \"status\": \"Completed\", \"log_files\": {}, \"log_groups\": [], \"run_duration\": \"0:27:20\", \"run_number\": \"1\", \"run_queued_details\": {\"status\": \"Completed\", \"details\": null}}, \"child_runs\": [{\"run_id\": \"AutoML_78a45b32-8739-4c0b-a14d-2ce6e71df070_2\", \"run_number\": 5, \"metric\": null, \"status\": \"Completed\", \"run_type\": \"azureml.scriptrun\", \"training_percent\": \"100\", \"start_time\": \"2021-09-26T13:55:24.107121Z\", \"end_time\": \"2021-09-26T13:56:03.129265Z\", \"created_time\": \"2021-09-26T13:54:17.338035Z\", \"created_time_dt\": \"2021-09-26T13:54:17.338035Z\", \"duration\": \"0:01:45\", \"iteration\": \"2\", \"goal\": \"AUC_weighted_max\", \"run_name\": \"MaxAbsScaler, ExtremeRandomTrees\", \"run_properties\": \"copy=True\", \"primary_metric\": 0.83687526, \"best_metric\": 0.84274012}, {\"run_id\": \"AutoML_78a45b32-8739-4c0b-a14d-2ce6e71df070_3\", \"run_number\": 6, \"metric\": null, \"status\": \"Completed\", \"run_type\": \"azureml.scriptrun\", \"training_percent\": \"100\", \"start_time\": \"2021-09-26T13:57:35.211339Z\", \"end_time\": \"2021-09-26T14:02:48.854869Z\", \"created_time\": \"2021-09-26T13:54:17.357069Z\", \"created_time_dt\": \"2021-09-26T13:54:17.357069Z\", \"duration\": \"0:08:31\", \"iteration\": \"3\", \"goal\": \"AUC_weighted_max\", \"run_name\": \"MaxAbsScaler, RandomForest\", \"run_properties\": \"copy=True\", \"primary_metric\": 0.84026583, \"best_metric\": 0.84274012}, {\"run_id\": \"AutoML_78a45b32-8739-4c0b-a14d-2ce6e71df070_4\", \"run_number\": 7, \"metric\": null, \"status\": \"Completed\", \"run_type\": \"azureml.scriptrun\", \"training_percent\": \"100\", \"start_time\": \"2021-09-26T13:54:30.610798Z\", \"end_time\": \"2021-09-26T13:55:09.560544Z\", \"created_time\": \"2021-09-26T13:54:17.367478Z\", \"created_time_dt\": \"2021-09-26T13:54:17.367478Z\", \"duration\": \"0:00:52\", \"iteration\": \"4\", \"goal\": \"AUC_weighted_max\", \"run_name\": \"StandardScalerWrapper, LightGBM\", \"run_properties\": \"\\n    copy=True,\\n    with_mean=False,\\n    with_std=True\\n\", \"primary_metric\": 0.8448586, \"best_metric\": 0.8448586}, {\"run_id\": \"AutoML_78a45b32-8739-4c0b-a14d-2ce6e71df070_1\", \"run_number\": 8, \"metric\": null, \"status\": \"Completed\", \"run_type\": \"azureml.scriptrun\", \"training_percent\": \"100\", \"start_time\": \"2021-09-26T13:56:19.652854Z\", \"end_time\": \"2021-09-26T13:57:01.649272Z\", \"created_time\": \"2021-09-26T13:54:17.368452Z\", \"created_time_dt\": \"2021-09-26T13:54:17.368452Z\", \"duration\": \"0:02:44\", \"iteration\": \"1\", \"goal\": \"AUC_weighted_max\", \"run_name\": \"MaxAbsScaler, XGBoostClassifier\", \"run_properties\": \"copy=True\", \"primary_metric\": 0.84274012, \"best_metric\": 0.84274012}, {\"run_id\": \"AutoML_78a45b32-8739-4c0b-a14d-2ce6e71df070_0\", \"run_number\": 9, \"metric\": null, \"status\": \"Completed\", \"run_type\": \"azureml.scriptrun\", \"training_percent\": \"100\", \"start_time\": \"2021-09-26T13:57:17.203952Z\", \"end_time\": \"2021-09-26T13:57:58.045223Z\", \"created_time\": \"2021-09-26T13:54:17.35768Z\", \"created_time_dt\": \"2021-09-26T13:54:17.35768Z\", \"duration\": \"0:03:40\", \"iteration\": \"0\", \"goal\": \"AUC_weighted_max\", \"run_name\": \"MaxAbsScaler, LightGBM\", \"run_properties\": \"copy=True\", \"primary_metric\": 0.83009892, \"best_metric\": 0.83009892}, {\"run_id\": \"AutoML_78a45b32-8739-4c0b-a14d-2ce6e71df070_5\", \"run_number\": 10, \"metric\": null, \"status\": \"Completed\", \"run_type\": \"azureml.scriptrun\", \"training_percent\": \"100\", \"start_time\": \"2021-09-26T13:57:37.315009Z\", \"end_time\": \"2021-09-26T14:02:47.917061Z\", \"created_time\": \"2021-09-26T13:55:12.679571Z\", \"created_time_dt\": \"2021-09-26T13:55:12.679571Z\", \"duration\": \"0:07:35\", \"iteration\": \"5\", \"goal\": \"AUC_weighted_max\", \"run_name\": \"SparseNormalizer, XGBoostClassifier\", \"run_properties\": \"copy=True, norm='max'\", \"primary_metric\": 0.83593554, \"best_metric\": 0.8448586}, {\"run_id\": \"AutoML_78a45b32-8739-4c0b-a14d-2ce6e71df070_6\", \"run_number\": 11, \"metric\": null, \"status\": \"Completed\", \"run_type\": \"azureml.scriptrun\", \"training_percent\": \"100\", \"start_time\": \"2021-09-26T13:57:37.517917Z\", \"end_time\": \"2021-09-26T14:02:52.261502Z\", \"created_time\": \"2021-09-26T13:56:06.058319Z\", \"created_time_dt\": \"2021-09-26T13:56:06.058319Z\", \"duration\": \"0:06:46\", \"iteration\": \"6\", \"goal\": \"AUC_weighted_max\", \"run_name\": \"SparseNormalizer, RandomForest\", \"run_properties\": \"copy=True, norm='l2'\", \"primary_metric\": 0.84395136, \"best_metric\": 0.8448586}, {\"run_id\": \"AutoML_78a45b32-8739-4c0b-a14d-2ce6e71df070_7\", \"run_number\": 12, \"metric\": null, \"status\": \"Completed\", \"run_type\": \"azureml.scriptrun\", \"training_percent\": \"100\", \"start_time\": \"2021-09-26T13:58:11.660797Z\", \"end_time\": \"2021-09-26T13:58:51.67424Z\", \"created_time\": \"2021-09-26T13:57:04.734929Z\", \"created_time_dt\": \"2021-09-26T13:57:04.734929Z\", \"duration\": \"0:01:46\", \"iteration\": \"7\", \"goal\": \"AUC_weighted_max\", \"run_name\": \"MinMaxScaler, RandomForest\", \"run_properties\": \"copy=True, feature_range=(0, 1\", \"primary_metric\": 0.83251437, \"best_metric\": 0.8448586}, {\"run_id\": \"AutoML_78a45b32-8739-4c0b-a14d-2ce6e71df070_8\", \"run_number\": 13, \"metric\": null, \"status\": \"Completed\", \"run_type\": \"azureml.scriptrun\", \"training_percent\": \"100\", \"start_time\": \"2021-09-26T13:59:09.2324Z\", \"end_time\": \"2021-09-26T13:59:48.735782Z\", \"created_time\": \"2021-09-26T13:58:01.024537Z\", \"created_time_dt\": \"2021-09-26T13:58:01.024537Z\", \"duration\": \"0:01:47\", \"iteration\": \"8\", \"goal\": \"AUC_weighted_max\", \"run_name\": \"StandardScalerWrapper, LogisticRegression\", \"run_properties\": \"\\n    copy=True,\\n    with_mean=True,\\n    with_std=True\\n\", \"primary_metric\": 0.84412806, \"best_metric\": 0.8448586}, {\"run_id\": \"AutoML_78a45b32-8739-4c0b-a14d-2ce6e71df070_9\", \"run_number\": 14, \"metric\": null, \"status\": \"Completed\", \"run_type\": \"azureml.scriptrun\", \"training_percent\": \"100\", \"start_time\": \"2021-09-26T14:00:03.092744Z\", \"end_time\": \"2021-09-26T14:00:42.234017Z\", \"created_time\": \"2021-09-26T13:58:54.727121Z\", \"created_time_dt\": \"2021-09-26T13:58:54.727121Z\", \"duration\": \"0:01:47\", \"iteration\": \"9\", \"goal\": \"AUC_weighted_max\", \"run_name\": \"StandardScalerWrapper, XGBoostClassifier\", \"run_properties\": \"\\n    copy=True,\\n    with_mean=False,\\n    with_std=False\\n\", \"primary_metric\": 0.83189805, \"best_metric\": 0.8448586}, {\"run_id\": \"AutoML_78a45b32-8739-4c0b-a14d-2ce6e71df070_10\", \"run_number\": 15, \"metric\": null, \"status\": \"Completed\", \"run_type\": \"azureml.scriptrun\", \"training_percent\": \"100\", \"start_time\": \"2021-09-26T14:00:58.539162Z\", \"end_time\": \"2021-09-26T14:01:38.66018Z\", \"created_time\": \"2021-09-26T13:59:52.023369Z\", \"created_time_dt\": \"2021-09-26T13:59:52.023369Z\", \"duration\": \"0:01:46\", \"iteration\": \"10\", \"goal\": \"AUC_weighted_max\", \"run_name\": \"RobustScaler, ExtremeRandomTrees\", \"run_properties\": \"copy=True, quantile_range=[10, 90], with_centering=True,\\n             with_scaling=False\", \"primary_metric\": 0.82545033, \"best_metric\": 0.8448586}, {\"run_id\": \"AutoML_78a45b32-8739-4c0b-a14d-2ce6e71df070_11\", \"run_number\": 16, \"metric\": null, \"status\": \"Completed\", \"run_type\": \"azureml.scriptrun\", \"training_percent\": \"100\", \"start_time\": \"2021-09-26T14:01:56.100294Z\", \"end_time\": \"2021-09-26T14:02:36.513274Z\", \"created_time\": \"2021-09-26T14:00:45.409275Z\", \"created_time_dt\": \"2021-09-26T14:00:45.409275Z\", \"duration\": \"0:01:51\", \"iteration\": \"11\", \"goal\": \"AUC_weighted_max\", \"run_name\": \"SparseNormalizer, XGBoostClassifier\", \"run_properties\": \"copy=True, norm='max'\", \"primary_metric\": 0.83376839, \"best_metric\": 0.8448586}, {\"run_id\": \"AutoML_78a45b32-8739-4c0b-a14d-2ce6e71df070_12\", \"run_number\": 17, \"metric\": null, \"status\": \"Completed\", \"run_type\": \"azureml.scriptrun\", \"training_percent\": \"100\", \"start_time\": \"2021-09-26T14:02:50.68605Z\", \"end_time\": \"2021-09-26T14:03:30.382046Z\", \"created_time\": \"2021-09-26T14:01:41.879527Z\", \"created_time_dt\": \"2021-09-26T14:01:41.879527Z\", \"duration\": \"0:01:48\", \"iteration\": \"12\", \"goal\": \"AUC_weighted_max\", \"run_name\": \"MinMaxScaler, ExtremeRandomTrees\", \"run_properties\": \"copy=True, feature_range=(0, 1\", \"primary_metric\": 0.83955387, \"best_metric\": 0.8448586}, {\"run_id\": \"AutoML_78a45b32-8739-4c0b-a14d-2ce6e71df070_13\", \"run_number\": 18, \"metric\": null, \"status\": \"Completed\", \"run_type\": \"azureml.scriptrun\", \"training_percent\": \"100\", \"start_time\": \"2021-09-26T14:03:02.683944Z\", \"end_time\": \"2021-09-26T14:03:48.150182Z\", \"created_time\": \"2021-09-26T14:02:39.828496Z\", \"created_time_dt\": \"2021-09-26T14:02:39.828496Z\", \"duration\": \"0:01:08\", \"iteration\": \"13\", \"goal\": \"AUC_weighted_max\", \"run_name\": \"MinMaxScaler, ExtremeRandomTrees\", \"run_properties\": \"copy=True, feature_range=(0, 1\", \"primary_metric\": 0.84288476, \"best_metric\": 0.8448586}, {\"run_id\": \"AutoML_78a45b32-8739-4c0b-a14d-2ce6e71df070_14\", \"run_number\": 19, \"metric\": null, \"status\": \"Completed\", \"run_type\": \"azureml.scriptrun\", \"training_percent\": \"100\", \"start_time\": \"2021-09-26T14:03:04.96583Z\", \"end_time\": \"2021-09-26T14:03:45.463581Z\", \"created_time\": \"2021-09-26T14:02:51.219773Z\", \"created_time_dt\": \"2021-09-26T14:02:51.219773Z\", \"duration\": \"0:00:54\", \"iteration\": \"14\", \"goal\": \"AUC_weighted_max\", \"run_name\": \"SparseNormalizer, LightGBM\", \"run_properties\": \"copy=True, norm='l1'\", \"primary_metric\": 0.83987514, \"best_metric\": 0.8448586}, {\"run_id\": \"AutoML_78a45b32-8739-4c0b-a14d-2ce6e71df070_15\", \"run_number\": 20, \"metric\": null, \"status\": \"Completed\", \"run_type\": \"azureml.scriptrun\", \"training_percent\": \"100\", \"start_time\": \"2021-09-26T14:03:06.154303Z\", \"end_time\": \"2021-09-26T14:03:57.848359Z\", \"created_time\": \"2021-09-26T14:02:55.26636Z\", \"created_time_dt\": \"2021-09-26T14:02:55.26636Z\", \"duration\": \"0:01:02\", \"iteration\": \"15\", \"goal\": \"AUC_weighted_max\", \"run_name\": \"MaxAbsScaler, ExtremeRandomTrees\", \"run_properties\": \"copy=True\", \"primary_metric\": 0.84091124, \"best_metric\": 0.8448586}, {\"run_id\": \"AutoML_78a45b32-8739-4c0b-a14d-2ce6e71df070_16\", \"run_number\": 21, \"metric\": null, \"status\": \"Completed\", \"run_type\": \"azureml.scriptrun\", \"training_percent\": \"100\", \"start_time\": \"2021-09-26T14:03:48.366725Z\", \"end_time\": \"2021-09-26T14:04:30.986172Z\", \"created_time\": \"2021-09-26T14:02:55.299738Z\", \"created_time_dt\": \"2021-09-26T14:02:55.299738Z\", \"duration\": \"0:01:35\", \"iteration\": \"16\", \"goal\": \"AUC_weighted_max\", \"run_name\": \"StandardScalerWrapper, XGBoostClassifier\", \"run_properties\": \"\\n    copy=True,\\n    with_mean=False,\\n    with_std=False\\n\", \"primary_metric\": 0.84000168, \"best_metric\": 0.8448586}, {\"run_id\": \"AutoML_78a45b32-8739-4c0b-a14d-2ce6e71df070_17\", \"run_number\": 22, \"metric\": null, \"status\": \"Completed\", \"run_type\": \"azureml.scriptrun\", \"training_percent\": \"100\", \"start_time\": \"2021-09-26T14:03:59.579111Z\", \"end_time\": \"2021-09-26T14:04:45.354026Z\", \"created_time\": \"2021-09-26T14:03:33.360539Z\", \"created_time_dt\": \"2021-09-26T14:03:33.360539Z\", \"duration\": \"0:01:11\", \"iteration\": \"17\", \"goal\": \"AUC_weighted_max\", \"run_name\": \"StandardScalerWrapper, RandomForest\", \"run_properties\": \"\\n    copy=True,\\n    with_mean=False,\\n    with_std=False\\n\", \"primary_metric\": 0.82121711, \"best_metric\": 0.8448586}, {\"run_id\": \"AutoML_78a45b32-8739-4c0b-a14d-2ce6e71df070_18\", \"run_number\": 23, \"metric\": null, \"status\": \"Completed\", \"run_type\": \"azureml.scriptrun\", \"training_percent\": \"100\", \"start_time\": \"2021-09-26T14:04:02.808461Z\", \"end_time\": \"2021-09-26T14:04:42.606895Z\", \"created_time\": \"2021-09-26T14:03:48.312488Z\", \"created_time_dt\": \"2021-09-26T14:03:48.312488Z\", \"duration\": \"0:00:54\", \"iteration\": \"18\", \"goal\": \"AUC_weighted_max\", \"run_name\": \"MaxAbsScaler, LightGBM\", \"run_properties\": \"copy=True\", \"primary_metric\": 0.84267648, \"best_metric\": 0.8448586}, {\"run_id\": \"AutoML_78a45b32-8739-4c0b-a14d-2ce6e71df070_19\", \"run_number\": 24, \"metric\": null, \"status\": \"Completed\", \"run_type\": \"azureml.scriptrun\", \"training_percent\": \"100\", \"start_time\": \"2021-09-26T14:04:11.971268Z\", \"end_time\": \"2021-09-26T14:04:54.567602Z\", \"created_time\": \"2021-09-26T14:03:52.492645Z\", \"created_time_dt\": \"2021-09-26T14:03:52.492645Z\", \"duration\": \"0:01:02\", \"iteration\": \"19\", \"goal\": \"AUC_weighted_max\", \"run_name\": \"MaxAbsScaler, LogisticRegression\", \"run_properties\": \"copy=True\", \"primary_metric\": 0.84383157, \"best_metric\": 0.8448586}, {\"run_id\": \"AutoML_78a45b32-8739-4c0b-a14d-2ce6e71df070_20\", \"run_number\": 25, \"metric\": null, \"status\": \"Completed\", \"run_type\": \"azureml.scriptrun\", \"training_percent\": \"100\", \"start_time\": \"2021-09-26T14:04:46.179442Z\", \"end_time\": \"2021-09-26T14:05:32.650645Z\", \"created_time\": \"2021-09-26T14:04:00.733298Z\", \"created_time_dt\": \"2021-09-26T14:04:00.733298Z\", \"duration\": \"0:01:31\", \"iteration\": \"20\", \"goal\": \"AUC_weighted_max\", \"run_name\": \"StandardScalerWrapper, ExtremeRandomTrees\", \"run_properties\": \"\\n    copy=True,\\n    with_mean=False,\\n    with_std=True\\n\", \"primary_metric\": 0.8396294, \"best_metric\": 0.8448586}, {\"run_id\": \"AutoML_78a45b32-8739-4c0b-a14d-2ce6e71df070_21\", \"run_number\": 26, \"metric\": null, \"status\": \"Completed\", \"run_type\": \"azureml.scriptrun\", \"training_percent\": \"100\", \"start_time\": \"2021-09-26T14:04:58.232841Z\", \"end_time\": \"2021-09-26T14:05:39.897757Z\", \"created_time\": \"2021-09-26T14:04:34.060032Z\", \"created_time_dt\": \"2021-09-26T14:04:34.060032Z\", \"duration\": \"0:01:05\", \"iteration\": \"21\", \"goal\": \"AUC_weighted_max\", \"run_name\": \"StandardScalerWrapper, XGBoostClassifier\", \"run_properties\": \"\\n    copy=True,\\n    with_mean=False,\\n    with_std=False\\n\", \"primary_metric\": 0.83504981, \"best_metric\": 0.8448586}, {\"run_id\": \"AutoML_78a45b32-8739-4c0b-a14d-2ce6e71df070_22\", \"run_number\": 27, \"metric\": null, \"status\": \"Failed\", \"run_type\": \"azureml.scriptrun\", \"training_percent\": \"100\", \"start_time\": \"2021-09-26T14:05:02.269459Z\", \"end_time\": \"2021-09-26T14:05:37.270223Z\", \"created_time\": \"2021-09-26T14:04:45.424836Z\", \"created_time_dt\": \"2021-09-26T14:04:45.424836Z\", \"duration\": \"0:00:51\", \"iteration\": \"22\", \"goal\": \"AUC_weighted_max\", \"run_name\": \"MaxAbsScaler, LogisticRegression\", \"run_properties\": \"copy=True\"}, {\"run_id\": \"AutoML_78a45b32-8739-4c0b-a14d-2ce6e71df070_23\", \"run_number\": 28, \"metric\": null, \"status\": \"Completed\", \"run_type\": \"azureml.scriptrun\", \"training_percent\": \"100\", \"start_time\": \"2021-09-26T14:05:06.529799Z\", \"end_time\": \"2021-09-26T14:05:49.9932Z\", \"created_time\": \"2021-09-26T14:04:49.569252Z\", \"created_time_dt\": \"2021-09-26T14:04:49.569252Z\", \"duration\": \"0:01:00\", \"iteration\": \"23\", \"goal\": \"AUC_weighted_max\", \"run_name\": \"StandardScalerWrapper, XGBoostClassifier\", \"run_properties\": \"\\n    copy=True,\\n    with_mean=False,\\n    with_std=False\\n\", \"primary_metric\": 0.83266239, \"best_metric\": 0.8448586}, {\"run_id\": \"AutoML_78a45b32-8739-4c0b-a14d-2ce6e71df070_24\", \"run_number\": 29, \"metric\": null, \"status\": \"Completed\", \"run_type\": \"azureml.scriptrun\", \"training_percent\": \"100\", \"start_time\": \"2021-09-26T14:05:50.008385Z\", \"end_time\": \"2021-09-26T14:06:32.468175Z\", \"created_time\": \"2021-09-26T14:04:59.8956Z\", \"created_time_dt\": \"2021-09-26T14:04:59.8956Z\", \"duration\": \"0:01:32\", \"iteration\": \"24\", \"goal\": \"AUC_weighted_max\", \"run_name\": \"StandardScalerWrapper, XGBoostClassifier\", \"run_properties\": \"\\n    copy=True,\\n    with_mean=False,\\n    with_std=False\\n\", \"primary_metric\": 0.84060434, \"best_metric\": 0.8448586}, {\"run_id\": \"AutoML_78a45b32-8739-4c0b-a14d-2ce6e71df070_25\", \"run_number\": 30, \"metric\": null, \"status\": \"Completed\", \"run_type\": \"azureml.scriptrun\", \"training_percent\": \"100\", \"start_time\": \"2021-09-26T14:05:53.633363Z\", \"end_time\": \"2021-09-26T14:06:31.384898Z\", \"created_time\": \"2021-09-26T14:05:36.77098Z\", \"created_time_dt\": \"2021-09-26T14:05:36.77098Z\", \"duration\": \"0:00:54\", \"iteration\": \"25\", \"goal\": \"AUC_weighted_max\", \"run_name\": \"PCA, LightGBM\", \"run_properties\": \"copy=True, iterated_power='auto', n_components=0.01, random_state=None,\\n    svd_solver='auto', tol=0.0, whiten=False\", \"primary_metric\": 0.65618375, \"best_metric\": 0.8448586}, {\"run_id\": \"AutoML_78a45b32-8739-4c0b-a14d-2ce6e71df070_26\", \"run_number\": 31, \"metric\": null, \"status\": \"Completed\", \"run_type\": \"azureml.scriptrun\", \"training_percent\": \"100\", \"start_time\": \"2021-09-26T14:05:56.025289Z\", \"end_time\": \"2021-09-26T14:06:35.955937Z\", \"created_time\": \"2021-09-26T14:05:40.482798Z\", \"created_time_dt\": \"2021-09-26T14:05:40.482798Z\", \"duration\": \"0:00:55\", \"iteration\": \"26\", \"goal\": \"AUC_weighted_max\", \"run_name\": \"MaxAbsScaler, LogisticRegression\", \"run_properties\": \"copy=True\", \"primary_metric\": 0.84398115, \"best_metric\": 0.8448586}, {\"run_id\": \"AutoML_78a45b32-8739-4c0b-a14d-2ce6e71df070_27\", \"run_number\": 32, \"metric\": null, \"status\": \"Completed\", \"run_type\": \"azureml.scriptrun\", \"training_percent\": \"100\", \"start_time\": \"2021-09-26T14:06:08.767225Z\", \"end_time\": \"2021-09-26T14:06:49.438599Z\", \"created_time\": \"2021-09-26T14:05:43.224286Z\", \"created_time_dt\": \"2021-09-26T14:05:43.224286Z\", \"duration\": \"0:01:06\", \"iteration\": \"27\", \"goal\": \"AUC_weighted_max\", \"run_name\": \"MinMaxScaler, LogisticRegression\", \"run_properties\": \"copy=True, feature_range=(0, 1\", \"primary_metric\": 0.8439559, \"best_metric\": 0.8448586}, {\"run_id\": \"AutoML_78a45b32-8739-4c0b-a14d-2ce6e71df070_28\", \"run_number\": 33, \"metric\": null, \"status\": \"Completed\", \"run_type\": \"azureml.scriptrun\", \"training_percent\": \"100\", \"start_time\": \"2021-09-26T14:06:46.894604Z\", \"end_time\": \"2021-09-26T14:07:26.8134Z\", \"created_time\": \"2021-09-26T14:05:52.061116Z\", \"created_time_dt\": \"2021-09-26T14:05:52.061116Z\", \"duration\": \"0:01:34\", \"iteration\": \"28\", \"goal\": \"AUC_weighted_max\", \"run_name\": \"MinMaxScaler, LightGBM\", \"run_properties\": \"copy=True, feature_range=(0, 1\", \"primary_metric\": 0.83360615, \"best_metric\": 0.8448586}, {\"run_id\": \"AutoML_78a45b32-8739-4c0b-a14d-2ce6e71df070_29\", \"run_number\": 34, \"metric\": null, \"status\": \"Completed\", \"run_type\": \"azureml.scriptrun\", \"training_percent\": \"100\", \"start_time\": \"2021-09-26T14:06:50.583551Z\", \"end_time\": \"2021-09-26T14:07:56.188578Z\", \"created_time\": \"2021-09-26T14:06:33.53748Z\", \"created_time_dt\": \"2021-09-26T14:06:33.53748Z\", \"duration\": \"0:01:22\", \"iteration\": \"29\", \"goal\": \"AUC_weighted_max\", \"run_name\": \"SparseNormalizer, XGBoostClassifier\", \"run_properties\": \"copy=True, norm='max'\", \"primary_metric\": 0.80929183, \"best_metric\": 0.8448586}, {\"run_id\": \"AutoML_78a45b32-8739-4c0b-a14d-2ce6e71df070_30\", \"run_number\": 35, \"metric\": null, \"status\": \"Completed\", \"run_type\": \"azureml.scriptrun\", \"training_percent\": \"100\", \"start_time\": \"2021-09-26T14:06:50.636554Z\", \"end_time\": \"2021-09-26T14:07:30.824301Z\", \"created_time\": \"2021-09-26T14:06:37.786062Z\", \"created_time_dt\": \"2021-09-26T14:06:37.786062Z\", \"duration\": \"0:00:53\", \"iteration\": \"30\", \"goal\": \"AUC_weighted_max\", \"run_name\": \"SparseNormalizer, LightGBM\", \"run_properties\": \"copy=True, norm='max'\", \"primary_metric\": 0.84261166, \"best_metric\": 0.8448586}, {\"run_id\": \"AutoML_78a45b32-8739-4c0b-a14d-2ce6e71df070_31\", \"run_number\": 36, \"metric\": null, \"status\": \"Completed\", \"run_type\": \"azureml.scriptrun\", \"training_percent\": \"100\", \"start_time\": \"2021-09-26T14:07:02.788584Z\", \"end_time\": \"2021-09-26T14:07:50.159812Z\", \"created_time\": \"2021-09-26T14:06:41.051128Z\", \"created_time_dt\": \"2021-09-26T14:06:41.051128Z\", \"duration\": \"0:01:09\", \"iteration\": \"31\", \"goal\": \"AUC_weighted_max\", \"run_name\": \"SparseNormalizer, XGBoostClassifier\", \"run_properties\": \"copy=True, norm='l1'\", \"primary_metric\": 0.8351814, \"best_metric\": 0.8448586}, {\"run_id\": \"AutoML_78a45b32-8739-4c0b-a14d-2ce6e71df070_32\", \"run_number\": 37, \"metric\": null, \"status\": \"Completed\", \"run_type\": \"azureml.scriptrun\", \"training_percent\": \"100\", \"start_time\": \"2021-09-26T14:07:42.521103Z\", \"end_time\": \"2021-09-26T14:08:26.47044Z\", \"created_time\": \"2021-09-26T14:06:51.538771Z\", \"created_time_dt\": \"2021-09-26T14:06:51.538771Z\", \"duration\": \"0:01:34\", \"iteration\": \"32\", \"goal\": \"AUC_weighted_max\", \"run_name\": \"SparseNormalizer, XGBoostClassifier\", \"run_properties\": \"copy=True, norm='l1'\", \"primary_metric\": 0.83123939, \"best_metric\": 0.8448586}, {\"run_id\": \"AutoML_78a45b32-8739-4c0b-a14d-2ce6e71df070_33\", \"run_number\": 38, \"metric\": null, \"status\": \"Completed\", \"run_type\": \"azureml.scriptrun\", \"training_percent\": \"100\", \"start_time\": \"2021-09-26T14:07:48.270268Z\", \"end_time\": \"2021-09-26T14:08:33.134391Z\", \"created_time\": \"2021-09-26T14:07:28.872181Z\", \"created_time_dt\": \"2021-09-26T14:07:28.872181Z\", \"duration\": \"0:01:04\", \"iteration\": \"33\", \"goal\": \"AUC_weighted_max\", \"run_name\": \"StandardScalerWrapper, XGBoostClassifier\", \"run_properties\": \"\\n    copy=True,\\n    with_mean=False,\\n    with_std=False\\n\", \"primary_metric\": 0.82278235, \"best_metric\": 0.8448586}, {\"run_id\": \"AutoML_78a45b32-8739-4c0b-a14d-2ce6e71df070_34\", \"run_number\": 39, \"metric\": null, \"status\": \"Canceled\", \"run_type\": \"azureml.scriptrun\", \"training_percent\": \"100\", \"start_time\": \"2021-09-26T14:08:03.440836Z\", \"end_time\": \"2021-09-26T14:08:34.339557Z\", \"created_time\": \"2021-09-26T14:07:32.765051Z\", \"created_time_dt\": \"2021-09-26T14:07:32.765051Z\", \"duration\": \"0:01:01\", \"iteration\": \"34\", \"goal\": \"AUC_weighted_max\", \"run_name\": \"MinMaxScaler, LightGBM\", \"run_properties\": \"copy=True, feature_range=(0, 1\", \"primary_metric\": 0.84796282, \"best_metric\": 0.84796282}, {\"run_id\": \"AutoML_78a45b32-8739-4c0b-a14d-2ce6e71df070_35\", \"run_number\": 40, \"metric\": null, \"status\": \"Canceled\", \"run_type\": \"azureml.scriptrun\", \"training_percent\": \"100\", \"start_time\": \"2021-09-26T14:08:12.753195Z\", \"end_time\": \"2021-09-26T14:08:34.237809Z\", \"created_time\": \"2021-09-26T14:07:53.332979Z\", \"created_time_dt\": \"2021-09-26T14:07:53.332979Z\", \"duration\": \"0:00:40\", \"iteration\": \"35\", \"goal\": \"AUC_weighted_max\", \"run_name\": \"RobustScaler, LightGBM\", \"run_properties\": \"copy=True, quantile_range=[10, 90], with_centering=False,\\n             with_scaling=False\", \"primary_metric\": 0.83606716, \"best_metric\": 0.84796282}, {\"run_id\": \"AutoML_78a45b32-8739-4c0b-a14d-2ce6e71df070_36\", \"run_number\": 41, \"metric\": null, \"status\": \"Canceled\", \"run_type\": \"azureml.scriptrun\", \"training_percent\": \"100\", \"start_time\": \"2021-09-26T14:07:58.211161Z\", \"end_time\": \"2021-09-26T14:08:34.308486Z\", \"created_time\": \"2021-09-26T14:07:58.211161Z\", \"created_time_dt\": \"2021-09-26T14:07:58.211161Z\", \"duration\": \"0:00:36\", \"iteration\": \"36\", \"goal\": null, \"run_name\": \"Canceled\", \"run_properties\": null}, {\"run_id\": \"AutoML_78a45b32-8739-4c0b-a14d-2ce6e71df070_37\", \"run_number\": 42, \"metric\": null, \"status\": \"Canceled\", \"run_type\": \"azureml.scriptrun\", \"training_percent\": \"100\", \"start_time\": \"2021-09-26T14:08:31.474027Z\", \"end_time\": \"2021-09-26T14:08:34.34368Z\", \"created_time\": \"2021-09-26T14:08:31.474027Z\", \"created_time_dt\": \"2021-09-26T14:08:31.474027Z\", \"duration\": \"0:00:02\", \"iteration\": \"37\", \"goal\": null, \"run_name\": \"Canceled\", \"run_properties\": null}, {\"run_id\": \"AutoML_78a45b32-8739-4c0b-a14d-2ce6e71df070_41\", \"run_number\": 43, \"metric\": null, \"status\": \"Completed\", \"run_type\": \"azureml.scriptrun\", \"training_percent\": \"100\", \"start_time\": \"2021-09-26T14:08:44.219312Z\", \"end_time\": \"2021-09-26T14:09:25.461919Z\", \"created_time\": \"2021-09-26T14:08:37.518269Z\", \"created_time_dt\": \"2021-09-26T14:08:37.518269Z\", \"duration\": \"0:00:47\", \"iteration\": \"41\", \"goal\": \"AUC_weighted_max\", \"run_name\": \"TruncatedSVDWrapper, XGBoostClassifier\", \"run_properties\": \"n_components=0.8015789473684211, random_state=None\", \"primary_metric\": 0.8250895, \"best_metric\": 0.84796282}, {\"run_id\": \"AutoML_78a45b32-8739-4c0b-a14d-2ce6e71df070_39\", \"run_number\": 44, \"metric\": null, \"status\": \"Completed\", \"run_type\": \"azureml.scriptrun\", \"training_percent\": \"100\", \"start_time\": \"2021-09-26T14:08:48.185872Z\", \"end_time\": \"2021-09-26T14:09:40.046228Z\", \"created_time\": \"2021-09-26T14:08:37.52607Z\", \"created_time_dt\": \"2021-09-26T14:08:37.52607Z\", \"duration\": \"0:01:02\", \"iteration\": \"39\", \"goal\": \"AUC_weighted_max\", \"run_name\": \"TruncatedSVDWrapper, XGBoostClassifier\", \"run_properties\": \"n_components=0.7521052631578947, random_state=None\", \"primary_metric\": 0.81704902, \"best_metric\": 0.84796282}, {\"run_id\": \"AutoML_78a45b32-8739-4c0b-a14d-2ce6e71df070_42\", \"run_number\": 45, \"metric\": null, \"status\": \"Completed\", \"run_type\": \"azureml.scriptrun\", \"training_percent\": \"100\", \"start_time\": \"2021-09-26T14:08:45.099839Z\", \"end_time\": \"2021-09-26T14:09:33.689631Z\", \"created_time\": \"2021-09-26T14:08:37.520379Z\", \"created_time_dt\": \"2021-09-26T14:08:37.520379Z\", \"duration\": \"0:00:56\", \"iteration\": \"42\", \"goal\": \"AUC_weighted_max\", \"run_name\": \"TruncatedSVDWrapper, XGBoostClassifier\", \"run_properties\": \"n_components=0.9005263157894737, random_state=None\", \"primary_metric\": 0.82079533, \"best_metric\": 0.84796282}, {\"run_id\": \"AutoML_78a45b32-8739-4c0b-a14d-2ce6e71df070_40\", \"run_number\": 46, \"metric\": null, \"status\": \"Completed\", \"run_type\": \"azureml.scriptrun\", \"training_percent\": \"100\", \"start_time\": \"2021-09-26T14:08:44.007155Z\", \"end_time\": \"2021-09-26T14:09:32.201271Z\", \"created_time\": \"2021-09-26T14:08:37.530767Z\", \"created_time_dt\": \"2021-09-26T14:08:37.530767Z\", \"duration\": \"0:00:54\", \"iteration\": \"40\", \"goal\": \"AUC_weighted_max\", \"run_name\": \"MaxAbsScaler, RandomForest\", \"run_properties\": \"copy=True\", \"primary_metric\": 0.83586641, \"best_metric\": 0.84796282}, {\"run_id\": \"AutoML_78a45b32-8739-4c0b-a14d-2ce6e71df070_38\", \"run_number\": 47, \"metric\": null, \"status\": \"Completed\", \"run_type\": \"azureml.scriptrun\", \"training_percent\": \"100\", \"start_time\": \"2021-09-26T14:09:44.76347Z\", \"end_time\": \"2021-09-26T14:10:22.015131Z\", \"created_time\": \"2021-09-26T14:08:37.518359Z\", \"created_time_dt\": \"2021-09-26T14:08:37.518359Z\", \"duration\": \"0:01:44\", \"iteration\": \"38\", \"goal\": \"AUC_weighted_max\", \"run_name\": \"PCA, LightGBM\", \"run_properties\": \"copy=True, iterated_power='auto', n_components=0.05947368421052632,\\n    random_state=None, svd_solver='auto', tol=0.0, whiten=False\", \"primary_metric\": 0.65270817, \"best_metric\": 0.84796282}, {\"run_id\": \"AutoML_78a45b32-8739-4c0b-a14d-2ce6e71df070_43\", \"run_number\": 48, \"metric\": null, \"status\": \"Completed\", \"run_type\": \"azureml.scriptrun\", \"training_percent\": \"100\", \"start_time\": \"2021-09-26T14:09:48.440058Z\", \"end_time\": \"2021-09-26T14:10:27.492417Z\", \"created_time\": \"2021-09-26T14:09:27.418847Z\", \"created_time_dt\": \"2021-09-26T14:09:27.418847Z\", \"duration\": \"0:01:00\", \"iteration\": \"43\", \"goal\": \"AUC_weighted_max\", \"run_name\": \"StandardScalerWrapper, LogisticRegression\", \"run_properties\": \"\\n    copy=True,\\n    with_mean=True,\\n    with_std=True\\n\", \"primary_metric\": 0.84383153, \"best_metric\": 0.84796282}, {\"run_id\": \"AutoML_78a45b32-8739-4c0b-a14d-2ce6e71df070_44\", \"run_number\": 49, \"metric\": null, \"status\": \"Completed\", \"run_type\": \"azureml.scriptrun\", \"training_percent\": \"100\", \"start_time\": \"2021-09-26T14:09:50.721274Z\", \"end_time\": \"2021-09-26T14:10:31.885909Z\", \"created_time\": \"2021-09-26T14:09:34.258657Z\", \"created_time_dt\": \"2021-09-26T14:09:34.258657Z\", \"duration\": \"0:00:57\", \"iteration\": \"44\", \"goal\": \"AUC_weighted_max\", \"run_name\": \"MaxAbsScaler, LightGBM\", \"run_properties\": \"copy=True\", \"primary_metric\": 0.82926125, \"best_metric\": 0.84796282}, {\"run_id\": \"AutoML_78a45b32-8739-4c0b-a14d-2ce6e71df070_45\", \"run_number\": 50, \"metric\": null, \"status\": \"Completed\", \"run_type\": \"azureml.scriptrun\", \"training_percent\": \"100\", \"start_time\": \"2021-09-26T14:09:56.845731Z\", \"end_time\": \"2021-09-26T14:10:36.585486Z\", \"created_time\": \"2021-09-26T14:09:38.11505Z\", \"created_time_dt\": \"2021-09-26T14:09:38.11505Z\", \"duration\": \"0:00:58\", \"iteration\": \"45\", \"goal\": \"AUC_weighted_max\", \"run_name\": \"PCA, LightGBM\", \"run_properties\": \"copy=True, iterated_power='auto', n_components=0.40578947368421053,\\n    random_state=None, svd_solver='auto', tol=0.0, whiten=False\", \"primary_metric\": 0.65826852, \"best_metric\": 0.84796282}, {\"run_id\": \"AutoML_78a45b32-8739-4c0b-a14d-2ce6e71df070_46\", \"run_number\": 51, \"metric\": null, \"status\": \"Completed\", \"run_type\": \"azureml.scriptrun\", \"training_percent\": \"100\", \"start_time\": \"2021-09-26T14:10:36.294806Z\", \"end_time\": \"2021-09-26T14:11:17.757789Z\", \"created_time\": \"2021-09-26T14:09:42.006179Z\", \"created_time_dt\": \"2021-09-26T14:09:42.006179Z\", \"duration\": \"0:01:35\", \"iteration\": \"46\", \"goal\": \"AUC_weighted_max\", \"run_name\": \"RobustScaler, LogisticRegression\", \"run_properties\": \"copy=True, quantile_range=[10, 90], with_centering=True,\\n             with_scaling=False\", \"primary_metric\": 0.8438866, \"best_metric\": 0.84796282}, {\"run_id\": \"AutoML_78a45b32-8739-4c0b-a14d-2ce6e71df070_47\", \"run_number\": 52, \"metric\": null, \"status\": \"Completed\", \"run_type\": \"azureml.scriptrun\", \"training_percent\": \"100\", \"start_time\": \"2021-09-26T14:10:43.206957Z\", \"end_time\": \"2021-09-26T14:11:25.882695Z\", \"created_time\": \"2021-09-26T14:10:23.904949Z\", \"created_time_dt\": \"2021-09-26T14:10:23.904949Z\", \"duration\": \"0:01:01\", \"iteration\": \"47\", \"goal\": \"AUC_weighted_max\", \"run_name\": \"StandardScalerWrapper, LogisticRegression\", \"run_properties\": \"\\n    copy=True,\\n    with_mean=False,\\n    with_std=True\\n\", \"primary_metric\": 0.8440689, \"best_metric\": 0.84796282}, {\"run_id\": \"AutoML_78a45b32-8739-4c0b-a14d-2ce6e71df070_48\", \"run_number\": 53, \"metric\": null, \"status\": \"Completed\", \"run_type\": \"azureml.scriptrun\", \"training_percent\": \"100\", \"start_time\": \"2021-09-26T14:10:50.144759Z\", \"end_time\": \"2021-09-26T14:11:31.208529Z\", \"created_time\": \"2021-09-26T14:10:29.420123Z\", \"created_time_dt\": \"2021-09-26T14:10:29.420123Z\", \"duration\": \"0:01:01\", \"iteration\": \"48\", \"goal\": \"AUC_weighted_max\", \"run_name\": \"MaxAbsScaler, ExtremeRandomTrees\", \"run_properties\": \"copy=True\", \"primary_metric\": 0.84278344, \"best_metric\": 0.84796282}, {\"run_id\": \"AutoML_78a45b32-8739-4c0b-a14d-2ce6e71df070_49\", \"run_number\": 54, \"metric\": null, \"status\": \"Completed\", \"run_type\": \"azureml.scriptrun\", \"training_percent\": \"100\", \"start_time\": \"2021-09-26T14:10:52.392894Z\", \"end_time\": \"2021-09-26T14:11:40.756446Z\", \"created_time\": \"2021-09-26T14:10:33.924956Z\", \"created_time_dt\": \"2021-09-26T14:10:33.924956Z\", \"duration\": \"0:01:06\", \"iteration\": \"49\", \"goal\": \"AUC_weighted_max\", \"run_name\": \"TruncatedSVDWrapper, XGBoostClassifier\", \"run_properties\": \"n_components=0.7521052631578947, random_state=None\", \"primary_metric\": 0.82391628, \"best_metric\": 0.84796282}, {\"run_id\": \"AutoML_78a45b32-8739-4c0b-a14d-2ce6e71df070_50\", \"run_number\": 55, \"metric\": null, \"status\": \"Completed\", \"run_type\": \"azureml.scriptrun\", \"training_percent\": \"100\", \"start_time\": \"2021-09-26T14:11:34.368802Z\", \"end_time\": \"2021-09-26T14:12:14.563665Z\", \"created_time\": \"2021-09-26T14:10:39.762796Z\", \"created_time_dt\": \"2021-09-26T14:10:39.762796Z\", \"duration\": \"0:01:34\", \"iteration\": \"50\", \"goal\": \"AUC_weighted_max\", \"run_name\": \"PCA, LightGBM\", \"run_properties\": \"copy=True, iterated_power='auto', n_components=0.05947368421052632,\\n    random_state=None, svd_solver='auto', tol=0.0, whiten=False\", \"primary_metric\": 0.6553444, \"best_metric\": 0.84796282}, {\"run_id\": \"AutoML_78a45b32-8739-4c0b-a14d-2ce6e71df070_51\", \"run_number\": 56, \"metric\": null, \"status\": \"Canceled\", \"run_type\": \"azureml.scriptrun\", \"training_percent\": \"100\", \"start_time\": \"2021-09-26T14:11:43.671665Z\", \"end_time\": \"2021-09-26T14:12:15.685666Z\", \"created_time\": \"2021-09-26T14:11:19.920425Z\", \"created_time_dt\": \"2021-09-26T14:11:19.920425Z\", \"duration\": \"0:00:55\", \"iteration\": \"51\", \"goal\": \"AUC_weighted_max\", \"run_name\": \"SparseNormalizer, XGBoostClassifier\", \"run_properties\": \"copy=True, norm='l2'\", \"primary_metric\": 0.81326523, \"best_metric\": 0.84796282}, {\"run_id\": \"AutoML_78a45b32-8739-4c0b-a14d-2ce6e71df070_52\", \"run_number\": 57, \"metric\": null, \"status\": \"Canceled\", \"run_type\": \"azureml.scriptrun\", \"training_percent\": \"100\", \"start_time\": \"2021-09-26T14:11:46.128689Z\", \"end_time\": \"2021-09-26T14:12:15.752211Z\", \"created_time\": \"2021-09-26T14:11:28.057664Z\", \"created_time_dt\": \"2021-09-26T14:11:28.057664Z\", \"duration\": \"0:00:47\", \"iteration\": \"52\", \"goal\": null, \"run_name\": \"StandardScalerWrapper, RandomForest\", \"run_properties\": null}, {\"run_id\": \"AutoML_78a45b32-8739-4c0b-a14d-2ce6e71df070_53\", \"run_number\": 58, \"metric\": null, \"status\": \"Canceled\", \"run_type\": \"azureml.scriptrun\", \"training_percent\": \"100\", \"start_time\": \"2021-09-26T14:11:56.227167Z\", \"end_time\": \"2021-09-26T14:12:15.637499Z\", \"created_time\": \"2021-09-26T14:11:33.096933Z\", \"created_time_dt\": \"2021-09-26T14:11:33.096933Z\", \"duration\": \"0:00:42\", \"iteration\": \"53\", \"goal\": \"AUC_weighted_max\", \"run_name\": \"SparseNormalizer, XGBoostClassifier\", \"run_properties\": \"copy=True, norm='l2'\", \"primary_metric\": 0.8411875, \"best_metric\": 0.84796282}, {\"run_id\": \"AutoML_78a45b32-8739-4c0b-a14d-2ce6e71df070_54\", \"run_number\": 59, \"metric\": null, \"status\": \"Canceled\", \"run_type\": \"azureml.scriptrun\", \"training_percent\": \"100\", \"start_time\": \"2021-09-26T14:11:43.004546Z\", \"end_time\": \"2021-09-26T14:12:15.598919Z\", \"created_time\": \"2021-09-26T14:11:43.004546Z\", \"created_time_dt\": \"2021-09-26T14:11:43.004546Z\", \"duration\": \"0:00:32\", \"iteration\": \"54\", \"goal\": null, \"run_name\": \"Canceled\", \"run_properties\": null}, {\"run_id\": \"AutoML_78a45b32-8739-4c0b-a14d-2ce6e71df070_55\", \"run_number\": 60, \"metric\": null, \"status\": \"Completed\", \"run_type\": \"azureml.scriptrun\", \"training_percent\": \"100\", \"start_time\": \"2021-09-26T14:12:22.556973Z\", \"end_time\": \"2021-09-26T14:13:41.83004Z\", \"created_time\": \"2021-09-26T14:12:16.830492Z\", \"created_time_dt\": \"2021-09-26T14:12:16.830492Z\", \"duration\": \"0:01:24\", \"iteration\": \"55\", \"goal\": \"AUC_weighted_max\", \"run_name\": \"VotingEnsemble\", \"run_properties\": \"\\n    estimators=[('34', Pipeline(\\n        memory=None,\\n        steps=[('minmaxscaler', MinMaxScaler(\\n            copy=True,\\n            feature_range=(0, 1\", \"primary_metric\": 0.84948558, \"best_metric\": 0.84948558}, {\"run_id\": \"AutoML_78a45b32-8739-4c0b-a14d-2ce6e71df070_56\", \"run_number\": 61, \"metric\": null, \"status\": \"Completed\", \"run_type\": \"azureml.scriptrun\", \"training_percent\": \"100\", \"start_time\": \"2021-09-26T14:12:20.53165Z\", \"end_time\": \"2021-09-26T14:13:52.099158Z\", \"created_time\": \"2021-09-26T14:12:16.876462Z\", \"created_time_dt\": \"2021-09-26T14:12:16.876462Z\", \"duration\": \"0:01:35\", \"iteration\": \"56\", \"goal\": \"AUC_weighted_max\", \"run_name\": \"StackEnsemble\", \"run_properties\": \"\\n    base_learners=[('34', Pipeline(\\n        memory=None,\\n        steps=[('minmaxscaler', MinMaxScaler(\\n            copy=True,\\n            feature_range=(0, 1\", \"primary_metric\": 0.84853146, \"best_metric\": 0.84948558}], \"children_metrics\": {\"categories\": [0], \"series\": {\"recall_score_macro\": [{\"categories\": [\"0\", \"1\", \"2\", \"3\", \"4\", \"5\", \"6\", \"7\", \"8\", \"9\", \"10\", \"11\", \"12\", \"13\", \"14\", \"15\", \"16\", \"17\", \"18\", \"19\", \"20\", \"21\", \"23\", \"24\", \"25\", \"26\", \"27\", \"28\", \"29\", \"30\", \"31\", \"32\", \"33\", \"34\", \"35\", \"38\", \"39\", \"40\", \"41\", \"42\", \"43\", \"44\", \"45\", \"46\", \"47\", \"48\", \"49\", \"50\", \"51\", \"53\", \"55\", \"56\"], \"mode\": \"markers\", \"name\": \"recall_score_macro\", \"stepped\": false, \"type\": \"scatter\", \"data\": [0.6958124284027914, 0.707674471277214, 0.6734728577606096, 0.6742847048370703, 0.680837602956946, 0.6915705630371912, 0.7607556715632412, 0.664490094132482, 0.7224472280540094, 0.6876377714233319, 0.7485969074008386, 0.6928667255657196, 0.6696410800857057, 0.7629912569425549, 0.6755049641450792, 0.7601793285298817, 0.7019497239592575, 0.6855847370897773, 0.6642624488313196, 0.7632626030936324, 0.7559016707094975, 0.690514834300984, 0.6944007380806713, 0.7015932581501574, 0.5573631325474987, 0.7218992712821954, 0.7215558646887889, 0.7025573086314859, 0.6911155477484086, 0.6231273265195141, 0.7028740071133015, 0.6938915194495984, 0.6954259272627648, 0.7133181426796195, 0.6699464323562444, 0.568354178709866, 0.6838982821088316, 0.7550388803744015, 0.6824713374956589, 0.6836238356543959, 0.7631315414946808, 0.5, 0.5, 0.7620611036346409, 0.7225568449175653, 0.6956793365559069, 0.6921500614312134, 0.5752097797300477, 0.6839053653439736, 0.7004146404295165, 0.6819374484993436, 0.5744697562320175]}, {\"categories\": [\"0\", \"1\", \"2\", \"3\", \"4\", \"5\", \"6\", \"7\", \"8\", \"9\", \"10\", \"11\", \"12\", \"13\", \"14\", \"15\", \"16\", \"17\", \"18\", \"19\", \"20\", \"21\", \"23\", \"24\", \"25\", \"26\", \"27\", \"28\", \"29\", \"30\", \"31\", \"32\", \"33\", \"34\", \"35\", \"38\", \"39\", \"40\", \"41\", \"42\", \"43\", \"44\", \"45\", \"46\", \"47\", \"48\", \"49\", \"50\", \"51\", \"53\", \"55\", \"56\"], \"mode\": \"lines\", \"name\": \"recall_score_macro_max\", \"stepped\": true, \"type\": \"scatter\", \"data\": [0.6958124284027914, 0.707674471277214, 0.707674471277214, 0.707674471277214, 0.707674471277214, 0.707674471277214, 0.7607556715632412, 0.7607556715632412, 0.7607556715632412, 0.7607556715632412, 0.7607556715632412, 0.7607556715632412, 0.7607556715632412, 0.7629912569425549, 0.7629912569425549, 0.7629912569425549, 0.7629912569425549, 0.7629912569425549, 0.7629912569425549, 0.7632626030936324, 0.7632626030936324, 0.7632626030936324, 0.7632626030936324, 0.7632626030936324, 0.7632626030936324, 0.7632626030936324, 0.7632626030936324, 0.7632626030936324, 0.7632626030936324, 0.7632626030936324, 0.7632626030936324, 0.7632626030936324, 0.7632626030936324, 0.7632626030936324, 0.7632626030936324, 0.7632626030936324, 0.7632626030936324, 0.7632626030936324, 0.7632626030936324, 0.7632626030936324, 0.7632626030936324, 0.7632626030936324, 0.7632626030936324, 0.7632626030936324, 0.7632626030936324, 0.7632626030936324, 0.7632626030936324, 0.7632626030936324, 0.7632626030936324, 0.7632626030936324, 0.7632626030936324, 0.7632626030936324]}], \"average_precision_score_micro\": [{\"categories\": [\"0\", \"1\", \"2\", \"3\", \"4\", \"5\", \"6\", \"7\", \"8\", \"9\", \"10\", \"11\", \"12\", \"13\", \"14\", \"15\", \"16\", \"17\", \"18\", \"19\", \"20\", \"21\", \"23\", \"24\", \"25\", \"26\", \"27\", \"28\", \"29\", \"30\", \"31\", \"32\", \"33\", \"34\", \"35\", \"38\", \"39\", \"40\", \"41\", \"42\", \"43\", \"44\", \"45\", \"46\", \"47\", \"48\", \"49\", \"50\", \"51\", \"53\", \"55\", \"56\"], \"mode\": \"markers\", \"name\": \"average_precision_score_micro\", \"stepped\": false, \"type\": \"scatter\", \"data\": [0.880922803887252, 0.8890888644420004, 0.8847344659166051, 0.886631094419184, 0.8889739730811451, 0.8843056580780667, 0.8469257670295658, 0.8818875678947807, 0.8898494242307463, 0.8827921324417775, 0.8064143960472039, 0.8828074293161848, 0.8864678078663133, 0.8418728023573363, 0.8855159847640677, 0.836666691268294, 0.8879449216304812, 0.8724136990419821, 0.8863681705948262, 0.8415659716053069, 0.8361485429016635, 0.8836543705993536, 0.8821806876825039, 0.8875005403679787, 0.7659022194807644, 0.889754398980296, 0.8897342440142063, 0.8825189622990498, 0.8645827204840303, 0.8812533291531244, 0.883518286943849, 0.8815352743970946, 0.8759404276825632, 0.8927096849646308, 0.884034972545279, 0.7699219482738568, 0.8703989774396581, 0.8397197562019258, 0.8767863691702039, 0.87491359370868, 0.8415801397421241, 0.8658411453619484, 0.7658571012079892, 0.8415396363525864, 0.8898124616368434, 0.8887286113682021, 0.8757216476017409, 0.7711654345945994, 0.8671590093446399, 0.8883560721135549, 0.8912866612122411, 0.8803706711781863]}, {\"categories\": [\"0\", \"1\", \"2\", \"3\", \"4\", \"5\", \"6\", \"7\", \"8\", \"9\", \"10\", \"11\", \"12\", \"13\", \"14\", \"15\", \"16\", \"17\", \"18\", \"19\", \"20\", \"21\", \"23\", \"24\", \"25\", \"26\", \"27\", \"28\", \"29\", \"30\", \"31\", \"32\", \"33\", \"34\", \"35\", \"38\", \"39\", \"40\", \"41\", \"42\", \"43\", \"44\", \"45\", \"46\", \"47\", \"48\", \"49\", \"50\", \"51\", \"53\", \"55\", \"56\"], \"mode\": \"lines\", \"name\": \"average_precision_score_micro_max\", \"stepped\": true, \"type\": \"scatter\", \"data\": [0.880922803887252, 0.8890888644420004, 0.8890888644420004, 0.8890888644420004, 0.8890888644420004, 0.8890888644420004, 0.8890888644420004, 0.8890888644420004, 0.8898494242307463, 0.8898494242307463, 0.8898494242307463, 0.8898494242307463, 0.8898494242307463, 0.8898494242307463, 0.8898494242307463, 0.8898494242307463, 0.8898494242307463, 0.8898494242307463, 0.8898494242307463, 0.8898494242307463, 0.8898494242307463, 0.8898494242307463, 0.8898494242307463, 0.8898494242307463, 0.8898494242307463, 0.8898494242307463, 0.8898494242307463, 0.8898494242307463, 0.8898494242307463, 0.8898494242307463, 0.8898494242307463, 0.8898494242307463, 0.8898494242307463, 0.8927096849646308, 0.8927096849646308, 0.8927096849646308, 0.8927096849646308, 0.8927096849646308, 0.8927096849646308, 0.8927096849646308, 0.8927096849646308, 0.8927096849646308, 0.8927096849646308, 0.8927096849646308, 0.8927096849646308, 0.8927096849646308, 0.8927096849646308, 0.8927096849646308, 0.8927096849646308, 0.8927096849646308, 0.8927096849646308, 0.8927096849646308]}], \"f1_score_macro\": [{\"categories\": [\"0\", \"1\", \"2\", \"3\", \"4\", \"5\", \"6\", \"7\", \"8\", \"9\", \"10\", \"11\", \"12\", \"13\", \"14\", \"15\", \"16\", \"17\", \"18\", \"19\", \"20\", \"21\", \"23\", \"24\", \"25\", \"26\", \"27\", \"28\", \"29\", \"30\", \"31\", \"32\", \"33\", \"34\", \"35\", \"38\", \"39\", \"40\", \"41\", \"42\", \"43\", \"44\", \"45\", \"46\", \"47\", \"48\", \"49\", \"50\", \"51\", \"53\", \"55\", \"56\"], \"mode\": \"markers\", \"name\": \"f1_score_macro\", \"stepped\": false, \"type\": \"scatter\", \"data\": [0.7080618168598932, 0.7235363174253425, 0.6920016547813415, 0.6936098380042949, 0.7005388829612992, 0.7077497694434979, 0.7233200699351751, 0.6832161676531744, 0.7333851868337594, 0.7031545026636545, 0.6855476938739994, 0.7070857377709956, 0.6878626036995296, 0.7149439198680757, 0.6943230846911622, 0.714458428820916, 0.7176267197987658, 0.7006117902862413, 0.6843410724598781, 0.7150315676955585, 0.7111402589241383, 0.7054516305613324, 0.7096228187141006, 0.7154680513847113, 0.538136525243196, 0.7329707853920912, 0.7326643983382363, 0.7142998138820235, 0.702239032810027, 0.6375107464281502, 0.7168006497568978, 0.7078820902515417, 0.705792783071032, 0.7281390891454554, 0.6899176999344868, 0.5631913149829175, 0.6976294138238345, 0.7102758307471324, 0.6971065813378777, 0.6995186924844967, 0.7148590591183862, 0.4236386552788621, 0.4236386552788621, 0.7138303912438333, 0.7333413970720711, 0.7120241490985226, 0.7054514537802853, 0.5760950671496271, 0.6947648043025137, 0.7173935281557231, 0.7015245022400727, 0.5382561049621131]}, {\"categories\": [\"0\", \"1\", \"2\", \"3\", \"4\", \"5\", \"6\", \"7\", \"8\", \"9\", \"10\", \"11\", \"12\", \"13\", \"14\", \"15\", \"16\", \"17\", \"18\", \"19\", \"20\", \"21\", \"23\", \"24\", \"25\", \"26\", \"27\", \"28\", \"29\", \"30\", \"31\", \"32\", \"33\", \"34\", \"35\", \"38\", \"39\", \"40\", \"41\", \"42\", \"43\", \"44\", \"45\", \"46\", \"47\", \"48\", \"49\", \"50\", \"51\", \"53\", \"55\", \"56\"], \"mode\": \"lines\", \"name\": \"f1_score_macro_max\", \"stepped\": true, \"type\": \"scatter\", \"data\": [0.7080618168598932, 0.7235363174253425, 0.7235363174253425, 0.7235363174253425, 0.7235363174253425, 0.7235363174253425, 0.7235363174253425, 0.7235363174253425, 0.7333851868337594, 0.7333851868337594, 0.7333851868337594, 0.7333851868337594, 0.7333851868337594, 0.7333851868337594, 0.7333851868337594, 0.7333851868337594, 0.7333851868337594, 0.7333851868337594, 0.7333851868337594, 0.7333851868337594, 0.7333851868337594, 0.7333851868337594, 0.7333851868337594, 0.7333851868337594, 0.7333851868337594, 0.7333851868337594, 0.7333851868337594, 0.7333851868337594, 0.7333851868337594, 0.7333851868337594, 0.7333851868337594, 0.7333851868337594, 0.7333851868337594, 0.7333851868337594, 0.7333851868337594, 0.7333851868337594, 0.7333851868337594, 0.7333851868337594, 0.7333851868337594, 0.7333851868337594, 0.7333851868337594, 0.7333851868337594, 0.7333851868337594, 0.7333851868337594, 0.7333851868337594, 0.7333851868337594, 0.7333851868337594, 0.7333851868337594, 0.7333851868337594, 0.7333851868337594, 0.7333851868337594, 0.7333851868337594]}], \"average_precision_score_macro\": [{\"categories\": [\"0\", \"1\", \"2\", \"3\", \"4\", \"5\", \"6\", \"7\", \"8\", \"9\", \"10\", \"11\", \"12\", \"13\", \"14\", \"15\", \"16\", \"17\", \"18\", \"19\", \"20\", \"21\", \"23\", \"24\", \"25\", \"26\", \"27\", \"28\", \"29\", \"30\", \"31\", \"32\", \"33\", \"34\", \"35\", \"38\", \"39\", \"40\", \"41\", \"42\", \"43\", \"44\", \"45\", \"46\", \"47\", \"48\", \"49\", \"50\", \"51\", \"53\", \"55\", \"56\"], \"mode\": \"markers\", \"name\": \"average_precision_score_macro\", \"stepped\": false, \"type\": \"scatter\", \"data\": [0.7802288583287266, 0.795577580216085, 0.7860429472318318, 0.7929590501510531, 0.796129688673152, 0.7872690941705736, 0.7982511525319202, 0.7849096008748635, 0.7944814037035913, 0.7857078234628228, 0.7634575762639911, 0.7815488045331486, 0.790542840642218, 0.7948707994857233, 0.7930476088085066, 0.7898946904384159, 0.7953726156535394, 0.7714727357237151, 0.7971525678117116, 0.7936530112881794, 0.7908886448677448, 0.7863571589935827, 0.7825869580851019, 0.7923803609230131, 0.6046582173668931, 0.79432928176329, 0.7943558314441873, 0.784383061557468, 0.757617714908615, 0.7962590356788485, 0.7845133808508754, 0.7834535504512127, 0.7716155742146739, 0.8022993440148477, 0.78809218117069, 0.6131890334467636, 0.7594913707138888, 0.784909633946636, 0.7715739469148962, 0.7677699416219662, 0.7936492852926385, 0.7792860187675641, 0.6151607673725784, 0.7941827877085884, 0.7944422526666142, 0.7952261238947506, 0.7702490742152396, 0.6131107501910369, 0.7579196177823885, 0.7965255235881197, 0.8031809100823777, 0.801162121663501]}, {\"categories\": [\"0\", \"1\", \"2\", \"3\", \"4\", \"5\", \"6\", \"7\", \"8\", \"9\", \"10\", \"11\", \"12\", \"13\", \"14\", \"15\", \"16\", \"17\", \"18\", \"19\", \"20\", \"21\", \"23\", \"24\", \"25\", \"26\", \"27\", \"28\", \"29\", \"30\", \"31\", \"32\", \"33\", \"34\", \"35\", \"38\", \"39\", \"40\", \"41\", \"42\", \"43\", \"44\", \"45\", \"46\", \"47\", \"48\", \"49\", \"50\", \"51\", \"53\", \"55\", \"56\"], \"mode\": \"lines\", \"name\": \"average_precision_score_macro_max\", \"stepped\": true, \"type\": \"scatter\", \"data\": [0.7802288583287266, 0.795577580216085, 0.795577580216085, 0.795577580216085, 0.796129688673152, 0.796129688673152, 0.7982511525319202, 0.7982511525319202, 0.7982511525319202, 0.7982511525319202, 0.7982511525319202, 0.7982511525319202, 0.7982511525319202, 0.7982511525319202, 0.7982511525319202, 0.7982511525319202, 0.7982511525319202, 0.7982511525319202, 0.7982511525319202, 0.7982511525319202, 0.7982511525319202, 0.7982511525319202, 0.7982511525319202, 0.7982511525319202, 0.7982511525319202, 0.7982511525319202, 0.7982511525319202, 0.7982511525319202, 0.7982511525319202, 0.7982511525319202, 0.7982511525319202, 0.7982511525319202, 0.7982511525319202, 0.8022993440148477, 0.8022993440148477, 0.8022993440148477, 0.8022993440148477, 0.8022993440148477, 0.8022993440148477, 0.8022993440148477, 0.8022993440148477, 0.8022993440148477, 0.8022993440148477, 0.8022993440148477, 0.8022993440148477, 0.8022993440148477, 0.8022993440148477, 0.8022993440148477, 0.8022993440148477, 0.8022993440148477, 0.8031809100823777, 0.8031809100823777]}], \"precision_score_micro\": [{\"categories\": [\"0\", \"1\", \"2\", \"3\", \"4\", \"5\", \"6\", \"7\", \"8\", \"9\", \"10\", \"11\", \"12\", \"13\", \"14\", \"15\", \"16\", \"17\", \"18\", \"19\", \"20\", \"21\", \"23\", \"24\", \"25\", \"26\", \"27\", \"28\", \"29\", \"30\", \"31\", \"32\", \"33\", \"34\", \"35\", \"38\", \"39\", \"40\", \"41\", \"42\", \"43\", \"44\", \"45\", \"46\", \"47\", \"48\", \"49\", \"50\", \"51\", \"53\", \"55\", \"56\"], \"mode\": \"markers\", \"name\": \"precision_score_micro\", \"stepped\": false, \"type\": \"scatter\", \"data\": [0.7889621254781305, 0.8033705773093053, 0.7927521944557252, 0.7946478579807336, 0.7974913532682458, 0.7952192744746668, 0.757682167628589, 0.7893403020480917, 0.8037517732530784, 0.7919953380868342, 0.7080069264435249, 0.7918036078497682, 0.7902858692802368, 0.7442162636557471, 0.7936992713747762, 0.7447859188482902, 0.799768715965996, 0.7889643900084895, 0.7942689265673193, 0.7440310753952739, 0.7421301279660945, 0.7910500224691736, 0.7942689265673193, 0.7957891812816941, 0.7408041196336292, 0.8035618043174028, 0.8033720869962113, 0.7919960929302873, 0.7834666135256877, 0.7859251386521616, 0.7965465408795538, 0.7916181679748104, 0.7851713016570827, 0.8045076231640321, 0.7946455934503744, 0.7385287698517539, 0.7847974025333554, 0.7413755361275626, 0.7861196366485556, 0.7902901467264705, 0.7438413580740825, 0.735113606455824, 0.735113606455824, 0.7428922682391567, 0.8035615527029184, 0.7984411979466246, 0.788584452137138, 0.7396673253933868, 0.778723680495902, 0.8012859513065587, 0.7988181164441641, 0.7586242122579533]}, {\"categories\": [\"0\", \"1\", \"2\", \"3\", \"4\", \"5\", \"6\", \"7\", \"8\", \"9\", \"10\", \"11\", \"12\", \"13\", \"14\", \"15\", \"16\", \"17\", \"18\", \"19\", \"20\", \"21\", \"23\", \"24\", \"25\", \"26\", \"27\", \"28\", \"29\", \"30\", \"31\", \"32\", \"33\", \"34\", \"35\", \"38\", \"39\", \"40\", \"41\", \"42\", \"43\", \"44\", \"45\", \"46\", \"47\", \"48\", \"49\", \"50\", \"51\", \"53\", \"55\", \"56\"], \"mode\": \"lines\", \"name\": \"precision_score_micro_max\", \"stepped\": true, \"type\": \"scatter\", \"data\": [0.7889621254781305, 0.8033705773093053, 0.8033705773093053, 0.8033705773093053, 0.8033705773093053, 0.8033705773093053, 0.8033705773093053, 0.8033705773093053, 0.8037517732530784, 0.8037517732530784, 0.8037517732530784, 0.8037517732530784, 0.8037517732530784, 0.8037517732530784, 0.8037517732530784, 0.8037517732530784, 0.8037517732530784, 0.8037517732530784, 0.8037517732530784, 0.8037517732530784, 0.8037517732530784, 0.8037517732530784, 0.8037517732530784, 0.8037517732530784, 0.8037517732530784, 0.8037517732530784, 0.8037517732530784, 0.8037517732530784, 0.8037517732530784, 0.8037517732530784, 0.8037517732530784, 0.8037517732530784, 0.8037517732530784, 0.8045076231640321, 0.8045076231640321, 0.8045076231640321, 0.8045076231640321, 0.8045076231640321, 0.8045076231640321, 0.8045076231640321, 0.8045076231640321, 0.8045076231640321, 0.8045076231640321, 0.8045076231640321, 0.8045076231640321, 0.8045076231640321, 0.8045076231640321, 0.8045076231640321, 0.8045076231640321, 0.8045076231640321, 0.8045076231640321, 0.8045076231640321]}], \"recall_score_micro\": [{\"categories\": [\"0\", \"1\", \"2\", \"3\", \"4\", \"5\", \"6\", \"7\", \"8\", \"9\", \"10\", \"11\", \"12\", \"13\", \"14\", \"15\", \"16\", \"17\", \"18\", \"19\", \"20\", \"21\", \"23\", \"24\", \"25\", \"26\", \"27\", \"28\", \"29\", \"30\", \"31\", \"32\", \"33\", \"34\", \"35\", \"38\", \"39\", \"40\", \"41\", \"42\", \"43\", \"44\", \"45\", \"46\", \"47\", \"48\", \"49\", \"50\", \"51\", \"53\", \"55\", \"56\"], \"mode\": \"markers\", \"name\": \"recall_score_micro\", \"stepped\": false, \"type\": \"scatter\", \"data\": [0.7889621254781305, 0.8033705773093053, 0.7927521944557252, 0.7946478579807336, 0.7974913532682458, 0.7952192744746668, 0.757682167628589, 0.7893403020480917, 0.8037517732530784, 0.7919953380868342, 0.7080069264435249, 0.7918036078497682, 0.7902858692802368, 0.7442162636557471, 0.7936992713747762, 0.7447859188482902, 0.799768715965996, 0.7889643900084895, 0.7942689265673193, 0.7440310753952739, 0.7421301279660945, 0.7910500224691736, 0.7942689265673193, 0.7957891812816941, 0.7408041196336292, 0.8035618043174028, 0.8033720869962113, 0.7919960929302873, 0.7834666135256877, 0.7859251386521616, 0.7965465408795538, 0.7916181679748104, 0.7851713016570827, 0.8045076231640321, 0.7946455934503744, 0.7385287698517539, 0.7847974025333554, 0.7413755361275626, 0.7861196366485556, 0.7902901467264705, 0.7438413580740825, 0.735113606455824, 0.735113606455824, 0.7428922682391567, 0.8035615527029184, 0.7984411979466246, 0.788584452137138, 0.7396673253933868, 0.778723680495902, 0.8012859513065587, 0.7988181164441641, 0.7586242122579533]}, {\"categories\": [\"0\", \"1\", \"2\", \"3\", \"4\", \"5\", \"6\", \"7\", \"8\", \"9\", \"10\", \"11\", \"12\", \"13\", \"14\", \"15\", \"16\", \"17\", \"18\", \"19\", \"20\", \"21\", \"23\", \"24\", \"25\", \"26\", \"27\", \"28\", \"29\", \"30\", \"31\", \"32\", \"33\", \"34\", \"35\", \"38\", \"39\", \"40\", \"41\", \"42\", \"43\", \"44\", \"45\", \"46\", \"47\", \"48\", \"49\", \"50\", \"51\", \"53\", \"55\", \"56\"], \"mode\": \"lines\", \"name\": \"recall_score_micro_max\", \"stepped\": true, \"type\": \"scatter\", \"data\": [0.7889621254781305, 0.8033705773093053, 0.8033705773093053, 0.8033705773093053, 0.8033705773093053, 0.8033705773093053, 0.8033705773093053, 0.8033705773093053, 0.8037517732530784, 0.8037517732530784, 0.8037517732530784, 0.8037517732530784, 0.8037517732530784, 0.8037517732530784, 0.8037517732530784, 0.8037517732530784, 0.8037517732530784, 0.8037517732530784, 0.8037517732530784, 0.8037517732530784, 0.8037517732530784, 0.8037517732530784, 0.8037517732530784, 0.8037517732530784, 0.8037517732530784, 0.8037517732530784, 0.8037517732530784, 0.8037517732530784, 0.8037517732530784, 0.8037517732530784, 0.8037517732530784, 0.8037517732530784, 0.8037517732530784, 0.8045076231640321, 0.8045076231640321, 0.8045076231640321, 0.8045076231640321, 0.8045076231640321, 0.8045076231640321, 0.8045076231640321, 0.8045076231640321, 0.8045076231640321, 0.8045076231640321, 0.8045076231640321, 0.8045076231640321, 0.8045076231640321, 0.8045076231640321, 0.8045076231640321, 0.8045076231640321, 0.8045076231640321, 0.8045076231640321, 0.8045076231640321]}], \"average_precision_score_binary\": [{\"categories\": [\"0\", \"1\", \"2\", \"3\", \"4\", \"5\", \"6\", \"7\", \"8\", \"9\", \"10\", \"11\", \"12\", \"13\", \"14\", \"15\", \"16\", \"17\", \"18\", \"19\", \"20\", \"21\", \"23\", \"24\", \"25\", \"26\", \"27\", \"28\", \"29\", \"30\", \"31\", \"32\", \"33\", \"34\", \"35\", \"38\", \"39\", \"40\", \"41\", \"42\", \"43\", \"44\", \"45\", \"46\", \"47\", \"48\", \"49\", \"50\", \"51\", \"53\", \"55\", \"56\"], \"mode\": \"markers\", \"name\": \"average_precision_score_binary\", \"stepped\": false, \"type\": \"scatter\", \"data\": [0.6309592316275155, 0.6567412619606418, 0.6399925780329828, 0.6523691999284301, 0.6557911477287448, 0.6429816006148936, 0.6614496586408787, 0.6402473674550716, 0.6535082887626873, 0.6415981153972782, 0.6027386377075717, 0.6325536007799719, 0.6479768760903836, 0.6557938398067417, 0.6542329169997743, 0.644719056646108, 0.6569789711089749, 0.6199566953977144, 0.6586746257761422, 0.6518694077527177, 0.649709861160022, 0.6426732159336394, 0.6357002546962323, 0.6513051089599281, 0.3938415712773639, 0.6533324051658252, 0.6534002373638617, 0.6388343636280259, 0.5962735014387938, 0.6572223502926194, 0.638016449958023, 0.6375940522016323, 0.616615759099891, 0.6673813785686064, 0.6450481749513077, 0.40844350085136943, 0.5966048397851828, 0.6396122175135892, 0.6173523115196594, 0.6103447625439868, 0.6518501126804911, 0.632069010820678, 0.4149976236717926, 0.6529341435635001, 0.6535105786803521, 0.6562691339739715, 0.6152282417988217, 0.4066307799707826, 0.5971829069827195, 0.6597707316512887, 0.6686985843218849, 0.6653033051838327]}, {\"categories\": [\"0\", \"1\", \"2\", \"3\", \"4\", \"5\", \"6\", \"7\", \"8\", \"9\", \"10\", \"11\", \"12\", \"13\", \"14\", \"15\", \"16\", \"17\", \"18\", \"19\", \"20\", \"21\", \"23\", \"24\", \"25\", \"26\", \"27\", \"28\", \"29\", \"30\", \"31\", \"32\", \"33\", \"34\", \"35\", \"38\", \"39\", \"40\", \"41\", \"42\", \"43\", \"44\", \"45\", \"46\", \"47\", \"48\", \"49\", \"50\", \"51\", \"53\", \"55\", \"56\"], \"mode\": \"lines\", \"name\": \"average_precision_score_binary_max\", \"stepped\": true, \"type\": \"scatter\", \"data\": [0.6309592316275155, 0.6567412619606418, 0.6567412619606418, 0.6567412619606418, 0.6567412619606418, 0.6567412619606418, 0.6614496586408787, 0.6614496586408787, 0.6614496586408787, 0.6614496586408787, 0.6614496586408787, 0.6614496586408787, 0.6614496586408787, 0.6614496586408787, 0.6614496586408787, 0.6614496586408787, 0.6614496586408787, 0.6614496586408787, 0.6614496586408787, 0.6614496586408787, 0.6614496586408787, 0.6614496586408787, 0.6614496586408787, 0.6614496586408787, 0.6614496586408787, 0.6614496586408787, 0.6614496586408787, 0.6614496586408787, 0.6614496586408787, 0.6614496586408787, 0.6614496586408787, 0.6614496586408787, 0.6614496586408787, 0.6673813785686064, 0.6673813785686064, 0.6673813785686064, 0.6673813785686064, 0.6673813785686064, 0.6673813785686064, 0.6673813785686064, 0.6673813785686064, 0.6673813785686064, 0.6673813785686064, 0.6673813785686064, 0.6673813785686064, 0.6673813785686064, 0.6673813785686064, 0.6673813785686064, 0.6673813785686064, 0.6673813785686064, 0.6686985843218849, 0.6686985843218849]}], \"AUC_micro\": [{\"categories\": [\"0\", \"1\", \"2\", \"3\", \"4\", \"5\", \"6\", \"7\", \"8\", \"9\", \"10\", \"11\", \"12\", \"13\", \"14\", \"15\", \"16\", \"17\", \"18\", \"19\", \"20\", \"21\", \"23\", \"24\", \"25\", \"26\", \"27\", \"28\", \"29\", \"30\", \"31\", \"32\", \"33\", \"34\", \"35\", \"38\", \"39\", \"40\", \"41\", \"42\", \"43\", \"44\", \"45\", \"46\", \"47\", \"48\", \"49\", \"50\", \"51\", \"53\", \"55\", \"56\"], \"mode\": \"markers\", \"name\": \"AUC_micro\", \"stepped\": false, \"type\": \"scatter\", \"data\": [0.879348031852737, 0.8881789807345709, 0.8836666421438089, 0.8854632881863476, 0.8871130605300909, 0.8835010978669302, 0.8445677881990153, 0.8811427354343994, 0.8887256471587305, 0.8815408454991454, 0.8017063735944367, 0.8819973226608496, 0.885453422785709, 0.8381158954316812, 0.8854739865695435, 0.832527683414341, 0.8866327310613905, 0.8746876321996921, 0.8841430140651166, 0.8356125702018419, 0.8314882889441305, 0.8834789766429637, 0.8817498488275719, 0.8866026349711144, 0.7966106181440588, 0.888682013963061, 0.8886626419681994, 0.8816951417472307, 0.8650120515705655, 0.8782763156601587, 0.8828041137784209, 0.880752926486745, 0.8741458560659134, 0.891434951164312, 0.8832915181773532, 0.7951139955091928, 0.8703935781314244, 0.8373262104406853, 0.8767476492974839, 0.8740883097625939, 0.8356294000032761, 0.8631599688134547, 0.7967186665409368, 0.8356583594033309, 0.888731384541725, 0.8879651568204766, 0.8757705584352811, 0.796248160733008, 0.8681698440114325, 0.8877839398026458, 0.890013329411557, 0.8768447583823712]}, {\"categories\": [\"0\", \"1\", \"2\", \"3\", \"4\", \"5\", \"6\", \"7\", \"8\", \"9\", \"10\", \"11\", \"12\", \"13\", \"14\", \"15\", \"16\", \"17\", \"18\", \"19\", \"20\", \"21\", \"23\", \"24\", \"25\", \"26\", \"27\", \"28\", \"29\", \"30\", \"31\", \"32\", \"33\", \"34\", \"35\", \"38\", \"39\", \"40\", \"41\", \"42\", \"43\", \"44\", \"45\", \"46\", \"47\", \"48\", \"49\", \"50\", \"51\", \"53\", \"55\", \"56\"], \"mode\": \"lines\", \"name\": \"AUC_micro_max\", \"stepped\": true, \"type\": \"scatter\", \"data\": [0.879348031852737, 0.8881789807345709, 0.8881789807345709, 0.8881789807345709, 0.8881789807345709, 0.8881789807345709, 0.8881789807345709, 0.8881789807345709, 0.8887256471587305, 0.8887256471587305, 0.8887256471587305, 0.8887256471587305, 0.8887256471587305, 0.8887256471587305, 0.8887256471587305, 0.8887256471587305, 0.8887256471587305, 0.8887256471587305, 0.8887256471587305, 0.8887256471587305, 0.8887256471587305, 0.8887256471587305, 0.8887256471587305, 0.8887256471587305, 0.8887256471587305, 0.8887256471587305, 0.8887256471587305, 0.8887256471587305, 0.8887256471587305, 0.8887256471587305, 0.8887256471587305, 0.8887256471587305, 0.8887256471587305, 0.891434951164312, 0.891434951164312, 0.891434951164312, 0.891434951164312, 0.891434951164312, 0.891434951164312, 0.891434951164312, 0.891434951164312, 0.891434951164312, 0.891434951164312, 0.891434951164312, 0.891434951164312, 0.891434951164312, 0.891434951164312, 0.891434951164312, 0.891434951164312, 0.891434951164312, 0.891434951164312, 0.891434951164312]}], \"recall_score_weighted\": [{\"categories\": [\"0\", \"1\", \"2\", \"3\", \"4\", \"5\", \"6\", \"7\", \"8\", \"9\", \"10\", \"11\", \"12\", \"13\", \"14\", \"15\", \"16\", \"17\", \"18\", \"19\", \"20\", \"21\", \"23\", \"24\", \"25\", \"26\", \"27\", \"28\", \"29\", \"30\", \"31\", \"32\", \"33\", \"34\", \"35\", \"38\", \"39\", \"40\", \"41\", \"42\", \"43\", \"44\", \"45\", \"46\", \"47\", \"48\", \"49\", \"50\", \"51\", \"53\", \"55\", \"56\"], \"mode\": \"markers\", \"name\": \"recall_score_weighted\", \"stepped\": false, \"type\": \"scatter\", \"data\": [0.7889621254781305, 0.8033705773093053, 0.7927521944557252, 0.7946478579807336, 0.7974913532682458, 0.7952192744746668, 0.757682167628589, 0.7893403020480917, 0.8037517732530784, 0.7919953380868342, 0.7080069264435249, 0.7918036078497682, 0.7902858692802368, 0.7442162636557471, 0.7936992713747762, 0.7447859188482902, 0.799768715965996, 0.7889643900084895, 0.7942689265673193, 0.7440310753952739, 0.7421301279660945, 0.7910500224691736, 0.7942689265673193, 0.7957891812816941, 0.7408041196336292, 0.8035618043174028, 0.8033720869962113, 0.7919960929302873, 0.7834666135256877, 0.7859251386521616, 0.7965465408795538, 0.7916181679748104, 0.7851713016570827, 0.8045076231640321, 0.7946455934503744, 0.7385287698517539, 0.7847974025333553, 0.7413755361275626, 0.7861196366485556, 0.7902901467264705, 0.7438413580740825, 0.735113606455824, 0.735113606455824, 0.7428922682391567, 0.8035615527029183, 0.7984411979466246, 0.788584452137138, 0.7396673253933868, 0.778723680495902, 0.8012859513065587, 0.7988181164441641, 0.7586242122579533]}, {\"categories\": [\"0\", \"1\", \"2\", \"3\", \"4\", \"5\", \"6\", \"7\", \"8\", \"9\", \"10\", \"11\", \"12\", \"13\", \"14\", \"15\", \"16\", \"17\", \"18\", \"19\", \"20\", \"21\", \"23\", \"24\", \"25\", \"26\", \"27\", \"28\", \"29\", \"30\", \"31\", \"32\", \"33\", \"34\", \"35\", \"38\", \"39\", \"40\", \"41\", \"42\", \"43\", \"44\", \"45\", \"46\", \"47\", \"48\", \"49\", \"50\", \"51\", \"53\", \"55\", \"56\"], \"mode\": \"lines\", \"name\": \"recall_score_weighted_max\", \"stepped\": true, \"type\": \"scatter\", \"data\": [0.7889621254781305, 0.8033705773093053, 0.8033705773093053, 0.8033705773093053, 0.8033705773093053, 0.8033705773093053, 0.8033705773093053, 0.8033705773093053, 0.8037517732530784, 0.8037517732530784, 0.8037517732530784, 0.8037517732530784, 0.8037517732530784, 0.8037517732530784, 0.8037517732530784, 0.8037517732530784, 0.8037517732530784, 0.8037517732530784, 0.8037517732530784, 0.8037517732530784, 0.8037517732530784, 0.8037517732530784, 0.8037517732530784, 0.8037517732530784, 0.8037517732530784, 0.8037517732530784, 0.8037517732530784, 0.8037517732530784, 0.8037517732530784, 0.8037517732530784, 0.8037517732530784, 0.8037517732530784, 0.8037517732530784, 0.8045076231640321, 0.8045076231640321, 0.8045076231640321, 0.8045076231640321, 0.8045076231640321, 0.8045076231640321, 0.8045076231640321, 0.8045076231640321, 0.8045076231640321, 0.8045076231640321, 0.8045076231640321, 0.8045076231640321, 0.8045076231640321, 0.8045076231640321, 0.8045076231640321, 0.8045076231640321, 0.8045076231640321, 0.8045076231640321, 0.8045076231640321]}], \"precision_score_weighted\": [{\"categories\": [\"0\", \"1\", \"2\", \"3\", \"4\", \"5\", \"6\", \"7\", \"8\", \"9\", \"10\", \"11\", \"12\", \"13\", \"14\", \"15\", \"16\", \"17\", \"18\", \"19\", \"20\", \"21\", \"23\", \"24\", \"25\", \"26\", \"27\", \"28\", \"29\", \"30\", \"31\", \"32\", \"33\", \"34\", \"35\", \"38\", \"39\", \"40\", \"41\", \"42\", \"43\", \"44\", \"45\", \"46\", \"47\", \"48\", \"49\", \"50\", \"51\", \"53\", \"55\", \"56\"], \"mode\": \"markers\", \"name\": \"precision_score_weighted\", \"stepped\": false, \"type\": \"scatter\", \"data\": [0.7778125503793304, 0.7924993560908049, 0.7782023543062643, 0.7807171662224759, 0.7845389403014043, 0.7824070396882935, 0.8023633734082832, 0.7742416880231644, 0.7956651985134586, 0.778666806179218, 0.8002748831759837, 0.7795781074665106, 0.7750301110251477, 0.805561182839355, 0.779876324462439, 0.802699641862472, 0.7883053707599721, 0.7758226265262339, 0.7811338744237565, 0.8052738964969012, 0.7996799240808012, 0.7784178697340887, 0.7819019076382688, 0.7847635122495731, 0.662032134999495, 0.7953837472810098, 0.7951579610871207, 0.7818571071004413, 0.7725161627672344, 0.7817823284711218, 0.7858282588443268, 0.7796515224692581, 0.7751390405763788, 0.7943335480333186, 0.7812268406559684, 0.703414256119303, 0.7719898635782184, 0.7989265452859335, 0.7727571332380891, 0.776513710487745, 0.8051854137792754, 0.5405495940472346, 0.5405495940472346, 0.8044049184717714, 0.7955573604035006, 0.7859461862063932, 0.7767039692647083, 0.7030266062670542, 0.7669668834491681, 0.7895519299664526, 0.7855631444906246, 0.6405034335682123]}, {\"categories\": [\"0\", \"1\", \"2\", \"3\", \"4\", \"5\", \"6\", \"7\", \"8\", \"9\", \"10\", \"11\", \"12\", \"13\", \"14\", \"15\", \"16\", \"17\", \"18\", \"19\", \"20\", \"21\", \"23\", \"24\", \"25\", \"26\", \"27\", \"28\", \"29\", \"30\", \"31\", \"32\", \"33\", \"34\", \"35\", \"38\", \"39\", \"40\", \"41\", \"42\", \"43\", \"44\", \"45\", \"46\", \"47\", \"48\", \"49\", \"50\", \"51\", \"53\", \"55\", \"56\"], \"mode\": \"lines\", \"name\": \"precision_score_weighted_max\", \"stepped\": true, \"type\": \"scatter\", \"data\": [0.7778125503793304, 0.7924993560908049, 0.7924993560908049, 0.7924993560908049, 0.7924993560908049, 0.7924993560908049, 0.8023633734082832, 0.8023633734082832, 0.8023633734082832, 0.8023633734082832, 0.8023633734082832, 0.8023633734082832, 0.8023633734082832, 0.805561182839355, 0.805561182839355, 0.805561182839355, 0.805561182839355, 0.805561182839355, 0.805561182839355, 0.805561182839355, 0.805561182839355, 0.805561182839355, 0.805561182839355, 0.805561182839355, 0.805561182839355, 0.805561182839355, 0.805561182839355, 0.805561182839355, 0.805561182839355, 0.805561182839355, 0.805561182839355, 0.805561182839355, 0.805561182839355, 0.805561182839355, 0.805561182839355, 0.805561182839355, 0.805561182839355, 0.805561182839355, 0.805561182839355, 0.805561182839355, 0.805561182839355, 0.805561182839355, 0.805561182839355, 0.805561182839355, 0.805561182839355, 0.805561182839355, 0.805561182839355, 0.805561182839355, 0.805561182839355, 0.805561182839355, 0.805561182839355, 0.805561182839355]}], \"norm_macro_recall\": [{\"categories\": [\"0\", \"1\", \"2\", \"3\", \"4\", \"5\", \"6\", \"7\", \"8\", \"9\", \"10\", \"11\", \"12\", \"13\", \"14\", \"15\", \"16\", \"17\", \"18\", \"19\", \"20\", \"21\", \"23\", \"24\", \"25\", \"26\", \"27\", \"28\", \"29\", \"30\", \"31\", \"32\", \"33\", \"34\", \"35\", \"38\", \"39\", \"40\", \"41\", \"42\", \"43\", \"44\", \"45\", \"46\", \"47\", \"48\", \"49\", \"50\", \"51\", \"53\", \"55\", \"56\"], \"mode\": \"markers\", \"name\": \"norm_macro_recall\", \"stepped\": false, \"type\": \"scatter\", \"data\": [0.3916248568055831, 0.4153489425544277, 0.3469457155212194, 0.3485694096741403, 0.361675205913892, 0.38314112607438255, 0.5215113431264825, 0.32898018826496395, 0.444894456108019, 0.3752755428466637, 0.4971938148016771, 0.3857334511314391, 0.3392821601714114, 0.52598251388511, 0.3510099282901584, 0.5203586570597631, 0.4038994479185148, 0.37116947417955465, 0.3285248976626393, 0.526525206187265, 0.5118033414189949, 0.3810296686019679, 0.38880147616134236, 0.4031865163003149, 0.11472626509499746, 0.44379854256439105, 0.44311172937757787, 0.4051146172629717, 0.3822310954968174, 0.24625465303902824, 0.40574801422660306, 0.38778303889919663, 0.39085185452552956, 0.42663628535923864, 0.339892864712489, 0.13670835741973206, 0.3677965642176632, 0.5100777607488028, 0.3649426749913179, 0.36724767130879155, 0.526263082989362, 0.0, 0.0, 0.5241222072692815, 0.44511368983513083, 0.3913586731118138, 0.38430012286242665, 0.1504195594600954, 0.3678107306879474, 0.40082928085903297, 0.3638748969986869, 0.14893951246403517]}, {\"categories\": [\"0\", \"1\", \"2\", \"3\", \"4\", \"5\", \"6\", \"7\", \"8\", \"9\", \"10\", \"11\", \"12\", \"13\", \"14\", \"15\", \"16\", \"17\", \"18\", \"19\", \"20\", \"21\", \"23\", \"24\", \"25\", \"26\", \"27\", \"28\", \"29\", \"30\", \"31\", \"32\", \"33\", \"34\", \"35\", \"38\", \"39\", \"40\", \"41\", \"42\", \"43\", \"44\", \"45\", \"46\", \"47\", \"48\", \"49\", \"50\", \"51\", \"53\", \"55\", \"56\"], \"mode\": \"lines\", \"name\": \"norm_macro_recall_max\", \"stepped\": true, \"type\": \"scatter\", \"data\": [0.3916248568055831, 0.4153489425544277, 0.4153489425544277, 0.4153489425544277, 0.4153489425544277, 0.4153489425544277, 0.5215113431264825, 0.5215113431264825, 0.5215113431264825, 0.5215113431264825, 0.5215113431264825, 0.5215113431264825, 0.5215113431264825, 0.52598251388511, 0.52598251388511, 0.52598251388511, 0.52598251388511, 0.52598251388511, 0.52598251388511, 0.526525206187265, 0.526525206187265, 0.526525206187265, 0.526525206187265, 0.526525206187265, 0.526525206187265, 0.526525206187265, 0.526525206187265, 0.526525206187265, 0.526525206187265, 0.526525206187265, 0.526525206187265, 0.526525206187265, 0.526525206187265, 0.526525206187265, 0.526525206187265, 0.526525206187265, 0.526525206187265, 0.526525206187265, 0.526525206187265, 0.526525206187265, 0.526525206187265, 0.526525206187265, 0.526525206187265, 0.526525206187265, 0.526525206187265, 0.526525206187265, 0.526525206187265, 0.526525206187265, 0.526525206187265, 0.526525206187265, 0.526525206187265, 0.526525206187265]}], \"f1_score_binary\": [{\"categories\": [\"0\", \"1\", \"2\", \"3\", \"4\", \"5\", \"6\", \"7\", \"8\", \"9\", \"10\", \"11\", \"12\", \"13\", \"14\", \"15\", \"16\", \"17\", \"18\", \"19\", \"20\", \"21\", \"23\", \"24\", \"25\", \"26\", \"27\", \"28\", \"29\", \"30\", \"31\", \"32\", \"33\", \"34\", \"35\", \"38\", \"39\", \"40\", \"41\", \"42\", \"43\", \"44\", \"45\", \"46\", \"47\", \"48\", \"49\", \"50\", \"51\", \"53\", \"55\", \"56\"], \"mode\": \"markers\", \"name\": \"f1_score_binary\", \"stepped\": false, \"type\": \"scatter\", \"data\": [0.5545996888574162, 0.575105944508727, 0.5159985261424269, 0.5178652441045353, 0.5303241268134796, 0.5480279097401445, 0.6262831762256063, 0.5000091082717807, 0.596608846373265, 0.5409217039903054, 0.6023129885097838, 0.5497047620027116, 0.509196399504115, 0.6244953960083288, 0.5201953986355202, 0.6217142136314079, 0.565455398133912, 0.5381087193519576, 0.49817194248166174, 0.6245137644106773, 0.6170689716745735, 0.5468284323929025, 0.5530267834464843, 0.564472817466439, 0.2337332226177921, 0.5958683228783529, 0.5953668800652029, 0.5655016206298028, 0.5469304826905039, 0.40565181319548393, 0.5666072730587065, 0.5516247933933212, 0.5531853205445832, 0.5841880657865645, 0.5098637891474186, 0.286710036996318, 0.5354921723389106, 0.6159482180003394, 0.5331278243700034, 0.5345502597256806, 0.6243434367376235, 0.0, 0.0, 0.6230034515247155, 0.5967004611689928, 0.5544944411902376, 0.5491121562980907, 0.3128503336209378, 0.5348682005767694, 0.5635591882195479, 0.5312680918224274, 0.22082936460529437]}, {\"categories\": [\"0\", \"1\", \"2\", \"3\", \"4\", \"5\", \"6\", \"7\", \"8\", \"9\", \"10\", \"11\", \"12\", \"13\", \"14\", \"15\", \"16\", \"17\", \"18\", \"19\", \"20\", \"21\", \"23\", \"24\", \"25\", \"26\", \"27\", \"28\", \"29\", \"30\", \"31\", \"32\", \"33\", \"34\", \"35\", \"38\", \"39\", \"40\", \"41\", \"42\", \"43\", \"44\", \"45\", \"46\", \"47\", \"48\", \"49\", \"50\", \"51\", \"53\", \"55\", \"56\"], \"mode\": \"lines\", \"name\": \"f1_score_binary_max\", \"stepped\": true, \"type\": \"scatter\", \"data\": [0.5545996888574162, 0.575105944508727, 0.575105944508727, 0.575105944508727, 0.575105944508727, 0.575105944508727, 0.6262831762256063, 0.6262831762256063, 0.6262831762256063, 0.6262831762256063, 0.6262831762256063, 0.6262831762256063, 0.6262831762256063, 0.6262831762256063, 0.6262831762256063, 0.6262831762256063, 0.6262831762256063, 0.6262831762256063, 0.6262831762256063, 0.6262831762256063, 0.6262831762256063, 0.6262831762256063, 0.6262831762256063, 0.6262831762256063, 0.6262831762256063, 0.6262831762256063, 0.6262831762256063, 0.6262831762256063, 0.6262831762256063, 0.6262831762256063, 0.6262831762256063, 0.6262831762256063, 0.6262831762256063, 0.6262831762256063, 0.6262831762256063, 0.6262831762256063, 0.6262831762256063, 0.6262831762256063, 0.6262831762256063, 0.6262831762256063, 0.6262831762256063, 0.6262831762256063, 0.6262831762256063, 0.6262831762256063, 0.6262831762256063, 0.6262831762256063, 0.6262831762256063, 0.6262831762256063, 0.6262831762256063, 0.6262831762256063, 0.6262831762256063, 0.6262831762256063]}], \"AUC_weighted\": [{\"categories\": [\"0\", \"1\", \"2\", \"3\", \"4\", \"5\", \"6\", \"7\", \"8\", \"9\", \"10\", \"11\", \"12\", \"13\", \"14\", \"15\", \"16\", \"17\", \"18\", \"19\", \"20\", \"21\", \"23\", \"24\", \"25\", \"26\", \"27\", \"28\", \"29\", \"30\", \"31\", \"32\", \"33\", \"34\", \"35\", \"38\", \"39\", \"40\", \"41\", \"42\", \"43\", \"44\", \"45\", \"46\", \"47\", \"48\", \"49\", \"50\", \"51\", \"53\", \"55\", \"56\"], \"mode\": \"markers\", \"name\": \"AUC_weighted\", \"stepped\": false, \"type\": \"scatter\", \"data\": [0.8300989166967427, 0.8427401187916568, 0.8368752648908904, 0.8402658314967646, 0.8448586009482048, 0.8359355372919012, 0.8439513578973363, 0.8325143714323868, 0.8441280634564471, 0.8318980480834473, 0.8254503338064357, 0.8337683854428894, 0.8395538700144701, 0.842884762010203, 0.8398751407723628, 0.8409112406717629, 0.8400016760484065, 0.8212171085043452, 0.8426764773177119, 0.8438315746175667, 0.8396294025307497, 0.8350498077733286, 0.8326623868777535, 0.8406043403711129, 0.6561837484729224, 0.8439811521768801, 0.8439558966677664, 0.8336061508758412, 0.8092918265150357, 0.8426116610763436, 0.8351813971868155, 0.8312393932278381, 0.8227823536044959, 0.8479628240419778, 0.8360671572962696, 0.6527081682823086, 0.8170490223112611, 0.8358664129823653, 0.8250894953023312, 0.8207953274027388, 0.8438315316617665, 0.8292612478742969, 0.6582685222560684, 0.8438865966426572, 0.8440689034880692, 0.842783443960682, 0.8239162808771637, 0.655344404545286, 0.8132652315677072, 0.8411874972482636, 0.8494855752968846, 0.8485314598034354]}, {\"categories\": [\"0\", \"1\", \"2\", \"3\", \"4\", \"5\", \"6\", \"7\", \"8\", \"9\", \"10\", \"11\", \"12\", \"13\", \"14\", \"15\", \"16\", \"17\", \"18\", \"19\", \"20\", \"21\", \"23\", \"24\", \"25\", \"26\", \"27\", \"28\", \"29\", \"30\", \"31\", \"32\", \"33\", \"34\", \"35\", \"38\", \"39\", \"40\", \"41\", \"42\", \"43\", \"44\", \"45\", \"46\", \"47\", \"48\", \"49\", \"50\", \"51\", \"53\", \"55\", \"56\"], \"mode\": \"lines\", \"name\": \"AUC_weighted_max\", \"stepped\": true, \"type\": \"scatter\", \"data\": [0.8300989166967427, 0.8427401187916568, 0.8427401187916568, 0.8427401187916568, 0.8448586009482048, 0.8448586009482048, 0.8448586009482048, 0.8448586009482048, 0.8448586009482048, 0.8448586009482048, 0.8448586009482048, 0.8448586009482048, 0.8448586009482048, 0.8448586009482048, 0.8448586009482048, 0.8448586009482048, 0.8448586009482048, 0.8448586009482048, 0.8448586009482048, 0.8448586009482048, 0.8448586009482048, 0.8448586009482048, 0.8448586009482048, 0.8448586009482048, 0.8448586009482048, 0.8448586009482048, 0.8448586009482048, 0.8448586009482048, 0.8448586009482048, 0.8448586009482048, 0.8448586009482048, 0.8448586009482048, 0.8448586009482048, 0.8479628240419778, 0.8479628240419778, 0.8479628240419778, 0.8479628240419778, 0.8479628240419778, 0.8479628240419778, 0.8479628240419778, 0.8479628240419778, 0.8479628240419778, 0.8479628240419778, 0.8479628240419778, 0.8479628240419778, 0.8479628240419778, 0.8479628240419778, 0.8479628240419778, 0.8479628240419778, 0.8479628240419778, 0.8494855752968846, 0.8494855752968846]}], \"weighted_accuracy\": [{\"categories\": [\"0\", \"1\", \"2\", \"3\", \"4\", \"5\", \"6\", \"7\", \"8\", \"9\", \"10\", \"11\", \"12\", \"13\", \"14\", \"15\", \"16\", \"17\", \"18\", \"19\", \"20\", \"21\", \"23\", \"24\", \"25\", \"26\", \"27\", \"28\", \"29\", \"30\", \"31\", \"32\", \"33\", \"34\", \"35\", \"38\", \"39\", \"40\", \"41\", \"42\", \"43\", \"44\", \"45\", \"46\", \"47\", \"48\", \"49\", \"50\", \"51\", \"53\", \"55\", \"56\"], \"mode\": \"markers\", \"name\": \"weighted_accuracy\", \"stepped\": false, \"type\": \"scatter\", \"data\": [0.8479936181221823, 0.8641718195036037, 0.8685635490551583, 0.8709922315768969, 0.8715481371846987, 0.8610740399348317, 0.7556179840889828, 0.8686739326677584, 0.8553366340685312, 0.8582615916918795, 0.6822618752603657, 0.8546611926552982, 0.8669424325844662, 0.732018589303902, 0.8688180330277063, 0.7349699142467134, 0.8619108433944433, 0.8546816630599985, 0.8769315407410704, 0.7318086021689965, 0.7333354431882626, 0.8548873027797536, 0.857701486037252, 0.8555573535994779, 0.8569135903841983, 0.8553834561370094, 0.8552961354016512, 0.848759374215331, 0.8420459235036322, 0.8894416374384223, 0.856108487871169, 0.853703220740947, 0.8421593861417745, 0.8624502687917204, 0.8738850402369241, 0.8471817432033985, 0.8487828177727368, 0.7325945979268237, 0.8518344615812214, 0.8579202522566796, 0.731579805049909, 0.884628251920477, 0.884628251920477, 0.7307235038760859, 0.8549576785568419, 0.8636061572065117, 0.8497976562771657, 0.8444064056926109, 0.8389236171182216, 0.8653435238274685, 0.8730874768712249, 0.876743779721006]}, {\"categories\": [\"0\", \"1\", \"2\", \"3\", \"4\", \"5\", \"6\", \"7\", \"8\", \"9\", \"10\", \"11\", \"12\", \"13\", \"14\", \"15\", \"16\", \"17\", \"18\", \"19\", \"20\", \"21\", \"23\", \"24\", \"25\", \"26\", \"27\", \"28\", \"29\", \"30\", \"31\", \"32\", \"33\", \"34\", \"35\", \"38\", \"39\", \"40\", \"41\", \"42\", \"43\", \"44\", \"45\", \"46\", \"47\", \"48\", \"49\", \"50\", \"51\", \"53\", \"55\", \"56\"], \"mode\": \"lines\", \"name\": \"weighted_accuracy_max\", \"stepped\": true, \"type\": \"scatter\", \"data\": [0.8479936181221823, 0.8641718195036037, 0.8685635490551583, 0.8709922315768969, 0.8715481371846987, 0.8715481371846987, 0.8715481371846987, 0.8715481371846987, 0.8715481371846987, 0.8715481371846987, 0.8715481371846987, 0.8715481371846987, 0.8715481371846987, 0.8715481371846987, 0.8715481371846987, 0.8715481371846987, 0.8715481371846987, 0.8715481371846987, 0.8769315407410704, 0.8769315407410704, 0.8769315407410704, 0.8769315407410704, 0.8769315407410704, 0.8769315407410704, 0.8769315407410704, 0.8769315407410704, 0.8769315407410704, 0.8769315407410704, 0.8769315407410704, 0.8894416374384223, 0.8894416374384223, 0.8894416374384223, 0.8894416374384223, 0.8894416374384223, 0.8894416374384223, 0.8894416374384223, 0.8894416374384223, 0.8894416374384223, 0.8894416374384223, 0.8894416374384223, 0.8894416374384223, 0.8894416374384223, 0.8894416374384223, 0.8894416374384223, 0.8894416374384223, 0.8894416374384223, 0.8894416374384223, 0.8894416374384223, 0.8894416374384223, 0.8894416374384223, 0.8894416374384223, 0.8894416374384223]}], \"f1_score_micro\": [{\"categories\": [\"0\", \"1\", \"2\", \"3\", \"4\", \"5\", \"6\", \"7\", \"8\", \"9\", \"10\", \"11\", \"12\", \"13\", \"14\", \"15\", \"16\", \"17\", \"18\", \"19\", \"20\", \"21\", \"23\", \"24\", \"25\", \"26\", \"27\", \"28\", \"29\", \"30\", \"31\", \"32\", \"33\", \"34\", \"35\", \"38\", \"39\", \"40\", \"41\", \"42\", \"43\", \"44\", \"45\", \"46\", \"47\", \"48\", \"49\", \"50\", \"51\", \"53\", \"55\", \"56\"], \"mode\": \"markers\", \"name\": \"f1_score_micro\", \"stepped\": false, \"type\": \"scatter\", \"data\": [0.7889621254781305, 0.8033705773093053, 0.7927521944557252, 0.7946478579807333, 0.7974913532682458, 0.7952192744746668, 0.757682167628589, 0.7893403020480916, 0.8037517732530784, 0.7919953380868342, 0.708006926443525, 0.7918036078497682, 0.7902858692802368, 0.7442162636557471, 0.7936992713747762, 0.7447859188482902, 0.799768715965996, 0.7889643900084895, 0.7942689265673193, 0.7440310753952738, 0.7421301279660947, 0.7910500224691736, 0.7942689265673193, 0.7957891812816941, 0.7408041196336292, 0.8035618043174028, 0.8033720869962113, 0.7919960929302873, 0.7834666135256877, 0.7859251386521617, 0.7965465408795537, 0.7916181679748105, 0.7851713016570826, 0.8045076231640321, 0.7946455934503743, 0.7385287698517539, 0.7847974025333554, 0.7413755361275626, 0.7861196366485556, 0.7902901467264705, 0.7438413580740824, 0.7351136064558238, 0.7351136064558238, 0.7428922682391566, 0.8035615527029184, 0.7984411979466245, 0.788584452137138, 0.7396673253933868, 0.778723680495902, 0.8012859513065587, 0.7988181164441641, 0.7586242122579533]}, {\"categories\": [\"0\", \"1\", \"2\", \"3\", \"4\", \"5\", \"6\", \"7\", \"8\", \"9\", \"10\", \"11\", \"12\", \"13\", \"14\", \"15\", \"16\", \"17\", \"18\", \"19\", \"20\", \"21\", \"23\", \"24\", \"25\", \"26\", \"27\", \"28\", \"29\", \"30\", \"31\", \"32\", \"33\", \"34\", \"35\", \"38\", \"39\", \"40\", \"41\", \"42\", \"43\", \"44\", \"45\", \"46\", \"47\", \"48\", \"49\", \"50\", \"51\", \"53\", \"55\", \"56\"], \"mode\": \"lines\", \"name\": \"f1_score_micro_max\", \"stepped\": true, \"type\": \"scatter\", \"data\": [0.7889621254781305, 0.8033705773093053, 0.8033705773093053, 0.8033705773093053, 0.8033705773093053, 0.8033705773093053, 0.8033705773093053, 0.8033705773093053, 0.8037517732530784, 0.8037517732530784, 0.8037517732530784, 0.8037517732530784, 0.8037517732530784, 0.8037517732530784, 0.8037517732530784, 0.8037517732530784, 0.8037517732530784, 0.8037517732530784, 0.8037517732530784, 0.8037517732530784, 0.8037517732530784, 0.8037517732530784, 0.8037517732530784, 0.8037517732530784, 0.8037517732530784, 0.8037517732530784, 0.8037517732530784, 0.8037517732530784, 0.8037517732530784, 0.8037517732530784, 0.8037517732530784, 0.8037517732530784, 0.8037517732530784, 0.8045076231640321, 0.8045076231640321, 0.8045076231640321, 0.8045076231640321, 0.8045076231640321, 0.8045076231640321, 0.8045076231640321, 0.8045076231640321, 0.8045076231640321, 0.8045076231640321, 0.8045076231640321, 0.8045076231640321, 0.8045076231640321, 0.8045076231640321, 0.8045076231640321, 0.8045076231640321, 0.8045076231640321, 0.8045076231640321, 0.8045076231640321]}], \"balanced_accuracy\": [{\"categories\": [\"0\", \"1\", \"2\", \"3\", \"4\", \"5\", \"6\", \"7\", \"8\", \"9\", \"10\", \"11\", \"12\", \"13\", \"14\", \"15\", \"16\", \"17\", \"18\", \"19\", \"20\", \"21\", \"23\", \"24\", \"25\", \"26\", \"27\", \"28\", \"29\", \"30\", \"31\", \"32\", \"33\", \"34\", \"35\", \"38\", \"39\", \"40\", \"41\", \"42\", \"43\", \"44\", \"45\", \"46\", \"47\", \"48\", \"49\", \"50\", \"51\", \"53\", \"55\", \"56\"], \"mode\": \"markers\", \"name\": \"balanced_accuracy\", \"stepped\": false, \"type\": \"scatter\", \"data\": [0.6958124284027914, 0.707674471277214, 0.6734728577606096, 0.6742847048370703, 0.680837602956946, 0.6915705630371912, 0.7607556715632412, 0.664490094132482, 0.7224472280540094, 0.6876377714233319, 0.7485969074008386, 0.6928667255657196, 0.6696410800857057, 0.7629912569425549, 0.6755049641450792, 0.7601793285298817, 0.7019497239592575, 0.6855847370897773, 0.6642624488313196, 0.7632626030936324, 0.7559016707094975, 0.690514834300984, 0.6944007380806713, 0.7015932581501574, 0.5573631325474987, 0.7218992712821954, 0.7215558646887889, 0.7025573086314859, 0.6911155477484086, 0.6231273265195141, 0.7028740071133015, 0.6938915194495984, 0.6954259272627648, 0.7133181426796195, 0.6699464323562444, 0.568354178709866, 0.6838982821088316, 0.7550388803744015, 0.6824713374956589, 0.6836238356543959, 0.7631315414946808, 0.5, 0.5, 0.7620611036346409, 0.7225568449175653, 0.6956793365559069, 0.6921500614312134, 0.5752097797300477, 0.6839053653439736, 0.7004146404295165, 0.6819374484993436, 0.5744697562320175]}, {\"categories\": [\"0\", \"1\", \"2\", \"3\", \"4\", \"5\", \"6\", \"7\", \"8\", \"9\", \"10\", \"11\", \"12\", \"13\", \"14\", \"15\", \"16\", \"17\", \"18\", \"19\", \"20\", \"21\", \"23\", \"24\", \"25\", \"26\", \"27\", \"28\", \"29\", \"30\", \"31\", \"32\", \"33\", \"34\", \"35\", \"38\", \"39\", \"40\", \"41\", \"42\", \"43\", \"44\", \"45\", \"46\", \"47\", \"48\", \"49\", \"50\", \"51\", \"53\", \"55\", \"56\"], \"mode\": \"lines\", \"name\": \"balanced_accuracy_max\", \"stepped\": true, \"type\": \"scatter\", \"data\": [0.6958124284027914, 0.707674471277214, 0.707674471277214, 0.707674471277214, 0.707674471277214, 0.707674471277214, 0.7607556715632412, 0.7607556715632412, 0.7607556715632412, 0.7607556715632412, 0.7607556715632412, 0.7607556715632412, 0.7607556715632412, 0.7629912569425549, 0.7629912569425549, 0.7629912569425549, 0.7629912569425549, 0.7629912569425549, 0.7629912569425549, 0.7632626030936324, 0.7632626030936324, 0.7632626030936324, 0.7632626030936324, 0.7632626030936324, 0.7632626030936324, 0.7632626030936324, 0.7632626030936324, 0.7632626030936324, 0.7632626030936324, 0.7632626030936324, 0.7632626030936324, 0.7632626030936324, 0.7632626030936324, 0.7632626030936324, 0.7632626030936324, 0.7632626030936324, 0.7632626030936324, 0.7632626030936324, 0.7632626030936324, 0.7632626030936324, 0.7632626030936324, 0.7632626030936324, 0.7632626030936324, 0.7632626030936324, 0.7632626030936324, 0.7632626030936324, 0.7632626030936324, 0.7632626030936324, 0.7632626030936324, 0.7632626030936324, 0.7632626030936324, 0.7632626030936324]}], \"precision_score_macro\": [{\"categories\": [\"0\", \"1\", \"2\", \"3\", \"4\", \"5\", \"6\", \"7\", \"8\", \"9\", \"10\", \"11\", \"12\", \"13\", \"14\", \"15\", \"16\", \"17\", \"18\", \"19\", \"20\", \"21\", \"23\", \"24\", \"25\", \"26\", \"27\", \"28\", \"29\", \"30\", \"31\", \"32\", \"33\", \"34\", \"35\", \"38\", \"39\", \"40\", \"41\", \"42\", \"43\", \"44\", \"45\", \"46\", \"47\", \"48\", \"49\", \"50\", \"51\", \"53\", \"55\", \"56\"], \"mode\": \"markers\", \"name\": \"precision_score_macro\", \"stepped\": false, \"type\": \"scatter\", \"data\": [0.729079954309748, 0.7531600298586485, 0.7439449543854454, 0.7483715722430356, 0.7528534396113848, 0.7419391052002104, 0.7149954740300298, 0.7410247447342753, 0.7499415056901165, 0.7361973460485363, 0.6951579648767093, 0.7348016405829606, 0.7395022384309585, 0.711393128319107, 0.7462738356097913, 0.7094753272494296, 0.7476728511882745, 0.7317858768114908, 0.7546706736154862, 0.7110207173491023, 0.7066111643030267, 0.7344049619319806, 0.7394741310803309, 0.740347150118634, 0.5712669235947564, 0.7497926188655938, 0.7495566259069611, 0.7335943943858761, 0.720903663711941, 0.775427278061535, 0.7416642679653401, 0.7343709629945787, 0.723431925577125, 0.7537091799792807, 0.7522291848205251, 0.6478854743497342, 0.7244499576737103, 0.7056694455197859, 0.7270485846440609, 0.733922777639857, 0.7108872804647973, 0.367556803227912, 0.367556803227912, 0.7099628126067102, 0.7496293606103723, 0.7464905762187234, 0.7292601767360184, 0.6447741934486348, 0.7137492870310354, 0.7514820625995348, 0.7543681778429173, 0.530887457389037]}, {\"categories\": [\"0\", \"1\", \"2\", \"3\", \"4\", \"5\", \"6\", \"7\", \"8\", \"9\", \"10\", \"11\", \"12\", \"13\", \"14\", \"15\", \"16\", \"17\", \"18\", \"19\", \"20\", \"21\", \"23\", \"24\", \"25\", \"26\", \"27\", \"28\", \"29\", \"30\", \"31\", \"32\", \"33\", \"34\", \"35\", \"38\", \"39\", \"40\", \"41\", \"42\", \"43\", \"44\", \"45\", \"46\", \"47\", \"48\", \"49\", \"50\", \"51\", \"53\", \"55\", \"56\"], \"mode\": \"lines\", \"name\": \"precision_score_macro_max\", \"stepped\": true, \"type\": \"scatter\", \"data\": [0.729079954309748, 0.7531600298586485, 0.7531600298586485, 0.7531600298586485, 0.7531600298586485, 0.7531600298586485, 0.7531600298586485, 0.7531600298586485, 0.7531600298586485, 0.7531600298586485, 0.7531600298586485, 0.7531600298586485, 0.7531600298586485, 0.7531600298586485, 0.7531600298586485, 0.7531600298586485, 0.7531600298586485, 0.7531600298586485, 0.7546706736154862, 0.7546706736154862, 0.7546706736154862, 0.7546706736154862, 0.7546706736154862, 0.7546706736154862, 0.7546706736154862, 0.7546706736154862, 0.7546706736154862, 0.7546706736154862, 0.7546706736154862, 0.775427278061535, 0.775427278061535, 0.775427278061535, 0.775427278061535, 0.775427278061535, 0.775427278061535, 0.775427278061535, 0.775427278061535, 0.775427278061535, 0.775427278061535, 0.775427278061535, 0.775427278061535, 0.775427278061535, 0.775427278061535, 0.775427278061535, 0.775427278061535, 0.775427278061535, 0.775427278061535, 0.775427278061535, 0.775427278061535, 0.775427278061535, 0.775427278061535, 0.775427278061535]}], \"recall_score_binary\": [{\"categories\": [\"0\", \"1\", \"2\", \"3\", \"4\", \"5\", \"6\", \"7\", \"8\", \"9\", \"10\", \"11\", \"12\", \"13\", \"14\", \"15\", \"16\", \"17\", \"18\", \"19\", \"20\", \"21\", \"23\", \"24\", \"25\", \"26\", \"27\", \"28\", \"29\", \"30\", \"31\", \"32\", \"33\", \"34\", \"35\", \"38\", \"39\", \"40\", \"41\", \"42\", \"43\", \"44\", \"45\", \"46\", \"47\", \"48\", \"49\", \"50\", \"51\", \"53\", \"55\", \"56\"], \"mode\": \"markers\", \"name\": \"recall_score_binary\", \"stepped\": false, \"type\": \"scatter\", \"data\": [0.4984522015668653, 0.5043514437508192, 0.419968269394756, 0.41902998849983714, 0.43319220789404383, 0.47137008667931185, 0.7676979764921442, 0.39919378815837175, 0.5499575824176024, 0.4660420839488645, 0.8346756528564404, 0.4826726935161724, 0.41331312125422104, 0.8038671130884218, 0.42430224508258835, 0.7930094304154096, 0.4941442911430461, 0.4658220288759517, 0.387825851134248, 0.8041255797403767, 0.7853140280901145, 0.4770554681825603, 0.4822839376782166, 0.5017370078204123, 0.169249666290052, 0.548615397224577, 0.5479285840377638, 0.5127437583526478, 0.49526171261808477, 0.2769371386893436, 0.5036810299380431, 0.4862784588073964, 0.5048593541473816, 0.519568874992785, 0.4049580043326516, 0.2048331057894092, 0.46995897818690935, 0.784450682997579, 0.4627425636457997, 0.457495779398288, 0.8041255797403767, 0.0, 0.0, 0.802744196194614, 0.5506973998756861, 0.47779136725568344, 0.487473905901383, 0.22490662941896794, 0.4826167939711125, 0.4862216774793296, 0.4335684098620947, 0.17907962046849482]}, {\"categories\": [\"0\", \"1\", \"2\", \"3\", \"4\", \"5\", \"6\", \"7\", \"8\", \"9\", \"10\", \"11\", \"12\", \"13\", \"14\", \"15\", \"16\", \"17\", \"18\", \"19\", \"20\", \"21\", \"23\", \"24\", \"25\", \"26\", \"27\", \"28\", \"29\", \"30\", \"31\", \"32\", \"33\", \"34\", \"35\", \"38\", \"39\", \"40\", \"41\", \"42\", \"43\", \"44\", \"45\", \"46\", \"47\", \"48\", \"49\", \"50\", \"51\", \"53\", \"55\", \"56\"], \"mode\": \"lines\", \"name\": \"recall_score_binary_max\", \"stepped\": true, \"type\": \"scatter\", \"data\": [0.4984522015668653, 0.5043514437508192, 0.5043514437508192, 0.5043514437508192, 0.5043514437508192, 0.5043514437508192, 0.7676979764921442, 0.7676979764921442, 0.7676979764921442, 0.7676979764921442, 0.8346756528564404, 0.8346756528564404, 0.8346756528564404, 0.8346756528564404, 0.8346756528564404, 0.8346756528564404, 0.8346756528564404, 0.8346756528564404, 0.8346756528564404, 0.8346756528564404, 0.8346756528564404, 0.8346756528564404, 0.8346756528564404, 0.8346756528564404, 0.8346756528564404, 0.8346756528564404, 0.8346756528564404, 0.8346756528564404, 0.8346756528564404, 0.8346756528564404, 0.8346756528564404, 0.8346756528564404, 0.8346756528564404, 0.8346756528564404, 0.8346756528564404, 0.8346756528564404, 0.8346756528564404, 0.8346756528564404, 0.8346756528564404, 0.8346756528564404, 0.8346756528564404, 0.8346756528564404, 0.8346756528564404, 0.8346756528564404, 0.8346756528564404, 0.8346756528564404, 0.8346756528564404, 0.8346756528564404, 0.8346756528564404, 0.8346756528564404, 0.8346756528564404, 0.8346756528564404]}], \"matthews_correlation\": [{\"categories\": [\"0\", \"1\", \"2\", \"3\", \"4\", \"5\", \"6\", \"7\", \"8\", \"9\", \"10\", \"11\", \"12\", \"13\", \"14\", \"15\", \"16\", \"17\", \"18\", \"19\", \"20\", \"21\", \"23\", \"24\", \"25\", \"26\", \"27\", \"28\", \"29\", \"30\", \"31\", \"32\", \"33\", \"34\", \"35\", \"38\", \"39\", \"40\", \"41\", \"42\", \"43\", \"44\", \"45\", \"46\", \"47\", \"48\", \"49\", \"50\", \"51\", \"53\", \"55\", \"56\"], \"mode\": \"markers\", \"name\": \"matthews_correlation\", \"stepped\": false, \"type\": \"scatter\", \"data\": [0.42349163540691276, 0.4584952145927641, 0.41121793978737214, 0.41590099576067835, 0.42746698003186184, 0.43041359111560684, 0.4734992242361181, 0.3980775874477689, 0.4714891509598362, 0.42086918684541413, 0.44047938082508775, 0.4254492184151137, 0.40300807961099155, 0.4715435001958747, 0.4155497917685816, 0.4668669690300148, 0.4471950265175895, 0.4146644882492613, 0.4088535167806967, 0.47135166338415857, 0.4598324756683984, 0.4225868604697621, 0.43141331242431125, 0.4401230050270806, 0.15693010664825321, 0.47077056227429237, 0.4701863130590707, 0.4349597270549443, 0.41085204530298425, 0.36800426225275523, 0.44276041857601484, 0.4262205328444166, 0.41773281966356574, 0.46523634423078597, 0.41386003495557355, 0.19681551044755022, 0.4061828074461979, 0.458015608868138, 0.406935296519102, 0.414381799803197, 0.471085635198397, 0.0, 0.0, 0.4690923308187722, 0.4713060584610883, 0.4390052415988123, 0.4197348550519774, 0.20831961104382613, 0.39642445899851697, 0.4489208444421133, 0.43004032336192716, 0.17940635477711409]}, {\"categories\": [\"0\", \"1\", \"2\", \"3\", \"4\", \"5\", \"6\", \"7\", \"8\", \"9\", \"10\", \"11\", \"12\", \"13\", \"14\", \"15\", \"16\", \"17\", \"18\", \"19\", \"20\", \"21\", \"23\", \"24\", \"25\", \"26\", \"27\", \"28\", \"29\", \"30\", \"31\", \"32\", \"33\", \"34\", \"35\", \"38\", \"39\", \"40\", \"41\", \"42\", \"43\", \"44\", \"45\", \"46\", \"47\", \"48\", \"49\", \"50\", \"51\", \"53\", \"55\", \"56\"], \"mode\": \"lines\", \"name\": \"matthews_correlation_max\", \"stepped\": true, \"type\": \"scatter\", \"data\": [0.42349163540691276, 0.4584952145927641, 0.4584952145927641, 0.4584952145927641, 0.4584952145927641, 0.4584952145927641, 0.4734992242361181, 0.4734992242361181, 0.4734992242361181, 0.4734992242361181, 0.4734992242361181, 0.4734992242361181, 0.4734992242361181, 0.4734992242361181, 0.4734992242361181, 0.4734992242361181, 0.4734992242361181, 0.4734992242361181, 0.4734992242361181, 0.4734992242361181, 0.4734992242361181, 0.4734992242361181, 0.4734992242361181, 0.4734992242361181, 0.4734992242361181, 0.4734992242361181, 0.4734992242361181, 0.4734992242361181, 0.4734992242361181, 0.4734992242361181, 0.4734992242361181, 0.4734992242361181, 0.4734992242361181, 0.4734992242361181, 0.4734992242361181, 0.4734992242361181, 0.4734992242361181, 0.4734992242361181, 0.4734992242361181, 0.4734992242361181, 0.4734992242361181, 0.4734992242361181, 0.4734992242361181, 0.4734992242361181, 0.4734992242361181, 0.4734992242361181, 0.4734992242361181, 0.4734992242361181, 0.4734992242361181, 0.4734992242361181, 0.4734992242361181, 0.4734992242361181]}], \"log_loss\": [{\"categories\": [\"0\", \"1\", \"2\", \"3\", \"4\", \"5\", \"6\", \"7\", \"8\", \"9\", \"10\", \"11\", \"12\", \"13\", \"14\", \"15\", \"16\", \"17\", \"18\", \"19\", \"20\", \"21\", \"23\", \"24\", \"25\", \"26\", \"27\", \"28\", \"29\", \"30\", \"31\", \"32\", \"33\", \"34\", \"35\", \"38\", \"39\", \"40\", \"41\", \"42\", \"43\", \"44\", \"45\", \"46\", \"47\", \"48\", \"49\", \"50\", \"51\", \"53\", \"55\", \"56\"], \"mode\": \"markers\", \"name\": \"log_loss\", \"stepped\": false, \"type\": \"scatter\", \"data\": [0.44207554096356816, 0.4195635877159973, 0.4287919962639678, 0.427800393871853, 0.4260084376527643, 0.480934355168232, 0.4849092708991694, 0.43527858663613, 0.4192799504915198, 0.4831366207433417, 0.5312314475138857, 0.48058683909149924, 0.4253341332121418, 0.5019224866348218, 0.4302184431286208, 0.502438081069038, 0.4263628905470104, 0.5008885539239066, 0.4402373279841095, 0.49404350972784455, 0.520333989484393, 0.482857164349844, 0.4829929732881301, 0.4231362218872795, 0.546270140343314, 0.4191548716326567, 0.4191532468700679, 0.4341092476816189, 0.5470623728347389, 0.45242514759055513, 0.4335256541831054, 0.4371752146201632, 0.46733396581132325, 0.4137306736550382, 0.4335927225846656, 0.5464109100567481, 0.47957525941852724, 0.5176364775140098, 0.4426386710066615, 0.4507439067476155, 0.4940337699231946, 0.5043503500099903, 0.5782140210059231, 0.4939463311401669, 0.4192328728752347, 0.43131057146035295, 0.45132803846821246, 0.546375937784703, 0.4805954126329569, 0.4273997402312991, 0.4355265644514551, 0.49893086248159163]}, {\"categories\": [\"0\", \"1\", \"2\", \"3\", \"4\", \"5\", \"6\", \"7\", \"8\", \"9\", \"10\", \"11\", \"12\", \"13\", \"14\", \"15\", \"16\", \"17\", \"18\", \"19\", \"20\", \"21\", \"23\", \"24\", \"25\", \"26\", \"27\", \"28\", \"29\", \"30\", \"31\", \"32\", \"33\", \"34\", \"35\", \"38\", \"39\", \"40\", \"41\", \"42\", \"43\", \"44\", \"45\", \"46\", \"47\", \"48\", \"49\", \"50\", \"51\", \"53\", \"55\", \"56\"], \"mode\": \"lines\", \"name\": \"log_loss_min\", \"stepped\": true, \"type\": \"scatter\", \"data\": [0.44207554096356816, 0.4195635877159973, 0.4195635877159973, 0.4195635877159973, 0.4195635877159973, 0.4195635877159973, 0.4195635877159973, 0.4195635877159973, 0.4192799504915198, 0.4192799504915198, 0.4192799504915198, 0.4192799504915198, 0.4192799504915198, 0.4192799504915198, 0.4192799504915198, 0.4192799504915198, 0.4192799504915198, 0.4192799504915198, 0.4192799504915198, 0.4192799504915198, 0.4192799504915198, 0.4192799504915198, 0.4192799504915198, 0.4192799504915198, 0.4192799504915198, 0.4191548716326567, 0.4191532468700679, 0.4191532468700679, 0.4191532468700679, 0.4191532468700679, 0.4191532468700679, 0.4191532468700679, 0.4191532468700679, 0.4137306736550382, 0.4137306736550382, 0.4137306736550382, 0.4137306736550382, 0.4137306736550382, 0.4137306736550382, 0.4137306736550382, 0.4137306736550382, 0.4137306736550382, 0.4137306736550382, 0.4137306736550382, 0.4137306736550382, 0.4137306736550382, 0.4137306736550382, 0.4137306736550382, 0.4137306736550382, 0.4137306736550382, 0.4137306736550382, 0.4137306736550382]}], \"average_precision_score_weighted\": [{\"categories\": [\"0\", \"1\", \"2\", \"3\", \"4\", \"5\", \"6\", \"7\", \"8\", \"9\", \"10\", \"11\", \"12\", \"13\", \"14\", \"15\", \"16\", \"17\", \"18\", \"19\", \"20\", \"21\", \"23\", \"24\", \"25\", \"26\", \"27\", \"28\", \"29\", \"30\", \"31\", \"32\", \"33\", \"34\", \"35\", \"38\", \"39\", \"40\", \"41\", \"42\", \"43\", \"44\", \"45\", \"46\", \"47\", \"48\", \"49\", \"50\", \"51\", \"53\", \"55\", \"56\"], \"mode\": \"markers\", \"name\": \"average_precision_score_weighted\", \"stepped\": false, \"type\": \"scatter\", \"data\": [0.8506559637199077, 0.8611307493475443, 0.8549076856619234, 0.8593021410357979, 0.8623243552655862, 0.8553566402960796, 0.8628114030542215, 0.8530327489156855, 0.8609230451792128, 0.8536001646878032, 0.839274547573606, 0.8519046018717241, 0.8577772308713378, 0.8604828117733007, 0.8585633136204615, 0.8583853007193605, 0.8607260409637317, 0.8429897682581553, 0.8624263571585118, 0.860470715083534, 0.8574494748521434, 0.8540857135978044, 0.851874202288042, 0.858939691274463, 0.704030169450405, 0.8607823653600298, 0.8607864859242607, 0.8530879101067254, 0.8337636320817532, 0.8618334858677882, 0.8536539802757773, 0.8522909796599897, 0.8447997150025921, 0.8659068261224974, 0.8555985300482248, 0.709656084572528, 0.8363462277383212, 0.8535043233639242, 0.8443732668418547, 0.8420683200301663, 0.8604757644979149, 0.8487074340982578, 0.709461048596932, 0.8607583034648628, 0.860861974866834, 0.8608391531121313, 0.8433444076473359, 0.710379770531617, 0.8337810254146163, 0.8611084975226284, 0.8666021794119383, 0.8652477452532874]}, {\"categories\": [\"0\", \"1\", \"2\", \"3\", \"4\", \"5\", \"6\", \"7\", \"8\", \"9\", \"10\", \"11\", \"12\", \"13\", \"14\", \"15\", \"16\", \"17\", \"18\", \"19\", \"20\", \"21\", \"23\", \"24\", \"25\", \"26\", \"27\", \"28\", \"29\", \"30\", \"31\", \"32\", \"33\", \"34\", \"35\", \"38\", \"39\", \"40\", \"41\", \"42\", \"43\", \"44\", \"45\", \"46\", \"47\", \"48\", \"49\", \"50\", \"51\", \"53\", \"55\", \"56\"], \"mode\": \"lines\", \"name\": \"average_precision_score_weighted_max\", \"stepped\": true, \"type\": \"scatter\", \"data\": [0.8506559637199077, 0.8611307493475443, 0.8611307493475443, 0.8611307493475443, 0.8623243552655862, 0.8623243552655862, 0.8628114030542215, 0.8628114030542215, 0.8628114030542215, 0.8628114030542215, 0.8628114030542215, 0.8628114030542215, 0.8628114030542215, 0.8628114030542215, 0.8628114030542215, 0.8628114030542215, 0.8628114030542215, 0.8628114030542215, 0.8628114030542215, 0.8628114030542215, 0.8628114030542215, 0.8628114030542215, 0.8628114030542215, 0.8628114030542215, 0.8628114030542215, 0.8628114030542215, 0.8628114030542215, 0.8628114030542215, 0.8628114030542215, 0.8628114030542215, 0.8628114030542215, 0.8628114030542215, 0.8628114030542215, 0.8659068261224974, 0.8659068261224974, 0.8659068261224974, 0.8659068261224974, 0.8659068261224974, 0.8659068261224974, 0.8659068261224974, 0.8659068261224974, 0.8659068261224974, 0.8659068261224974, 0.8659068261224974, 0.8659068261224974, 0.8659068261224974, 0.8659068261224974, 0.8659068261224974, 0.8659068261224974, 0.8659068261224974, 0.8666021794119383, 0.8666021794119383]}], \"accuracy\": [{\"categories\": [\"0\", \"1\", \"2\", \"3\", \"4\", \"5\", \"6\", \"7\", \"8\", \"9\", \"10\", \"11\", \"12\", \"13\", \"14\", \"15\", \"16\", \"17\", \"18\", \"19\", \"20\", \"21\", \"23\", \"24\", \"25\", \"26\", \"27\", \"28\", \"29\", \"30\", \"31\", \"32\", \"33\", \"34\", \"35\", \"38\", \"39\", \"40\", \"41\", \"42\", \"43\", \"44\", \"45\", \"46\", \"47\", \"48\", \"49\", \"50\", \"51\", \"53\", \"55\", \"56\"], \"mode\": \"markers\", \"name\": \"accuracy\", \"stepped\": false, \"type\": \"scatter\", \"data\": [0.7889621254781305, 0.8033705773093053, 0.7927521944557252, 0.7946478579807336, 0.7974913532682458, 0.7952192744746668, 0.757682167628589, 0.7893403020480917, 0.8037517732530784, 0.7919953380868342, 0.7080069264435249, 0.7918036078497682, 0.7902858692802368, 0.7442162636557471, 0.7936992713747762, 0.7447859188482902, 0.799768715965996, 0.7889643900084895, 0.7942689265673193, 0.7440310753952739, 0.7421301279660945, 0.7910500224691736, 0.7942689265673193, 0.7957891812816941, 0.7408041196336292, 0.8035618043174028, 0.8033720869962113, 0.7919960929302873, 0.7834666135256877, 0.7859251386521616, 0.7965465408795538, 0.7916181679748104, 0.7851713016570827, 0.8045076231640321, 0.7946455934503744, 0.7385287698517539, 0.7847974025333554, 0.7413755361275626, 0.7861196366485556, 0.7902901467264705, 0.7438413580740825, 0.735113606455824, 0.735113606455824, 0.7428922682391567, 0.8035615527029184, 0.7984411979466246, 0.788584452137138, 0.7396673253933868, 0.778723680495902, 0.8012859513065587, 0.7988181164441641, 0.7586242122579533]}, {\"categories\": [\"0\", \"1\", \"2\", \"3\", \"4\", \"5\", \"6\", \"7\", \"8\", \"9\", \"10\", \"11\", \"12\", \"13\", \"14\", \"15\", \"16\", \"17\", \"18\", \"19\", \"20\", \"21\", \"23\", \"24\", \"25\", \"26\", \"27\", \"28\", \"29\", \"30\", \"31\", \"32\", \"33\", \"34\", \"35\", \"38\", \"39\", \"40\", \"41\", \"42\", \"43\", \"44\", \"45\", \"46\", \"47\", \"48\", \"49\", \"50\", \"51\", \"53\", \"55\", \"56\"], \"mode\": \"lines\", \"name\": \"accuracy_max\", \"stepped\": true, \"type\": \"scatter\", \"data\": [0.7889621254781305, 0.8033705773093053, 0.8033705773093053, 0.8033705773093053, 0.8033705773093053, 0.8033705773093053, 0.8033705773093053, 0.8033705773093053, 0.8037517732530784, 0.8037517732530784, 0.8037517732530784, 0.8037517732530784, 0.8037517732530784, 0.8037517732530784, 0.8037517732530784, 0.8037517732530784, 0.8037517732530784, 0.8037517732530784, 0.8037517732530784, 0.8037517732530784, 0.8037517732530784, 0.8037517732530784, 0.8037517732530784, 0.8037517732530784, 0.8037517732530784, 0.8037517732530784, 0.8037517732530784, 0.8037517732530784, 0.8037517732530784, 0.8037517732530784, 0.8037517732530784, 0.8037517732530784, 0.8037517732530784, 0.8045076231640321, 0.8045076231640321, 0.8045076231640321, 0.8045076231640321, 0.8045076231640321, 0.8045076231640321, 0.8045076231640321, 0.8045076231640321, 0.8045076231640321, 0.8045076231640321, 0.8045076231640321, 0.8045076231640321, 0.8045076231640321, 0.8045076231640321, 0.8045076231640321, 0.8045076231640321, 0.8045076231640321, 0.8045076231640321, 0.8045076231640321]}], \"f1_score_weighted\": [{\"categories\": [\"0\", \"1\", \"2\", \"3\", \"4\", \"5\", \"6\", \"7\", \"8\", \"9\", \"10\", \"11\", \"12\", \"13\", \"14\", \"15\", \"16\", \"17\", \"18\", \"19\", \"20\", \"21\", \"23\", \"24\", \"25\", \"26\", \"27\", \"28\", \"29\", \"30\", \"31\", \"32\", \"33\", \"34\", \"35\", \"38\", \"39\", \"40\", \"41\", \"42\", \"43\", \"44\", \"45\", \"46\", \"47\", \"48\", \"49\", \"50\", \"51\", \"53\", \"55\", \"56\"], \"mode\": \"markers\", \"name\": \"f1_score_weighted\", \"stepped\": false, \"type\": \"scatter\", \"data\": [0.780551766836166, 0.7935003233574314, 0.7749235530689821, 0.7765846262746255, 0.7807946232503779, 0.7830386678489127, 0.7691551277754812, 0.7695203766884181, 0.7978839446532426, 0.7796895043927409, 0.7248520988641597, 0.7813139087825058, 0.7720871946500362, 0.7577206145435537, 0.7763393291137461, 0.7582558210161123, 0.7894018369077017, 0.7771826180688838, 0.7720315590161108, 0.7577464194138986, 0.7555363788228311, 0.7802204373636709, 0.7833846383339651, 0.7867226414113911, 0.682356712773237, 0.7976053413773032, 0.7973862501944741, 0.7844683024942621, 0.7755323496167454, 0.7466541046892122, 0.7876128368358034, 0.7815775448600517, 0.7777674510772837, 0.7959508953110139, 0.7747116043379075, 0.692594663574356, 0.7741797453826579, 0.7548166613975563, 0.7745355240047279, 0.777474320500727, 0.757572934788004, 0.6229499023539234, 0.6229499023539234, 0.7566860528261009, 0.7977717377213569, 0.7864206795715699, 0.7792243025727643, 0.6997710662213109, 0.77017949421561, 0.7899434077814264, 0.781722555405059, 0.6857375689989501]}, {\"categories\": [\"0\", \"1\", \"2\", \"3\", \"4\", \"5\", \"6\", \"7\", \"8\", \"9\", \"10\", \"11\", \"12\", \"13\", \"14\", \"15\", \"16\", \"17\", \"18\", \"19\", \"20\", \"21\", \"23\", \"24\", \"25\", \"26\", \"27\", \"28\", \"29\", \"30\", \"31\", \"32\", \"33\", \"34\", \"35\", \"38\", \"39\", \"40\", \"41\", \"42\", \"43\", \"44\", \"45\", \"46\", \"47\", \"48\", \"49\", \"50\", \"51\", \"53\", \"55\", \"56\"], \"mode\": \"lines\", \"name\": \"f1_score_weighted_max\", \"stepped\": true, \"type\": \"scatter\", \"data\": [0.780551766836166, 0.7935003233574314, 0.7935003233574314, 0.7935003233574314, 0.7935003233574314, 0.7935003233574314, 0.7935003233574314, 0.7935003233574314, 0.7978839446532426, 0.7978839446532426, 0.7978839446532426, 0.7978839446532426, 0.7978839446532426, 0.7978839446532426, 0.7978839446532426, 0.7978839446532426, 0.7978839446532426, 0.7978839446532426, 0.7978839446532426, 0.7978839446532426, 0.7978839446532426, 0.7978839446532426, 0.7978839446532426, 0.7978839446532426, 0.7978839446532426, 0.7978839446532426, 0.7978839446532426, 0.7978839446532426, 0.7978839446532426, 0.7978839446532426, 0.7978839446532426, 0.7978839446532426, 0.7978839446532426, 0.7978839446532426, 0.7978839446532426, 0.7978839446532426, 0.7978839446532426, 0.7978839446532426, 0.7978839446532426, 0.7978839446532426, 0.7978839446532426, 0.7978839446532426, 0.7978839446532426, 0.7978839446532426, 0.7978839446532426, 0.7978839446532426, 0.7978839446532426, 0.7978839446532426, 0.7978839446532426, 0.7978839446532426, 0.7978839446532426, 0.7978839446532426]}], \"precision_score_binary\": [{\"categories\": [\"0\", \"1\", \"2\", \"3\", \"4\", \"5\", \"6\", \"7\", \"8\", \"9\", \"10\", \"11\", \"12\", \"13\", \"14\", \"15\", \"16\", \"17\", \"18\", \"19\", \"20\", \"21\", \"23\", \"24\", \"25\", \"26\", \"27\", \"28\", \"29\", \"30\", \"31\", \"32\", \"33\", \"34\", \"35\", \"38\", \"39\", \"40\", \"41\", \"42\", \"43\", \"44\", \"45\", \"46\", \"47\", \"48\", \"49\", \"50\", \"51\", \"53\", \"55\", \"56\"], \"mode\": \"markers\", \"name\": \"precision_score_binary\", \"stepped\": false, \"type\": \"scatter\", \"data\": [0.6260467779889655, 0.6700777462335237, 0.6716709670767366, 0.6801725382652917, 0.6858418877761047, 0.656464345984759, 0.5295904622009457, 0.6708210108939594, 0.6530501413575267, 0.6466642067659919, 0.47230414404797055, 0.6403953497773733, 0.6646558453992711, 0.5112227385261673, 0.6753072565333549, 0.5117636990767777, 0.6620372947670763, 0.6387795541491628, 0.6991468524094625, 0.5110780754664846, 0.5091163993159283, 0.6412076160201549, 0.6494931203591138, 0.646494117075153, 0.38179526922745727, 0.6531423099946573, 0.6528835108228146, 0.6314054708589764, 0.6116995371710957, 0.7626442517960046, 0.6486514351907758, 0.6388537302022798, 0.6141415585651568, 0.6676595160599036, 0.690897897853055, 0.5308971117639939, 0.6239872756182557, 0.5076760181150959, 0.6304470212079493, 0.64424893479327, 0.5108441920317067, 0.0, 0.0, 0.509635953807873, 0.6522917381182104, 0.6632430778736064, 0.6290792727432416, 0.521443251635665, 0.6011997454676552, 0.6711160713825285, 0.6884295470921736, 0.2928499566033997]}, {\"categories\": [\"0\", \"1\", \"2\", \"3\", \"4\", \"5\", \"6\", \"7\", \"8\", \"9\", \"10\", \"11\", \"12\", \"13\", \"14\", \"15\", \"16\", \"17\", \"18\", \"19\", \"20\", \"21\", \"23\", \"24\", \"25\", \"26\", \"27\", \"28\", \"29\", \"30\", \"31\", \"32\", \"33\", \"34\", \"35\", \"38\", \"39\", \"40\", \"41\", \"42\", \"43\", \"44\", \"45\", \"46\", \"47\", \"48\", \"49\", \"50\", \"51\", \"53\", \"55\", \"56\"], \"mode\": \"lines\", \"name\": \"precision_score_binary_max\", \"stepped\": true, \"type\": \"scatter\", \"data\": [0.6260467779889655, 0.6700777462335237, 0.6716709670767366, 0.6801725382652917, 0.6858418877761047, 0.6858418877761047, 0.6858418877761047, 0.6858418877761047, 0.6858418877761047, 0.6858418877761047, 0.6858418877761047, 0.6858418877761047, 0.6858418877761047, 0.6858418877761047, 0.6858418877761047, 0.6858418877761047, 0.6858418877761047, 0.6858418877761047, 0.6991468524094625, 0.6991468524094625, 0.6991468524094625, 0.6991468524094625, 0.6991468524094625, 0.6991468524094625, 0.6991468524094625, 0.6991468524094625, 0.6991468524094625, 0.6991468524094625, 0.6991468524094625, 0.7626442517960046, 0.7626442517960046, 0.7626442517960046, 0.7626442517960046, 0.7626442517960046, 0.7626442517960046, 0.7626442517960046, 0.7626442517960046, 0.7626442517960046, 0.7626442517960046, 0.7626442517960046, 0.7626442517960046, 0.7626442517960046, 0.7626442517960046, 0.7626442517960046, 0.7626442517960046, 0.7626442517960046, 0.7626442517960046, 0.7626442517960046, 0.7626442517960046, 0.7626442517960046, 0.7626442517960046, 0.7626442517960046]}], \"AUC_macro\": [{\"categories\": [\"0\", \"1\", \"2\", \"3\", \"4\", \"5\", \"6\", \"7\", \"8\", \"9\", \"10\", \"11\", \"12\", \"13\", \"14\", \"15\", \"16\", \"17\", \"18\", \"19\", \"20\", \"21\", \"23\", \"24\", \"25\", \"26\", \"27\", \"28\", \"29\", \"30\", \"31\", \"32\", \"33\", \"34\", \"35\", \"38\", \"39\", \"40\", \"41\", \"42\", \"43\", \"44\", \"45\", \"46\", \"47\", \"48\", \"49\", \"50\", \"51\", \"53\", \"55\", \"56\"], \"mode\": \"markers\", \"name\": \"AUC_macro\", \"stepped\": false, \"type\": \"scatter\", \"data\": [0.8300989166967427, 0.8427401187916568, 0.8368752648908904, 0.8402658314967646, 0.8448586009482048, 0.8359355372919012, 0.8439513578973362, 0.8325143714323868, 0.8441280634564471, 0.8318980480834473, 0.8254503338064357, 0.8337683854428894, 0.8395538700144703, 0.842884762010203, 0.8398751407723628, 0.8409112406717628, 0.8400016760484065, 0.8212171085043452, 0.8426764773177119, 0.843831574617567, 0.8396294025307498, 0.8350498077733286, 0.8326623868777535, 0.8406043403711129, 0.6561837484729224, 0.8439811521768797, 0.8439558966677664, 0.8336061508758412, 0.8092918265150357, 0.8426116610763436, 0.8351813971868154, 0.8312393932278381, 0.822782353604496, 0.8479628240419778, 0.8360671572962696, 0.6527081682823086, 0.8170490223112611, 0.8358664129823653, 0.8250894953023312, 0.820795327402739, 0.8438315316617665, 0.8292612478742968, 0.6582685222560682, 0.8438865966426572, 0.8440689034880692, 0.842783443960682, 0.8239162808771637, 0.655344404545286, 0.8132652315677074, 0.8411874972482635, 0.8494855752968846, 0.8485314598034354]}, {\"categories\": [\"0\", \"1\", \"2\", \"3\", \"4\", \"5\", \"6\", \"7\", \"8\", \"9\", \"10\", \"11\", \"12\", \"13\", \"14\", \"15\", \"16\", \"17\", \"18\", \"19\", \"20\", \"21\", \"23\", \"24\", \"25\", \"26\", \"27\", \"28\", \"29\", \"30\", \"31\", \"32\", \"33\", \"34\", \"35\", \"38\", \"39\", \"40\", \"41\", \"42\", \"43\", \"44\", \"45\", \"46\", \"47\", \"48\", \"49\", \"50\", \"51\", \"53\", \"55\", \"56\"], \"mode\": \"lines\", \"name\": \"AUC_macro_max\", \"stepped\": true, \"type\": \"scatter\", \"data\": [0.8300989166967427, 0.8427401187916568, 0.8427401187916568, 0.8427401187916568, 0.8448586009482048, 0.8448586009482048, 0.8448586009482048, 0.8448586009482048, 0.8448586009482048, 0.8448586009482048, 0.8448586009482048, 0.8448586009482048, 0.8448586009482048, 0.8448586009482048, 0.8448586009482048, 0.8448586009482048, 0.8448586009482048, 0.8448586009482048, 0.8448586009482048, 0.8448586009482048, 0.8448586009482048, 0.8448586009482048, 0.8448586009482048, 0.8448586009482048, 0.8448586009482048, 0.8448586009482048, 0.8448586009482048, 0.8448586009482048, 0.8448586009482048, 0.8448586009482048, 0.8448586009482048, 0.8448586009482048, 0.8448586009482048, 0.8479628240419778, 0.8479628240419778, 0.8479628240419778, 0.8479628240419778, 0.8479628240419778, 0.8479628240419778, 0.8479628240419778, 0.8479628240419778, 0.8479628240419778, 0.8479628240419778, 0.8479628240419778, 0.8479628240419778, 0.8479628240419778, 0.8479628240419778, 0.8479628240419778, 0.8479628240419778, 0.8479628240419778, 0.8494855752968846, 0.8494855752968846]}], \"AUC_binary\": [{\"categories\": [\"0\", \"1\", \"2\", \"3\", \"4\", \"5\", \"6\", \"7\", \"8\", \"9\", \"10\", \"11\", \"12\", \"13\", \"14\", \"15\", \"16\", \"17\", \"18\", \"19\", \"20\", \"21\", \"23\", \"24\", \"25\", \"26\", \"27\", \"28\", \"29\", \"30\", \"31\", \"32\", \"33\", \"34\", \"35\", \"38\", \"39\", \"40\", \"41\", \"42\", \"43\", \"44\", \"45\", \"46\", \"47\", \"48\", \"49\", \"50\", \"51\", \"53\", \"55\", \"56\"], \"mode\": \"markers\", \"name\": \"AUC_binary\", \"stepped\": false, \"type\": \"scatter\", \"data\": [0.8300989166967429, 0.8427401187916571, 0.8368752648908904, 0.8402658314967646, 0.8448586009482048, 0.8359355372919014, 0.8439513578973363, 0.8325143714323868, 0.8441280634564471, 0.8318980480834473, 0.8254503338064356, 0.8337683854428894, 0.8395538700144703, 0.8428847620102031, 0.8398751407723628, 0.8409112406717628, 0.8400016760484064, 0.8212171085043452, 0.8426764773177119, 0.8438315746175669, 0.8396294025307498, 0.8350498077733286, 0.8326623868777535, 0.8406043403711129, 0.6561837484729224, 0.84398115217688, 0.8439558966677664, 0.8336061508758412, 0.8092918265150357, 0.8426116610763436, 0.8351813971868155, 0.8312393932278381, 0.822782353604496, 0.8479628240419778, 0.8360671572962696, 0.6527081682823085, 0.8170490223112611, 0.8358664129823653, 0.8250894953023312, 0.8207953274027389, 0.8438315316617665, 0.8292612478742968, 0.6582685222560682, 0.8438865966426572, 0.8440689034880692, 0.842783443960682, 0.8239162808771636, 0.655344404545286, 0.8132652315677074, 0.8411874972482635, 0.8494855752968846, 0.8485314598034355]}, {\"categories\": [\"0\", \"1\", \"2\", \"3\", \"4\", \"5\", \"6\", \"7\", \"8\", \"9\", \"10\", \"11\", \"12\", \"13\", \"14\", \"15\", \"16\", \"17\", \"18\", \"19\", \"20\", \"21\", \"23\", \"24\", \"25\", \"26\", \"27\", \"28\", \"29\", \"30\", \"31\", \"32\", \"33\", \"34\", \"35\", \"38\", \"39\", \"40\", \"41\", \"42\", \"43\", \"44\", \"45\", \"46\", \"47\", \"48\", \"49\", \"50\", \"51\", \"53\", \"55\", \"56\"], \"mode\": \"lines\", \"name\": \"AUC_binary_max\", \"stepped\": true, \"type\": \"scatter\", \"data\": [0.8300989166967429, 0.8427401187916571, 0.8427401187916571, 0.8427401187916571, 0.8448586009482048, 0.8448586009482048, 0.8448586009482048, 0.8448586009482048, 0.8448586009482048, 0.8448586009482048, 0.8448586009482048, 0.8448586009482048, 0.8448586009482048, 0.8448586009482048, 0.8448586009482048, 0.8448586009482048, 0.8448586009482048, 0.8448586009482048, 0.8448586009482048, 0.8448586009482048, 0.8448586009482048, 0.8448586009482048, 0.8448586009482048, 0.8448586009482048, 0.8448586009482048, 0.8448586009482048, 0.8448586009482048, 0.8448586009482048, 0.8448586009482048, 0.8448586009482048, 0.8448586009482048, 0.8448586009482048, 0.8448586009482048, 0.8479628240419778, 0.8479628240419778, 0.8479628240419778, 0.8479628240419778, 0.8479628240419778, 0.8479628240419778, 0.8479628240419778, 0.8479628240419778, 0.8479628240419778, 0.8479628240419778, 0.8479628240419778, 0.8479628240419778, 0.8479628240419778, 0.8479628240419778, 0.8479628240419778, 0.8479628240419778, 0.8479628240419778, 0.8494855752968846, 0.8494855752968846]}]}, \"metricName\": null, \"primaryMetricName\": \"AUC_weighted\", \"showLegend\": false}, \"run_metrics\": [{\"name\": \"experiment_status\", \"run_id\": \"AutoML_78a45b32-8739-4c0b-a14d-2ce6e71df070\", \"categories\": [0, 1, 2, 3, 4, 5, 6, 7, 8, 9, 10, 11, 12, 13], \"series\": [{\"data\": [\"DatasetEvaluation\", \"FeaturesGeneration\", \"DatasetFeaturization\", \"DatasetFeaturizationCompleted\", \"DatasetCrossValidationSplit\", \"ModelSelection\", \"BestRunExplainModel\", \"ModelExplanationDataSetSetup\", \"PickSurrogateModel\", \"EngineeredFeatureExplanations\", \"EngineeredFeatureExplanations\", \"RawFeaturesExplanations\", \"RawFeaturesExplanations\", \"BestRunExplainModel\"]}]}, {\"name\": \"experiment_status_description\", \"run_id\": \"AutoML_78a45b32-8739-4c0b-a14d-2ce6e71df070\", \"categories\": [0, 1, 2, 3, 4, 5, 6, 7, 8, 9, 10, 11, 12, 13], \"series\": [{\"data\": [\"Gathering dataset statistics.\", \"Generating features for the dataset.\", \"Beginning to fit featurizers and featurize the dataset.\", \"Completed fit featurizers and featurizing the dataset.\", \"Generating individually featurized CV splits.\", \"Beginning model selection.\", \"Best run model explanations started\", \"Model explanations data setup completed\", \"Choosing LightGBM as the surrogate model for explanations\", \"Computation of engineered features started\", \"Computation of engineered features completed\", \"Computation of raw features started\", \"Computation of raw features completed\", \"Best run model explanations completed\"]}]}, {\"name\": \"average_precision_score_weighted\", \"run_id\": \"AutoML_78a45b32-8739-4c0b-a14d-2ce6e71df070\", \"categories\": [0], \"series\": [{\"data\": [0.8666021794119383]}]}, {\"name\": \"precision_score_micro\", \"run_id\": \"AutoML_78a45b32-8739-4c0b-a14d-2ce6e71df070\", \"categories\": [0], \"series\": [{\"data\": [0.7988181164441641]}]}, {\"name\": \"weighted_accuracy\", \"run_id\": \"AutoML_78a45b32-8739-4c0b-a14d-2ce6e71df070\", \"categories\": [0], \"series\": [{\"data\": [0.8730874768712249]}]}, {\"name\": \"average_precision_score_micro\", \"run_id\": \"AutoML_78a45b32-8739-4c0b-a14d-2ce6e71df070\", \"categories\": [0], \"series\": [{\"data\": [0.8912866612122411]}]}, {\"name\": \"AUC_weighted\", \"run_id\": \"AutoML_78a45b32-8739-4c0b-a14d-2ce6e71df070\", \"categories\": [0], \"series\": [{\"data\": [0.8494855752968846]}]}, {\"name\": \"matthews_correlation\", \"run_id\": \"AutoML_78a45b32-8739-4c0b-a14d-2ce6e71df070\", \"categories\": [0], \"series\": [{\"data\": [0.43004032336192716]}]}, {\"name\": \"balanced_accuracy\", \"run_id\": \"AutoML_78a45b32-8739-4c0b-a14d-2ce6e71df070\", \"categories\": [0], \"series\": [{\"data\": [0.6819374484993436]}]}, {\"name\": \"AUC_micro\", \"run_id\": \"AutoML_78a45b32-8739-4c0b-a14d-2ce6e71df070\", \"categories\": [0], \"series\": [{\"data\": [0.890013329411557]}]}, {\"name\": \"norm_macro_recall\", \"run_id\": \"AutoML_78a45b32-8739-4c0b-a14d-2ce6e71df070\", \"categories\": [0], \"series\": [{\"data\": [0.3638748969986869]}]}, {\"name\": \"AUC_macro\", \"run_id\": \"AutoML_78a45b32-8739-4c0b-a14d-2ce6e71df070\", \"categories\": [0], \"series\": [{\"data\": [0.8494855752968846]}]}, {\"name\": \"average_precision_score_binary\", \"run_id\": \"AutoML_78a45b32-8739-4c0b-a14d-2ce6e71df070\", \"categories\": [0], \"series\": [{\"data\": [0.6686985843218849]}]}, {\"name\": \"recall_score_micro\", \"run_id\": \"AutoML_78a45b32-8739-4c0b-a14d-2ce6e71df070\", \"categories\": [0], \"series\": [{\"data\": [0.7988181164441641]}]}, {\"name\": \"f1_score_macro\", \"run_id\": \"AutoML_78a45b32-8739-4c0b-a14d-2ce6e71df070\", \"categories\": [0], \"series\": [{\"data\": [0.7015245022400727]}]}, {\"name\": \"f1_score_micro\", \"run_id\": \"AutoML_78a45b32-8739-4c0b-a14d-2ce6e71df070\", \"categories\": [0], \"series\": [{\"data\": [0.7988181164441641]}]}, {\"name\": \"recall_score_binary\", \"run_id\": \"AutoML_78a45b32-8739-4c0b-a14d-2ce6e71df070\", \"categories\": [0], \"series\": [{\"data\": [0.4335684098620947]}]}, {\"name\": \"f1_score_weighted\", \"run_id\": \"AutoML_78a45b32-8739-4c0b-a14d-2ce6e71df070\", \"categories\": [0], \"series\": [{\"data\": [0.781722555405059]}]}, {\"name\": \"average_precision_score_macro\", \"run_id\": \"AutoML_78a45b32-8739-4c0b-a14d-2ce6e71df070\", \"categories\": [0], \"series\": [{\"data\": [0.8031809100823777]}]}, {\"name\": \"f1_score_binary\", \"run_id\": \"AutoML_78a45b32-8739-4c0b-a14d-2ce6e71df070\", \"categories\": [0], \"series\": [{\"data\": [0.5312680918224274]}]}, {\"name\": \"AUC_binary\", \"run_id\": \"AutoML_78a45b32-8739-4c0b-a14d-2ce6e71df070\", \"categories\": [0], \"series\": [{\"data\": [0.8494855752968846]}]}, {\"name\": \"accuracy\", \"run_id\": \"AutoML_78a45b32-8739-4c0b-a14d-2ce6e71df070\", \"categories\": [0], \"series\": [{\"data\": [0.7988181164441641]}]}, {\"name\": \"recall_score_weighted\", \"run_id\": \"AutoML_78a45b32-8739-4c0b-a14d-2ce6e71df070\", \"categories\": [0], \"series\": [{\"data\": [0.7988181164441641]}]}, {\"name\": \"precision_score_binary\", \"run_id\": \"AutoML_78a45b32-8739-4c0b-a14d-2ce6e71df070\", \"categories\": [0], \"series\": [{\"data\": [0.6884295470921736]}]}, {\"name\": \"recall_score_macro\", \"run_id\": \"AutoML_78a45b32-8739-4c0b-a14d-2ce6e71df070\", \"categories\": [0], \"series\": [{\"data\": [0.6819374484993436]}]}, {\"name\": \"precision_score_weighted\", \"run_id\": \"AutoML_78a45b32-8739-4c0b-a14d-2ce6e71df070\", \"categories\": [0], \"series\": [{\"data\": [0.7855631444906246]}]}, {\"name\": \"log_loss\", \"run_id\": \"AutoML_78a45b32-8739-4c0b-a14d-2ce6e71df070\", \"categories\": [0], \"series\": [{\"data\": [0.4355265644514551]}]}, {\"name\": \"precision_score_macro\", \"run_id\": \"AutoML_78a45b32-8739-4c0b-a14d-2ce6e71df070\", \"categories\": [0], \"series\": [{\"data\": [0.7543681778429173]}]}], \"run_logs\": \"\\nRun is completed.\", \"graph\": {}, \"widget_settings\": {\"childWidgetDisplay\": \"popup\", \"send_telemetry\": false, \"log_level\": \"INFO\", \"sdk_version\": \"1.33.0\"}, \"loading\": false}"
     },
     "metadata": {},
     "output_type": "display_data"
    },
    {
     "data": {
      "text/html": [
       "<table style=\"width:100%\"><tr><th>Experiment</th><th>Id</th><th>Type</th><th>Status</th><th>Details Page</th><th>Docs Page</th></tr><tr><td>capstone-project</td><td>AutoML_78a45b32-8739-4c0b-a14d-2ce6e71df070</td><td>automl</td><td>Completed</td><td><a href=\"https://ml.azure.com/runs/AutoML_78a45b32-8739-4c0b-a14d-2ce6e71df070?wsid=/subscriptions/61c5c3f0-6dc7-4ed9-a7f3-c704b20e3b30/resourcegroups/aml-quickstarts-159333/workspaces/quick-starts-ws-159333&amp;tid=660b3398-b80e-49d2-bc5b-ac1dc93b5254\" target=\"_blank\" rel=\"noopener\">Link to Azure Machine Learning studio</a></td><td><a href=\"https://docs.microsoft.com/en-us/python/api/overview/azure/ml/intro?view=azure-ml-py\" target=\"_blank\" rel=\"noopener\">Link to Documentation</a></td></tr></table>"
      ],
      "text/plain": [
       "<IPython.core.display.HTML object>"
      ]
     },
     "metadata": {},
     "output_type": "display_data"
    },
    {
     "name": "stdout",
     "output_type": "stream",
     "text": [
      "\n",
      "\n",
      "****************************************************************************************************\n",
      "DATA GUARDRAILS: \n",
      "\n",
      "TYPE:         Class balancing detection\n",
      "STATUS:       PASSED\n",
      "DESCRIPTION:  Your inputs were analyzed, and all classes are balanced in your training data.\n",
      "              Learn more about imbalanced data: https://aka.ms/AutomatedMLImbalancedData\n",
      "\n",
      "****************************************************************************************************\n",
      "\n",
      "TYPE:         Missing feature values imputation\n",
      "STATUS:       PASSED\n",
      "DESCRIPTION:  No feature missing values were detected in the training data.\n",
      "              Learn more about missing value imputation: https://aka.ms/AutomatedMLFeaturization\n",
      "\n",
      "****************************************************************************************************\n",
      "\n",
      "TYPE:         High cardinality feature detection\n",
      "STATUS:       PASSED\n",
      "DESCRIPTION:  Your inputs were analyzed, and no high cardinality features were detected.\n",
      "              Learn more about high cardinality feature handling: https://aka.ms/AutomatedMLFeaturization\n",
      "\n",
      "****************************************************************************************************\n",
      "\n",
      "****************************************************************************************************\n",
      "ITERATION: The iteration being evaluated.\n",
      "PIPELINE: A summary description of the pipeline being evaluated.\n",
      "DURATION: Time taken for the current iteration.\n",
      "METRIC: The result of computing score on the fitted pipeline.\n",
      "BEST: The best observed score thus far.\n",
      "****************************************************************************************************\n",
      "\n",
      " ITERATION   PIPELINE                                       DURATION      METRIC      BEST\n",
      "         0   MaxAbsScaler LightGBM                          0:00:41       0.8301    0.8301\n",
      "         1   MaxAbsScaler XGBoostClassifier                 0:00:42       0.8427    0.8427\n",
      "         2   MaxAbsScaler ExtremeRandomTrees                0:00:39       0.8369    0.8427\n",
      "         3   MaxAbsScaler RandomForest                      0:05:14       0.8403    0.8427\n",
      "         4   StandardScalerWrapper LightGBM                 0:00:39       0.8449    0.8449\n",
      "         5   SparseNormalizer XGBoostClassifier             0:05:11       0.8359    0.8449\n",
      "         6   SparseNormalizer RandomForest                  0:05:15       0.8440    0.8449\n",
      "         7   MinMaxScaler RandomForest                      0:00:40       0.8325    0.8449\n",
      "         8   StandardScalerWrapper LogisticRegression       0:00:40       0.8441    0.8449\n",
      "         9   StandardScalerWrapper XGBoostClassifier        0:00:39       0.8319    0.8449\n",
      "        10   RobustScaler ExtremeRandomTrees                0:00:40       0.8255    0.8449\n",
      "        11   SparseNormalizer XGBoostClassifier             0:00:40       0.8338    0.8449\n",
      "        12   MinMaxScaler ExtremeRandomTrees                0:00:40       0.8396    0.8449\n",
      "        13   MinMaxScaler ExtremeRandomTrees                0:00:45       0.8429    0.8449\n",
      "        14   SparseNormalizer LightGBM                      0:00:40       0.8399    0.8449\n",
      "        15   MaxAbsScaler ExtremeRandomTrees                0:00:52       0.8409    0.8449\n",
      "        16   StandardScalerWrapper XGBoostClassifier        0:00:43       0.8400    0.8449\n",
      "        17   StandardScalerWrapper RandomForest             0:00:46       0.8212    0.8449\n",
      "        18   MaxAbsScaler LightGBM                          0:00:40       0.8427    0.8449\n",
      "        19   MaxAbsScaler LogisticRegression                0:00:43       0.8438    0.8449\n",
      "        20   StandardScalerWrapper ExtremeRandomTrees       0:00:46       0.8396    0.8449\n",
      "        21   StandardScalerWrapper XGBoostClassifier        0:00:42       0.8350    0.8449\n",
      "        22   MaxAbsScaler LogisticRegression                0:00:35          nan    0.8449\n",
      "ERROR: {\n",
      "    \"additional_properties\": {},\n",
      "    \"error\": {\n",
      "        \"additional_properties\": {\n",
      "            \"debugInfo\": {\n",
      "                \"type\": \"RuntimeError\",\n",
      "                \"message\": \"dictionary changed size during iteration\",\n",
      "                \"stackTrace\": \"  File \\\"/mnt/batch/tasks/shared/LS_root/jobs/quick-starts-ws-159333/azureml/automl_78a45b32-8739-4c0b-a14d-2ce6e71df070_22/wd/azureml/AutoML_78a45b32-8739-4c0b-a14d-2ce6e71df070_22/azureml-setup/context_manager_injector.py\\\", line 85, in __exit__\\n    self.context_manager.__exit__(*exc_details)\\n  File \\\"/mnt/batch/tasks/shared/LS_root/jobs/quick-starts-ws-159333/azureml/automl_78a45b32-8739-4c0b-a14d-2ce6e71df070_22/wd/azureml/AutoML_78a45b32-8739-4c0b-a14d-2ce6e71df070_22/azureml-setup/context_managers.py\\\", line 390, in __exit__\\n    self.history_context.__exit__(*args)\\n  File \\\"/azureml-envs/azureml_732632de80c129004c31329a710852e7/lib/python3.6/site-packages/azureml/_history/utils/context_managers.py\\\", line 56, in __exit__\\n    return self._exit_stack.__exit__(*args)\\n  File \\\"/azureml-envs/azureml_732632de80c129004c31329a710852e7/lib/python3.6/contextlib.py\\\", line 380, in __exit__\\n    raise exc_details[1]\\n  File \\\"/azureml-envs/azureml_732632de80c129004c31329a710852e7/lib/python3.6/contextlib.py\\\", line 365, in __exit__\\n    if cb(*exc_details):\\n  File \\\"/azureml-envs/azureml_732632de80c129004c31329a710852e7/lib/python3.6/contextlib.py\\\", line 284, in _exit_wrapper\\n    return cm_exit(cm, *exc_details)\\n  File \\\"/azureml-envs/azureml_732632de80c129004c31329a710852e7/lib/python3.6/site-packages/azureml/_history/utils/context_managers.py\\\", line 168, in __exit__\\n    _RunBase._kill(timeout=self._kill_timeout)\\n  File \\\"/azureml-envs/azureml_732632de80c129004c31329a710852e7/lib/python3.6/site-packages/azureml/_run_impl/run_base.py\\\", line 181, in _kill\\n    handler(timeout)\\n  File \\\"/azureml-envs/azureml_732632de80c129004c31329a710852e7/lib/python3.6/site-packages/azureml/_run_impl/run_base.py\\\", line 191, in _cleanup\\n    self._client.flush(timeout)\\n  File \\\"/azureml-envs/azureml_732632de80c129004c31329a710852e7/lib/python3.6/site-packages/azureml/_run_impl/run_history_facade.py\\\", line 683, in flush\\n    self.metrics.flush(timeout_seconds=timeout_seconds)\\n  File \\\"/azureml-envs/azureml_732632de80c129004c31329a710852e7/lib/python3.6/site-packages/azureml/_restclient/metrics_client.py\\\", line 394, in flush\\n    self._task_queue_v2.flush(self.identity, timeout_seconds=timeout_seconds)\\n  File \\\"/azureml-envs/azureml_732632de80c129004c31329a710852e7/lib/python3.6/site-packages/azureml/_common/async_utils/batch_task_queue.py\\\", line 89, in flush\\n    super(BatchTaskQueue, self).flush(*args, **kwargs)\\n  File \\\"/azureml-envs/azureml_732632de80c129004c31329a710852e7/lib/python3.6/site-packages/azureml/_common/async_utils/task_queue.py\\\", line 118, in flush\\n    self._results.extend((task.wait(awaiter_name=self.identity) for task in completed_tasks))\\n  File \\\"/azureml-envs/azureml_732632de80c129004c31329a710852e7/lib/python3.6/site-packages/azureml/_common/async_utils/task_queue.py\\\", line 118, in <genexpr>\\n    self._results.extend((task.wait(awaiter_name=self.identity) for task in completed_tasks))\\n  File \\\"/azureml-envs/azureml_732632de80c129004c31329a710852e7/lib/python3.6/site-packages/azureml/_common/async_utils/async_task.py\\\", line 58, in wait\\n    res = self._handler(self._future, self._logger)\\n  File \\\"/azureml-envs/azureml_732632de80c129004c31329a710852e7/lib/python3.6/site-packages/azureml/_common/async_utils/async_task.py\\\", line 16, in basic_handler\\n    return future.result()\\n  File \\\"/azureml-envs/azureml_732632de80c129004c31329a710852e7/lib/python3.6/concurrent/futures/_base.py\\\", line 398, in result\\n    return self.__get_result()\\n  File \\\"/azureml-envs/azureml_732632de80c129004c31329a710852e7/lib/python3.6/concurrent/futures/_base.py\\\", line 357, in __get_result\\n    raise self._exception\\n  File \\\"/azureml-envs/azureml_732632de80c129004c31329a710852e7/lib/python3.6/concurrent/futures/thread.py\\\", line 55, in run\\n    result = self.fn(*self.args, **self.kwargs)\\n  File \\\"/azureml-envs/azureml_732632de80c129004c31329a710852e7/lib/python3.6/site-packages/azureml/_restclient/metrics_client.py\\\", line 475, in _log_batch_v2\\n    batch_metric_dto, is_async=is_async)\\n  File \\\"/azureml-envs/azureml_732632de80c129004c31329a710852e7/lib/python3.6/site-packages/azureml/_restclient/run_client.py\\\", line 575, in _execute_with_workspace_run_arguments\\n    return self._execute_with_arguments(func, workspace_run_arguments, *args, **kwargs)\\n  File \\\"/azureml-envs/azureml_732632de80c129004c31329a710852e7/lib/python3.6/site-packages/azureml/_restclient/clientbase.py\\\", line 589, in _execute_with_arguments\\n    return self._call_api(func, *args_list, **kwargs)\\n  File \\\"/azureml-envs/azureml_732632de80c129004c31329a710852e7/lib/python3.6/site-packages/azureml/_restclient/clientbase.py\\\", line 245, in _call_api\\n    return self._execute_with_base_arguments(func, *args, **kwargs)\\n  File \\\"/azureml-envs/azureml_732632de80c129004c31329a710852e7/lib/python3.6/site-packages/azureml/_restclient/clientbase.py\\\", line 334, in _execute_with_base_arguments\\n    back_off, total_retry, self._logger, func, _noop_reset, *args, **kwargs)\\n  File \\\"/azureml-envs/azureml_732632de80c129004c31329a710852e7/lib/python3.6/site-packages/azureml/_restclient/clientbase.py\\\", line 367, in _execute_func_internal\\n    left_retry = cls._handle_retry(back_off, left_retry, total_retry, error, logger, func)\\n  File \\\"/azureml-envs/azureml_732632de80c129004c31329a710852e7/lib/python3.6/site-packages/azureml/_restclient/clientbase.py\\\", line 433, in _handle_retry\\n    raise error\\n  File \\\"/azureml-envs/azureml_732632de80c129004c31329a710852e7/lib/python3.6/site-packages/azureml/_restclient/clientbase.py\\\", line 358, in _execute_func_internal\\n    response = func(*args, **kwargs)\\n  File \\\"/azureml-envs/azureml_732632de80c129004c31329a710852e7/lib/python3.6/site-packages/azureml/_restclient/metrics_client.py\\\", line 483, in _post_run_metrics_log_failed_validations\\n    **operation_config)\\n  File \\\"/azureml-envs/azureml_732632de80c129004c31329a710852e7/lib/python3.6/site-packages/azureml/_restclient/operations/metric_operations.py\\\", line 224, in post_run_metrics\\n    request, header_parameters, body_content, stream=False, **operation_config)\\n  File \\\"/azureml-envs/azureml_732632de80c129004c31329a710852e7/lib/python3.6/site-packages/msrest/service_client.py\\\", line 336, in send\\n    pipeline_response = self.config.pipeline.run(request, **kwargs)\\n  File \\\"/azureml-envs/azureml_732632de80c129004c31329a710852e7/lib/python3.6/site-packages/msrest/pipeline/__init__.py\\\", line 197, in run\\n    return first_node.send(pipeline_request, **kwargs)  # type: ignore\\n  File \\\"/azureml-envs/azureml_732632de80c129004c31329a710852e7/lib/python3.6/site-packages/msrest/pipeline/__init__.py\\\", line 150, in send\\n    response = self.next.send(request, **kwargs)\\n  File \\\"/azureml-envs/azureml_732632de80c129004c31329a710852e7/lib/python3.6/site-packages/msrest/pipeline/requests.py\\\", line 72, in send\\n    return self.next.send(request, **kwargs)\\n  File \\\"/azureml-envs/azureml_732632de80c129004c31329a710852e7/lib/python3.6/site-packages/msrest/pipeline/requests.py\\\", line 137, in send\\n    return self.next.send(request, **kwargs)\\n  File \\\"/azureml-envs/azureml_732632de80c129004c31329a710852e7/lib/python3.6/site-packages/msrest/pipeline/__init__.py\\\", line 150, in send\\n    response = self.next.send(request, **kwargs)\\n  File \\\"/azureml-envs/azureml_732632de80c129004c31329a710852e7/lib/python3.6/site-packages/msrest/pipeline/requests.py\\\", line 193, in send\\n    self.driver.send(request.http_request, **kwargs)\\n  File \\\"/azureml-envs/azureml_732632de80c129004c31329a710852e7/lib/python3.6/site-packages/msrest/universal_http/requests.py\\\", line 333, in send\\n    return super(RequestsHTTPSender, self).send(request, **requests_kwargs)\\n  File \\\"/azureml-envs/azureml_732632de80c129004c31329a710852e7/lib/python3.6/site-packages/msrest/universal_http/requests.py\\\", line 142, in send\\n    **kwargs)\\n  File \\\"/azureml-envs/azureml_732632de80c129004c31329a710852e7/lib/python3.6/site-packages/requests/sessions.py\\\", line 542, in request\\n    resp = self.send(prep, **send_kwargs)\\n  File \\\"/azureml-envs/azureml_732632de80c129004c31329a710852e7/lib/python3.6/site-packages/requests/sessions.py\\\", line 636, in send\\n    kwargs.setdefault('proxies', self.rebuild_proxies(request, self.proxies))\\n  File \\\"/azureml-envs/azureml_732632de80c129004c31329a710852e7/lib/python3.6/site-packages/requests/sessions.py\\\", line 292, in rebuild_proxies\\n    bypass_proxy = should_bypass_proxies(url, no_proxy=no_proxy)\\n  File \\\"/azureml-envs/azureml_732632de80c129004c31329a710852e7/lib/python3.6/site-packages/requests/utils.py\\\", line 781, in should_bypass_proxies\\n    bypass = proxy_bypass(parsed.hostname)\\n  File \\\"/azureml-envs/azureml_732632de80c129004c31329a710852e7/lib/python3.6/urllib/request.py\\\", line 2497, in proxy_bypass_environment\\n    proxies = getproxies_environment()\\n  File \\\"/azureml-envs/azureml_732632de80c129004c31329a710852e7/lib/python3.6/urllib/request.py\\\", line 2470, in getproxies_environment\\n    for name, value in os.environ.items():\\n  File \\\"/azureml-envs/azureml_732632de80c129004c31329a710852e7/lib/python3.6/_collections_abc.py\\\", line 743, in __iter__\\n    for key in self._mapping:\\n  File \\\"/azureml-envs/azureml_732632de80c129004c31329a710852e7/lib/python3.6/os.py\\\", line 688, in __iter__\\n    for key in self._data:\\n\",\n",
      "                \"innerException\": null,\n",
      "                \"data\": null,\n",
      "                \"errorResponse\": null\n",
      "            }\n",
      "        },\n",
      "        \"code\": \"ServiceError\",\n",
      "        \"severity\": null,\n",
      "        \"message\": \"RunHistory finalization failed: dictionary changed size during iteration\",\n",
      "        \"message_format\": null,\n",
      "        \"message_parameters\": {},\n",
      "        \"reference_code\": null,\n",
      "        \"details_uri\": null,\n",
      "        \"target\": null,\n",
      "        \"details\": [],\n",
      "        \"inner_error\": null,\n",
      "        \"additional_info\": null\n",
      "    },\n",
      "    \"correlation\": null,\n",
      "    \"environment\": null,\n",
      "    \"location\": null,\n",
      "    \"time\": {},\n",
      "    \"component_name\": null\n",
      "}\n",
      "        23   StandardScalerWrapper XGBoostClassifier        0:00:43       0.8327    0.8449\n",
      "        24   StandardScalerWrapper XGBoostClassifier        0:00:42       0.8406    0.8449\n",
      "        25   PCA LightGBM                                   0:00:38       0.6562    0.8449\n",
      "        26   MaxAbsScaler LogisticRegression                0:00:40       0.8440    0.8449\n",
      "        27   MinMaxScaler LogisticRegression                0:00:41       0.8440    0.8449\n",
      "        28   MinMaxScaler LightGBM                          0:00:40       0.8336    0.8449\n",
      "        29   SparseNormalizer XGBoostClassifier             0:01:06       0.8093    0.8449\n",
      "        30   SparseNormalizer LightGBM                      0:00:40       0.8426    0.8449\n",
      "        31   SparseNormalizer XGBoostClassifier             0:00:47       0.8352    0.8449\n",
      "        32   SparseNormalizer XGBoostClassifier             0:00:44       0.8312    0.8449\n",
      "        33   StandardScalerWrapper XGBoostClassifier        0:00:45       0.8228    0.8449\n",
      "        34   MinMaxScaler LightGBM                          0:00:31       0.8480    0.8480\n",
      "        35   RobustScaler LightGBM                          0:00:21       0.8361    0.8480\n",
      "        36                                                  0:00:36          nan    0.8480\n",
      "        37                                                  0:00:03          nan    0.8480\n",
      "        38   PCA LightGBM                                   0:00:37       0.6527    0.8480\n",
      "        39   TruncatedSVDWrapper XGBoostClassifier          0:00:52       0.8170    0.8480\n",
      "        40   MaxAbsScaler RandomForest                      0:00:48       0.8359    0.8480\n",
      "        41   TruncatedSVDWrapper XGBoostClassifier          0:00:41       0.8251    0.8480\n",
      "        42   TruncatedSVDWrapper XGBoostClassifier          0:00:49       0.8208    0.8480\n",
      "        43   StandardScalerWrapper LogisticRegression       0:00:39       0.8438    0.8480\n",
      "        44   MaxAbsScaler LightGBM                          0:00:41       0.8293    0.8480\n",
      "        45   PCA LightGBM                                   0:00:40       0.6583    0.8480\n",
      "        46   RobustScaler LogisticRegression                0:00:41       0.8439    0.8480\n",
      "        47   StandardScalerWrapper LogisticRegression       0:00:43       0.8441    0.8480\n",
      "        48   MaxAbsScaler ExtremeRandomTrees                0:00:41       0.8428    0.8480\n",
      "        49   TruncatedSVDWrapper XGBoostClassifier          0:00:48       0.8239    0.8480\n",
      "        50   PCA LightGBM                                   0:00:40       0.6553    0.8480\n",
      "        51   SparseNormalizer XGBoostClassifier             0:00:32       0.8133    0.8480\n",
      "        52   StandardScalerWrapper RandomForest             0:00:30          nan    0.8480\n",
      "        53   SparseNormalizer XGBoostClassifier             0:00:19       0.8412    0.8480\n",
      "        54                                                  0:00:33          nan    0.8480\n",
      "        55    VotingEnsemble                                0:01:19       0.8495    0.8495\n",
      "        56    StackEnsemble                                 0:01:32       0.8485    0.8495\n"
     ]
    },
    {
     "data": {
      "text/plain": [
       "{'runId': 'AutoML_78a45b32-8739-4c0b-a14d-2ce6e71df070',\n",
       " 'target': 'automl-cluster',\n",
       " 'status': 'Completed',\n",
       " 'startTimeUtc': '2021-09-26T13:46:48.381314Z',\n",
       " 'endTimeUtc': '2021-09-26T14:13:54.25214Z',\n",
       " 'properties': {'num_iterations': '1000',\n",
       "  'training_type': 'TrainFull',\n",
       "  'acquisition_function': 'EI',\n",
       "  'primary_metric': 'AUC_weighted',\n",
       "  'train_split': '0',\n",
       "  'acquisition_parameter': '0',\n",
       "  'num_cross_validation': '7',\n",
       "  'target': 'automl-cluster',\n",
       "  'AMLSettingsJsonString': '{\"path\":null,\"name\":\"capstone-project\",\"subscription_id\":\"61c5c3f0-6dc7-4ed9-a7f3-c704b20e3b30\",\"resource_group\":\"aml-quickstarts-159333\",\"workspace_name\":\"quick-starts-ws-159333\",\"region\":\"southcentralus\",\"compute_target\":\"automl-cluster\",\"spark_service\":null,\"azure_service\":\"remote\",\"many_models\":false,\"pipeline_fetch_max_batch_size\":1,\"enable_batch_run\":false,\"enable_run_restructure\":false,\"start_auxiliary_runs_before_parent_complete\":false,\"enable_code_generation\":false,\"iterations\":1000,\"primary_metric\":\"AUC_weighted\",\"task_type\":\"classification\",\"data_script\":null,\"test_size\":0.0,\"validation_size\":0.0,\"n_cross_validations\":7,\"y_min\":null,\"y_max\":null,\"num_classes\":null,\"featurization\":\"auto\",\"_ignore_package_version_incompatibilities\":false,\"is_timeseries\":false,\"max_cores_per_iteration\":1,\"max_concurrent_iterations\":5,\"iteration_timeout_minutes\":null,\"mem_in_mb\":null,\"enforce_time_on_windows\":false,\"experiment_timeout_minutes\":25,\"experiment_exit_score\":null,\"whitelist_models\":null,\"blacklist_algos\":[\"TensorFlowLinearClassifier\",\"TensorFlowDNN\"],\"supported_models\":[\"XGBoostClassifier\",\"SVM\",\"LightGBM\",\"SGD\",\"RandomForest\",\"BernoulliNaiveBayes\",\"MultinomialNaiveBayes\",\"DecisionTree\",\"LogisticRegression\",\"GradientBoosting\",\"TensorFlowLinearClassifier\",\"ExtremeRandomTrees\",\"KNN\",\"TensorFlowDNN\",\"AveragedPerceptronClassifier\",\"LinearSVM\"],\"private_models\":[],\"auto_blacklist\":true,\"blacklist_samples_reached\":false,\"exclude_nan_labels\":true,\"verbosity\":20,\"_debug_log\":\"azureml_automl.log\",\"show_warnings\":false,\"model_explainability\":true,\"service_url\":null,\"sdk_url\":null,\"sdk_packages\":null,\"enable_onnx_compatible_models\":false,\"enable_split_onnx_featurizer_estimator_models\":false,\"vm_type\":\"STANDARD_D2_V2\",\"telemetry_verbosity\":20,\"send_telemetry\":true,\"enable_dnn\":false,\"scenario\":\"SDK-1.13.0\",\"environment_label\":null,\"save_mlflow\":false,\"force_text_dnn\":false,\"enable_feature_sweeping\":true,\"enable_early_stopping\":true,\"early_stopping_n_iters\":10,\"metrics\":null,\"enable_metric_confidence\":false,\"enable_ensembling\":true,\"enable_stack_ensembling\":true,\"ensemble_iterations\":15,\"enable_tf\":false,\"enable_subsampling\":null,\"subsample_seed\":null,\"enable_nimbusml\":false,\"enable_streaming\":false,\"force_streaming\":false,\"track_child_runs\":true,\"allowed_private_models\":[],\"label_column_name\":\"Churn\",\"weight_column_name\":null,\"cv_split_column_names\":null,\"enable_local_managed\":false,\"_local_managed_run_id\":null,\"cost_mode\":1,\"lag_length\":0,\"metric_operation\":\"maximize\",\"preprocess\":true}',\n",
       "  'DataPrepJsonString': '{\\\\\"training_data\\\\\": {\\\\\"datasetId\\\\\": \\\\\"e9bc2787-232a-46bc-a474-fc190fd96ac2\\\\\"}, \\\\\"datasets\\\\\": 0}',\n",
       "  'EnableSubsampling': None,\n",
       "  'runTemplate': 'AutoML',\n",
       "  'azureml.runsource': 'automl',\n",
       "  'display_task_type': 'classification',\n",
       "  'dependencies_versions': '{\"azureml-widgets\": \"1.33.0\", \"azureml-train\": \"1.33.0\", \"azureml-train-restclients-hyperdrive\": \"1.33.0\", \"azureml-train-core\": \"1.33.0\", \"azureml-train-automl\": \"1.33.0\", \"azureml-train-automl-runtime\": \"1.33.0\", \"azureml-train-automl-client\": \"1.33.0\", \"azureml-tensorboard\": \"1.33.0\", \"azureml-telemetry\": \"1.33.0\", \"azureml-sdk\": \"1.33.0\", \"azureml-samples\": \"0+unknown\", \"azureml-responsibleai\": \"1.33.0\", \"azureml-pipeline\": \"1.33.0\", \"azureml-pipeline-steps\": \"1.33.0\", \"azureml-pipeline-core\": \"1.33.0\", \"azureml-opendatasets\": \"1.33.0\", \"azureml-mlflow\": \"1.33.0\", \"azureml-interpret\": \"1.33.0\", \"azureml-explain-model\": \"1.33.0\", \"azureml-defaults\": \"1.33.0\", \"azureml-dataset-runtime\": \"1.33.0\", \"azureml-dataprep\": \"2.20.1\", \"azureml-dataprep-rslex\": \"1.18.0\", \"azureml-dataprep-native\": \"38.0.0\", \"azureml-datadrift\": \"1.33.0\", \"azureml-core\": \"1.33.0\", \"azureml-contrib-services\": \"1.33.0\", \"azureml-contrib-server\": \"1.33.0\", \"azureml-contrib-reinforcementlearning\": \"1.33.0\", \"azureml-contrib-pipeline-steps\": \"1.33.0\", \"azureml-contrib-notebook\": \"1.33.0\", \"azureml-contrib-fairness\": \"1.33.0\", \"azureml-contrib-dataset\": \"1.33.0\", \"azureml-cli-common\": \"1.33.0\", \"azureml-automl-runtime\": \"1.33.0\", \"azureml-automl-dnn-nlp\": \"1.33.0\", \"azureml-automl-core\": \"1.33.0\", \"azureml-accel-models\": \"1.33.0\"}',\n",
       "  '_aml_system_scenario_identification': 'Remote.Parent',\n",
       "  'ClientType': 'SDK',\n",
       "  'environment_cpu_name': 'AzureML-AutoML',\n",
       "  'environment_cpu_label': 'prod',\n",
       "  'environment_gpu_name': 'AzureML-AutoML-GPU',\n",
       "  'environment_gpu_label': 'prod',\n",
       "  'root_attribution': 'automl',\n",
       "  'attribution': 'AutoML',\n",
       "  'Orchestrator': 'AutoML',\n",
       "  'CancelUri': 'https://southcentralus.api.azureml.ms/jasmine/v1.0/subscriptions/61c5c3f0-6dc7-4ed9-a7f3-c704b20e3b30/resourceGroups/aml-quickstarts-159333/providers/Microsoft.MachineLearningServices/workspaces/quick-starts-ws-159333/experimentids/6ee5ce8f-e0ad-471b-b53c-5cb94ed458e9/cancel/AutoML_78a45b32-8739-4c0b-a14d-2ce6e71df070',\n",
       "  'ClientSdkVersion': '1.34.0.post1',\n",
       "  'snapshotId': '00000000-0000-0000-0000-000000000000',\n",
       "  'SetupRunId': 'AutoML_78a45b32-8739-4c0b-a14d-2ce6e71df070_setup',\n",
       "  'SetupRunContainerId': 'dcid.AutoML_78a45b32-8739-4c0b-a14d-2ce6e71df070_setup',\n",
       "  'FeaturizationRunJsonPath': 'featurizer_container.json',\n",
       "  'FeaturizationRunId': 'AutoML_78a45b32-8739-4c0b-a14d-2ce6e71df070_featurize',\n",
       "  'ProblemInfoJsonString': '{\"dataset_num_categorical\": 0, \"is_sparse\": false, \"subsampling\": false, \"has_extra_col\": true, \"dataset_classes\": 2, \"dataset_features\": 24, \"dataset_samples\": 5274, \"single_frequency_class_detected\": false}',\n",
       "  'ModelExplainRunId': 'AutoML_78a45b32-8739-4c0b-a14d-2ce6e71df070_ModelExplain'},\n",
       " 'inputDatasets': [{'dataset': {'id': 'e9bc2787-232a-46bc-a474-fc190fd96ac2'}, 'consumptionDetails': {'type': 'RunInput', 'inputName': 'training_data', 'mechanism': 'Direct'}}],\n",
       " 'outputDatasets': [],\n",
       " 'logFiles': {},\n",
       " 'submittedBy': 'ODL_User 159333'}"
      ]
     },
     "execution_count": 22,
     "metadata": {},
     "output_type": "execute_result"
    }
   ],
   "source": [
    "from azureml.widgets import RunDetails\n",
    "RunDetails(remote_run).show()\n",
    "remote_run.wait_for_completion(show_output=True)\n"
   ]
  },
  {
   "cell_type": "markdown",
   "metadata": {},
   "source": [
    "## Best Model\n",
    "\n",
    "TODO: In the cell below, get the best model from the automl experiments and display all the properties of the model.\n",
    "\n"
   ]
  },
  {
   "cell_type": "code",
   "execution_count": 23,
   "metadata": {
    "collapsed": false,
    "gather": {
     "logged": 1598431425670
    },
    "jupyter": {
     "outputs_hidden": false,
     "source_hidden": false
    },
    "nteract": {
     "transient": {
      "deleting": false
     }
    }
   },
   "outputs": [
    {
     "name": "stderr",
     "output_type": "stream",
     "text": [
      "WARNING:root:The version of the SDK does not match the version the model was trained on.\n",
      "WARNING:root:The consistency in the result may not be guaranteed.\n",
      "WARNING:root:Package:azureml-automl-core, training version:1.34.0.post1, current version:1.33.0\n",
      "Package:azureml-automl-runtime, training version:1.34.0.post1, current version:1.33.0\n",
      "Package:azureml-core, training version:1.34.0, current version:1.33.0\n",
      "Package:azureml-dataprep, training version:2.22.2, current version:2.20.1\n",
      "Package:azureml-dataprep-rslex, training version:1.20.2, current version:1.18.0\n",
      "Package:azureml-dataset-runtime, training version:1.34.0, current version:1.33.0\n",
      "Package:azureml-defaults, training version:1.34.0, current version:1.33.0\n",
      "Package:azureml-interpret, training version:1.34.0, current version:1.33.0\n",
      "Package:azureml-mlflow, training version:1.34.0, current version:1.33.0\n",
      "Package:azureml-pipeline-core, training version:1.34.0, current version:1.33.0\n",
      "Package:azureml-responsibleai, training version:1.34.0, current version:1.33.0\n",
      "Package:azureml-telemetry, training version:1.34.0, current version:1.33.0\n",
      "Package:azureml-train-automl-client, training version:1.34.0, current version:1.33.0\n",
      "Package:azureml-train-automl-runtime, training version:1.34.0.post1, current version:1.33.0\n",
      "WARNING:root:Below packages were used for model training but missing in current environment:\n",
      "WARNING:root:Package:azureml-inference-server-http, training version:0.3.1\n",
      "WARNING:root:Please ensure the version of your local conda dependencies match the version on which your model was trained in order to properly retrieve your model.\n"
     ]
    },
    {
     "name": "stdout",
     "output_type": "stream",
     "text": [
      "Pipeline(memory=None,\n",
      "         steps=[('datatransformer',\n",
      "                 DataTransformer(enable_dnn=False, enable_feature_sweeping=True, feature_sweeping_config={}, feature_sweeping_timeout=86400, featurization_config=None, force_text_dnn=False, is_cross_validation=True, is_onnx_compatible=False, observer=None, task='classification', working_dir='/mnt/batch/tasks/shared/LS_root/mount...\n",
      "), random_state=0, reg_alpha=0, reg_lambda=0.10416666666666667, subsample=0.7, tree_method='auto'))], verbose=False)), ('13', Pipeline(memory=None, steps=[('minmaxscaler', MinMaxScaler(copy=True, feature_range=(0, 1))), ('extratreesclassifier', ExtraTreesClassifier(bootstrap=False, ccp_alpha=0.0, class_weight='balanced', criterion='gini', max_depth=None, max_features=0.9, max_leaf_nodes=None, max_samples=None, min_impurity_decrease=0.0, min_impurity_split=None, min_samples_leaf=0.01, min_samples_split=0.01, min_weight_fraction_leaf=0.0, n_estimators=25, n_jobs=1, oob_score=False, random_state=None, verbose=0, warm_start=False))], verbose=False)), ('48', Pipeline(memory=None, steps=[('maxabsscaler', MaxAbsScaler(copy=True)), ('extratreesclassifier', ExtraTreesClassifier(bootstrap=True, ccp_alpha=0.0, class_weight=None, criterion='entropy', max_depth=None, max_features=None, max_leaf_nodes=None, max_samples=None, min_impurity_decrease=0.0, min_impurity_split=None, min_samples_leaf=0.01, min_samples_split=0.01, min_weight_fraction_leaf=0.0, n_estimators=10, n_jobs=1, oob_score=True, random_state=None, verbose=0, warm_start=False))], verbose=False)), ('45', Pipeline(memory=None, steps=[('pca', PCA(copy=True, iterated_power='auto', n_components=0.40578947368421053, random_state=None, svd_solver='auto', tol=0.0, whiten=False)), ('lightgbmclassifier', LightGBMClassifier(boosting_type='gbdt', colsample_bytree=0.4955555555555555, learning_rate=1e-05, max_bin=30, max_depth=7, min_child_weight=2, min_data_in_leaf=0.024145517241379314, min_split_gain=0.9473684210526315, n_estimators=50, n_jobs=1, num_leaves=179, problem_info=ProblemInfo(), random_state=None, reg_alpha=0.8421052631578947, reg_lambda=0.3157894736842105, subsample=0.6931578947368422))], verbose=False))], flatten_transform=None, weights=[0.26666666666666666, 0.06666666666666667, 0.06666666666666667, 0.06666666666666667, 0.06666666666666667, 0.13333333333333333, 0.06666666666666667, 0.06666666666666667, 0.2]))],\n",
      "         verbose=False)\n"
     ]
    }
   ],
   "source": [
    "best_automl, best_fit_model = remote_run.get_output()\n",
    "print(best_fit_model)"
   ]
  },
  {
   "cell_type": "code",
   "execution_count": 24,
   "metadata": {},
   "outputs": [
    {
     "name": "stdout",
     "output_type": "stream",
     "text": [
      "Run(Experiment: capstone-project,\n",
      "Id: AutoML_78a45b32-8739-4c0b-a14d-2ce6e71df070_55,\n",
      "Type: azureml.scriptrun,\n",
      "Status: Completed)\n"
     ]
    }
   ],
   "source": [
    "print(best_automl)"
   ]
  },
  {
   "cell_type": "code",
   "execution_count": 25,
   "metadata": {
    "collapsed": false,
    "gather": {
     "logged": 1598431426111
    },
    "jupyter": {
     "outputs_hidden": false,
     "source_hidden": false
    },
    "nteract": {
     "transient": {
      "deleting": false
     }
    }
   },
   "outputs": [
    {
     "data": {
      "text/plain": [
       "['best_fit_automl_model.pkl']"
      ]
     },
     "execution_count": 25,
     "metadata": {},
     "output_type": "execute_result"
    }
   ],
   "source": [
    "#TODO: Save the best model\n",
    "joblib.dump(best_fit_model, 'best_fit_automl_model.pkl')"
   ]
  },
  {
   "cell_type": "code",
   "execution_count": 18,
   "metadata": {},
   "outputs": [],
   "source": [
    "#joblib.dump(best_fit_model,'./outputs/bestmodel.joblib')\n",
    "#best_class.register_model(model_name='best_fit_automl_model.pkl',model_path='/outputs/')"
   ]
  },
  {
   "cell_type": "markdown",
   "metadata": {},
   "source": [
    "## Model Deployment\n",
    "\n",
    "Remember you have to deploy only one of the two models you trained.. Perform the steps in the rest of this notebook only if you wish to deploy this model.\n",
    "\n",
    "TODO: In the cell below, register the model, create an inference config and deploy the model as a web service."
   ]
  },
  {
   "cell_type": "code",
   "execution_count": 26,
   "metadata": {
    "collapsed": false,
    "gather": {
     "logged": 1598431435189
    },
    "jupyter": {
     "outputs_hidden": false,
     "source_hidden": false
    },
    "nteract": {
     "transient": {
      "deleting": false
     }
    }
   },
   "outputs": [
    {
     "name": "stdout",
     "output_type": "stream",
     "text": [
      "Registering model best_fit_automl_model\n",
      "best_fit_automl_model\tbest_fit_automl_model:1\t1\n"
     ]
    }
   ],
   "source": [
    "from azureml.core.model import Model\n",
    "model = Model.register(workspace = ws, model_name = 'best_fit_automl_model', model_path = 'best_fit_automl_model.pkl')\n",
    "print(model.name, model.id, model.version, sep='\\t')"
   ]
  },
  {
   "cell_type": "markdown",
   "metadata": {
    "gather": {
     "logged": 1598431657736
    },
    "jupyter": {
     "outputs_hidden": false,
     "source_hidden": false
    },
    "nteract": {
     "transient": {
      "deleting": false
     }
    }
   },
   "source": [
    "TODO: In the cell below, send a request to the web service you deployed to test it."
   ]
  },
  {
   "cell_type": "code",
   "execution_count": 27,
   "metadata": {
    "collapsed": false,
    "gather": {
     "logged": 1598432707604
    },
    "jupyter": {
     "outputs_hidden": false,
     "source_hidden": false
    },
    "nteract": {
     "transient": {
      "deleting": false
     }
    }
   },
   "outputs": [
    {
     "name": "stdout",
     "output_type": "stream",
     "text": [
      "Tips: You can try get_logs(): https://aka.ms/debugimage#dockerlog or local deployment: https://aka.ms/debugimage#debug-locally to debug if deployment takes longer than 10 minutes.\n",
      "Running\n",
      "2021-09-26 14:19:29+00:00 Creating Container Registry if not exists..\n",
      "2021-09-26 14:29:29+00:00 Registering the environment.\n",
      "2021-09-26 14:29:30+00:00 Generating deployment configuration.\n",
      "2021-09-26 14:29:31+00:00 Submitting deployment to compute..\n",
      "2021-09-26 14:29:35+00:00 Checking the status of deployment customerservice..\n",
      "2021-09-26 14:34:37+00:00 Checking the status of inference endpoint customerservice.\n",
      "Succeeded\n",
      "ACI service creation operation finished, operation \"Succeeded\"\n",
      "Healthy\n",
      "http://f2d071d7-2a8f-46db-8f35-966004a4f42e.southcentralus.azurecontainer.io/score\n",
      "http://f2d071d7-2a8f-46db-8f35-966004a4f42e.southcentralus.azurecontainer.io/swagger.json\n"
     ]
    }
   ],
   "source": [
    "from azureml.core.environment import Environment\n",
    "from azureml.core.model import InferenceConfig\n",
    "from azureml.core.webservice import LocalWebservice, Webservice, AciWebservice\n",
    "from azureml.core.conda_dependencies import CondaDependencies\n",
    "import azureml.train.automl\n",
    "\n",
    "# Create the environment\n",
    "env = best_automl.get_environment()\n",
    "conda_dep = CondaDependencies()\n",
    "\n",
    "# Define the packages needed by the model and the script\n",
    "#conda_dep.add_conda_package(\"numpy\")\n",
    "#conda_dep.add_conda_package(\"scikit-learn\")\n",
    "#conda_dep.add_conda_package(\"pandas\")\n",
    "# Define azureml-defaults as a pip dependency\n",
    "#conda_dep.add_pip_package(\"azureml-defaults\")\n",
    "#conda_dep.add_pip_package(\"azureml-train\")\n",
    "\n",
    "# Adds dependencies to PythonSection of myenv\n",
    "#env.python.conda_dependencies=conda_dep\n",
    "\n",
    "inference_config = InferenceConfig(entry_script='score.py', environment=env)\n",
    "\n",
    "deployment_config = AciWebservice.deploy_configuration(cpu_cores=1, memory_gb=4, enable_app_insights=True)\n",
    "service = Model.deploy(ws, \"customerservice\", [model], inference_config, deployment_config)\n",
    "service.wait_for_deployment(show_output = True)\n",
    "\n",
    "print(service.state)\n",
    "print(service.scoring_uri)\n",
    "print(service.swagger_uri)"
   ]
  },
  {
   "cell_type": "markdown",
   "metadata": {
    "gather": {
     "logged": 1598432765711
    },
    "jupyter": {
     "outputs_hidden": false,
     "source_hidden": false
    },
    "nteract": {
     "transient": {
      "deleting": false
     }
    }
   },
   "source": [
    "TODO: In the cell below, print the logs of the web service and delete the service"
   ]
  },
  {
   "cell_type": "code",
   "execution_count": 35,
   "metadata": {},
   "outputs": [
    {
     "name": "stdout",
     "output_type": "stream",
     "text": [
      "Response Code :  200\n",
      "Predicted Value :  [1]\n"
     ]
    }
   ],
   "source": [
    "import requests\n",
    "import json\n",
    "\n",
    "# URL for the web service\n",
    "scoring_uri = 'http://f2d071d7-2a8f-46db-8f35-966004a4f42e.southcentralus.azurecontainer.io/score'\n",
    "\n",
    "# Set the content type\n",
    "headers = {'Content-Type': 'application/json'}\n",
    "\n",
    "# Two sets of data to score, so we get two results back\n",
    "data = {\"data\":\n",
    "        [{\n",
    "                \"gender_Male\" :0,\n",
    "                \"SeniorCitizen\":1,\n",
    "                \"Dependents\" :0,\n",
    "                \"Partner\" :0,\n",
    "                \"tenure\":2,\n",
    "                \"PhoneService\" :1,\n",
    "                \"MultipleLines\" :1,\n",
    "                \"InternetService_Fiber optic\" :1,\n",
    "                \"InternetService_No\":0,\n",
    "                \"OnlineSecurity\" :0,\n",
    "                \"OnlineBackup\" :1,\n",
    "                \"DeviceProtection\" :0,\n",
    "                \"TechSupport\" :0,\n",
    "                \"StreamingTV\" :0,\n",
    "                \"StreamingMovies\" :1,\n",
    "                \"Contract_One year\" : 0,\n",
    "                \"Contract_Two year\":0,\n",
    "                \"PaperlessBilling\" :1,\n",
    "                \"PaymentMethod_Bank transfer (automatic)\":0,\n",
    "                \"PaymentMethod_Credit card (automatic)\":0,\n",
    "                \"PaymentMethod_Mailed check\":0,\n",
    "                \"PaymentMethod_Electronic check\" :1,\n",
    "                \"MonthlyCharges\" : 55.7,\n",
    "                \"TotalCharges\" : 239.8 }\n",
    "        ]\n",
    "        }\n",
    "# Convert to JSON string\n",
    "input_data = json.dumps(data)\n",
    "\n",
    "# Make the request and display the response\n",
    "resp = requests.post(scoring_uri, input_data, headers=headers)\n",
    "\n",
    "print(\"Response Code : \", resp.status_code)\n",
    "print(\"Predicted Value : \",resp.text)"
   ]
  },
  {
   "cell_type": "code",
   "execution_count": 36,
   "metadata": {
    "collapsed": false,
    "jupyter": {
     "outputs_hidden": false,
     "source_hidden": false
    },
    "nteract": {
     "transient": {
      "deleting": false
     }
    }
   },
   "outputs": [
    {
     "name": "stdout",
     "output_type": "stream",
     "text": [
      "2021-09-26T14:34:32,852683600+00:00 - iot-server/run \n",
      "2021-09-26T14:34:32,851860200+00:00 - gunicorn/run \n",
      "Dynamic Python package installation is disabled.\n",
      "Starting HTTP server\n",
      "2021-09-26T14:34:32,874007800+00:00 - rsyslog/run \n",
      "2021-09-26T14:34:32,968172000+00:00 - nginx/run \n",
      "rsyslogd: /azureml-envs/azureml_732632de80c129004c31329a710852e7/lib/libuuid.so.1: no version information available (required by rsyslogd)\n",
      "EdgeHubConnectionString and IOTEDGE_IOTHUBHOSTNAME are not set. Exiting...\n",
      "2021-09-26T14:34:33,949403000+00:00 - iot-server/finish 1 0\n",
      "2021-09-26T14:34:33,951475000+00:00 - Exit code 1 is normal. Not restarting iot-server.\n",
      "Starting gunicorn 20.1.0\n",
      "Listening at: http://127.0.0.1:31311 (78)\n",
      "Using worker: sync\n",
      "worker timeout is set to 300\n",
      "Booting worker with pid: 108\n",
      "SPARK_HOME not set. Skipping PySpark Initialization.\n",
      "Generating new fontManager, this may take some time...\n",
      "Initializing logger\n",
      "2021-09-26 14:34:39,717 | root | INFO | Starting up app insights client\n",
      "logging socket was found. logging is available.\n",
      "logging socket was found. logging is available.\n",
      "2021-09-26 14:34:39,721 | root | INFO | Starting up request id generator\n",
      "2021-09-26 14:34:39,722 | root | INFO | Starting up app insight hooks\n",
      "2021-09-26 14:34:39,724 | root | INFO | Invoking user's init function\n",
      "2021-09-26 14:34:43,116 | root | INFO | Users's init has completed successfully\n",
      "/azureml-envs/azureml_732632de80c129004c31329a710852e7/lib/python3.6/site-packages/sklearn/externals/joblib/__init__.py:15: FutureWarning: sklearn.externals.joblib is deprecated in 0.21 and will be removed in 0.23. Please import this functionality directly from joblib, which can be installed with: pip install joblib. If this warning is raised when loading pickled models, you may need to re-serialize those models with scikit-learn 0.21+.\n",
      "  warnings.warn(msg, category=FutureWarning)\n",
      "2021-09-26 14:34:43,128 | root | INFO | Skipping middleware: dbg_model_info as it's not enabled.\n",
      "2021-09-26 14:34:43,129 | root | INFO | Skipping middleware: dbg_resource_usage as it's not enabled.\n",
      "2021-09-26 14:34:43,131 | root | INFO | Scoring timeout is found from os.environ: 60000 ms\n",
      "2021-09-26 14:34:43,236 | root | INFO | Swagger file not present\n",
      "2021-09-26 14:34:43,237 | root | INFO | 404\n",
      "127.0.0.1 - - [26/Sep/2021:14:34:43 +0000] \"GET /swagger.json HTTP/1.0\" 404 19 \"-\" \"Go-http-client/1.1\"\n",
      "2021-09-26 14:34:46,748 | root | INFO | Swagger file not present\n",
      "2021-09-26 14:34:46,749 | root | INFO | 404\n",
      "127.0.0.1 - - [26/Sep/2021:14:34:46 +0000] \"GET /swagger.json HTTP/1.0\" 404 19 \"-\" \"Go-http-client/1.1\"\n",
      "2021-09-26 14:35:15,213 | root | INFO | Scoring Timer is set to 60.0 seconds\n",
      "2021-09-26 14:35:15,222 | root | INFO | 200\n",
      "127.0.0.1 - - [26/Sep/2021:14:35:15 +0000] \"POST /score HTTP/1.0\" 200 898 \"-\" \"python-requests/2.26.0\"\n",
      "2021-09-26 14:36:14,552 | root | INFO | Scoring Timer is set to 60.0 seconds\n",
      "2021-09-26 14:36:14,765 | root | INFO | 200\n",
      "127.0.0.1 - - [26/Sep/2021:14:36:14 +0000] \"POST /score HTTP/1.0\" 200 3 \"-\" \"python-requests/2.26.0\"\n",
      "2021-09-26 14:36:28,824 | root | INFO | Scoring Timer is set to 60.0 seconds\n",
      "2021-09-26 14:36:29,000 | root | INFO | 200\n",
      "127.0.0.1 - - [26/Sep/2021:14:36:28 +0000] \"POST /score HTTP/1.0\" 200 3 \"-\" \"python-requests/2.26.0\"\n",
      "2021-09-26 14:36:34,706 | root | INFO | Scoring Timer is set to 60.0 seconds\n",
      "2021-09-26 14:36:34,907 | root | INFO | 200\n",
      "127.0.0.1 - - [26/Sep/2021:14:36:34 +0000] \"POST /score HTTP/1.0\" 200 3 \"-\" \"python-requests/2.26.0\"\n",
      "2021-09-26 14:36:39,870 | root | INFO | Scoring Timer is set to 60.0 seconds\n",
      "2021-09-26 14:36:40,060 | root | INFO | 200\n",
      "127.0.0.1 - - [26/Sep/2021:14:36:40 +0000] \"POST /score HTTP/1.0\" 200 3 \"-\" \"python-requests/2.26.0\"\n",
      "2021-09-26 14:36:44,959 | root | INFO | Scoring Timer is set to 60.0 seconds\n",
      "2021-09-26 14:36:45,136 | root | INFO | 200\n",
      "127.0.0.1 - - [26/Sep/2021:14:36:45 +0000] \"POST /score HTTP/1.0\" 200 3 \"-\" \"python-requests/2.26.0\"\n",
      "2021-09-26 14:36:50,677 | root | INFO | Scoring Timer is set to 60.0 seconds\n",
      "2021-09-26 14:36:50,857 | root | INFO | 200\n",
      "127.0.0.1 - - [26/Sep/2021:14:36:50 +0000] \"POST /score HTTP/1.0\" 200 3 \"-\" \"python-requests/2.26.0\"\n",
      "\n"
     ]
    }
   ],
   "source": [
    "# Web Service Logs\n",
    "print(service.get_logs())"
   ]
  },
  {
   "cell_type": "code",
   "execution_count": 26,
   "metadata": {},
   "outputs": [],
   "source": [
    "# Delete the service\n",
    "service.delete()"
   ]
  }
 ],
 "metadata": {
  "kernel_info": {
   "name": "python3-azureml"
  },
  "kernelspec": {
   "display_name": "Python 3",
   "language": "python",
   "name": "python3"
  },
  "language_info": {
   "codemirror_mode": {
    "name": "ipython",
    "version": 3
   },
   "file_extension": ".py",
   "mimetype": "text/x-python",
   "name": "python",
   "nbconvert_exporter": "python",
   "pygments_lexer": "ipython3",
   "version": "3.6.9"
  },
  "nteract": {
   "version": "nteract-front-end@1.0.0"
  }
 },
 "nbformat": 4,
 "nbformat_minor": 4
}
